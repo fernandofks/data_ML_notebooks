{
 "cells": [
  {
   "cell_type": "code",
   "execution_count": 11,
   "id": "b41f0b0f-cc96-43a2-ab7f-f3264587e7d2",
   "metadata": {
    "id": "b41f0b0f-cc96-43a2-ab7f-f3264587e7d2"
   },
   "outputs": [],
   "source": [
    "from pathlib import Path\n",
    "import matplotlib.pyplot as plt\n",
    "import numpy as np\n",
    "import pandas as pd\n",
    "import tensorflow as tf\n",
    "import tensorflow.keras as keras\n",
    "from tensorflow.python.keras.layers import Dense\n",
    "from numpy.random import default_rng\n",
    "from sklearn.model_selection import train_test_split"
   ]
  },
  {
   "cell_type": "code",
   "execution_count": 31,
   "id": "c9e9560b-749a-49a8-aedf-44a1ac9b4bb1",
   "metadata": {
    "id": "c9e9560b-749a-49a8-aedf-44a1ac9b4bb1"
   },
   "outputs": [],
   "source": [
    "# Loading pipeline params.\n",
    "DATA_PATH = Path('data')\n",
    "FILENAME_STOP = 'stop_90_diff_without_axis.csv'\n",
    "FILENAME_0 = '0_90_diff_without_axis.csv'\n",
    "FILENAME_90 = '90_90_diff_without_axis.csv'\n",
    "FILENAME_180 = '180_90_diff_without_axis.csv'\n",
    "FILENAME_270 = '270_90_diff_without_axis.csv'\n",
    "\n",
    "NUM_TIMESTEPS = 6\n",
    "IGNORE_FRACTION = 0.1\n",
    "TEST_FRACTION = 0.25\n",
    "\n",
    "# Training params.\n",
    "LEARNING_RATE = 1e-5\n",
    "EPOCHS = 100\n",
    "BATCH_SIZE = 512"
   ]
  },
  {
   "cell_type": "code",
   "execution_count": 32,
   "id": "7f52716d-1339-4484-9fd3-d5206979ba8e",
   "metadata": {
    "id": "7f52716d-1339-4484-9fd3-d5206979ba8e"
   },
   "outputs": [],
   "source": [
    "def load_data(\n",
    "    path_stop,\n",
    "    path_0,\n",
    "    path_90,\n",
    "    path_180,\n",
    "    path_270,\n",
    "    num_timesteps,\n",
    "    ignore_fraction,\n",
    "    test_fraction,\n",
    "):\n",
    "\n",
    "    def read_and_prepare_data(\n",
    "        path,\n",
    "        class_,\n",
    "        num_timesteps,\n",
    "        ignore_fraction,\n",
    "        test_fraction,\n",
    "    ):\n",
    "\n",
    "        def split_temporally(X, test_fraction):\n",
    "            num_samples = X.shape[0]\n",
    "            num_train = int(num_samples * (1.0 - test_fraction))\n",
    "            X_train, X_test = X[:num_train], X[num_train:]\n",
    "            return X_train, X_test\n",
    "\n",
    "        def transform_into_sequences(X, num_timesteps):\n",
    "            num_samples = X.shape[0]\n",
    "            X_seq = []\n",
    "            for k in range(num_samples - num_timesteps + 1):\n",
    "                X_seq.append(X[k:(k + num_timesteps)])\n",
    "            X_seq = np.array(X_seq)\n",
    "            y_seq = class_ * np.ones((X_seq.shape[0], 1))\n",
    "            return X_seq, y_seq\n",
    "\n",
    "        X = pd.read_csv(path).values\n",
    "        X = X[:, [0,1,2,7,8,9]]  # Use only feet translations.\n",
    "\n",
    "        # Ignore beginning and end.\n",
    "        num_samples = X.shape[0]\n",
    "        num_ignore = int(ignore_fraction * num_samples)\n",
    "        X = X[num_ignore:-num_ignore]\n",
    "\n",
    "        # Split X temporally.\n",
    "        X_train, X_test = split_temporally(X, test_fraction)\n",
    "\n",
    "        # Transform X into short sequences.\n",
    "        X_train, y_train = transform_into_sequences(X_train, num_timesteps)\n",
    "        X_test, y_test = transform_into_sequences(X_test, num_timesteps)\n",
    "\n",
    "        return X_train, y_train, X_test, y_test\n",
    "\n",
    "    def shuffle_data(X, y):\n",
    "        idx = np.arange(len(X))\n",
    "        default_rng().shuffle(idx)\n",
    "        X_shuffled = X[idx, :]\n",
    "        y_shuffled = y[idx]\n",
    "        return X_shuffled, y_shuffled\n",
    "\n",
    "    X_train_stop, y_train_stop, X_test_stop, y_test_stop = \\\n",
    "        read_and_prepare_data(\n",
    "            path_stop,\n",
    "            0.0,\n",
    "            num_timesteps,\n",
    "            ignore_fraction,\n",
    "            test_fraction,\n",
    "        )\n",
    "    \n",
    "    X_train_0, y_train_0, X_test_0, y_test_0 = \\\n",
    "        read_and_prepare_data(\n",
    "            path_0,\n",
    "            1.0,\n",
    "            num_timesteps,\n",
    "            ignore_fraction,\n",
    "            test_fraction,\n",
    "        )\n",
    "\n",
    "    X_train_90, y_train_90, X_test_90, y_test_90 = \\\n",
    "        read_and_prepare_data(\n",
    "            path_90,\n",
    "            2.0,\n",
    "            num_timesteps,\n",
    "            ignore_fraction,\n",
    "            test_fraction,\n",
    "        )\n",
    "    \n",
    "    X_train_180, y_train_180, X_test_180, y_test_180 = \\\n",
    "        read_and_prepare_data(\n",
    "            path_180,\n",
    "            3.0,\n",
    "            num_timesteps,\n",
    "            ignore_fraction,\n",
    "            test_fraction,\n",
    "        )\n",
    "    \n",
    "    X_train_270, y_train_270, X_test_270, y_test_270 = \\\n",
    "        read_and_prepare_data(\n",
    "            path_270,\n",
    "            4.0,\n",
    "            num_timesteps,\n",
    "            ignore_fraction,\n",
    "            test_fraction,\n",
    "        )\n",
    "\n",
    "    X_train = np.concatenate((X_train_stop, X_train_0, X_train_90, X_train_180, X_train_270), axis=0)\n",
    "    y_train = np.concatenate((y_train_stop, y_train_0, y_train_90, y_train_180, y_train_270), axis=0)\n",
    "    X_test = np.concatenate((X_test_stop, X_test_0, X_test_90, X_test_180, X_test_270), axis=0)\n",
    "    y_test = np.concatenate((y_test_stop, y_test_0, y_test_90, y_test_180, y_test_270), axis=0)\n",
    "\n",
    "    X_train, y_train = shuffle_data(X_train, y_train)\n",
    "    X_test, y_test = shuffle_data(X_test, y_test)\n",
    "\n",
    "    return X_train, X_test, y_train, y_test\n",
    "\n",
    "\n",
    "path_stop = Path(DATA_PATH, FILENAME_STOP)\n",
    "path_0 = Path(DATA_PATH, FILENAME_0)\n",
    "path_90 = Path(DATA_PATH, FILENAME_90)\n",
    "path_180 = Path(DATA_PATH, FILENAME_180)\n",
    "path_270 = Path(DATA_PATH, FILENAME_270)\n",
    "\n",
    "X_train, X_test, y_train, y_test = load_data(\n",
    "    path_stop,\n",
    "    path_0,\n",
    "    path_90,\n",
    "    path_180,\n",
    "    path_270,\n",
    "    NUM_TIMESTEPS,\n",
    "    IGNORE_FRACTION,\n",
    "    TEST_FRACTION,\n",
    ")"
   ]
  },
  {
   "cell_type": "code",
   "execution_count": 33,
   "id": "99c35712-1089-44f3-89ef-ed471b144c96",
   "metadata": {
    "colab": {
     "base_uri": "https://localhost:8080/"
    },
    "id": "99c35712-1089-44f3-89ef-ed471b144c96",
    "outputId": "9076061a-8661-4d2e-c1ed-887a92ec640b"
   },
   "outputs": [
    {
     "data": {
      "text/plain": [
       "((100765, 6, 6), (100765, 1), (33573, 6, 6), (33573, 1))"
      ]
     },
     "execution_count": 33,
     "metadata": {},
     "output_type": "execute_result"
    }
   ],
   "source": [
    "X_train.shape, y_train.shape, X_test.shape, y_test.shape"
   ]
  },
  {
   "cell_type": "code",
   "execution_count": 51,
   "id": "VqSuqgBCB_nA",
   "metadata": {
    "colab": {
     "base_uri": "https://localhost:8080/"
    },
    "id": "VqSuqgBCB_nA",
    "outputId": "26d50bbe-3fd3-4bed-e70e-7003d289c5d6"
   },
   "outputs": [
    {
     "data": {
      "text/plain": [
       "(6, 6)"
      ]
     },
     "execution_count": 51,
     "metadata": {},
     "output_type": "execute_result"
    }
   ],
   "source": [
    "X_test[60].shape\n"
   ]
  },
  {
   "cell_type": "code",
   "execution_count": null,
   "id": "dye8vjENBtXX",
   "metadata": {
    "id": "dye8vjENBtXX"
   },
   "outputs": [],
   "source": []
  },
  {
   "cell_type": "code",
   "execution_count": null,
   "id": "-3TttkaRCM4l",
   "metadata": {
    "id": "-3TttkaRCM4l"
   },
   "outputs": [],
   "source": []
  },
  {
   "cell_type": "code",
   "execution_count": 76,
   "id": "3a85634b-4e9c-45b8-b456-cb970457302f",
   "metadata": {
    "id": "3a85634b-4e9c-45b8-b456-cb970457302f"
   },
   "outputs": [
    {
     "name": "stdout",
     "output_type": "stream",
     "text": [
      "Model: \"Sequential_CNN\"\n",
      "_________________________________________________________________\n",
      " Layer (type)                Output Shape              Param #   \n",
      "=================================================================\n",
      " conv2d_37 (Conv2D)          (None, 3, 3, 64)          1088      \n",
      "                                                                 \n",
      " max_pooling2d_31 (MaxPoolin  (None, 2, 2, 64)         0         \n",
      " g2D)                                                            \n",
      "                                                                 \n",
      " conv2d_38 (Conv2D)          (None, 2, 2, 32)          18464     \n",
      "                                                                 \n",
      " max_pooling2d_32 (MaxPoolin  (None, 1, 1, 32)         0         \n",
      " g2D)                                                            \n",
      "                                                                 \n",
      " flatten_13 (Flatten)        (None, 32)                0         \n",
      "                                                                 \n",
      " dense_39 (Dense)            (None, 64)                2112      \n",
      "                                                                 \n",
      " dense_40 (Dense)            (None, 32)                2080      \n",
      "                                                                 \n",
      " dense_41 (Dense)            (None, 5)                 165       \n",
      "                                                                 \n",
      "=================================================================\n",
      "Total params: 23,909\n",
      "Trainable params: 23,909\n",
      "Non-trainable params: 0\n",
      "_________________________________________________________________\n"
     ]
    }
   ],
   "source": [
    "from tensorflow.keras.models import Sequential\n",
    "from tensorflow.keras.layers import Conv2D, MaxPooling2D, Flatten, Dense\n",
    "\n",
    "CNN = Sequential(name=\"Sequential_CNN\")\n",
    "\n",
    "CNN.add(Conv2D(64, kernel_size=(4, 4),\n",
    "               strides=(2, 2), padding=\"same\",\n",
    "               activation=\"selu\", input_shape=[6, 6, 1]))\n",
    "\n",
    "CNN.add(MaxPooling2D(pool_size=(2, 2), strides=(1, 1),\n",
    "                     padding=\"valid\"))\n",
    "\n",
    "# Add another pair of Conv2D and MaxPooling2D for more model depth,\n",
    "# followed by the flatten and multiple dense layers\n",
    "\n",
    "CNN.add(Conv2D(32, kernel_size=(3, 3),\n",
    "               strides=(1, 1), padding=\"same\",\n",
    "               activation=\"selu\"))\n",
    "\n",
    "CNN.add(MaxPooling2D(pool_size=(2, 2), strides=(1, 1),\n",
    "                     padding=\"valid\"))\n",
    "\n",
    "CNN.add(Flatten())\n",
    "\n",
    "CNN.add(Dense(64, activation='selu'))\n",
    "CNN.add(Dense(32, activation='selu'))\n",
    "CNN.add(Dense(5, activation='softmax'))\n",
    "\n",
    "CNN.summary()\n",
    "\n",
    "\n",
    "# from functools import partial\n",
    "\n",
    "# _, num_time, num_feat = X_train.shape\n",
    "\n",
    "# activation = 'selu'\n",
    "\n",
    "# DefaultConv1D = partial(\n",
    "#     keras.layers.Conv1D,\n",
    "#     kernel_size=1,\n",
    "#     activation=activation,\n",
    "#     padding=\"valid\",\n",
    "# )\n",
    "\n",
    "# model = keras.models.Sequential([\n",
    "#     DefaultConv1D(4 * num_feat, kernel_size=4, input_shape=[num_time, num_feat]),\n",
    "#     keras.layers.BatchNormalization(),\n",
    "#     DefaultConv1D(num_feat, kernel_size=2),\n",
    "#     keras.layers.Flatten(),\n",
    "#     keras.layers.BatchNormalization(),\n",
    "#     keras.layers.Dense(num_time * num_feat, activation=activation),\n",
    "#     keras.layers.BatchNormalization(),\n",
    "#     keras.layers.Dense(num_feat, activation=activation),\n",
    "#     keras.layers.BatchNormalization(),\n",
    "#     keras.layers.Dense(5, activation='softmax'),\n",
    "# ])"
   ]
  },
  {
   "cell_type": "code",
   "execution_count": null,
   "id": "j0C2RSxICKzq",
   "metadata": {
    "colab": {
     "base_uri": "https://localhost:8080/"
    },
    "id": "j0C2RSxICKzq",
    "outputId": "af853522-fdf6-40e4-8d0e-cd2a6dcdab9b"
   },
   "outputs": [],
   "source": []
  },
  {
   "cell_type": "code",
   "execution_count": 77,
   "id": "911581af",
   "metadata": {},
   "outputs": [],
   "source": [
    "from numpy import *\n",
    "where_are_NaNsx = isnan(X_train)\n",
    "X_train[where_are_NaNsx] = 0\n",
    "\n",
    "where_are_NaNsy = isnan(y_train)\n",
    "y_train[where_are_NaNsy] = 0\n",
    "\n",
    "where_are_NaNsxt = isnan(X_test)\n",
    "X_test[where_are_NaNsxt] = 0\n",
    "\n",
    "where_are_NaNsyt = isnan(y_test)\n",
    "y_test[where_are_NaNsyt] = 0"
   ]
  },
  {
   "cell_type": "code",
   "execution_count": null,
   "id": "7baf8970-5318-4461-b828-d34c232afa5f",
   "metadata": {
    "colab": {
     "base_uri": "https://localhost:8080/"
    },
    "id": "7baf8970-5318-4461-b828-d34c232afa5f",
    "outputId": "08a66cc8-aeee-42ba-f039-9dfa2ba6f99e"
   },
   "outputs": [
    {
     "name": "stdout",
     "output_type": "stream",
     "text": [
      "Epoch 1/100\n",
      "394/394 [==============================] - 4s 9ms/step - loss: 0.7276 - accuracy: 0.6586 - val_loss: 0.3802 - val_accuracy: 0.8308\n",
      "Epoch 2/100\n",
      "394/394 [==============================] - 3s 8ms/step - loss: 0.4593 - accuracy: 0.7964 - val_loss: 0.3746 - val_accuracy: 0.8356\n",
      "Epoch 3/100\n",
      "394/394 [==============================] - 3s 8ms/step - loss: 0.4199 - accuracy: 0.8137 - val_loss: 0.3365 - val_accuracy: 0.8485\n",
      "Epoch 4/100\n",
      "394/394 [==============================] - 3s 9ms/step - loss: 0.4042 - accuracy: 0.8194 - val_loss: 0.3296 - val_accuracy: 0.8466\n",
      "Epoch 5/100\n",
      "394/394 [==============================] - 3s 9ms/step - loss: 0.3872 - accuracy: 0.8262 - val_loss: 0.3190 - val_accuracy: 0.8585\n",
      "Epoch 6/100\n",
      "394/394 [==============================] - 3s 9ms/step - loss: 0.3756 - accuracy: 0.8312 - val_loss: 0.3425 - val_accuracy: 0.8475\n",
      "Epoch 7/100\n",
      "394/394 [==============================] - 3s 8ms/step - loss: 0.3673 - accuracy: 0.8336 - val_loss: 0.3465 - val_accuracy: 0.8412\n",
      "Epoch 8/100\n",
      "394/394 [==============================] - 3s 9ms/step - loss: 0.3655 - accuracy: 0.8333 - val_loss: 0.3124 - val_accuracy: 0.8555\n",
      "Epoch 9/100\n",
      "394/394 [==============================] - 3s 8ms/step - loss: 0.3603 - accuracy: 0.8366 - val_loss: 0.3125 - val_accuracy: 0.8644\n",
      "Epoch 10/100\n",
      "394/394 [==============================] - 3s 8ms/step - loss: 0.3567 - accuracy: 0.8369 - val_loss: 0.3212 - val_accuracy: 0.8569\n",
      "Epoch 11/100\n",
      "394/394 [==============================] - 3s 8ms/step - loss: 0.3561 - accuracy: 0.8377 - val_loss: 0.3090 - val_accuracy: 0.8612\n",
      "Epoch 12/100\n",
      "394/394 [==============================] - 5s 12ms/step - loss: 0.3514 - accuracy: 0.8385 - val_loss: 0.3180 - val_accuracy: 0.8596\n",
      "Epoch 13/100\n",
      "394/394 [==============================] - 4s 10ms/step - loss: 0.3463 - accuracy: 0.8397 - val_loss: 0.3343 - val_accuracy: 0.8532\n",
      "Epoch 14/100\n",
      "394/394 [==============================] - 4s 9ms/step - loss: 0.3454 - accuracy: 0.8410 - val_loss: 0.3216 - val_accuracy: 0.8545\n",
      "Epoch 15/100\n",
      "394/394 [==============================] - 4s 9ms/step - loss: 0.3410 - accuracy: 0.8431 - val_loss: 0.3758 - val_accuracy: 0.8469\n",
      "Epoch 16/100\n",
      "394/394 [==============================] - 4s 9ms/step - loss: 0.3415 - accuracy: 0.8433 - val_loss: 0.3149 - val_accuracy: 0.8580\n",
      "Epoch 17/100\n",
      "394/394 [==============================] - 4s 10ms/step - loss: 0.3338 - accuracy: 0.8460 - val_loss: 0.3141 - val_accuracy: 0.8598\n",
      "Epoch 18/100\n",
      "394/394 [==============================] - 4s 10ms/step - loss: 0.3341 - accuracy: 0.8443 - val_loss: 0.3044 - val_accuracy: 0.8661\n",
      "Epoch 19/100\n",
      "394/394 [==============================] - 4s 10ms/step - loss: 0.3312 - accuracy: 0.8462 - val_loss: 0.3444 - val_accuracy: 0.8529\n",
      "Epoch 20/100\n",
      "394/394 [==============================] - 4s 10ms/step - loss: 0.3327 - accuracy: 0.8451 - val_loss: 0.3067 - val_accuracy: 0.8674\n",
      "Epoch 21/100\n",
      "394/394 [==============================] - 4s 9ms/step - loss: 0.3280 - accuracy: 0.8456 - val_loss: 0.3326 - val_accuracy: 0.8585\n",
      "Epoch 22/100\n",
      "394/394 [==============================] - 3s 9ms/step - loss: 0.3271 - accuracy: 0.8481 - val_loss: 0.3355 - val_accuracy: 0.8567\n",
      "Epoch 23/100\n",
      "394/394 [==============================] - 3s 9ms/step - loss: 0.3288 - accuracy: 0.8468 - val_loss: 0.3549 - val_accuracy: 0.8518\n",
      "Epoch 24/100\n",
      "394/394 [==============================] - 4s 9ms/step - loss: 0.3239 - accuracy: 0.8491 - val_loss: 0.3288 - val_accuracy: 0.8614\n",
      "Epoch 25/100\n",
      "394/394 [==============================] - 4s 9ms/step - loss: 0.3223 - accuracy: 0.8483 - val_loss: 0.3651 - val_accuracy: 0.8528\n",
      "Epoch 26/100\n",
      "394/394 [==============================] - 4s 9ms/step - loss: 0.3224 - accuracy: 0.8495 - val_loss: 0.3272 - val_accuracy: 0.8586\n",
      "Epoch 27/100\n",
      "394/394 [==============================] - 3s 9ms/step - loss: 0.3212 - accuracy: 0.8499 - val_loss: 0.3376 - val_accuracy: 0.8588\n",
      "Epoch 28/100\n",
      "394/394 [==============================] - 4s 10ms/step - loss: 0.3193 - accuracy: 0.8504 - val_loss: 0.3378 - val_accuracy: 0.8558\n",
      "Epoch 29/100\n",
      "394/394 [==============================] - 4s 9ms/step - loss: 0.3147 - accuracy: 0.8537 - val_loss: 0.3284 - val_accuracy: 0.8591\n",
      "Epoch 30/100\n",
      "394/394 [==============================] - 3s 9ms/step - loss: 0.3199 - accuracy: 0.8507 - val_loss: 0.3322 - val_accuracy: 0.8583\n",
      "Epoch 31/100\n",
      "394/394 [==============================] - 3s 9ms/step - loss: 0.3168 - accuracy: 0.8518 - val_loss: 0.3313 - val_accuracy: 0.8592\n",
      "Epoch 32/100\n",
      "394/394 [==============================] - 3s 9ms/step - loss: 0.3158 - accuracy: 0.8517 - val_loss: 0.3395 - val_accuracy: 0.8573\n",
      "Epoch 33/100\n",
      "394/394 [==============================] - 4s 9ms/step - loss: 0.3129 - accuracy: 0.8540 - val_loss: 0.3434 - val_accuracy: 0.8600\n",
      "Epoch 34/100\n",
      "394/394 [==============================] - 3s 9ms/step - loss: 0.3110 - accuracy: 0.8546 - val_loss: 0.3442 - val_accuracy: 0.8595\n",
      "Epoch 35/100\n",
      "394/394 [==============================] - 4s 10ms/step - loss: 0.3110 - accuracy: 0.8531 - val_loss: 0.3422 - val_accuracy: 0.8606\n",
      "Epoch 36/100\n",
      "394/394 [==============================] - 4s 11ms/step - loss: 0.3108 - accuracy: 0.8540 - val_loss: 0.3460 - val_accuracy: 0.8637\n",
      "Epoch 37/100\n",
      "394/394 [==============================] - 4s 10ms/step - loss: 0.3128 - accuracy: 0.8533 - val_loss: 0.3863 - val_accuracy: 0.8448\n",
      "Epoch 38/100\n",
      "394/394 [==============================] - 4s 10ms/step - loss: 0.3077 - accuracy: 0.8537 - val_loss: 0.3284 - val_accuracy: 0.8597\n",
      "Epoch 39/100\n",
      "394/394 [==============================] - 4s 10ms/step - loss: 0.3058 - accuracy: 0.8560 - val_loss: 0.3489 - val_accuracy: 0.8570\n",
      "Epoch 40/100\n",
      "394/394 [==============================] - 4s 10ms/step - loss: 0.3074 - accuracy: 0.8556 - val_loss: 0.3763 - val_accuracy: 0.8521\n",
      "Epoch 41/100\n",
      "394/394 [==============================] - 5s 12ms/step - loss: 0.3046 - accuracy: 0.8569 - val_loss: 0.3260 - val_accuracy: 0.8589\n",
      "Epoch 42/100\n",
      "394/394 [==============================] - 4s 11ms/step - loss: 0.3044 - accuracy: 0.8555 - val_loss: 0.3571 - val_accuracy: 0.8579\n",
      "Epoch 43/100\n",
      "394/394 [==============================] - 5s 12ms/step - loss: 0.3055 - accuracy: 0.8545 - val_loss: 0.3421 - val_accuracy: 0.8544\n",
      "Epoch 44/100\n",
      "394/394 [==============================] - 5s 12ms/step - loss: 0.3053 - accuracy: 0.8565 - val_loss: 0.3712 - val_accuracy: 0.8570\n",
      "Epoch 45/100\n",
      "394/394 [==============================] - 4s 10ms/step - loss: 0.3012 - accuracy: 0.8576 - val_loss: 0.3481 - val_accuracy: 0.8601\n",
      "Epoch 46/100\n",
      "394/394 [==============================] - 4s 9ms/step - loss: 0.3007 - accuracy: 0.8581 - val_loss: 0.3431 - val_accuracy: 0.8548\n",
      "Epoch 47/100\n",
      "394/394 [==============================] - 3s 9ms/step - loss: 0.3064 - accuracy: 0.8570 - val_loss: 0.3705 - val_accuracy: 0.8507\n",
      "Epoch 48/100\n",
      "394/394 [==============================] - 4s 9ms/step - loss: 0.3003 - accuracy: 0.8566 - val_loss: 0.3525 - val_accuracy: 0.8610\n",
      "Epoch 49/100\n",
      "394/394 [==============================] - 4s 10ms/step - loss: 0.3030 - accuracy: 0.8570 - val_loss: 0.3762 - val_accuracy: 0.8498\n",
      "Epoch 50/100\n",
      "394/394 [==============================] - 4s 10ms/step - loss: 0.3031 - accuracy: 0.8568 - val_loss: 0.3838 - val_accuracy: 0.8571\n",
      "Epoch 51/100\n",
      "394/394 [==============================] - 4s 10ms/step - loss: 0.2985 - accuracy: 0.8587 - val_loss: 0.3546 - val_accuracy: 0.8563\n",
      "Epoch 52/100\n",
      "394/394 [==============================] - 4s 10ms/step - loss: 0.2970 - accuracy: 0.8591 - val_loss: 0.3678 - val_accuracy: 0.8520\n",
      "Epoch 53/100\n",
      "394/394 [==============================] - 4s 9ms/step - loss: 0.2985 - accuracy: 0.8573 - val_loss: 0.3817 - val_accuracy: 0.8563\n",
      "Epoch 54/100\n",
      "394/394 [==============================] - 3s 8ms/step - loss: 0.3012 - accuracy: 0.8579 - val_loss: 0.4048 - val_accuracy: 0.8532\n",
      "Epoch 55/100\n",
      "394/394 [==============================] - 3s 8ms/step - loss: 0.3066 - accuracy: 0.8566 - val_loss: 0.3712 - val_accuracy: 0.8566\n",
      "Epoch 56/100\n",
      "394/394 [==============================] - 4s 9ms/step - loss: 0.2977 - accuracy: 0.8603 - val_loss: 0.3710 - val_accuracy: 0.8572\n",
      "Epoch 57/100\n",
      "394/394 [==============================] - 3s 8ms/step - loss: 0.2931 - accuracy: 0.8621 - val_loss: 0.3492 - val_accuracy: 0.8636\n"
     ]
    },
    {
     "name": "stdout",
     "output_type": "stream",
     "text": [
      "Epoch 58/100\n",
      "394/394 [==============================] - 3s 8ms/step - loss: 0.2967 - accuracy: 0.8598 - val_loss: 0.3669 - val_accuracy: 0.8559\n",
      "Epoch 59/100\n",
      "394/394 [==============================] - 3s 8ms/step - loss: 0.2940 - accuracy: 0.8610 - val_loss: 0.3573 - val_accuracy: 0.8587\n",
      "Epoch 60/100\n",
      "394/394 [==============================] - 3s 8ms/step - loss: 0.2919 - accuracy: 0.8617 - val_loss: 0.4004 - val_accuracy: 0.8584\n",
      "Epoch 61/100\n",
      "394/394 [==============================] - 3s 8ms/step - loss: 0.2945 - accuracy: 0.8596 - val_loss: 0.3595 - val_accuracy: 0.8616\n",
      "Epoch 62/100\n",
      "394/394 [==============================] - 3s 8ms/step - loss: 0.2945 - accuracy: 0.8604 - val_loss: 0.3634 - val_accuracy: 0.8591\n",
      "Epoch 63/100\n",
      "394/394 [==============================] - 3s 8ms/step - loss: 0.2916 - accuracy: 0.8612 - val_loss: 0.3544 - val_accuracy: 0.8596\n",
      "Epoch 64/100\n",
      "394/394 [==============================] - 3s 8ms/step - loss: 0.2878 - accuracy: 0.8616 - val_loss: 0.3697 - val_accuracy: 0.8572\n",
      "Epoch 65/100\n",
      "394/394 [==============================] - 3s 8ms/step - loss: 0.2932 - accuracy: 0.8600 - val_loss: 0.3571 - val_accuracy: 0.8595\n",
      "Epoch 66/100\n",
      "394/394 [==============================] - 3s 8ms/step - loss: 0.2880 - accuracy: 0.8620 - val_loss: 0.3797 - val_accuracy: 0.8583\n",
      "Epoch 67/100\n",
      "394/394 [==============================] - 3s 8ms/step - loss: 0.2899 - accuracy: 0.8625 - val_loss: 0.3602 - val_accuracy: 0.8591\n",
      "Epoch 68/100\n",
      "394/394 [==============================] - 3s 8ms/step - loss: 0.2909 - accuracy: 0.8604 - val_loss: 0.3717 - val_accuracy: 0.8588\n",
      "Epoch 69/100\n",
      "394/394 [==============================] - 3s 8ms/step - loss: 0.2877 - accuracy: 0.8618 - val_loss: 0.3670 - val_accuracy: 0.8637\n",
      "Epoch 70/100\n",
      "394/394 [==============================] - 3s 8ms/step - loss: 0.2960 - accuracy: 0.8595 - val_loss: 0.3826 - val_accuracy: 0.8579\n",
      "Epoch 71/100\n",
      "394/394 [==============================] - 3s 8ms/step - loss: 0.2868 - accuracy: 0.8615 - val_loss: 0.3671 - val_accuracy: 0.8573\n",
      "Epoch 72/100\n",
      "394/394 [==============================] - 3s 8ms/step - loss: 0.2861 - accuracy: 0.8625 - val_loss: 0.4018 - val_accuracy: 0.8546\n",
      "Epoch 73/100\n",
      "394/394 [==============================] - 3s 8ms/step - loss: 0.2893 - accuracy: 0.8618 - val_loss: 0.3638 - val_accuracy: 0.8636\n",
      "Epoch 74/100\n",
      "394/394 [==============================] - 3s 8ms/step - loss: 0.2880 - accuracy: 0.8622 - val_loss: 0.4133 - val_accuracy: 0.8549\n",
      "Epoch 75/100\n",
      "394/394 [==============================] - 3s 8ms/step - loss: 0.2869 - accuracy: 0.8620 - val_loss: 0.3770 - val_accuracy: 0.8538\n",
      "Epoch 76/100\n",
      "394/394 [==============================] - 3s 8ms/step - loss: 0.2871 - accuracy: 0.8622 - val_loss: 0.3943 - val_accuracy: 0.8576\n",
      "Epoch 77/100\n",
      "394/394 [==============================] - 3s 8ms/step - loss: 0.2833 - accuracy: 0.8649 - val_loss: 0.3705 - val_accuracy: 0.8574\n",
      "Epoch 78/100\n",
      "394/394 [==============================] - 3s 8ms/step - loss: 0.2831 - accuracy: 0.8641 - val_loss: 0.4003 - val_accuracy: 0.8455\n",
      "Epoch 79/100\n",
      "394/394 [==============================] - 3s 8ms/step - loss: 0.2875 - accuracy: 0.8612 - val_loss: 0.4089 - val_accuracy: 0.8609\n",
      "Epoch 80/100\n",
      "394/394 [==============================] - 3s 8ms/step - loss: 0.2830 - accuracy: 0.8641 - val_loss: 0.3766 - val_accuracy: 0.8575\n",
      "Epoch 81/100\n",
      "394/394 [==============================] - 3s 8ms/step - loss: 0.2827 - accuracy: 0.8627 - val_loss: 0.3730 - val_accuracy: 0.8568\n",
      "Epoch 82/100\n",
      "394/394 [==============================] - 3s 8ms/step - loss: 0.2930 - accuracy: 0.8615 - val_loss: 0.3897 - val_accuracy: 0.8590\n",
      "Epoch 83/100\n",
      "394/394 [==============================] - 3s 8ms/step - loss: 0.2848 - accuracy: 0.8644 - val_loss: 0.4054 - val_accuracy: 0.8535\n",
      "Epoch 84/100\n",
      "394/394 [==============================] - 3s 8ms/step - loss: 0.2838 - accuracy: 0.8639 - val_loss: 0.4461 - val_accuracy: 0.8549\n",
      "Epoch 85/100\n",
      "394/394 [==============================] - 3s 8ms/step - loss: 0.2853 - accuracy: 0.8627 - val_loss: 0.3796 - val_accuracy: 0.8643\n",
      "Epoch 86/100\n",
      "394/394 [==============================] - 3s 8ms/step - loss: 0.2863 - accuracy: 0.8634 - val_loss: 0.3701 - val_accuracy: 0.8602\n",
      "Epoch 87/100\n",
      "394/394 [==============================] - 3s 8ms/step - loss: 0.2817 - accuracy: 0.8649 - val_loss: 0.4131 - val_accuracy: 0.8525\n",
      "Epoch 88/100\n",
      "394/394 [==============================] - 3s 8ms/step - loss: 0.2817 - accuracy: 0.8645 - val_loss: 0.4239 - val_accuracy: 0.8564\n",
      "Epoch 89/100\n",
      "394/394 [==============================] - 3s 8ms/step - loss: 0.2807 - accuracy: 0.8648 - val_loss: 0.4362 - val_accuracy: 0.8574\n",
      "Epoch 90/100\n",
      "394/394 [==============================] - 3s 8ms/step - loss: 0.2778 - accuracy: 0.8655 - val_loss: 0.4021 - val_accuracy: 0.8581\n",
      "Epoch 91/100\n",
      "394/394 [==============================] - 3s 8ms/step - loss: 0.2773 - accuracy: 0.8651 - val_loss: 0.3821 - val_accuracy: 0.8594\n",
      "Epoch 92/100\n",
      "394/394 [==============================] - 3s 8ms/step - loss: 0.2770 - accuracy: 0.8646 - val_loss: 0.4013 - val_accuracy: 0.8604\n",
      "Epoch 93/100\n",
      "178/394 [============>.................] - ETA: 1s - loss: 0.2758 - accuracy: 0.8677"
     ]
    }
   ],
   "source": [
    "optimizer = keras.optimizers.Adam(learning_rate=1e-2)\n",
    "\n",
    "CNN.compile(\n",
    "    loss='sparse_categorical_crossentropy',\n",
    "    optimizer=optimizer,\n",
    "    metrics=['accuracy'],\n",
    ")\n",
    "history = CNN.fit(\n",
    "    X_train,\n",
    "    y_train,\n",
    "    epochs=EPOCHS,\n",
    "    batch_size=256,\n",
    "    validation_data=(X_test, y_test),\n",
    "    verbose=1,\n",
    ")"
   ]
  },
  {
   "cell_type": "code",
   "execution_count": null,
   "id": "70de8d27-4ff5-4dce-b45f-675dcc74513e",
   "metadata": {
    "colab": {
     "base_uri": "https://localhost:8080/"
    },
    "id": "70de8d27-4ff5-4dce-b45f-675dcc74513e",
    "outputId": "7211ef5c-5b4a-4afb-ad4f-7341eeb8f0f8"
   },
   "outputs": [],
   "source": []
  },
  {
   "cell_type": "code",
   "execution_count": null,
   "id": "4ce90a4e",
   "metadata": {},
   "outputs": [],
   "source": []
  },
  {
   "cell_type": "code",
   "execution_count": null,
   "id": "bed79725-2bb3-47ce-b06c-333c662b30bf",
   "metadata": {
    "colab": {
     "base_uri": "https://localhost:8080/",
     "height": 282
    },
    "id": "bed79725-2bb3-47ce-b06c-333c662b30bf",
    "outputId": "4354cc75-e44d-4d2a-ac4b-c55a4b3a9305"
   },
   "outputs": [],
   "source": [
    "plt.plot(history.history['accuracy'])\n",
    "plt.plot(history.history['val_accuracy'])"
   ]
  },
  {
   "cell_type": "code",
   "execution_count": 62,
   "id": "3b65d81f-3d75-43d1-9e2d-88cef69d110b",
   "metadata": {
    "colab": {
     "base_uri": "https://localhost:8080/",
     "height": 265
    },
    "id": "3b65d81f-3d75-43d1-9e2d-88cef69d110b",
    "outputId": "97e18fb9-4340-478c-e307-82c03282e9cc"
   },
   "outputs": [
    {
     "data": {
      "image/png": "[encoded data removed]",
      "text/plain": [
       "<Figure size 432x288 with 1 Axes>"
      ]
     },
     "metadata": {
      "needs_background": "light"
     },
     "output_type": "display_data"
    }
   ],
   "source": [
    "plt.plot(history.history['loss'][10:])\n",
    "plt.plot(history.history['val_loss'][10:])\n",
    "plt.yscale('log')"
   ]
  },
  {
   "cell_type": "code",
   "execution_count": 63,
   "id": "8a964a60-488a-431e-8bcc-586e90d8956b",
   "metadata": {
    "id": "8a964a60-488a-431e-8bcc-586e90d8956b"
   },
   "outputs": [
    {
     "name": "stdout",
     "output_type": "stream",
     "text": [
      "1050/1050 [==============================] - 5s 4ms/step\n"
     ]
    }
   ],
   "source": [
    "y_pred = model.predict(X_test)"
   ]
  },
  {
   "cell_type": "code",
   "execution_count": 64,
   "id": "d7C0QyTLHO8q",
   "metadata": {
    "colab": {
     "base_uri": "https://localhost:8080/"
    },
    "id": "d7C0QyTLHO8q",
    "outputId": "78587010-2aa8-4cc7-e82f-7c40e11ce705"
   },
   "outputs": [
    {
     "data": {
      "text/plain": [
       "array([[0.20014575, 0.19891343, 0.20021655, 0.20066689, 0.2000574 ],\n",
       "       [0.19855939, 0.19442621, 0.203713  , 0.20022067, 0.20308076],\n",
       "       [0.19753385, 0.19349755, 0.20359828, 0.20045093, 0.20491935],\n",
       "       ...,\n",
       "       [0.19948481, 0.20517828, 0.19513331, 0.19898993, 0.20121372],\n",
       "       [0.1999451 , 0.20002945, 0.20001382, 0.19993176, 0.20007986],\n",
       "       [0.20226058, 0.2019339 , 0.19728436, 0.20022811, 0.19829307]],\n",
       "      dtype=float32)"
      ]
     },
     "execution_count": 64,
     "metadata": {},
     "output_type": "execute_result"
    }
   ],
   "source": [
    "y_pred"
   ]
  },
  {
   "cell_type": "code",
   "execution_count": null,
   "id": "1c8d3ecc-9cf4-4b1b-a1f8-7394eae20128",
   "metadata": {
    "id": "1c8d3ecc-9cf4-4b1b-a1f8-7394eae20128"
   },
   "outputs": [],
   "source": []
  },
  {
   "cell_type": "code",
   "execution_count": 65,
   "id": "1ljWvGo9skgS",
   "metadata": {
    "id": "1ljWvGo9skgS"
   },
   "outputs": [],
   "source": [
    "y_pred= np.argmax(y_pred, axis=1)"
   ]
  },
  {
   "cell_type": "code",
   "execution_count": 66,
   "id": "BIninuG_Hixu",
   "metadata": {
    "colab": {
     "base_uri": "https://localhost:8080/"
    },
    "id": "BIninuG_Hixu",
    "outputId": "8d52a3ce-46d5-41c3-f339-ec8e2feee684"
   },
   "outputs": [
    {
     "data": {
      "text/plain": [
       "array([3, 2, 4, ..., 1, 4, 0])"
      ]
     },
     "execution_count": 66,
     "metadata": {},
     "output_type": "execute_result"
    }
   ],
   "source": [
    "y_pred"
   ]
  },
  {
   "cell_type": "code",
   "execution_count": 67,
   "id": "3NzoyhrD4tO9",
   "metadata": {
    "colab": {
     "base_uri": "https://localhost:8080/"
    },
    "id": "3NzoyhrD4tO9",
    "outputId": "da09ab77-c439-431e-82a8-93fc98f20b49"
   },
   "outputs": [
    {
     "data": {
      "text/plain": [
       "3"
      ]
     },
     "execution_count": 67,
     "metadata": {},
     "output_type": "execute_result"
    }
   ],
   "source": [
    "y_pred[0]"
   ]
  },
  {
   "cell_type": "code",
   "execution_count": 68,
   "id": "48c3e9c7-2bc3-479a-8af1-bf35d87f3e57",
   "metadata": {
    "id": "48c3e9c7-2bc3-479a-8af1-bf35d87f3e57"
   },
   "outputs": [],
   "source": [
    "df = pd.DataFrame({\n",
    "    'y_test': y_test.ravel().astype(int).tolist(),\n",
    "    'y_pred': y_pred.ravel().astype(int).tolist(),\n",
    "})"
   ]
  },
  {
   "cell_type": "code",
   "execution_count": 69,
   "id": "18cfafbe-dafb-4a9e-8873-7f96e71f80b8",
   "metadata": {
    "colab": {
     "base_uri": "https://localhost:8080/",
     "height": 175
    },
    "id": "18cfafbe-dafb-4a9e-8873-7f96e71f80b8",
    "outputId": "aa49cb9d-c88e-437b-9a31-2809577d1da1"
   },
   "outputs": [
    {
     "data": {
      "text/html": [
       "<div>\n",
       "<style scoped>\n",
       "    .dataframe tbody tr th:only-of-type {\n",
       "        vertical-align: middle;\n",
       "    }\n",
       "\n",
       "    .dataframe tbody tr th {\n",
       "        vertical-align: top;\n",
       "    }\n",
       "\n",
       "    .dataframe thead th {\n",
       "        text-align: right;\n",
       "    }\n",
       "</style>\n",
       "<table border=\"1\" class=\"dataframe\">\n",
       "  <thead>\n",
       "    <tr style=\"text-align: right;\">\n",
       "      <th>y_pred</th>\n",
       "      <th>0</th>\n",
       "      <th>1</th>\n",
       "      <th>2</th>\n",
       "      <th>3</th>\n",
       "      <th>4</th>\n",
       "    </tr>\n",
       "    <tr>\n",
       "      <th>y_test</th>\n",
       "      <th></th>\n",
       "      <th></th>\n",
       "      <th></th>\n",
       "      <th></th>\n",
       "      <th></th>\n",
       "    </tr>\n",
       "  </thead>\n",
       "  <tbody>\n",
       "    <tr>\n",
       "      <th>0</th>\n",
       "      <td>3395</td>\n",
       "      <td>3795</td>\n",
       "      <td>1409</td>\n",
       "      <td>3841</td>\n",
       "      <td>1953</td>\n",
       "    </tr>\n",
       "    <tr>\n",
       "      <th>1</th>\n",
       "      <td>363</td>\n",
       "      <td>1604</td>\n",
       "      <td>476</td>\n",
       "      <td>1283</td>\n",
       "      <td>1069</td>\n",
       "    </tr>\n",
       "    <tr>\n",
       "      <th>2</th>\n",
       "      <td>430</td>\n",
       "      <td>1314</td>\n",
       "      <td>419</td>\n",
       "      <td>1710</td>\n",
       "      <td>922</td>\n",
       "    </tr>\n",
       "    <tr>\n",
       "      <th>3</th>\n",
       "      <td>490</td>\n",
       "      <td>1297</td>\n",
       "      <td>287</td>\n",
       "      <td>1569</td>\n",
       "      <td>1152</td>\n",
       "    </tr>\n",
       "    <tr>\n",
       "      <th>4</th>\n",
       "      <td>697</td>\n",
       "      <td>1066</td>\n",
       "      <td>619</td>\n",
       "      <td>1538</td>\n",
       "      <td>875</td>\n",
       "    </tr>\n",
       "  </tbody>\n",
       "</table>\n",
       "</div>"
      ],
      "text/plain": [
       "y_pred     0     1     2     3     4\n",
       "y_test                              \n",
       "0       3395  3795  1409  3841  1953\n",
       "1        363  1604   476  1283  1069\n",
       "2        430  1314   419  1710   922\n",
       "3        490  1297   287  1569  1152\n",
       "4        697  1066   619  1538   875"
      ]
     },
     "execution_count": 69,
     "metadata": {},
     "output_type": "execute_result"
    }
   ],
   "source": [
    "pd.crosstab(df['y_test'], df['y_pred'])"
   ]
  },
  {
   "cell_type": "code",
   "execution_count": 70,
   "id": "e192957b-1b16-47c8-89eb-d6e2fb9bde9f",
   "metadata": {
    "id": "e192957b-1b16-47c8-89eb-d6e2fb9bde9f"
   },
   "outputs": [],
   "source": [
    "model.save('model.h5')"
   ]
  },
  {
   "cell_type": "code",
   "execution_count": 71,
   "id": "__GCNJUQzHny",
   "metadata": {
    "colab": {
     "base_uri": "https://localhost:8080/"
    },
    "id": "__GCNJUQzHny",
    "outputId": "0b819a16-2d58-4435-927f-343a75565ae6"
   },
   "outputs": [
    {
     "data": {
      "text/plain": [
       "array([[-0.   ,  0.   ,  0.   , -0.018,  0.001,  0.002],\n",
       "       [-0.001,  0.   ,  0.   , -0.018,  0.   ,  0.001],\n",
       "       [-0.   ,  0.   ,  0.   ,  0.003,  0.002, -0.003],\n",
       "       [-0.   ,  0.   ,  0.   ,  0.013, -0.003, -0.002],\n",
       "       [-0.   ,  0.   ,  0.   ,  0.014, -0.002, -0.006],\n",
       "       [-0.   ,  0.   ,  0.001, -0.   ,  0.   ,  0.   ]])"
      ]
     },
     "execution_count": 71,
     "metadata": {},
     "output_type": "execute_result"
    }
   ],
   "source": [
    "X_train[0]"
   ]
  },
  {
   "cell_type": "code",
   "execution_count": null,
   "id": "8c451d57-513f-476a-acbf-5b5a58a90437",
   "metadata": {
    "colab": {
     "base_uri": "https://localhost:8080/",
     "height": 606
    },
    "id": "8c451d57-513f-476a-acbf-5b5a58a90437",
    "outputId": "c8edd43e-3d45-432e-c46d-f23b5f9e9cdd"
   },
   "outputs": [
    {
     "ename": "ValueError",
     "evalue": "ignored",
     "output_type": "error",
     "traceback": [
      "\u001b[0;31m---------------------------------------------------------------------------\u001b[0m",
      "\u001b[0;31mValueError\u001b[0m                                Traceback (most recent call last)",
      "\u001b[0;32m<ipython-input-28-8e388d899b1b>\u001b[0m in \u001b[0;36m<module>\u001b[0;34m\u001b[0m\n\u001b[1;32m      8\u001b[0m        \u001b[0;34m[\u001b[0m\u001b[0;36m0.08\u001b[0m\u001b[0;34m,\u001b[0m  \u001b[0;36m0.08\u001b[0m\u001b[0;34m,\u001b[0m  \u001b[0;36m0.08\u001b[0m\u001b[0;34m,\u001b[0m  \u001b[0;36m0.08\u001b[0m\u001b[0;34m,\u001b[0m \u001b[0;34m-\u001b[0m\u001b[0;36m0.08\u001b[0m\u001b[0;34m,\u001b[0m \u001b[0;34m-\u001b[0m\u001b[0;36m0.08\u001b[0m\u001b[0;34m,\u001b[0m \u001b[0;34m-\u001b[0m\u001b[0;36m0.08\u001b[0m\u001b[0;34m,\u001b[0m  \u001b[0;36m0.08\u001b[0m\u001b[0;34m]\u001b[0m\u001b[0;34m,\u001b[0m\u001b[0;34m\u001b[0m\u001b[0;34m\u001b[0m\u001b[0m\n\u001b[1;32m      9\u001b[0m        \u001b[0;34m[\u001b[0m\u001b[0;36m0.08\u001b[0m\u001b[0;34m,\u001b[0m  \u001b[0;36m0.08\u001b[0m\u001b[0;34m,\u001b[0m  \u001b[0;36m0.08\u001b[0m\u001b[0;34m,\u001b[0m  \u001b[0;36m0.08\u001b[0m\u001b[0;34m,\u001b[0m \u001b[0;34m-\u001b[0m\u001b[0;36m0.08\u001b[0m\u001b[0;34m,\u001b[0m \u001b[0;34m-\u001b[0m\u001b[0;36m0.08\u001b[0m\u001b[0;34m,\u001b[0m \u001b[0;34m-\u001b[0m\u001b[0;36m0.08\u001b[0m\u001b[0;34m,\u001b[0m  \u001b[0;36m0.08\u001b[0m\u001b[0;34m]\u001b[0m\u001b[0;34m,\u001b[0m\u001b[0;34m\u001b[0m\u001b[0;34m\u001b[0m\u001b[0m\n\u001b[0;32m---> 10\u001b[0;31m        [0.08,  0.08,  0.08,  0.08, -0.08, -0.08, -0.08,  0.08]]])))\n\u001b[0m",
      "\u001b[0;32m/usr/local/lib/python3.7/dist-packages/keras/utils/traceback_utils.py\u001b[0m in \u001b[0;36merror_handler\u001b[0;34m(*args, **kwargs)\u001b[0m\n\u001b[1;32m     65\u001b[0m     \u001b[0;32mexcept\u001b[0m \u001b[0mException\u001b[0m \u001b[0;32mas\u001b[0m \u001b[0me\u001b[0m\u001b[0;34m:\u001b[0m  \u001b[0;31m# pylint: disable=broad-except\u001b[0m\u001b[0;34m\u001b[0m\u001b[0;34m\u001b[0m\u001b[0m\n\u001b[1;32m     66\u001b[0m       \u001b[0mfiltered_tb\u001b[0m \u001b[0;34m=\u001b[0m \u001b[0m_process_traceback_frames\u001b[0m\u001b[0;34m(\u001b[0m\u001b[0me\u001b[0m\u001b[0;34m.\u001b[0m\u001b[0m__traceback__\u001b[0m\u001b[0;34m)\u001b[0m\u001b[0;34m\u001b[0m\u001b[0;34m\u001b[0m\u001b[0m\n\u001b[0;32m---> 67\u001b[0;31m       \u001b[0;32mraise\u001b[0m \u001b[0me\u001b[0m\u001b[0;34m.\u001b[0m\u001b[0mwith_traceback\u001b[0m\u001b[0;34m(\u001b[0m\u001b[0mfiltered_tb\u001b[0m\u001b[0;34m)\u001b[0m \u001b[0;32mfrom\u001b[0m \u001b[0;32mNone\u001b[0m\u001b[0;34m\u001b[0m\u001b[0;34m\u001b[0m\u001b[0m\n\u001b[0m\u001b[1;32m     68\u001b[0m     \u001b[0;32mfinally\u001b[0m\u001b[0;34m:\u001b[0m\u001b[0;34m\u001b[0m\u001b[0;34m\u001b[0m\u001b[0m\n\u001b[1;32m     69\u001b[0m       \u001b[0;32mdel\u001b[0m \u001b[0mfiltered_tb\u001b[0m\u001b[0;34m\u001b[0m\u001b[0;34m\u001b[0m\u001b[0m\n",
      "\u001b[0;32m/usr/local/lib/python3.7/dist-packages/tensorflow/python/framework/func_graph.py\u001b[0m in \u001b[0;36mautograph_handler\u001b[0;34m(*args, **kwargs)\u001b[0m\n\u001b[1;32m   1145\u001b[0m           \u001b[0;32mexcept\u001b[0m \u001b[0mException\u001b[0m \u001b[0;32mas\u001b[0m \u001b[0me\u001b[0m\u001b[0;34m:\u001b[0m  \u001b[0;31m# pylint:disable=broad-except\u001b[0m\u001b[0;34m\u001b[0m\u001b[0;34m\u001b[0m\u001b[0m\n\u001b[1;32m   1146\u001b[0m             \u001b[0;32mif\u001b[0m \u001b[0mhasattr\u001b[0m\u001b[0;34m(\u001b[0m\u001b[0me\u001b[0m\u001b[0;34m,\u001b[0m \u001b[0;34m\"ag_error_metadata\"\u001b[0m\u001b[0;34m)\u001b[0m\u001b[0;34m:\u001b[0m\u001b[0;34m\u001b[0m\u001b[0;34m\u001b[0m\u001b[0m\n\u001b[0;32m-> 1147\u001b[0;31m               \u001b[0;32mraise\u001b[0m \u001b[0me\u001b[0m\u001b[0;34m.\u001b[0m\u001b[0mag_error_metadata\u001b[0m\u001b[0;34m.\u001b[0m\u001b[0mto_exception\u001b[0m\u001b[0;34m(\u001b[0m\u001b[0me\u001b[0m\u001b[0;34m)\u001b[0m\u001b[0;34m\u001b[0m\u001b[0;34m\u001b[0m\u001b[0m\n\u001b[0m\u001b[1;32m   1148\u001b[0m             \u001b[0;32melse\u001b[0m\u001b[0;34m:\u001b[0m\u001b[0;34m\u001b[0m\u001b[0;34m\u001b[0m\u001b[0m\n\u001b[1;32m   1149\u001b[0m               \u001b[0;32mraise\u001b[0m\u001b[0;34m\u001b[0m\u001b[0;34m\u001b[0m\u001b[0m\n",
      "\u001b[0;31mValueError\u001b[0m: in user code:\n\n    File \"/usr/local/lib/python3.7/dist-packages/keras/engine/training.py\", line 1801, in predict_function  *\n        return step_function(self, iterator)\n    File \"/usr/local/lib/python3.7/dist-packages/keras/engine/training.py\", line 1790, in step_function  **\n        outputs = model.distribute_strategy.run(run_step, args=(data,))\n    File \"/usr/local/lib/python3.7/dist-packages/keras/engine/training.py\", line 1783, in run_step  **\n        outputs = model.predict_step(data)\n    File \"/usr/local/lib/python3.7/dist-packages/keras/engine/training.py\", line 1751, in predict_step\n        return self(x, training=False)\n    File \"/usr/local/lib/python3.7/dist-packages/keras/utils/traceback_utils.py\", line 67, in error_handler\n        raise e.with_traceback(filtered_tb) from None\n    File \"/usr/local/lib/python3.7/dist-packages/keras/engine/input_spec.py\", line 264, in assert_input_compatibility\n        raise ValueError(f'Input {input_index} of layer \"{layer_name}\" is '\n\n    ValueError: Input 0 of layer \"sequential\" is incompatible with the layer: expected shape=(None, 9, 6), found shape=(None, 10, 8)\n"
     ]
    }
   ],
   "source": [
    "np.argmax(model.predict(np.array([[[0.08,  0.08,  0.08,  0.08, -0.08, -0.08, -0.08,  0.08],\n",
    "       [0.08,  0.08,  0.08,  0.08, -0.08, -0.08, -0.08,  0.08],\n",
    "       [0.08,  0.08,  0.08,  0.08, -0.08, -0.08, -0.08,  0.08],\n",
    "       [0.08,  0.08,  0.08,  0.08, -0.08, -0.08, -0.08,  0.08],\n",
    "       [0.08,  0.08,  0.08,  0.08, -0.08, -0.08, -0.08,  0.08],\n",
    "       [0.08,  0.08,  0.08,  0.08, -0.08, -0.08, -0.08,  0.08],\n",
    "       [0.08,  0.08,  0.08,  0.08, -0.08, -0.08, -0.08,  0.08],\n",
    "       [0.08,  0.08,  0.08,  0.08, -0.08, -0.08, -0.08,  0.08],\n",
    "       [0.08,  0.08,  0.08,  0.08, -0.08, -0.08, -0.08,  0.08],\n",
    "       [0.08,  0.08,  0.08,  0.08, -0.08, -0.08, -0.08,  0.08]]])))"
   ]
  },
  {
   "cell_type": "code",
   "execution_count": null,
   "id": "e758a797-ce91-4c86-b48f-11b7906e3f1c",
   "metadata": {
    "id": "e758a797-ce91-4c86-b48f-11b7906e3f1c"
   },
   "outputs": [],
   "source": [
    "x_new = X_test[0,:,:]"
   ]
  },
  {
   "cell_type": "code",
   "execution_count": null,
   "id": "e028ea89-c194-4257-b879-9c5125aa092c",
   "metadata": {
    "id": "e028ea89-c194-4257-b879-9c5125aa092c"
   },
   "outputs": [],
   "source": [
    "argmax(model.predict(np.array([[[-0.04,  0.69,  0.72,  0.07, -0.19, -0.63, -0.71,  0.23],\n",
    "       [-0.13,  0.69,  0.7 ,  0.14, -0.19, -0.64, -0.71,  0.23],\n",
    "       [-0.22,  0.67,  0.67,  0.23, -0.19, -0.64, -0.71,  0.23],\n",
    "       [-0.25,  0.67,  0.65,  0.25, -0.19, -0.64, -0.71,  0.23],\n",
    "       [-0.31,  0.65,  0.63,  0.3 , -0.19, -0.64, -0.71,  0.23],\n",
    "       [-0.35,  0.63,  0.6 ,  0.34, -0.19, -0.64, -0.71,  0.23],\n",
    "       [-0.34,  0.64,  0.61,  0.33, -0.19, -0.64, -0.71,  0.23],\n",
    "       [-0.34,  0.64,  0.61,  0.33, -0.19, -0.64, -0.71,  0.23],\n",
    "       [-0.24,  0.67,  0.66,  0.25, -0.19, -0.64, -0.71,  0.23],\n",
    "       [-0.12,  0.69,  0.7 ,  0.14, -0.19, -0.64, -0.71,  0.23]]])))"
   ]
  },
  {
   "cell_type": "code",
   "execution_count": null,
   "id": "caeab939-e224-45cb-aeac-cba492ce706e",
   "metadata": {
    "id": "caeab939-e224-45cb-aeac-cba492ce706e"
   },
   "outputs": [],
   "source": [
    "x_new.shape"
   ]
  },
  {
   "cell_type": "code",
   "execution_count": null,
   "id": "1cd53482-ba40-4e2e-91e4-86a77c1bd571",
   "metadata": {
    "id": "1cd53482-ba40-4e2e-91e4-86a77c1bd571"
   },
   "outputs": [],
   "source": [
    "(1,) + x_new.shape"
   ]
  },
  {
   "cell_type": "code",
   "execution_count": null,
   "id": "ffe40741-ef5e-4586-8099-7ea3940df013",
   "metadata": {
    "id": "ffe40741-ef5e-4586-8099-7ea3940df013"
   },
   "outputs": [],
   "source": [
    "X_new = x_new.reshape((1,) + x_new.shape)\n",
    "fast_or_slow = saved_model(X_new)"
   ]
  },
  {
   "cell_type": "code",
   "execution_count": null,
   "id": "a4dc15ee-ec14-4cbf-a2d2-bf0d17176afa",
   "metadata": {
    "id": "a4dc15ee-ec14-4cbf-a2d2-bf0d17176afa"
   },
   "outputs": [],
   "source": [
    "float(fast_or_slow[0, 0])"
   ]
  },
  {
   "cell_type": "code",
   "execution_count": null,
   "id": "54844c3c-4be3-4599-8327-c2cfa0751e0e",
   "metadata": {
    "id": "54844c3c-4be3-4599-8327-c2cfa0751e0e"
   },
   "outputs": [],
   "source": [
    "print(X_new.tolist())\n"
   ]
  },
  {
   "cell_type": "code",
   "execution_count": null,
   "id": "7rw6-XGxwHZw",
   "metadata": {
    "id": "7rw6-XGxwHZw"
   },
   "outputs": [],
   "source": []
  },
  {
   "cell_type": "code",
   "execution_count": 72,
   "id": "vZD1w6TZwk0e",
   "metadata": {
    "id": "vZD1w6TZwk0e"
   },
   "outputs": [],
   "source": [
    "CNN.save('model_90_87.h5')"
   ]
  },
  {
   "cell_type": "code",
   "execution_count": null,
   "id": "Dg1rDKBsw7S3",
   "metadata": {
    "id": "Dg1rDKBsw7S3"
   },
   "outputs": [],
   "source": [
    "np.fromstring(X_new.tobytes(), dtype=float).reshape(1,10,4)"
   ]
  },
  {
   "cell_type": "code",
   "execution_count": null,
   "id": "DlzAFGAuxUHF",
   "metadata": {
    "id": "DlzAFGAuxUHF"
   },
   "outputs": [],
   "source": [
    "comma_string = \"[[[-1.402271e-03 -2.203955e-08 7.028995e-07 9.999990e-01 -2.328306e-10 -6.455648e-09 7.037297e-07  1.000000e+00] [-1.402271e-03 -2.203955e-08  7.028995e-07  9.999990e-01 -2.328306e-10 -6.455648e-09  7.037297e-07  1.000000e+00] [-1.402271e-03 -2.203955e-08  7.028995e-07  9.999990e-01 -2.328306e-10 -6.455648e-09  7.037297e-07  1.000000e+00] [-1.402271e-03 -2.203955e-08  7.028995e-07  9.999990e-01 -2.328306e-10 -6.455648e-09  7.037297e-07  1.000000e+00] [-1.402271e-03 -2.203955e-08  7.028995e-07  9.999990e-01 -2.328306e-10 -6.455648e-09  7.037297e-07  1.000000e+00] [-1.402271e-03 -2.203955e-08  7.028995e-07  9.999990e-01 -2.328306e-10 -6.455648e-09  7.037297e-07  1.000000e+00] [-1.402271e-03 -2.203955e-08  7.028995e-07  9.999990e-01 -2.328306e-10 -6.455648e-09  7.037297e-07  1.000000e+00] [-1.402271e-03 -2.203955e-08  7.028995e-07  9.999990e-01 -2.328306e-10 -6.455648e-09  7.037297e-07  1.000000e+00] [-1.402271e-03 -2.203955e-08  7.028995e-07  9.999990e-01 -2.328306e-10 -6.455648e-09  7.037297e-07  1.000000e+00] [-1.402271e-03 -2.203955e-08  7.028995e-07  9.999990e-01 -2.328306e-10 -6.455648e-09  7.037297e-07  1.000000e+00]]])\""
   ]
  },
  {
   "cell_type": "code",
   "execution_count": null,
   "id": "xywYtiQuDssb",
   "metadata": {
    "id": "xywYtiQuDssb"
   },
   "outputs": [],
   "source": [
    "spaces_string = comma_string.replace(' ', ',')\n",
    "spaces_string"
   ]
  },
  {
   "cell_type": "code",
   "execution_count": null,
   "id": "XDNr41Vm7MsD",
   "metadata": {
    "id": "XDNr41Vm7MsD"
   },
   "outputs": [],
   "source": [
    "import ast\n",
    "input = np.array([[[0.08, 0.14, 0.09, 0.18],\n",
    "       [0.08, 0.14, 0.09, 0.22],\n",
    "       [0.08, 0.14, 0.08, 0.17],\n",
    "       [0.08, 0.14, 0.08, 0.1 ],\n",
    "       [0.08, 0.14, 0.07, 0.08],\n",
    "       [0.08, 0.14, 0.07, 0.08],\n",
    "       [0.09, 0.2 , 0.07, 0.08],\n",
    "       [0.1 , 0.32, 0.07, 0.07],\n",
    "       [0.1 , 0.29, 0.07, 0.07],\n",
    "       [0.09, 0.24, 0.07, 0.07]]])\n",
    "    \n",
    "lista_string=\"[0.08, 0.14, 0.09, 0.18]\"\n",
    "lista= ast.literal_eval(lista_string)\n",
    "input = np.insert(input[0], 0,lista).reshape(1,11,4)\n",
    "input = input[:,:-1,:]\n",
    "input"
   ]
  },
  {
   "cell_type": "code",
   "execution_count": null,
   "id": "Y9SXyZnkxVs1",
   "metadata": {
    "id": "Y9SXyZnkxVs1"
   },
   "outputs": [],
   "source": [
    "from tensorflow.keras.models import load_model\n"
   ]
  },
  {
   "cell_type": "code",
   "execution_count": null,
   "id": "dYZo4dM_E7y8",
   "metadata": {
    "id": "dYZo4dM_E7y8"
   },
   "outputs": [],
   "source": [
    "/content/my_model"
   ]
  },
  {
   "cell_type": "code",
   "execution_count": null,
   "id": "F2L9U_219JYL",
   "metadata": {
    "id": "F2L9U_219JYL"
   },
   "outputs": [],
   "source": []
  },
  {
   "cell_type": "code",
   "execution_count": null,
   "id": "I6lCTiBu9hIN",
   "metadata": {
    "id": "I6lCTiBu9hIN"
   },
   "outputs": [],
   "source": [
    "!zip -r model.zip model/ "
   ]
  },
  {
   "cell_type": "code",
   "execution_count": null,
   "id": "txtVW0lZk0i2",
   "metadata": {
    "id": "txtVW0lZk0i2"
   },
   "outputs": [],
   "source": []
  },
  {
   "cell_type": "code",
   "execution_count": null,
   "id": "jmP1iwCVrCWB",
   "metadata": {
    "id": "jmP1iwCVrCWB"
   },
   "outputs": [],
   "source": [
    "print(json_str)"
   ]
  },
  {
   "cell_type": "code",
   "execution_count": null,
   "id": "xnhM2JtlrKUG",
   "metadata": {
    "id": "xnhM2JtlrKUG"
   },
   "outputs": [],
   "source": [
    "input = np.array([[[ 2.66, -1.94,  0.66, -0.07],\n",
    "       [ 2.66, -1.94,  0.66, -0.07],\n",
    "       [ 2.65, -2.1 ,  0.66, -0.07],\n",
    "       [ 2.65, -2.2 ,  0.66, -0.07],\n",
    "       [ 2.65, -2.22,  0.66, -0.07],\n",
    "       [ 2.65, -2.22,  0.68,  0.01],\n",
    "       [ 2.64, -2.22,  0.68,  0.18],\n",
    "       [ 2.64, -2.22,  0.69,  0.26],\n",
    "       [ 2.64, -2.22,  0.67,  0.16],\n",
    "       [ 2.64, -2.22,  0.67,  0.03]]])"
   ]
  },
  {
   "cell_type": "code",
   "execution_count": null,
   "id": "-RaeJ9fealdj",
   "metadata": {
    "id": "-RaeJ9fealdj"
   },
   "outputs": [],
   "source": [
    "import ast\n",
    "lista_string=\"[ 2.66, -1.94,  0.66, -0.07]\"\n",
    "lista= ast.literal_eval(lista_string)\n",
    "input = np.append(input[0],[lista],axis=0).reshape(1,11,4)\n",
    "input = input[:,1:,:]"
   ]
  },
  {
   "cell_type": "code",
   "execution_count": null,
   "id": "dSPIJMHBapbY",
   "metadata": {
    "id": "dSPIJMHBapbY"
   },
   "outputs": [],
   "source": [
    "input"
   ]
  },
  {
   "cell_type": "code",
   "execution_count": null,
   "id": "8LVg3UYja8xp",
   "metadata": {
    "id": "8LVg3UYja8xp"
   },
   "outputs": [],
   "source": [
    "X_train[0]"
   ]
  },
  {
   "cell_type": "code",
   "execution_count": null,
   "id": "I3PN3mu1iAis",
   "metadata": {
    "id": "I3PN3mu1iAis"
   },
   "outputs": [],
   "source": [
    "import re\n",
    "\n",
    "s = \"[[[-1.402271e-03 -2.203955e-08  7.028995e-07  9.999990e-01 -2.328306e-10 -6.455648e-09  7.037297e-07  1.000000e+00] [-1.402271e-03 -2.203955e-08  7.028995e-07  9.999990e-01 -2.328306e-10 -6.455648e-09  7.037297e-07  1.000000e+00] [-1.402271e-03 -2.203955e-08  7.028995e-07  9.999990e-01 -2.328306e-10 -6.455648e-09  7.037297e-07  1.000000e+00] [-1.402271e-03 -2.203955e-08  7.028995e-07  9.999990e-01 -2.328306e-10 -6.455648e-09  7.037297e-07  1.000000e+00] [-1.402271e-03 -2.203955e-08  7.028995e-07  9.999990e-01 -2.328306e-10 -6.455648e-09  7.037297e-07  1.000000e+00] [-1.402271e-03 -2.203955e-08  7.028995e-07  9.999990e-01 -2.328306e-10 -6.455648e-09  7.037297e-07  1.000000e+00] [-1.402271e-03 -2.203955e-08  7.028995e-07  9.999990e-01 -2.328306e-10 -6.455648e-09  7.037297e-07  1.000000e+00] [-1.402271e-03 -2.203955e-08  7.028995e-07  9.999990e-01 -2.328306e-10 -6.455648e-09  7.037297e-07  1.000000e+00] [-1.402271e-03 -2.203955e-08  7.028995e-07  9.999990e-01 -2.328306e-10 -6.455648e-09  7.037297e-07  1.000000e+00] [-1.402271e-03 -2.203955e-08  7.028995e-07  9.999990e-01 -2.328306e-10 -6.455648e-09  7.037297e-07  1.000000e+00]]]\"\n",
    "\n",
    "def add_comma(match):\n",
    "    return match.group(0) + ','\n",
    "\n",
    "s = re.sub(r'\\[[0-9\\.\\s]+\\]', add_comma, s)\n",
    "s = re.sub(r'([0-9\\.]+)', add_comma, s)\n",
    "mylist = eval(s)"
   ]
  },
  {
   "cell_type": "code",
   "execution_count": null,
   "id": "sVQuC3TvzIGz",
   "metadata": {
    "id": "sVQuC3TvzIGz"
   },
   "outputs": [],
   "source": [
    "mylist"
   ]
  },
  {
   "cell_type": "code",
   "execution_count": null,
   "id": "WaxWOPL_zKMZ",
   "metadata": {
    "id": "WaxWOPL_zKMZ"
   },
   "outputs": [],
   "source": []
  }
 ],
 "metadata": {
  "accelerator": "GPU",
  "colab": {
   "provenance": []
  },
  "gpuClass": "standard",
  "kernelspec": {
   "display_name": "Python 3 (ipykernel)",
   "language": "python",
   "name": "python3"
  },
  "language_info": {
   "codemirror_mode": {
    "name": "ipython",
    "version": 3
   },
   "file_extension": ".py",
   "mimetype": "text/x-python",
   "name": "python",
   "nbconvert_exporter": "python",
   "pygments_lexer": "ipython3",
   "version": "3.9.12"
  }
 },
 "nbformat": 4,
 "nbformat_minor": 5
}
