{
 "cells": [
  {
   "cell_type": "code",
   "execution_count": 1,
   "id": "b41f0b0f-cc96-43a2-ab7f-f3264587e7d2",
   "metadata": {
    "id": "b41f0b0f-cc96-43a2-ab7f-f3264587e7d2"
   },
   "outputs": [
    {
     "name": "stderr",
     "output_type": "stream",
     "text": [
      "/Users/fernandokenjisakabe/opt/anaconda3/lib/python3.9/site-packages/scipy/__init__.py:146: UserWarning: A NumPy version >=1.16.5 and <1.23.0 is required for this version of SciPy (detected version 1.24.1\n",
      "  warnings.warn(f\"A NumPy version >={np_minversion} and <{np_maxversion}\"\n"
     ]
    }
   ],
   "source": [
    "from pathlib import Path\n",
    "import matplotlib.pyplot as plt\n",
    "import numpy as np\n",
    "import pandas as pd\n",
    "import tensorflow as tf\n",
    "import tensorflow.keras as keras\n",
    "from tensorflow.python.keras.layers import Dense\n",
    "from numpy.random import default_rng\n",
    "from sklearn.model_selection import train_test_split"
   ]
  },
  {
   "cell_type": "code",
   "execution_count": 2,
   "id": "c9e9560b-749a-49a8-aedf-44a1ac9b4bb1",
   "metadata": {
    "id": "c9e9560b-749a-49a8-aedf-44a1ac9b4bb1"
   },
   "outputs": [],
   "source": [
    "# Loading pipeline params.\n",
    "DATA_PATH = Path('data')\n",
    "FILENAME_STOP = 'stop_90_diff_quat.csv'\n",
    "FILENAME_0 = '0_90_diff_quat.csv'\n",
    "FILENAME_90 = '90_90_diff_quat.csv'\n",
    "FILENAME_180 = '180_90_diff_quat.csv'\n",
    "FILENAME_270 = '270_90_diff_quat.csv'\n",
    "\n",
    "NUM_TIMESTEPS = 6\n",
    "IGNORE_FRACTION = 0.1\n",
    "TEST_FRACTION = 0.25\n",
    "\n",
    "# Training params.\n",
    "LEARNING_RATE = 1e-5\n",
    "EPOCHS = 100\n",
    "BATCH_SIZE = 512"
   ]
  },
  {
   "cell_type": "code",
   "execution_count": 3,
   "id": "7f52716d-1339-4484-9fd3-d5206979ba8e",
   "metadata": {
    "id": "7f52716d-1339-4484-9fd3-d5206979ba8e"
   },
   "outputs": [],
   "source": [
    "def load_data(\n",
    "    path_stop,\n",
    "    path_0,\n",
    "    path_90,\n",
    "    path_180,\n",
    "    path_270,\n",
    "    num_timesteps,\n",
    "    ignore_fraction,\n",
    "    test_fraction,\n",
    "):\n",
    "\n",
    "    def read_and_prepare_data(\n",
    "        path,\n",
    "        class_,\n",
    "        num_timesteps,\n",
    "        ignore_fraction,\n",
    "        test_fraction,\n",
    "    ):\n",
    "\n",
    "        def split_temporally(X, test_fraction):\n",
    "            num_samples = X.shape[0]\n",
    "            num_train = int(num_samples * (1.0 - test_fraction))\n",
    "            X_train, X_test = X[:num_train], X[num_train:]\n",
    "            return X_train, X_test\n",
    "\n",
    "        def transform_into_sequences(X, num_timesteps):\n",
    "            num_samples = X.shape[0]\n",
    "            X_seq = []\n",
    "            for k in range(num_samples - num_timesteps + 1):\n",
    "                X_seq.append(X[k:(k + num_timesteps)])\n",
    "            X_seq = np.array(X_seq)\n",
    "            y_seq = class_ * np.ones((X_seq.shape[0], 1))\n",
    "            return X_seq, y_seq\n",
    "\n",
    "        X = pd.read_csv(path).values\n",
    "        X = X[:, [0,1,2,3,4,5,6,7,8,9,10,11,12,13]]  # Use only feet translations.\n",
    "\n",
    "        # Ignore beginning and end.\n",
    "        num_samples = X.shape[0]\n",
    "        num_ignore = int(ignore_fraction * num_samples)\n",
    "        X = X[num_ignore:-num_ignore]\n",
    "\n",
    "        # Split X temporally.\n",
    "        X_train, X_test = split_temporally(X, test_fraction)\n",
    "\n",
    "        # Transform X into short sequences.\n",
    "        X_train, y_train = transform_into_sequences(X_train, num_timesteps)\n",
    "        X_test, y_test = transform_into_sequences(X_test, num_timesteps)\n",
    "\n",
    "        return X_train, y_train, X_test, y_test\n",
    "\n",
    "    def shuffle_data(X, y):\n",
    "        idx = np.arange(len(X))\n",
    "        default_rng().shuffle(idx)\n",
    "        X_shuffled = X[idx, :]\n",
    "        y_shuffled = y[idx]\n",
    "        return X_shuffled, y_shuffled\n",
    "\n",
    "    X_train_stop, y_train_stop, X_test_stop, y_test_stop = \\\n",
    "        read_and_prepare_data(\n",
    "            path_stop,\n",
    "            0.0,\n",
    "            num_timesteps,\n",
    "            ignore_fraction,\n",
    "            test_fraction,\n",
    "        )\n",
    "    \n",
    "    X_train_0, y_train_0, X_test_0, y_test_0 = \\\n",
    "        read_and_prepare_data(\n",
    "            path_0,\n",
    "            1.0,\n",
    "            num_timesteps,\n",
    "            ignore_fraction,\n",
    "            test_fraction,\n",
    "        )\n",
    "\n",
    "    X_train_90, y_train_90, X_test_90, y_test_90 = \\\n",
    "        read_and_prepare_data(\n",
    "            path_90,\n",
    "            2.0,\n",
    "            num_timesteps,\n",
    "            ignore_fraction,\n",
    "            test_fraction,\n",
    "        )\n",
    "    \n",
    "    X_train_180, y_train_180, X_test_180, y_test_180 = \\\n",
    "        read_and_prepare_data(\n",
    "            path_180,\n",
    "            3.0,\n",
    "            num_timesteps,\n",
    "            ignore_fraction,\n",
    "            test_fraction,\n",
    "        )\n",
    "    \n",
    "    X_train_270, y_train_270, X_test_270, y_test_270 = \\\n",
    "        read_and_prepare_data(\n",
    "            path_270,\n",
    "            4.0,\n",
    "            num_timesteps,\n",
    "            ignore_fraction,\n",
    "            test_fraction,\n",
    "        )\n",
    "\n",
    "    X_train = np.concatenate((X_train_stop, X_train_0, X_train_90, X_train_180, X_train_270), axis=0)\n",
    "    y_train = np.concatenate((y_train_stop, y_train_0, y_train_90, y_train_180, y_train_270), axis=0)\n",
    "    X_test = np.concatenate((X_test_stop, X_test_0, X_test_90, X_test_180, X_test_270), axis=0)\n",
    "    y_test = np.concatenate((y_test_stop, y_test_0, y_test_90, y_test_180, y_test_270), axis=0)\n",
    "\n",
    "    X_train, y_train = shuffle_data(X_train, y_train)\n",
    "    X_test, y_test = shuffle_data(X_test, y_test)\n",
    "\n",
    "    return X_train, X_test, y_train, y_test\n",
    "\n",
    "\n",
    "path_stop = Path(DATA_PATH, FILENAME_STOP)\n",
    "path_0 = Path(DATA_PATH, FILENAME_0)\n",
    "path_90 = Path(DATA_PATH, FILENAME_90)\n",
    "path_180 = Path(DATA_PATH, FILENAME_180)\n",
    "path_270 = Path(DATA_PATH, FILENAME_270)\n",
    "\n",
    "X_train, X_test, y_train, y_test = load_data(\n",
    "    path_stop,\n",
    "    path_0,\n",
    "    path_90,\n",
    "    path_180,\n",
    "    path_270,\n",
    "    NUM_TIMESTEPS,\n",
    "    IGNORE_FRACTION,\n",
    "    TEST_FRACTION,\n",
    ")"
   ]
  },
  {
   "cell_type": "code",
   "execution_count": 4,
   "id": "99c35712-1089-44f3-89ef-ed471b144c96",
   "metadata": {
    "colab": {
     "base_uri": "https://localhost:8080/"
    },
    "id": "99c35712-1089-44f3-89ef-ed471b144c96",
    "outputId": "9076061a-8661-4d2e-c1ed-887a92ec640b"
   },
   "outputs": [
    {
     "data": {
      "text/plain": [
       "((100773, 6, 14), (100773, 1), (33575, 6, 14), (33575, 1))"
      ]
     },
     "execution_count": 4,
     "metadata": {},
     "output_type": "execute_result"
    }
   ],
   "source": [
    "X_train.shape, y_train.shape, X_test.shape, y_test.shape"
   ]
  },
  {
   "cell_type": "code",
   "execution_count": 5,
   "id": "VqSuqgBCB_nA",
   "metadata": {
    "colab": {
     "base_uri": "https://localhost:8080/"
    },
    "id": "VqSuqgBCB_nA",
    "outputId": "26d50bbe-3fd3-4bed-e70e-7003d289c5d6"
   },
   "outputs": [
    {
     "data": {
      "text/plain": [
       "(6, 14)"
      ]
     },
     "execution_count": 5,
     "metadata": {},
     "output_type": "execute_result"
    }
   ],
   "source": [
    "X_test[60].shape\n"
   ]
  },
  {
   "cell_type": "code",
   "execution_count": null,
   "id": "dye8vjENBtXX",
   "metadata": {
    "id": "dye8vjENBtXX"
   },
   "outputs": [],
   "source": []
  },
  {
   "cell_type": "code",
   "execution_count": null,
   "id": "-3TttkaRCM4l",
   "metadata": {
    "id": "-3TttkaRCM4l"
   },
   "outputs": [],
   "source": []
  },
  {
   "cell_type": "code",
   "execution_count": 6,
   "id": "3a85634b-4e9c-45b8-b456-cb970457302f",
   "metadata": {
    "id": "3a85634b-4e9c-45b8-b456-cb970457302f"
   },
   "outputs": [
    {
     "name": "stdout",
     "output_type": "stream",
     "text": [
      "Model: \"Sequential_CNN\"\n",
      "_________________________________________________________________\n",
      " Layer (type)                Output Shape              Param #   \n",
      "=================================================================\n",
      " conv2d (Conv2D)             (None, 2, 4, 256)         1280      \n",
      "                                                                 \n",
      " max_pooling2d (MaxPooling2D  (None, 1, 3, 256)        0         \n",
      " )                                                               \n",
      "                                                                 \n",
      " flatten (Flatten)           (None, 768)               0         \n",
      "                                                                 \n",
      " dense (Dense)               (None, 64)                49216     \n",
      "                                                                 \n",
      " dense_1 (Dense)             (None, 32)                2080      \n",
      "                                                                 \n",
      " dense_2 (Dense)             (None, 5)                 165       \n",
      "                                                                 \n",
      "=================================================================\n",
      "Total params: 52,741\n",
      "Trainable params: 52,741\n",
      "Non-trainable params: 0\n",
      "_________________________________________________________________\n"
     ]
    },
    {
     "name": "stderr",
     "output_type": "stream",
     "text": [
      "2023-01-19 15:49:18.655925: I tensorflow/core/platform/cpu_feature_guard.cc:193] This TensorFlow binary is optimized with oneAPI Deep Neural Network Library (oneDNN) to use the following CPU instructions in performance-critical operations:  AVX2 FMA\n",
      "To enable them in other operations, rebuild TensorFlow with the appropriate compiler flags.\n"
     ]
    }
   ],
   "source": [
    "from tensorflow.keras.models import Sequential\n",
    "from tensorflow.keras.layers import Conv2D, MaxPooling2D, Flatten, Dense\n",
    "\n",
    "CNN = Sequential(name=\"Sequential_CNN\")\n",
    "\n",
    "CNN.add(Conv2D(256, kernel_size=(2, 2),\n",
    "               strides=(4, 4), padding=\"same\",\n",
    "               activation=\"selu\", input_shape=[6, 14, 1]))\n",
    "\n",
    "CNN.add(MaxPooling2D(pool_size=(2, 2), strides=(1, 1),\n",
    "                     padding=\"valid\"))\n",
    "\n",
    "# Add another pair of Conv2D and MaxPooling2D for more model depth,\n",
    "# followed by the flatten and multiple dense layers\n",
    "\n",
    "# CNN.add(Conv2D(64, kernel_size=(3, 3),\n",
    "#                strides=(1, 1), padding=\"same\",\n",
    "#                activation=\"selu\"))\n",
    "\n",
    "# CNN.add(MaxPooling2D(pool_size=(2, 2), strides=(1, 1),\n",
    "#                      padding=\"valid\"))\n",
    "\n",
    "CNN.add(Flatten())\n",
    "\n",
    "CNN.add(Dense(64, activation='selu'))\n",
    "CNN.add(Dense(32, activation='selu'))\n",
    "CNN.add(Dense(5, activation='softmax'))\n",
    "\n",
    "CNN.summary()"
   ]
  },
  {
   "cell_type": "code",
   "execution_count": null,
   "id": "j0C2RSxICKzq",
   "metadata": {
    "colab": {
     "base_uri": "https://localhost:8080/"
    },
    "id": "j0C2RSxICKzq",
    "outputId": "af853522-fdf6-40e4-8d0e-cd2a6dcdab9b"
   },
   "outputs": [],
   "source": []
  },
  {
   "cell_type": "code",
   "execution_count": 7,
   "id": "911581af",
   "metadata": {},
   "outputs": [],
   "source": [
    "from numpy import *\n",
    "where_are_NaNsx = isnan(X_train)\n",
    "X_train[where_are_NaNsx] = 0\n",
    "\n",
    "where_are_NaNsy = isnan(y_train)\n",
    "y_train[where_are_NaNsy] = 0\n",
    "\n",
    "where_are_NaNsxt = isnan(X_test)\n",
    "X_test[where_are_NaNsxt] = 0\n",
    "\n",
    "where_are_NaNsyt = isnan(y_test)\n",
    "y_test[where_are_NaNsyt] = 0"
   ]
  },
  {
   "cell_type": "code",
   "execution_count": null,
   "id": "7baf8970-5318-4461-b828-d34c232afa5f",
   "metadata": {
    "colab": {
     "base_uri": "https://localhost:8080/"
    },
    "id": "7baf8970-5318-4461-b828-d34c232afa5f",
    "outputId": "08a66cc8-aeee-42ba-f039-9dfa2ba6f99e"
   },
   "outputs": [
    {
     "name": "stdout",
     "output_type": "stream",
     "text": [
      "Epoch 1/100\n",
      "394/394 [==============================] - 4s 9ms/step - loss: 0.1763 - accuracy: 0.9380 - val_loss: 0.1019 - val_accuracy: 0.9703\n",
      "Epoch 2/100\n",
      "394/394 [==============================] - 4s 9ms/step - loss: 0.1479 - accuracy: 0.9501 - val_loss: 0.1095 - val_accuracy: 0.9762\n",
      "Epoch 3/100\n",
      "394/394 [==============================] - 4s 10ms/step - loss: 0.1430 - accuracy: 0.9520 - val_loss: 0.1205 - val_accuracy: 0.9643\n",
      "Epoch 4/100\n",
      "394/394 [==============================] - 3s 8ms/step - loss: 0.1281 - accuracy: 0.9574 - val_loss: 0.0778 - val_accuracy: 0.9793\n",
      "Epoch 5/100\n",
      "394/394 [==============================] - 3s 9ms/step - loss: 0.1154 - accuracy: 0.9620 - val_loss: 0.0932 - val_accuracy: 0.9722\n",
      "Epoch 6/100\n",
      "394/394 [==============================] - 4s 9ms/step - loss: 0.1128 - accuracy: 0.9637 - val_loss: 0.0910 - val_accuracy: 0.9807\n",
      "Epoch 7/100\n",
      "394/394 [==============================] - 4s 9ms/step - loss: 0.1058 - accuracy: 0.9655 - val_loss: 0.0727 - val_accuracy: 0.9835\n",
      "Epoch 8/100\n",
      "394/394 [==============================] - 3s 9ms/step - loss: 0.1034 - accuracy: 0.9665 - val_loss: 0.0908 - val_accuracy: 0.9714\n",
      "Epoch 9/100\n",
      "394/394 [==============================] - 4s 10ms/step - loss: 0.0983 - accuracy: 0.9680 - val_loss: 0.0609 - val_accuracy: 0.9833\n",
      "Epoch 10/100\n",
      "394/394 [==============================] - 4s 9ms/step - loss: 0.0886 - accuracy: 0.9714 - val_loss: 0.0789 - val_accuracy: 0.9776\n",
      "Epoch 11/100\n",
      "394/394 [==============================] - 3s 9ms/step - loss: 0.0903 - accuracy: 0.9709 - val_loss: 0.0581 - val_accuracy: 0.9848\n",
      "Epoch 12/100\n",
      "394/394 [==============================] - 4s 9ms/step - loss: 0.0874 - accuracy: 0.9719 - val_loss: 0.0527 - val_accuracy: 0.9857\n",
      "Epoch 13/100\n",
      "394/394 [==============================] - 4s 9ms/step - loss: 0.0883 - accuracy: 0.9718 - val_loss: 0.0883 - val_accuracy: 0.9760\n",
      "Epoch 14/100\n",
      "394/394 [==============================] - 3s 9ms/step - loss: 0.0823 - accuracy: 0.9741 - val_loss: 0.0562 - val_accuracy: 0.9852\n",
      "Epoch 15/100\n",
      "394/394 [==============================] - 4s 10ms/step - loss: 0.0806 - accuracy: 0.9745 - val_loss: 0.0721 - val_accuracy: 0.9808\n",
      "Epoch 16/100\n",
      "394/394 [==============================] - 4s 9ms/step - loss: 0.0804 - accuracy: 0.9745 - val_loss: 0.1464 - val_accuracy: 0.9469\n",
      "Epoch 17/100\n",
      "394/394 [==============================] - 4s 9ms/step - loss: 0.0817 - accuracy: 0.9739 - val_loss: 0.0831 - val_accuracy: 0.9751\n",
      "Epoch 18/100\n",
      "394/394 [==============================] - 4s 9ms/step - loss: 0.0789 - accuracy: 0.9747 - val_loss: 0.0856 - val_accuracy: 0.9758\n",
      "Epoch 19/100\n",
      "394/394 [==============================] - 4s 9ms/step - loss: 0.0748 - accuracy: 0.9767 - val_loss: 0.0636 - val_accuracy: 0.9849\n",
      "Epoch 20/100\n",
      "394/394 [==============================] - 4s 9ms/step - loss: 0.0717 - accuracy: 0.9775 - val_loss: 0.0649 - val_accuracy: 0.9777\n",
      "Epoch 21/100\n",
      "394/394 [==============================] - 4s 9ms/step - loss: 0.0769 - accuracy: 0.9760 - val_loss: 0.0679 - val_accuracy: 0.9828\n",
      "Epoch 22/100\n",
      "394/394 [==============================] - 4s 9ms/step - loss: 0.0739 - accuracy: 0.9769 - val_loss: 0.0624 - val_accuracy: 0.9802\n",
      "Epoch 23/100\n",
      "394/394 [==============================] - 3s 9ms/step - loss: 0.0750 - accuracy: 0.9767 - val_loss: 0.0831 - val_accuracy: 0.9740\n",
      "Epoch 24/100\n",
      "394/394 [==============================] - 3s 9ms/step - loss: 0.0730 - accuracy: 0.9768 - val_loss: 0.0761 - val_accuracy: 0.9781\n",
      "Epoch 25/100\n",
      "394/394 [==============================] - 3s 8ms/step - loss: 0.0688 - accuracy: 0.9783 - val_loss: 0.0660 - val_accuracy: 0.9798\n",
      "Epoch 26/100\n",
      "394/394 [==============================] - 3s 9ms/step - loss: 0.0683 - accuracy: 0.9787 - val_loss: 0.0849 - val_accuracy: 0.9747\n",
      "Epoch 27/100\n",
      "394/394 [==============================] - 3s 8ms/step - loss: 0.0701 - accuracy: 0.9781 - val_loss: 0.1009 - val_accuracy: 0.9699\n",
      "Epoch 28/100\n",
      "394/394 [==============================] - 3s 8ms/step - loss: 0.0657 - accuracy: 0.9799 - val_loss: 0.0669 - val_accuracy: 0.9786\n",
      "Epoch 29/100\n",
      "394/394 [==============================] - 4s 10ms/step - loss: 0.0793 - accuracy: 0.9745 - val_loss: 0.1005 - val_accuracy: 0.9653\n",
      "Epoch 30/100\n",
      "394/394 [==============================] - 5s 13ms/step - loss: 0.0667 - accuracy: 0.9793 - val_loss: 0.0755 - val_accuracy: 0.9775\n",
      "Epoch 31/100\n",
      "394/394 [==============================] - 4s 9ms/step - loss: 0.0637 - accuracy: 0.9800 - val_loss: 0.0801 - val_accuracy: 0.9747\n",
      "Epoch 32/100\n",
      "394/394 [==============================] - 4s 10ms/step - loss: 0.0629 - accuracy: 0.9803 - val_loss: 0.1266 - val_accuracy: 0.9582\n",
      "Epoch 33/100\n",
      "394/394 [==============================] - 4s 10ms/step - loss: 0.0677 - accuracy: 0.9789 - val_loss: 0.1164 - val_accuracy: 0.9605\n",
      "Epoch 34/100\n",
      "394/394 [==============================] - 3s 9ms/step - loss: 0.0639 - accuracy: 0.9804 - val_loss: 0.0900 - val_accuracy: 0.9713\n",
      "Epoch 35/100\n",
      "394/394 [==============================] - 3s 9ms/step - loss: 0.0653 - accuracy: 0.9796 - val_loss: 0.1022 - val_accuracy: 0.9660\n",
      "Epoch 36/100\n",
      "394/394 [==============================] - 3s 8ms/step - loss: 0.0626 - accuracy: 0.9806 - val_loss: 0.0917 - val_accuracy: 0.9723\n",
      "Epoch 37/100\n",
      "394/394 [==============================] - 3s 8ms/step - loss: 0.0658 - accuracy: 0.9794 - val_loss: 0.0836 - val_accuracy: 0.9752\n",
      "Epoch 38/100\n",
      "394/394 [==============================] - 3s 9ms/step - loss: 0.0608 - accuracy: 0.9811 - val_loss: 0.0896 - val_accuracy: 0.9730\n",
      "Epoch 39/100\n",
      "394/394 [==============================] - 3s 9ms/step - loss: 0.0663 - accuracy: 0.9791 - val_loss: 0.1154 - val_accuracy: 0.9627\n",
      "Epoch 40/100\n",
      "394/394 [==============================] - 3s 8ms/step - loss: 0.0602 - accuracy: 0.9818 - val_loss: 0.1160 - val_accuracy: 0.9620\n",
      "Epoch 41/100\n",
      "394/394 [==============================] - 3s 8ms/step - loss: 0.0613 - accuracy: 0.9808 - val_loss: 0.1417 - val_accuracy: 0.9550\n",
      "Epoch 42/100\n",
      "394/394 [==============================] - 3s 8ms/step - loss: 0.0598 - accuracy: 0.9819 - val_loss: 0.1393 - val_accuracy: 0.9540\n",
      "Epoch 43/100\n",
      "394/394 [==============================] - 3s 8ms/step - loss: 0.0660 - accuracy: 0.9792 - val_loss: 0.1227 - val_accuracy: 0.9577\n",
      "Epoch 44/100\n",
      "394/394 [==============================] - 3s 8ms/step - loss: 0.0610 - accuracy: 0.9811 - val_loss: 0.0957 - val_accuracy: 0.9686\n",
      "Epoch 45/100\n",
      "394/394 [==============================] - 3s 8ms/step - loss: 0.0597 - accuracy: 0.9817 - val_loss: 0.1062 - val_accuracy: 0.9654\n",
      "Epoch 46/100\n",
      "394/394 [==============================] - 3s 8ms/step - loss: 0.0584 - accuracy: 0.9822 - val_loss: 0.1204 - val_accuracy: 0.9607\n",
      "Epoch 47/100\n",
      "394/394 [==============================] - 3s 8ms/step - loss: 0.0605 - accuracy: 0.9813 - val_loss: 0.1287 - val_accuracy: 0.9573\n",
      "Epoch 48/100\n",
      "394/394 [==============================] - 3s 8ms/step - loss: 0.0661 - accuracy: 0.9794 - val_loss: 0.0918 - val_accuracy: 0.9726\n",
      "Epoch 49/100\n",
      "394/394 [==============================] - 3s 8ms/step - loss: 0.0562 - accuracy: 0.9827 - val_loss: 0.1046 - val_accuracy: 0.9669\n",
      "Epoch 50/100\n",
      "394/394 [==============================] - 3s 8ms/step - loss: 0.0543 - accuracy: 0.9832 - val_loss: 0.1171 - val_accuracy: 0.9600\n",
      "Epoch 51/100\n",
      "394/394 [==============================] - 3s 9ms/step - loss: 0.0567 - accuracy: 0.9821 - val_loss: 0.1278 - val_accuracy: 0.9610\n",
      "Epoch 52/100\n",
      "394/394 [==============================] - 3s 9ms/step - loss: 0.0580 - accuracy: 0.9819 - val_loss: 0.1458 - val_accuracy: 0.9526\n",
      "Epoch 53/100\n",
      "394/394 [==============================] - 3s 8ms/step - loss: 0.0577 - accuracy: 0.9820 - val_loss: 0.1193 - val_accuracy: 0.9638\n",
      "Epoch 54/100\n",
      "394/394 [==============================] - 3s 8ms/step - loss: 0.0593 - accuracy: 0.9815 - val_loss: 0.0973 - val_accuracy: 0.9710\n",
      "Epoch 55/100\n",
      "394/394 [==============================] - 3s 8ms/step - loss: 0.0552 - accuracy: 0.9828 - val_loss: 0.1449 - val_accuracy: 0.9524\n",
      "Epoch 56/100\n",
      "394/394 [==============================] - 3s 8ms/step - loss: 0.0582 - accuracy: 0.9824 - val_loss: 0.1245 - val_accuracy: 0.9607\n",
      "Epoch 57/100\n",
      "394/394 [==============================] - 3s 8ms/step - loss: 0.0551 - accuracy: 0.9828 - val_loss: 0.1105 - val_accuracy: 0.9667\n"
     ]
    },
    {
     "name": "stdout",
     "output_type": "stream",
     "text": [
      "Epoch 58/100\n",
      "394/394 [==============================] - 3s 9ms/step - loss: 0.0544 - accuracy: 0.9832 - val_loss: 0.1426 - val_accuracy: 0.9547\n",
      "Epoch 59/100\n",
      "394/394 [==============================] - 3s 9ms/step - loss: 0.0533 - accuracy: 0.9835 - val_loss: 0.0969 - val_accuracy: 0.9691\n",
      "Epoch 60/100\n",
      "394/394 [==============================] - 4s 9ms/step - loss: 0.0537 - accuracy: 0.9835 - val_loss: 0.1040 - val_accuracy: 0.9672\n",
      "Epoch 61/100\n",
      "394/394 [==============================] - 3s 8ms/step - loss: 0.0579 - accuracy: 0.9819 - val_loss: 0.1483 - val_accuracy: 0.9545\n",
      "Epoch 62/100\n",
      "394/394 [==============================] - 3s 8ms/step - loss: 0.0539 - accuracy: 0.9833 - val_loss: 0.1561 - val_accuracy: 0.9517\n",
      "Epoch 63/100\n",
      "394/394 [==============================] - 3s 9ms/step - loss: 0.0581 - accuracy: 0.9818 - val_loss: 0.1067 - val_accuracy: 0.9657\n",
      "Epoch 64/100\n",
      "394/394 [==============================] - 3s 9ms/step - loss: 0.0517 - accuracy: 0.9836 - val_loss: 0.1450 - val_accuracy: 0.9565\n",
      "Epoch 65/100\n",
      "394/394 [==============================] - 3s 8ms/step - loss: 0.0516 - accuracy: 0.9839 - val_loss: 0.1282 - val_accuracy: 0.9590\n",
      "Epoch 66/100\n",
      "394/394 [==============================] - 3s 9ms/step - loss: 0.0546 - accuracy: 0.9830 - val_loss: 0.2539 - val_accuracy: 0.9392\n",
      "Epoch 67/100\n",
      "394/394 [==============================] - 3s 8ms/step - loss: 0.0509 - accuracy: 0.9843 - val_loss: 0.1863 - val_accuracy: 0.9467\n",
      "Epoch 68/100\n",
      "394/394 [==============================] - 3s 8ms/step - loss: 0.0528 - accuracy: 0.9835 - val_loss: 0.1459 - val_accuracy: 0.9517\n",
      "Epoch 69/100\n",
      "394/394 [==============================] - 3s 8ms/step - loss: 0.0528 - accuracy: 0.9833 - val_loss: 0.1671 - val_accuracy: 0.9471\n",
      "Epoch 70/100\n",
      "394/394 [==============================] - 3s 8ms/step - loss: 0.0536 - accuracy: 0.9835 - val_loss: 0.2371 - val_accuracy: 0.9374\n",
      "Epoch 71/100\n",
      "394/394 [==============================] - 3s 8ms/step - loss: 0.0495 - accuracy: 0.9848 - val_loss: 0.1449 - val_accuracy: 0.9569\n",
      "Epoch 72/100\n",
      "394/394 [==============================] - 3s 8ms/step - loss: 0.0502 - accuracy: 0.9848 - val_loss: 0.1862 - val_accuracy: 0.9428\n",
      "Epoch 73/100\n",
      "394/394 [==============================] - 3s 8ms/step - loss: 0.0519 - accuracy: 0.9837 - val_loss: 0.1736 - val_accuracy: 0.9452\n",
      "Epoch 74/100\n",
      "394/394 [==============================] - 3s 8ms/step - loss: 0.0490 - accuracy: 0.9845 - val_loss: 0.0927 - val_accuracy: 0.9727\n",
      "Epoch 75/100\n",
      "394/394 [==============================] - 3s 8ms/step - loss: 0.0541 - accuracy: 0.9828 - val_loss: 0.1245 - val_accuracy: 0.9628\n",
      "Epoch 76/100\n",
      "394/394 [==============================] - 3s 8ms/step - loss: 0.0518 - accuracy: 0.9841 - val_loss: 0.2006 - val_accuracy: 0.9423\n",
      "Epoch 77/100\n",
      "394/394 [==============================] - 3s 8ms/step - loss: 0.0488 - accuracy: 0.9846 - val_loss: 0.1514 - val_accuracy: 0.9540\n",
      "Epoch 78/100\n",
      "394/394 [==============================] - 3s 8ms/step - loss: 0.0493 - accuracy: 0.9849 - val_loss: 0.1481 - val_accuracy: 0.9565\n",
      "Epoch 79/100\n",
      "394/394 [==============================] - 3s 8ms/step - loss: 0.0502 - accuracy: 0.9843 - val_loss: 0.1283 - val_accuracy: 0.9620\n",
      "Epoch 80/100\n",
      "394/394 [==============================] - 3s 9ms/step - loss: 0.0514 - accuracy: 0.9844 - val_loss: 0.1063 - val_accuracy: 0.9673\n",
      "Epoch 81/100\n",
      "394/394 [==============================] - 4s 9ms/step - loss: 0.0493 - accuracy: 0.9850 - val_loss: 0.1773 - val_accuracy: 0.9459\n",
      "Epoch 82/100\n",
      "394/394 [==============================] - 3s 9ms/step - loss: 0.0496 - accuracy: 0.9845 - val_loss: 0.1465 - val_accuracy: 0.9550\n",
      "Epoch 83/100\n",
      "394/394 [==============================] - 3s 8ms/step - loss: 0.0507 - accuracy: 0.9844 - val_loss: 0.1691 - val_accuracy: 0.9484\n",
      "Epoch 84/100\n",
      "394/394 [==============================] - 3s 8ms/step - loss: 0.0495 - accuracy: 0.9844 - val_loss: 0.1171 - val_accuracy: 0.9657\n",
      "Epoch 85/100\n",
      "394/394 [==============================] - 3s 8ms/step - loss: 0.0478 - accuracy: 0.9852 - val_loss: 0.1498 - val_accuracy: 0.9537\n",
      "Epoch 86/100\n",
      "394/394 [==============================] - 3s 9ms/step - loss: 0.0479 - accuracy: 0.9854 - val_loss: 0.1289 - val_accuracy: 0.9626\n",
      "Epoch 87/100\n",
      "394/394 [==============================] - 4s 9ms/step - loss: 0.0470 - accuracy: 0.9856 - val_loss: 0.1080 - val_accuracy: 0.9688\n",
      "Epoch 88/100\n",
      "214/394 [===============>..............] - ETA: 1s - loss: 0.0459 - accuracy: 0.9855"
     ]
    }
   ],
   "source": [
    "optimizer = keras.optimizers.Adam(learning_rate=1e-3)\n",
    "\n",
    "CNN.compile(\n",
    "    loss='sparse_categorical_crossentropy',\n",
    "    optimizer=optimizer,\n",
    "    metrics=['accuracy'],\n",
    ")\n",
    "history = CNN.fit(\n",
    "    X_train,\n",
    "    y_train,\n",
    "    epochs=EPOCHS,\n",
    "    batch_size=256,\n",
    "    validation_data=(X_test, y_test),\n",
    "    verbose=1,\n",
    ")"
   ]
  },
  {
   "cell_type": "code",
   "execution_count": null,
   "id": "70de8d27-4ff5-4dce-b45f-675dcc74513e",
   "metadata": {
    "colab": {
     "base_uri": "https://localhost:8080/"
    },
    "id": "70de8d27-4ff5-4dce-b45f-675dcc74513e",
    "outputId": "7211ef5c-5b4a-4afb-ad4f-7341eeb8f0f8"
   },
   "outputs": [],
   "source": [
    "# from functools import partial\n",
    "\n",
    "\n",
    "\n",
    "# _, num_time, num_feat = X_train.shape\n",
    "\n",
    "# activation = 'selu'\n",
    "\n",
    "# DefaultConv1D = partial(\n",
    "#     keras.layers.Conv1D,\n",
    "#     kernel_size=1,\n",
    "#     activation=activation,\n",
    "#     padding=\"valid\",\n",
    "# )\n",
    "\n",
    "# model = keras.models.Sequential([\n",
    "#     DefaultConv1D(4 * num_feat, kernel_size=2, input_shape=[num_time, num_feat]),\n",
    "#     keras.layers.BatchNormalization(),\n",
    "#     DefaultConv1D(num_feat, kernel_size=2),\n",
    "#     keras.layers.Flatten(),\n",
    "#     keras.layers.BatchNormalization(),\n",
    "#     keras.layers.Dense(num_time * num_feat, activation=activation),\n",
    "#     keras.layers.BatchNormalization(),\n",
    "#     keras.layers.Dense(num_feat, activation=activation),\n",
    "#     keras.layers.BatchNormalization(),\n",
    "#     keras.layers.Dense(5, activation='softmax'),\n",
    "# ])\n",
    "\n",
    "# optimizer = keras.optimizers.Adam(learning_rate=1e-3)\n",
    "\n",
    "# model.compile(\n",
    "#     loss='sparse_categorical_crossentropy',\n",
    "#     optimizer=optimizer,\n",
    "#     metrics=['accuracy'],\n",
    "# )\n",
    "\n",
    "# history = model.fit(\n",
    "#     X_train,\n",
    "#     y_train,\n",
    "#     epochs=EPOCHS,\n",
    "#     batch_size=BATCH_SIZE,\n",
    "#     validation_data=(X_test, y_test),\n",
    "#     verbose=1,\n",
    "# )"
   ]
  },
  {
   "cell_type": "code",
   "execution_count": null,
   "id": "bed79725-2bb3-47ce-b06c-333c662b30bf",
   "metadata": {
    "colab": {
     "base_uri": "https://localhost:8080/",
     "height": 282
    },
    "id": "bed79725-2bb3-47ce-b06c-333c662b30bf",
    "outputId": "4354cc75-e44d-4d2a-ac4b-c55a4b3a9305"
   },
   "outputs": [],
   "source": [
    "plt.plot(history.history['accuracy'])\n",
    "plt.plot(history.history['val_accuracy'])"
   ]
  },
  {
   "cell_type": "code",
   "execution_count": null,
   "id": "3b65d81f-3d75-43d1-9e2d-88cef69d110b",
   "metadata": {
    "colab": {
     "base_uri": "https://localhost:8080/",
     "height": 265
    },
    "id": "3b65d81f-3d75-43d1-9e2d-88cef69d110b",
    "outputId": "97e18fb9-4340-478c-e307-82c03282e9cc"
   },
   "outputs": [],
   "source": [
    "plt.plot(history.history['loss'][10:])\n",
    "plt.plot(history.history['val_loss'][10:])\n",
    "plt.yscale('log')"
   ]
  },
  {
   "cell_type": "code",
   "execution_count": null,
   "id": "8a964a60-488a-431e-8bcc-586e90d8956b",
   "metadata": {
    "id": "8a964a60-488a-431e-8bcc-586e90d8956b"
   },
   "outputs": [],
   "source": [
    "y_pred = CNN.predict(X_test)"
   ]
  },
  {
   "cell_type": "code",
   "execution_count": null,
   "id": "d7C0QyTLHO8q",
   "metadata": {
    "colab": {
     "base_uri": "https://localhost:8080/"
    },
    "id": "d7C0QyTLHO8q",
    "outputId": "78587010-2aa8-4cc7-e82f-7c40e11ce705"
   },
   "outputs": [],
   "source": [
    "y_pred"
   ]
  },
  {
   "cell_type": "code",
   "execution_count": null,
   "id": "1ljWvGo9skgS",
   "metadata": {
    "id": "1ljWvGo9skgS"
   },
   "outputs": [],
   "source": [
    "y_pred= np.argmax(y_pred, axis=1)"
   ]
  },
  {
   "cell_type": "code",
   "execution_count": null,
   "id": "BIninuG_Hixu",
   "metadata": {
    "colab": {
     "base_uri": "https://localhost:8080/"
    },
    "id": "BIninuG_Hixu",
    "outputId": "8d52a3ce-46d5-41c3-f339-ec8e2feee684"
   },
   "outputs": [],
   "source": [
    "y_pred"
   ]
  },
  {
   "cell_type": "code",
   "execution_count": null,
   "id": "3NzoyhrD4tO9",
   "metadata": {
    "colab": {
     "base_uri": "https://localhost:8080/"
    },
    "id": "3NzoyhrD4tO9",
    "outputId": "da09ab77-c439-431e-82a8-93fc98f20b49"
   },
   "outputs": [],
   "source": [
    "y_pred[0]"
   ]
  },
  {
   "cell_type": "code",
   "execution_count": null,
   "id": "48c3e9c7-2bc3-479a-8af1-bf35d87f3e57",
   "metadata": {
    "id": "48c3e9c7-2bc3-479a-8af1-bf35d87f3e57"
   },
   "outputs": [],
   "source": [
    "df = pd.DataFrame({\n",
    "    'y_test': y_test.ravel().astype(int).tolist(),\n",
    "    'y_pred': y_pred.ravel().astype(int).tolist(),\n",
    "})"
   ]
  },
  {
   "cell_type": "code",
   "execution_count": null,
   "id": "18cfafbe-dafb-4a9e-8873-7f96e71f80b8",
   "metadata": {
    "colab": {
     "base_uri": "https://localhost:8080/",
     "height": 175
    },
    "id": "18cfafbe-dafb-4a9e-8873-7f96e71f80b8",
    "outputId": "aa49cb9d-c88e-437b-9a31-2809577d1da1"
   },
   "outputs": [],
   "source": [
    "pd.crosstab(df['y_test'], df['y_pred'])"
   ]
  },
  {
   "cell_type": "code",
   "execution_count": null,
   "id": "e192957b-1b16-47c8-89eb-d6e2fb9bde9f",
   "metadata": {
    "id": "e192957b-1b16-47c8-89eb-d6e2fb9bde9f"
   },
   "outputs": [],
   "source": [
    "# model.save('model.h5')"
   ]
  },
  {
   "cell_type": "code",
   "execution_count": null,
   "id": "vZD1w6TZwk0e",
   "metadata": {
    "id": "vZD1w6TZwk0e"
   },
   "outputs": [],
   "source": [
    "CNN.save('model_90_92_rotate_sq.h5')"
   ]
  },
  {
   "cell_type": "code",
   "execution_count": null,
   "id": "6413c816",
   "metadata": {},
   "outputs": [],
   "source": []
  }
 ],
 "metadata": {
  "accelerator": "GPU",
  "colab": {
   "provenance": []
  },
  "gpuClass": "standard",
  "kernelspec": {
   "display_name": "Python 3 (ipykernel)",
   "language": "python",
   "name": "python3"
  },
  "language_info": {
   "codemirror_mode": {
    "name": "ipython",
    "version": 3
   },
   "file_extension": ".py",
   "mimetype": "text/x-python",
   "name": "python",
   "nbconvert_exporter": "python",
   "pygments_lexer": "ipython3",
   "version": "3.9.12"
  }
 },
 "nbformat": 4,
 "nbformat_minor": 5
}
