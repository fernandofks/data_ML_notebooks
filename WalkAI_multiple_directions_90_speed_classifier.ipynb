{
 "cells": [
  {
   "cell_type": "code",
   "execution_count": 1,
   "id": "b41f0b0f-cc96-43a2-ab7f-f3264587e7d2",
   "metadata": {
    "id": "b41f0b0f-cc96-43a2-ab7f-f3264587e7d2"
   },
   "outputs": [
    {
     "name": "stderr",
     "output_type": "stream",
     "text": [
      "/Users/fernandokenjisakabe/opt/anaconda3/lib/python3.9/site-packages/scipy/__init__.py:146: UserWarning: A NumPy version >=1.16.5 and <1.23.0 is required for this version of SciPy (detected version 1.24.1\n",
      "  warnings.warn(f\"A NumPy version >={np_minversion} and <{np_maxversion}\"\n"
     ]
    }
   ],
   "source": [
    "from pathlib import Path\n",
    "import matplotlib.pyplot as plt\n",
    "import numpy as np\n",
    "import pandas as pd\n",
    "import tensorflow as tf\n",
    "import tensorflow.keras as keras\n",
    "from tensorflow.python.keras.layers import Dense\n",
    "from numpy.random import default_rng\n",
    "from sklearn.model_selection import train_test_split"
   ]
  },
  {
   "cell_type": "code",
   "execution_count": 2,
   "id": "c9e9560b-749a-49a8-aedf-44a1ac9b4bb1",
   "metadata": {
    "id": "c9e9560b-749a-49a8-aedf-44a1ac9b4bb1"
   },
   "outputs": [],
   "source": [
    "# Loading pipeline params.\n",
    "DATA_PATH = Path('data')\n",
    "FILENAME_STOP = 'stop.csv'\n",
    "FILENAME_0 = 'm_0.csv'\n",
    "FILENAME_90 = 'm_90.csv'\n",
    "FILENAME_180 = 'm_180.csv'\n",
    "FILENAME_270 = 'm_270.csv'\n",
    "\n",
    "NUM_TIMESTEPS = 6\n",
    "IGNORE_FRACTION = 0.1\n",
    "TEST_FRACTION = 0.25\n",
    "\n",
    "# Training params.\n",
    "LEARNING_RATE = 1e-5\n",
    "EPOCHS = 100\n",
    "BATCH_SIZE = 512"
   ]
  },
  {
   "cell_type": "code",
   "execution_count": 3,
   "id": "7f52716d-1339-4484-9fd3-d5206979ba8e",
   "metadata": {
    "id": "7f52716d-1339-4484-9fd3-d5206979ba8e"
   },
   "outputs": [],
   "source": [
    "def load_data(\n",
    "    path_stop,\n",
    "    path_0,\n",
    "    path_90,\n",
    "    path_180,\n",
    "    path_270,\n",
    "    num_timesteps,\n",
    "    ignore_fraction,\n",
    "    test_fraction,\n",
    "):\n",
    "\n",
    "    def read_and_prepare_data(\n",
    "        path,\n",
    "        class_,\n",
    "        num_timesteps,\n",
    "        ignore_fraction,\n",
    "        test_fraction,\n",
    "    ):\n",
    "\n",
    "        def split_temporally(X, test_fraction):\n",
    "            num_samples = X.shape[0]\n",
    "            num_train = int(num_samples * (1.0 - test_fraction))\n",
    "            X_train, X_test = X[:num_train], X[num_train:]\n",
    "            return X_train, X_test\n",
    "\n",
    "        def transform_into_sequences(X, num_timesteps):\n",
    "            num_samples = X.shape[0]\n",
    "            X_seq = []\n",
    "            for k in range(num_samples - num_timesteps + 1):\n",
    "                X_seq.append(X[k:(k + num_timesteps)])\n",
    "            X_seq = np.array(X_seq)\n",
    "            y_seq = class_ * np.ones((X_seq.shape[0], 1))\n",
    "            return X_seq, y_seq\n",
    "\n",
    "        X = pd.read_csv(path).values\n",
    "        X = X[:, [0,1,2,3,4,5,6,7,8,9,10,11,12,13]]  # Use only feet translations.\n",
    "\n",
    "        # Ignore beginning and end.\n",
    "        num_samples = X.shape[0]\n",
    "        num_ignore = int(ignore_fraction * num_samples)\n",
    "        X = X[num_ignore:-num_ignore]\n",
    "\n",
    "        # Split X temporally.\n",
    "        X_train, X_test = split_temporally(X, test_fraction)\n",
    "\n",
    "        # Transform X into short sequences.\n",
    "        X_train, y_train = transform_into_sequences(X_train, num_timesteps)\n",
    "        X_test, y_test = transform_into_sequences(X_test, num_timesteps)\n",
    "\n",
    "        return X_train, y_train, X_test, y_test\n",
    "\n",
    "    def shuffle_data(X, y):\n",
    "        idx = np.arange(len(X))\n",
    "        default_rng().shuffle(idx)\n",
    "        X_shuffled = X[idx, :]\n",
    "        y_shuffled = y[idx]\n",
    "        return X_shuffled, y_shuffled\n",
    "\n",
    "    X_train_stop, y_train_stop, X_test_stop, y_test_stop = \\\n",
    "        read_and_prepare_data(\n",
    "            path_stop,\n",
    "            0.0,\n",
    "            num_timesteps,\n",
    "            ignore_fraction,\n",
    "            test_fraction,\n",
    "        )\n",
    "    \n",
    "    X_train_0, y_train_0, X_test_0, y_test_0 = \\\n",
    "        read_and_prepare_data(\n",
    "            path_0,\n",
    "            1.0,\n",
    "            num_timesteps,\n",
    "            ignore_fraction,\n",
    "            test_fraction,\n",
    "        )\n",
    "\n",
    "    X_train_90, y_train_90, X_test_90, y_test_90 = \\\n",
    "        read_and_prepare_data(\n",
    "            path_90,\n",
    "            2.0,\n",
    "            num_timesteps,\n",
    "            ignore_fraction,\n",
    "            test_fraction,\n",
    "        )\n",
    "    \n",
    "    X_train_180, y_train_180, X_test_180, y_test_180 = \\\n",
    "        read_and_prepare_data(\n",
    "            path_180,\n",
    "            3.0,\n",
    "            num_timesteps,\n",
    "            ignore_fraction,\n",
    "            test_fraction,\n",
    "        )\n",
    "    \n",
    "    X_train_270, y_train_270, X_test_270, y_test_270 = \\\n",
    "        read_and_prepare_data(\n",
    "            path_270,\n",
    "            4.0,\n",
    "            num_timesteps,\n",
    "            ignore_fraction,\n",
    "            test_fraction,\n",
    "        )\n",
    "\n",
    "    X_train = np.concatenate((X_train_stop, X_train_0, X_train_90, X_train_180, X_train_270), axis=0)\n",
    "    y_train = np.concatenate((y_train_stop, y_train_0, y_train_90, y_train_180, y_train_270), axis=0)\n",
    "    X_test = np.concatenate((X_test_stop, X_test_0, X_test_90, X_test_180, X_test_270), axis=0)\n",
    "    y_test = np.concatenate((y_test_stop, y_test_0, y_test_90, y_test_180, y_test_270), axis=0)\n",
    "\n",
    "    X_train, y_train = shuffle_data(X_train, y_train)\n",
    "    X_test, y_test = shuffle_data(X_test, y_test)\n",
    "\n",
    "    return X_train, X_test, y_train, y_test\n",
    "\n",
    "\n",
    "path_stop = Path(DATA_PATH, FILENAME_STOP)\n",
    "path_0 = Path(DATA_PATH, FILENAME_0)\n",
    "path_90 = Path(DATA_PATH, FILENAME_90)\n",
    "path_180 = Path(DATA_PATH, FILENAME_180)\n",
    "path_270 = Path(DATA_PATH, FILENAME_270)\n",
    "\n",
    "X_train, X_test, y_train, y_test = load_data(\n",
    "    path_stop,\n",
    "    path_0,\n",
    "    path_90,\n",
    "    path_180,\n",
    "    path_270,\n",
    "    NUM_TIMESTEPS,\n",
    "    IGNORE_FRACTION,\n",
    "    TEST_FRACTION,\n",
    ")"
   ]
  },
  {
   "cell_type": "code",
   "execution_count": 4,
   "id": "99c35712-1089-44f3-89ef-ed471b144c96",
   "metadata": {
    "colab": {
     "base_uri": "https://localhost:8080/"
    },
    "id": "99c35712-1089-44f3-89ef-ed471b144c96",
    "outputId": "9076061a-8661-4d2e-c1ed-887a92ec640b"
   },
   "outputs": [
    {
     "data": {
      "text/plain": [
       "((100773, 6, 14), (100773, 1), (33575, 6, 14), (33575, 1))"
      ]
     },
     "execution_count": 4,
     "metadata": {},
     "output_type": "execute_result"
    }
   ],
   "source": [
    "X_train.shape, y_train.shape, X_test.shape, y_test.shape"
   ]
  },
  {
   "cell_type": "code",
   "execution_count": 5,
   "id": "VqSuqgBCB_nA",
   "metadata": {
    "colab": {
     "base_uri": "https://localhost:8080/"
    },
    "id": "VqSuqgBCB_nA",
    "outputId": "26d50bbe-3fd3-4bed-e70e-7003d289c5d6"
   },
   "outputs": [
    {
     "data": {
      "text/plain": [
       "(6, 14)"
      ]
     },
     "execution_count": 5,
     "metadata": {},
     "output_type": "execute_result"
    }
   ],
   "source": [
    "X_test[60].shape\n"
   ]
  },
  {
   "cell_type": "code",
   "execution_count": null,
   "id": "dye8vjENBtXX",
   "metadata": {
    "id": "dye8vjENBtXX"
   },
   "outputs": [],
   "source": []
  },
  {
   "cell_type": "code",
   "execution_count": null,
   "id": "-3TttkaRCM4l",
   "metadata": {
    "id": "-3TttkaRCM4l"
   },
   "outputs": [],
   "source": []
  },
  {
   "cell_type": "code",
   "execution_count": 6,
   "id": "3a85634b-4e9c-45b8-b456-cb970457302f",
   "metadata": {
    "id": "3a85634b-4e9c-45b8-b456-cb970457302f"
   },
   "outputs": [
    {
     "name": "stdout",
     "output_type": "stream",
     "text": [
      "Model: \"Sequential_CNN\"\n",
      "_________________________________________________________________\n",
      " Layer (type)                Output Shape              Param #   \n",
      "=================================================================\n",
      " conv2d (Conv2D)             (None, 2, 4, 256)         1280      \n",
      "                                                                 \n",
      " max_pooling2d (MaxPooling2D  (None, 1, 3, 256)        0         \n",
      " )                                                               \n",
      "                                                                 \n",
      " flatten (Flatten)           (None, 768)               0         \n"
     ]
    },
    {
     "name": "stderr",
     "output_type": "stream",
     "text": [
      "2023-01-19 16:32:44.975993: I tensorflow/core/platform/cpu_feature_guard.cc:193] This TensorFlow binary is optimized with oneAPI Deep Neural Network Library (oneDNN) to use the following CPU instructions in performance-critical operations:  AVX2 FMA\n",
      "To enable them in other operations, rebuild TensorFlow with the appropriate compiler flags.\n"
     ]
    },
    {
     "name": "stdout",
     "output_type": "stream",
     "text": [
      "                                                                 \n",
      " dense (Dense)               (None, 64)                49216     \n",
      "                                                                 \n",
      " dense_1 (Dense)             (None, 32)                2080      \n",
      "                                                                 \n",
      " dense_2 (Dense)             (None, 5)                 165       \n",
      "                                                                 \n",
      "=================================================================\n",
      "Total params: 52,741\n",
      "Trainable params: 52,741\n",
      "Non-trainable params: 0\n",
      "_________________________________________________________________\n"
     ]
    }
   ],
   "source": [
    "from tensorflow.keras.models import Sequential\n",
    "from tensorflow.keras.layers import Conv2D, MaxPooling2D, Flatten, Dense\n",
    "\n",
    "CNN = Sequential(name=\"Sequential_CNN\")\n",
    "\n",
    "CNN.add(Conv2D(256, kernel_size=(2, 2),\n",
    "               strides=(4, 4), padding=\"same\",\n",
    "               activation=\"selu\", input_shape=[6, 14, 1]))\n",
    "\n",
    "CNN.add(MaxPooling2D(pool_size=(2, 2), strides=(1, 1),\n",
    "                     padding=\"valid\"))\n",
    "\n",
    "# Add another pair of Conv2D and MaxPooling2D for more model depth,\n",
    "# followed by the flatten and multiple dense layers\n",
    "\n",
    "# CNN.add(Conv2D(64, kernel_size=(3, 3),\n",
    "#                strides=(1, 1), padding=\"same\",\n",
    "#                activation=\"selu\"))\n",
    "\n",
    "# CNN.add(MaxPooling2D(pool_size=(2, 2), strides=(1, 1),\n",
    "#                      padding=\"valid\"))\n",
    "\n",
    "CNN.add(Flatten())\n",
    "\n",
    "CNN.add(Dense(64, activation='selu'))\n",
    "CNN.add(Dense(32, activation='selu'))\n",
    "CNN.add(Dense(5, activation='softmax'))\n",
    "\n",
    "CNN.summary()"
   ]
  },
  {
   "cell_type": "code",
   "execution_count": null,
   "id": "j0C2RSxICKzq",
   "metadata": {
    "colab": {
     "base_uri": "https://localhost:8080/"
    },
    "id": "j0C2RSxICKzq",
    "outputId": "af853522-fdf6-40e4-8d0e-cd2a6dcdab9b"
   },
   "outputs": [],
   "source": []
  },
  {
   "cell_type": "code",
   "execution_count": 7,
   "id": "911581af",
   "metadata": {},
   "outputs": [],
   "source": [
    "from numpy import *\n",
    "where_are_NaNsx = isnan(X_train)\n",
    "X_train[where_are_NaNsx] = 0\n",
    "\n",
    "where_are_NaNsy = isnan(y_train)\n",
    "y_train[where_are_NaNsy] = 0\n",
    "\n",
    "where_are_NaNsxt = isnan(X_test)\n",
    "X_test[where_are_NaNsxt] = 0\n",
    "\n",
    "where_are_NaNsyt = isnan(y_test)\n",
    "y_test[where_are_NaNsyt] = 0"
   ]
  },
  {
   "cell_type": "code",
   "execution_count": 8,
   "id": "7baf8970-5318-4461-b828-d34c232afa5f",
   "metadata": {
    "colab": {
     "base_uri": "https://localhost:8080/"
    },
    "id": "7baf8970-5318-4461-b828-d34c232afa5f",
    "outputId": "08a66cc8-aeee-42ba-f039-9dfa2ba6f99e"
   },
   "outputs": [
    {
     "name": "stdout",
     "output_type": "stream",
     "text": [
      "Epoch 1/100\n",
      "394/394 [==============================] - 6s 14ms/step - loss: 0.4633 - accuracy: 0.7912 - val_loss: 0.2665 - val_accuracy: 0.8698\n",
      "Epoch 2/100\n",
      "394/394 [==============================] - 5s 12ms/step - loss: 0.2656 - accuracy: 0.8956 - val_loss: 0.1273 - val_accuracy: 0.9752\n",
      "Epoch 3/100\n",
      "394/394 [==============================] - 5s 13ms/step - loss: 0.2036 - accuracy: 0.9253 - val_loss: 0.2026 - val_accuracy: 0.9114\n",
      "Epoch 4/100\n",
      "394/394 [==============================] - 5s 13ms/step - loss: 0.1656 - accuracy: 0.9424 - val_loss: 0.0998 - val_accuracy: 0.9750\n",
      "Epoch 5/100\n",
      "394/394 [==============================] - 5s 13ms/step - loss: 0.1547 - accuracy: 0.9463 - val_loss: 0.0767 - val_accuracy: 0.9799\n",
      "Epoch 6/100\n",
      "394/394 [==============================] - 5s 13ms/step - loss: 0.1382 - accuracy: 0.9522 - val_loss: 0.0955 - val_accuracy: 0.9689\n",
      "Epoch 7/100\n",
      "394/394 [==============================] - 5s 13ms/step - loss: 0.1232 - accuracy: 0.9589 - val_loss: 0.0778 - val_accuracy: 0.9765\n",
      "Epoch 8/100\n",
      "394/394 [==============================] - 5s 14ms/step - loss: 0.1204 - accuracy: 0.9595 - val_loss: 0.0660 - val_accuracy: 0.9797\n",
      "Epoch 9/100\n",
      "394/394 [==============================] - 5s 14ms/step - loss: 0.1094 - accuracy: 0.9632 - val_loss: 0.0653 - val_accuracy: 0.9814\n",
      "Epoch 10/100\n",
      "394/394 [==============================] - 5s 13ms/step - loss: 0.1031 - accuracy: 0.9656 - val_loss: 0.0564 - val_accuracy: 0.9841\n",
      "Epoch 11/100\n",
      "394/394 [==============================] - 5s 13ms/step - loss: 0.0987 - accuracy: 0.9678 - val_loss: 0.0816 - val_accuracy: 0.9786\n",
      "Epoch 12/100\n",
      "394/394 [==============================] - 5s 13ms/step - loss: 0.0957 - accuracy: 0.9686 - val_loss: 0.0714 - val_accuracy: 0.9794\n",
      "Epoch 13/100\n",
      "394/394 [==============================] - 5s 13ms/step - loss: 0.0886 - accuracy: 0.9708 - val_loss: 0.0674 - val_accuracy: 0.9817\n",
      "Epoch 14/100\n",
      "394/394 [==============================] - 5s 13ms/step - loss: 0.0991 - accuracy: 0.9672 - val_loss: 0.0576 - val_accuracy: 0.9836\n",
      "Epoch 15/100\n",
      "394/394 [==============================] - 5s 13ms/step - loss: 0.0902 - accuracy: 0.9705 - val_loss: 0.0754 - val_accuracy: 0.9795\n",
      "Epoch 16/100\n",
      "394/394 [==============================] - 5s 13ms/step - loss: 0.0827 - accuracy: 0.9728 - val_loss: 0.0472 - val_accuracy: 0.9890\n",
      "Epoch 17/100\n",
      "394/394 [==============================] - 5s 13ms/step - loss: 0.0906 - accuracy: 0.9708 - val_loss: 0.0815 - val_accuracy: 0.9786\n",
      "Epoch 18/100\n",
      "394/394 [==============================] - 5s 13ms/step - loss: 0.0804 - accuracy: 0.9740 - val_loss: 0.0773 - val_accuracy: 0.9802\n",
      "Epoch 19/100\n",
      "394/394 [==============================] - 5s 13ms/step - loss: 0.0770 - accuracy: 0.9750 - val_loss: 0.0493 - val_accuracy: 0.9879\n",
      "Epoch 20/100\n",
      "394/394 [==============================] - 5s 13ms/step - loss: 0.0764 - accuracy: 0.9751 - val_loss: 0.0689 - val_accuracy: 0.9823\n",
      "Epoch 21/100\n",
      "394/394 [==============================] - 5s 13ms/step - loss: 0.0760 - accuracy: 0.9758 - val_loss: 0.0552 - val_accuracy: 0.9861\n",
      "Epoch 22/100\n",
      "394/394 [==============================] - 5s 13ms/step - loss: 0.0730 - accuracy: 0.9763 - val_loss: 0.0566 - val_accuracy: 0.9860\n",
      "Epoch 23/100\n",
      "394/394 [==============================] - 5s 13ms/step - loss: 0.0686 - accuracy: 0.9777 - val_loss: 0.0522 - val_accuracy: 0.9857\n",
      "Epoch 24/100\n",
      "394/394 [==============================] - 5s 13ms/step - loss: 0.0743 - accuracy: 0.9760 - val_loss: 0.0702 - val_accuracy: 0.9831\n",
      "Epoch 25/100\n",
      "394/394 [==============================] - 5s 14ms/step - loss: 0.0708 - accuracy: 0.9771 - val_loss: 0.0556 - val_accuracy: 0.9865\n",
      "Epoch 26/100\n",
      "394/394 [==============================] - 6s 14ms/step - loss: 0.0807 - accuracy: 0.9747 - val_loss: 0.0576 - val_accuracy: 0.9852\n",
      "Epoch 27/100\n",
      "394/394 [==============================] - 6s 15ms/step - loss: 0.0655 - accuracy: 0.9793 - val_loss: 0.0613 - val_accuracy: 0.9851\n",
      "Epoch 28/100\n",
      "394/394 [==============================] - 5s 14ms/step - loss: 0.0671 - accuracy: 0.9787 - val_loss: 0.0615 - val_accuracy: 0.9837\n",
      "Epoch 29/100\n",
      "394/394 [==============================] - 5s 14ms/step - loss: 0.0791 - accuracy: 0.9746 - val_loss: 0.0461 - val_accuracy: 0.9880\n",
      "Epoch 30/100\n",
      "394/394 [==============================] - 5s 14ms/step - loss: 0.0638 - accuracy: 0.9797 - val_loss: 0.0747 - val_accuracy: 0.9784\n",
      "Epoch 31/100\n",
      "394/394 [==============================] - 6s 14ms/step - loss: 0.0657 - accuracy: 0.9793 - val_loss: 0.0506 - val_accuracy: 0.9866\n",
      "Epoch 32/100\n",
      "394/394 [==============================] - 5s 14ms/step - loss: 0.0606 - accuracy: 0.9808 - val_loss: 0.0722 - val_accuracy: 0.9801\n",
      "Epoch 33/100\n",
      "394/394 [==============================] - 5s 13ms/step - loss: 0.0626 - accuracy: 0.9797 - val_loss: 0.0523 - val_accuracy: 0.9859\n",
      "Epoch 34/100\n",
      "394/394 [==============================] - 5s 13ms/step - loss: 0.0677 - accuracy: 0.9783 - val_loss: 0.0674 - val_accuracy: 0.9808\n",
      "Epoch 35/100\n",
      "394/394 [==============================] - 5s 14ms/step - loss: 0.0620 - accuracy: 0.9803 - val_loss: 0.0957 - val_accuracy: 0.9660\n",
      "Epoch 36/100\n",
      "394/394 [==============================] - 5s 12ms/step - loss: 0.0612 - accuracy: 0.9809 - val_loss: 0.0960 - val_accuracy: 0.9654\n",
      "Epoch 37/100\n",
      "394/394 [==============================] - 5s 12ms/step - loss: 0.0608 - accuracy: 0.9809 - val_loss: 0.0622 - val_accuracy: 0.9837\n",
      "Epoch 38/100\n",
      "394/394 [==============================] - 5s 14ms/step - loss: 0.0611 - accuracy: 0.9804 - val_loss: 0.0701 - val_accuracy: 0.9796\n",
      "Epoch 39/100\n",
      "394/394 [==============================] - 5s 14ms/step - loss: 0.0602 - accuracy: 0.9808 - val_loss: 0.0699 - val_accuracy: 0.9811\n",
      "Epoch 40/100\n",
      "394/394 [==============================] - 5s 13ms/step - loss: 0.0623 - accuracy: 0.9800 - val_loss: 0.0728 - val_accuracy: 0.9792\n",
      "Epoch 41/100\n",
      "394/394 [==============================] - 5s 14ms/step - loss: 0.0593 - accuracy: 0.9811 - val_loss: 0.0605 - val_accuracy: 0.9837\n",
      "Epoch 42/100\n",
      "394/394 [==============================] - 6s 14ms/step - loss: 0.0585 - accuracy: 0.9818 - val_loss: 0.1038 - val_accuracy: 0.9652\n",
      "Epoch 43/100\n",
      "394/394 [==============================] - 6s 15ms/step - loss: 0.0567 - accuracy: 0.9821 - val_loss: 0.0660 - val_accuracy: 0.9825\n",
      "Epoch 44/100\n",
      "394/394 [==============================] - 6s 16ms/step - loss: 0.0710 - accuracy: 0.9776 - val_loss: 0.0597 - val_accuracy: 0.9822\n",
      "Epoch 45/100\n",
      "394/394 [==============================] - 5s 13ms/step - loss: 0.0553 - accuracy: 0.9827 - val_loss: 0.0695 - val_accuracy: 0.9817\n",
      "Epoch 46/100\n",
      "394/394 [==============================] - 6s 14ms/step - loss: 0.0564 - accuracy: 0.9822 - val_loss: 0.0660 - val_accuracy: 0.9823\n",
      "Epoch 47/100\n",
      "394/394 [==============================] - 7s 17ms/step - loss: 0.0548 - accuracy: 0.9825 - val_loss: 0.0756 - val_accuracy: 0.9737\n",
      "Epoch 48/100\n",
      "394/394 [==============================] - 6s 16ms/step - loss: 0.0585 - accuracy: 0.9814 - val_loss: 0.0583 - val_accuracy: 0.9839\n",
      "Epoch 49/100\n",
      "394/394 [==============================] - 6s 16ms/step - loss: 0.0587 - accuracy: 0.9809 - val_loss: 0.0810 - val_accuracy: 0.9716\n",
      "Epoch 50/100\n",
      "394/394 [==============================] - 6s 15ms/step - loss: 0.0544 - accuracy: 0.9831 - val_loss: 0.0747 - val_accuracy: 0.9779\n",
      "Epoch 51/100\n",
      "394/394 [==============================] - 6s 15ms/step - loss: 0.0552 - accuracy: 0.9823 - val_loss: 0.0653 - val_accuracy: 0.9836\n",
      "Epoch 52/100\n",
      "394/394 [==============================] - 6s 16ms/step - loss: 0.0546 - accuracy: 0.9825 - val_loss: 0.0720 - val_accuracy: 0.9792\n",
      "Epoch 53/100\n",
      "394/394 [==============================] - 6s 16ms/step - loss: 0.0563 - accuracy: 0.9820 - val_loss: 0.0527 - val_accuracy: 0.9841\n",
      "Epoch 54/100\n",
      "394/394 [==============================] - 6s 16ms/step - loss: 0.0564 - accuracy: 0.9818 - val_loss: 0.0722 - val_accuracy: 0.9785\n",
      "Epoch 55/100\n",
      "394/394 [==============================] - 7s 18ms/step - loss: 0.0584 - accuracy: 0.9818 - val_loss: 0.0662 - val_accuracy: 0.9797\n",
      "Epoch 56/100\n",
      "394/394 [==============================] - 6s 16ms/step - loss: 0.0526 - accuracy: 0.9834 - val_loss: 0.0781 - val_accuracy: 0.9774\n",
      "Epoch 57/100\n",
      "394/394 [==============================] - 6s 16ms/step - loss: 0.0542 - accuracy: 0.9825 - val_loss: 0.1306 - val_accuracy: 0.9553\n",
      "Epoch 58/100\n",
      "394/394 [==============================] - 6s 15ms/step - loss: 0.0524 - accuracy: 0.9834 - val_loss: 0.0809 - val_accuracy: 0.9741\n",
      "Epoch 59/100\n",
      "394/394 [==============================] - 6s 15ms/step - loss: 0.0513 - accuracy: 0.9835 - val_loss: 0.0707 - val_accuracy: 0.9794\n",
      "Epoch 60/100\n",
      "394/394 [==============================] - 6s 16ms/step - loss: 0.0511 - accuracy: 0.9834 - val_loss: 0.0928 - val_accuracy: 0.9680\n",
      "Epoch 61/100\n",
      "394/394 [==============================] - 6s 14ms/step - loss: 0.0524 - accuracy: 0.9832 - val_loss: 0.0682 - val_accuracy: 0.9807\n",
      "Epoch 62/100\n",
      "394/394 [==============================] - 6s 15ms/step - loss: 0.0508 - accuracy: 0.9839 - val_loss: 0.0991 - val_accuracy: 0.9667\n",
      "Epoch 63/100\n",
      "394/394 [==============================] - 6s 16ms/step - loss: 0.0532 - accuracy: 0.9831 - val_loss: 0.0848 - val_accuracy: 0.9763\n",
      "Epoch 64/100\n",
      "394/394 [==============================] - 7s 18ms/step - loss: 0.0501 - accuracy: 0.9843 - val_loss: 0.0690 - val_accuracy: 0.9798\n",
      "Epoch 65/100\n",
      "394/394 [==============================] - 7s 18ms/step - loss: 0.0497 - accuracy: 0.9840 - val_loss: 0.0896 - val_accuracy: 0.9720\n",
      "Epoch 66/100\n",
      "394/394 [==============================] - 7s 17ms/step - loss: 0.0503 - accuracy: 0.9837 - val_loss: 0.0777 - val_accuracy: 0.9758\n",
      "Epoch 67/100\n",
      "394/394 [==============================] - 6s 15ms/step - loss: 0.0520 - accuracy: 0.9836 - val_loss: 0.0995 - val_accuracy: 0.9721\n",
      "Epoch 68/100\n",
      "394/394 [==============================] - 6s 14ms/step - loss: 0.0511 - accuracy: 0.9836 - val_loss: 0.0830 - val_accuracy: 0.9736\n",
      "Epoch 69/100\n",
      "394/394 [==============================] - 6s 14ms/step - loss: 0.0482 - accuracy: 0.9850 - val_loss: 0.1103 - val_accuracy: 0.9660\n",
      "Epoch 70/100\n",
      "394/394 [==============================] - 5s 14ms/step - loss: 0.0501 - accuracy: 0.9839 - val_loss: 0.1179 - val_accuracy: 0.9581\n",
      "Epoch 71/100\n",
      "394/394 [==============================] - 5s 14ms/step - loss: 0.0497 - accuracy: 0.9840 - val_loss: 0.0823 - val_accuracy: 0.9749\n",
      "Epoch 72/100\n",
      "394/394 [==============================] - 6s 15ms/step - loss: 0.0475 - accuracy: 0.9849 - val_loss: 0.0808 - val_accuracy: 0.9774\n",
      "Epoch 73/100\n",
      "394/394 [==============================] - 5s 14ms/step - loss: 0.0496 - accuracy: 0.9844 - val_loss: 0.0938 - val_accuracy: 0.9724\n",
      "Epoch 74/100\n",
      "394/394 [==============================] - 5s 13ms/step - loss: 0.0484 - accuracy: 0.9845 - val_loss: 0.0985 - val_accuracy: 0.9690\n",
      "Epoch 75/100\n",
      "394/394 [==============================] - 5s 13ms/step - loss: 0.0516 - accuracy: 0.9830 - val_loss: 0.0805 - val_accuracy: 0.9791\n",
      "Epoch 76/100\n",
      "394/394 [==============================] - 5s 13ms/step - loss: 0.0471 - accuracy: 0.9854 - val_loss: 0.1116 - val_accuracy: 0.9681\n",
      "Epoch 77/100\n",
      "394/394 [==============================] - 5s 13ms/step - loss: 0.0490 - accuracy: 0.9844 - val_loss: 0.0860 - val_accuracy: 0.9725\n",
      "Epoch 78/100\n",
      "394/394 [==============================] - 5s 13ms/step - loss: 0.0471 - accuracy: 0.9848 - val_loss: 0.1146 - val_accuracy: 0.9586\n",
      "Epoch 79/100\n",
      "394/394 [==============================] - 5s 13ms/step - loss: 0.0476 - accuracy: 0.9848 - val_loss: 0.1060 - val_accuracy: 0.9630\n",
      "Epoch 80/100\n",
      "394/394 [==============================] - 5s 13ms/step - loss: 0.0494 - accuracy: 0.9844 - val_loss: 0.0749 - val_accuracy: 0.9793\n",
      "Epoch 81/100\n",
      "394/394 [==============================] - 6s 14ms/step - loss: 0.0482 - accuracy: 0.9848 - val_loss: 0.0892 - val_accuracy: 0.9744\n",
      "Epoch 82/100\n",
      "394/394 [==============================] - 6s 14ms/step - loss: 0.0463 - accuracy: 0.9854 - val_loss: 0.1166 - val_accuracy: 0.9583\n",
      "Epoch 83/100\n",
      "394/394 [==============================] - 6s 15ms/step - loss: 0.0452 - accuracy: 0.9857 - val_loss: 0.0794 - val_accuracy: 0.9775\n",
      "Epoch 84/100\n",
      "394/394 [==============================] - 6s 15ms/step - loss: 0.0462 - accuracy: 0.9850 - val_loss: 0.0972 - val_accuracy: 0.9707\n",
      "Epoch 85/100\n",
      "394/394 [==============================] - 6s 16ms/step - loss: 0.0483 - accuracy: 0.9847 - val_loss: 0.0788 - val_accuracy: 0.9778\n",
      "Epoch 86/100\n",
      "394/394 [==============================] - 6s 15ms/step - loss: 0.0454 - accuracy: 0.9853 - val_loss: 0.1390 - val_accuracy: 0.9510\n",
      "Epoch 87/100\n",
      "394/394 [==============================] - 6s 15ms/step - loss: 0.0462 - accuracy: 0.9850 - val_loss: 0.0862 - val_accuracy: 0.9730\n",
      "Epoch 88/100\n",
      "394/394 [==============================] - 6s 14ms/step - loss: 0.0477 - accuracy: 0.9850 - val_loss: 0.0719 - val_accuracy: 0.9791\n",
      "Epoch 89/100\n",
      "394/394 [==============================] - 5s 14ms/step - loss: 0.0456 - accuracy: 0.9856 - val_loss: 0.1775 - val_accuracy: 0.9382\n",
      "Epoch 90/100\n",
      "394/394 [==============================] - 5s 13ms/step - loss: 0.0447 - accuracy: 0.9861 - val_loss: 0.1119 - val_accuracy: 0.9614\n",
      "Epoch 91/100\n",
      "394/394 [==============================] - 6s 14ms/step - loss: 0.0444 - accuracy: 0.9858 - val_loss: 0.0995 - val_accuracy: 0.9667\n",
      "Epoch 92/100\n",
      "394/394 [==============================] - 5s 14ms/step - loss: 0.0498 - accuracy: 0.9843 - val_loss: 0.0928 - val_accuracy: 0.9733\n",
      "Epoch 93/100\n",
      "394/394 [==============================] - 6s 14ms/step - loss: 0.0430 - accuracy: 0.9864 - val_loss: 0.1482 - val_accuracy: 0.9457\n",
      "Epoch 94/100\n",
      "394/394 [==============================] - 6s 14ms/step - loss: 0.0455 - accuracy: 0.9855 - val_loss: 0.0925 - val_accuracy: 0.9723\n",
      "Epoch 95/100\n",
      "394/394 [==============================] - 5s 14ms/step - loss: 0.0460 - accuracy: 0.9849 - val_loss: 0.1137 - val_accuracy: 0.9615\n",
      "Epoch 96/100\n",
      "394/394 [==============================] - 6s 14ms/step - loss: 0.0431 - accuracy: 0.9864 - val_loss: 0.0742 - val_accuracy: 0.9778\n",
      "Epoch 97/100\n",
      "394/394 [==============================] - 6s 15ms/step - loss: 0.0436 - accuracy: 0.9859 - val_loss: 0.0983 - val_accuracy: 0.9686\n",
      "Epoch 98/100\n",
      "394/394 [==============================] - 6s 15ms/step - loss: 0.0429 - accuracy: 0.9863 - val_loss: 0.1104 - val_accuracy: 0.9660\n",
      "Epoch 99/100\n",
      "394/394 [==============================] - 6s 14ms/step - loss: 0.0452 - accuracy: 0.9857 - val_loss: 0.0993 - val_accuracy: 0.9693\n",
      "Epoch 100/100\n",
      "394/394 [==============================] - 6s 15ms/step - loss: 0.0427 - accuracy: 0.9860 - val_loss: 0.1051 - val_accuracy: 0.9645\n"
     ]
    }
   ],
   "source": [
    "optimizer = keras.optimizers.Adam(learning_rate=1e-3)\n",
    "\n",
    "CNN.compile(\n",
    "    loss='sparse_categorical_crossentropy',\n",
    "    optimizer=optimizer,\n",
    "    metrics=['accuracy'],\n",
    ")\n",
    "history = CNN.fit(\n",
    "    X_train,\n",
    "    y_train,\n",
    "    epochs=EPOCHS,\n",
    "    batch_size=256,\n",
    "    validation_data=(X_test, y_test),\n",
    "    verbose=1,\n",
    ")"
   ]
  },
  {
   "cell_type": "code",
   "execution_count": 9,
   "id": "70de8d27-4ff5-4dce-b45f-675dcc74513e",
   "metadata": {
    "colab": {
     "base_uri": "https://localhost:8080/"
    },
    "id": "70de8d27-4ff5-4dce-b45f-675dcc74513e",
    "outputId": "7211ef5c-5b4a-4afb-ad4f-7341eeb8f0f8"
   },
   "outputs": [],
   "source": [
    "# from functools import partial\n",
    "\n",
    "\n",
    "\n",
    "# _, num_time, num_feat = X_train.shape\n",
    "\n",
    "# activation = 'selu'\n",
    "\n",
    "# DefaultConv1D = partial(\n",
    "#     keras.layers.Conv1D,\n",
    "#     kernel_size=1,\n",
    "#     activation=activation,\n",
    "#     padding=\"valid\",\n",
    "# )\n",
    "\n",
    "# model = keras.models.Sequential([\n",
    "#     DefaultConv1D(4 * num_feat, kernel_size=2, input_shape=[num_time, num_feat]),\n",
    "#     keras.layers.BatchNormalization(),\n",
    "#     DefaultConv1D(num_feat, kernel_size=2),\n",
    "#     keras.layers.Flatten(),\n",
    "#     keras.layers.BatchNormalization(),\n",
    "#     keras.layers.Dense(num_time * num_feat, activation=activation),\n",
    "#     keras.layers.BatchNormalization(),\n",
    "#     keras.layers.Dense(num_feat, activation=activation),\n",
    "#     keras.layers.BatchNormalization(),\n",
    "#     keras.layers.Dense(5, activation='softmax'),\n",
    "# ])\n",
    "\n",
    "# optimizer = keras.optimizers.Adam(learning_rate=1e-3)\n",
    "\n",
    "# model.compile(\n",
    "#     loss='sparse_categorical_crossentropy',\n",
    "#     optimizer=optimizer,\n",
    "#     metrics=['accuracy'],\n",
    "# )\n",
    "\n",
    "# history = model.fit(\n",
    "#     X_train,\n",
    "#     y_train,\n",
    "#     epochs=EPOCHS,\n",
    "#     batch_size=BATCH_SIZE,\n",
    "#     validation_data=(X_test, y_test),\n",
    "#     verbose=1,\n",
    "# )"
   ]
  },
  {
   "cell_type": "code",
   "execution_count": 10,
   "id": "bed79725-2bb3-47ce-b06c-333c662b30bf",
   "metadata": {
    "colab": {
     "base_uri": "https://localhost:8080/",
     "height": 282
    },
    "id": "bed79725-2bb3-47ce-b06c-333c662b30bf",
    "outputId": "4354cc75-e44d-4d2a-ac4b-c55a4b3a9305"
   },
   "outputs": [
    {
     "data": {
      "text/plain": [
       "[<matplotlib.lines.Line2D at 0x7fba31807610>]"
      ]
     },
     "execution_count": 10,
     "metadata": {},
     "output_type": "execute_result"
    },
    {
     "data": {
      "image/png": "[encoded data removed]",
      "text/plain": [
       "<Figure size 432x288 with 1 Axes>"
      ]
     },
     "metadata": {
      "needs_background": "light"
     },
     "output_type": "display_data"
    }
   ],
   "source": [
    "plt.plot(history.history['accuracy'])\n",
    "plt.plot(history.history['val_accuracy'])"
   ]
  },
  {
   "cell_type": "code",
   "execution_count": 11,
   "id": "3b65d81f-3d75-43d1-9e2d-88cef69d110b",
   "metadata": {
    "colab": {
     "base_uri": "https://localhost:8080/",
     "height": 265
    },
    "id": "3b65d81f-3d75-43d1-9e2d-88cef69d110b",
    "outputId": "97e18fb9-4340-478c-e307-82c03282e9cc"
   },
   "outputs": [
    {
     "data": {
      "image/png": "[encoded data removed]",
      "text/plain": [
       "<Figure size 432x288 with 1 Axes>"
      ]
     },
     "metadata": {
      "needs_background": "light"
     },
     "output_type": "display_data"
    }
   ],
   "source": [
    "plt.plot(history.history['loss'][10:])\n",
    "plt.plot(history.history['val_loss'][10:])\n",
    "plt.yscale('log')"
   ]
  },
  {
   "cell_type": "code",
   "execution_count": 12,
   "id": "8a964a60-488a-431e-8bcc-586e90d8956b",
   "metadata": {
    "id": "8a964a60-488a-431e-8bcc-586e90d8956b"
   },
   "outputs": [
    {
     "name": "stdout",
     "output_type": "stream",
     "text": [
      "1050/1050 [==============================] - 3s 3ms/step\n"
     ]
    }
   ],
   "source": [
    "y_pred = CNN.predict(X_test)"
   ]
  },
  {
   "cell_type": "code",
   "execution_count": 13,
   "id": "d7C0QyTLHO8q",
   "metadata": {
    "colab": {
     "base_uri": "https://localhost:8080/"
    },
    "id": "d7C0QyTLHO8q",
    "outputId": "78587010-2aa8-4cc7-e82f-7c40e11ce705"
   },
   "outputs": [
    {
     "data": {
      "text/plain": [
       "array([[4.68887497e-15, 5.16291918e-23, 1.00000000e+00, 7.40982917e-23,\n",
       "        1.90795533e-34],\n",
       "       [8.68409779e-03, 9.91309762e-01, 6.10242887e-06, 5.88655576e-14,\n",
       "        3.73564484e-15],\n",
       "       [9.56462789e-03, 1.58771406e-20, 1.52729661e-21, 9.90435243e-01,\n",
       "        1.09084723e-07],\n",
       "       ...,\n",
       "       [9.99865651e-01, 2.09048606e-20, 3.32954293e-21, 1.10169654e-04,\n",
       "        2.42455335e-05],\n",
       "       [7.14640366e-04, 2.06729317e-12, 4.72588967e-25, 1.53174219e-14,\n",
       "        9.99285400e-01],\n",
       "       [6.10372692e-04, 2.99572743e-22, 1.14263783e-21, 9.99389648e-01,\n",
       "        6.76210377e-09]], dtype=float32)"
      ]
     },
     "execution_count": 13,
     "metadata": {},
     "output_type": "execute_result"
    }
   ],
   "source": [
    "y_pred"
   ]
  },
  {
   "cell_type": "code",
   "execution_count": 14,
   "id": "1ljWvGo9skgS",
   "metadata": {
    "id": "1ljWvGo9skgS"
   },
   "outputs": [],
   "source": [
    "y_pred= np.argmax(y_pred, axis=1)"
   ]
  },
  {
   "cell_type": "code",
   "execution_count": 15,
   "id": "BIninuG_Hixu",
   "metadata": {
    "colab": {
     "base_uri": "https://localhost:8080/"
    },
    "id": "BIninuG_Hixu",
    "outputId": "8d52a3ce-46d5-41c3-f339-ec8e2feee684"
   },
   "outputs": [
    {
     "data": {
      "text/plain": [
       "array([2, 1, 3, ..., 0, 4, 3])"
      ]
     },
     "execution_count": 15,
     "metadata": {},
     "output_type": "execute_result"
    }
   ],
   "source": [
    "y_pred"
   ]
  },
  {
   "cell_type": "code",
   "execution_count": 16,
   "id": "3NzoyhrD4tO9",
   "metadata": {
    "colab": {
     "base_uri": "https://localhost:8080/"
    },
    "id": "3NzoyhrD4tO9",
    "outputId": "da09ab77-c439-431e-82a8-93fc98f20b49"
   },
   "outputs": [
    {
     "data": {
      "text/plain": [
       "2"
      ]
     },
     "execution_count": 16,
     "metadata": {},
     "output_type": "execute_result"
    }
   ],
   "source": [
    "y_pred[0]"
   ]
  },
  {
   "cell_type": "code",
   "execution_count": 17,
   "id": "48c3e9c7-2bc3-479a-8af1-bf35d87f3e57",
   "metadata": {
    "id": "48c3e9c7-2bc3-479a-8af1-bf35d87f3e57"
   },
   "outputs": [],
   "source": [
    "df = pd.DataFrame({\n",
    "    'y_test': y_test.ravel().astype(int).tolist(),\n",
    "    'y_pred': y_pred.ravel().astype(int).tolist(),\n",
    "})"
   ]
  },
  {
   "cell_type": "code",
   "execution_count": 18,
   "id": "18cfafbe-dafb-4a9e-8873-7f96e71f80b8",
   "metadata": {
    "colab": {
     "base_uri": "https://localhost:8080/",
     "height": 175
    },
    "id": "18cfafbe-dafb-4a9e-8873-7f96e71f80b8",
    "outputId": "aa49cb9d-c88e-437b-9a31-2809577d1da1"
   },
   "outputs": [
    {
     "data": {
      "text/html": [
       "<div>\n",
       "<style scoped>\n",
       "    .dataframe tbody tr th:only-of-type {\n",
       "        vertical-align: middle;\n",
       "    }\n",
       "\n",
       "    .dataframe tbody tr th {\n",
       "        vertical-align: top;\n",
       "    }\n",
       "\n",
       "    .dataframe thead th {\n",
       "        text-align: right;\n",
       "    }\n",
       "</style>\n",
       "<table border=\"1\" class=\"dataframe\">\n",
       "  <thead>\n",
       "    <tr style=\"text-align: right;\">\n",
       "      <th>y_pred</th>\n",
       "      <th>0</th>\n",
       "      <th>1</th>\n",
       "      <th>2</th>\n",
       "      <th>3</th>\n",
       "      <th>4</th>\n",
       "    </tr>\n",
       "    <tr>\n",
       "      <th>y_test</th>\n",
       "      <th></th>\n",
       "      <th></th>\n",
       "      <th></th>\n",
       "      <th></th>\n",
       "      <th></th>\n",
       "    </tr>\n",
       "  </thead>\n",
       "  <tbody>\n",
       "    <tr>\n",
       "      <th>0</th>\n",
       "      <td>13524</td>\n",
       "      <td>0</td>\n",
       "      <td>0</td>\n",
       "      <td>579</td>\n",
       "      <td>292</td>\n",
       "    </tr>\n",
       "    <tr>\n",
       "      <th>1</th>\n",
       "      <td>87</td>\n",
       "      <td>4708</td>\n",
       "      <td>0</td>\n",
       "      <td>0</td>\n",
       "      <td>0</td>\n",
       "    </tr>\n",
       "    <tr>\n",
       "      <th>2</th>\n",
       "      <td>0</td>\n",
       "      <td>0</td>\n",
       "      <td>4795</td>\n",
       "      <td>0</td>\n",
       "      <td>0</td>\n",
       "    </tr>\n",
       "    <tr>\n",
       "      <th>3</th>\n",
       "      <td>133</td>\n",
       "      <td>0</td>\n",
       "      <td>0</td>\n",
       "      <td>4662</td>\n",
       "      <td>0</td>\n",
       "    </tr>\n",
       "    <tr>\n",
       "      <th>4</th>\n",
       "      <td>101</td>\n",
       "      <td>0</td>\n",
       "      <td>0</td>\n",
       "      <td>0</td>\n",
       "      <td>4694</td>\n",
       "    </tr>\n",
       "  </tbody>\n",
       "</table>\n",
       "</div>"
      ],
      "text/plain": [
       "y_pred      0     1     2     3     4\n",
       "y_test                               \n",
       "0       13524     0     0   579   292\n",
       "1          87  4708     0     0     0\n",
       "2           0     0  4795     0     0\n",
       "3         133     0     0  4662     0\n",
       "4         101     0     0     0  4694"
      ]
     },
     "execution_count": 18,
     "metadata": {},
     "output_type": "execute_result"
    }
   ],
   "source": [
    "pd.crosstab(df['y_test'], df['y_pred'])"
   ]
  },
  {
   "cell_type": "code",
   "execution_count": 19,
   "id": "e192957b-1b16-47c8-89eb-d6e2fb9bde9f",
   "metadata": {
    "id": "e192957b-1b16-47c8-89eb-d6e2fb9bde9f"
   },
   "outputs": [],
   "source": [
    "# model.save('model.h5')"
   ]
  },
  {
   "cell_type": "code",
   "execution_count": 20,
   "id": "vZD1w6TZwk0e",
   "metadata": {
    "id": "vZD1w6TZwk0e"
   },
   "outputs": [],
   "source": [
    "CNN.save('model_9645.h5')"
   ]
  },
  {
   "cell_type": "code",
   "execution_count": null,
   "id": "6413c816",
   "metadata": {},
   "outputs": [],
   "source": []
  }
 ],
 "metadata": {
  "accelerator": "GPU",
  "colab": {
   "provenance": []
  },
  "gpuClass": "standard",
  "kernelspec": {
   "display_name": "Python 3 (ipykernel)",
   "language": "python",
   "name": "python3"
  },
  "language_info": {
   "codemirror_mode": {
    "name": "ipython",
    "version": 3
   },
   "file_extension": ".py",
   "mimetype": "text/x-python",
   "name": "python",
   "nbconvert_exporter": "python",
   "pygments_lexer": "ipython3",
   "version": "3.9.12"
  }
 },
 "nbformat": 4,
 "nbformat_minor": 5
}
