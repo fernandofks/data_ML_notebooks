{
 "cells": [
  {
   "cell_type": "code",
   "execution_count": 1,
   "id": "b41f0b0f-cc96-43a2-ab7f-f3264587e7d2",
   "metadata": {
    "id": "b41f0b0f-cc96-43a2-ab7f-f3264587e7d2"
   },
   "outputs": [
    {
     "name": "stderr",
     "output_type": "stream",
     "text": [
      "/Users/fernandokenjisakabe/opt/anaconda3/lib/python3.9/site-packages/scipy/__init__.py:146: UserWarning: A NumPy version >=1.16.5 and <1.23.0 is required for this version of SciPy (detected version 1.24.1\n",
      "  warnings.warn(f\"A NumPy version >={np_minversion} and <{np_maxversion}\"\n"
     ]
    }
   ],
   "source": [
    "from pathlib import Path\n",
    "import matplotlib.pyplot as plt\n",
    "import numpy as np\n",
    "import pandas as pd\n",
    "import tensorflow as tf\n",
    "import tensorflow.keras as keras\n",
    "from tensorflow.python.keras.layers import Dense\n",
    "from numpy.random import default_rng\n",
    "from sklearn.model_selection import train_test_split"
   ]
  },
  {
   "cell_type": "code",
   "execution_count": 2,
   "id": "c9e9560b-749a-49a8-aedf-44a1ac9b4bb1",
   "metadata": {
    "id": "c9e9560b-749a-49a8-aedf-44a1ac9b4bb1"
   },
   "outputs": [],
   "source": [
    "# Loading pipeline params.\n",
    "DATA_PATH = Path('data')\n",
    "FILENAME_STOP = 'stop_90_diff_quat.csv'\n",
    "FILENAME_0 = '0_90_diff_quat.csv'\n",
    "FILENAME_90 = '90_90_diff_quat.csv'\n",
    "FILENAME_180 = '180_90_diff_quat.csv'\n",
    "FILENAME_270 = '270_90_diff_quat.csv'\n",
    "\n",
    "NUM_TIMESTEPS = 6\n",
    "IGNORE_FRACTION = 0.1\n",
    "TEST_FRACTION = 0.25\n",
    "\n",
    "# Training params.\n",
    "LEARNING_RATE = 1e-5\n",
    "EPOCHS = 100\n",
    "BATCH_SIZE = 512"
   ]
  },
  {
   "cell_type": "code",
   "execution_count": 3,
   "id": "7f52716d-1339-4484-9fd3-d5206979ba8e",
   "metadata": {
    "id": "7f52716d-1339-4484-9fd3-d5206979ba8e"
   },
   "outputs": [],
   "source": [
    "def load_data(\n",
    "    path_stop,\n",
    "    path_0,\n",
    "    path_90,\n",
    "    path_180,\n",
    "    path_270,\n",
    "    num_timesteps,\n",
    "    ignore_fraction,\n",
    "    test_fraction,\n",
    "):\n",
    "\n",
    "    def read_and_prepare_data(\n",
    "        path,\n",
    "        class_,\n",
    "        num_timesteps,\n",
    "        ignore_fraction,\n",
    "        test_fraction,\n",
    "    ):\n",
    "\n",
    "        def split_temporally(X, test_fraction):\n",
    "            num_samples = X.shape[0]\n",
    "            num_train = int(num_samples * (1.0 - test_fraction))\n",
    "            X_train, X_test = X[:num_train], X[num_train:]\n",
    "            return X_train, X_test\n",
    "\n",
    "        def transform_into_sequences(X, num_timesteps):\n",
    "            num_samples = X.shape[0]\n",
    "            X_seq = []\n",
    "            for k in range(num_samples - num_timesteps + 1):\n",
    "                X_seq.append(X[k:(k + num_timesteps)])\n",
    "            X_seq = np.array(X_seq)\n",
    "            y_seq = class_ * np.ones((X_seq.shape[0], 1))\n",
    "            return X_seq, y_seq\n",
    "\n",
    "        X = pd.read_csv(path).values\n",
    "        X = X[:, [0,1,2,3,4,5,6,7,8,9,10,11,12,13]]  # Use only feet translations.\n",
    "\n",
    "        # Ignore beginning and end.\n",
    "        num_samples = X.shape[0]\n",
    "        num_ignore = int(ignore_fraction * num_samples)\n",
    "        X = X[num_ignore:-num_ignore]\n",
    "\n",
    "        # Split X temporally.\n",
    "        X_train, X_test = split_temporally(X, test_fraction)\n",
    "\n",
    "        # Transform X into short sequences.\n",
    "        X_train, y_train = transform_into_sequences(X_train, num_timesteps)\n",
    "        X_test, y_test = transform_into_sequences(X_test, num_timesteps)\n",
    "\n",
    "        return X_train, y_train, X_test, y_test\n",
    "\n",
    "    def shuffle_data(X, y):\n",
    "        idx = np.arange(len(X))\n",
    "        default_rng().shuffle(idx)\n",
    "        X_shuffled = X[idx, :]\n",
    "        y_shuffled = y[idx]\n",
    "        return X_shuffled, y_shuffled\n",
    "\n",
    "    X_train_stop, y_train_stop, X_test_stop, y_test_stop = \\\n",
    "        read_and_prepare_data(\n",
    "            path_stop,\n",
    "            0.0,\n",
    "            num_timesteps,\n",
    "            ignore_fraction,\n",
    "            test_fraction,\n",
    "        )\n",
    "    \n",
    "    X_train_0, y_train_0, X_test_0, y_test_0 = \\\n",
    "        read_and_prepare_data(\n",
    "            path_0,\n",
    "            1.0,\n",
    "            num_timesteps,\n",
    "            ignore_fraction,\n",
    "            test_fraction,\n",
    "        )\n",
    "\n",
    "    X_train_90, y_train_90, X_test_90, y_test_90 = \\\n",
    "        read_and_prepare_data(\n",
    "            path_90,\n",
    "            2.0,\n",
    "            num_timesteps,\n",
    "            ignore_fraction,\n",
    "            test_fraction,\n",
    "        )\n",
    "    \n",
    "    X_train_180, y_train_180, X_test_180, y_test_180 = \\\n",
    "        read_and_prepare_data(\n",
    "            path_180,\n",
    "            3.0,\n",
    "            num_timesteps,\n",
    "            ignore_fraction,\n",
    "            test_fraction,\n",
    "        )\n",
    "    \n",
    "    X_train_270, y_train_270, X_test_270, y_test_270 = \\\n",
    "        read_and_prepare_data(\n",
    "            path_270,\n",
    "            4.0,\n",
    "            num_timesteps,\n",
    "            ignore_fraction,\n",
    "            test_fraction,\n",
    "        )\n",
    "\n",
    "    X_train = np.concatenate((X_train_stop, X_train_0, X_train_90, X_train_180, X_train_270), axis=0)\n",
    "    y_train = np.concatenate((y_train_stop, y_train_0, y_train_90, y_train_180, y_train_270), axis=0)\n",
    "    X_test = np.concatenate((X_test_stop, X_test_0, X_test_90, X_test_180, X_test_270), axis=0)\n",
    "    y_test = np.concatenate((y_test_stop, y_test_0, y_test_90, y_test_180, y_test_270), axis=0)\n",
    "\n",
    "    X_train, y_train = shuffle_data(X_train, y_train)\n",
    "    X_test, y_test = shuffle_data(X_test, y_test)\n",
    "\n",
    "    return X_train, X_test, y_train, y_test\n",
    "\n",
    "\n",
    "path_stop = Path(DATA_PATH, FILENAME_STOP)\n",
    "path_0 = Path(DATA_PATH, FILENAME_0)\n",
    "path_90 = Path(DATA_PATH, FILENAME_90)\n",
    "path_180 = Path(DATA_PATH, FILENAME_180)\n",
    "path_270 = Path(DATA_PATH, FILENAME_270)\n",
    "\n",
    "X_train, X_test, y_train, y_test = load_data(\n",
    "    path_stop,\n",
    "    path_0,\n",
    "    path_90,\n",
    "    path_180,\n",
    "    path_270,\n",
    "    NUM_TIMESTEPS,\n",
    "    IGNORE_FRACTION,\n",
    "    TEST_FRACTION,\n",
    ")"
   ]
  },
  {
   "cell_type": "code",
   "execution_count": 4,
   "id": "99c35712-1089-44f3-89ef-ed471b144c96",
   "metadata": {
    "colab": {
     "base_uri": "https://localhost:8080/"
    },
    "id": "99c35712-1089-44f3-89ef-ed471b144c96",
    "outputId": "9076061a-8661-4d2e-c1ed-887a92ec640b"
   },
   "outputs": [
    {
     "data": {
      "text/plain": [
       "((100773, 6, 14), (100773, 1), (33575, 6, 14), (33575, 1))"
      ]
     },
     "execution_count": 4,
     "metadata": {},
     "output_type": "execute_result"
    }
   ],
   "source": [
    "X_train.shape, y_train.shape, X_test.shape, y_test.shape"
   ]
  },
  {
   "cell_type": "code",
   "execution_count": 5,
   "id": "VqSuqgBCB_nA",
   "metadata": {
    "colab": {
     "base_uri": "https://localhost:8080/"
    },
    "id": "VqSuqgBCB_nA",
    "outputId": "26d50bbe-3fd3-4bed-e70e-7003d289c5d6"
   },
   "outputs": [
    {
     "data": {
      "text/plain": [
       "(6, 14)"
      ]
     },
     "execution_count": 5,
     "metadata": {},
     "output_type": "execute_result"
    }
   ],
   "source": [
    "X_test[60].shape\n"
   ]
  },
  {
   "cell_type": "code",
   "execution_count": null,
   "id": "dye8vjENBtXX",
   "metadata": {
    "id": "dye8vjENBtXX"
   },
   "outputs": [],
   "source": []
  },
  {
   "cell_type": "code",
   "execution_count": null,
   "id": "-3TttkaRCM4l",
   "metadata": {
    "id": "-3TttkaRCM4l"
   },
   "outputs": [],
   "source": []
  },
  {
   "cell_type": "code",
   "execution_count": 6,
   "id": "3a85634b-4e9c-45b8-b456-cb970457302f",
   "metadata": {
    "id": "3a85634b-4e9c-45b8-b456-cb970457302f"
   },
   "outputs": [
    {
     "name": "stdout",
     "output_type": "stream",
     "text": [
      "Model: \"Sequential_CNN\"\n",
      "_________________________________________________________________\n",
      " Layer (type)                Output Shape              Param #   \n",
      "=================================================================\n",
      " conv2d (Conv2D)             (None, 2, 4, 256)         1280      \n",
      "                                                                 \n",
      " max_pooling2d (MaxPooling2D  (None, 1, 3, 256)        0         \n",
      " )                                                               \n",
      "                                                                 \n",
      " flatten (Flatten)           (None, 768)               0         \n",
      "                                                                 \n",
      " dense (Dense)               (None, 64)                49216     \n",
      "                                                                 \n",
      " dense_1 (Dense)             (None, 32)                2080      \n",
      "                                                                 \n",
      " dense_2 (Dense)             (None, 5)                 165       \n",
      "                                                                 \n",
      "=================================================================\n",
      "Total params: 52,741\n",
      "Trainable params: 52,741\n",
      "Non-trainable params: 0\n",
      "_________________________________________________________________\n"
     ]
    },
    {
     "name": "stderr",
     "output_type": "stream",
     "text": [
      "2023-01-18 12:23:37.764282: I tensorflow/core/platform/cpu_feature_guard.cc:193] This TensorFlow binary is optimized with oneAPI Deep Neural Network Library (oneDNN) to use the following CPU instructions in performance-critical operations:  AVX2 FMA\n",
      "To enable them in other operations, rebuild TensorFlow with the appropriate compiler flags.\n"
     ]
    }
   ],
   "source": [
    "from tensorflow.keras.models import Sequential\n",
    "from tensorflow.keras.layers import Conv2D, MaxPooling2D, Flatten, Dense\n",
    "\n",
    "CNN = Sequential(name=\"Sequential_CNN\")\n",
    "\n",
    "CNN.add(Conv2D(256, kernel_size=(2, 2),\n",
    "               strides=(4, 4), padding=\"same\",\n",
    "               activation=\"selu\", input_shape=[6, 14, 1]))\n",
    "\n",
    "CNN.add(MaxPooling2D(pool_size=(2, 2), strides=(1, 1),\n",
    "                     padding=\"valid\"))\n",
    "\n",
    "# Add another pair of Conv2D and MaxPooling2D for more model depth,\n",
    "# followed by the flatten and multiple dense layers\n",
    "\n",
    "# CNN.add(Conv2D(64, kernel_size=(3, 3),\n",
    "#                strides=(1, 1), padding=\"same\",\n",
    "#                activation=\"selu\"))\n",
    "\n",
    "# CNN.add(MaxPooling2D(pool_size=(2, 2), strides=(1, 1),\n",
    "#                      padding=\"valid\"))\n",
    "\n",
    "CNN.add(Flatten())\n",
    "\n",
    "CNN.add(Dense(64, activation='selu'))\n",
    "CNN.add(Dense(32, activation='selu'))\n",
    "CNN.add(Dense(5, activation='softmax'))\n",
    "\n",
    "CNN.summary()"
   ]
  },
  {
   "cell_type": "code",
   "execution_count": null,
   "id": "j0C2RSxICKzq",
   "metadata": {
    "colab": {
     "base_uri": "https://localhost:8080/"
    },
    "id": "j0C2RSxICKzq",
    "outputId": "af853522-fdf6-40e4-8d0e-cd2a6dcdab9b"
   },
   "outputs": [],
   "source": []
  },
  {
   "cell_type": "code",
   "execution_count": 7,
   "id": "911581af",
   "metadata": {},
   "outputs": [],
   "source": [
    "from numpy import *\n",
    "where_are_NaNsx = isnan(X_train)\n",
    "X_train[where_are_NaNsx] = 0\n",
    "\n",
    "where_are_NaNsy = isnan(y_train)\n",
    "y_train[where_are_NaNsy] = 0\n",
    "\n",
    "where_are_NaNsxt = isnan(X_test)\n",
    "X_test[where_are_NaNsxt] = 0\n",
    "\n",
    "where_are_NaNsyt = isnan(y_test)\n",
    "y_test[where_are_NaNsyt] = 0"
   ]
  },
  {
   "cell_type": "code",
   "execution_count": 8,
   "id": "7baf8970-5318-4461-b828-d34c232afa5f",
   "metadata": {
    "colab": {
     "base_uri": "https://localhost:8080/"
    },
    "id": "7baf8970-5318-4461-b828-d34c232afa5f",
    "outputId": "08a66cc8-aeee-42ba-f039-9dfa2ba6f99e"
   },
   "outputs": [
    {
     "name": "stdout",
     "output_type": "stream",
     "text": [
      "Epoch 1/100\n",
      "394/394 [==============================] - 4s 9ms/step - loss: 0.4612 - accuracy: 0.7950 - val_loss: 0.2723 - val_accuracy: 0.8779\n",
      "Epoch 2/100\n",
      "394/394 [==============================] - 4s 9ms/step - loss: 0.2700 - accuracy: 0.8929 - val_loss: 0.1685 - val_accuracy: 0.9385\n",
      "Epoch 3/100\n",
      "394/394 [==============================] - 3s 9ms/step - loss: 0.2003 - accuracy: 0.9270 - val_loss: 0.1594 - val_accuracy: 0.9450\n",
      "Epoch 4/100\n",
      "394/394 [==============================] - 4s 10ms/step - loss: 0.1723 - accuracy: 0.9394 - val_loss: 0.1251 - val_accuracy: 0.9572\n",
      "Epoch 5/100\n",
      "394/394 [==============================] - 4s 9ms/step - loss: 0.1406 - accuracy: 0.9529 - val_loss: 0.0811 - val_accuracy: 0.9788\n",
      "Epoch 6/100\n",
      "394/394 [==============================] - 4s 9ms/step - loss: 0.1364 - accuracy: 0.9545 - val_loss: 0.0797 - val_accuracy: 0.9845\n",
      "Epoch 7/100\n",
      "394/394 [==============================] - 3s 8ms/step - loss: 0.1265 - accuracy: 0.9572 - val_loss: 0.0866 - val_accuracy: 0.9747\n",
      "Epoch 8/100\n",
      "394/394 [==============================] - 3s 8ms/step - loss: 0.1135 - accuracy: 0.9620 - val_loss: 0.0718 - val_accuracy: 0.9840\n",
      "Epoch 9/100\n",
      "394/394 [==============================] - 3s 8ms/step - loss: 0.1108 - accuracy: 0.9638 - val_loss: 0.0709 - val_accuracy: 0.9795\n",
      "Epoch 10/100\n",
      "394/394 [==============================] - 3s 9ms/step - loss: 0.1028 - accuracy: 0.9665 - val_loss: 0.0716 - val_accuracy: 0.9841\n",
      "Epoch 11/100\n",
      "394/394 [==============================] - 4s 9ms/step - loss: 0.1008 - accuracy: 0.9669 - val_loss: 0.0665 - val_accuracy: 0.9841\n",
      "Epoch 12/100\n",
      "394/394 [==============================] - 4s 9ms/step - loss: 0.0972 - accuracy: 0.9685 - val_loss: 0.0636 - val_accuracy: 0.9837\n",
      "Epoch 13/100\n",
      "394/394 [==============================] - 4s 9ms/step - loss: 0.0910 - accuracy: 0.9702 - val_loss: 0.0507 - val_accuracy: 0.9880\n",
      "Epoch 14/100\n",
      "394/394 [==============================] - 3s 9ms/step - loss: 0.0930 - accuracy: 0.9696 - val_loss: 0.0505 - val_accuracy: 0.9874\n",
      "Epoch 15/100\n",
      "394/394 [==============================] - 4s 9ms/step - loss: 0.0898 - accuracy: 0.9710 - val_loss: 0.0540 - val_accuracy: 0.9857\n",
      "Epoch 16/100\n",
      "394/394 [==============================] - 4s 10ms/step - loss: 0.0834 - accuracy: 0.9734 - val_loss: 0.0478 - val_accuracy: 0.9883\n",
      "Epoch 17/100\n",
      "394/394 [==============================] - 3s 9ms/step - loss: 0.0840 - accuracy: 0.9729 - val_loss: 0.0562 - val_accuracy: 0.9850\n",
      "Epoch 18/100\n",
      "394/394 [==============================] - 3s 8ms/step - loss: 0.0847 - accuracy: 0.9727 - val_loss: 0.0589 - val_accuracy: 0.9854\n",
      "Epoch 19/100\n",
      "394/394 [==============================] - 3s 8ms/step - loss: 0.0797 - accuracy: 0.9747 - val_loss: 0.0592 - val_accuracy: 0.9839\n",
      "Epoch 20/100\n",
      "394/394 [==============================] - 3s 8ms/step - loss: 0.0751 - accuracy: 0.9762 - val_loss: 0.0599 - val_accuracy: 0.9850\n",
      "Epoch 21/100\n",
      "394/394 [==============================] - 3s 9ms/step - loss: 0.0728 - accuracy: 0.9768 - val_loss: 0.0861 - val_accuracy: 0.9727\n",
      "Epoch 22/100\n",
      "394/394 [==============================] - 3s 9ms/step - loss: 0.0789 - accuracy: 0.9744 - val_loss: 0.0855 - val_accuracy: 0.9744\n",
      "Epoch 23/100\n",
      "394/394 [==============================] - 3s 9ms/step - loss: 0.0750 - accuracy: 0.9762 - val_loss: 0.0861 - val_accuracy: 0.9757\n",
      "Epoch 24/100\n",
      "394/394 [==============================] - 4s 9ms/step - loss: 0.0729 - accuracy: 0.9770 - val_loss: 0.0647 - val_accuracy: 0.9847\n",
      "Epoch 25/100\n",
      "394/394 [==============================] - 4s 9ms/step - loss: 0.0715 - accuracy: 0.9768 - val_loss: 0.0809 - val_accuracy: 0.9798\n",
      "Epoch 26/100\n",
      "394/394 [==============================] - 4s 9ms/step - loss: 0.0717 - accuracy: 0.9778 - val_loss: 0.0521 - val_accuracy: 0.9864\n",
      "Epoch 27/100\n",
      "394/394 [==============================] - 3s 9ms/step - loss: 0.0709 - accuracy: 0.9781 - val_loss: 0.0612 - val_accuracy: 0.9848\n",
      "Epoch 28/100\n",
      "394/394 [==============================] - 4s 9ms/step - loss: 0.0695 - accuracy: 0.9781 - val_loss: 0.0668 - val_accuracy: 0.9811\n",
      "Epoch 29/100\n",
      "394/394 [==============================] - 3s 9ms/step - loss: 0.0700 - accuracy: 0.9778 - val_loss: 0.0688 - val_accuracy: 0.9829\n",
      "Epoch 30/100\n",
      "394/394 [==============================] - 3s 9ms/step - loss: 0.0718 - accuracy: 0.9774 - val_loss: 0.0664 - val_accuracy: 0.9812\n",
      "Epoch 31/100\n",
      "394/394 [==============================] - 4s 9ms/step - loss: 0.0664 - accuracy: 0.9792 - val_loss: 0.0583 - val_accuracy: 0.9843\n",
      "Epoch 32/100\n",
      "394/394 [==============================] - 3s 9ms/step - loss: 0.0654 - accuracy: 0.9799 - val_loss: 0.0607 - val_accuracy: 0.9845\n",
      "Epoch 33/100\n",
      "394/394 [==============================] - 3s 9ms/step - loss: 0.0652 - accuracy: 0.9796 - val_loss: 0.0869 - val_accuracy: 0.9765\n",
      "Epoch 34/100\n",
      "394/394 [==============================] - 4s 9ms/step - loss: 0.0686 - accuracy: 0.9783 - val_loss: 0.0598 - val_accuracy: 0.9841\n",
      "Epoch 35/100\n",
      "394/394 [==============================] - 4s 9ms/step - loss: 0.0642 - accuracy: 0.9801 - val_loss: 0.0565 - val_accuracy: 0.9823\n",
      "Epoch 36/100\n",
      "394/394 [==============================] - 3s 9ms/step - loss: 0.0656 - accuracy: 0.9795 - val_loss: 0.0526 - val_accuracy: 0.9861\n",
      "Epoch 37/100\n",
      "394/394 [==============================] - 4s 9ms/step - loss: 0.0623 - accuracy: 0.9809 - val_loss: 0.0612 - val_accuracy: 0.9828\n",
      "Epoch 38/100\n",
      "394/394 [==============================] - 4s 9ms/step - loss: 0.0675 - accuracy: 0.9788 - val_loss: 0.0737 - val_accuracy: 0.9795\n",
      "Epoch 39/100\n",
      "394/394 [==============================] - 4s 10ms/step - loss: 0.0630 - accuracy: 0.9808 - val_loss: 0.0549 - val_accuracy: 0.9857\n",
      "Epoch 40/100\n",
      "394/394 [==============================] - 4s 10ms/step - loss: 0.0643 - accuracy: 0.9800 - val_loss: 0.0596 - val_accuracy: 0.9829\n",
      "Epoch 41/100\n",
      "394/394 [==============================] - 4s 10ms/step - loss: 0.0663 - accuracy: 0.9787 - val_loss: 0.0920 - val_accuracy: 0.9741\n",
      "Epoch 42/100\n",
      "394/394 [==============================] - 4s 11ms/step - loss: 0.0586 - accuracy: 0.9818 - val_loss: 0.0644 - val_accuracy: 0.9826\n",
      "Epoch 43/100\n",
      "394/394 [==============================] - 4s 10ms/step - loss: 0.0604 - accuracy: 0.9810 - val_loss: 0.0677 - val_accuracy: 0.9815\n",
      "Epoch 44/100\n",
      "394/394 [==============================] - 5s 13ms/step - loss: 0.0623 - accuracy: 0.9804 - val_loss: 0.0608 - val_accuracy: 0.9814\n",
      "Epoch 45/100\n",
      "394/394 [==============================] - 5s 12ms/step - loss: 0.0734 - accuracy: 0.9768 - val_loss: 0.0635 - val_accuracy: 0.9821\n",
      "Epoch 46/100\n",
      "394/394 [==============================] - 4s 11ms/step - loss: 0.0578 - accuracy: 0.9819 - val_loss: 0.0616 - val_accuracy: 0.9830\n",
      "Epoch 47/100\n",
      "394/394 [==============================] - 5s 11ms/step - loss: 0.0589 - accuracy: 0.9819 - val_loss: 0.0520 - val_accuracy: 0.9855\n",
      "Epoch 48/100\n",
      "394/394 [==============================] - 5s 12ms/step - loss: 0.0590 - accuracy: 0.9816 - val_loss: 0.0878 - val_accuracy: 0.9762\n",
      "Epoch 49/100\n",
      "394/394 [==============================] - 5s 12ms/step - loss: 0.0618 - accuracy: 0.9809 - val_loss: 0.0570 - val_accuracy: 0.9845\n",
      "Epoch 50/100\n",
      "394/394 [==============================] - 4s 11ms/step - loss: 0.0582 - accuracy: 0.9817 - val_loss: 0.0742 - val_accuracy: 0.9796\n",
      "Epoch 51/100\n",
      "394/394 [==============================] - 4s 10ms/step - loss: 0.0585 - accuracy: 0.9816 - val_loss: 0.0666 - val_accuracy: 0.9813\n",
      "Epoch 52/100\n",
      "394/394 [==============================] - 4s 11ms/step - loss: 0.0591 - accuracy: 0.9815 - val_loss: 0.0611 - val_accuracy: 0.9830\n",
      "Epoch 53/100\n",
      "394/394 [==============================] - 4s 11ms/step - loss: 0.0568 - accuracy: 0.9823 - val_loss: 0.0604 - val_accuracy: 0.9839\n",
      "Epoch 54/100\n",
      "394/394 [==============================] - 5s 11ms/step - loss: 0.0582 - accuracy: 0.9816 - val_loss: 0.0779 - val_accuracy: 0.9787\n",
      "Epoch 55/100\n",
      "394/394 [==============================] - 4s 11ms/step - loss: 0.0619 - accuracy: 0.9803 - val_loss: 0.0760 - val_accuracy: 0.9793\n",
      "Epoch 56/100\n",
      "394/394 [==============================] - 4s 11ms/step - loss: 0.0560 - accuracy: 0.9830 - val_loss: 0.0705 - val_accuracy: 0.9806\n",
      "Epoch 57/100\n",
      "394/394 [==============================] - 4s 11ms/step - loss: 0.0563 - accuracy: 0.9822 - val_loss: 0.0767 - val_accuracy: 0.9797\n"
     ]
    },
    {
     "name": "stdout",
     "output_type": "stream",
     "text": [
      "Epoch 58/100\n",
      "394/394 [==============================] - 4s 9ms/step - loss: 0.0566 - accuracy: 0.9821 - val_loss: 0.0808 - val_accuracy: 0.9793\n",
      "Epoch 59/100\n",
      "394/394 [==============================] - 4s 9ms/step - loss: 0.0553 - accuracy: 0.9831 - val_loss: 0.0645 - val_accuracy: 0.9814\n",
      "Epoch 60/100\n",
      "394/394 [==============================] - 4s 9ms/step - loss: 0.0533 - accuracy: 0.9836 - val_loss: 0.0684 - val_accuracy: 0.9811\n",
      "Epoch 61/100\n",
      "394/394 [==============================] - 4s 9ms/step - loss: 0.0563 - accuracy: 0.9822 - val_loss: 0.0694 - val_accuracy: 0.9804\n",
      "Epoch 62/100\n",
      "394/394 [==============================] - 4s 10ms/step - loss: 0.0555 - accuracy: 0.9829 - val_loss: 0.0630 - val_accuracy: 0.9823\n",
      "Epoch 63/100\n",
      "394/394 [==============================] - 4s 9ms/step - loss: 0.0553 - accuracy: 0.9830 - val_loss: 0.0833 - val_accuracy: 0.9782\n",
      "Epoch 64/100\n",
      "394/394 [==============================] - 4s 9ms/step - loss: 0.0530 - accuracy: 0.9838 - val_loss: 0.0778 - val_accuracy: 0.9803\n",
      "Epoch 65/100\n",
      "394/394 [==============================] - 4s 9ms/step - loss: 0.0583 - accuracy: 0.9818 - val_loss: 0.0649 - val_accuracy: 0.9824\n",
      "Epoch 66/100\n",
      "394/394 [==============================] - 4s 9ms/step - loss: 0.0536 - accuracy: 0.9832 - val_loss: 0.0812 - val_accuracy: 0.9782\n",
      "Epoch 67/100\n",
      "394/394 [==============================] - 4s 9ms/step - loss: 0.0567 - accuracy: 0.9822 - val_loss: 0.0654 - val_accuracy: 0.9821\n",
      "Epoch 68/100\n",
      "394/394 [==============================] - 3s 9ms/step - loss: 0.0551 - accuracy: 0.9827 - val_loss: 0.0723 - val_accuracy: 0.9792\n",
      "Epoch 69/100\n",
      "394/394 [==============================] - 4s 9ms/step - loss: 0.0520 - accuracy: 0.9837 - val_loss: 0.0677 - val_accuracy: 0.9788\n",
      "Epoch 70/100\n",
      "394/394 [==============================] - 4s 9ms/step - loss: 0.0533 - accuracy: 0.9832 - val_loss: 0.0713 - val_accuracy: 0.9780\n",
      "Epoch 71/100\n",
      "394/394 [==============================] - 4s 9ms/step - loss: 0.0515 - accuracy: 0.9840 - val_loss: 0.0807 - val_accuracy: 0.9788\n",
      "Epoch 72/100\n",
      "394/394 [==============================] - 3s 9ms/step - loss: 0.0528 - accuracy: 0.9834 - val_loss: 0.1124 - val_accuracy: 0.9688\n",
      "Epoch 73/100\n",
      "394/394 [==============================] - 3s 8ms/step - loss: 0.0541 - accuracy: 0.9834 - val_loss: 0.0921 - val_accuracy: 0.9750\n",
      "Epoch 74/100\n",
      "394/394 [==============================] - 3s 9ms/step - loss: 0.0543 - accuracy: 0.9828 - val_loss: 0.0625 - val_accuracy: 0.9829\n",
      "Epoch 75/100\n",
      "394/394 [==============================] - 4s 9ms/step - loss: 0.0515 - accuracy: 0.9840 - val_loss: 0.0842 - val_accuracy: 0.9765\n",
      "Epoch 76/100\n",
      "394/394 [==============================] - 3s 9ms/step - loss: 0.0556 - accuracy: 0.9825 - val_loss: 0.0630 - val_accuracy: 0.9813\n",
      "Epoch 77/100\n",
      "394/394 [==============================] - 4s 9ms/step - loss: 0.0505 - accuracy: 0.9842 - val_loss: 0.0588 - val_accuracy: 0.9827\n",
      "Epoch 78/100\n",
      "394/394 [==============================] - 3s 9ms/step - loss: 0.0501 - accuracy: 0.9843 - val_loss: 0.0672 - val_accuracy: 0.9810\n",
      "Epoch 79/100\n",
      "394/394 [==============================] - 4s 9ms/step - loss: 0.0531 - accuracy: 0.9835 - val_loss: 0.0722 - val_accuracy: 0.9797\n",
      "Epoch 80/100\n",
      "394/394 [==============================] - 3s 9ms/step - loss: 0.0513 - accuracy: 0.9837 - val_loss: 0.0790 - val_accuracy: 0.9788\n",
      "Epoch 81/100\n",
      "394/394 [==============================] - 3s 9ms/step - loss: 0.0519 - accuracy: 0.9836 - val_loss: 0.0782 - val_accuracy: 0.9783\n",
      "Epoch 82/100\n",
      "394/394 [==============================] - 3s 9ms/step - loss: 0.0515 - accuracy: 0.9844 - val_loss: 0.1233 - val_accuracy: 0.9662\n",
      "Epoch 83/100\n",
      "394/394 [==============================] - 3s 8ms/step - loss: 0.0498 - accuracy: 0.9844 - val_loss: 0.0676 - val_accuracy: 0.9802\n",
      "Epoch 84/100\n",
      "394/394 [==============================] - 3s 8ms/step - loss: 0.0499 - accuracy: 0.9845 - val_loss: 0.0780 - val_accuracy: 0.9755\n",
      "Epoch 85/100\n",
      "394/394 [==============================] - 3s 9ms/step - loss: 0.0496 - accuracy: 0.9843 - val_loss: 0.0852 - val_accuracy: 0.9768\n",
      "Epoch 86/100\n",
      "394/394 [==============================] - 3s 9ms/step - loss: 0.0504 - accuracy: 0.9839 - val_loss: 0.0757 - val_accuracy: 0.9787\n",
      "Epoch 87/100\n",
      "394/394 [==============================] - 3s 9ms/step - loss: 0.0502 - accuracy: 0.9840 - val_loss: 0.0751 - val_accuracy: 0.9787\n",
      "Epoch 88/100\n",
      "394/394 [==============================] - 3s 9ms/step - loss: 0.0481 - accuracy: 0.9856 - val_loss: 0.1006 - val_accuracy: 0.9730\n",
      "Epoch 89/100\n",
      "394/394 [==============================] - 3s 9ms/step - loss: 0.0483 - accuracy: 0.9849 - val_loss: 0.0929 - val_accuracy: 0.9740\n",
      "Epoch 90/100\n",
      "394/394 [==============================] - 3s 9ms/step - loss: 0.0472 - accuracy: 0.9854 - val_loss: 0.0783 - val_accuracy: 0.9778\n",
      "Epoch 91/100\n",
      "394/394 [==============================] - 3s 9ms/step - loss: 0.0507 - accuracy: 0.9842 - val_loss: 0.0738 - val_accuracy: 0.9787\n",
      "Epoch 92/100\n",
      "394/394 [==============================] - 3s 9ms/step - loss: 0.0475 - accuracy: 0.9854 - val_loss: 0.0876 - val_accuracy: 0.9762\n",
      "Epoch 93/100\n",
      "394/394 [==============================] - 3s 8ms/step - loss: 0.0560 - accuracy: 0.9824 - val_loss: 0.1172 - val_accuracy: 0.9695\n",
      "Epoch 94/100\n",
      "394/394 [==============================] - 3s 8ms/step - loss: 0.0475 - accuracy: 0.9853 - val_loss: 0.1051 - val_accuracy: 0.9718\n",
      "Epoch 95/100\n",
      "394/394 [==============================] - 3s 9ms/step - loss: 0.0475 - accuracy: 0.9854 - val_loss: 0.0867 - val_accuracy: 0.9769\n",
      "Epoch 96/100\n",
      "394/394 [==============================] - 3s 9ms/step - loss: 0.0485 - accuracy: 0.9851 - val_loss: 0.0742 - val_accuracy: 0.9797\n",
      "Epoch 97/100\n",
      "394/394 [==============================] - 4s 9ms/step - loss: 0.0466 - accuracy: 0.9858 - val_loss: 0.1098 - val_accuracy: 0.9723\n",
      "Epoch 98/100\n",
      "394/394 [==============================] - 3s 8ms/step - loss: 0.0482 - accuracy: 0.9849 - val_loss: 0.1041 - val_accuracy: 0.9726\n",
      "Epoch 99/100\n",
      "394/394 [==============================] - 3s 9ms/step - loss: 0.0484 - accuracy: 0.9849 - val_loss: 0.0794 - val_accuracy: 0.9786\n",
      "Epoch 100/100\n",
      "394/394 [==============================] - 4s 9ms/step - loss: 0.0465 - accuracy: 0.9855 - val_loss: 0.0888 - val_accuracy: 0.9750\n"
     ]
    }
   ],
   "source": [
    "optimizer = keras.optimizers.Adam(learning_rate=1e-3)\n",
    "\n",
    "CNN.compile(\n",
    "    loss='sparse_categorical_crossentropy',\n",
    "    optimizer=optimizer,\n",
    "    metrics=['accuracy'],\n",
    ")\n",
    "history = CNN.fit(\n",
    "    X_train,\n",
    "    y_train,\n",
    "    epochs=EPOCHS,\n",
    "    batch_size=256,\n",
    "    validation_data=(X_test, y_test),\n",
    "    verbose=1,\n",
    ")"
   ]
  },
  {
   "cell_type": "code",
   "execution_count": null,
   "id": "70de8d27-4ff5-4dce-b45f-675dcc74513e",
   "metadata": {
    "colab": {
     "base_uri": "https://localhost:8080/"
    },
    "id": "70de8d27-4ff5-4dce-b45f-675dcc74513e",
    "outputId": "7211ef5c-5b4a-4afb-ad4f-7341eeb8f0f8"
   },
   "outputs": [],
   "source": [
    "# from functools import partial\n",
    "\n",
    "\n",
    "\n",
    "# _, num_time, num_feat = X_train.shape\n",
    "\n",
    "# activation = 'selu'\n",
    "\n",
    "# DefaultConv1D = partial(\n",
    "#     keras.layers.Conv1D,\n",
    "#     kernel_size=1,\n",
    "#     activation=activation,\n",
    "#     padding=\"valid\",\n",
    "# )\n",
    "\n",
    "# model = keras.models.Sequential([\n",
    "#     DefaultConv1D(4 * num_feat, kernel_size=2, input_shape=[num_time, num_feat]),\n",
    "#     keras.layers.BatchNormalization(),\n",
    "#     DefaultConv1D(num_feat, kernel_size=2),\n",
    "#     keras.layers.Flatten(),\n",
    "#     keras.layers.BatchNormalization(),\n",
    "#     keras.layers.Dense(num_time * num_feat, activation=activation),\n",
    "#     keras.layers.BatchNormalization(),\n",
    "#     keras.layers.Dense(num_feat, activation=activation),\n",
    "#     keras.layers.BatchNormalization(),\n",
    "#     keras.layers.Dense(5, activation='softmax'),\n",
    "# ])\n",
    "\n",
    "# optimizer = keras.optimizers.Adam(learning_rate=1e-3)\n",
    "\n",
    "# model.compile(\n",
    "#     loss='sparse_categorical_crossentropy',\n",
    "#     optimizer=optimizer,\n",
    "#     metrics=['accuracy'],\n",
    "# )\n",
    "\n",
    "# history = model.fit(\n",
    "#     X_train,\n",
    "#     y_train,\n",
    "#     epochs=EPOCHS,\n",
    "#     batch_size=BATCH_SIZE,\n",
    "#     validation_data=(X_test, y_test),\n",
    "#     verbose=1,\n",
    "# )"
   ]
  },
  {
   "cell_type": "code",
   "execution_count": 9,
   "id": "bed79725-2bb3-47ce-b06c-333c662b30bf",
   "metadata": {
    "colab": {
     "base_uri": "https://localhost:8080/",
     "height": 282
    },
    "id": "bed79725-2bb3-47ce-b06c-333c662b30bf",
    "outputId": "4354cc75-e44d-4d2a-ac4b-c55a4b3a9305"
   },
   "outputs": [
    {
     "data": {
      "text/plain": [
       "[<matplotlib.lines.Line2D at 0x7fa03107f790>]"
      ]
     },
     "execution_count": 9,
     "metadata": {},
     "output_type": "execute_result"
    },
    {
     "data": {
      "image/png": "[encoded data removed]",
      "text/plain": [
       "<Figure size 432x288 with 1 Axes>"
      ]
     },
     "metadata": {
      "needs_background": "light"
     },
     "output_type": "display_data"
    }
   ],
   "source": [
    "plt.plot(history.history['accuracy'])\n",
    "plt.plot(history.history['val_accuracy'])"
   ]
  },
  {
   "cell_type": "code",
   "execution_count": 10,
   "id": "3b65d81f-3d75-43d1-9e2d-88cef69d110b",
   "metadata": {
    "colab": {
     "base_uri": "https://localhost:8080/",
     "height": 265
    },
    "id": "3b65d81f-3d75-43d1-9e2d-88cef69d110b",
    "outputId": "97e18fb9-4340-478c-e307-82c03282e9cc"
   },
   "outputs": [
    {
     "data": {
      "image/png": "[encoded data removed]",
      "text/plain": [
       "<Figure size 432x288 with 1 Axes>"
      ]
     },
     "metadata": {
      "needs_background": "light"
     },
     "output_type": "display_data"
    }
   ],
   "source": [
    "plt.plot(history.history['loss'][10:])\n",
    "plt.plot(history.history['val_loss'][10:])\n",
    "plt.yscale('log')"
   ]
  },
  {
   "cell_type": "code",
   "execution_count": 11,
   "id": "8a964a60-488a-431e-8bcc-586e90d8956b",
   "metadata": {
    "id": "8a964a60-488a-431e-8bcc-586e90d8956b"
   },
   "outputs": [
    {
     "name": "stdout",
     "output_type": "stream",
     "text": [
      "1050/1050 [==============================] - 2s 1ms/step\n"
     ]
    }
   ],
   "source": [
    "y_pred = CNN.predict(X_test)"
   ]
  },
  {
   "cell_type": "code",
   "execution_count": 12,
   "id": "d7C0QyTLHO8q",
   "metadata": {
    "colab": {
     "base_uri": "https://localhost:8080/"
    },
    "id": "d7C0QyTLHO8q",
    "outputId": "78587010-2aa8-4cc7-e82f-7c40e11ce705"
   },
   "outputs": [
    {
     "data": {
      "text/plain": [
       "array([[4.2528536e-06, 2.6380646e-17, 2.7493382e-14, 9.9999571e-01,\n",
       "        2.2516965e-21],\n",
       "       [5.1832300e-10, 3.2262577e-13, 2.8690953e-23, 3.3069670e-19,\n",
       "        1.0000000e+00],\n",
       "       [9.9948478e-01, 3.7826010e-18, 5.1502057e-04, 6.2909052e-08,\n",
       "        3.5563675e-18],\n",
       "       ...,\n",
       "       [9.9996591e-01, 3.6788271e-14, 1.9058800e-05, 1.4978709e-05,\n",
       "        3.9396020e-13],\n",
       "       [5.0959783e-04, 9.9949038e-01, 1.7065839e-08, 3.7202897e-24,\n",
       "        2.8952378e-20],\n",
       "       [9.9999547e-01, 8.3034706e-19, 1.4071953e-06, 3.1108066e-06,\n",
       "        2.7680245e-16]], dtype=float32)"
      ]
     },
     "execution_count": 12,
     "metadata": {},
     "output_type": "execute_result"
    }
   ],
   "source": [
    "y_pred"
   ]
  },
  {
   "cell_type": "code",
   "execution_count": 13,
   "id": "1ljWvGo9skgS",
   "metadata": {
    "id": "1ljWvGo9skgS"
   },
   "outputs": [],
   "source": [
    "y_pred= np.argmax(y_pred, axis=1)"
   ]
  },
  {
   "cell_type": "code",
   "execution_count": 14,
   "id": "BIninuG_Hixu",
   "metadata": {
    "colab": {
     "base_uri": "https://localhost:8080/"
    },
    "id": "BIninuG_Hixu",
    "outputId": "8d52a3ce-46d5-41c3-f339-ec8e2feee684"
   },
   "outputs": [
    {
     "data": {
      "text/plain": [
       "array([3, 4, 0, ..., 0, 1, 0])"
      ]
     },
     "execution_count": 14,
     "metadata": {},
     "output_type": "execute_result"
    }
   ],
   "source": [
    "y_pred"
   ]
  },
  {
   "cell_type": "code",
   "execution_count": 15,
   "id": "3NzoyhrD4tO9",
   "metadata": {
    "colab": {
     "base_uri": "https://localhost:8080/"
    },
    "id": "3NzoyhrD4tO9",
    "outputId": "da09ab77-c439-431e-82a8-93fc98f20b49"
   },
   "outputs": [
    {
     "data": {
      "text/plain": [
       "3"
      ]
     },
     "execution_count": 15,
     "metadata": {},
     "output_type": "execute_result"
    }
   ],
   "source": [
    "y_pred[0]"
   ]
  },
  {
   "cell_type": "code",
   "execution_count": 16,
   "id": "48c3e9c7-2bc3-479a-8af1-bf35d87f3e57",
   "metadata": {
    "id": "48c3e9c7-2bc3-479a-8af1-bf35d87f3e57"
   },
   "outputs": [],
   "source": [
    "df = pd.DataFrame({\n",
    "    'y_test': y_test.ravel().astype(int).tolist(),\n",
    "    'y_pred': y_pred.ravel().astype(int).tolist(),\n",
    "})"
   ]
  },
  {
   "cell_type": "code",
   "execution_count": 17,
   "id": "18cfafbe-dafb-4a9e-8873-7f96e71f80b8",
   "metadata": {
    "colab": {
     "base_uri": "https://localhost:8080/",
     "height": 175
    },
    "id": "18cfafbe-dafb-4a9e-8873-7f96e71f80b8",
    "outputId": "aa49cb9d-c88e-437b-9a31-2809577d1da1"
   },
   "outputs": [
    {
     "data": {
      "text/html": [
       "<div>\n",
       "<style scoped>\n",
       "    .dataframe tbody tr th:only-of-type {\n",
       "        vertical-align: middle;\n",
       "    }\n",
       "\n",
       "    .dataframe tbody tr th {\n",
       "        vertical-align: top;\n",
       "    }\n",
       "\n",
       "    .dataframe thead th {\n",
       "        text-align: right;\n",
       "    }\n",
       "</style>\n",
       "<table border=\"1\" class=\"dataframe\">\n",
       "  <thead>\n",
       "    <tr style=\"text-align: right;\">\n",
       "      <th>y_pred</th>\n",
       "      <th>0</th>\n",
       "      <th>1</th>\n",
       "      <th>2</th>\n",
       "      <th>3</th>\n",
       "      <th>4</th>\n",
       "    </tr>\n",
       "    <tr>\n",
       "      <th>y_test</th>\n",
       "      <th></th>\n",
       "      <th></th>\n",
       "      <th></th>\n",
       "      <th></th>\n",
       "      <th></th>\n",
       "    </tr>\n",
       "  </thead>\n",
       "  <tbody>\n",
       "    <tr>\n",
       "      <th>0</th>\n",
       "      <td>13917</td>\n",
       "      <td>0</td>\n",
       "      <td>107</td>\n",
       "      <td>371</td>\n",
       "      <td>0</td>\n",
       "    </tr>\n",
       "    <tr>\n",
       "      <th>1</th>\n",
       "      <td>101</td>\n",
       "      <td>4694</td>\n",
       "      <td>0</td>\n",
       "      <td>0</td>\n",
       "      <td>0</td>\n",
       "    </tr>\n",
       "    <tr>\n",
       "      <th>2</th>\n",
       "      <td>224</td>\n",
       "      <td>0</td>\n",
       "      <td>4571</td>\n",
       "      <td>0</td>\n",
       "      <td>0</td>\n",
       "    </tr>\n",
       "    <tr>\n",
       "      <th>3</th>\n",
       "      <td>36</td>\n",
       "      <td>0</td>\n",
       "      <td>0</td>\n",
       "      <td>4759</td>\n",
       "      <td>0</td>\n",
       "    </tr>\n",
       "    <tr>\n",
       "      <th>4</th>\n",
       "      <td>0</td>\n",
       "      <td>0</td>\n",
       "      <td>0</td>\n",
       "      <td>0</td>\n",
       "      <td>4795</td>\n",
       "    </tr>\n",
       "  </tbody>\n",
       "</table>\n",
       "</div>"
      ],
      "text/plain": [
       "y_pred      0     1     2     3     4\n",
       "y_test                               \n",
       "0       13917     0   107   371     0\n",
       "1         101  4694     0     0     0\n",
       "2         224     0  4571     0     0\n",
       "3          36     0     0  4759     0\n",
       "4           0     0     0     0  4795"
      ]
     },
     "execution_count": 17,
     "metadata": {},
     "output_type": "execute_result"
    }
   ],
   "source": [
    "pd.crosstab(df['y_test'], df['y_pred'])"
   ]
  },
  {
   "cell_type": "code",
   "execution_count": 18,
   "id": "e192957b-1b16-47c8-89eb-d6e2fb9bde9f",
   "metadata": {
    "id": "e192957b-1b16-47c8-89eb-d6e2fb9bde9f"
   },
   "outputs": [
    {
     "ename": "NameError",
     "evalue": "name 'model' is not defined",
     "output_type": "error",
     "traceback": [
      "\u001b[0;31m---------------------------------------------------------------------------\u001b[0m",
      "\u001b[0;31mNameError\u001b[0m                                 Traceback (most recent call last)",
      "Input \u001b[0;32mIn [18]\u001b[0m, in \u001b[0;36m<cell line: 1>\u001b[0;34m()\u001b[0m\n\u001b[0;32m----> 1\u001b[0m \u001b[43mmodel\u001b[49m\u001b[38;5;241m.\u001b[39msave(\u001b[38;5;124m'\u001b[39m\u001b[38;5;124mmodel.h5\u001b[39m\u001b[38;5;124m'\u001b[39m)\n",
      "\u001b[0;31mNameError\u001b[0m: name 'model' is not defined"
     ]
    }
   ],
   "source": [
    "model.save('model.h5')"
   ]
  },
  {
   "cell_type": "code",
   "execution_count": 19,
   "id": "vZD1w6TZwk0e",
   "metadata": {
    "id": "vZD1w6TZwk0e"
   },
   "outputs": [],
   "source": [
    "CNN.save('model_90_95_accuracy.h5')"
   ]
  },
  {
   "cell_type": "code",
   "execution_count": null,
   "id": "f1d824e8",
   "metadata": {},
   "outputs": [],
   "source": []
  }
 ],
 "metadata": {
  "accelerator": "GPU",
  "colab": {
   "provenance": []
  },
  "gpuClass": "standard",
  "kernelspec": {
   "display_name": "Python 3 (ipykernel)",
   "language": "python",
   "name": "python3"
  },
  "language_info": {
   "codemirror_mode": {
    "name": "ipython",
    "version": 3
   },
   "file_extension": ".py",
   "mimetype": "text/x-python",
   "name": "python",
   "nbconvert_exporter": "python",
   "pygments_lexer": "ipython3",
   "version": "3.9.12"
  }
 },
 "nbformat": 4,
 "nbformat_minor": 5
}
