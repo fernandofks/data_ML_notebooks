{
 "cells": [
  {
   "cell_type": "code",
   "execution_count": 1,
   "id": "b41f0b0f-cc96-43a2-ab7f-f3264587e7d2",
   "metadata": {
    "id": "b41f0b0f-cc96-43a2-ab7f-f3264587e7d2"
   },
   "outputs": [
    {
     "name": "stderr",
     "output_type": "stream",
     "text": [
      "/Users/fernandokenjisakabe/opt/anaconda3/lib/python3.9/site-packages/scipy/__init__.py:146: UserWarning: A NumPy version >=1.16.5 and <1.23.0 is required for this version of SciPy (detected version 1.24.1\n",
      "  warnings.warn(f\"A NumPy version >={np_minversion} and <{np_maxversion}\"\n"
     ]
    }
   ],
   "source": [
    "from pathlib import Path\n",
    "import matplotlib.pyplot as plt\n",
    "import numpy as np\n",
    "import pandas as pd\n",
    "import tensorflow as tf\n",
    "import tensorflow.keras as keras\n",
    "from tensorflow.python.keras.layers import Dense\n",
    "from numpy.random import default_rng\n",
    "from sklearn.model_selection import train_test_split"
   ]
  },
  {
   "cell_type": "code",
   "execution_count": 2,
   "id": "c9e9560b-749a-49a8-aedf-44a1ac9b4bb1",
   "metadata": {
    "id": "c9e9560b-749a-49a8-aedf-44a1ac9b4bb1"
   },
   "outputs": [],
   "source": [
    "# Loading pipeline params.\n",
    "DATA_PATH = Path('data')\n",
    "FILENAME_STOP = 'stop_90_diff_quat.csv'\n",
    "FILENAME_0 = '0_90_diff_quat.csv'\n",
    "FILENAME_90 = '90_90_diff_quat.csv'\n",
    "FILENAME_180 = '180_90_diff_quat.csv'\n",
    "FILENAME_270 = '270_90_diff_quat.csv'\n",
    "\n",
    "NUM_TIMESTEPS = 6\n",
    "IGNORE_FRACTION = 0.1\n",
    "TEST_FRACTION = 0.25\n",
    "\n",
    "# Training params.\n",
    "LEARNING_RATE = 1e-5\n",
    "EPOCHS = 100\n",
    "BATCH_SIZE = 512"
   ]
  },
  {
   "cell_type": "code",
   "execution_count": 3,
   "id": "7f52716d-1339-4484-9fd3-d5206979ba8e",
   "metadata": {
    "id": "7f52716d-1339-4484-9fd3-d5206979ba8e"
   },
   "outputs": [],
   "source": [
    "def load_data(\n",
    "    path_stop,\n",
    "    path_0,\n",
    "    path_90,\n",
    "    path_180,\n",
    "    path_270,\n",
    "    num_timesteps,\n",
    "    ignore_fraction,\n",
    "    test_fraction,\n",
    "):\n",
    "\n",
    "    def read_and_prepare_data(\n",
    "        path,\n",
    "        class_,\n",
    "        num_timesteps,\n",
    "        ignore_fraction,\n",
    "        test_fraction,\n",
    "    ):\n",
    "\n",
    "        def split_temporally(X, test_fraction):\n",
    "            num_samples = X.shape[0]\n",
    "            num_train = int(num_samples * (1.0 - test_fraction))\n",
    "            X_train, X_test = X[:num_train], X[num_train:]\n",
    "            return X_train, X_test\n",
    "\n",
    "        def transform_into_sequences(X, num_timesteps):\n",
    "            num_samples = X.shape[0]\n",
    "            X_seq = []\n",
    "            for k in range(num_samples - num_timesteps + 1):\n",
    "                X_seq.append(X[k:(k + num_timesteps)])\n",
    "            X_seq = np.array(X_seq)\n",
    "            y_seq = class_ * np.ones((X_seq.shape[0], 1))\n",
    "            return X_seq, y_seq\n",
    "\n",
    "        X = pd.read_csv(path).values\n",
    "        X = X[:, [0,1,2,3,4,5,6,7,8,9,10,11,12,13]]  # Use only feet translations.\n",
    "\n",
    "        # Ignore beginning and end.\n",
    "        num_samples = X.shape[0]\n",
    "        num_ignore = int(ignore_fraction * num_samples)\n",
    "        X = X[num_ignore:-num_ignore]\n",
    "\n",
    "        # Split X temporally.\n",
    "        X_train, X_test = split_temporally(X, test_fraction)\n",
    "\n",
    "        # Transform X into short sequences.\n",
    "        X_train, y_train = transform_into_sequences(X_train, num_timesteps)\n",
    "        X_test, y_test = transform_into_sequences(X_test, num_timesteps)\n",
    "\n",
    "        return X_train, y_train, X_test, y_test\n",
    "\n",
    "    def shuffle_data(X, y):\n",
    "        idx = np.arange(len(X))\n",
    "        default_rng().shuffle(idx)\n",
    "        X_shuffled = X[idx, :]\n",
    "        y_shuffled = y[idx]\n",
    "        return X_shuffled, y_shuffled\n",
    "\n",
    "    X_train_stop, y_train_stop, X_test_stop, y_test_stop = \\\n",
    "        read_and_prepare_data(\n",
    "            path_stop,\n",
    "            0.0,\n",
    "            num_timesteps,\n",
    "            ignore_fraction,\n",
    "            test_fraction,\n",
    "        )\n",
    "    \n",
    "    X_train_0, y_train_0, X_test_0, y_test_0 = \\\n",
    "        read_and_prepare_data(\n",
    "            path_0,\n",
    "            1.0,\n",
    "            num_timesteps,\n",
    "            ignore_fraction,\n",
    "            test_fraction,\n",
    "        )\n",
    "\n",
    "    X_train_90, y_train_90, X_test_90, y_test_90 = \\\n",
    "        read_and_prepare_data(\n",
    "            path_90,\n",
    "            2.0,\n",
    "            num_timesteps,\n",
    "            ignore_fraction,\n",
    "            test_fraction,\n",
    "        )\n",
    "    \n",
    "    X_train_180, y_train_180, X_test_180, y_test_180 = \\\n",
    "        read_and_prepare_data(\n",
    "            path_180,\n",
    "            3.0,\n",
    "            num_timesteps,\n",
    "            ignore_fraction,\n",
    "            test_fraction,\n",
    "        )\n",
    "    \n",
    "    X_train_270, y_train_270, X_test_270, y_test_270 = \\\n",
    "        read_and_prepare_data(\n",
    "            path_270,\n",
    "            4.0,\n",
    "            num_timesteps,\n",
    "            ignore_fraction,\n",
    "            test_fraction,\n",
    "        )\n",
    "\n",
    "    X_train = np.concatenate((X_train_stop, X_train_0, X_train_90, X_train_180, X_train_270), axis=0)\n",
    "    y_train = np.concatenate((y_train_stop, y_train_0, y_train_90, y_train_180, y_train_270), axis=0)\n",
    "    X_test = np.concatenate((X_test_stop, X_test_0, X_test_90, X_test_180, X_test_270), axis=0)\n",
    "    y_test = np.concatenate((y_test_stop, y_test_0, y_test_90, y_test_180, y_test_270), axis=0)\n",
    "\n",
    "    X_train, y_train = shuffle_data(X_train, y_train)\n",
    "    X_test, y_test = shuffle_data(X_test, y_test)\n",
    "\n",
    "    return X_train, X_test, y_train, y_test\n",
    "\n",
    "\n",
    "path_stop = Path(DATA_PATH, FILENAME_STOP)\n",
    "path_0 = Path(DATA_PATH, FILENAME_0)\n",
    "path_90 = Path(DATA_PATH, FILENAME_90)\n",
    "path_180 = Path(DATA_PATH, FILENAME_180)\n",
    "path_270 = Path(DATA_PATH, FILENAME_270)\n",
    "\n",
    "X_train, X_test, y_train, y_test = load_data(\n",
    "    path_stop,\n",
    "    path_0,\n",
    "    path_90,\n",
    "    path_180,\n",
    "    path_270,\n",
    "    NUM_TIMESTEPS,\n",
    "    IGNORE_FRACTION,\n",
    "    TEST_FRACTION,\n",
    ")"
   ]
  },
  {
   "cell_type": "code",
   "execution_count": 4,
   "id": "99c35712-1089-44f3-89ef-ed471b144c96",
   "metadata": {
    "colab": {
     "base_uri": "https://localhost:8080/"
    },
    "id": "99c35712-1089-44f3-89ef-ed471b144c96",
    "outputId": "9076061a-8661-4d2e-c1ed-887a92ec640b"
   },
   "outputs": [
    {
     "data": {
      "text/plain": [
       "((100773, 6, 14), (100773, 1), (33575, 6, 14), (33575, 1))"
      ]
     },
     "execution_count": 4,
     "metadata": {},
     "output_type": "execute_result"
    }
   ],
   "source": [
    "X_train.shape, y_train.shape, X_test.shape, y_test.shape"
   ]
  },
  {
   "cell_type": "code",
   "execution_count": 5,
   "id": "VqSuqgBCB_nA",
   "metadata": {
    "colab": {
     "base_uri": "https://localhost:8080/"
    },
    "id": "VqSuqgBCB_nA",
    "outputId": "26d50bbe-3fd3-4bed-e70e-7003d289c5d6"
   },
   "outputs": [
    {
     "data": {
      "text/plain": [
       "(6, 14)"
      ]
     },
     "execution_count": 5,
     "metadata": {},
     "output_type": "execute_result"
    }
   ],
   "source": [
    "X_test[60].shape\n"
   ]
  },
  {
   "cell_type": "code",
   "execution_count": null,
   "id": "dye8vjENBtXX",
   "metadata": {
    "id": "dye8vjENBtXX"
   },
   "outputs": [],
   "source": []
  },
  {
   "cell_type": "code",
   "execution_count": null,
   "id": "-3TttkaRCM4l",
   "metadata": {
    "id": "-3TttkaRCM4l"
   },
   "outputs": [],
   "source": []
  },
  {
   "cell_type": "code",
   "execution_count": 6,
   "id": "3a85634b-4e9c-45b8-b456-cb970457302f",
   "metadata": {
    "id": "3a85634b-4e9c-45b8-b456-cb970457302f"
   },
   "outputs": [
    {
     "name": "stdout",
     "output_type": "stream",
     "text": [
      "Model: \"Sequential_CNN\"\n",
      "_________________________________________________________________\n",
      " Layer (type)                Output Shape              Param #   \n",
      "=================================================================\n",
      " conv2d (Conv2D)             (None, 2, 4, 256)         1280      \n",
      "                                                                 \n",
      " max_pooling2d (MaxPooling2D  (None, 1, 3, 256)        0         \n",
      " )                                                               \n",
      "                                                                 \n",
      " flatten (Flatten)           (None, 768)               0         \n",
      "                                                                 \n",
      " dense (Dense)               (None, 64)                49216     \n",
      "                                                                 \n",
      " dense_1 (Dense)             (None, 32)                2080      \n",
      "                                                                 \n",
      " dense_2 (Dense)             (None, 5)                 165       \n",
      "                                                                 \n",
      "=================================================================\n",
      "Total params: 52,741\n",
      "Trainable params: 52,741\n",
      "Non-trainable params: 0\n",
      "_________________________________________________________________\n"
     ]
    },
    {
     "name": "stderr",
     "output_type": "stream",
     "text": [
      "2023-01-17 14:33:57.156234: I tensorflow/core/platform/cpu_feature_guard.cc:193] This TensorFlow binary is optimized with oneAPI Deep Neural Network Library (oneDNN) to use the following CPU instructions in performance-critical operations:  AVX2 FMA\n",
      "To enable them in other operations, rebuild TensorFlow with the appropriate compiler flags.\n"
     ]
    }
   ],
   "source": [
    "from tensorflow.keras.models import Sequential\n",
    "from tensorflow.keras.layers import Conv2D, MaxPooling2D, Flatten, Dense\n",
    "\n",
    "CNN = Sequential(name=\"Sequential_CNN\")\n",
    "\n",
    "CNN.add(Conv2D(256, kernel_size=(2, 2),\n",
    "               strides=(4, 4), padding=\"same\",\n",
    "               activation=\"selu\", input_shape=[6, 14, 1]))\n",
    "\n",
    "CNN.add(MaxPooling2D(pool_size=(2, 2), strides=(1, 1),\n",
    "                     padding=\"valid\"))\n",
    "\n",
    "# Add another pair of Conv2D and MaxPooling2D for more model depth,\n",
    "# followed by the flatten and multiple dense layers\n",
    "\n",
    "# CNN.add(Conv2D(64, kernel_size=(3, 3),\n",
    "#                strides=(1, 1), padding=\"same\",\n",
    "#                activation=\"selu\"))\n",
    "\n",
    "# CNN.add(MaxPooling2D(pool_size=(2, 2), strides=(1, 1),\n",
    "#                      padding=\"valid\"))\n",
    "\n",
    "CNN.add(Flatten())\n",
    "\n",
    "CNN.add(Dense(64, activation='selu'))\n",
    "CNN.add(Dense(32, activation='selu'))\n",
    "CNN.add(Dense(5, activation='softmax'))\n",
    "\n",
    "CNN.summary()"
   ]
  },
  {
   "cell_type": "code",
   "execution_count": null,
   "id": "j0C2RSxICKzq",
   "metadata": {
    "colab": {
     "base_uri": "https://localhost:8080/"
    },
    "id": "j0C2RSxICKzq",
    "outputId": "af853522-fdf6-40e4-8d0e-cd2a6dcdab9b"
   },
   "outputs": [],
   "source": []
  },
  {
   "cell_type": "code",
   "execution_count": 7,
   "id": "911581af",
   "metadata": {},
   "outputs": [],
   "source": [
    "from numpy import *\n",
    "where_are_NaNsx = isnan(X_train)\n",
    "X_train[where_are_NaNsx] = 0\n",
    "\n",
    "where_are_NaNsy = isnan(y_train)\n",
    "y_train[where_are_NaNsy] = 0\n",
    "\n",
    "where_are_NaNsxt = isnan(X_test)\n",
    "X_test[where_are_NaNsxt] = 0\n",
    "\n",
    "where_are_NaNsyt = isnan(y_test)\n",
    "y_test[where_are_NaNsyt] = 0"
   ]
  },
  {
   "cell_type": "code",
   "execution_count": 8,
   "id": "7baf8970-5318-4461-b828-d34c232afa5f",
   "metadata": {
    "colab": {
     "base_uri": "https://localhost:8080/"
    },
    "id": "7baf8970-5318-4461-b828-d34c232afa5f",
    "outputId": "08a66cc8-aeee-42ba-f039-9dfa2ba6f99e"
   },
   "outputs": [
    {
     "name": "stdout",
     "output_type": "stream",
     "text": [
      "Epoch 1/100\n",
      "394/394 [==============================] - 4s 10ms/step - loss: 0.6980 - accuracy: 0.7099 - val_loss: 0.4700 - val_accuracy: 0.8050\n",
      "Epoch 2/100\n",
      "394/394 [==============================] - 4s 9ms/step - loss: 0.4718 - accuracy: 0.8097 - val_loss: 0.3522 - val_accuracy: 0.8490\n",
      "Epoch 3/100\n",
      "394/394 [==============================] - 3s 8ms/step - loss: 0.3992 - accuracy: 0.8491 - val_loss: 0.3171 - val_accuracy: 0.8801\n",
      "Epoch 4/100\n",
      "394/394 [==============================] - 3s 8ms/step - loss: 0.3435 - accuracy: 0.8760 - val_loss: 0.2948 - val_accuracy: 0.8743\n",
      "Epoch 5/100\n",
      "394/394 [==============================] - 3s 8ms/step - loss: 0.3100 - accuracy: 0.8889 - val_loss: 0.2447 - val_accuracy: 0.9101\n",
      "Epoch 6/100\n",
      "394/394 [==============================] - 3s 8ms/step - loss: 0.2808 - accuracy: 0.8980 - val_loss: 0.2271 - val_accuracy: 0.9052\n",
      "Epoch 7/100\n",
      "394/394 [==============================] - 3s 8ms/step - loss: 0.2648 - accuracy: 0.9036 - val_loss: 0.2391 - val_accuracy: 0.9046\n",
      "Epoch 8/100\n",
      "394/394 [==============================] - 3s 8ms/step - loss: 0.2562 - accuracy: 0.9060 - val_loss: 0.2372 - val_accuracy: 0.9078\n",
      "Epoch 9/100\n",
      "394/394 [==============================] - 3s 9ms/step - loss: 0.2517 - accuracy: 0.9069 - val_loss: 0.2090 - val_accuracy: 0.9156\n",
      "Epoch 10/100\n",
      "394/394 [==============================] - 4s 9ms/step - loss: 0.2297 - accuracy: 0.9137 - val_loss: 0.2181 - val_accuracy: 0.9056\n",
      "Epoch 11/100\n",
      "394/394 [==============================] - 5s 14ms/step - loss: 0.2246 - accuracy: 0.9161 - val_loss: 0.2724 - val_accuracy: 0.8868\n",
      "Epoch 12/100\n",
      "394/394 [==============================] - 6s 15ms/step - loss: 0.2296 - accuracy: 0.9139 - val_loss: 0.2395 - val_accuracy: 0.9092\n",
      "Epoch 13/100\n",
      "394/394 [==============================] - 4s 10ms/step - loss: 0.2191 - accuracy: 0.9180 - val_loss: 0.1764 - val_accuracy: 0.9231\n",
      "Epoch 14/100\n",
      "394/394 [==============================] - 3s 9ms/step - loss: 0.2163 - accuracy: 0.9191 - val_loss: 0.1857 - val_accuracy: 0.9241\n",
      "Epoch 15/100\n",
      "394/394 [==============================] - 3s 8ms/step - loss: 0.2051 - accuracy: 0.9224 - val_loss: 0.1793 - val_accuracy: 0.9277\n",
      "Epoch 16/100\n",
      "394/394 [==============================] - 3s 7ms/step - loss: 0.2028 - accuracy: 0.9230 - val_loss: 0.1817 - val_accuracy: 0.9263\n",
      "Epoch 17/100\n",
      "394/394 [==============================] - 3s 7ms/step - loss: 0.2043 - accuracy: 0.9233 - val_loss: 0.2000 - val_accuracy: 0.9244\n",
      "Epoch 18/100\n",
      "394/394 [==============================] - 3s 7ms/step - loss: 0.1967 - accuracy: 0.9263 - val_loss: 0.1651 - val_accuracy: 0.9314\n",
      "Epoch 19/100\n",
      "394/394 [==============================] - 3s 7ms/step - loss: 0.1878 - accuracy: 0.9293 - val_loss: 0.1693 - val_accuracy: 0.9310\n",
      "Epoch 20/100\n",
      "394/394 [==============================] - 3s 7ms/step - loss: 0.1841 - accuracy: 0.9310 - val_loss: 0.1810 - val_accuracy: 0.9249\n",
      "Epoch 21/100\n",
      "394/394 [==============================] - 3s 7ms/step - loss: 0.1942 - accuracy: 0.9290 - val_loss: 0.2116 - val_accuracy: 0.9155\n",
      "Epoch 22/100\n",
      "394/394 [==============================] - 3s 7ms/step - loss: 0.1858 - accuracy: 0.9316 - val_loss: 0.1598 - val_accuracy: 0.9328\n",
      "Epoch 23/100\n",
      "394/394 [==============================] - 3s 7ms/step - loss: 0.1878 - accuracy: 0.9302 - val_loss: 0.2141 - val_accuracy: 0.9159\n",
      "Epoch 24/100\n",
      "394/394 [==============================] - 3s 7ms/step - loss: 0.1748 - accuracy: 0.9346 - val_loss: 0.1600 - val_accuracy: 0.9352\n",
      "Epoch 25/100\n",
      "394/394 [==============================] - 3s 7ms/step - loss: 0.1736 - accuracy: 0.9353 - val_loss: 0.1771 - val_accuracy: 0.9316\n",
      "Epoch 26/100\n",
      "394/394 [==============================] - 3s 7ms/step - loss: 0.1691 - accuracy: 0.9381 - val_loss: 0.1594 - val_accuracy: 0.9330\n",
      "Epoch 27/100\n",
      "394/394 [==============================] - 4s 11ms/step - loss: 0.1719 - accuracy: 0.9375 - val_loss: 0.1769 - val_accuracy: 0.9291\n",
      "Epoch 28/100\n",
      "394/394 [==============================] - 4s 9ms/step - loss: 0.1649 - accuracy: 0.9400 - val_loss: 0.1691 - val_accuracy: 0.9367\n",
      "Epoch 29/100\n",
      "394/394 [==============================] - 3s 7ms/step - loss: 0.1629 - accuracy: 0.9402 - val_loss: 0.1772 - val_accuracy: 0.9293\n",
      "Epoch 30/100\n",
      "394/394 [==============================] - 3s 9ms/step - loss: 0.1623 - accuracy: 0.9407 - val_loss: 0.1588 - val_accuracy: 0.9392\n",
      "Epoch 31/100\n",
      "394/394 [==============================] - 4s 9ms/step - loss: 0.1604 - accuracy: 0.9418 - val_loss: 0.1491 - val_accuracy: 0.9431\n",
      "Epoch 32/100\n",
      "394/394 [==============================] - 3s 9ms/step - loss: 0.1666 - accuracy: 0.9402 - val_loss: 0.1631 - val_accuracy: 0.9360\n",
      "Epoch 33/100\n",
      "394/394 [==============================] - 3s 9ms/step - loss: 0.1557 - accuracy: 0.9437 - val_loss: 0.1820 - val_accuracy: 0.9345\n",
      "Epoch 34/100\n",
      "394/394 [==============================] - 4s 11ms/step - loss: 0.1514 - accuracy: 0.9456 - val_loss: 0.1638 - val_accuracy: 0.9375\n",
      "Epoch 35/100\n",
      "394/394 [==============================] - 4s 11ms/step - loss: 0.1581 - accuracy: 0.9437 - val_loss: 0.2172 - val_accuracy: 0.9223\n",
      "Epoch 36/100\n",
      "394/394 [==============================] - 5s 12ms/step - loss: 0.1525 - accuracy: 0.9451 - val_loss: 0.1631 - val_accuracy: 0.9412\n",
      "Epoch 37/100\n",
      "394/394 [==============================] - 6s 15ms/step - loss: 0.1485 - accuracy: 0.9465 - val_loss: 0.2483 - val_accuracy: 0.9126\n",
      "Epoch 38/100\n",
      "394/394 [==============================] - 3s 8ms/step - loss: 0.1516 - accuracy: 0.9460 - val_loss: 0.1658 - val_accuracy: 0.9421\n",
      "Epoch 39/100\n",
      "394/394 [==============================] - 5s 12ms/step - loss: 0.1459 - accuracy: 0.9489 - val_loss: 0.1456 - val_accuracy: 0.9462\n",
      "Epoch 40/100\n",
      "394/394 [==============================] - 5s 12ms/step - loss: 0.1459 - accuracy: 0.9474 - val_loss: 0.1570 - val_accuracy: 0.9424\n",
      "Epoch 41/100\n",
      "394/394 [==============================] - 4s 10ms/step - loss: 0.1433 - accuracy: 0.9486 - val_loss: 0.1610 - val_accuracy: 0.9420\n",
      "Epoch 42/100\n",
      "394/394 [==============================] - 3s 7ms/step - loss: 0.1492 - accuracy: 0.9459 - val_loss: 0.1563 - val_accuracy: 0.9444\n",
      "Epoch 43/100\n",
      "394/394 [==============================] - 3s 7ms/step - loss: 0.1435 - accuracy: 0.9496 - val_loss: 0.1719 - val_accuracy: 0.9379\n",
      "Epoch 44/100\n",
      "394/394 [==============================] - 3s 7ms/step - loss: 0.1413 - accuracy: 0.9496 - val_loss: 0.1578 - val_accuracy: 0.9449\n",
      "Epoch 45/100\n",
      "394/394 [==============================] - 3s 8ms/step - loss: 0.1368 - accuracy: 0.9512 - val_loss: 0.1579 - val_accuracy: 0.9442\n",
      "Epoch 46/100\n",
      "394/394 [==============================] - 4s 10ms/step - loss: 0.1440 - accuracy: 0.9489 - val_loss: 0.1720 - val_accuracy: 0.9395\n",
      "Epoch 47/100\n",
      "394/394 [==============================] - 4s 9ms/step - loss: 0.1377 - accuracy: 0.9506 - val_loss: 0.1535 - val_accuracy: 0.9452\n",
      "Epoch 48/100\n",
      "394/394 [==============================] - 4s 10ms/step - loss: 0.1349 - accuracy: 0.9523 - val_loss: 0.1503 - val_accuracy: 0.9452\n",
      "Epoch 49/100\n",
      "394/394 [==============================] - 4s 10ms/step - loss: 0.1379 - accuracy: 0.9510 - val_loss: 0.1570 - val_accuracy: 0.9482\n",
      "Epoch 50/100\n",
      "394/394 [==============================] - 3s 8ms/step - loss: 0.1359 - accuracy: 0.9516 - val_loss: 0.1568 - val_accuracy: 0.9430\n",
      "Epoch 51/100\n",
      "394/394 [==============================] - 3s 9ms/step - loss: 0.1291 - accuracy: 0.9545 - val_loss: 0.1603 - val_accuracy: 0.9479\n",
      "Epoch 52/100\n",
      "394/394 [==============================] - 4s 10ms/step - loss: 0.1306 - accuracy: 0.9544 - val_loss: 0.1469 - val_accuracy: 0.9476\n",
      "Epoch 53/100\n",
      "394/394 [==============================] - 3s 8ms/step - loss: 0.1307 - accuracy: 0.9537 - val_loss: 0.1793 - val_accuracy: 0.9340\n",
      "Epoch 54/100\n",
      "394/394 [==============================] - 3s 8ms/step - loss: 0.1356 - accuracy: 0.9527 - val_loss: 0.1543 - val_accuracy: 0.9441\n",
      "Epoch 55/100\n",
      "394/394 [==============================] - 3s 8ms/step - loss: 0.1278 - accuracy: 0.9538 - val_loss: 0.1478 - val_accuracy: 0.9505\n",
      "Epoch 56/100\n",
      "394/394 [==============================] - 3s 8ms/step - loss: 0.1259 - accuracy: 0.9555 - val_loss: 0.1656 - val_accuracy: 0.9388\n",
      "Epoch 57/100\n",
      "394/394 [==============================] - 3s 8ms/step - loss: 0.1291 - accuracy: 0.9546 - val_loss: 0.1534 - val_accuracy: 0.9475\n"
     ]
    },
    {
     "name": "stdout",
     "output_type": "stream",
     "text": [
      "Epoch 58/100\n",
      "394/394 [==============================] - 3s 8ms/step - loss: 0.1271 - accuracy: 0.9548 - val_loss: 0.1663 - val_accuracy: 0.9448\n",
      "Epoch 59/100\n",
      "394/394 [==============================] - 3s 8ms/step - loss: 0.1224 - accuracy: 0.9567 - val_loss: 0.1557 - val_accuracy: 0.9507\n",
      "Epoch 60/100\n",
      "394/394 [==============================] - 3s 8ms/step - loss: 0.1257 - accuracy: 0.9557 - val_loss: 0.1582 - val_accuracy: 0.9499\n",
      "Epoch 61/100\n",
      "394/394 [==============================] - 3s 8ms/step - loss: 0.1286 - accuracy: 0.9552 - val_loss: 0.1627 - val_accuracy: 0.9474\n",
      "Epoch 62/100\n",
      "394/394 [==============================] - 3s 8ms/step - loss: 0.1187 - accuracy: 0.9581 - val_loss: 0.1491 - val_accuracy: 0.9490\n",
      "Epoch 63/100\n",
      "394/394 [==============================] - 3s 8ms/step - loss: 0.1198 - accuracy: 0.9574 - val_loss: 0.1455 - val_accuracy: 0.9528\n",
      "Epoch 64/100\n",
      "394/394 [==============================] - 3s 8ms/step - loss: 0.1233 - accuracy: 0.9568 - val_loss: 0.1646 - val_accuracy: 0.9461\n",
      "Epoch 65/100\n",
      "394/394 [==============================] - 3s 8ms/step - loss: 0.1256 - accuracy: 0.9559 - val_loss: 0.1623 - val_accuracy: 0.9439\n",
      "Epoch 66/100\n",
      "394/394 [==============================] - 3s 8ms/step - loss: 0.1186 - accuracy: 0.9592 - val_loss: 0.1674 - val_accuracy: 0.9467\n",
      "Epoch 67/100\n",
      "394/394 [==============================] - 3s 8ms/step - loss: 0.1182 - accuracy: 0.9588 - val_loss: 0.1579 - val_accuracy: 0.9450\n",
      "Epoch 68/100\n",
      "394/394 [==============================] - 3s 8ms/step - loss: 0.1188 - accuracy: 0.9589 - val_loss: 0.1451 - val_accuracy: 0.9528\n",
      "Epoch 69/100\n",
      "394/394 [==============================] - 3s 8ms/step - loss: 0.1177 - accuracy: 0.9592 - val_loss: 0.1585 - val_accuracy: 0.9468\n",
      "Epoch 70/100\n",
      "394/394 [==============================] - 3s 8ms/step - loss: 0.1156 - accuracy: 0.9598 - val_loss: 0.1437 - val_accuracy: 0.9525\n",
      "Epoch 71/100\n",
      "394/394 [==============================] - 3s 8ms/step - loss: 0.1200 - accuracy: 0.9577 - val_loss: 0.1617 - val_accuracy: 0.9485\n",
      "Epoch 72/100\n",
      "394/394 [==============================] - 3s 8ms/step - loss: 0.1117 - accuracy: 0.9601 - val_loss: 0.1520 - val_accuracy: 0.9497\n",
      "Epoch 73/100\n",
      "394/394 [==============================] - 3s 8ms/step - loss: 0.1167 - accuracy: 0.9591 - val_loss: 0.1658 - val_accuracy: 0.9459\n",
      "Epoch 74/100\n",
      "394/394 [==============================] - 3s 8ms/step - loss: 0.1154 - accuracy: 0.9600 - val_loss: 0.1600 - val_accuracy: 0.9513\n",
      "Epoch 75/100\n",
      "394/394 [==============================] - 3s 8ms/step - loss: 0.1135 - accuracy: 0.9602 - val_loss: 0.2032 - val_accuracy: 0.9369\n",
      "Epoch 76/100\n",
      "394/394 [==============================] - 3s 8ms/step - loss: 0.1153 - accuracy: 0.9610 - val_loss: 0.1433 - val_accuracy: 0.9511\n",
      "Epoch 77/100\n",
      "394/394 [==============================] - 3s 8ms/step - loss: 0.1112 - accuracy: 0.9614 - val_loss: 0.1667 - val_accuracy: 0.9418\n",
      "Epoch 78/100\n",
      "394/394 [==============================] - 3s 8ms/step - loss: 0.1175 - accuracy: 0.9592 - val_loss: 0.1501 - val_accuracy: 0.9518\n",
      "Epoch 79/100\n",
      "394/394 [==============================] - 3s 8ms/step - loss: 0.1124 - accuracy: 0.9611 - val_loss: 0.1708 - val_accuracy: 0.9467\n",
      "Epoch 80/100\n",
      "394/394 [==============================] - 3s 8ms/step - loss: 0.1178 - accuracy: 0.9595 - val_loss: 0.1380 - val_accuracy: 0.9555\n",
      "Epoch 81/100\n",
      "394/394 [==============================] - 3s 8ms/step - loss: 0.1115 - accuracy: 0.9607 - val_loss: 0.1422 - val_accuracy: 0.9565\n",
      "Epoch 82/100\n",
      "394/394 [==============================] - 3s 8ms/step - loss: 0.1073 - accuracy: 0.9625 - val_loss: 0.1418 - val_accuracy: 0.9524\n",
      "Epoch 83/100\n",
      "394/394 [==============================] - 3s 8ms/step - loss: 0.1080 - accuracy: 0.9622 - val_loss: 0.1562 - val_accuracy: 0.9524\n",
      "Epoch 84/100\n",
      "394/394 [==============================] - 3s 8ms/step - loss: 0.1125 - accuracy: 0.9611 - val_loss: 0.1649 - val_accuracy: 0.9437\n",
      "Epoch 85/100\n",
      "394/394 [==============================] - 3s 9ms/step - loss: 0.1078 - accuracy: 0.9629 - val_loss: 0.1549 - val_accuracy: 0.9492\n",
      "Epoch 86/100\n",
      "394/394 [==============================] - 3s 8ms/step - loss: 0.1036 - accuracy: 0.9640 - val_loss: 0.1465 - val_accuracy: 0.9556\n",
      "Epoch 87/100\n",
      "394/394 [==============================] - 3s 8ms/step - loss: 0.1069 - accuracy: 0.9632 - val_loss: 0.1584 - val_accuracy: 0.9505\n",
      "Epoch 88/100\n",
      "394/394 [==============================] - 4s 9ms/step - loss: 0.1061 - accuracy: 0.9633 - val_loss: 0.1710 - val_accuracy: 0.9449\n",
      "Epoch 89/100\n",
      "394/394 [==============================] - 4s 9ms/step - loss: 0.1044 - accuracy: 0.9638 - val_loss: 0.1763 - val_accuracy: 0.9463\n",
      "Epoch 90/100\n",
      "394/394 [==============================] - 3s 9ms/step - loss: 0.1162 - accuracy: 0.9598 - val_loss: 0.1517 - val_accuracy: 0.9495\n",
      "Epoch 91/100\n",
      "394/394 [==============================] - 3s 8ms/step - loss: 0.1029 - accuracy: 0.9651 - val_loss: 0.1586 - val_accuracy: 0.9515\n",
      "Epoch 92/100\n",
      "394/394 [==============================] - 3s 8ms/step - loss: 0.1044 - accuracy: 0.9645 - val_loss: 0.1672 - val_accuracy: 0.9459\n",
      "Epoch 93/100\n",
      "394/394 [==============================] - 4s 11ms/step - loss: 0.1036 - accuracy: 0.9642 - val_loss: 0.1412 - val_accuracy: 0.9578\n",
      "Epoch 94/100\n",
      "394/394 [==============================] - 4s 9ms/step - loss: 0.1022 - accuracy: 0.9649 - val_loss: 0.1530 - val_accuracy: 0.9530\n",
      "Epoch 95/100\n",
      "394/394 [==============================] - 4s 9ms/step - loss: 0.0992 - accuracy: 0.9659 - val_loss: 0.1528 - val_accuracy: 0.9491\n",
      "Epoch 96/100\n",
      "394/394 [==============================] - 3s 8ms/step - loss: 0.1086 - accuracy: 0.9632 - val_loss: 0.1471 - val_accuracy: 0.9537\n",
      "Epoch 97/100\n",
      "394/394 [==============================] - 4s 10ms/step - loss: 0.1020 - accuracy: 0.9654 - val_loss: 0.1578 - val_accuracy: 0.9465\n",
      "Epoch 98/100\n",
      "394/394 [==============================] - 6s 14ms/step - loss: 0.1017 - accuracy: 0.9646 - val_loss: 0.1326 - val_accuracy: 0.9586\n",
      "Epoch 99/100\n",
      "394/394 [==============================] - 4s 11ms/step - loss: 0.1013 - accuracy: 0.9657 - val_loss: 0.1354 - val_accuracy: 0.9583\n",
      "Epoch 100/100\n",
      "394/394 [==============================] - 5s 12ms/step - loss: 0.1002 - accuracy: 0.9656 - val_loss: 0.1262 - val_accuracy: 0.9594\n"
     ]
    }
   ],
   "source": [
    "optimizer = keras.optimizers.Adam(learning_rate=1e-3)\n",
    "\n",
    "CNN.compile(\n",
    "    loss='sparse_categorical_crossentropy',\n",
    "    optimizer=optimizer,\n",
    "    metrics=['accuracy'],\n",
    ")\n",
    "history = CNN.fit(\n",
    "    X_train,\n",
    "    y_train,\n",
    "    epochs=EPOCHS,\n",
    "    batch_size=256,\n",
    "    validation_data=(X_test, y_test),\n",
    "    verbose=1,\n",
    ")"
   ]
  },
  {
   "cell_type": "code",
   "execution_count": null,
   "id": "70de8d27-4ff5-4dce-b45f-675dcc74513e",
   "metadata": {
    "colab": {
     "base_uri": "https://localhost:8080/"
    },
    "id": "70de8d27-4ff5-4dce-b45f-675dcc74513e",
    "outputId": "7211ef5c-5b4a-4afb-ad4f-7341eeb8f0f8"
   },
   "outputs": [],
   "source": [
    "from functools import partial\n",
    "\n",
    "\n",
    "\n",
    "_, num_time, num_feat = X_train.shape\n",
    "\n",
    "activation = 'selu'\n",
    "\n",
    "DefaultConv1D = partial(\n",
    "    keras.layers.Conv1D,\n",
    "    kernel_size=1,\n",
    "    activation=activation,\n",
    "    padding=\"valid\",\n",
    ")\n",
    "\n",
    "model = keras.models.Sequential([\n",
    "    DefaultConv1D(4 * num_feat, kernel_size=2, input_shape=[num_time, num_feat]),\n",
    "    keras.layers.BatchNormalization(),\n",
    "    DefaultConv1D(num_feat, kernel_size=2),\n",
    "    keras.layers.Flatten(),\n",
    "    keras.layers.BatchNormalization(),\n",
    "    keras.layers.Dense(num_time * num_feat, activation=activation),\n",
    "    keras.layers.BatchNormalization(),\n",
    "    keras.layers.Dense(num_feat, activation=activation),\n",
    "    keras.layers.BatchNormalization(),\n",
    "    keras.layers.Dense(5, activation='softmax'),\n",
    "])\n",
    "\n",
    "optimizer = keras.optimizers.Adam(learning_rate=1e-3)\n",
    "\n",
    "model.compile(\n",
    "    loss='sparse_categorical_crossentropy',\n",
    "    optimizer=optimizer,\n",
    "    metrics=['accuracy'],\n",
    ")\n",
    "\n",
    "history = model.fit(\n",
    "    X_train,\n",
    "    y_train,\n",
    "    epochs=EPOCHS,\n",
    "    batch_size=BATCH_SIZE,\n",
    "    validation_data=(X_test, y_test),\n",
    "    verbose=1,\n",
    ")"
   ]
  },
  {
   "cell_type": "code",
   "execution_count": null,
   "id": "bed79725-2bb3-47ce-b06c-333c662b30bf",
   "metadata": {
    "colab": {
     "base_uri": "https://localhost:8080/",
     "height": 282
    },
    "id": "bed79725-2bb3-47ce-b06c-333c662b30bf",
    "outputId": "4354cc75-e44d-4d2a-ac4b-c55a4b3a9305"
   },
   "outputs": [],
   "source": [
    "plt.plot(history.history['accuracy'])\n",
    "plt.plot(history.history['val_accuracy'])"
   ]
  },
  {
   "cell_type": "code",
   "execution_count": null,
   "id": "3b65d81f-3d75-43d1-9e2d-88cef69d110b",
   "metadata": {
    "colab": {
     "base_uri": "https://localhost:8080/",
     "height": 265
    },
    "id": "3b65d81f-3d75-43d1-9e2d-88cef69d110b",
    "outputId": "97e18fb9-4340-478c-e307-82c03282e9cc"
   },
   "outputs": [],
   "source": [
    "plt.plot(history.history['loss'][10:])\n",
    "plt.plot(history.history['val_loss'][10:])\n",
    "plt.yscale('log')"
   ]
  },
  {
   "cell_type": "code",
   "execution_count": null,
   "id": "8a964a60-488a-431e-8bcc-586e90d8956b",
   "metadata": {
    "id": "8a964a60-488a-431e-8bcc-586e90d8956b"
   },
   "outputs": [],
   "source": [
    "y_pred = model.predict(X_test)"
   ]
  },
  {
   "cell_type": "code",
   "execution_count": null,
   "id": "d7C0QyTLHO8q",
   "metadata": {
    "colab": {
     "base_uri": "https://localhost:8080/"
    },
    "id": "d7C0QyTLHO8q",
    "outputId": "78587010-2aa8-4cc7-e82f-7c40e11ce705"
   },
   "outputs": [],
   "source": [
    "y_pred"
   ]
  },
  {
   "cell_type": "code",
   "execution_count": null,
   "id": "1ljWvGo9skgS",
   "metadata": {
    "id": "1ljWvGo9skgS"
   },
   "outputs": [],
   "source": [
    "y_pred= np.argmax(y_pred, axis=1)"
   ]
  },
  {
   "cell_type": "code",
   "execution_count": null,
   "id": "BIninuG_Hixu",
   "metadata": {
    "colab": {
     "base_uri": "https://localhost:8080/"
    },
    "id": "BIninuG_Hixu",
    "outputId": "8d52a3ce-46d5-41c3-f339-ec8e2feee684"
   },
   "outputs": [],
   "source": [
    "y_pred"
   ]
  },
  {
   "cell_type": "code",
   "execution_count": null,
   "id": "3NzoyhrD4tO9",
   "metadata": {
    "colab": {
     "base_uri": "https://localhost:8080/"
    },
    "id": "3NzoyhrD4tO9",
    "outputId": "da09ab77-c439-431e-82a8-93fc98f20b49"
   },
   "outputs": [],
   "source": [
    "y_pred[0]"
   ]
  },
  {
   "cell_type": "code",
   "execution_count": null,
   "id": "48c3e9c7-2bc3-479a-8af1-bf35d87f3e57",
   "metadata": {
    "id": "48c3e9c7-2bc3-479a-8af1-bf35d87f3e57"
   },
   "outputs": [],
   "source": [
    "df = pd.DataFrame({\n",
    "    'y_test': y_test.ravel().astype(int).tolist(),\n",
    "    'y_pred': y_pred.ravel().astype(int).tolist(),\n",
    "})"
   ]
  },
  {
   "cell_type": "code",
   "execution_count": null,
   "id": "18cfafbe-dafb-4a9e-8873-7f96e71f80b8",
   "metadata": {
    "colab": {
     "base_uri": "https://localhost:8080/",
     "height": 175
    },
    "id": "18cfafbe-dafb-4a9e-8873-7f96e71f80b8",
    "outputId": "aa49cb9d-c88e-437b-9a31-2809577d1da1"
   },
   "outputs": [],
   "source": [
    "pd.crosstab(df['y_test'], df['y_pred'])"
   ]
  },
  {
   "cell_type": "code",
   "execution_count": null,
   "id": "e192957b-1b16-47c8-89eb-d6e2fb9bde9f",
   "metadata": {
    "id": "e192957b-1b16-47c8-89eb-d6e2fb9bde9f"
   },
   "outputs": [],
   "source": [
    "model.save('model.h5')"
   ]
  },
  {
   "cell_type": "code",
   "execution_count": null,
   "id": "vZD1w6TZwk0e",
   "metadata": {
    "id": "vZD1w6TZwk0e"
   },
   "outputs": [],
   "source": [
    "CNN.save('model_90_95_accuracy.h5')"
   ]
  }
 ],
 "metadata": {
  "accelerator": "GPU",
  "colab": {
   "provenance": []
  },
  "gpuClass": "standard",
  "kernelspec": {
   "display_name": "Python 3 (ipykernel)",
   "language": "python",
   "name": "python3"
  },
  "language_info": {
   "codemirror_mode": {
    "name": "ipython",
    "version": 3
   },
   "file_extension": ".py",
   "mimetype": "text/x-python",
   "name": "python",
   "nbconvert_exporter": "python",
   "pygments_lexer": "ipython3",
   "version": "3.9.12"
  }
 },
 "nbformat": 4,
 "nbformat_minor": 5
}
