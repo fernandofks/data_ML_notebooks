{
 "cells": [
  {
   "cell_type": "code",
   "execution_count": 145,
   "id": "b41f0b0f-cc96-43a2-ab7f-f3264587e7d2",
   "metadata": {
    "id": "b41f0b0f-cc96-43a2-ab7f-f3264587e7d2"
   },
   "outputs": [],
   "source": [
    "from pathlib import Path\n",
    "import matplotlib.pyplot as plt\n",
    "import numpy as np\n",
    "import pandas as pd\n",
    "import tensorflow as tf\n",
    "import tensorflow.keras as keras\n",
    "from tensorflow.python.keras.layers import Dense\n",
    "from numpy.random import default_rng\n",
    "from sklearn.model_selection import train_test_split"
   ]
  },
  {
   "cell_type": "code",
   "execution_count": 146,
   "id": "c9e9560b-749a-49a8-aedf-44a1ac9b4bb1",
   "metadata": {
    "id": "c9e9560b-749a-49a8-aedf-44a1ac9b4bb1"
   },
   "outputs": [],
   "source": [
    "# Loading pipeline params.\n",
    "DATA_PATH = Path('data')\n",
    "FILENAME_STOP = 'stop_90_diff_quat.csv'\n",
    "FILENAME_0 = '0_90_diff_quat.csv'\n",
    "FILENAME_90 = '90_90_diff_quat.csv'\n",
    "FILENAME_180 = '180_90_diff_quat.csv'\n",
    "FILENAME_270 = '270_90_diff_quat.csv'\n",
    "\n",
    "# # Loading pipeline params.\n",
    "# DATA_PATH = Path('data')\n",
    "# FILENAME_STOP = 'stop.csv'\n",
    "# FILENAME_0 = 'm_0.csv'\n",
    "# FILENAME_90 = 'm_90.csv'\n",
    "# FILENAME_180 = 'm_180.csv'\n",
    "# FILENAME_270 = 'm_270.csv'\n",
    "\n",
    "\n",
    "NUM_TIMESTEPS = 6\n",
    "IGNORE_FRACTION = 0.1\n",
    "TEST_FRACTION = 0.25\n",
    "\n",
    "# Training params.\n",
    "LEARNING_RATE = 1e-5\n",
    "EPOCHS = 100\n",
    "BATCH_SIZE = 512"
   ]
  },
  {
   "cell_type": "code",
   "execution_count": 147,
   "id": "7f52716d-1339-4484-9fd3-d5206979ba8e",
   "metadata": {
    "id": "7f52716d-1339-4484-9fd3-d5206979ba8e"
   },
   "outputs": [],
   "source": [
    "def load_data(\n",
    "    path_stop,\n",
    "    path_0,\n",
    "    path_90,\n",
    "    path_180,\n",
    "    path_270,\n",
    "    num_timesteps,\n",
    "    ignore_fraction,\n",
    "    test_fraction,\n",
    "):\n",
    "\n",
    "    def read_and_prepare_data(\n",
    "        path,\n",
    "        class_,\n",
    "        num_timesteps,\n",
    "        ignore_fraction,\n",
    "        test_fraction,\n",
    "    ):\n",
    "\n",
    "        def split_temporally(X, test_fraction):\n",
    "            num_samples = X.shape[0]\n",
    "            num_train = int(num_samples * (1.0 - test_fraction))\n",
    "            X_train, X_test = X[:num_train], X[num_train:]\n",
    "            return X_train, X_test\n",
    "\n",
    "        def transform_into_sequences(X, num_timesteps):\n",
    "            num_samples = X.shape[0]\n",
    "            X_seq = []\n",
    "            for k in range(num_samples - num_timesteps + 1):\n",
    "                X_seq.append(X[k:(k + num_timesteps)])\n",
    "            X_seq = np.array(X_seq)\n",
    "            y_seq = class_ * np.ones((X_seq.shape[0], 1))\n",
    "            return X_seq, y_seq\n",
    "\n",
    "        X = pd.read_csv(path).values\n",
    "        X = X[:, [0,1,2,3,4,5,6,7,8,9,10,11,12,13]]  # Use only feet translations.\n",
    "\n",
    "        # Ignore beginning and end.\n",
    "        num_samples = X.shape[0]\n",
    "        num_ignore = int(ignore_fraction * num_samples)\n",
    "        X = X[num_ignore:-num_ignore]\n",
    "\n",
    "        # Split X temporally.\n",
    "        X_train, X_test = split_temporally(X, test_fraction)\n",
    "\n",
    "        # Transform X into short sequences.\n",
    "        X_train, y_train = transform_into_sequences(X_train, num_timesteps)\n",
    "        X_test, y_test = transform_into_sequences(X_test, num_timesteps)\n",
    "\n",
    "        return X_train, y_train, X_test, y_test\n",
    "\n",
    "    def shuffle_data(X, y):\n",
    "        idx = np.arange(len(X))\n",
    "        default_rng().shuffle(idx)\n",
    "        X_shuffled = X[idx, :]\n",
    "        y_shuffled = y[idx]\n",
    "        return X_shuffled, y_shuffled\n",
    "\n",
    "    X_train_stop, y_train_stop, X_test_stop, y_test_stop = \\\n",
    "        read_and_prepare_data(\n",
    "            path_stop,\n",
    "            0.0,\n",
    "            num_timesteps,\n",
    "            ignore_fraction,\n",
    "            test_fraction,\n",
    "        )\n",
    "    \n",
    "    X_train_0, y_train_0, X_test_0, y_test_0 = \\\n",
    "        read_and_prepare_data(\n",
    "            path_0,\n",
    "            1.0,\n",
    "            num_timesteps,\n",
    "            ignore_fraction,\n",
    "            test_fraction,\n",
    "        )\n",
    "\n",
    "    X_train_90, y_train_90, X_test_90, y_test_90 = \\\n",
    "        read_and_prepare_data(\n",
    "            path_90,\n",
    "            2.0,\n",
    "            num_timesteps,\n",
    "            ignore_fraction,\n",
    "            test_fraction,\n",
    "        )\n",
    "    \n",
    "    X_train_180, y_train_180, X_test_180, y_test_180 = \\\n",
    "        read_and_prepare_data(\n",
    "            path_180,\n",
    "            3.0,\n",
    "            num_timesteps,\n",
    "            ignore_fraction,\n",
    "            test_fraction,\n",
    "        )\n",
    "    \n",
    "    X_train_270, y_train_270, X_test_270, y_test_270 = \\\n",
    "        read_and_prepare_data(\n",
    "            path_270,\n",
    "            4.0,\n",
    "            num_timesteps,\n",
    "            ignore_fraction,\n",
    "            test_fraction,\n",
    "        )\n",
    "\n",
    "    X_train = np.concatenate((X_train_stop, X_train_0, X_train_90, X_train_180, X_train_270), axis=0)\n",
    "    y_train = np.concatenate((y_train_stop, y_train_0, y_train_90, y_train_180, y_train_270), axis=0)\n",
    "    X_test = np.concatenate((X_test_stop, X_test_0, X_test_90, X_test_180, X_test_270), axis=0)\n",
    "    y_test = np.concatenate((y_test_stop, y_test_0, y_test_90, y_test_180, y_test_270), axis=0)\n",
    "\n",
    "    X_train, y_train = shuffle_data(X_train, y_train)\n",
    "    X_test, y_test = shuffle_data(X_test, y_test)\n",
    "\n",
    "    return X_train, X_test, y_train, y_test\n",
    "\n",
    "\n",
    "path_stop = Path(DATA_PATH, FILENAME_STOP)\n",
    "path_0 = Path(DATA_PATH, FILENAME_0)\n",
    "path_90 = Path(DATA_PATH, FILENAME_90)\n",
    "path_180 = Path(DATA_PATH, FILENAME_180)\n",
    "path_270 = Path(DATA_PATH, FILENAME_270)\n",
    "\n",
    "X_train, X_test, y_train, y_test = load_data(\n",
    "    path_stop,\n",
    "    path_0,\n",
    "    path_90,\n",
    "    path_180,\n",
    "    path_270,\n",
    "    NUM_TIMESTEPS,\n",
    "    IGNORE_FRACTION,\n",
    "    TEST_FRACTION,\n",
    ")"
   ]
  },
  {
   "cell_type": "code",
   "execution_count": 148,
   "id": "99c35712-1089-44f3-89ef-ed471b144c96",
   "metadata": {
    "colab": {
     "base_uri": "https://localhost:8080/"
    },
    "id": "99c35712-1089-44f3-89ef-ed471b144c96",
    "outputId": "9076061a-8661-4d2e-c1ed-887a92ec640b"
   },
   "outputs": [
    {
     "data": {
      "text/plain": [
       "((100773, 6, 14), (100773, 1), (33575, 6, 14), (33575, 1))"
      ]
     },
     "execution_count": 148,
     "metadata": {},
     "output_type": "execute_result"
    }
   ],
   "source": [
    "X_train.shape, y_train.shape, X_test.shape, y_test.shape"
   ]
  },
  {
   "cell_type": "code",
   "execution_count": 149,
   "id": "VqSuqgBCB_nA",
   "metadata": {
    "colab": {
     "base_uri": "https://localhost:8080/"
    },
    "id": "VqSuqgBCB_nA",
    "outputId": "26d50bbe-3fd3-4bed-e70e-7003d289c5d6"
   },
   "outputs": [
    {
     "data": {
      "text/plain": [
       "(6, 14)"
      ]
     },
     "execution_count": 149,
     "metadata": {},
     "output_type": "execute_result"
    }
   ],
   "source": [
    "X_test[60].shape\n"
   ]
  },
  {
   "cell_type": "code",
   "execution_count": null,
   "id": "dye8vjENBtXX",
   "metadata": {
    "id": "dye8vjENBtXX"
   },
   "outputs": [],
   "source": []
  },
  {
   "cell_type": "code",
   "execution_count": null,
   "id": "-3TttkaRCM4l",
   "metadata": {
    "id": "-3TttkaRCM4l"
   },
   "outputs": [],
   "source": []
  },
  {
   "cell_type": "code",
   "execution_count": 167,
   "id": "3a85634b-4e9c-45b8-b456-cb970457302f",
   "metadata": {
    "id": "3a85634b-4e9c-45b8-b456-cb970457302f"
   },
   "outputs": [
    {
     "name": "stdout",
     "output_type": "stream",
     "text": [
      "Model: \"Sequential_CNN\"\n",
      "_________________________________________________________________\n",
      " Layer (type)                Output Shape              Param #   \n",
      "=================================================================\n",
      " conv2d_32 (Conv2D)          (None, 6, 14, 256)        2560      \n",
      "                                                                 \n",
      " max_pooling2d_32 (MaxPoolin  (None, 2, 6, 256)        0         \n",
      " g2D)                                                            \n",
      "                                                                 \n",
      " flatten_20 (Flatten)        (None, 3072)              0         \n",
      "                                                                 \n",
      " dense_60 (Dense)            (None, 64)                196672    \n",
      "                                                                 \n",
      " dense_61 (Dense)            (None, 32)                2080      \n",
      "                                                                 \n",
      " dense_62 (Dense)            (None, 5)                 165       \n",
      "                                                                 \n",
      "=================================================================\n",
      "Total params: 201,477\n",
      "Trainable params: 201,477\n",
      "Non-trainable params: 0\n",
      "_________________________________________________________________\n"
     ]
    }
   ],
   "source": [
    "from tensorflow.keras.models import Sequential\n",
    "from tensorflow.keras.layers import Conv2D, MaxPooling2D, Flatten, Dense\n",
    "\n",
    "CNN = Sequential(name=\"Sequential_CNN\")\n",
    "\n",
    "CNN.add(Conv2D(256, kernel_size=(3, 3),\n",
    "               strides=(1, 1), padding=\"same\",\n",
    "               activation=\"selu\", input_shape=[6, 14, 1]))\n",
    "\n",
    "CNN.add(MaxPooling2D(pool_size=(3, 3), strides=(2, 2),\n",
    "                     padding=\"valid\"))\n",
    "\n",
    "# Add another pair of Conv2D and MaxPooling2D for more model depth,\n",
    "# followed by the flatten and multiple dense layers\n",
    "\n",
    "# CNN.add(Conv2D(64, kernel_size=(3, 3),\n",
    "#                strides=(1, 1), padding=\"same\",\n",
    "#                activation=\"selu\"))\n",
    "\n",
    "# CNN.add(MaxPooling2D(pool_size=(2, 2), strides=(1, 1),\n",
    "#                      padding=\"valid\"))\n",
    "\n",
    "CNN.add(Flatten())\n",
    "\n",
    "CNN.add(Dense(64, activation='selu'))\n",
    "CNN.add(Dense(32, activation='selu'))\n",
    "CNN.add(Dense(5, activation='softmax'))\n",
    "\n",
    "CNN.summary()"
   ]
  },
  {
   "cell_type": "code",
   "execution_count": null,
   "id": "j0C2RSxICKzq",
   "metadata": {
    "colab": {
     "base_uri": "https://localhost:8080/"
    },
    "id": "j0C2RSxICKzq",
    "outputId": "af853522-fdf6-40e4-8d0e-cd2a6dcdab9b"
   },
   "outputs": [],
   "source": []
  },
  {
   "cell_type": "code",
   "execution_count": 168,
   "id": "911581af",
   "metadata": {},
   "outputs": [],
   "source": [
    "from numpy import *\n",
    "where_are_NaNsx = isnan(X_train)\n",
    "X_train[where_are_NaNsx] = 0\n",
    "\n",
    "where_are_NaNsy = isnan(y_train)\n",
    "y_train[where_are_NaNsy] = 0\n",
    "\n",
    "where_are_NaNsxt = isnan(X_test)\n",
    "X_test[where_are_NaNsxt] = 0\n",
    "\n",
    "where_are_NaNsyt = isnan(y_test)\n",
    "y_test[where_are_NaNsyt] = 0"
   ]
  },
  {
   "cell_type": "code",
   "execution_count": 169,
   "id": "7baf8970-5318-4461-b828-d34c232afa5f",
   "metadata": {
    "colab": {
     "base_uri": "https://localhost:8080/"
    },
    "id": "7baf8970-5318-4461-b828-d34c232afa5f",
    "outputId": "08a66cc8-aeee-42ba-f039-9dfa2ba6f99e",
    "scrolled": false
   },
   "outputs": [
    {
     "name": "stdout",
     "output_type": "stream",
     "text": [
      "Epoch 1/100\n",
      "394/394 [==============================] - 22s 56ms/step - loss: 0.2538 - accuracy: 0.9072 - val_loss: 1.9517 - val_accuracy: 0.6923\n",
      "Epoch 2/100\n",
      "394/394 [==============================] - 22s 56ms/step - loss: 0.0805 - accuracy: 0.9804 - val_loss: 1.9976 - val_accuracy: 0.6958\n",
      "Epoch 3/100\n",
      "394/394 [==============================] - 22s 55ms/step - loss: 0.0664 - accuracy: 0.9834 - val_loss: 2.1866 - val_accuracy: 0.6911\n",
      "Epoch 4/100\n",
      "394/394 [==============================] - 22s 55ms/step - loss: 0.0571 - accuracy: 0.9861 - val_loss: 2.8450 - val_accuracy: 0.6899\n",
      "Epoch 5/100\n",
      "394/394 [==============================] - 22s 57ms/step - loss: 0.0540 - accuracy: 0.9870 - val_loss: 2.3211 - val_accuracy: 0.6897\n",
      "Epoch 6/100\n",
      "394/394 [==============================] - 22s 56ms/step - loss: 0.0537 - accuracy: 0.9867 - val_loss: 2.1025 - val_accuracy: 0.6962\n",
      "Epoch 7/100\n",
      "394/394 [==============================] - 23s 57ms/step - loss: 0.0575 - accuracy: 0.9852 - val_loss: 2.2149 - val_accuracy: 0.6953\n",
      "Epoch 8/100\n",
      "394/394 [==============================] - 23s 57ms/step - loss: 0.0470 - accuracy: 0.9886 - val_loss: 2.5345 - val_accuracy: 0.6969\n",
      "Epoch 9/100\n",
      "394/394 [==============================] - 23s 57ms/step - loss: 0.0471 - accuracy: 0.9884 - val_loss: 3.1939 - val_accuracy: 0.6901\n",
      "Epoch 10/100\n",
      "394/394 [==============================] - 23s 58ms/step - loss: 0.0451 - accuracy: 0.9888 - val_loss: 2.9752 - val_accuracy: 0.6905\n",
      "Epoch 11/100\n",
      "394/394 [==============================] - 23s 57ms/step - loss: 0.0448 - accuracy: 0.9889 - val_loss: 3.4022 - val_accuracy: 0.6868\n",
      "Epoch 12/100\n",
      "394/394 [==============================] - 23s 58ms/step - loss: 0.0433 - accuracy: 0.9893 - val_loss: 2.6976 - val_accuracy: 0.6962\n",
      "Epoch 13/100\n",
      "394/394 [==============================] - 24s 60ms/step - loss: 0.0418 - accuracy: 0.9896 - val_loss: 3.0382 - val_accuracy: 0.6908\n",
      "Epoch 14/100\n",
      "394/394 [==============================] - 23s 59ms/step - loss: 0.0441 - accuracy: 0.9889 - val_loss: 3.8480 - val_accuracy: 0.6871\n",
      "Epoch 15/100\n",
      "394/394 [==============================] - 23s 58ms/step - loss: 0.0409 - accuracy: 0.9897 - val_loss: 3.6581 - val_accuracy: 0.6898\n",
      "Epoch 16/100\n",
      "394/394 [==============================] - 23s 59ms/step - loss: 0.0391 - accuracy: 0.9905 - val_loss: 3.5434 - val_accuracy: 0.6934\n",
      "Epoch 17/100\n",
      "394/394 [==============================] - 23s 59ms/step - loss: 0.0385 - accuracy: 0.9904 - val_loss: 3.5799 - val_accuracy: 0.6934\n",
      "Epoch 18/100\n",
      "394/394 [==============================] - 24s 60ms/step - loss: 0.0395 - accuracy: 0.9901 - val_loss: 4.2306 - val_accuracy: 0.6860\n",
      "Epoch 19/100\n",
      "394/394 [==============================] - 23s 59ms/step - loss: 0.0369 - accuracy: 0.9908 - val_loss: 5.7486 - val_accuracy: 0.6857\n",
      "Epoch 20/100\n",
      "394/394 [==============================] - 23s 59ms/step - loss: 0.0374 - accuracy: 0.9906 - val_loss: 6.2237 - val_accuracy: 0.6865\n",
      "Epoch 21/100\n",
      "394/394 [==============================] - 24s 61ms/step - loss: 0.0365 - accuracy: 0.9909 - val_loss: 5.3031 - val_accuracy: 0.6894\n",
      "Epoch 22/100\n",
      "394/394 [==============================] - 35s 89ms/step - loss: 0.0359 - accuracy: 0.9910 - val_loss: 4.3537 - val_accuracy: 0.6939\n",
      "Epoch 23/100\n",
      "394/394 [==============================] - 26s 65ms/step - loss: 0.0339 - accuracy: 0.9915 - val_loss: 6.6271 - val_accuracy: 0.6828\n",
      "Epoch 24/100\n",
      "394/394 [==============================] - 23s 58ms/step - loss: 0.0364 - accuracy: 0.9909 - val_loss: 6.7880 - val_accuracy: 0.6824\n",
      "Epoch 25/100\n",
      "394/394 [==============================] - 23s 58ms/step - loss: 0.0334 - accuracy: 0.9915 - val_loss: 5.5050 - val_accuracy: 0.6878\n",
      "Epoch 26/100\n",
      "394/394 [==============================] - 23s 58ms/step - loss: 0.0374 - accuracy: 0.9905 - val_loss: 6.5256 - val_accuracy: 0.6863\n",
      "Epoch 27/100\n",
      "394/394 [==============================] - 23s 58ms/step - loss: 0.0319 - accuracy: 0.9921 - val_loss: 6.9609 - val_accuracy: 0.6877\n",
      "Epoch 28/100\n",
      "394/394 [==============================] - 23s 59ms/step - loss: 0.0321 - accuracy: 0.9920 - val_loss: 6.2523 - val_accuracy: 0.6923\n",
      "Epoch 29/100\n",
      "394/394 [==============================] - 22s 56ms/step - loss: 0.0298 - accuracy: 0.9923 - val_loss: 8.3001 - val_accuracy: 0.6817\n",
      "Epoch 30/100\n",
      "394/394 [==============================] - 22s 57ms/step - loss: 0.0334 - accuracy: 0.9913 - val_loss: 8.1664 - val_accuracy: 0.6848\n",
      "Epoch 31/100\n",
      "394/394 [==============================] - 23s 58ms/step - loss: 0.0304 - accuracy: 0.9922 - val_loss: 8.5068 - val_accuracy: 0.6829\n",
      "Epoch 32/100\n",
      "394/394 [==============================] - 21s 53ms/step - loss: 0.0295 - accuracy: 0.9923 - val_loss: 8.9349 - val_accuracy: 0.6845\n",
      "Epoch 33/100\n",
      "394/394 [==============================] - 22s 56ms/step - loss: 0.0290 - accuracy: 0.9927 - val_loss: 8.5671 - val_accuracy: 0.6854\n",
      "Epoch 34/100\n",
      "394/394 [==============================] - 23s 59ms/step - loss: 0.0291 - accuracy: 0.9926 - val_loss: 8.2106 - val_accuracy: 0.6800\n",
      "Epoch 35/100\n",
      "394/394 [==============================] - 21s 53ms/step - loss: 0.0303 - accuracy: 0.9922 - val_loss: 6.7668 - val_accuracy: 0.6897\n",
      "Epoch 36/100\n",
      "394/394 [==============================] - 19s 49ms/step - loss: 0.0278 - accuracy: 0.9928 - val_loss: 8.3318 - val_accuracy: 0.6808\n",
      "Epoch 37/100\n",
      "394/394 [==============================] - 22s 57ms/step - loss: 0.0311 - accuracy: 0.9920 - val_loss: 9.4754 - val_accuracy: 0.6852\n",
      "Epoch 38/100\n",
      "394/394 [==============================] - 37s 93ms/step - loss: 0.0265 - accuracy: 0.9934 - val_loss: 7.3865 - val_accuracy: 0.6934\n",
      "Epoch 39/100\n",
      "394/394 [==============================] - 29s 73ms/step - loss: 0.0269 - accuracy: 0.9931 - val_loss: 8.1119 - val_accuracy: 0.6892\n",
      "Epoch 40/100\n",
      "394/394 [==============================] - 25s 63ms/step - loss: 0.0274 - accuracy: 0.9928 - val_loss: 8.9048 - val_accuracy: 0.6852\n",
      "Epoch 41/100\n",
      "394/394 [==============================] - 23s 60ms/step - loss: 0.0267 - accuracy: 0.9930 - val_loss: 8.2334 - val_accuracy: 0.6872\n",
      "Epoch 42/100\n",
      "394/394 [==============================] - 25s 63ms/step - loss: 0.0277 - accuracy: 0.9926 - val_loss: 8.7246 - val_accuracy: 0.6884\n",
      "Epoch 43/100\n",
      "394/394 [==============================] - 23s 59ms/step - loss: 0.0260 - accuracy: 0.9935 - val_loss: 8.1816 - val_accuracy: 0.6897\n",
      "Epoch 44/100\n",
      "394/394 [==============================] - 23s 59ms/step - loss: 0.0254 - accuracy: 0.9934 - val_loss: 9.1484 - val_accuracy: 0.6843\n",
      "Epoch 45/100\n",
      "394/394 [==============================] - 23s 59ms/step - loss: 0.0254 - accuracy: 0.9935 - val_loss: 8.8694 - val_accuracy: 0.6875\n",
      "Epoch 46/100\n",
      "394/394 [==============================] - 25s 62ms/step - loss: 0.0253 - accuracy: 0.9936 - val_loss: 10.3555 - val_accuracy: 0.6849\n",
      "Epoch 47/100\n",
      "394/394 [==============================] - 25s 64ms/step - loss: 0.0245 - accuracy: 0.9937 - val_loss: 10.8808 - val_accuracy: 0.6843\n",
      "Epoch 48/100\n",
      "394/394 [==============================] - 26s 65ms/step - loss: 0.0231 - accuracy: 0.9940 - val_loss: 10.4360 - val_accuracy: 0.6855\n",
      "Epoch 49/100\n",
      "394/394 [==============================] - 30s 75ms/step - loss: 0.0256 - accuracy: 0.9933 - val_loss: 9.5635 - val_accuracy: 0.6870\n",
      "Epoch 50/100\n",
      "394/394 [==============================] - 33s 84ms/step - loss: 0.0242 - accuracy: 0.9935 - val_loss: 8.2688 - val_accuracy: 0.6885\n",
      "Epoch 51/100\n",
      "394/394 [==============================] - 36s 92ms/step - loss: 0.0246 - accuracy: 0.9936 - val_loss: 7.5985 - val_accuracy: 0.6916\n",
      "Epoch 52/100\n",
      "394/394 [==============================] - 29s 75ms/step - loss: 0.0234 - accuracy: 0.9939 - val_loss: 7.4545 - val_accuracy: 0.6934\n",
      "Epoch 53/100\n",
      "394/394 [==============================] - 27s 68ms/step - loss: 0.0233 - accuracy: 0.9940 - val_loss: 9.8189 - val_accuracy: 0.6857\n",
      "Epoch 54/100\n",
      "394/394 [==============================] - 24s 61ms/step - loss: 0.0234 - accuracy: 0.9941 - val_loss: 10.1264 - val_accuracy: 0.6828\n",
      "Epoch 55/100\n",
      "394/394 [==============================] - 24s 61ms/step - loss: 0.0231 - accuracy: 0.9941 - val_loss: 9.1208 - val_accuracy: 0.6918\n",
      "Epoch 56/100\n",
      "394/394 [==============================] - 25s 63ms/step - loss: 0.0258 - accuracy: 0.9934 - val_loss: 9.4281 - val_accuracy: 0.6852\n",
      "Epoch 57/100\n"
     ]
    },
    {
     "name": "stdout",
     "output_type": "stream",
     "text": [
      "394/394 [==============================] - 23s 58ms/step - loss: 0.0217 - accuracy: 0.9943 - val_loss: 8.7432 - val_accuracy: 0.6910\n",
      "Epoch 58/100\n",
      "394/394 [==============================] - 23s 58ms/step - loss: 0.0224 - accuracy: 0.9941 - val_loss: 7.8743 - val_accuracy: 0.6958\n",
      "Epoch 59/100\n",
      "394/394 [==============================] - 23s 59ms/step - loss: 0.0211 - accuracy: 0.9945 - val_loss: 9.9566 - val_accuracy: 0.6874\n",
      "Epoch 60/100\n",
      "394/394 [==============================] - 23s 57ms/step - loss: 0.0220 - accuracy: 0.9942 - val_loss: 10.4986 - val_accuracy: 0.6881\n",
      "Epoch 61/100\n",
      "394/394 [==============================] - 23s 59ms/step - loss: 0.0232 - accuracy: 0.9937 - val_loss: 9.1292 - val_accuracy: 0.6887\n",
      "Epoch 62/100\n",
      "394/394 [==============================] - 23s 59ms/step - loss: 0.0224 - accuracy: 0.9941 - val_loss: 8.7926 - val_accuracy: 0.6942\n",
      "Epoch 63/100\n",
      "394/394 [==============================] - 24s 60ms/step - loss: 0.0207 - accuracy: 0.9944 - val_loss: 9.9634 - val_accuracy: 0.6913\n",
      "Epoch 64/100\n",
      "394/394 [==============================] - 23s 59ms/step - loss: 0.0210 - accuracy: 0.9946 - val_loss: 9.5417 - val_accuracy: 0.6936\n",
      "Epoch 65/100\n",
      "394/394 [==============================] - 24s 61ms/step - loss: 0.0215 - accuracy: 0.9945 - val_loss: 8.6433 - val_accuracy: 0.6946\n",
      "Epoch 66/100\n",
      "394/394 [==============================] - 24s 60ms/step - loss: 0.0212 - accuracy: 0.9942 - val_loss: 7.9282 - val_accuracy: 0.6965\n",
      "Epoch 67/100\n",
      "394/394 [==============================] - 24s 61ms/step - loss: 0.0208 - accuracy: 0.9945 - val_loss: 8.6463 - val_accuracy: 0.6938\n",
      "Epoch 68/100\n",
      "394/394 [==============================] - 24s 60ms/step - loss: 0.0202 - accuracy: 0.9946 - val_loss: 7.8350 - val_accuracy: 0.6955\n",
      "Epoch 69/100\n",
      "394/394 [==============================] - 24s 61ms/step - loss: 0.0210 - accuracy: 0.9943 - val_loss: 9.0357 - val_accuracy: 0.6887\n",
      "Epoch 70/100\n",
      "394/394 [==============================] - 24s 60ms/step - loss: 0.0206 - accuracy: 0.9947 - val_loss: 9.0084 - val_accuracy: 0.6938\n",
      "Epoch 71/100\n",
      "394/394 [==============================] - 24s 61ms/step - loss: 0.0193 - accuracy: 0.9949 - val_loss: 9.2579 - val_accuracy: 0.6960\n",
      "Epoch 72/100\n",
      "394/394 [==============================] - 24s 60ms/step - loss: 0.0184 - accuracy: 0.9949 - val_loss: 7.7532 - val_accuracy: 0.6952\n",
      "Epoch 73/100\n",
      "394/394 [==============================] - 23s 59ms/step - loss: 0.0199 - accuracy: 0.9947 - val_loss: 7.2822 - val_accuracy: 0.6928\n",
      "Epoch 74/100\n",
      "394/394 [==============================] - 24s 60ms/step - loss: 0.0189 - accuracy: 0.9949 - val_loss: 8.9122 - val_accuracy: 0.6916\n",
      "Epoch 75/100\n",
      "394/394 [==============================] - 23s 59ms/step - loss: 0.0201 - accuracy: 0.9948 - val_loss: 7.4783 - val_accuracy: 0.6960\n",
      "Epoch 76/100\n",
      "394/394 [==============================] - 24s 61ms/step - loss: 0.0200 - accuracy: 0.9947 - val_loss: 9.2900 - val_accuracy: 0.6955\n",
      "Epoch 77/100\n",
      "394/394 [==============================] - 24s 60ms/step - loss: 0.0190 - accuracy: 0.9950 - val_loss: 8.0979 - val_accuracy: 0.6963\n",
      "Epoch 78/100\n",
      "394/394 [==============================] - 20s 50ms/step - loss: 0.0184 - accuracy: 0.9949 - val_loss: 7.6007 - val_accuracy: 0.6937\n",
      "Epoch 79/100\n",
      "394/394 [==============================] - 20s 50ms/step - loss: 0.0191 - accuracy: 0.9948 - val_loss: 8.2431 - val_accuracy: 0.6831\n",
      "Epoch 80/100\n",
      "394/394 [==============================] - 21s 54ms/step - loss: 0.0181 - accuracy: 0.9952 - val_loss: 9.7178 - val_accuracy: 0.6912\n",
      "Epoch 81/100\n",
      "394/394 [==============================] - 24s 60ms/step - loss: 0.0179 - accuracy: 0.9952 - val_loss: 8.5090 - val_accuracy: 0.6827\n",
      "Epoch 82/100\n",
      "394/394 [==============================] - 24s 62ms/step - loss: 0.0183 - accuracy: 0.9952 - val_loss: 10.0847 - val_accuracy: 0.6796\n",
      "Epoch 83/100\n",
      "394/394 [==============================] - 24s 61ms/step - loss: 0.0182 - accuracy: 0.9952 - val_loss: 9.3717 - val_accuracy: 0.6941\n",
      "Epoch 84/100\n",
      "394/394 [==============================] - 25s 64ms/step - loss: 0.0175 - accuracy: 0.9954 - val_loss: 7.8994 - val_accuracy: 0.6973\n",
      "Epoch 85/100\n",
      "394/394 [==============================] - 24s 61ms/step - loss: 0.0176 - accuracy: 0.9952 - val_loss: 7.8619 - val_accuracy: 0.6946\n",
      "Epoch 86/100\n",
      "394/394 [==============================] - 24s 60ms/step - loss: 0.0180 - accuracy: 0.9952 - val_loss: 6.6850 - val_accuracy: 0.7027\n",
      "Epoch 87/100\n",
      "394/394 [==============================] - 24s 61ms/step - loss: 0.0181 - accuracy: 0.9951 - val_loss: 7.2637 - val_accuracy: 0.6992\n",
      "Epoch 88/100\n",
      "394/394 [==============================] - 24s 61ms/step - loss: 0.0176 - accuracy: 0.9955 - val_loss: 8.5259 - val_accuracy: 0.6959\n",
      "Epoch 89/100\n",
      "394/394 [==============================] - 24s 61ms/step - loss: 0.0177 - accuracy: 0.9951 - val_loss: 7.7057 - val_accuracy: 0.6938\n",
      "Epoch 90/100\n",
      "394/394 [==============================] - 26s 67ms/step - loss: 0.0168 - accuracy: 0.9954 - val_loss: 9.6006 - val_accuracy: 0.6952\n",
      "Epoch 91/100\n",
      "394/394 [==============================] - 25s 63ms/step - loss: 0.0169 - accuracy: 0.9955 - val_loss: 7.6780 - val_accuracy: 0.6950\n",
      "Epoch 92/100\n",
      "394/394 [==============================] - 25s 63ms/step - loss: 0.0170 - accuracy: 0.9955 - val_loss: 10.5788 - val_accuracy: 0.6949\n",
      "Epoch 93/100\n",
      "394/394 [==============================] - 24s 62ms/step - loss: 0.0174 - accuracy: 0.9952 - val_loss: 8.0171 - val_accuracy: 0.6933\n",
      "Epoch 94/100\n",
      "394/394 [==============================] - 25s 63ms/step - loss: 0.0167 - accuracy: 0.9956 - val_loss: 8.9302 - val_accuracy: 0.6936\n",
      "Epoch 95/100\n",
      "394/394 [==============================] - 25s 62ms/step - loss: 0.0179 - accuracy: 0.9951 - val_loss: 11.1099 - val_accuracy: 0.6914\n",
      "Epoch 96/100\n",
      "394/394 [==============================] - 26s 65ms/step - loss: 0.0163 - accuracy: 0.9955 - val_loss: 7.5057 - val_accuracy: 0.6969\n",
      "Epoch 97/100\n",
      "394/394 [==============================] - 24s 61ms/step - loss: 0.0164 - accuracy: 0.9956 - val_loss: 8.6437 - val_accuracy: 0.6863\n",
      "Epoch 98/100\n",
      "394/394 [==============================] - 25s 63ms/step - loss: 0.0171 - accuracy: 0.9954 - val_loss: 11.3025 - val_accuracy: 0.6891\n",
      "Epoch 99/100\n",
      "394/394 [==============================] - 24s 62ms/step - loss: 0.0160 - accuracy: 0.9956 - val_loss: 11.2956 - val_accuracy: 0.6860\n",
      "Epoch 100/100\n",
      "394/394 [==============================] - 24s 62ms/step - loss: 0.0166 - accuracy: 0.9955 - val_loss: 11.2059 - val_accuracy: 0.6921\n"
     ]
    }
   ],
   "source": [
    "optimizer = keras.optimizers.Adam(learning_rate=1e-3)\n",
    "\n",
    "CNN.compile(\n",
    "    loss='sparse_categorical_crossentropy',\n",
    "    optimizer=optimizer,\n",
    "    metrics=['accuracy'],\n",
    ")\n",
    "history = CNN.fit(\n",
    "    X_train,\n",
    "    y_train,\n",
    "    epochs=EPOCHS,\n",
    "    batch_size=256,\n",
    "    validation_data=(X_test, y_test),\n",
    "    verbose=1,\n",
    ")"
   ]
  },
  {
   "cell_type": "code",
   "execution_count": 170,
   "id": "70de8d27-4ff5-4dce-b45f-675dcc74513e",
   "metadata": {
    "colab": {
     "base_uri": "https://localhost:8080/"
    },
    "id": "70de8d27-4ff5-4dce-b45f-675dcc74513e",
    "outputId": "7211ef5c-5b4a-4afb-ad4f-7341eeb8f0f8"
   },
   "outputs": [],
   "source": [
    "# from functools import partial\n",
    "\n",
    "\n",
    "\n",
    "# _, num_time, num_feat = X_train.shape\n",
    "\n",
    "# activation = 'selu'\n",
    "\n",
    "# DefaultConv1D = partial(\n",
    "#     keras.layers.Conv1D,\n",
    "#     kernel_size=1,\n",
    "#     activation=activation,\n",
    "#     padding=\"valid\",\n",
    "# )\n",
    "\n",
    "# model = keras.models.Sequential([\n",
    "#     DefaultConv1D(4 * num_feat, kernel_size=2, input_shape=[num_time, num_feat]),\n",
    "#     keras.layers.BatchNormalization(),\n",
    "#     DefaultConv1D(num_feat, kernel_size=2),\n",
    "#     keras.layers.Flatten(),\n",
    "#     keras.layers.BatchNormalization(),\n",
    "#     keras.layers.Dense(num_time * num_feat, activation=activation),\n",
    "#     keras.layers.BatchNormalization(),\n",
    "#     keras.layers.Dense(num_feat, activation=activation),\n",
    "#     keras.layers.BatchNormalization(),\n",
    "#     keras.layers.Dense(5, activation='softmax'),\n",
    "# ])\n",
    "\n",
    "# optimizer = keras.optimizers.Adam(learning_rate=1e-3)\n",
    "\n",
    "# model.compile(\n",
    "#     loss='sparse_categorical_crossentropy',\n",
    "#     optimizer=optimizer,\n",
    "#     metrics=['accuracy'],\n",
    "# )\n",
    "\n",
    "# history = model.fit(\n",
    "#     X_train,\n",
    "#     y_train,\n",
    "#     epochs=EPOCHS,\n",
    "#     batch_size=BATCH_SIZE,\n",
    "#     validation_data=(X_test, y_test),\n",
    "#     verbose=1,\n",
    "# )"
   ]
  },
  {
   "cell_type": "code",
   "execution_count": 171,
   "id": "bed79725-2bb3-47ce-b06c-333c662b30bf",
   "metadata": {
    "colab": {
     "base_uri": "https://localhost:8080/",
     "height": 282
    },
    "id": "bed79725-2bb3-47ce-b06c-333c662b30bf",
    "outputId": "4354cc75-e44d-4d2a-ac4b-c55a4b3a9305"
   },
   "outputs": [
    {
     "data": {
      "text/plain": [
       "[<matplotlib.lines.Line2D at 0x7f7d0db75af0>]"
      ]
     },
     "execution_count": 171,
     "metadata": {},
     "output_type": "execute_result"
    },
    {
     "data": {
      "image/png": "[encoded data removed]",
      "text/plain": [
       "<Figure size 432x288 with 1 Axes>"
      ]
     },
     "metadata": {
      "needs_background": "light"
     },
     "output_type": "display_data"
    }
   ],
   "source": [
    "plt.plot(history.history['accuracy'])\n",
    "plt.plot(history.history['val_accuracy'])"
   ]
  },
  {
   "cell_type": "code",
   "execution_count": 172,
   "id": "3b65d81f-3d75-43d1-9e2d-88cef69d110b",
   "metadata": {
    "colab": {
     "base_uri": "https://localhost:8080/",
     "height": 265
    },
    "id": "3b65d81f-3d75-43d1-9e2d-88cef69d110b",
    "outputId": "97e18fb9-4340-478c-e307-82c03282e9cc"
   },
   "outputs": [
    {
     "data": {
      "image/png": "[encoded data removed]",
      "text/plain": [
       "<Figure size 432x288 with 1 Axes>"
      ]
     },
     "metadata": {
      "needs_background": "light"
     },
     "output_type": "display_data"
    }
   ],
   "source": [
    "plt.plot(history.history['loss'][10:])\n",
    "plt.plot(history.history['val_loss'][10:])\n",
    "plt.yscale('log')"
   ]
  },
  {
   "cell_type": "code",
   "execution_count": 173,
   "id": "8a964a60-488a-431e-8bcc-586e90d8956b",
   "metadata": {
    "id": "8a964a60-488a-431e-8bcc-586e90d8956b"
   },
   "outputs": [
    {
     "name": "stdout",
     "output_type": "stream",
     "text": [
      "1050/1050 [==============================] - 3s 3ms/step\n"
     ]
    }
   ],
   "source": [
    "y_pred = CNN.predict(X_test)"
   ]
  },
  {
   "cell_type": "code",
   "execution_count": 174,
   "id": "d7C0QyTLHO8q",
   "metadata": {
    "colab": {
     "base_uri": "https://localhost:8080/"
    },
    "id": "d7C0QyTLHO8q",
    "outputId": "78587010-2aa8-4cc7-e82f-7c40e11ce705"
   },
   "outputs": [
    {
     "data": {
      "text/plain": [
       "array([[9.3422718e-17, 7.9088127e-23, 1.6118075e-37, 1.9325256e-32,\n",
       "        1.0000000e+00],\n",
       "       [1.1884040e-15, 2.5733334e-22, 1.9511796e-30, 6.6525110e-27,\n",
       "        1.0000000e+00],\n",
       "       [8.0629307e-01, 8.8372991e-07, 3.5129901e-29, 1.4070981e-18,\n",
       "        1.9370605e-01],\n",
       "       ...,\n",
       "       [9.9998796e-01, 2.5313713e-07, 9.7927898e-07, 1.0873576e-05,\n",
       "        1.3803232e-09],\n",
       "       [2.8273361e-03, 3.4455301e-09, 9.9713433e-01, 3.8214635e-05,\n",
       "        9.7941546e-17],\n",
       "       [1.3140510e-27, 1.0286960e-33, 0.0000000e+00, 5.9061072e-35,\n",
       "        1.0000000e+00]], dtype=float32)"
      ]
     },
     "execution_count": 174,
     "metadata": {},
     "output_type": "execute_result"
    }
   ],
   "source": [
    "y_pred"
   ]
  },
  {
   "cell_type": "code",
   "execution_count": 175,
   "id": "1ljWvGo9skgS",
   "metadata": {
    "id": "1ljWvGo9skgS"
   },
   "outputs": [],
   "source": [
    "y_pred= np.argmax(y_pred, axis=1)"
   ]
  },
  {
   "cell_type": "code",
   "execution_count": 176,
   "id": "BIninuG_Hixu",
   "metadata": {
    "colab": {
     "base_uri": "https://localhost:8080/"
    },
    "id": "BIninuG_Hixu",
    "outputId": "8d52a3ce-46d5-41c3-f339-ec8e2feee684"
   },
   "outputs": [
    {
     "data": {
      "text/plain": [
       "array([4, 4, 0, ..., 0, 2, 4])"
      ]
     },
     "execution_count": 176,
     "metadata": {},
     "output_type": "execute_result"
    }
   ],
   "source": [
    "y_pred"
   ]
  },
  {
   "cell_type": "code",
   "execution_count": 177,
   "id": "3NzoyhrD4tO9",
   "metadata": {
    "colab": {
     "base_uri": "https://localhost:8080/"
    },
    "id": "3NzoyhrD4tO9",
    "outputId": "da09ab77-c439-431e-82a8-93fc98f20b49"
   },
   "outputs": [
    {
     "data": {
      "text/plain": [
       "4"
      ]
     },
     "execution_count": 177,
     "metadata": {},
     "output_type": "execute_result"
    }
   ],
   "source": [
    "y_pred[0]"
   ]
  },
  {
   "cell_type": "code",
   "execution_count": 178,
   "id": "48c3e9c7-2bc3-479a-8af1-bf35d87f3e57",
   "metadata": {
    "id": "48c3e9c7-2bc3-479a-8af1-bf35d87f3e57"
   },
   "outputs": [],
   "source": [
    "df = pd.DataFrame({\n",
    "    'y_test': y_test.ravel().astype(int).tolist(),\n",
    "    'y_pred': y_pred.ravel().astype(int).tolist(),\n",
    "})"
   ]
  },
  {
   "cell_type": "code",
   "execution_count": 179,
   "id": "18cfafbe-dafb-4a9e-8873-7f96e71f80b8",
   "metadata": {
    "colab": {
     "base_uri": "https://localhost:8080/",
     "height": 175
    },
    "id": "18cfafbe-dafb-4a9e-8873-7f96e71f80b8",
    "outputId": "aa49cb9d-c88e-437b-9a31-2809577d1da1"
   },
   "outputs": [
    {
     "data": {
      "text/html": [
       "<div>\n",
       "<style scoped>\n",
       "    .dataframe tbody tr th:only-of-type {\n",
       "        vertical-align: middle;\n",
       "    }\n",
       "\n",
       "    .dataframe tbody tr th {\n",
       "        vertical-align: top;\n",
       "    }\n",
       "\n",
       "    .dataframe thead th {\n",
       "        text-align: right;\n",
       "    }\n",
       "</style>\n",
       "<table border=\"1\" class=\"dataframe\">\n",
       "  <thead>\n",
       "    <tr style=\"text-align: right;\">\n",
       "      <th>y_pred</th>\n",
       "      <th>0</th>\n",
       "      <th>1</th>\n",
       "      <th>2</th>\n",
       "      <th>3</th>\n",
       "      <th>4</th>\n",
       "    </tr>\n",
       "    <tr>\n",
       "      <th>y_test</th>\n",
       "      <th></th>\n",
       "      <th></th>\n",
       "      <th></th>\n",
       "      <th></th>\n",
       "      <th></th>\n",
       "    </tr>\n",
       "  </thead>\n",
       "  <tbody>\n",
       "    <tr>\n",
       "      <th>0</th>\n",
       "      <td>4197</td>\n",
       "      <td>0</td>\n",
       "      <td>0</td>\n",
       "      <td>47</td>\n",
       "      <td>10151</td>\n",
       "    </tr>\n",
       "    <tr>\n",
       "      <th>1</th>\n",
       "      <td>64</td>\n",
       "      <td>4729</td>\n",
       "      <td>1</td>\n",
       "      <td>0</td>\n",
       "      <td>1</td>\n",
       "    </tr>\n",
       "    <tr>\n",
       "      <th>2</th>\n",
       "      <td>50</td>\n",
       "      <td>0</td>\n",
       "      <td>4745</td>\n",
       "      <td>0</td>\n",
       "      <td>0</td>\n",
       "    </tr>\n",
       "    <tr>\n",
       "      <th>3</th>\n",
       "      <td>24</td>\n",
       "      <td>0</td>\n",
       "      <td>0</td>\n",
       "      <td>4771</td>\n",
       "      <td>0</td>\n",
       "    </tr>\n",
       "    <tr>\n",
       "      <th>4</th>\n",
       "      <td>0</td>\n",
       "      <td>0</td>\n",
       "      <td>0</td>\n",
       "      <td>0</td>\n",
       "      <td>4795</td>\n",
       "    </tr>\n",
       "  </tbody>\n",
       "</table>\n",
       "</div>"
      ],
      "text/plain": [
       "y_pred     0     1     2     3      4\n",
       "y_test                               \n",
       "0       4197     0     0    47  10151\n",
       "1         64  4729     1     0      1\n",
       "2         50     0  4745     0      0\n",
       "3         24     0     0  4771      0\n",
       "4          0     0     0     0   4795"
      ]
     },
     "execution_count": 179,
     "metadata": {},
     "output_type": "execute_result"
    }
   ],
   "source": [
    "pd.crosstab(df['y_test'], df['y_pred'])"
   ]
  },
  {
   "cell_type": "code",
   "execution_count": 180,
   "id": "e192957b-1b16-47c8-89eb-d6e2fb9bde9f",
   "metadata": {
    "id": "e192957b-1b16-47c8-89eb-d6e2fb9bde9f"
   },
   "outputs": [],
   "source": [
    "# model.save('model.h5')"
   ]
  },
  {
   "cell_type": "code",
   "execution_count": 182,
   "id": "vZD1w6TZwk0e",
   "metadata": {
    "id": "vZD1w6TZwk0e"
   },
   "outputs": [],
   "source": [
    "CNN.save('model_funcional_4_direcoes_19_01_2023.h5')"
   ]
  },
  {
   "cell_type": "code",
   "execution_count": null,
   "id": "6413c816",
   "metadata": {},
   "outputs": [],
   "source": []
  },
  {
   "cell_type": "code",
   "execution_count": null,
   "id": "1f112bda",
   "metadata": {},
   "outputs": [],
   "source": []
  }
 ],
 "metadata": {
  "accelerator": "GPU",
  "colab": {
   "provenance": []
  },
  "gpuClass": "standard",
  "kernelspec": {
   "display_name": "Python 3 (ipykernel)",
   "language": "python",
   "name": "python3"
  },
  "language_info": {
   "codemirror_mode": {
    "name": "ipython",
    "version": 3
   },
   "file_extension": ".py",
   "mimetype": "text/x-python",
   "name": "python",
   "nbconvert_exporter": "python",
   "pygments_lexer": "ipython3",
   "version": "3.9.12"
  }
 },
 "nbformat": 4,
 "nbformat_minor": 5
}
