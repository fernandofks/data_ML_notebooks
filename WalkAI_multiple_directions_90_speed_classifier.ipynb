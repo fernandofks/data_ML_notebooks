{
 "cells": [
  {
   "cell_type": "code",
   "execution_count": 1,
   "id": "b41f0b0f-cc96-43a2-ab7f-f3264587e7d2",
   "metadata": {
    "id": "b41f0b0f-cc96-43a2-ab7f-f3264587e7d2"
   },
   "outputs": [],
   "source": [
    "from pathlib import Path\n",
    "import matplotlib.pyplot as plt\n",
    "import numpy as np\n",
    "import pandas as pd\n",
    "import tensorflow as tf\n",
    "import tensorflow.keras as keras\n",
    "from tensorflow.python.keras.layers import Dense\n",
    "from numpy.random import default_rng\n",
    "from sklearn.model_selection import train_test_split"
   ]
  },
  {
   "cell_type": "code",
   "execution_count": 2,
   "id": "c9e9560b-749a-49a8-aedf-44a1ac9b4bb1",
   "metadata": {
    "id": "c9e9560b-749a-49a8-aedf-44a1ac9b4bb1"
   },
   "outputs": [],
   "source": [
    "# Loading pipeline params.\n",
    "DATA_PATH = Path('data')\n",
    "FILENAME_STOP = 'stop_90_diff_quat.csv'\n",
    "FILENAME_0 = '0_90_diff_quat.csv'\n",
    "FILENAME_90 = '90_90_diff_quat.csv'\n",
    "FILENAME_180 = '180_90_diff_quat.csv'\n",
    "FILENAME_270 = '270_90_diff_quat.csv'\n",
    "\n",
    "NUM_TIMESTEPS = 6\n",
    "IGNORE_FRACTION = 0.1\n",
    "TEST_FRACTION = 0.25\n",
    "\n",
    "# Training params.\n",
    "LEARNING_RATE = 1e-5\n",
    "EPOCHS = 100\n",
    "BATCH_SIZE = 512"
   ]
  },
  {
   "cell_type": "code",
   "execution_count": 3,
   "id": "7f52716d-1339-4484-9fd3-d5206979ba8e",
   "metadata": {
    "id": "7f52716d-1339-4484-9fd3-d5206979ba8e"
   },
   "outputs": [],
   "source": [
    "def load_data(\n",
    "    path_stop,\n",
    "    path_0,\n",
    "    path_90,\n",
    "    path_180,\n",
    "    path_270,\n",
    "    num_timesteps,\n",
    "    ignore_fraction,\n",
    "    test_fraction,\n",
    "):\n",
    "\n",
    "    def read_and_prepare_data(\n",
    "        path,\n",
    "        class_,\n",
    "        num_timesteps,\n",
    "        ignore_fraction,\n",
    "        test_fraction,\n",
    "    ):\n",
    "\n",
    "        def split_temporally(X, test_fraction):\n",
    "            num_samples = X.shape[0]\n",
    "            num_train = int(num_samples * (1.0 - test_fraction))\n",
    "            X_train, X_test = X[:num_train], X[num_train:]\n",
    "            return X_train, X_test\n",
    "\n",
    "        def transform_into_sequences(X, num_timesteps):\n",
    "            num_samples = X.shape[0]\n",
    "            X_seq = []\n",
    "            for k in range(num_samples - num_timesteps + 1):\n",
    "                X_seq.append(X[k:(k + num_timesteps)])\n",
    "            X_seq = np.array(X_seq)\n",
    "            y_seq = class_ * np.ones((X_seq.shape[0], 1))\n",
    "            return X_seq, y_seq\n",
    "\n",
    "        X = pd.read_csv(path).values\n",
    "        X = X[:, [0,1,2,7,8,9, 10,11,12,17,18,19]]  # Use only feet translations.\n",
    "\n",
    "        # Ignore beginning and end.\n",
    "        num_samples = X.shape[0]\n",
    "        num_ignore = int(ignore_fraction * num_samples)\n",
    "        X = X[num_ignore:-num_ignore]\n",
    "\n",
    "        # Split X temporally.\n",
    "        X_train, X_test = split_temporally(X, test_fraction)\n",
    "\n",
    "        # Transform X into short sequences.\n",
    "        X_train, y_train = transform_into_sequences(X_train, num_timesteps)\n",
    "        X_test, y_test = transform_into_sequences(X_test, num_timesteps)\n",
    "\n",
    "        return X_train, y_train, X_test, y_test\n",
    "\n",
    "    def shuffle_data(X, y):\n",
    "        idx = np.arange(len(X))\n",
    "        default_rng().shuffle(idx)\n",
    "        X_shuffled = X[idx, :]\n",
    "        y_shuffled = y[idx]\n",
    "        return X_shuffled, y_shuffled\n",
    "\n",
    "    X_train_stop, y_train_stop, X_test_stop, y_test_stop = \\\n",
    "        read_and_prepare_data(\n",
    "            path_stop,\n",
    "            0.0,\n",
    "            num_timesteps,\n",
    "            ignore_fraction,\n",
    "            test_fraction,\n",
    "        )\n",
    "    \n",
    "    X_train_0, y_train_0, X_test_0, y_test_0 = \\\n",
    "        read_and_prepare_data(\n",
    "            path_0,\n",
    "            1.0,\n",
    "            num_timesteps,\n",
    "            ignore_fraction,\n",
    "            test_fraction,\n",
    "        )\n",
    "\n",
    "    X_train_90, y_train_90, X_test_90, y_test_90 = \\\n",
    "        read_and_prepare_data(\n",
    "            path_90,\n",
    "            2.0,\n",
    "            num_timesteps,\n",
    "            ignore_fraction,\n",
    "            test_fraction,\n",
    "        )\n",
    "    \n",
    "    X_train_180, y_train_180, X_test_180, y_test_180 = \\\n",
    "        read_and_prepare_data(\n",
    "            path_180,\n",
    "            3.0,\n",
    "            num_timesteps,\n",
    "            ignore_fraction,\n",
    "            test_fraction,\n",
    "        )\n",
    "    \n",
    "    X_train_270, y_train_270, X_test_270, y_test_270 = \\\n",
    "        read_and_prepare_data(\n",
    "            path_270,\n",
    "            4.0,\n",
    "            num_timesteps,\n",
    "            ignore_fraction,\n",
    "            test_fraction,\n",
    "        )\n",
    "\n",
    "    X_train = np.concatenate((X_train_stop, X_train_0, X_train_90, X_train_180, X_train_270), axis=0)\n",
    "    y_train = np.concatenate((y_train_stop, y_train_0, y_train_90, y_train_180, y_train_270), axis=0)\n",
    "    X_test = np.concatenate((X_test_stop, X_test_0, X_test_90, X_test_180, X_test_270), axis=0)\n",
    "    y_test = np.concatenate((y_test_stop, y_test_0, y_test_90, y_test_180, y_test_270), axis=0)\n",
    "\n",
    "    X_train, y_train = shuffle_data(X_train, y_train)\n",
    "    X_test, y_test = shuffle_data(X_test, y_test)\n",
    "\n",
    "    return X_train, X_test, y_train, y_test\n",
    "\n",
    "\n",
    "path_stop = Path(DATA_PATH, FILENAME_STOP)\n",
    "path_0 = Path(DATA_PATH, FILENAME_0)\n",
    "path_90 = Path(DATA_PATH, FILENAME_90)\n",
    "path_180 = Path(DATA_PATH, FILENAME_180)\n",
    "path_270 = Path(DATA_PATH, FILENAME_270)\n",
    "\n",
    "X_train, X_test, y_train, y_test = load_data(\n",
    "    path_stop,\n",
    "    path_0,\n",
    "    path_90,\n",
    "    path_180,\n",
    "    path_270,\n",
    "    NUM_TIMESTEPS,\n",
    "    IGNORE_FRACTION,\n",
    "    TEST_FRACTION,\n",
    ")"
   ]
  },
  {
   "cell_type": "code",
   "execution_count": 4,
   "id": "99c35712-1089-44f3-89ef-ed471b144c96",
   "metadata": {
    "colab": {
     "base_uri": "https://localhost:8080/"
    },
    "id": "99c35712-1089-44f3-89ef-ed471b144c96",
    "outputId": "9076061a-8661-4d2e-c1ed-887a92ec640b"
   },
   "outputs": [
    {
     "data": {
      "text/plain": [
       "((100765, 6, 12), (100765, 1), (33573, 6, 12), (33573, 1))"
      ]
     },
     "execution_count": 4,
     "metadata": {},
     "output_type": "execute_result"
    }
   ],
   "source": [
    "X_train.shape, y_train.shape, X_test.shape, y_test.shape"
   ]
  },
  {
   "cell_type": "code",
   "execution_count": 5,
   "id": "VqSuqgBCB_nA",
   "metadata": {
    "colab": {
     "base_uri": "https://localhost:8080/"
    },
    "id": "VqSuqgBCB_nA",
    "outputId": "26d50bbe-3fd3-4bed-e70e-7003d289c5d6"
   },
   "outputs": [
    {
     "data": {
      "text/plain": [
       "(6, 12)"
      ]
     },
     "execution_count": 5,
     "metadata": {},
     "output_type": "execute_result"
    }
   ],
   "source": [
    "X_test[60].shape\n"
   ]
  },
  {
   "cell_type": "code",
   "execution_count": null,
   "id": "dye8vjENBtXX",
   "metadata": {
    "id": "dye8vjENBtXX"
   },
   "outputs": [],
   "source": []
  },
  {
   "cell_type": "code",
   "execution_count": null,
   "id": "-3TttkaRCM4l",
   "metadata": {
    "id": "-3TttkaRCM4l"
   },
   "outputs": [],
   "source": []
  },
  {
   "cell_type": "code",
   "execution_count": 79,
   "id": "3a85634b-4e9c-45b8-b456-cb970457302f",
   "metadata": {
    "id": "3a85634b-4e9c-45b8-b456-cb970457302f"
   },
   "outputs": [
    {
     "name": "stdout",
     "output_type": "stream",
     "text": [
      "Model: \"Sequential_CNN\"\n",
      "_________________________________________________________________\n",
      " Layer (type)                Output Shape              Param #   \n",
      "=================================================================\n",
      " conv2d_69 (Conv2D)          (None, 3, 6, 256)         4352      \n",
      "                                                                 \n",
      " max_pooling2d_68 (MaxPoolin  (None, 2, 5, 256)        0         \n",
      " g2D)                                                            \n",
      "                                                                 \n",
      " flatten_23 (Flatten)        (None, 2560)              0         \n",
      "                                                                 \n",
      " dense_72 (Dense)            (None, 64)                163904    \n",
      "                                                                 \n",
      " dense_73 (Dense)            (None, 32)                2080      \n",
      "                                                                 \n",
      " dense_74 (Dense)            (None, 5)                 165       \n",
      "                                                                 \n",
      "=================================================================\n",
      "Total params: 170,501\n",
      "Trainable params: 170,501\n",
      "Non-trainable params: 0\n",
      "_________________________________________________________________\n"
     ]
    }
   ],
   "source": [
    "from tensorflow.keras.models import Sequential\n",
    "from tensorflow.keras.layers import Conv2D, MaxPooling2D, Flatten, Dense\n",
    "\n",
    "CNN = Sequential(name=\"Sequential_CNN\")\n",
    "\n",
    "CNN.add(Conv2D(256, kernel_size=(4, 4),\n",
    "               strides=(2, 2), padding=\"same\",\n",
    "               activation=\"selu\", input_shape=[6, 12, 1]))\n",
    "\n",
    "CNN.add(MaxPooling2D(pool_size=(2, 2), strides=(1, 1),\n",
    "                     padding=\"valid\"))\n",
    "\n",
    "# Add another pair of Conv2D and MaxPooling2D for more model depth,\n",
    "# followed by the flatten and multiple dense layers\n",
    "\n",
    "# CNN.add(Conv2D(64, kernel_size=(3, 3),\n",
    "#                strides=(1, 1), padding=\"same\",\n",
    "#                activation=\"selu\"))\n",
    "\n",
    "# CNN.add(MaxPooling2D(pool_size=(2, 2), strides=(1, 1),\n",
    "#                      padding=\"valid\"))\n",
    "\n",
    "CNN.add(Flatten())\n",
    "\n",
    "CNN.add(Dense(64, activation='selu'))\n",
    "CNN.add(Dense(32, activation='selu'))\n",
    "CNN.add(Dense(5, activation='softmax'))\n",
    "\n",
    "CNN.summary()\n",
    "\n",
    "\n",
    "# from functools import partial\n",
    "\n",
    "# _, num_time, num_feat = X_train.shape\n",
    "\n",
    "# activation = 'selu'\n",
    "\n",
    "# DefaultConv1D = partial(\n",
    "#     keras.layers.Conv1D,\n",
    "#     kernel_size=1,\n",
    "#     activation=activation,\n",
    "#     padding=\"valid\",\n",
    "# )\n",
    "\n",
    "# model = keras.models.Sequential([\n",
    "#     DefaultConv1D(4 * num_feat, kernel_size=4, input_shape=[num_time, num_feat]),\n",
    "#     keras.layers.BatchNormalization(),\n",
    "#     DefaultConv1D(num_feat, kernel_size=2),\n",
    "#     keras.layers.Flatten(),\n",
    "#     keras.layers.BatchNormalization(),\n",
    "#     keras.layers.Dense(num_time * num_feat, activation=activation),\n",
    "#     keras.layers.BatchNormalization(),\n",
    "#     keras.layers.Dense(num_feat, activation=activation),\n",
    "#     keras.layers.BatchNormalization(),\n",
    "#     keras.layers.Dense(5, activation='softmax'),\n",
    "# ])"
   ]
  },
  {
   "cell_type": "code",
   "execution_count": null,
   "id": "j0C2RSxICKzq",
   "metadata": {
    "colab": {
     "base_uri": "https://localhost:8080/"
    },
    "id": "j0C2RSxICKzq",
    "outputId": "af853522-fdf6-40e4-8d0e-cd2a6dcdab9b"
   },
   "outputs": [],
   "source": []
  },
  {
   "cell_type": "code",
   "execution_count": 80,
   "id": "911581af",
   "metadata": {},
   "outputs": [],
   "source": [
    "from numpy import *\n",
    "where_are_NaNsx = isnan(X_train)\n",
    "X_train[where_are_NaNsx] = 0\n",
    "\n",
    "where_are_NaNsy = isnan(y_train)\n",
    "y_train[where_are_NaNsy] = 0\n",
    "\n",
    "where_are_NaNsxt = isnan(X_test)\n",
    "X_test[where_are_NaNsxt] = 0\n",
    "\n",
    "where_are_NaNsyt = isnan(y_test)\n",
    "y_test[where_are_NaNsyt] = 0"
   ]
  },
  {
   "cell_type": "code",
   "execution_count": 81,
   "id": "7baf8970-5318-4461-b828-d34c232afa5f",
   "metadata": {
    "colab": {
     "base_uri": "https://localhost:8080/"
    },
    "id": "7baf8970-5318-4461-b828-d34c232afa5f",
    "outputId": "08a66cc8-aeee-42ba-f039-9dfa2ba6f99e"
   },
   "outputs": [
    {
     "name": "stdout",
     "output_type": "stream",
     "text": [
      "Epoch 1/100\n",
      "394/394 [==============================] - 9s 22ms/step - loss: 0.8919 - accuracy: 0.5432 - val_loss: 0.5903 - val_accuracy: 0.6937\n",
      "Epoch 2/100\n",
      "394/394 [==============================] - 9s 23ms/step - loss: 0.6430 - accuracy: 0.7276 - val_loss: 0.3939 - val_accuracy: 0.8372\n",
      "Epoch 3/100\n",
      "394/394 [==============================] - 9s 23ms/step - loss: 0.4799 - accuracy: 0.8120 - val_loss: 0.3057 - val_accuracy: 0.8722\n",
      "Epoch 4/100\n",
      "394/394 [==============================] - 9s 22ms/step - loss: 0.4015 - accuracy: 0.8478 - val_loss: 0.2634 - val_accuracy: 0.8934\n",
      "Epoch 5/100\n",
      "394/394 [==============================] - 9s 23ms/step - loss: 0.3429 - accuracy: 0.8692 - val_loss: 0.2234 - val_accuracy: 0.9029\n",
      "Epoch 6/100\n",
      "394/394 [==============================] - 9s 22ms/step - loss: 0.2930 - accuracy: 0.8891 - val_loss: 0.2035 - val_accuracy: 0.9065\n",
      "Epoch 7/100\n",
      "394/394 [==============================] - 9s 22ms/step - loss: 0.2759 - accuracy: 0.8957 - val_loss: 0.1898 - val_accuracy: 0.9128\n",
      "Epoch 8/100\n",
      "394/394 [==============================] - 9s 22ms/step - loss: 0.2499 - accuracy: 0.9063 - val_loss: 0.1701 - val_accuracy: 0.9247\n",
      "Epoch 9/100\n",
      "394/394 [==============================] - 9s 22ms/step - loss: 0.2293 - accuracy: 0.9133 - val_loss: 0.1717 - val_accuracy: 0.9282\n",
      "Epoch 10/100\n",
      "394/394 [==============================] - 9s 23ms/step - loss: 0.2173 - accuracy: 0.9160 - val_loss: 0.1596 - val_accuracy: 0.9293\n",
      "Epoch 11/100\n",
      "394/394 [==============================] - 9s 22ms/step - loss: 0.2015 - accuracy: 0.9237 - val_loss: 0.1426 - val_accuracy: 0.9338\n",
      "Epoch 12/100\n",
      "394/394 [==============================] - 9s 22ms/step - loss: 0.2078 - accuracy: 0.9207 - val_loss: 0.1402 - val_accuracy: 0.9366\n",
      "Epoch 13/100\n",
      "394/394 [==============================] - 9s 22ms/step - loss: 0.1918 - accuracy: 0.9261 - val_loss: 0.1561 - val_accuracy: 0.9376\n",
      "Epoch 14/100\n",
      "394/394 [==============================] - 9s 22ms/step - loss: 0.1826 - accuracy: 0.9293 - val_loss: 0.1390 - val_accuracy: 0.9386\n",
      "Epoch 15/100\n",
      "394/394 [==============================] - 9s 22ms/step - loss: 0.1806 - accuracy: 0.9318 - val_loss: 0.1414 - val_accuracy: 0.9319\n",
      "Epoch 16/100\n",
      "394/394 [==============================] - 9s 22ms/step - loss: 0.1676 - accuracy: 0.9349 - val_loss: 0.1256 - val_accuracy: 0.9408\n",
      "Epoch 17/100\n",
      "394/394 [==============================] - 9s 22ms/step - loss: 0.1622 - accuracy: 0.9362 - val_loss: 0.1230 - val_accuracy: 0.9417\n",
      "Epoch 18/100\n",
      "394/394 [==============================] - 9s 22ms/step - loss: 0.1920 - accuracy: 0.9310 - val_loss: 0.1207 - val_accuracy: 0.9428\n",
      "Epoch 19/100\n",
      "394/394 [==============================] - 9s 22ms/step - loss: 0.1610 - accuracy: 0.9389 - val_loss: 0.1277 - val_accuracy: 0.9409\n",
      "Epoch 20/100\n",
      "394/394 [==============================] - 9s 23ms/step - loss: 0.1540 - accuracy: 0.9396 - val_loss: 0.1170 - val_accuracy: 0.9421\n",
      "Epoch 21/100\n",
      "394/394 [==============================] - 9s 23ms/step - loss: 0.1490 - accuracy: 0.9423 - val_loss: 0.1147 - val_accuracy: 0.9423\n",
      "Epoch 22/100\n",
      "394/394 [==============================] - 10s 25ms/step - loss: 0.1455 - accuracy: 0.9435 - val_loss: 0.1210 - val_accuracy: 0.9412\n",
      "Epoch 23/100\n",
      "394/394 [==============================] - 10s 25ms/step - loss: 0.1599 - accuracy: 0.9380 - val_loss: 0.1267 - val_accuracy: 0.9400\n",
      "Epoch 24/100\n",
      "394/394 [==============================] - 9s 22ms/step - loss: 0.1390 - accuracy: 0.9450 - val_loss: 0.1077 - val_accuracy: 0.9461\n",
      "Epoch 25/100\n",
      "394/394 [==============================] - 9s 22ms/step - loss: 0.1337 - accuracy: 0.9470 - val_loss: 0.1143 - val_accuracy: 0.9440\n",
      "Epoch 26/100\n",
      "394/394 [==============================] - 9s 22ms/step - loss: 0.1349 - accuracy: 0.9456 - val_loss: 0.1440 - val_accuracy: 0.9396\n",
      "Epoch 27/100\n",
      "394/394 [==============================] - 9s 22ms/step - loss: 0.1469 - accuracy: 0.9422 - val_loss: 0.1267 - val_accuracy: 0.9408\n",
      "Epoch 28/100\n",
      "394/394 [==============================] - 9s 22ms/step - loss: 0.1268 - accuracy: 0.9491 - val_loss: 0.1133 - val_accuracy: 0.9478\n",
      "Epoch 29/100\n",
      "394/394 [==============================] - 9s 24ms/step - loss: 0.1294 - accuracy: 0.9488 - val_loss: 0.1251 - val_accuracy: 0.9402\n",
      "Epoch 30/100\n",
      "394/394 [==============================] - 9s 22ms/step - loss: 0.1237 - accuracy: 0.9503 - val_loss: 0.1231 - val_accuracy: 0.9425\n",
      "Epoch 31/100\n",
      "394/394 [==============================] - 9s 22ms/step - loss: 0.1461 - accuracy: 0.9441 - val_loss: 0.1583 - val_accuracy: 0.9270\n",
      "Epoch 32/100\n",
      "394/394 [==============================] - 9s 22ms/step - loss: 0.1298 - accuracy: 0.9497 - val_loss: 0.1073 - val_accuracy: 0.9452\n",
      "Epoch 33/100\n",
      "394/394 [==============================] - 9s 23ms/step - loss: 0.1238 - accuracy: 0.9518 - val_loss: 0.1119 - val_accuracy: 0.9442\n",
      "Epoch 34/100\n",
      "394/394 [==============================] - 9s 23ms/step - loss: 0.1339 - accuracy: 0.9470 - val_loss: 0.1305 - val_accuracy: 0.9430\n",
      "Epoch 35/100\n",
      "394/394 [==============================] - 9s 23ms/step - loss: 0.1191 - accuracy: 0.9523 - val_loss: 0.1075 - val_accuracy: 0.9439\n",
      "Epoch 36/100\n",
      "394/394 [==============================] - 8s 21ms/step - loss: 0.1150 - accuracy: 0.9545 - val_loss: 0.1073 - val_accuracy: 0.9439\n",
      "Epoch 37/100\n",
      "394/394 [==============================] - 9s 22ms/step - loss: 0.1108 - accuracy: 0.9554 - val_loss: 0.1065 - val_accuracy: 0.9479\n",
      "Epoch 38/100\n",
      "394/394 [==============================] - 9s 23ms/step - loss: 0.1132 - accuracy: 0.9544 - val_loss: 0.1037 - val_accuracy: 0.9472\n",
      "Epoch 39/100\n",
      "394/394 [==============================] - 9s 22ms/step - loss: 0.1361 - accuracy: 0.9475 - val_loss: 0.1179 - val_accuracy: 0.9457\n",
      "Epoch 40/100\n",
      "394/394 [==============================] - 9s 22ms/step - loss: 0.1161 - accuracy: 0.9538 - val_loss: 0.1423 - val_accuracy: 0.9393\n",
      "Epoch 41/100\n",
      "394/394 [==============================] - 9s 22ms/step - loss: 0.1085 - accuracy: 0.9553 - val_loss: 0.1051 - val_accuracy: 0.9477\n",
      "Epoch 42/100\n",
      "394/394 [==============================] - 9s 22ms/step - loss: 0.1136 - accuracy: 0.9553 - val_loss: 0.1052 - val_accuracy: 0.9461\n",
      "Epoch 43/100\n",
      "394/394 [==============================] - 9s 22ms/step - loss: 0.1127 - accuracy: 0.9556 - val_loss: 0.1348 - val_accuracy: 0.9473\n",
      "Epoch 44/100\n",
      "394/394 [==============================] - 9s 22ms/step - loss: 0.1098 - accuracy: 0.9560 - val_loss: 0.1039 - val_accuracy: 0.9461\n",
      "Epoch 45/100\n",
      "394/394 [==============================] - 9s 22ms/step - loss: 0.1244 - accuracy: 0.9506 - val_loss: 0.1025 - val_accuracy: 0.9482\n",
      "Epoch 46/100\n",
      "394/394 [==============================] - 9s 22ms/step - loss: 0.1070 - accuracy: 0.9571 - val_loss: 0.1168 - val_accuracy: 0.9451\n",
      "Epoch 47/100\n",
      "394/394 [==============================] - 9s 23ms/step - loss: 0.1049 - accuracy: 0.9579 - val_loss: 0.1088 - val_accuracy: 0.9460\n",
      "Epoch 48/100\n",
      "394/394 [==============================] - 9s 22ms/step - loss: 0.1040 - accuracy: 0.9571 - val_loss: 0.1036 - val_accuracy: 0.9452\n",
      "Epoch 49/100\n",
      "394/394 [==============================] - 9s 22ms/step - loss: 0.1138 - accuracy: 0.9543 - val_loss: 0.1138 - val_accuracy: 0.9442\n",
      "Epoch 50/100\n",
      "394/394 [==============================] - 9s 22ms/step - loss: 0.1010 - accuracy: 0.9574 - val_loss: 0.1030 - val_accuracy: 0.9488\n",
      "Epoch 51/100\n",
      "394/394 [==============================] - 9s 22ms/step - loss: 0.1001 - accuracy: 0.9587 - val_loss: 0.1010 - val_accuracy: 0.9492\n",
      "Epoch 52/100\n",
      "394/394 [==============================] - 9s 22ms/step - loss: 0.1007 - accuracy: 0.9589 - val_loss: 0.1025 - val_accuracy: 0.9482\n",
      "Epoch 53/100\n",
      "394/394 [==============================] - 9s 22ms/step - loss: 0.1310 - accuracy: 0.9551 - val_loss: 0.1993 - val_accuracy: 0.9184\n",
      "Epoch 54/100\n",
      "394/394 [==============================] - 9s 22ms/step - loss: 0.1089 - accuracy: 0.9552 - val_loss: 0.1089 - val_accuracy: 0.9425\n",
      "Epoch 55/100\n",
      "394/394 [==============================] - 9s 24ms/step - loss: 0.1000 - accuracy: 0.9592 - val_loss: 0.1082 - val_accuracy: 0.9444\n",
      "Epoch 56/100\n",
      "394/394 [==============================] - 9s 22ms/step - loss: 0.0972 - accuracy: 0.9594 - val_loss: 0.1068 - val_accuracy: 0.9434\n",
      "Epoch 57/100\n"
     ]
    },
    {
     "name": "stdout",
     "output_type": "stream",
     "text": [
      "394/394 [==============================] - 8s 21ms/step - loss: 0.0963 - accuracy: 0.9595 - val_loss: 0.0914 - val_accuracy: 0.9511\n",
      "Epoch 58/100\n",
      "394/394 [==============================] - 8s 21ms/step - loss: 0.0981 - accuracy: 0.9592 - val_loss: 0.1055 - val_accuracy: 0.9454\n",
      "Epoch 59/100\n",
      "394/394 [==============================] - 8s 21ms/step - loss: 0.0961 - accuracy: 0.9594 - val_loss: 0.1160 - val_accuracy: 0.9396\n",
      "Epoch 60/100\n",
      "394/394 [==============================] - 8s 21ms/step - loss: 0.0932 - accuracy: 0.9605 - val_loss: 0.1037 - val_accuracy: 0.9479\n",
      "Epoch 61/100\n",
      "394/394 [==============================] - 9s 22ms/step - loss: 0.1418 - accuracy: 0.9511 - val_loss: 0.1298 - val_accuracy: 0.9433\n",
      "Epoch 62/100\n",
      "394/394 [==============================] - 9s 22ms/step - loss: 0.1080 - accuracy: 0.9592 - val_loss: 0.1054 - val_accuracy: 0.9477\n",
      "Epoch 63/100\n",
      "394/394 [==============================] - 8s 21ms/step - loss: 0.0968 - accuracy: 0.9602 - val_loss: 0.1038 - val_accuracy: 0.9480\n",
      "Epoch 64/100\n",
      "394/394 [==============================] - 8s 21ms/step - loss: 0.0936 - accuracy: 0.9613 - val_loss: 0.1078 - val_accuracy: 0.9504\n",
      "Epoch 65/100\n",
      "394/394 [==============================] - 8s 21ms/step - loss: 0.1182 - accuracy: 0.9546 - val_loss: 0.1304 - val_accuracy: 0.9438\n",
      "Epoch 66/100\n",
      "394/394 [==============================] - 8s 21ms/step - loss: 0.1020 - accuracy: 0.9608 - val_loss: 0.1065 - val_accuracy: 0.9480\n",
      "Epoch 67/100\n",
      "394/394 [==============================] - 9s 22ms/step - loss: 0.0955 - accuracy: 0.9608 - val_loss: 0.1060 - val_accuracy: 0.9478\n",
      "Epoch 68/100\n",
      "394/394 [==============================] - 9s 22ms/step - loss: 0.0960 - accuracy: 0.9609 - val_loss: 0.1087 - val_accuracy: 0.9454\n",
      "Epoch 69/100\n",
      "394/394 [==============================] - 8s 21ms/step - loss: 0.0965 - accuracy: 0.9607 - val_loss: 0.1117 - val_accuracy: 0.9497\n",
      "Epoch 70/100\n",
      "394/394 [==============================] - 9s 22ms/step - loss: 0.1205 - accuracy: 0.9536 - val_loss: 0.1354 - val_accuracy: 0.9425\n",
      "Epoch 71/100\n",
      "394/394 [==============================] - 9s 22ms/step - loss: 0.1093 - accuracy: 0.9597 - val_loss: 0.1132 - val_accuracy: 0.9444\n",
      "Epoch 72/100\n",
      "394/394 [==============================] - 9s 22ms/step - loss: 0.1062 - accuracy: 0.9600 - val_loss: 0.1162 - val_accuracy: 0.9450\n",
      "Epoch 73/100\n",
      "394/394 [==============================] - 9s 22ms/step - loss: 0.0981 - accuracy: 0.9612 - val_loss: 0.1119 - val_accuracy: 0.9447\n",
      "Epoch 74/100\n",
      "394/394 [==============================] - 9s 22ms/step - loss: 0.0919 - accuracy: 0.9619 - val_loss: 0.0972 - val_accuracy: 0.9488\n",
      "Epoch 75/100\n",
      "394/394 [==============================] - 9s 22ms/step - loss: 0.1002 - accuracy: 0.9628 - val_loss: 0.1034 - val_accuracy: 0.9485\n",
      "Epoch 76/100\n",
      "394/394 [==============================] - 9s 22ms/step - loss: 0.0909 - accuracy: 0.9624 - val_loss: 0.1053 - val_accuracy: 0.9489\n",
      "Epoch 77/100\n",
      "394/394 [==============================] - 9s 22ms/step - loss: 0.0965 - accuracy: 0.9617 - val_loss: 0.1062 - val_accuracy: 0.9447\n",
      "Epoch 78/100\n",
      "394/394 [==============================] - 9s 22ms/step - loss: 0.0979 - accuracy: 0.9591 - val_loss: 0.1079 - val_accuracy: 0.9440\n",
      "Epoch 79/100\n",
      "394/394 [==============================] - 9s 22ms/step - loss: 0.0896 - accuracy: 0.9616 - val_loss: 0.1040 - val_accuracy: 0.9481\n",
      "Epoch 80/100\n",
      "394/394 [==============================] - 9s 22ms/step - loss: 0.0860 - accuracy: 0.9627 - val_loss: 0.1066 - val_accuracy: 0.9485\n",
      "Epoch 81/100\n",
      "394/394 [==============================] - 9s 22ms/step - loss: 0.0874 - accuracy: 0.9643 - val_loss: 0.1052 - val_accuracy: 0.9468\n",
      "Epoch 82/100\n",
      "394/394 [==============================] - 9s 22ms/step - loss: 0.0844 - accuracy: 0.9639 - val_loss: 0.1105 - val_accuracy: 0.9453\n",
      "Epoch 83/100\n",
      "394/394 [==============================] - 9s 22ms/step - loss: 0.0822 - accuracy: 0.9648 - val_loss: 0.1078 - val_accuracy: 0.9457\n",
      "Epoch 84/100\n",
      "394/394 [==============================] - 9s 22ms/step - loss: 0.1137 - accuracy: 0.9571 - val_loss: 0.1009 - val_accuracy: 0.9498\n",
      "Epoch 85/100\n",
      "394/394 [==============================] - 9s 22ms/step - loss: 0.0871 - accuracy: 0.9632 - val_loss: 0.1030 - val_accuracy: 0.9505\n",
      "Epoch 86/100\n",
      "394/394 [==============================] - 9s 22ms/step - loss: 0.0839 - accuracy: 0.9643 - val_loss: 0.1063 - val_accuracy: 0.9493\n",
      "Epoch 87/100\n",
      "394/394 [==============================] - 9s 22ms/step - loss: 0.0831 - accuracy: 0.9643 - val_loss: 0.1006 - val_accuracy: 0.9526\n",
      "Epoch 88/100\n",
      "394/394 [==============================] - 9s 22ms/step - loss: 0.0844 - accuracy: 0.9661 - val_loss: 0.1007 - val_accuracy: 0.9519\n",
      "Epoch 89/100\n",
      "394/394 [==============================] - 9s 22ms/step - loss: 0.0860 - accuracy: 0.9644 - val_loss: 0.1041 - val_accuracy: 0.9495\n",
      "Epoch 90/100\n",
      "394/394 [==============================] - 9s 23ms/step - loss: 0.1045 - accuracy: 0.9600 - val_loss: 0.1276 - val_accuracy: 0.9467\n",
      "Epoch 91/100\n",
      "394/394 [==============================] - 9s 22ms/step - loss: 0.0843 - accuracy: 0.9645 - val_loss: 0.1038 - val_accuracy: 0.9493\n",
      "Epoch 92/100\n",
      "394/394 [==============================] - 9s 22ms/step - loss: 0.0808 - accuracy: 0.9656 - val_loss: 0.1150 - val_accuracy: 0.9487\n",
      "Epoch 93/100\n",
      "394/394 [==============================] - 9s 22ms/step - loss: 0.0802 - accuracy: 0.9656 - val_loss: 0.1133 - val_accuracy: 0.9432\n",
      "Epoch 94/100\n",
      "394/394 [==============================] - 9s 22ms/step - loss: 0.0809 - accuracy: 0.9644 - val_loss: 0.1068 - val_accuracy: 0.9513\n",
      "Epoch 95/100\n",
      "394/394 [==============================] - 9s 22ms/step - loss: 0.0793 - accuracy: 0.9658 - val_loss: 0.1045 - val_accuracy: 0.9488\n",
      "Epoch 96/100\n",
      "394/394 [==============================] - 9s 22ms/step - loss: 0.0811 - accuracy: 0.9655 - val_loss: 0.1156 - val_accuracy: 0.9484\n",
      "Epoch 97/100\n",
      "394/394 [==============================] - 9s 24ms/step - loss: 0.0777 - accuracy: 0.9664 - val_loss: 0.1201 - val_accuracy: 0.9474\n",
      "Epoch 98/100\n",
      "394/394 [==============================] - 9s 22ms/step - loss: 0.0810 - accuracy: 0.9662 - val_loss: 0.1038 - val_accuracy: 0.9502\n",
      "Epoch 99/100\n",
      "394/394 [==============================] - 9s 22ms/step - loss: 0.0831 - accuracy: 0.9645 - val_loss: 0.1107 - val_accuracy: 0.9447\n",
      "Epoch 100/100\n",
      "394/394 [==============================] - 9s 23ms/step - loss: 0.0785 - accuracy: 0.9658 - val_loss: 0.1052 - val_accuracy: 0.9499\n"
     ]
    }
   ],
   "source": [
    "optimizer = keras.optimizers.Adam(learning_rate=1e-3)\n",
    "\n",
    "CNN.compile(\n",
    "    loss='sparse_categorical_crossentropy',\n",
    "    optimizer=optimizer,\n",
    "    metrics=['accuracy'],\n",
    ")\n",
    "history = CNN.fit(\n",
    "    X_train,\n",
    "    y_train,\n",
    "    epochs=EPOCHS,\n",
    "    batch_size=256,\n",
    "    validation_data=(X_test, y_test),\n",
    "    verbose=1,\n",
    ")"
   ]
  },
  {
   "cell_type": "code",
   "execution_count": 27,
   "id": "70de8d27-4ff5-4dce-b45f-675dcc74513e",
   "metadata": {
    "colab": {
     "base_uri": "https://localhost:8080/"
    },
    "id": "70de8d27-4ff5-4dce-b45f-675dcc74513e",
    "outputId": "7211ef5c-5b4a-4afb-ad4f-7341eeb8f0f8"
   },
   "outputs": [
    {
     "name": "stdout",
     "output_type": "stream",
     "text": [
      "Epoch 1/100\n",
      "197/197 [==============================] - 3s 9ms/step - loss: 1.1627 - accuracy: 0.4519 - val_loss: 1.1704 - val_accuracy: 0.4840\n",
      "Epoch 2/100\n",
      "197/197 [==============================] - 2s 8ms/step - loss: 0.9600 - accuracy: 0.4939 - val_loss: 0.9308 - val_accuracy: 0.5162\n",
      "Epoch 3/100\n",
      "197/197 [==============================] - 2s 8ms/step - loss: 0.9110 - accuracy: 0.5303 - val_loss: 1.5542 - val_accuracy: 0.4957\n",
      "Epoch 4/100\n",
      "197/197 [==============================] - 2s 8ms/step - loss: 0.8810 - accuracy: 0.5531 - val_loss: 1.3569 - val_accuracy: 0.2676\n",
      "Epoch 5/100\n",
      "197/197 [==============================] - 2s 9ms/step - loss: 0.8284 - accuracy: 0.6041 - val_loss: 0.8046 - val_accuracy: 0.5443\n",
      "Epoch 6/100\n",
      "197/197 [==============================] - 2s 9ms/step - loss: 0.7806 - accuracy: 0.6345 - val_loss: 1.4452 - val_accuracy: 0.5057\n",
      "Epoch 7/100\n",
      "197/197 [==============================] - 2s 10ms/step - loss: 0.7571 - accuracy: 0.6363 - val_loss: 1.2625 - val_accuracy: 0.6197\n",
      "Epoch 8/100\n",
      "197/197 [==============================] - 2s 9ms/step - loss: 0.6947 - accuracy: 0.6681 - val_loss: 1.3051 - val_accuracy: 0.5191\n",
      "Epoch 9/100\n",
      "197/197 [==============================] - 2s 9ms/step - loss: 0.6794 - accuracy: 0.6704 - val_loss: 4.3808 - val_accuracy: 0.2886\n",
      "Epoch 10/100\n",
      "197/197 [==============================] - 2s 9ms/step - loss: 0.6573 - accuracy: 0.6821 - val_loss: 1.1159 - val_accuracy: 0.7046\n",
      "Epoch 11/100\n",
      "197/197 [==============================] - 2s 9ms/step - loss: 0.6185 - accuracy: 0.6935 - val_loss: 5.7409 - val_accuracy: 0.2882\n",
      "Epoch 12/100\n",
      "197/197 [==============================] - 2s 10ms/step - loss: 0.6166 - accuracy: 0.6972 - val_loss: 1.8205 - val_accuracy: 0.3513\n",
      "Epoch 13/100\n",
      "197/197 [==============================] - 2s 9ms/step - loss: 0.5976 - accuracy: 0.7050 - val_loss: 1.6912 - val_accuracy: 0.2990\n",
      "Epoch 14/100\n",
      "197/197 [==============================] - 2s 9ms/step - loss: 0.6121 - accuracy: 0.7042 - val_loss: 1.6611 - val_accuracy: 0.6563\n",
      "Epoch 15/100\n",
      "197/197 [==============================] - 2s 9ms/step - loss: 0.5818 - accuracy: 0.7146 - val_loss: 2.5936 - val_accuracy: 0.6246\n",
      "Epoch 16/100\n",
      "197/197 [==============================] - 2s 10ms/step - loss: 0.5546 - accuracy: 0.7340 - val_loss: 1.7256 - val_accuracy: 0.3801\n",
      "Epoch 17/100\n",
      "197/197 [==============================] - 2s 11ms/step - loss: 0.5454 - accuracy: 0.7426 - val_loss: 3.2380 - val_accuracy: 0.2576\n",
      "Epoch 18/100\n",
      "197/197 [==============================] - 2s 11ms/step - loss: 0.5316 - accuracy: 0.7512 - val_loss: 1.0966 - val_accuracy: 0.6710\n",
      "Epoch 19/100\n",
      "197/197 [==============================] - 2s 9ms/step - loss: 0.5245 - accuracy: 0.7684 - val_loss: 2.2050 - val_accuracy: 0.3732\n",
      "Epoch 20/100\n",
      "197/197 [==============================] - 2s 9ms/step - loss: 0.5352 - accuracy: 0.7618 - val_loss: 1.3665 - val_accuracy: 0.4485\n",
      "Epoch 21/100\n",
      "197/197 [==============================] - 2s 9ms/step - loss: 0.5056 - accuracy: 0.7809 - val_loss: 1.4118 - val_accuracy: 0.3995\n",
      "Epoch 22/100\n",
      "197/197 [==============================] - 2s 9ms/step - loss: 0.5063 - accuracy: 0.7770 - val_loss: 5.1379 - val_accuracy: 0.5185\n",
      "Epoch 23/100\n",
      "197/197 [==============================] - 2s 10ms/step - loss: 0.5295 - accuracy: 0.7746 - val_loss: 2.2054 - val_accuracy: 0.6594\n",
      "Epoch 24/100\n",
      "197/197 [==============================] - 2s 10ms/step - loss: 0.4907 - accuracy: 0.7890 - val_loss: 3.6289 - val_accuracy: 0.5841\n",
      "Epoch 25/100\n",
      "197/197 [==============================] - 2s 9ms/step - loss: 0.4796 - accuracy: 0.7979 - val_loss: 15.5115 - val_accuracy: 0.4888\n",
      "Epoch 26/100\n",
      "197/197 [==============================] - 2s 9ms/step - loss: 0.4721 - accuracy: 0.8022 - val_loss: 4.2592 - val_accuracy: 0.5123\n",
      "Epoch 27/100\n",
      "197/197 [==============================] - 2s 9ms/step - loss: 0.4589 - accuracy: 0.8096 - val_loss: 3.6667 - val_accuracy: 0.2643\n",
      "Epoch 28/100\n",
      "197/197 [==============================] - 2s 9ms/step - loss: 0.4644 - accuracy: 0.8101 - val_loss: 4.2934 - val_accuracy: 0.3062\n",
      "Epoch 29/100\n",
      "197/197 [==============================] - 2s 9ms/step - loss: 0.4402 - accuracy: 0.8184 - val_loss: 4.1833 - val_accuracy: 0.3113\n",
      "Epoch 30/100\n",
      "197/197 [==============================] - 2s 9ms/step - loss: 0.4426 - accuracy: 0.8148 - val_loss: 5.4965 - val_accuracy: 0.3017\n",
      "Epoch 31/100\n",
      "197/197 [==============================] - 2s 9ms/step - loss: 0.4453 - accuracy: 0.8154 - val_loss: 5.5903 - val_accuracy: 0.5592\n",
      "Epoch 32/100\n",
      "197/197 [==============================] - 2s 9ms/step - loss: 0.4346 - accuracy: 0.8231 - val_loss: 0.6410 - val_accuracy: 0.8162\n",
      "Epoch 33/100\n",
      "197/197 [==============================] - 2s 11ms/step - loss: 0.4174 - accuracy: 0.8306 - val_loss: 12.4579 - val_accuracy: 0.2894\n",
      "Epoch 34/100\n",
      "197/197 [==============================] - 2s 11ms/step - loss: 0.4127 - accuracy: 0.8330 - val_loss: 4.8747 - val_accuracy: 0.3542\n",
      "Epoch 35/100\n",
      "197/197 [==============================] - 2s 10ms/step - loss: 0.3983 - accuracy: 0.8401 - val_loss: 3.4905 - val_accuracy: 0.7606\n",
      "Epoch 36/100\n",
      "197/197 [==============================] - 2s 12ms/step - loss: 0.4017 - accuracy: 0.8375 - val_loss: 6.6955 - val_accuracy: 0.3019\n",
      "Epoch 37/100\n",
      "197/197 [==============================] - 2s 9ms/step - loss: 0.4025 - accuracy: 0.8385 - val_loss: 1.4109 - val_accuracy: 0.3650\n",
      "Epoch 38/100\n",
      "197/197 [==============================] - 2s 10ms/step - loss: 0.3879 - accuracy: 0.8447 - val_loss: 1.4650 - val_accuracy: 0.6170\n",
      "Epoch 39/100\n",
      "197/197 [==============================] - 2s 10ms/step - loss: 0.3812 - accuracy: 0.8448 - val_loss: 6.6843 - val_accuracy: 0.3091\n",
      "Epoch 40/100\n",
      "196/197 [============================>.] - ETA: 0s - loss: 0.3806 - accuracy: 0.8448"
     ]
    },
    {
     "ename": "KeyboardInterrupt",
     "evalue": "",
     "output_type": "error",
     "traceback": [
      "\u001b[0;31m---------------------------------------------------------------------------\u001b[0m",
      "\u001b[0;31mKeyboardInterrupt\u001b[0m                         Traceback (most recent call last)",
      "Input \u001b[0;32mIn [27]\u001b[0m, in \u001b[0;36m<cell line: 57>\u001b[0;34m()\u001b[0m\n\u001b[1;32m     49\u001b[0m optimizer \u001b[38;5;241m=\u001b[39m keras\u001b[38;5;241m.\u001b[39moptimizers\u001b[38;5;241m.\u001b[39mAdam(learning_rate\u001b[38;5;241m=\u001b[39m\u001b[38;5;241m1e-3\u001b[39m)\n\u001b[1;32m     51\u001b[0m model\u001b[38;5;241m.\u001b[39mcompile(\n\u001b[1;32m     52\u001b[0m     loss\u001b[38;5;241m=\u001b[39m\u001b[38;5;124m'\u001b[39m\u001b[38;5;124msparse_categorical_crossentropy\u001b[39m\u001b[38;5;124m'\u001b[39m,\n\u001b[1;32m     53\u001b[0m     optimizer\u001b[38;5;241m=\u001b[39moptimizer,\n\u001b[1;32m     54\u001b[0m     metrics\u001b[38;5;241m=\u001b[39m[\u001b[38;5;124m'\u001b[39m\u001b[38;5;124maccuracy\u001b[39m\u001b[38;5;124m'\u001b[39m],\n\u001b[1;32m     55\u001b[0m )\n\u001b[0;32m---> 57\u001b[0m history \u001b[38;5;241m=\u001b[39m \u001b[43mmodel\u001b[49m\u001b[38;5;241;43m.\u001b[39;49m\u001b[43mfit\u001b[49m\u001b[43m(\u001b[49m\n\u001b[1;32m     58\u001b[0m \u001b[43m    \u001b[49m\u001b[43mX_train\u001b[49m\u001b[43m,\u001b[49m\n\u001b[1;32m     59\u001b[0m \u001b[43m    \u001b[49m\u001b[43my_train\u001b[49m\u001b[43m,\u001b[49m\n\u001b[1;32m     60\u001b[0m \u001b[43m    \u001b[49m\u001b[43mepochs\u001b[49m\u001b[38;5;241;43m=\u001b[39;49m\u001b[43mEPOCHS\u001b[49m\u001b[43m,\u001b[49m\n\u001b[1;32m     61\u001b[0m \u001b[43m    \u001b[49m\u001b[43mbatch_size\u001b[49m\u001b[38;5;241;43m=\u001b[39;49m\u001b[43mBATCH_SIZE\u001b[49m\u001b[43m,\u001b[49m\n\u001b[1;32m     62\u001b[0m \u001b[43m    \u001b[49m\u001b[43mvalidation_data\u001b[49m\u001b[38;5;241;43m=\u001b[39;49m\u001b[43m(\u001b[49m\u001b[43mX_test\u001b[49m\u001b[43m,\u001b[49m\u001b[43m \u001b[49m\u001b[43my_test\u001b[49m\u001b[43m)\u001b[49m\u001b[43m,\u001b[49m\n\u001b[1;32m     63\u001b[0m \u001b[43m    \u001b[49m\u001b[43mverbose\u001b[49m\u001b[38;5;241;43m=\u001b[39;49m\u001b[38;5;241;43m1\u001b[39;49m\u001b[43m,\u001b[49m\n\u001b[1;32m     64\u001b[0m \u001b[43m)\u001b[49m\n",
      "File \u001b[0;32m~/opt/anaconda3/lib/python3.9/site-packages/keras/utils/traceback_utils.py:64\u001b[0m, in \u001b[0;36mfilter_traceback.<locals>.error_handler\u001b[0;34m(*args, **kwargs)\u001b[0m\n\u001b[1;32m     62\u001b[0m filtered_tb \u001b[38;5;241m=\u001b[39m \u001b[38;5;28;01mNone\u001b[39;00m\n\u001b[1;32m     63\u001b[0m \u001b[38;5;28;01mtry\u001b[39;00m:\n\u001b[0;32m---> 64\u001b[0m   \u001b[38;5;28;01mreturn\u001b[39;00m \u001b[43mfn\u001b[49m\u001b[43m(\u001b[49m\u001b[38;5;241;43m*\u001b[39;49m\u001b[43margs\u001b[49m\u001b[43m,\u001b[49m\u001b[43m \u001b[49m\u001b[38;5;241;43m*\u001b[39;49m\u001b[38;5;241;43m*\u001b[39;49m\u001b[43mkwargs\u001b[49m\u001b[43m)\u001b[49m\n\u001b[1;32m     65\u001b[0m \u001b[38;5;28;01mexcept\u001b[39;00m \u001b[38;5;167;01mException\u001b[39;00m \u001b[38;5;28;01mas\u001b[39;00m e:  \u001b[38;5;66;03m# pylint: disable=broad-except\u001b[39;00m\n\u001b[1;32m     66\u001b[0m   filtered_tb \u001b[38;5;241m=\u001b[39m _process_traceback_frames(e\u001b[38;5;241m.\u001b[39m__traceback__)\n",
      "File \u001b[0;32m~/opt/anaconda3/lib/python3.9/site-packages/keras/engine/training.py:1445\u001b[0m, in \u001b[0;36mModel.fit\u001b[0;34m(self, x, y, batch_size, epochs, verbose, callbacks, validation_split, validation_data, shuffle, class_weight, sample_weight, initial_epoch, steps_per_epoch, validation_steps, validation_batch_size, validation_freq, max_queue_size, workers, use_multiprocessing)\u001b[0m\n\u001b[1;32m   1431\u001b[0m \u001b[38;5;28;01mif\u001b[39;00m \u001b[38;5;28mgetattr\u001b[39m(\u001b[38;5;28mself\u001b[39m, \u001b[38;5;124m'\u001b[39m\u001b[38;5;124m_eval_data_handler\u001b[39m\u001b[38;5;124m'\u001b[39m, \u001b[38;5;28;01mNone\u001b[39;00m) \u001b[38;5;129;01mis\u001b[39;00m \u001b[38;5;28;01mNone\u001b[39;00m:\n\u001b[1;32m   1432\u001b[0m   \u001b[38;5;28mself\u001b[39m\u001b[38;5;241m.\u001b[39m_eval_data_handler \u001b[38;5;241m=\u001b[39m data_adapter\u001b[38;5;241m.\u001b[39mget_data_handler(\n\u001b[1;32m   1433\u001b[0m       x\u001b[38;5;241m=\u001b[39mval_x,\n\u001b[1;32m   1434\u001b[0m       y\u001b[38;5;241m=\u001b[39mval_y,\n\u001b[0;32m   (...)\u001b[0m\n\u001b[1;32m   1443\u001b[0m       model\u001b[38;5;241m=\u001b[39m\u001b[38;5;28mself\u001b[39m,\n\u001b[1;32m   1444\u001b[0m       steps_per_execution\u001b[38;5;241m=\u001b[39m\u001b[38;5;28mself\u001b[39m\u001b[38;5;241m.\u001b[39m_steps_per_execution)\n\u001b[0;32m-> 1445\u001b[0m val_logs \u001b[38;5;241m=\u001b[39m \u001b[38;5;28;43mself\u001b[39;49m\u001b[38;5;241;43m.\u001b[39;49m\u001b[43mevaluate\u001b[49m\u001b[43m(\u001b[49m\n\u001b[1;32m   1446\u001b[0m \u001b[43m    \u001b[49m\u001b[43mx\u001b[49m\u001b[38;5;241;43m=\u001b[39;49m\u001b[43mval_x\u001b[49m\u001b[43m,\u001b[49m\n\u001b[1;32m   1447\u001b[0m \u001b[43m    \u001b[49m\u001b[43my\u001b[49m\u001b[38;5;241;43m=\u001b[39;49m\u001b[43mval_y\u001b[49m\u001b[43m,\u001b[49m\n\u001b[1;32m   1448\u001b[0m \u001b[43m    \u001b[49m\u001b[43msample_weight\u001b[49m\u001b[38;5;241;43m=\u001b[39;49m\u001b[43mval_sample_weight\u001b[49m\u001b[43m,\u001b[49m\n\u001b[1;32m   1449\u001b[0m \u001b[43m    \u001b[49m\u001b[43mbatch_size\u001b[49m\u001b[38;5;241;43m=\u001b[39;49m\u001b[43mvalidation_batch_size\u001b[49m\u001b[43m \u001b[49m\u001b[38;5;129;43;01mor\u001b[39;49;00m\u001b[43m \u001b[49m\u001b[43mbatch_size\u001b[49m\u001b[43m,\u001b[49m\n\u001b[1;32m   1450\u001b[0m \u001b[43m    \u001b[49m\u001b[43msteps\u001b[49m\u001b[38;5;241;43m=\u001b[39;49m\u001b[43mvalidation_steps\u001b[49m\u001b[43m,\u001b[49m\n\u001b[1;32m   1451\u001b[0m \u001b[43m    \u001b[49m\u001b[43mcallbacks\u001b[49m\u001b[38;5;241;43m=\u001b[39;49m\u001b[43mcallbacks\u001b[49m\u001b[43m,\u001b[49m\n\u001b[1;32m   1452\u001b[0m \u001b[43m    \u001b[49m\u001b[43mmax_queue_size\u001b[49m\u001b[38;5;241;43m=\u001b[39;49m\u001b[43mmax_queue_size\u001b[49m\u001b[43m,\u001b[49m\n\u001b[1;32m   1453\u001b[0m \u001b[43m    \u001b[49m\u001b[43mworkers\u001b[49m\u001b[38;5;241;43m=\u001b[39;49m\u001b[43mworkers\u001b[49m\u001b[43m,\u001b[49m\n\u001b[1;32m   1454\u001b[0m \u001b[43m    \u001b[49m\u001b[43muse_multiprocessing\u001b[49m\u001b[38;5;241;43m=\u001b[39;49m\u001b[43muse_multiprocessing\u001b[49m\u001b[43m,\u001b[49m\n\u001b[1;32m   1455\u001b[0m \u001b[43m    \u001b[49m\u001b[43mreturn_dict\u001b[49m\u001b[38;5;241;43m=\u001b[39;49m\u001b[38;5;28;43;01mTrue\u001b[39;49;00m\u001b[43m,\u001b[49m\n\u001b[1;32m   1456\u001b[0m \u001b[43m    \u001b[49m\u001b[43m_use_cached_eval_dataset\u001b[49m\u001b[38;5;241;43m=\u001b[39;49m\u001b[38;5;28;43;01mTrue\u001b[39;49;00m\u001b[43m)\u001b[49m\n\u001b[1;32m   1457\u001b[0m val_logs \u001b[38;5;241m=\u001b[39m {\u001b[38;5;124m'\u001b[39m\u001b[38;5;124mval_\u001b[39m\u001b[38;5;124m'\u001b[39m \u001b[38;5;241m+\u001b[39m name: val \u001b[38;5;28;01mfor\u001b[39;00m name, val \u001b[38;5;129;01min\u001b[39;00m val_logs\u001b[38;5;241m.\u001b[39mitems()}\n\u001b[1;32m   1458\u001b[0m epoch_logs\u001b[38;5;241m.\u001b[39mupdate(val_logs)\n",
      "File \u001b[0;32m~/opt/anaconda3/lib/python3.9/site-packages/keras/utils/traceback_utils.py:64\u001b[0m, in \u001b[0;36mfilter_traceback.<locals>.error_handler\u001b[0;34m(*args, **kwargs)\u001b[0m\n\u001b[1;32m     62\u001b[0m filtered_tb \u001b[38;5;241m=\u001b[39m \u001b[38;5;28;01mNone\u001b[39;00m\n\u001b[1;32m     63\u001b[0m \u001b[38;5;28;01mtry\u001b[39;00m:\n\u001b[0;32m---> 64\u001b[0m   \u001b[38;5;28;01mreturn\u001b[39;00m \u001b[43mfn\u001b[49m\u001b[43m(\u001b[49m\u001b[38;5;241;43m*\u001b[39;49m\u001b[43margs\u001b[49m\u001b[43m,\u001b[49m\u001b[43m \u001b[49m\u001b[38;5;241;43m*\u001b[39;49m\u001b[38;5;241;43m*\u001b[39;49m\u001b[43mkwargs\u001b[49m\u001b[43m)\u001b[49m\n\u001b[1;32m     65\u001b[0m \u001b[38;5;28;01mexcept\u001b[39;00m \u001b[38;5;167;01mException\u001b[39;00m \u001b[38;5;28;01mas\u001b[39;00m e:  \u001b[38;5;66;03m# pylint: disable=broad-except\u001b[39;00m\n\u001b[1;32m     66\u001b[0m   filtered_tb \u001b[38;5;241m=\u001b[39m _process_traceback_frames(e\u001b[38;5;241m.\u001b[39m__traceback__)\n",
      "File \u001b[0;32m~/opt/anaconda3/lib/python3.9/site-packages/keras/engine/training.py:1756\u001b[0m, in \u001b[0;36mModel.evaluate\u001b[0;34m(self, x, y, batch_size, verbose, sample_weight, steps, callbacks, max_queue_size, workers, use_multiprocessing, return_dict, **kwargs)\u001b[0m\n\u001b[1;32m   1754\u001b[0m \u001b[38;5;28;01mwith\u001b[39;00m tf\u001b[38;5;241m.\u001b[39mprofiler\u001b[38;5;241m.\u001b[39mexperimental\u001b[38;5;241m.\u001b[39mTrace(\u001b[38;5;124m'\u001b[39m\u001b[38;5;124mtest\u001b[39m\u001b[38;5;124m'\u001b[39m, step_num\u001b[38;5;241m=\u001b[39mstep, _r\u001b[38;5;241m=\u001b[39m\u001b[38;5;241m1\u001b[39m):\n\u001b[1;32m   1755\u001b[0m   callbacks\u001b[38;5;241m.\u001b[39mon_test_batch_begin(step)\n\u001b[0;32m-> 1756\u001b[0m   tmp_logs \u001b[38;5;241m=\u001b[39m \u001b[38;5;28;43mself\u001b[39;49m\u001b[38;5;241;43m.\u001b[39;49m\u001b[43mtest_function\u001b[49m\u001b[43m(\u001b[49m\u001b[43miterator\u001b[49m\u001b[43m)\u001b[49m\n\u001b[1;32m   1757\u001b[0m   \u001b[38;5;28;01mif\u001b[39;00m data_handler\u001b[38;5;241m.\u001b[39mshould_sync:\n\u001b[1;32m   1758\u001b[0m     context\u001b[38;5;241m.\u001b[39masync_wait()\n",
      "File \u001b[0;32m~/opt/anaconda3/lib/python3.9/site-packages/tensorflow/python/util/traceback_utils.py:150\u001b[0m, in \u001b[0;36mfilter_traceback.<locals>.error_handler\u001b[0;34m(*args, **kwargs)\u001b[0m\n\u001b[1;32m    148\u001b[0m filtered_tb \u001b[38;5;241m=\u001b[39m \u001b[38;5;28;01mNone\u001b[39;00m\n\u001b[1;32m    149\u001b[0m \u001b[38;5;28;01mtry\u001b[39;00m:\n\u001b[0;32m--> 150\u001b[0m   \u001b[38;5;28;01mreturn\u001b[39;00m \u001b[43mfn\u001b[49m\u001b[43m(\u001b[49m\u001b[38;5;241;43m*\u001b[39;49m\u001b[43margs\u001b[49m\u001b[43m,\u001b[49m\u001b[43m \u001b[49m\u001b[38;5;241;43m*\u001b[39;49m\u001b[38;5;241;43m*\u001b[39;49m\u001b[43mkwargs\u001b[49m\u001b[43m)\u001b[49m\n\u001b[1;32m    151\u001b[0m \u001b[38;5;28;01mexcept\u001b[39;00m \u001b[38;5;167;01mException\u001b[39;00m \u001b[38;5;28;01mas\u001b[39;00m e:\n\u001b[1;32m    152\u001b[0m   filtered_tb \u001b[38;5;241m=\u001b[39m _process_traceback_frames(e\u001b[38;5;241m.\u001b[39m__traceback__)\n",
      "File \u001b[0;32m~/opt/anaconda3/lib/python3.9/site-packages/tensorflow/python/eager/def_function.py:915\u001b[0m, in \u001b[0;36mFunction.__call__\u001b[0;34m(self, *args, **kwds)\u001b[0m\n\u001b[1;32m    912\u001b[0m compiler \u001b[38;5;241m=\u001b[39m \u001b[38;5;124m\"\u001b[39m\u001b[38;5;124mxla\u001b[39m\u001b[38;5;124m\"\u001b[39m \u001b[38;5;28;01mif\u001b[39;00m \u001b[38;5;28mself\u001b[39m\u001b[38;5;241m.\u001b[39m_jit_compile \u001b[38;5;28;01melse\u001b[39;00m \u001b[38;5;124m\"\u001b[39m\u001b[38;5;124mnonXla\u001b[39m\u001b[38;5;124m\"\u001b[39m\n\u001b[1;32m    914\u001b[0m \u001b[38;5;28;01mwith\u001b[39;00m OptionalXlaContext(\u001b[38;5;28mself\u001b[39m\u001b[38;5;241m.\u001b[39m_jit_compile):\n\u001b[0;32m--> 915\u001b[0m   result \u001b[38;5;241m=\u001b[39m \u001b[38;5;28;43mself\u001b[39;49m\u001b[38;5;241;43m.\u001b[39;49m\u001b[43m_call\u001b[49m\u001b[43m(\u001b[49m\u001b[38;5;241;43m*\u001b[39;49m\u001b[43margs\u001b[49m\u001b[43m,\u001b[49m\u001b[43m \u001b[49m\u001b[38;5;241;43m*\u001b[39;49m\u001b[38;5;241;43m*\u001b[39;49m\u001b[43mkwds\u001b[49m\u001b[43m)\u001b[49m\n\u001b[1;32m    917\u001b[0m new_tracing_count \u001b[38;5;241m=\u001b[39m \u001b[38;5;28mself\u001b[39m\u001b[38;5;241m.\u001b[39mexperimental_get_tracing_count()\n\u001b[1;32m    918\u001b[0m without_tracing \u001b[38;5;241m=\u001b[39m (tracing_count \u001b[38;5;241m==\u001b[39m new_tracing_count)\n",
      "File \u001b[0;32m~/opt/anaconda3/lib/python3.9/site-packages/tensorflow/python/eager/def_function.py:954\u001b[0m, in \u001b[0;36mFunction._call\u001b[0;34m(self, *args, **kwds)\u001b[0m\n\u001b[1;32m    951\u001b[0m \u001b[38;5;28mself\u001b[39m\u001b[38;5;241m.\u001b[39m_lock\u001b[38;5;241m.\u001b[39mrelease()\n\u001b[1;32m    952\u001b[0m \u001b[38;5;66;03m# In this case we have not created variables on the first call. So we can\u001b[39;00m\n\u001b[1;32m    953\u001b[0m \u001b[38;5;66;03m# run the first trace but we should fail if variables are created.\u001b[39;00m\n\u001b[0;32m--> 954\u001b[0m results \u001b[38;5;241m=\u001b[39m \u001b[38;5;28;43mself\u001b[39;49m\u001b[38;5;241;43m.\u001b[39;49m\u001b[43m_stateful_fn\u001b[49m\u001b[43m(\u001b[49m\u001b[38;5;241;43m*\u001b[39;49m\u001b[43margs\u001b[49m\u001b[43m,\u001b[49m\u001b[43m \u001b[49m\u001b[38;5;241;43m*\u001b[39;49m\u001b[38;5;241;43m*\u001b[39;49m\u001b[43mkwds\u001b[49m\u001b[43m)\u001b[49m\n\u001b[1;32m    955\u001b[0m \u001b[38;5;28;01mif\u001b[39;00m \u001b[38;5;28mself\u001b[39m\u001b[38;5;241m.\u001b[39m_created_variables \u001b[38;5;129;01mand\u001b[39;00m \u001b[38;5;129;01mnot\u001b[39;00m ALLOW_DYNAMIC_VARIABLE_CREATION:\n\u001b[1;32m    956\u001b[0m   \u001b[38;5;28;01mraise\u001b[39;00m \u001b[38;5;167;01mValueError\u001b[39;00m(\u001b[38;5;124m\"\u001b[39m\u001b[38;5;124mCreating variables on a non-first call to a function\u001b[39m\u001b[38;5;124m\"\u001b[39m\n\u001b[1;32m    957\u001b[0m                    \u001b[38;5;124m\"\u001b[39m\u001b[38;5;124m decorated with tf.function.\u001b[39m\u001b[38;5;124m\"\u001b[39m)\n",
      "File \u001b[0;32m~/opt/anaconda3/lib/python3.9/site-packages/tensorflow/python/eager/function.py:2453\u001b[0m, in \u001b[0;36mFunction.__call__\u001b[0;34m(self, *args, **kwargs)\u001b[0m\n\u001b[1;32m   2450\u001b[0m \u001b[38;5;28;01mwith\u001b[39;00m \u001b[38;5;28mself\u001b[39m\u001b[38;5;241m.\u001b[39m_lock:\n\u001b[1;32m   2451\u001b[0m   (graph_function,\n\u001b[1;32m   2452\u001b[0m    filtered_flat_args) \u001b[38;5;241m=\u001b[39m \u001b[38;5;28mself\u001b[39m\u001b[38;5;241m.\u001b[39m_maybe_define_function(args, kwargs)\n\u001b[0;32m-> 2453\u001b[0m \u001b[38;5;28;01mreturn\u001b[39;00m \u001b[43mgraph_function\u001b[49m\u001b[38;5;241;43m.\u001b[39;49m\u001b[43m_call_flat\u001b[49m\u001b[43m(\u001b[49m\n\u001b[1;32m   2454\u001b[0m \u001b[43m    \u001b[49m\u001b[43mfiltered_flat_args\u001b[49m\u001b[43m,\u001b[49m\u001b[43m \u001b[49m\u001b[43mcaptured_inputs\u001b[49m\u001b[38;5;241;43m=\u001b[39;49m\u001b[43mgraph_function\u001b[49m\u001b[38;5;241;43m.\u001b[39;49m\u001b[43mcaptured_inputs\u001b[49m\u001b[43m)\u001b[49m\n",
      "File \u001b[0;32m~/opt/anaconda3/lib/python3.9/site-packages/tensorflow/python/eager/function.py:1860\u001b[0m, in \u001b[0;36mConcreteFunction._call_flat\u001b[0;34m(self, args, captured_inputs, cancellation_manager)\u001b[0m\n\u001b[1;32m   1856\u001b[0m possible_gradient_type \u001b[38;5;241m=\u001b[39m gradients_util\u001b[38;5;241m.\u001b[39mPossibleTapeGradientTypes(args)\n\u001b[1;32m   1857\u001b[0m \u001b[38;5;28;01mif\u001b[39;00m (possible_gradient_type \u001b[38;5;241m==\u001b[39m gradients_util\u001b[38;5;241m.\u001b[39mPOSSIBLE_GRADIENT_TYPES_NONE\n\u001b[1;32m   1858\u001b[0m     \u001b[38;5;129;01mand\u001b[39;00m executing_eagerly):\n\u001b[1;32m   1859\u001b[0m   \u001b[38;5;66;03m# No tape is watching; skip to running the function.\u001b[39;00m\n\u001b[0;32m-> 1860\u001b[0m   \u001b[38;5;28;01mreturn\u001b[39;00m \u001b[38;5;28mself\u001b[39m\u001b[38;5;241m.\u001b[39m_build_call_outputs(\u001b[38;5;28;43mself\u001b[39;49m\u001b[38;5;241;43m.\u001b[39;49m\u001b[43m_inference_function\u001b[49m\u001b[38;5;241;43m.\u001b[39;49m\u001b[43mcall\u001b[49m\u001b[43m(\u001b[49m\n\u001b[1;32m   1861\u001b[0m \u001b[43m      \u001b[49m\u001b[43mctx\u001b[49m\u001b[43m,\u001b[49m\u001b[43m \u001b[49m\u001b[43margs\u001b[49m\u001b[43m,\u001b[49m\u001b[43m \u001b[49m\u001b[43mcancellation_manager\u001b[49m\u001b[38;5;241;43m=\u001b[39;49m\u001b[43mcancellation_manager\u001b[49m\u001b[43m)\u001b[49m)\n\u001b[1;32m   1862\u001b[0m forward_backward \u001b[38;5;241m=\u001b[39m \u001b[38;5;28mself\u001b[39m\u001b[38;5;241m.\u001b[39m_select_forward_and_backward_functions(\n\u001b[1;32m   1863\u001b[0m     args,\n\u001b[1;32m   1864\u001b[0m     possible_gradient_type,\n\u001b[1;32m   1865\u001b[0m     executing_eagerly)\n\u001b[1;32m   1866\u001b[0m forward_function, args_with_tangents \u001b[38;5;241m=\u001b[39m forward_backward\u001b[38;5;241m.\u001b[39mforward()\n",
      "File \u001b[0;32m~/opt/anaconda3/lib/python3.9/site-packages/tensorflow/python/eager/function.py:497\u001b[0m, in \u001b[0;36m_EagerDefinedFunction.call\u001b[0;34m(self, ctx, args, cancellation_manager)\u001b[0m\n\u001b[1;32m    495\u001b[0m \u001b[38;5;28;01mwith\u001b[39;00m _InterpolateFunctionError(\u001b[38;5;28mself\u001b[39m):\n\u001b[1;32m    496\u001b[0m   \u001b[38;5;28;01mif\u001b[39;00m cancellation_manager \u001b[38;5;129;01mis\u001b[39;00m \u001b[38;5;28;01mNone\u001b[39;00m:\n\u001b[0;32m--> 497\u001b[0m     outputs \u001b[38;5;241m=\u001b[39m \u001b[43mexecute\u001b[49m\u001b[38;5;241;43m.\u001b[39;49m\u001b[43mexecute\u001b[49m\u001b[43m(\u001b[49m\n\u001b[1;32m    498\u001b[0m \u001b[43m        \u001b[49m\u001b[38;5;28;43mstr\u001b[39;49m\u001b[43m(\u001b[49m\u001b[38;5;28;43mself\u001b[39;49m\u001b[38;5;241;43m.\u001b[39;49m\u001b[43msignature\u001b[49m\u001b[38;5;241;43m.\u001b[39;49m\u001b[43mname\u001b[49m\u001b[43m)\u001b[49m\u001b[43m,\u001b[49m\n\u001b[1;32m    499\u001b[0m \u001b[43m        \u001b[49m\u001b[43mnum_outputs\u001b[49m\u001b[38;5;241;43m=\u001b[39;49m\u001b[38;5;28;43mself\u001b[39;49m\u001b[38;5;241;43m.\u001b[39;49m\u001b[43m_num_outputs\u001b[49m\u001b[43m,\u001b[49m\n\u001b[1;32m    500\u001b[0m \u001b[43m        \u001b[49m\u001b[43minputs\u001b[49m\u001b[38;5;241;43m=\u001b[39;49m\u001b[43margs\u001b[49m\u001b[43m,\u001b[49m\n\u001b[1;32m    501\u001b[0m \u001b[43m        \u001b[49m\u001b[43mattrs\u001b[49m\u001b[38;5;241;43m=\u001b[39;49m\u001b[43mattrs\u001b[49m\u001b[43m,\u001b[49m\n\u001b[1;32m    502\u001b[0m \u001b[43m        \u001b[49m\u001b[43mctx\u001b[49m\u001b[38;5;241;43m=\u001b[39;49m\u001b[43mctx\u001b[49m\u001b[43m)\u001b[49m\n\u001b[1;32m    503\u001b[0m   \u001b[38;5;28;01melse\u001b[39;00m:\n\u001b[1;32m    504\u001b[0m     outputs \u001b[38;5;241m=\u001b[39m execute\u001b[38;5;241m.\u001b[39mexecute_with_cancellation(\n\u001b[1;32m    505\u001b[0m         \u001b[38;5;28mstr\u001b[39m(\u001b[38;5;28mself\u001b[39m\u001b[38;5;241m.\u001b[39msignature\u001b[38;5;241m.\u001b[39mname),\n\u001b[1;32m    506\u001b[0m         num_outputs\u001b[38;5;241m=\u001b[39m\u001b[38;5;28mself\u001b[39m\u001b[38;5;241m.\u001b[39m_num_outputs,\n\u001b[0;32m   (...)\u001b[0m\n\u001b[1;32m    509\u001b[0m         ctx\u001b[38;5;241m=\u001b[39mctx,\n\u001b[1;32m    510\u001b[0m         cancellation_manager\u001b[38;5;241m=\u001b[39mcancellation_manager)\n",
      "File \u001b[0;32m~/opt/anaconda3/lib/python3.9/site-packages/tensorflow/python/eager/execute.py:54\u001b[0m, in \u001b[0;36mquick_execute\u001b[0;34m(op_name, num_outputs, inputs, attrs, ctx, name)\u001b[0m\n\u001b[1;32m     52\u001b[0m \u001b[38;5;28;01mtry\u001b[39;00m:\n\u001b[1;32m     53\u001b[0m   ctx\u001b[38;5;241m.\u001b[39mensure_initialized()\n\u001b[0;32m---> 54\u001b[0m   tensors \u001b[38;5;241m=\u001b[39m \u001b[43mpywrap_tfe\u001b[49m\u001b[38;5;241;43m.\u001b[39;49m\u001b[43mTFE_Py_Execute\u001b[49m\u001b[43m(\u001b[49m\u001b[43mctx\u001b[49m\u001b[38;5;241;43m.\u001b[39;49m\u001b[43m_handle\u001b[49m\u001b[43m,\u001b[49m\u001b[43m \u001b[49m\u001b[43mdevice_name\u001b[49m\u001b[43m,\u001b[49m\u001b[43m \u001b[49m\u001b[43mop_name\u001b[49m\u001b[43m,\u001b[49m\n\u001b[1;32m     55\u001b[0m \u001b[43m                                      \u001b[49m\u001b[43minputs\u001b[49m\u001b[43m,\u001b[49m\u001b[43m \u001b[49m\u001b[43mattrs\u001b[49m\u001b[43m,\u001b[49m\u001b[43m \u001b[49m\u001b[43mnum_outputs\u001b[49m\u001b[43m)\u001b[49m\n\u001b[1;32m     56\u001b[0m \u001b[38;5;28;01mexcept\u001b[39;00m core\u001b[38;5;241m.\u001b[39m_NotOkStatusException \u001b[38;5;28;01mas\u001b[39;00m e:\n\u001b[1;32m     57\u001b[0m   \u001b[38;5;28;01mif\u001b[39;00m name \u001b[38;5;129;01mis\u001b[39;00m \u001b[38;5;129;01mnot\u001b[39;00m \u001b[38;5;28;01mNone\u001b[39;00m:\n",
      "\u001b[0;31mKeyboardInterrupt\u001b[0m: "
     ]
    }
   ],
   "source": [
    "from functools import partial\n",
    "\n",
    "\n",
    "\n",
    "_, num_time, num_feat = X_train.shape\n",
    "\n",
    "activation = 'selu'\n",
    "\n",
    "DefaultConv1D = partial(\n",
    "    keras.layers.Conv1D,\n",
    "    kernel_size=1,\n",
    "    activation=activation,\n",
    "    padding=\"valid\",\n",
    ")\n",
    "\n",
    "model = keras.models.Sequential([\n",
    "    DefaultConv1D(4 * num_feat, kernel_size=4, input_shape=[num_time, num_feat]),\n",
    "    keras.layers.BatchNormalization(),\n",
    "    DefaultConv1D(num_feat, kernel_size=2),\n",
    "    keras.layers.Flatten(),\n",
    "    keras.layers.BatchNormalization(),\n",
    "    keras.layers.Dense(num_time * num_feat, activation=activation),\n",
    "    keras.layers.BatchNormalization(),\n",
    "    keras.layers.Dense(num_feat, activation=activation),\n",
    "    keras.layers.BatchNormalization(),\n",
    "    keras.layers.Dense(5, activation='softmax'),\n",
    "])\n",
    "activation = 'selu'\n",
    "\n",
    "DefaultConv1D = partial(\n",
    "    keras.layers.Conv1D,\n",
    "    kernel_size=1,\n",
    "    activation=activation,\n",
    "    padding=\"valid\",\n",
    ")\n",
    "\n",
    "model = keras.models.Sequential([\n",
    "    DefaultConv1D(4 * num_feat, kernel_size=4, input_shape=[num_time, num_feat]),\n",
    "    keras.layers.BatchNormalization(),\n",
    "    DefaultConv1D(num_feat, kernel_size=2),\n",
    "    keras.layers.Flatten(),\n",
    "    keras.layers.BatchNormalization(),\n",
    "    keras.layers.Dense(num_time * num_feat, activation=activation),\n",
    "    keras.layers.BatchNormalization(),\n",
    "    keras.layers.Dense(num_feat, activation=activation),\n",
    "    keras.layers.BatchNormalization(),\n",
    "    keras.layers.Dense(5, activation='softmax'),\n",
    "])\n",
    "optimizer = keras.optimizers.Adam(learning_rate=1e-3)\n",
    "\n",
    "model.compile(\n",
    "    loss='sparse_categorical_crossentropy',\n",
    "    optimizer=optimizer,\n",
    "    metrics=['accuracy'],\n",
    ")\n",
    "\n",
    "history = model.fit(\n",
    "    X_train,\n",
    "    y_train,\n",
    "    epochs=EPOCHS,\n",
    "    batch_size=BATCH_SIZE,\n",
    "    validation_data=(X_test, y_test),\n",
    "    verbose=1,\n",
    ")"
   ]
  },
  {
   "cell_type": "code",
   "execution_count": null,
   "id": "95a1361c",
   "metadata": {},
   "outputs": [],
   "source": []
  },
  {
   "cell_type": "code",
   "execution_count": null,
   "id": "bed79725-2bb3-47ce-b06c-333c662b30bf",
   "metadata": {
    "colab": {
     "base_uri": "https://localhost:8080/",
     "height": 282
    },
    "id": "bed79725-2bb3-47ce-b06c-333c662b30bf",
    "outputId": "4354cc75-e44d-4d2a-ac4b-c55a4b3a9305"
   },
   "outputs": [],
   "source": [
    "plt.plot(history.history['accuracy'])\n",
    "plt.plot(history.history['val_accuracy'])"
   ]
  },
  {
   "cell_type": "code",
   "execution_count": null,
   "id": "3b65d81f-3d75-43d1-9e2d-88cef69d110b",
   "metadata": {
    "colab": {
     "base_uri": "https://localhost:8080/",
     "height": 265
    },
    "id": "3b65d81f-3d75-43d1-9e2d-88cef69d110b",
    "outputId": "97e18fb9-4340-478c-e307-82c03282e9cc"
   },
   "outputs": [],
   "source": [
    "plt.plot(history.history['loss'][10:])\n",
    "plt.plot(history.history['val_loss'][10:])\n",
    "plt.yscale('log')"
   ]
  },
  {
   "cell_type": "code",
   "execution_count": null,
   "id": "8a964a60-488a-431e-8bcc-586e90d8956b",
   "metadata": {
    "id": "8a964a60-488a-431e-8bcc-586e90d8956b"
   },
   "outputs": [],
   "source": [
    "y_pred = model.predict(X_test)"
   ]
  },
  {
   "cell_type": "code",
   "execution_count": null,
   "id": "d7C0QyTLHO8q",
   "metadata": {
    "colab": {
     "base_uri": "https://localhost:8080/"
    },
    "id": "d7C0QyTLHO8q",
    "outputId": "78587010-2aa8-4cc7-e82f-7c40e11ce705"
   },
   "outputs": [],
   "source": [
    "y_pred"
   ]
  },
  {
   "cell_type": "code",
   "execution_count": null,
   "id": "1c8d3ecc-9cf4-4b1b-a1f8-7394eae20128",
   "metadata": {
    "id": "1c8d3ecc-9cf4-4b1b-a1f8-7394eae20128"
   },
   "outputs": [],
   "source": []
  },
  {
   "cell_type": "code",
   "execution_count": null,
   "id": "1ljWvGo9skgS",
   "metadata": {
    "id": "1ljWvGo9skgS"
   },
   "outputs": [],
   "source": [
    "y_pred= np.argmax(y_pred, axis=1)"
   ]
  },
  {
   "cell_type": "code",
   "execution_count": null,
   "id": "BIninuG_Hixu",
   "metadata": {
    "colab": {
     "base_uri": "https://localhost:8080/"
    },
    "id": "BIninuG_Hixu",
    "outputId": "8d52a3ce-46d5-41c3-f339-ec8e2feee684"
   },
   "outputs": [],
   "source": [
    "y_pred"
   ]
  },
  {
   "cell_type": "code",
   "execution_count": null,
   "id": "3NzoyhrD4tO9",
   "metadata": {
    "colab": {
     "base_uri": "https://localhost:8080/"
    },
    "id": "3NzoyhrD4tO9",
    "outputId": "da09ab77-c439-431e-82a8-93fc98f20b49"
   },
   "outputs": [],
   "source": [
    "y_pred[0]"
   ]
  },
  {
   "cell_type": "code",
   "execution_count": null,
   "id": "48c3e9c7-2bc3-479a-8af1-bf35d87f3e57",
   "metadata": {
    "id": "48c3e9c7-2bc3-479a-8af1-bf35d87f3e57"
   },
   "outputs": [],
   "source": [
    "df = pd.DataFrame({\n",
    "    'y_test': y_test.ravel().astype(int).tolist(),\n",
    "    'y_pred': y_pred.ravel().astype(int).tolist(),\n",
    "})"
   ]
  },
  {
   "cell_type": "code",
   "execution_count": null,
   "id": "18cfafbe-dafb-4a9e-8873-7f96e71f80b8",
   "metadata": {
    "colab": {
     "base_uri": "https://localhost:8080/",
     "height": 175
    },
    "id": "18cfafbe-dafb-4a9e-8873-7f96e71f80b8",
    "outputId": "aa49cb9d-c88e-437b-9a31-2809577d1da1"
   },
   "outputs": [],
   "source": [
    "pd.crosstab(df['y_test'], df['y_pred'])"
   ]
  },
  {
   "cell_type": "code",
   "execution_count": null,
   "id": "e192957b-1b16-47c8-89eb-d6e2fb9bde9f",
   "metadata": {
    "id": "e192957b-1b16-47c8-89eb-d6e2fb9bde9f"
   },
   "outputs": [],
   "source": [
    "model.save('model.h5')"
   ]
  },
  {
   "cell_type": "code",
   "execution_count": null,
   "id": "__GCNJUQzHny",
   "metadata": {
    "colab": {
     "base_uri": "https://localhost:8080/"
    },
    "id": "__GCNJUQzHny",
    "outputId": "0b819a16-2d58-4435-927f-343a75565ae6"
   },
   "outputs": [],
   "source": [
    "X_train[0]"
   ]
  },
  {
   "cell_type": "code",
   "execution_count": null,
   "id": "8c451d57-513f-476a-acbf-5b5a58a90437",
   "metadata": {
    "colab": {
     "base_uri": "https://localhost:8080/",
     "height": 606
    },
    "id": "8c451d57-513f-476a-acbf-5b5a58a90437",
    "outputId": "c8edd43e-3d45-432e-c46d-f23b5f9e9cdd"
   },
   "outputs": [],
   "source": [
    "np.argmax(model.predict(np.array([[[0.08,  0.08,  0.08,  0.08, -0.08, -0.08, -0.08,  0.08],\n",
    "       [0.08,  0.08,  0.08,  0.08, -0.08, -0.08, -0.08,  0.08],\n",
    "       [0.08,  0.08,  0.08,  0.08, -0.08, -0.08, -0.08,  0.08],\n",
    "       [0.08,  0.08,  0.08,  0.08, -0.08, -0.08, -0.08,  0.08],\n",
    "       [0.08,  0.08,  0.08,  0.08, -0.08, -0.08, -0.08,  0.08],\n",
    "       [0.08,  0.08,  0.08,  0.08, -0.08, -0.08, -0.08,  0.08],\n",
    "       [0.08,  0.08,  0.08,  0.08, -0.08, -0.08, -0.08,  0.08],\n",
    "       [0.08,  0.08,  0.08,  0.08, -0.08, -0.08, -0.08,  0.08],\n",
    "       [0.08,  0.08,  0.08,  0.08, -0.08, -0.08, -0.08,  0.08],\n",
    "       [0.08,  0.08,  0.08,  0.08, -0.08, -0.08, -0.08,  0.08]]])))"
   ]
  },
  {
   "cell_type": "code",
   "execution_count": null,
   "id": "e758a797-ce91-4c86-b48f-11b7906e3f1c",
   "metadata": {
    "id": "e758a797-ce91-4c86-b48f-11b7906e3f1c"
   },
   "outputs": [],
   "source": [
    "x_new = X_test[0,:,:]"
   ]
  },
  {
   "cell_type": "code",
   "execution_count": null,
   "id": "e028ea89-c194-4257-b879-9c5125aa092c",
   "metadata": {
    "id": "e028ea89-c194-4257-b879-9c5125aa092c"
   },
   "outputs": [],
   "source": [
    "argmax(model.predict(np.array([[[-0.04,  0.69,  0.72,  0.07, -0.19, -0.63, -0.71,  0.23],\n",
    "       [-0.13,  0.69,  0.7 ,  0.14, -0.19, -0.64, -0.71,  0.23],\n",
    "       [-0.22,  0.67,  0.67,  0.23, -0.19, -0.64, -0.71,  0.23],\n",
    "       [-0.25,  0.67,  0.65,  0.25, -0.19, -0.64, -0.71,  0.23],\n",
    "       [-0.31,  0.65,  0.63,  0.3 , -0.19, -0.64, -0.71,  0.23],\n",
    "       [-0.35,  0.63,  0.6 ,  0.34, -0.19, -0.64, -0.71,  0.23],\n",
    "       [-0.34,  0.64,  0.61,  0.33, -0.19, -0.64, -0.71,  0.23],\n",
    "       [-0.34,  0.64,  0.61,  0.33, -0.19, -0.64, -0.71,  0.23],\n",
    "       [-0.24,  0.67,  0.66,  0.25, -0.19, -0.64, -0.71,  0.23],\n",
    "       [-0.12,  0.69,  0.7 ,  0.14, -0.19, -0.64, -0.71,  0.23]]])))"
   ]
  },
  {
   "cell_type": "code",
   "execution_count": null,
   "id": "caeab939-e224-45cb-aeac-cba492ce706e",
   "metadata": {
    "id": "caeab939-e224-45cb-aeac-cba492ce706e"
   },
   "outputs": [],
   "source": [
    "x_new.shape"
   ]
  },
  {
   "cell_type": "code",
   "execution_count": null,
   "id": "1cd53482-ba40-4e2e-91e4-86a77c1bd571",
   "metadata": {
    "id": "1cd53482-ba40-4e2e-91e4-86a77c1bd571"
   },
   "outputs": [],
   "source": [
    "(1,) + x_new.shape"
   ]
  },
  {
   "cell_type": "code",
   "execution_count": null,
   "id": "ffe40741-ef5e-4586-8099-7ea3940df013",
   "metadata": {
    "id": "ffe40741-ef5e-4586-8099-7ea3940df013"
   },
   "outputs": [],
   "source": [
    "X_new = x_new.reshape((1,) + x_new.shape)\n",
    "fast_or_slow = saved_model(X_new)"
   ]
  },
  {
   "cell_type": "code",
   "execution_count": null,
   "id": "a4dc15ee-ec14-4cbf-a2d2-bf0d17176afa",
   "metadata": {
    "id": "a4dc15ee-ec14-4cbf-a2d2-bf0d17176afa"
   },
   "outputs": [],
   "source": [
    "float(fast_or_slow[0, 0])"
   ]
  },
  {
   "cell_type": "code",
   "execution_count": null,
   "id": "54844c3c-4be3-4599-8327-c2cfa0751e0e",
   "metadata": {
    "id": "54844c3c-4be3-4599-8327-c2cfa0751e0e"
   },
   "outputs": [],
   "source": [
    "print(X_new.tolist())\n"
   ]
  },
  {
   "cell_type": "code",
   "execution_count": null,
   "id": "7rw6-XGxwHZw",
   "metadata": {
    "id": "7rw6-XGxwHZw"
   },
   "outputs": [],
   "source": []
  },
  {
   "cell_type": "code",
   "execution_count": 82,
   "id": "vZD1w6TZwk0e",
   "metadata": {
    "id": "vZD1w6TZwk0e"
   },
   "outputs": [],
   "source": [
    "CNN.save('model_90_95_accuracy.h5')"
   ]
  },
  {
   "cell_type": "code",
   "execution_count": null,
   "id": "Dg1rDKBsw7S3",
   "metadata": {
    "id": "Dg1rDKBsw7S3"
   },
   "outputs": [],
   "source": [
    "np.fromstring(X_new.tobytes(), dtype=float).reshape(1,10,4)"
   ]
  },
  {
   "cell_type": "code",
   "execution_count": null,
   "id": "DlzAFGAuxUHF",
   "metadata": {
    "id": "DlzAFGAuxUHF"
   },
   "outputs": [],
   "source": [
    "comma_string = \"[[[-1.402271e-03 -2.203955e-08 7.028995e-07 9.999990e-01 -2.328306e-10 -6.455648e-09 7.037297e-07  1.000000e+00] [-1.402271e-03 -2.203955e-08  7.028995e-07  9.999990e-01 -2.328306e-10 -6.455648e-09  7.037297e-07  1.000000e+00] [-1.402271e-03 -2.203955e-08  7.028995e-07  9.999990e-01 -2.328306e-10 -6.455648e-09  7.037297e-07  1.000000e+00] [-1.402271e-03 -2.203955e-08  7.028995e-07  9.999990e-01 -2.328306e-10 -6.455648e-09  7.037297e-07  1.000000e+00] [-1.402271e-03 -2.203955e-08  7.028995e-07  9.999990e-01 -2.328306e-10 -6.455648e-09  7.037297e-07  1.000000e+00] [-1.402271e-03 -2.203955e-08  7.028995e-07  9.999990e-01 -2.328306e-10 -6.455648e-09  7.037297e-07  1.000000e+00] [-1.402271e-03 -2.203955e-08  7.028995e-07  9.999990e-01 -2.328306e-10 -6.455648e-09  7.037297e-07  1.000000e+00] [-1.402271e-03 -2.203955e-08  7.028995e-07  9.999990e-01 -2.328306e-10 -6.455648e-09  7.037297e-07  1.000000e+00] [-1.402271e-03 -2.203955e-08  7.028995e-07  9.999990e-01 -2.328306e-10 -6.455648e-09  7.037297e-07  1.000000e+00] [-1.402271e-03 -2.203955e-08  7.028995e-07  9.999990e-01 -2.328306e-10 -6.455648e-09  7.037297e-07  1.000000e+00]]])\""
   ]
  },
  {
   "cell_type": "code",
   "execution_count": null,
   "id": "xywYtiQuDssb",
   "metadata": {
    "id": "xywYtiQuDssb"
   },
   "outputs": [],
   "source": [
    "spaces_string = comma_string.replace(' ', ',')\n",
    "spaces_string"
   ]
  },
  {
   "cell_type": "code",
   "execution_count": null,
   "id": "XDNr41Vm7MsD",
   "metadata": {
    "id": "XDNr41Vm7MsD"
   },
   "outputs": [],
   "source": [
    "import ast\n",
    "input = np.array([[[0.08, 0.14, 0.09, 0.18],\n",
    "       [0.08, 0.14, 0.09, 0.22],\n",
    "       [0.08, 0.14, 0.08, 0.17],\n",
    "       [0.08, 0.14, 0.08, 0.1 ],\n",
    "       [0.08, 0.14, 0.07, 0.08],\n",
    "       [0.08, 0.14, 0.07, 0.08],\n",
    "       [0.09, 0.2 , 0.07, 0.08],\n",
    "       [0.1 , 0.32, 0.07, 0.07],\n",
    "       [0.1 , 0.29, 0.07, 0.07],\n",
    "       [0.09, 0.24, 0.07, 0.07]]])\n",
    "    \n",
    "lista_string=\"[0.08, 0.14, 0.09, 0.18]\"\n",
    "lista= ast.literal_eval(lista_string)\n",
    "input = np.insert(input[0], 0,lista).reshape(1,11,4)\n",
    "input = input[:,:-1,:]\n",
    "input"
   ]
  },
  {
   "cell_type": "code",
   "execution_count": null,
   "id": "Y9SXyZnkxVs1",
   "metadata": {
    "id": "Y9SXyZnkxVs1"
   },
   "outputs": [],
   "source": [
    "from tensorflow.keras.models import load_model\n"
   ]
  },
  {
   "cell_type": "code",
   "execution_count": null,
   "id": "dYZo4dM_E7y8",
   "metadata": {
    "id": "dYZo4dM_E7y8"
   },
   "outputs": [],
   "source": [
    "/content/my_model"
   ]
  },
  {
   "cell_type": "code",
   "execution_count": null,
   "id": "F2L9U_219JYL",
   "metadata": {
    "id": "F2L9U_219JYL"
   },
   "outputs": [],
   "source": []
  },
  {
   "cell_type": "code",
   "execution_count": null,
   "id": "I6lCTiBu9hIN",
   "metadata": {
    "id": "I6lCTiBu9hIN"
   },
   "outputs": [],
   "source": [
    "!zip -r model.zip model/ "
   ]
  },
  {
   "cell_type": "code",
   "execution_count": null,
   "id": "txtVW0lZk0i2",
   "metadata": {
    "id": "txtVW0lZk0i2"
   },
   "outputs": [],
   "source": []
  },
  {
   "cell_type": "code",
   "execution_count": null,
   "id": "jmP1iwCVrCWB",
   "metadata": {
    "id": "jmP1iwCVrCWB"
   },
   "outputs": [],
   "source": [
    "print(json_str)"
   ]
  },
  {
   "cell_type": "code",
   "execution_count": null,
   "id": "xnhM2JtlrKUG",
   "metadata": {
    "id": "xnhM2JtlrKUG"
   },
   "outputs": [],
   "source": [
    "input = np.array([[[ 2.66, -1.94,  0.66, -0.07],\n",
    "       [ 2.66, -1.94,  0.66, -0.07],\n",
    "       [ 2.65, -2.1 ,  0.66, -0.07],\n",
    "       [ 2.65, -2.2 ,  0.66, -0.07],\n",
    "       [ 2.65, -2.22,  0.66, -0.07],\n",
    "       [ 2.65, -2.22,  0.68,  0.01],\n",
    "       [ 2.64, -2.22,  0.68,  0.18],\n",
    "       [ 2.64, -2.22,  0.69,  0.26],\n",
    "       [ 2.64, -2.22,  0.67,  0.16],\n",
    "       [ 2.64, -2.22,  0.67,  0.03]]])"
   ]
  },
  {
   "cell_type": "code",
   "execution_count": null,
   "id": "-RaeJ9fealdj",
   "metadata": {
    "id": "-RaeJ9fealdj"
   },
   "outputs": [],
   "source": [
    "import ast\n",
    "lista_string=\"[ 2.66, -1.94,  0.66, -0.07]\"\n",
    "lista= ast.literal_eval(lista_string)\n",
    "input = np.append(input[0],[lista],axis=0).reshape(1,11,4)\n",
    "input = input[:,1:,:]"
   ]
  },
  {
   "cell_type": "code",
   "execution_count": null,
   "id": "dSPIJMHBapbY",
   "metadata": {
    "id": "dSPIJMHBapbY"
   },
   "outputs": [],
   "source": [
    "input"
   ]
  },
  {
   "cell_type": "code",
   "execution_count": null,
   "id": "8LVg3UYja8xp",
   "metadata": {
    "id": "8LVg3UYja8xp"
   },
   "outputs": [],
   "source": [
    "X_train[0]"
   ]
  },
  {
   "cell_type": "code",
   "execution_count": null,
   "id": "I3PN3mu1iAis",
   "metadata": {
    "id": "I3PN3mu1iAis"
   },
   "outputs": [],
   "source": [
    "import re\n",
    "\n",
    "s = \"[[[-1.402271e-03 -2.203955e-08  7.028995e-07  9.999990e-01 -2.328306e-10 -6.455648e-09  7.037297e-07  1.000000e+00] [-1.402271e-03 -2.203955e-08  7.028995e-07  9.999990e-01 -2.328306e-10 -6.455648e-09  7.037297e-07  1.000000e+00] [-1.402271e-03 -2.203955e-08  7.028995e-07  9.999990e-01 -2.328306e-10 -6.455648e-09  7.037297e-07  1.000000e+00] [-1.402271e-03 -2.203955e-08  7.028995e-07  9.999990e-01 -2.328306e-10 -6.455648e-09  7.037297e-07  1.000000e+00] [-1.402271e-03 -2.203955e-08  7.028995e-07  9.999990e-01 -2.328306e-10 -6.455648e-09  7.037297e-07  1.000000e+00] [-1.402271e-03 -2.203955e-08  7.028995e-07  9.999990e-01 -2.328306e-10 -6.455648e-09  7.037297e-07  1.000000e+00] [-1.402271e-03 -2.203955e-08  7.028995e-07  9.999990e-01 -2.328306e-10 -6.455648e-09  7.037297e-07  1.000000e+00] [-1.402271e-03 -2.203955e-08  7.028995e-07  9.999990e-01 -2.328306e-10 -6.455648e-09  7.037297e-07  1.000000e+00] [-1.402271e-03 -2.203955e-08  7.028995e-07  9.999990e-01 -2.328306e-10 -6.455648e-09  7.037297e-07  1.000000e+00] [-1.402271e-03 -2.203955e-08  7.028995e-07  9.999990e-01 -2.328306e-10 -6.455648e-09  7.037297e-07  1.000000e+00]]]\"\n",
    "\n",
    "def add_comma(match):\n",
    "    return match.group(0) + ','\n",
    "\n",
    "s = re.sub(r'\\[[0-9\\.\\s]+\\]', add_comma, s)\n",
    "s = re.sub(r'([0-9\\.]+)', add_comma, s)\n",
    "mylist = eval(s)"
   ]
  },
  {
   "cell_type": "code",
   "execution_count": null,
   "id": "sVQuC3TvzIGz",
   "metadata": {
    "id": "sVQuC3TvzIGz"
   },
   "outputs": [],
   "source": [
    "mylist"
   ]
  },
  {
   "cell_type": "code",
   "execution_count": null,
   "id": "WaxWOPL_zKMZ",
   "metadata": {
    "id": "WaxWOPL_zKMZ"
   },
   "outputs": [],
   "source": []
  }
 ],
 "metadata": {
  "accelerator": "GPU",
  "colab": {
   "provenance": []
  },
  "gpuClass": "standard",
  "kernelspec": {
   "display_name": "Python 3 (ipykernel)",
   "language": "python",
   "name": "python3"
  },
  "language_info": {
   "codemirror_mode": {
    "name": "ipython",
    "version": 3
   },
   "file_extension": ".py",
   "mimetype": "text/x-python",
   "name": "python",
   "nbconvert_exporter": "python",
   "pygments_lexer": "ipython3",
   "version": "3.9.12"
  }
 },
 "nbformat": 4,
 "nbformat_minor": 5
}
