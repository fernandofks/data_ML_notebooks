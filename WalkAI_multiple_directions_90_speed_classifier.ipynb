{
 "cells": [
  {
   "cell_type": "code",
   "execution_count": 1,
   "id": "b41f0b0f-cc96-43a2-ab7f-f3264587e7d2",
   "metadata": {
    "id": "b41f0b0f-cc96-43a2-ab7f-f3264587e7d2"
   },
   "outputs": [
    {
     "name": "stderr",
     "output_type": "stream",
     "text": [
      "/Users/fernandokenjisakabe/opt/anaconda3/lib/python3.9/site-packages/scipy/__init__.py:146: UserWarning: A NumPy version >=1.16.5 and <1.23.0 is required for this version of SciPy (detected version 1.24.1\n",
      "  warnings.warn(f\"A NumPy version >={np_minversion} and <{np_maxversion}\"\n"
     ]
    }
   ],
   "source": [
    "from pathlib import Path\n",
    "import matplotlib.pyplot as plt\n",
    "import numpy as np\n",
    "import pandas as pd\n",
    "import tensorflow as tf\n",
    "import tensorflow.keras as keras\n",
    "from tensorflow.python.keras.layers import Dense\n",
    "from numpy.random import default_rng\n",
    "from sklearn.model_selection import train_test_split"
   ]
  },
  {
   "cell_type": "code",
   "execution_count": 2,
   "id": "c9e9560b-749a-49a8-aedf-44a1ac9b4bb1",
   "metadata": {
    "id": "c9e9560b-749a-49a8-aedf-44a1ac9b4bb1"
   },
   "outputs": [],
   "source": [
    "# Loading pipeline params.\n",
    "DATA_PATH = Path('data')\n",
    "FILENAME_STOP = 'stop_90_diff_quat.csv'\n",
    "FILENAME_0 = '0_90_diff_quat.csv'\n",
    "FILENAME_90 = '90_90_diff_quat.csv'\n",
    "FILENAME_180 = '180_90_diff_quat.csv'\n",
    "FILENAME_270 = '270_90_diff_quat.csv'\n",
    "\n",
    "NUM_TIMESTEPS = 6\n",
    "IGNORE_FRACTION = 0.1\n",
    "TEST_FRACTION = 0.25\n",
    "\n",
    "# Training params.\n",
    "LEARNING_RATE = 1e-5\n",
    "EPOCHS = 100\n",
    "BATCH_SIZE = 512"
   ]
  },
  {
   "cell_type": "code",
   "execution_count": 3,
   "id": "7f52716d-1339-4484-9fd3-d5206979ba8e",
   "metadata": {
    "id": "7f52716d-1339-4484-9fd3-d5206979ba8e"
   },
   "outputs": [],
   "source": [
    "def load_data(\n",
    "    path_stop,\n",
    "    path_0,\n",
    "    path_90,\n",
    "    path_180,\n",
    "    path_270,\n",
    "    num_timesteps,\n",
    "    ignore_fraction,\n",
    "    test_fraction,\n",
    "):\n",
    "\n",
    "    def read_and_prepare_data(\n",
    "        path,\n",
    "        class_,\n",
    "        num_timesteps,\n",
    "        ignore_fraction,\n",
    "        test_fraction,\n",
    "    ):\n",
    "\n",
    "        def split_temporally(X, test_fraction):\n",
    "            num_samples = X.shape[0]\n",
    "            num_train = int(num_samples * (1.0 - test_fraction))\n",
    "            X_train, X_test = X[:num_train], X[num_train:]\n",
    "            return X_train, X_test\n",
    "\n",
    "        def transform_into_sequences(X, num_timesteps):\n",
    "            num_samples = X.shape[0]\n",
    "            X_seq = []\n",
    "            for k in range(num_samples - num_timesteps + 1):\n",
    "                X_seq.append(X[k:(k + num_timesteps)])\n",
    "            X_seq = np.array(X_seq)\n",
    "            y_seq = class_ * np.ones((X_seq.shape[0], 1))\n",
    "            return X_seq, y_seq\n",
    "\n",
    "        X = pd.read_csv(path).values\n",
    "        X = X[:, [0,1,2,3,4,5,6,7,8,9,10,11,12,13]]  # Use only feet translations.\n",
    "\n",
    "        # Ignore beginning and end.\n",
    "        num_samples = X.shape[0]\n",
    "        num_ignore = int(ignore_fraction * num_samples)\n",
    "        X = X[num_ignore:-num_ignore]\n",
    "\n",
    "        # Split X temporally.\n",
    "        X_train, X_test = split_temporally(X, test_fraction)\n",
    "\n",
    "        # Transform X into short sequences.\n",
    "        X_train, y_train = transform_into_sequences(X_train, num_timesteps)\n",
    "        X_test, y_test = transform_into_sequences(X_test, num_timesteps)\n",
    "\n",
    "        return X_train, y_train, X_test, y_test\n",
    "\n",
    "    def shuffle_data(X, y):\n",
    "        idx = np.arange(len(X))\n",
    "        default_rng().shuffle(idx)\n",
    "        X_shuffled = X[idx, :]\n",
    "        y_shuffled = y[idx]\n",
    "        return X_shuffled, y_shuffled\n",
    "\n",
    "    X_train_stop, y_train_stop, X_test_stop, y_test_stop = \\\n",
    "        read_and_prepare_data(\n",
    "            path_stop,\n",
    "            0.0,\n",
    "            num_timesteps,\n",
    "            ignore_fraction,\n",
    "            test_fraction,\n",
    "        )\n",
    "    \n",
    "    X_train_0, y_train_0, X_test_0, y_test_0 = \\\n",
    "        read_and_prepare_data(\n",
    "            path_0,\n",
    "            1.0,\n",
    "            num_timesteps,\n",
    "            ignore_fraction,\n",
    "            test_fraction,\n",
    "        )\n",
    "\n",
    "    X_train_90, y_train_90, X_test_90, y_test_90 = \\\n",
    "        read_and_prepare_data(\n",
    "            path_90,\n",
    "            2.0,\n",
    "            num_timesteps,\n",
    "            ignore_fraction,\n",
    "            test_fraction,\n",
    "        )\n",
    "    \n",
    "    X_train_180, y_train_180, X_test_180, y_test_180 = \\\n",
    "        read_and_prepare_data(\n",
    "            path_180,\n",
    "            3.0,\n",
    "            num_timesteps,\n",
    "            ignore_fraction,\n",
    "            test_fraction,\n",
    "        )\n",
    "    \n",
    "    X_train_270, y_train_270, X_test_270, y_test_270 = \\\n",
    "        read_and_prepare_data(\n",
    "            path_270,\n",
    "            4.0,\n",
    "            num_timesteps,\n",
    "            ignore_fraction,\n",
    "            test_fraction,\n",
    "        )\n",
    "\n",
    "    X_train = np.concatenate((X_train_stop, X_train_0, X_train_90, X_train_180, X_train_270), axis=0)\n",
    "    y_train = np.concatenate((y_train_stop, y_train_0, y_train_90, y_train_180, y_train_270), axis=0)\n",
    "    X_test = np.concatenate((X_test_stop, X_test_0, X_test_90, X_test_180, X_test_270), axis=0)\n",
    "    y_test = np.concatenate((y_test_stop, y_test_0, y_test_90, y_test_180, y_test_270), axis=0)\n",
    "\n",
    "    X_train, y_train = shuffle_data(X_train, y_train)\n",
    "    X_test, y_test = shuffle_data(X_test, y_test)\n",
    "\n",
    "    return X_train, X_test, y_train, y_test\n",
    "\n",
    "\n",
    "path_stop = Path(DATA_PATH, FILENAME_STOP)\n",
    "path_0 = Path(DATA_PATH, FILENAME_0)\n",
    "path_90 = Path(DATA_PATH, FILENAME_90)\n",
    "path_180 = Path(DATA_PATH, FILENAME_180)\n",
    "path_270 = Path(DATA_PATH, FILENAME_270)\n",
    "\n",
    "X_train, X_test, y_train, y_test = load_data(\n",
    "    path_stop,\n",
    "    path_0,\n",
    "    path_90,\n",
    "    path_180,\n",
    "    path_270,\n",
    "    NUM_TIMESTEPS,\n",
    "    IGNORE_FRACTION,\n",
    "    TEST_FRACTION,\n",
    ")"
   ]
  },
  {
   "cell_type": "code",
   "execution_count": 4,
   "id": "99c35712-1089-44f3-89ef-ed471b144c96",
   "metadata": {
    "colab": {
     "base_uri": "https://localhost:8080/"
    },
    "id": "99c35712-1089-44f3-89ef-ed471b144c96",
    "outputId": "9076061a-8661-4d2e-c1ed-887a92ec640b"
   },
   "outputs": [
    {
     "data": {
      "text/plain": [
       "((100773, 6, 14), (100773, 1), (33575, 6, 14), (33575, 1))"
      ]
     },
     "execution_count": 4,
     "metadata": {},
     "output_type": "execute_result"
    }
   ],
   "source": [
    "X_train.shape, y_train.shape, X_test.shape, y_test.shape"
   ]
  },
  {
   "cell_type": "code",
   "execution_count": 5,
   "id": "VqSuqgBCB_nA",
   "metadata": {
    "colab": {
     "base_uri": "https://localhost:8080/"
    },
    "id": "VqSuqgBCB_nA",
    "outputId": "26d50bbe-3fd3-4bed-e70e-7003d289c5d6"
   },
   "outputs": [
    {
     "data": {
      "text/plain": [
       "(6, 14)"
      ]
     },
     "execution_count": 5,
     "metadata": {},
     "output_type": "execute_result"
    }
   ],
   "source": [
    "X_test[60].shape\n"
   ]
  },
  {
   "cell_type": "code",
   "execution_count": null,
   "id": "dye8vjENBtXX",
   "metadata": {
    "id": "dye8vjENBtXX"
   },
   "outputs": [],
   "source": []
  },
  {
   "cell_type": "code",
   "execution_count": null,
   "id": "-3TttkaRCM4l",
   "metadata": {
    "id": "-3TttkaRCM4l"
   },
   "outputs": [],
   "source": []
  },
  {
   "cell_type": "code",
   "execution_count": 6,
   "id": "3a85634b-4e9c-45b8-b456-cb970457302f",
   "metadata": {
    "id": "3a85634b-4e9c-45b8-b456-cb970457302f"
   },
   "outputs": [
    {
     "name": "stdout",
     "output_type": "stream",
     "text": [
      "Model: \"Sequential_CNN\"\n",
      "_________________________________________________________________\n",
      " Layer (type)                Output Shape              Param #   \n",
      "=================================================================\n",
      " conv2d (Conv2D)             (None, 2, 4, 256)         1280      \n",
      "                                                                 \n",
      " max_pooling2d (MaxPooling2D  (None, 1, 3, 256)        0         \n",
      " )                                                               \n"
     ]
    },
    {
     "name": "stderr",
     "output_type": "stream",
     "text": [
      "2023-01-18 22:55:37.469572: I tensorflow/core/platform/cpu_feature_guard.cc:193] This TensorFlow binary is optimized with oneAPI Deep Neural Network Library (oneDNN) to use the following CPU instructions in performance-critical operations:  AVX2 FMA\n",
      "To enable them in other operations, rebuild TensorFlow with the appropriate compiler flags.\n"
     ]
    },
    {
     "name": "stdout",
     "output_type": "stream",
     "text": [
      "                                                                 \n",
      " flatten (Flatten)           (None, 768)               0         \n",
      "                                                                 \n",
      " dense (Dense)               (None, 64)                49216     \n",
      "                                                                 \n",
      " dense_1 (Dense)             (None, 32)                2080      \n",
      "                                                                 \n",
      " dense_2 (Dense)             (None, 5)                 165       \n",
      "                                                                 \n",
      "=================================================================\n",
      "Total params: 52,741\n",
      "Trainable params: 52,741\n",
      "Non-trainable params: 0\n",
      "_________________________________________________________________\n"
     ]
    }
   ],
   "source": [
    "from tensorflow.keras.models import Sequential\n",
    "from tensorflow.keras.layers import Conv2D, MaxPooling2D, Flatten, Dense\n",
    "\n",
    "CNN = Sequential(name=\"Sequential_CNN\")\n",
    "\n",
    "CNN.add(Conv2D(256, kernel_size=(2, 2),\n",
    "               strides=(4, 4), padding=\"same\",\n",
    "               activation=\"selu\", input_shape=[6, 14, 1]))\n",
    "\n",
    "CNN.add(MaxPooling2D(pool_size=(2, 2), strides=(1, 1),\n",
    "                     padding=\"valid\"))\n",
    "\n",
    "# Add another pair of Conv2D and MaxPooling2D for more model depth,\n",
    "# followed by the flatten and multiple dense layers\n",
    "\n",
    "# CNN.add(Conv2D(64, kernel_size=(3, 3),\n",
    "#                strides=(1, 1), padding=\"same\",\n",
    "#                activation=\"selu\"))\n",
    "\n",
    "# CNN.add(MaxPooling2D(pool_size=(2, 2), strides=(1, 1),\n",
    "#                      padding=\"valid\"))\n",
    "\n",
    "CNN.add(Flatten())\n",
    "\n",
    "CNN.add(Dense(64, activation='selu'))\n",
    "CNN.add(Dense(32, activation='selu'))\n",
    "CNN.add(Dense(5, activation='softmax'))\n",
    "\n",
    "CNN.summary()"
   ]
  },
  {
   "cell_type": "code",
   "execution_count": null,
   "id": "j0C2RSxICKzq",
   "metadata": {
    "colab": {
     "base_uri": "https://localhost:8080/"
    },
    "id": "j0C2RSxICKzq",
    "outputId": "af853522-fdf6-40e4-8d0e-cd2a6dcdab9b"
   },
   "outputs": [],
   "source": []
  },
  {
   "cell_type": "code",
   "execution_count": 7,
   "id": "911581af",
   "metadata": {},
   "outputs": [],
   "source": [
    "from numpy import *\n",
    "where_are_NaNsx = isnan(X_train)\n",
    "X_train[where_are_NaNsx] = 0\n",
    "\n",
    "where_are_NaNsy = isnan(y_train)\n",
    "y_train[where_are_NaNsy] = 0\n",
    "\n",
    "where_are_NaNsxt = isnan(X_test)\n",
    "X_test[where_are_NaNsxt] = 0\n",
    "\n",
    "where_are_NaNsyt = isnan(y_test)\n",
    "y_test[where_are_NaNsyt] = 0"
   ]
  },
  {
   "cell_type": "code",
   "execution_count": 8,
   "id": "7baf8970-5318-4461-b828-d34c232afa5f",
   "metadata": {
    "colab": {
     "base_uri": "https://localhost:8080/"
    },
    "id": "7baf8970-5318-4461-b828-d34c232afa5f",
    "outputId": "08a66cc8-aeee-42ba-f039-9dfa2ba6f99e"
   },
   "outputs": [
    {
     "name": "stdout",
     "output_type": "stream",
     "text": [
      "Epoch 1/100\n",
      "394/394 [==============================] - 7s 16ms/step - loss: 0.4653 - accuracy: 0.7891 - val_loss: 0.2304 - val_accuracy: 0.9130\n",
      "Epoch 2/100\n",
      "394/394 [==============================] - 6s 16ms/step - loss: 0.2723 - accuracy: 0.8905 - val_loss: 0.1756 - val_accuracy: 0.9380\n",
      "Epoch 3/100\n",
      "394/394 [==============================] - 5s 14ms/step - loss: 0.2025 - accuracy: 0.9251 - val_loss: 0.1235 - val_accuracy: 0.9691\n",
      "Epoch 4/100\n",
      "394/394 [==============================] - 6s 15ms/step - loss: 0.1696 - accuracy: 0.9405 - val_loss: 0.1697 - val_accuracy: 0.9331\n",
      "Epoch 5/100\n",
      "394/394 [==============================] - 6s 14ms/step - loss: 0.1501 - accuracy: 0.9483 - val_loss: 0.1285 - val_accuracy: 0.9555\n",
      "Epoch 6/100\n",
      "394/394 [==============================] - 6s 15ms/step - loss: 0.1388 - accuracy: 0.9539 - val_loss: 0.1283 - val_accuracy: 0.9412\n",
      "Epoch 7/100\n",
      "394/394 [==============================] - 6s 15ms/step - loss: 0.1287 - accuracy: 0.9580 - val_loss: 0.0858 - val_accuracy: 0.9797\n",
      "Epoch 8/100\n",
      "394/394 [==============================] - 6s 15ms/step - loss: 0.1197 - accuracy: 0.9605 - val_loss: 0.0648 - val_accuracy: 0.9868\n",
      "Epoch 9/100\n",
      "394/394 [==============================] - 6s 15ms/step - loss: 0.1158 - accuracy: 0.9620 - val_loss: 0.0724 - val_accuracy: 0.9854\n",
      "Epoch 10/100\n",
      "394/394 [==============================] - 6s 14ms/step - loss: 0.1090 - accuracy: 0.9640 - val_loss: 0.0720 - val_accuracy: 0.9834\n",
      "Epoch 11/100\n",
      "394/394 [==============================] - 6s 15ms/step - loss: 0.1050 - accuracy: 0.9654 - val_loss: 0.0645 - val_accuracy: 0.9853\n",
      "Epoch 12/100\n",
      "394/394 [==============================] - 6s 15ms/step - loss: 0.0970 - accuracy: 0.9684 - val_loss: 0.0725 - val_accuracy: 0.9796\n",
      "Epoch 13/100\n",
      "394/394 [==============================] - 6s 14ms/step - loss: 0.0976 - accuracy: 0.9684 - val_loss: 0.0988 - val_accuracy: 0.9683\n",
      "Epoch 14/100\n",
      "394/394 [==============================] - 6s 14ms/step - loss: 0.0838 - accuracy: 0.9733 - val_loss: 0.0578 - val_accuracy: 0.9868\n",
      "Epoch 15/100\n",
      "394/394 [==============================] - 6s 15ms/step - loss: 0.0867 - accuracy: 0.9723 - val_loss: 0.0852 - val_accuracy: 0.9758\n",
      "Epoch 16/100\n",
      "394/394 [==============================] - 6s 15ms/step - loss: 0.0851 - accuracy: 0.9730 - val_loss: 0.0964 - val_accuracy: 0.9765\n",
      "Epoch 17/100\n",
      "394/394 [==============================] - 6s 14ms/step - loss: 0.0825 - accuracy: 0.9732 - val_loss: 0.0647 - val_accuracy: 0.9819\n",
      "Epoch 18/100\n",
      "394/394 [==============================] - 5s 14ms/step - loss: 0.0805 - accuracy: 0.9739 - val_loss: 0.0701 - val_accuracy: 0.9817\n",
      "Epoch 19/100\n",
      "394/394 [==============================] - 5s 14ms/step - loss: 0.0803 - accuracy: 0.9740 - val_loss: 0.0891 - val_accuracy: 0.9753\n",
      "Epoch 20/100\n",
      "394/394 [==============================] - 6s 16ms/step - loss: 0.0773 - accuracy: 0.9754 - val_loss: 0.0792 - val_accuracy: 0.9753\n",
      "Epoch 21/100\n",
      "394/394 [==============================] - 6s 14ms/step - loss: 0.0765 - accuracy: 0.9759 - val_loss: 0.0721 - val_accuracy: 0.9778\n",
      "Epoch 22/100\n",
      "394/394 [==============================] - 6s 14ms/step - loss: 0.0759 - accuracy: 0.9759 - val_loss: 0.1343 - val_accuracy: 0.9606\n",
      "Epoch 23/100\n",
      "394/394 [==============================] - 6s 14ms/step - loss: 0.0712 - accuracy: 0.9779 - val_loss: 0.0717 - val_accuracy: 0.9777\n",
      "Epoch 24/100\n",
      "394/394 [==============================] - 7s 17ms/step - loss: 0.0830 - accuracy: 0.9742 - val_loss: 0.0954 - val_accuracy: 0.9700\n",
      "Epoch 25/100\n",
      "394/394 [==============================] - 6s 16ms/step - loss: 0.0696 - accuracy: 0.9782 - val_loss: 0.1189 - val_accuracy: 0.9647\n",
      "Epoch 26/100\n",
      "394/394 [==============================] - 6s 16ms/step - loss: 0.0688 - accuracy: 0.9785 - val_loss: 0.0820 - val_accuracy: 0.9719\n",
      "Epoch 27/100\n",
      "394/394 [==============================] - 6s 16ms/step - loss: 0.0702 - accuracy: 0.9779 - val_loss: 0.1260 - val_accuracy: 0.9619\n",
      "Epoch 28/100\n",
      "394/394 [==============================] - 6s 16ms/step - loss: 0.0658 - accuracy: 0.9798 - val_loss: 0.1301 - val_accuracy: 0.9622\n",
      "Epoch 29/100\n",
      "394/394 [==============================] - 6s 14ms/step - loss: 0.0679 - accuracy: 0.9789 - val_loss: 0.0884 - val_accuracy: 0.9710\n",
      "Epoch 30/100\n",
      "394/394 [==============================] - 6s 16ms/step - loss: 0.0676 - accuracy: 0.9796 - val_loss: 0.0957 - val_accuracy: 0.9699\n",
      "Epoch 31/100\n",
      "394/394 [==============================] - 6s 14ms/step - loss: 0.0650 - accuracy: 0.9800 - val_loss: 0.1313 - val_accuracy: 0.9609\n",
      "Epoch 32/100\n",
      "394/394 [==============================] - 6s 14ms/step - loss: 0.0671 - accuracy: 0.9789 - val_loss: 0.1032 - val_accuracy: 0.9668\n",
      "Epoch 33/100\n",
      "394/394 [==============================] - 5s 14ms/step - loss: 0.0667 - accuracy: 0.9792 - val_loss: 0.1637 - val_accuracy: 0.9535\n",
      "Epoch 34/100\n",
      "394/394 [==============================] - 6s 14ms/step - loss: 0.0657 - accuracy: 0.9797 - val_loss: 0.1532 - val_accuracy: 0.9568\n",
      "Epoch 35/100\n",
      "394/394 [==============================] - 6s 16ms/step - loss: 0.0654 - accuracy: 0.9795 - val_loss: 0.1329 - val_accuracy: 0.9599\n",
      "Epoch 36/100\n",
      "394/394 [==============================] - 6s 15ms/step - loss: 0.0678 - accuracy: 0.9792 - val_loss: 0.2160 - val_accuracy: 0.9383\n",
      "Epoch 37/100\n",
      "394/394 [==============================] - 6s 15ms/step - loss: 0.0668 - accuracy: 0.9790 - val_loss: 0.2186 - val_accuracy: 0.9397\n",
      "Epoch 38/100\n",
      "394/394 [==============================] - 5s 14ms/step - loss: 0.0616 - accuracy: 0.9813 - val_loss: 0.1845 - val_accuracy: 0.9451\n",
      "Epoch 39/100\n",
      "394/394 [==============================] - 6s 14ms/step - loss: 0.0616 - accuracy: 0.9810 - val_loss: 0.1645 - val_accuracy: 0.9537\n",
      "Epoch 40/100\n",
      "394/394 [==============================] - 6s 15ms/step - loss: 0.0595 - accuracy: 0.9818 - val_loss: 0.1798 - val_accuracy: 0.9495\n",
      "Epoch 41/100\n",
      "394/394 [==============================] - 6s 15ms/step - loss: 0.0595 - accuracy: 0.9816 - val_loss: 0.2387 - val_accuracy: 0.9385\n",
      "Epoch 42/100\n",
      "394/394 [==============================] - 6s 14ms/step - loss: 0.0614 - accuracy: 0.9809 - val_loss: 0.2000 - val_accuracy: 0.9420\n",
      "Epoch 43/100\n",
      "394/394 [==============================] - 6s 16ms/step - loss: 0.0632 - accuracy: 0.9803 - val_loss: 0.1280 - val_accuracy: 0.9603\n",
      "Epoch 44/100\n",
      "394/394 [==============================] - 6s 15ms/step - loss: 0.0609 - accuracy: 0.9809 - val_loss: 0.1849 - val_accuracy: 0.9479\n",
      "Epoch 45/100\n",
      "394/394 [==============================] - 6s 14ms/step - loss: 0.0558 - accuracy: 0.9832 - val_loss: 0.1639 - val_accuracy: 0.9544\n",
      "Epoch 46/100\n",
      "394/394 [==============================] - 6s 15ms/step - loss: 0.0596 - accuracy: 0.9814 - val_loss: 0.1935 - val_accuracy: 0.9447\n",
      "Epoch 47/100\n",
      "394/394 [==============================] - 6s 14ms/step - loss: 0.0608 - accuracy: 0.9809 - val_loss: 0.2583 - val_accuracy: 0.9348\n",
      "Epoch 48/100\n",
      "394/394 [==============================] - 6s 15ms/step - loss: 0.0578 - accuracy: 0.9823 - val_loss: 0.1933 - val_accuracy: 0.9441\n",
      "Epoch 49/100\n",
      "394/394 [==============================] - 6s 15ms/step - loss: 0.0612 - accuracy: 0.9805 - val_loss: 0.1884 - val_accuracy: 0.9450\n",
      "Epoch 50/100\n",
      "394/394 [==============================] - 6s 15ms/step - loss: 0.0572 - accuracy: 0.9824 - val_loss: 0.2341 - val_accuracy: 0.9370\n",
      "Epoch 51/100\n",
      "394/394 [==============================] - 6s 15ms/step - loss: 0.0641 - accuracy: 0.9800 - val_loss: 0.2512 - val_accuracy: 0.9369\n",
      "Epoch 52/100\n",
      "394/394 [==============================] - 6s 14ms/step - loss: 0.0573 - accuracy: 0.9820 - val_loss: 0.2133 - val_accuracy: 0.9393\n",
      "Epoch 53/100\n",
      "394/394 [==============================] - 6s 15ms/step - loss: 0.0545 - accuracy: 0.9830 - val_loss: 0.1839 - val_accuracy: 0.9474\n",
      "Epoch 54/100\n",
      "394/394 [==============================] - 6s 15ms/step - loss: 0.0571 - accuracy: 0.9823 - val_loss: 0.3304 - val_accuracy: 0.9315\n",
      "Epoch 55/100\n",
      "394/394 [==============================] - 6s 15ms/step - loss: 0.0553 - accuracy: 0.9827 - val_loss: 0.2257 - val_accuracy: 0.9432\n",
      "Epoch 56/100\n",
      "394/394 [==============================] - 6s 15ms/step - loss: 0.0557 - accuracy: 0.9830 - val_loss: 0.1798 - val_accuracy: 0.9477\n",
      "Epoch 57/100\n"
     ]
    },
    {
     "name": "stdout",
     "output_type": "stream",
     "text": [
      "394/394 [==============================] - 6s 15ms/step - loss: 0.0570 - accuracy: 0.9824 - val_loss: 0.2194 - val_accuracy: 0.9391\n",
      "Epoch 58/100\n",
      "394/394 [==============================] - 6s 15ms/step - loss: 0.0562 - accuracy: 0.9829 - val_loss: 0.1876 - val_accuracy: 0.9465\n",
      "Epoch 59/100\n",
      "394/394 [==============================] - 6s 15ms/step - loss: 0.0546 - accuracy: 0.9832 - val_loss: 0.2357 - val_accuracy: 0.9399\n",
      "Epoch 60/100\n",
      "394/394 [==============================] - 6s 15ms/step - loss: 0.0530 - accuracy: 0.9833 - val_loss: 0.2124 - val_accuracy: 0.9411\n",
      "Epoch 61/100\n",
      "394/394 [==============================] - 6s 14ms/step - loss: 0.0537 - accuracy: 0.9837 - val_loss: 0.3011 - val_accuracy: 0.9343\n",
      "Epoch 62/100\n",
      "394/394 [==============================] - 5s 14ms/step - loss: 0.0531 - accuracy: 0.9835 - val_loss: 0.3225 - val_accuracy: 0.9290\n",
      "Epoch 63/100\n",
      "394/394 [==============================] - 6s 15ms/step - loss: 0.0530 - accuracy: 0.9836 - val_loss: 0.2917 - val_accuracy: 0.9336\n",
      "Epoch 64/100\n",
      "394/394 [==============================] - 6s 15ms/step - loss: 0.0589 - accuracy: 0.9816 - val_loss: 0.4272 - val_accuracy: 0.9030\n",
      "Epoch 65/100\n",
      "394/394 [==============================] - 6s 15ms/step - loss: 0.0532 - accuracy: 0.9835 - val_loss: 0.3347 - val_accuracy: 0.9246\n",
      "Epoch 66/100\n",
      "394/394 [==============================] - 6s 15ms/step - loss: 0.0530 - accuracy: 0.9836 - val_loss: 0.3576 - val_accuracy: 0.9232\n",
      "Epoch 67/100\n",
      "394/394 [==============================] - 6s 15ms/step - loss: 0.0514 - accuracy: 0.9839 - val_loss: 0.2551 - val_accuracy: 0.9355\n",
      "Epoch 68/100\n",
      "394/394 [==============================] - 5s 14ms/step - loss: 0.0539 - accuracy: 0.9836 - val_loss: 0.2453 - val_accuracy: 0.9348\n",
      "Epoch 69/100\n",
      "394/394 [==============================] - 5s 14ms/step - loss: 0.0508 - accuracy: 0.9844 - val_loss: 0.2865 - val_accuracy: 0.9341\n",
      "Epoch 70/100\n",
      "394/394 [==============================] - 6s 15ms/step - loss: 0.0533 - accuracy: 0.9838 - val_loss: 0.3143 - val_accuracy: 0.9298\n",
      "Epoch 71/100\n",
      "394/394 [==============================] - 6s 15ms/step - loss: 0.0562 - accuracy: 0.9825 - val_loss: 0.2377 - val_accuracy: 0.9395\n",
      "Epoch 72/100\n",
      "394/394 [==============================] - 6s 14ms/step - loss: 0.0492 - accuracy: 0.9851 - val_loss: 0.3655 - val_accuracy: 0.9223\n",
      "Epoch 73/100\n",
      "394/394 [==============================] - 6s 14ms/step - loss: 0.0495 - accuracy: 0.9847 - val_loss: 0.1831 - val_accuracy: 0.9478\n",
      "Epoch 74/100\n",
      "394/394 [==============================] - 6s 16ms/step - loss: 0.0501 - accuracy: 0.9847 - val_loss: 0.2990 - val_accuracy: 0.9317\n",
      "Epoch 75/100\n",
      "394/394 [==============================] - 6s 14ms/step - loss: 0.0508 - accuracy: 0.9843 - val_loss: 0.2317 - val_accuracy: 0.9351\n",
      "Epoch 76/100\n",
      "394/394 [==============================] - 6s 15ms/step - loss: 0.0499 - accuracy: 0.9847 - val_loss: 0.2080 - val_accuracy: 0.9403\n",
      "Epoch 77/100\n",
      "394/394 [==============================] - 6s 14ms/step - loss: 0.0489 - accuracy: 0.9851 - val_loss: 0.2098 - val_accuracy: 0.9394\n",
      "Epoch 78/100\n",
      "394/394 [==============================] - 5s 14ms/step - loss: 0.0513 - accuracy: 0.9839 - val_loss: 0.3193 - val_accuracy: 0.9246\n",
      "Epoch 79/100\n",
      "394/394 [==============================] - 6s 15ms/step - loss: 0.0476 - accuracy: 0.9851 - val_loss: 0.2924 - val_accuracy: 0.9301\n",
      "Epoch 80/100\n",
      "394/394 [==============================] - 6s 14ms/step - loss: 0.0484 - accuracy: 0.9853 - val_loss: 0.2645 - val_accuracy: 0.9323\n",
      "Epoch 81/100\n",
      "394/394 [==============================] - 6s 15ms/step - loss: 0.0504 - accuracy: 0.9846 - val_loss: 0.1968 - val_accuracy: 0.9434\n",
      "Epoch 82/100\n",
      "394/394 [==============================] - 6s 16ms/step - loss: 0.0547 - accuracy: 0.9831 - val_loss: 0.2347 - val_accuracy: 0.9359\n",
      "Epoch 83/100\n",
      "394/394 [==============================] - 6s 15ms/step - loss: 0.0471 - accuracy: 0.9854 - val_loss: 0.3384 - val_accuracy: 0.9171\n",
      "Epoch 84/100\n",
      "394/394 [==============================] - 6s 14ms/step - loss: 0.0492 - accuracy: 0.9849 - val_loss: 0.1805 - val_accuracy: 0.9457\n",
      "Epoch 85/100\n",
      "394/394 [==============================] - 5s 14ms/step - loss: 0.0473 - accuracy: 0.9856 - val_loss: 0.2608 - val_accuracy: 0.9275\n",
      "Epoch 86/100\n",
      "394/394 [==============================] - 5s 13ms/step - loss: 0.0469 - accuracy: 0.9859 - val_loss: 0.2684 - val_accuracy: 0.9320\n",
      "Epoch 87/100\n",
      "394/394 [==============================] - 5s 13ms/step - loss: 0.0501 - accuracy: 0.9844 - val_loss: 0.2696 - val_accuracy: 0.9252\n",
      "Epoch 88/100\n",
      "394/394 [==============================] - 5s 14ms/step - loss: 0.0478 - accuracy: 0.9852 - val_loss: 0.2743 - val_accuracy: 0.9309\n",
      "Epoch 89/100\n",
      "394/394 [==============================] - 6s 14ms/step - loss: 0.0481 - accuracy: 0.9854 - val_loss: 0.2600 - val_accuracy: 0.9328\n",
      "Epoch 90/100\n",
      "394/394 [==============================] - 6s 14ms/step - loss: 0.0472 - accuracy: 0.9858 - val_loss: 0.1840 - val_accuracy: 0.9464\n",
      "Epoch 91/100\n",
      "394/394 [==============================] - 6s 14ms/step - loss: 0.0475 - accuracy: 0.9853 - val_loss: 0.2145 - val_accuracy: 0.9383\n",
      "Epoch 92/100\n",
      "394/394 [==============================] - 6s 14ms/step - loss: 0.0455 - accuracy: 0.9864 - val_loss: 0.2679 - val_accuracy: 0.9326\n",
      "Epoch 93/100\n",
      "394/394 [==============================] - 6s 15ms/step - loss: 0.0454 - accuracy: 0.9861 - val_loss: 0.2609 - val_accuracy: 0.9312\n",
      "Epoch 94/100\n",
      "394/394 [==============================] - 6s 14ms/step - loss: 0.0480 - accuracy: 0.9851 - val_loss: 0.1671 - val_accuracy: 0.9547\n",
      "Epoch 95/100\n",
      "394/394 [==============================] - 6s 14ms/step - loss: 0.0491 - accuracy: 0.9848 - val_loss: 0.1739 - val_accuracy: 0.9511\n",
      "Epoch 96/100\n",
      "394/394 [==============================] - 6s 15ms/step - loss: 0.0485 - accuracy: 0.9848 - val_loss: 0.2668 - val_accuracy: 0.9294\n",
      "Epoch 97/100\n",
      "394/394 [==============================] - 5s 14ms/step - loss: 0.0460 - accuracy: 0.9858 - val_loss: 0.2568 - val_accuracy: 0.9308\n",
      "Epoch 98/100\n",
      "394/394 [==============================] - 6s 15ms/step - loss: 0.0443 - accuracy: 0.9868 - val_loss: 0.2206 - val_accuracy: 0.9402\n",
      "Epoch 99/100\n",
      "394/394 [==============================] - 5s 14ms/step - loss: 0.0483 - accuracy: 0.9851 - val_loss: 0.2366 - val_accuracy: 0.9303\n",
      "Epoch 100/100\n",
      "394/394 [==============================] - 5s 14ms/step - loss: 0.0453 - accuracy: 0.9858 - val_loss: 0.3378 - val_accuracy: 0.9190\n"
     ]
    }
   ],
   "source": [
    "optimizer = keras.optimizers.Adam(learning_rate=1e-3)\n",
    "\n",
    "CNN.compile(\n",
    "    loss='sparse_categorical_crossentropy',\n",
    "    optimizer=optimizer,\n",
    "    metrics=['accuracy'],\n",
    ")\n",
    "history = CNN.fit(\n",
    "    X_train,\n",
    "    y_train,\n",
    "    epochs=EPOCHS,\n",
    "    batch_size=256,\n",
    "    validation_data=(X_test, y_test),\n",
    "    verbose=1,\n",
    ")"
   ]
  },
  {
   "cell_type": "code",
   "execution_count": 9,
   "id": "70de8d27-4ff5-4dce-b45f-675dcc74513e",
   "metadata": {
    "colab": {
     "base_uri": "https://localhost:8080/"
    },
    "id": "70de8d27-4ff5-4dce-b45f-675dcc74513e",
    "outputId": "7211ef5c-5b4a-4afb-ad4f-7341eeb8f0f8"
   },
   "outputs": [],
   "source": [
    "# from functools import partial\n",
    "\n",
    "\n",
    "\n",
    "# _, num_time, num_feat = X_train.shape\n",
    "\n",
    "# activation = 'selu'\n",
    "\n",
    "# DefaultConv1D = partial(\n",
    "#     keras.layers.Conv1D,\n",
    "#     kernel_size=1,\n",
    "#     activation=activation,\n",
    "#     padding=\"valid\",\n",
    "# )\n",
    "\n",
    "# model = keras.models.Sequential([\n",
    "#     DefaultConv1D(4 * num_feat, kernel_size=2, input_shape=[num_time, num_feat]),\n",
    "#     keras.layers.BatchNormalization(),\n",
    "#     DefaultConv1D(num_feat, kernel_size=2),\n",
    "#     keras.layers.Flatten(),\n",
    "#     keras.layers.BatchNormalization(),\n",
    "#     keras.layers.Dense(num_time * num_feat, activation=activation),\n",
    "#     keras.layers.BatchNormalization(),\n",
    "#     keras.layers.Dense(num_feat, activation=activation),\n",
    "#     keras.layers.BatchNormalization(),\n",
    "#     keras.layers.Dense(5, activation='softmax'),\n",
    "# ])\n",
    "\n",
    "# optimizer = keras.optimizers.Adam(learning_rate=1e-3)\n",
    "\n",
    "# model.compile(\n",
    "#     loss='sparse_categorical_crossentropy',\n",
    "#     optimizer=optimizer,\n",
    "#     metrics=['accuracy'],\n",
    "# )\n",
    "\n",
    "# history = model.fit(\n",
    "#     X_train,\n",
    "#     y_train,\n",
    "#     epochs=EPOCHS,\n",
    "#     batch_size=BATCH_SIZE,\n",
    "#     validation_data=(X_test, y_test),\n",
    "#     verbose=1,\n",
    "# )"
   ]
  },
  {
   "cell_type": "code",
   "execution_count": 10,
   "id": "bed79725-2bb3-47ce-b06c-333c662b30bf",
   "metadata": {
    "colab": {
     "base_uri": "https://localhost:8080/",
     "height": 282
    },
    "id": "bed79725-2bb3-47ce-b06c-333c662b30bf",
    "outputId": "4354cc75-e44d-4d2a-ac4b-c55a4b3a9305"
   },
   "outputs": [
    {
     "data": {
      "text/plain": [
       "[<matplotlib.lines.Line2D at 0x7fb71180d7c0>]"
      ]
     },
     "execution_count": 10,
     "metadata": {},
     "output_type": "execute_result"
    },
    {
     "data": {
      "image/png": "[encoded data removed]",
      "text/plain": [
       "<Figure size 432x288 with 1 Axes>"
      ]
     },
     "metadata": {
      "needs_background": "light"
     },
     "output_type": "display_data"
    }
   ],
   "source": [
    "plt.plot(history.history['accuracy'])\n",
    "plt.plot(history.history['val_accuracy'])"
   ]
  },
  {
   "cell_type": "code",
   "execution_count": 11,
   "id": "3b65d81f-3d75-43d1-9e2d-88cef69d110b",
   "metadata": {
    "colab": {
     "base_uri": "https://localhost:8080/",
     "height": 265
    },
    "id": "3b65d81f-3d75-43d1-9e2d-88cef69d110b",
    "outputId": "97e18fb9-4340-478c-e307-82c03282e9cc"
   },
   "outputs": [
    {
     "data": {
      "image/png": "[encoded data removed]",
      "text/plain": [
       "<Figure size 432x288 with 1 Axes>"
      ]
     },
     "metadata": {
      "needs_background": "light"
     },
     "output_type": "display_data"
    }
   ],
   "source": [
    "plt.plot(history.history['loss'][10:])\n",
    "plt.plot(history.history['val_loss'][10:])\n",
    "plt.yscale('log')"
   ]
  },
  {
   "cell_type": "code",
   "execution_count": 12,
   "id": "8a964a60-488a-431e-8bcc-586e90d8956b",
   "metadata": {
    "id": "8a964a60-488a-431e-8bcc-586e90d8956b"
   },
   "outputs": [
    {
     "name": "stdout",
     "output_type": "stream",
     "text": [
      "1050/1050 [==============================] - 5s 4ms/step\n"
     ]
    }
   ],
   "source": [
    "y_pred = CNN.predict(X_test)"
   ]
  },
  {
   "cell_type": "code",
   "execution_count": 13,
   "id": "d7C0QyTLHO8q",
   "metadata": {
    "colab": {
     "base_uri": "https://localhost:8080/"
    },
    "id": "d7C0QyTLHO8q",
    "outputId": "78587010-2aa8-4cc7-e82f-7c40e11ce705"
   },
   "outputs": [
    {
     "data": {
      "text/plain": [
       "array([[9.76184487e-01, 1.67266878e-16, 2.94171127e-13, 2.38155443e-02,\n",
       "        2.80549834e-19],\n",
       "       [1.82890925e-11, 2.99571267e-17, 3.94233634e-21, 6.29952320e-21,\n",
       "        1.00000000e+00],\n",
       "       [3.26765911e-03, 9.07698294e-15, 9.29693128e-12, 9.96732354e-01,\n",
       "        1.11693188e-20],\n",
       "       ...,\n",
       "       [9.94077325e-01, 1.12881540e-16, 9.31058290e-13, 5.92269143e-03,\n",
       "        5.14190938e-21],\n",
       "       [8.15402091e-01, 2.96677440e-12, 8.27408897e-09, 1.84597924e-01,\n",
       "        1.26274085e-23],\n",
       "       [9.70857322e-01, 5.19428330e-17, 3.69473983e-13, 2.91427355e-02,\n",
       "        1.55488680e-21]], dtype=float32)"
      ]
     },
     "execution_count": 13,
     "metadata": {},
     "output_type": "execute_result"
    }
   ],
   "source": [
    "y_pred"
   ]
  },
  {
   "cell_type": "code",
   "execution_count": 14,
   "id": "1ljWvGo9skgS",
   "metadata": {
    "id": "1ljWvGo9skgS"
   },
   "outputs": [],
   "source": [
    "y_pred= np.argmax(y_pred, axis=1)"
   ]
  },
  {
   "cell_type": "code",
   "execution_count": 15,
   "id": "BIninuG_Hixu",
   "metadata": {
    "colab": {
     "base_uri": "https://localhost:8080/"
    },
    "id": "BIninuG_Hixu",
    "outputId": "8d52a3ce-46d5-41c3-f339-ec8e2feee684"
   },
   "outputs": [
    {
     "data": {
      "text/plain": [
       "array([0, 4, 3, ..., 0, 0, 0])"
      ]
     },
     "execution_count": 15,
     "metadata": {},
     "output_type": "execute_result"
    }
   ],
   "source": [
    "y_pred"
   ]
  },
  {
   "cell_type": "code",
   "execution_count": 16,
   "id": "3NzoyhrD4tO9",
   "metadata": {
    "colab": {
     "base_uri": "https://localhost:8080/"
    },
    "id": "3NzoyhrD4tO9",
    "outputId": "da09ab77-c439-431e-82a8-93fc98f20b49"
   },
   "outputs": [
    {
     "data": {
      "text/plain": [
       "0"
      ]
     },
     "execution_count": 16,
     "metadata": {},
     "output_type": "execute_result"
    }
   ],
   "source": [
    "y_pred[0]"
   ]
  },
  {
   "cell_type": "code",
   "execution_count": 17,
   "id": "48c3e9c7-2bc3-479a-8af1-bf35d87f3e57",
   "metadata": {
    "id": "48c3e9c7-2bc3-479a-8af1-bf35d87f3e57"
   },
   "outputs": [],
   "source": [
    "df = pd.DataFrame({\n",
    "    'y_test': y_test.ravel().astype(int).tolist(),\n",
    "    'y_pred': y_pred.ravel().astype(int).tolist(),\n",
    "})"
   ]
  },
  {
   "cell_type": "code",
   "execution_count": 18,
   "id": "18cfafbe-dafb-4a9e-8873-7f96e71f80b8",
   "metadata": {
    "colab": {
     "base_uri": "https://localhost:8080/",
     "height": 175
    },
    "id": "18cfafbe-dafb-4a9e-8873-7f96e71f80b8",
    "outputId": "aa49cb9d-c88e-437b-9a31-2809577d1da1"
   },
   "outputs": [
    {
     "data": {
      "text/html": [
       "<div>\n",
       "<style scoped>\n",
       "    .dataframe tbody tr th:only-of-type {\n",
       "        vertical-align: middle;\n",
       "    }\n",
       "\n",
       "    .dataframe tbody tr th {\n",
       "        vertical-align: top;\n",
       "    }\n",
       "\n",
       "    .dataframe thead th {\n",
       "        text-align: right;\n",
       "    }\n",
       "</style>\n",
       "<table border=\"1\" class=\"dataframe\">\n",
       "  <thead>\n",
       "    <tr style=\"text-align: right;\">\n",
       "      <th>y_pred</th>\n",
       "      <th>0</th>\n",
       "      <th>1</th>\n",
       "      <th>2</th>\n",
       "      <th>3</th>\n",
       "      <th>4</th>\n",
       "    </tr>\n",
       "    <tr>\n",
       "      <th>y_test</th>\n",
       "      <th></th>\n",
       "      <th></th>\n",
       "      <th></th>\n",
       "      <th></th>\n",
       "      <th></th>\n",
       "    </tr>\n",
       "  </thead>\n",
       "  <tbody>\n",
       "    <tr>\n",
       "      <th>0</th>\n",
       "      <td>11807</td>\n",
       "      <td>6</td>\n",
       "      <td>160</td>\n",
       "      <td>2420</td>\n",
       "      <td>2</td>\n",
       "    </tr>\n",
       "    <tr>\n",
       "      <th>1</th>\n",
       "      <td>64</td>\n",
       "      <td>4730</td>\n",
       "      <td>0</td>\n",
       "      <td>0</td>\n",
       "      <td>1</td>\n",
       "    </tr>\n",
       "    <tr>\n",
       "      <th>2</th>\n",
       "      <td>34</td>\n",
       "      <td>0</td>\n",
       "      <td>4761</td>\n",
       "      <td>0</td>\n",
       "      <td>0</td>\n",
       "    </tr>\n",
       "    <tr>\n",
       "      <th>3</th>\n",
       "      <td>33</td>\n",
       "      <td>0</td>\n",
       "      <td>0</td>\n",
       "      <td>4762</td>\n",
       "      <td>0</td>\n",
       "    </tr>\n",
       "    <tr>\n",
       "      <th>4</th>\n",
       "      <td>0</td>\n",
       "      <td>0</td>\n",
       "      <td>0</td>\n",
       "      <td>0</td>\n",
       "      <td>4795</td>\n",
       "    </tr>\n",
       "  </tbody>\n",
       "</table>\n",
       "</div>"
      ],
      "text/plain": [
       "y_pred      0     1     2     3     4\n",
       "y_test                               \n",
       "0       11807     6   160  2420     2\n",
       "1          64  4730     0     0     1\n",
       "2          34     0  4761     0     0\n",
       "3          33     0     0  4762     0\n",
       "4           0     0     0     0  4795"
      ]
     },
     "execution_count": 18,
     "metadata": {},
     "output_type": "execute_result"
    }
   ],
   "source": [
    "pd.crosstab(df['y_test'], df['y_pred'])"
   ]
  },
  {
   "cell_type": "code",
   "execution_count": 19,
   "id": "e192957b-1b16-47c8-89eb-d6e2fb9bde9f",
   "metadata": {
    "id": "e192957b-1b16-47c8-89eb-d6e2fb9bde9f"
   },
   "outputs": [],
   "source": [
    "# model.save('model.h5')"
   ]
  },
  {
   "cell_type": "code",
   "execution_count": 22,
   "id": "vZD1w6TZwk0e",
   "metadata": {
    "id": "vZD1w6TZwk0e"
   },
   "outputs": [],
   "source": [
    "CNN.save('model_90_92_rotate_sq.h5')"
   ]
  },
  {
   "cell_type": "code",
   "execution_count": null,
   "id": "6413c816",
   "metadata": {},
   "outputs": [],
   "source": []
  }
 ],
 "metadata": {
  "accelerator": "GPU",
  "colab": {
   "provenance": []
  },
  "gpuClass": "standard",
  "kernelspec": {
   "display_name": "Python 3 (ipykernel)",
   "language": "python",
   "name": "python3"
  },
  "language_info": {
   "codemirror_mode": {
    "name": "ipython",
    "version": 3
   },
   "file_extension": ".py",
   "mimetype": "text/x-python",
   "name": "python",
   "nbconvert_exporter": "python",
   "pygments_lexer": "ipython3",
   "version": "3.9.12"
  }
 },
 "nbformat": 4,
 "nbformat_minor": 5
}
