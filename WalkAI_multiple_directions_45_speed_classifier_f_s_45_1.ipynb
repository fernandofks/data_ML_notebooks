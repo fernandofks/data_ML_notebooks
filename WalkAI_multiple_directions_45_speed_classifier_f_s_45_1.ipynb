{
 "cells": [
  {
   "cell_type": "code",
   "execution_count": 25,
   "id": "b41f0b0f-cc96-43a2-ab7f-f3264587e7d2",
   "metadata": {
    "id": "b41f0b0f-cc96-43a2-ab7f-f3264587e7d2"
   },
   "outputs": [],
   "source": [
    "from pathlib import Path\n",
    "import matplotlib.pyplot as plt\n",
    "import numpy as np\n",
    "import pandas as pd\n",
    "import tensorflow as tf\n",
    "import tensorflow.keras as keras\n",
    "from tensorflow.python.keras.layers import Dense\n",
    "from numpy.random import default_rng\n",
    "from sklearn.model_selection import train_test_split"
   ]
  },
  {
   "cell_type": "code",
   "execution_count": 26,
   "id": "c9e9560b-749a-49a8-aedf-44a1ac9b4bb1",
   "metadata": {
    "id": "c9e9560b-749a-49a8-aedf-44a1ac9b4bb1"
   },
   "outputs": [],
   "source": [
    "# Loading pipeline params.\n",
    "DATA_PATH = Path('data')\n",
    "FILENAME_STOP = 'stop_45_diff_quat.csv'\n",
    "FILENAME_0 = '0_45_diff_quat.csv'\n",
    "FILENAME_90 = '90_45_diff_quat.csv'\n",
    "FILENAME_180 = '180_45_diff_quat.csv'\n",
    "FILENAME_270 = '270_45_diff_quat.csv'\n",
    "FILENAME_45 = '45_45_diff_quat.csv'\n",
    "FILENAME_135 = '135_45_diff_quat.csv'\n",
    "FILENAME_225 = '225_45_diff_quat.csv'\n",
    "FILENAME_315 = '315_45_diff_quat.csv'\n",
    "\n",
    "NUM_TIMESTEPS = 6\n",
    "IGNORE_FRACTION = 0.1\n",
    "TEST_FRACTION = 0.25\n",
    "\n",
    "# Training params.\n",
    "LEARNING_RATE = 1e-5\n",
    "EPOCHS = 100\n",
    "BATCH_SIZE = 512"
   ]
  },
  {
   "cell_type": "code",
   "execution_count": 27,
   "id": "7f52716d-1339-4484-9fd3-d5206979ba8e",
   "metadata": {
    "id": "7f52716d-1339-4484-9fd3-d5206979ba8e"
   },
   "outputs": [],
   "source": [
    "def load_data(\n",
    "    path_stop,\n",
    "    path_0,\n",
    "    path_45,\n",
    "    path_90,\n",
    "    path_135,\n",
    "    path_180,\n",
    "    path_225,\n",
    "    path_270,\n",
    "    path_315,\n",
    "    num_timesteps,\n",
    "    ignore_fraction,\n",
    "    test_fraction,\n",
    "):\n",
    "\n",
    "    def read_and_prepare_data(\n",
    "        path,\n",
    "        class_,\n",
    "        num_timesteps,\n",
    "        ignore_fraction,\n",
    "        test_fraction,\n",
    "    ):\n",
    "\n",
    "        def split_temporally(X, test_fraction):\n",
    "            num_samples = X.shape[0]\n",
    "            num_train = int(num_samples * (1.0 - test_fraction))\n",
    "            X_train, X_test = X[:num_train], X[num_train:]\n",
    "            return X_train, X_test\n",
    "\n",
    "        def transform_into_sequences(X, num_timesteps):\n",
    "            num_samples = X.shape[0]\n",
    "            X_seq = []\n",
    "            for k in range(num_samples - num_timesteps + 1):\n",
    "                X_seq.append(X[k:(k + num_timesteps)])\n",
    "            X_seq = np.array(X_seq)\n",
    "            y_seq = class_ * np.ones((X_seq.shape[0], 1))\n",
    "            return X_seq, y_seq\n",
    "\n",
    "        X = pd.read_csv(path).values\n",
    "        X = X[:, [0,1,2,3,4,5,6,7,8,9,10,11,12,13]]\n",
    "\n",
    "        # Ignore beginning and end.\n",
    "        num_samples = X.shape[0]\n",
    "        num_ignore = int(ignore_fraction * num_samples)\n",
    "        X = X[num_ignore:-num_ignore]\n",
    "\n",
    "        # Split X temporally.\n",
    "        X_train, X_test = split_temporally(X, test_fraction)\n",
    "        \n",
    "        # Transform X into short sequences.\n",
    "        X_train, y_train = transform_into_sequences(X_train, num_timesteps)\n",
    "        X_test, y_test = transform_into_sequences(X_test, num_timesteps)\n",
    "        X_test, X_val, y_test, y_val = train_test_split(X_test, y_test, test_size=0.5, random_state=42)\n",
    "        return X_train, y_train, X_test, y_test, X_val, y_val\n",
    "\n",
    "    def shuffle_data(X, y):\n",
    "        idx = np.arange(len(X))\n",
    "        default_rng().shuffle(idx)\n",
    "        X_shuffled = X[idx, :]\n",
    "        y_shuffled = y[idx]\n",
    "        return X_shuffled, y_shuffled\n",
    "\n",
    "    X_train_stop, y_train_stop, X_test_stop, y_test_stop, X_val_stop, y_val_stop = \\\n",
    "        read_and_prepare_data(\n",
    "            path_stop,\n",
    "            0.0,\n",
    "            num_timesteps,\n",
    "            ignore_fraction,\n",
    "            test_fraction,\n",
    "        )\n",
    "    \n",
    "    X_train_0, y_train_0, X_test_0, y_test_0, X_val_0, y_val_0 = \\\n",
    "        read_and_prepare_data(\n",
    "            path_0,\n",
    "            1.0,\n",
    "            num_timesteps,\n",
    "            ignore_fraction,\n",
    "            test_fraction,\n",
    "        )\n",
    "    X_train_45, y_train_45, X_test_45, y_test_45, X_val_45, y_val_45 = \\\n",
    "        read_and_prepare_data(\n",
    "            path_45,\n",
    "            2.0,\n",
    "            num_timesteps,\n",
    "            ignore_fraction,\n",
    "            test_fraction,\n",
    "        )\n",
    "\n",
    "\n",
    "    X_train_90, y_train_90, X_test_90, y_test_90, X_val_90, y_val_90 = \\\n",
    "        read_and_prepare_data(\n",
    "            path_90,\n",
    "            3.0,\n",
    "            num_timesteps,\n",
    "            ignore_fraction,\n",
    "            test_fraction,\n",
    "        )\n",
    "    \n",
    "    X_train_135, y_train_135, X_test_135, y_test_135, X_val_135, y_val_135 = \\\n",
    "        read_and_prepare_data(\n",
    "            path_135,\n",
    "            4.0,\n",
    "            num_timesteps,\n",
    "            ignore_fraction,\n",
    "            test_fraction,\n",
    "        )\n",
    "\n",
    "    \n",
    "    X_train_180, y_train_180, X_test_180, y_test_180, X_val_180, y_val_180 = \\\n",
    "        read_and_prepare_data(\n",
    "            path_180,\n",
    "            5.0,\n",
    "            num_timesteps,\n",
    "            ignore_fraction,\n",
    "            test_fraction,\n",
    "        )\n",
    "    \n",
    "    X_train_225, y_train_225, X_test_225, y_test_225, X_val_225, y_val_225 = \\\n",
    "        read_and_prepare_data(\n",
    "            path_225,\n",
    "            6.0,\n",
    "            num_timesteps,\n",
    "            ignore_fraction,\n",
    "            test_fraction,\n",
    "        )\n",
    "\n",
    "    \n",
    "    X_train_270, y_train_270, X_test_270, y_test_270,X_val_270, y_val_270  = \\\n",
    "        read_and_prepare_data(\n",
    "            path_270,\n",
    "            7.0,\n",
    "            num_timesteps,\n",
    "            ignore_fraction,\n",
    "            test_fraction,\n",
    "        )\n",
    "    \n",
    "    X_train_315, y_train_315, X_test_315, y_test_315, X_val_315, y_val_315 = \\\n",
    "        read_and_prepare_data(\n",
    "            path_315,\n",
    "            8.0,\n",
    "            num_timesteps,\n",
    "            ignore_fraction,\n",
    "            test_fraction,\n",
    "        )\n",
    "\n",
    "\n",
    "    X_train = np.concatenate((X_train_stop, X_train_0,X_train_45, X_train_90,X_train_135, X_train_180,X_train_225, X_train_270, X_train_315), axis=0)\n",
    "    y_train = np.concatenate((y_train_stop, y_train_0,y_train_45, y_train_90,y_train_135, y_train_180,y_train_225, y_train_270, y_train_315), axis=0)\n",
    "    X_test = np.concatenate((X_test_stop, X_test_0,X_test_45, X_test_90,X_test_135, X_test_180,X_test_225, X_test_270, X_test_315), axis=0)\n",
    "    y_test = np.concatenate(( y_test_stop,  y_test_0, y_test_45,  y_test_90, y_test_135,  y_test_180, y_test_225,  y_test_270,  y_test_315), axis=0)\n",
    "    X_val = np.concatenate(( X_val_stop,  X_val_0, X_val_45,  X_val_90, X_val_135,  X_val_180, X_val_225,  X_val_270,  X_val_315), axis=0)\n",
    "    y_val = np.concatenate(( y_val_stop,  y_val_0, y_val_45,  y_val_90, y_val_135,  y_val_180, y_val_225,  y_val_270,  y_val_315), axis=0)\n",
    "\n",
    "    \n",
    "    \n",
    "    X_train, y_train = shuffle_data(X_train, y_train)\n",
    "    X_test, y_test = shuffle_data(X_test, y_test)\n",
    "    X_val, y_val = shuffle_data(X_val, y_val)\n",
    "    return X_train, X_test,X_val, y_train, y_test, y_val\n",
    "\n",
    "\n",
    "path_stop = Path(DATA_PATH, FILENAME_STOP)\n",
    "path_0 = Path(DATA_PATH, FILENAME_0)\n",
    "path_45 = Path(DATA_PATH, FILENAME_45)\n",
    "\n",
    "path_90 = Path(DATA_PATH, FILENAME_90)\n",
    "path_135 = Path(DATA_PATH, FILENAME_135)\n",
    "\n",
    "path_180 = Path(DATA_PATH, FILENAME_180)\n",
    "path_225 = Path(DATA_PATH, FILENAME_225)\n",
    "\n",
    "path_270 = Path(DATA_PATH, FILENAME_270)\n",
    "path_315 = Path(DATA_PATH, FILENAME_315)\n",
    "\n",
    "\n",
    "X_train, X_test, X_val, y_train, y_test , y_val= load_data(\n",
    "    path_stop,\n",
    "    path_0,\n",
    "    path_45,\n",
    "    path_90,\n",
    "    path_135,\n",
    "    path_180,\n",
    "    path_225,\n",
    "    path_270,\n",
    "    path_315,\n",
    "    NUM_TIMESTEPS,\n",
    "    IGNORE_FRACTION,\n",
    "    TEST_FRACTION,\n",
    ")"
   ]
  },
  {
   "cell_type": "code",
   "execution_count": 28,
   "id": "99c35712-1089-44f3-89ef-ed471b144c96",
   "metadata": {
    "colab": {
     "base_uri": "https://localhost:8080/"
    },
    "id": "99c35712-1089-44f3-89ef-ed471b144c96",
    "outputId": "9076061a-8661-4d2e-c1ed-887a92ec640b"
   },
   "outputs": [
    {
     "data": {
      "text/plain": [
       "((14355, 6, 14), (14355, 1), (2373, 6, 14), (2373, 1))"
      ]
     },
     "execution_count": 28,
     "metadata": {},
     "output_type": "execute_result"
    }
   ],
   "source": [
    "X_train.shape, y_train.shape, X_test.shape, y_test.shape"
   ]
  },
  {
   "cell_type": "code",
   "execution_count": 29,
   "id": "VqSuqgBCB_nA",
   "metadata": {
    "colab": {
     "base_uri": "https://localhost:8080/"
    },
    "id": "VqSuqgBCB_nA",
    "outputId": "26d50bbe-3fd3-4bed-e70e-7003d289c5d6"
   },
   "outputs": [
    {
     "data": {
      "text/plain": [
       "(6, 14)"
      ]
     },
     "execution_count": 29,
     "metadata": {},
     "output_type": "execute_result"
    }
   ],
   "source": [
    "X_test[60].shape\n"
   ]
  },
  {
   "cell_type": "code",
   "execution_count": null,
   "id": "dye8vjENBtXX",
   "metadata": {
    "id": "dye8vjENBtXX"
   },
   "outputs": [],
   "source": []
  },
  {
   "cell_type": "code",
   "execution_count": null,
   "id": "-3TttkaRCM4l",
   "metadata": {
    "id": "-3TttkaRCM4l"
   },
   "outputs": [],
   "source": []
  },
  {
   "cell_type": "code",
   "execution_count": 30,
   "id": "3a85634b-4e9c-45b8-b456-cb970457302f",
   "metadata": {
    "id": "3a85634b-4e9c-45b8-b456-cb970457302f"
   },
   "outputs": [
    {
     "name": "stdout",
     "output_type": "stream",
     "text": [
      "Model: \"Sequential_CNN\"\n",
      "_________________________________________________________________\n",
      " Layer (type)                Output Shape              Param #   \n",
      "=================================================================\n",
      " conv2d_1 (Conv2D)           (None, 6, 14, 256)        1280      \n",
      "                                                                 \n",
      " max_pooling2d_1 (MaxPooling  (None, 3, 7, 256)        0         \n",
      " 2D)                                                             \n",
      "                                                                 \n",
      " flatten_1 (Flatten)         (None, 5376)              0         \n",
      "                                                                 \n",
      " dense_1 (Dense)             (None, 9)                 48393     \n",
      "                                                                 \n",
      "=================================================================\n",
      "Total params: 49,673\n",
      "Trainable params: 49,673\n",
      "Non-trainable params: 0\n",
      "_________________________________________________________________\n"
     ]
    }
   ],
   "source": [
    "from tensorflow.keras.models import Sequential\n",
    "from tensorflow.keras.layers import Conv2D, MaxPooling2D, Flatten, Dense, InputLayer\n",
    "\n",
    "CNN = Sequential(name=\"Sequential_CNN\")\n",
    "\n",
    "CNN.add(Conv2D(256, kernel_size=(2, 2),\n",
    "               strides=(1, 1), padding=\"same\",\n",
    "               activation=\"selu\", input_shape=[6, 14, 1]))\n",
    "\n",
    "CNN.add(MaxPooling2D(pool_size=(2, 2), strides=(2, 2),\n",
    "                     padding=\"valid\"))\n",
    "\n",
    "# Add another pair of Conv2D and MaxPooling2D for more model depth,\n",
    "# followed by the flatten and multiple dense layers\n",
    "\n",
    "# CNN.add(Conv2D(64, kernel_size=(3, 3),\n",
    "#                strides=(1, 1), padding=\"same\",\n",
    "#                activation=\"selu\"))\n",
    "\n",
    "# CNN.add(MaxPooling2D(pool_size=(2, 2), strides=(1, 1),\n",
    "#                      padding=\"valid\"))\n",
    "# CNN.add(InputLayer(input_shape=(6,14,1 )))\n",
    "CNN.add(Flatten())\n",
    "\n",
    "# CNN.add(Dense(64, activation='selu'))\n",
    "# CNN.add(Dense(32, activation='selu'))\n",
    "CNN.add(Dense(9, activation='softmax'))\n",
    "\n",
    "CNN.summary()"
   ]
  },
  {
   "cell_type": "code",
   "execution_count": null,
   "id": "j0C2RSxICKzq",
   "metadata": {
    "colab": {
     "base_uri": "https://localhost:8080/"
    },
    "id": "j0C2RSxICKzq",
    "outputId": "af853522-fdf6-40e4-8d0e-cd2a6dcdab9b"
   },
   "outputs": [],
   "source": []
  },
  {
   "cell_type": "code",
   "execution_count": 31,
   "id": "911581af",
   "metadata": {},
   "outputs": [],
   "source": [
    "from numpy import *\n",
    "where_are_NaNsx = isnan(X_train)\n",
    "X_train[where_are_NaNsx] = 0\n",
    "\n",
    "where_are_NaNsy = isnan(y_train)\n",
    "y_train[where_are_NaNsy] = 0\n",
    "\n",
    "where_are_NaNsxt = isnan(X_test)\n",
    "X_test[where_are_NaNsxt] = 0\n",
    "\n",
    "where_are_NaNsyt = isnan(y_test)\n",
    "y_test[where_are_NaNsyt] = 0"
   ]
  },
  {
   "cell_type": "code",
   "execution_count": 32,
   "id": "7baf8970-5318-4461-b828-d34c232afa5f",
   "metadata": {
    "colab": {
     "base_uri": "https://localhost:8080/"
    },
    "id": "7baf8970-5318-4461-b828-d34c232afa5f",
    "outputId": "08a66cc8-aeee-42ba-f039-9dfa2ba6f99e"
   },
   "outputs": [
    {
     "name": "stdout",
     "output_type": "stream",
     "text": [
      "Epoch 1/50\n",
      "57/57 [==============================] - 4s 58ms/step - loss: 1.1915 - accuracy: 0.6835 - val_loss: 0.7585 - val_accuracy: 0.8325\n",
      "Epoch 2/50\n",
      "57/57 [==============================] - 3s 57ms/step - loss: 0.6473 - accuracy: 0.8238 - val_loss: 0.6116 - val_accuracy: 0.8245\n",
      "Epoch 3/50\n",
      "57/57 [==============================] - 3s 55ms/step - loss: 0.5030 - accuracy: 0.8488 - val_loss: 0.5585 - val_accuracy: 0.8686\n",
      "Epoch 4/50\n",
      "57/57 [==============================] - 3s 54ms/step - loss: 0.4392 - accuracy: 0.8623 - val_loss: 0.4913 - val_accuracy: 0.8585\n",
      "Epoch 5/50\n",
      "57/57 [==============================] - 3s 54ms/step - loss: 0.3865 - accuracy: 0.8766 - val_loss: 0.4608 - val_accuracy: 0.8925\n",
      "Epoch 6/50\n",
      "57/57 [==============================] - 3s 54ms/step - loss: 0.3541 - accuracy: 0.8828 - val_loss: 0.4205 - val_accuracy: 0.8829\n",
      "Epoch 7/50\n",
      "57/57 [==============================] - 3s 57ms/step - loss: 0.3349 - accuracy: 0.8885 - val_loss: 0.4029 - val_accuracy: 0.8955\n",
      "Epoch 8/50\n",
      "57/57 [==============================] - 3s 54ms/step - loss: 0.3105 - accuracy: 0.9008 - val_loss: 0.3645 - val_accuracy: 0.8980\n",
      "Epoch 9/50\n",
      "57/57 [==============================] - 3s 55ms/step - loss: 0.2961 - accuracy: 0.9041 - val_loss: 0.4114 - val_accuracy: 0.9064\n",
      "Epoch 10/50\n",
      "57/57 [==============================] - 4s 61ms/step - loss: 0.2839 - accuracy: 0.9142 - val_loss: 0.3290 - val_accuracy: 0.9047\n",
      "Epoch 11/50\n",
      "57/57 [==============================] - 4s 71ms/step - loss: 0.2672 - accuracy: 0.9211 - val_loss: 0.3501 - val_accuracy: 0.9005\n",
      "Epoch 12/50\n",
      "57/57 [==============================] - 3s 60ms/step - loss: 0.2555 - accuracy: 0.9268 - val_loss: 0.3349 - val_accuracy: 0.9156\n",
      "Epoch 13/50\n",
      "57/57 [==============================] - 3s 58ms/step - loss: 0.2479 - accuracy: 0.9307 - val_loss: 0.3277 - val_accuracy: 0.9102\n",
      "Epoch 14/50\n",
      "57/57 [==============================] - 3s 57ms/step - loss: 0.2389 - accuracy: 0.9333 - val_loss: 0.2838 - val_accuracy: 0.9278\n",
      "Epoch 15/50\n",
      "57/57 [==============================] - 3s 57ms/step - loss: 0.2302 - accuracy: 0.9339 - val_loss: 0.3229 - val_accuracy: 0.9131\n",
      "Epoch 16/50\n",
      "57/57 [==============================] - 3s 57ms/step - loss: 0.2264 - accuracy: 0.9365 - val_loss: 0.3139 - val_accuracy: 0.9144\n",
      "Epoch 17/50\n",
      "57/57 [==============================] - 3s 59ms/step - loss: 0.2231 - accuracy: 0.9377 - val_loss: 0.2762 - val_accuracy: 0.9219\n",
      "Epoch 18/50\n",
      "57/57 [==============================] - 3s 57ms/step - loss: 0.2115 - accuracy: 0.9414 - val_loss: 0.2895 - val_accuracy: 0.9207\n",
      "Epoch 19/50\n",
      "57/57 [==============================] - 3s 58ms/step - loss: 0.2050 - accuracy: 0.9456 - val_loss: 0.2990 - val_accuracy: 0.9173\n",
      "Epoch 20/50\n",
      "57/57 [==============================] - 3s 59ms/step - loss: 0.2032 - accuracy: 0.9432 - val_loss: 0.2705 - val_accuracy: 0.9282\n",
      "Epoch 21/50\n",
      "57/57 [==============================] - 4s 62ms/step - loss: 0.1966 - accuracy: 0.9458 - val_loss: 0.3024 - val_accuracy: 0.9186\n",
      "Epoch 22/50\n",
      "57/57 [==============================] - 3s 57ms/step - loss: 0.1962 - accuracy: 0.9443 - val_loss: 0.2953 - val_accuracy: 0.9270\n",
      "Epoch 23/50\n",
      "57/57 [==============================] - 4s 62ms/step - loss: 0.1990 - accuracy: 0.9431 - val_loss: 0.2564 - val_accuracy: 0.9307\n",
      "Epoch 24/50\n",
      "57/57 [==============================] - 3s 57ms/step - loss: 0.1907 - accuracy: 0.9476 - val_loss: 0.2683 - val_accuracy: 0.9337\n",
      "Epoch 25/50\n",
      "57/57 [==============================] - 3s 58ms/step - loss: 0.1850 - accuracy: 0.9471 - val_loss: 0.3099 - val_accuracy: 0.9286\n",
      "Epoch 26/50\n",
      "57/57 [==============================] - 3s 60ms/step - loss: 0.1918 - accuracy: 0.9461 - val_loss: 0.2563 - val_accuracy: 0.9358\n",
      "Epoch 27/50\n",
      "57/57 [==============================] - 3s 61ms/step - loss: 0.1784 - accuracy: 0.9491 - val_loss: 0.2912 - val_accuracy: 0.9127\n",
      "Epoch 28/50\n",
      "57/57 [==============================] - 4s 65ms/step - loss: 0.1777 - accuracy: 0.9488 - val_loss: 0.2540 - val_accuracy: 0.9341\n",
      "Epoch 29/50\n",
      "57/57 [==============================] - 3s 58ms/step - loss: 0.1740 - accuracy: 0.9512 - val_loss: 0.2264 - val_accuracy: 0.9337\n",
      "Epoch 30/50\n",
      "57/57 [==============================] - 3s 61ms/step - loss: 0.1693 - accuracy: 0.9509 - val_loss: 0.2452 - val_accuracy: 0.9416\n",
      "Epoch 31/50\n",
      "57/57 [==============================] - 4s 62ms/step - loss: 0.1705 - accuracy: 0.9512 - val_loss: 0.2420 - val_accuracy: 0.9349\n",
      "Epoch 32/50\n",
      "57/57 [==============================] - 3s 58ms/step - loss: 0.1675 - accuracy: 0.9521 - val_loss: 0.2756 - val_accuracy: 0.9156\n",
      "Epoch 33/50\n",
      "57/57 [==============================] - 3s 57ms/step - loss: 0.1690 - accuracy: 0.9505 - val_loss: 0.2308 - val_accuracy: 0.9341\n",
      "Epoch 34/50\n",
      "57/57 [==============================] - 3s 59ms/step - loss: 0.1628 - accuracy: 0.9528 - val_loss: 0.2464 - val_accuracy: 0.9332\n",
      "Epoch 35/50\n",
      "57/57 [==============================] - 4s 62ms/step - loss: 0.1640 - accuracy: 0.9537 - val_loss: 0.2873 - val_accuracy: 0.9249\n",
      "Epoch 36/50\n",
      "57/57 [==============================] - 3s 56ms/step - loss: 0.1641 - accuracy: 0.9529 - val_loss: 0.2918 - val_accuracy: 0.9274\n",
      "Epoch 37/50\n",
      "57/57 [==============================] - 4s 64ms/step - loss: 0.1618 - accuracy: 0.9537 - val_loss: 0.2418 - val_accuracy: 0.9454\n",
      "Epoch 38/50\n",
      "57/57 [==============================] - 3s 57ms/step - loss: 0.1584 - accuracy: 0.9551 - val_loss: 0.2670 - val_accuracy: 0.9404\n",
      "Epoch 39/50\n",
      "57/57 [==============================] - 3s 57ms/step - loss: 0.1565 - accuracy: 0.9567 - val_loss: 0.2414 - val_accuracy: 0.9316\n",
      "Epoch 40/50\n",
      "57/57 [==============================] - 3s 60ms/step - loss: 0.1607 - accuracy: 0.9533 - val_loss: 0.2157 - val_accuracy: 0.9454\n",
      "Epoch 41/50\n",
      "57/57 [==============================] - 3s 57ms/step - loss: 0.1564 - accuracy: 0.9544 - val_loss: 0.2725 - val_accuracy: 0.9186\n",
      "Epoch 42/50\n",
      "57/57 [==============================] - 3s 58ms/step - loss: 0.1515 - accuracy: 0.9557 - val_loss: 0.2921 - val_accuracy: 0.9370\n",
      "Epoch 43/50\n",
      "57/57 [==============================] - 3s 58ms/step - loss: 0.1564 - accuracy: 0.9542 - val_loss: 0.2514 - val_accuracy: 0.9395\n",
      "Epoch 44/50\n",
      "57/57 [==============================] - 3s 59ms/step - loss: 0.1502 - accuracy: 0.9572 - val_loss: 0.2358 - val_accuracy: 0.9421\n",
      "Epoch 45/50\n",
      "57/57 [==============================] - 3s 61ms/step - loss: 0.1503 - accuracy: 0.9557 - val_loss: 0.2270 - val_accuracy: 0.9437\n",
      "Epoch 46/50\n",
      "57/57 [==============================] - 4s 65ms/step - loss: 0.1475 - accuracy: 0.9590 - val_loss: 0.2617 - val_accuracy: 0.9303\n",
      "Epoch 47/50\n",
      "57/57 [==============================] - 3s 58ms/step - loss: 0.1453 - accuracy: 0.9580 - val_loss: 0.2145 - val_accuracy: 0.9437\n",
      "Epoch 48/50\n",
      "57/57 [==============================] - 3s 57ms/step - loss: 0.1464 - accuracy: 0.9585 - val_loss: 0.2628 - val_accuracy: 0.9379\n",
      "Epoch 49/50\n",
      "57/57 [==============================] - 3s 57ms/step - loss: 0.1462 - accuracy: 0.9574 - val_loss: 0.2104 - val_accuracy: 0.9437\n",
      "Epoch 50/50\n",
      "57/57 [==============================] - 3s 56ms/step - loss: 0.1496 - accuracy: 0.9581 - val_loss: 0.2427 - val_accuracy: 0.9421\n"
     ]
    }
   ],
   "source": [
    "optimizer = keras.optimizers.Adam(learning_rate=1e-3)\n",
    "\n",
    "CNN.compile(\n",
    "    loss='sparse_categorical_crossentropy',\n",
    "    optimizer=optimizer,\n",
    "    metrics=['accuracy'],\n",
    ")\n",
    "history = CNN.fit(\n",
    "    X_train,\n",
    "    y_train,\n",
    "    epochs=50,\n",
    "    batch_size=256,\n",
    "    validation_data=(X_val, y_val),\n",
    "    verbose=1,\n",
    ")"
   ]
  },
  {
   "cell_type": "code",
   "execution_count": 43,
   "id": "70de8d27-4ff5-4dce-b45f-675dcc74513e",
   "metadata": {
    "colab": {
     "base_uri": "https://localhost:8080/"
    },
    "id": "70de8d27-4ff5-4dce-b45f-675dcc74513e",
    "outputId": "7211ef5c-5b4a-4afb-ad4f-7341eeb8f0f8"
   },
   "outputs": [],
   "source": [
    "# from functools import partial\n",
    "\n",
    "\n",
    "\n",
    "# _, num_time, num_feat = X_train.shape\n",
    "\n",
    "# activation = 'selu'\n",
    "\n",
    "# DefaultConv1D = partial(\n",
    "#     keras.layers.Conv1D,\n",
    "#     kernel_size=1,\n",
    "#     activation=activation,\n",
    "#     padding=\"valid\",\n",
    "# )\n",
    "\n",
    "# model = keras.models.Sequential([\n",
    "#     DefaultConv1D(4 * num_feat, kernel_size=2, input_shape=[num_time, num_feat]),\n",
    "#     keras.layers.BatchNormalization(),\n",
    "#     DefaultConv1D(num_feat, kernel_size=2),\n",
    "#     keras.layers.Flatten(),\n",
    "#     keras.layers.BatchNormalization(),\n",
    "#     keras.layers.Dense(num_time * num_feat, activation=activation),\n",
    "#     keras.layers.BatchNormalization(),\n",
    "#     keras.layers.Dense(num_feat, activation=activation),\n",
    "#     keras.layers.BatchNormalization(),\n",
    "#     keras.layers.Dense(5, activation='softmax'),\n",
    "# ])\n",
    "\n",
    "# optimizer = keras.optimizers.Adam(learning_rate=1e-3)\n",
    "\n",
    "# model.compile(\n",
    "#     loss='sparse_categorical_crossentropy',\n",
    "#     optimizer=optimizer,\n",
    "#     metrics=['accuracy'],\n",
    "# )\n",
    "\n",
    "# history = model.fit(\n",
    "#     X_train,\n",
    "#     y_train,\n",
    "#     epochs=EPOCHS,\n",
    "#     batch_size=BATCH_SIZE,\n",
    "#     validation_data=(X_test, y_test),\n",
    "#     verbose=1,\n",
    "# )"
   ]
  },
  {
   "cell_type": "code",
   "execution_count": 44,
   "id": "bed79725-2bb3-47ce-b06c-333c662b30bf",
   "metadata": {
    "colab": {
     "base_uri": "https://localhost:8080/",
     "height": 282
    },
    "id": "bed79725-2bb3-47ce-b06c-333c662b30bf",
    "outputId": "4354cc75-e44d-4d2a-ac4b-c55a4b3a9305"
   },
   "outputs": [
    {
     "data": {
      "text/plain": [
       "[<matplotlib.lines.Line2D at 0x7f867f6729d0>]"
      ]
     },
     "execution_count": 44,
     "metadata": {},
     "output_type": "execute_result"
    },
    {
     "data": {
      "image/png": "[encoded data removed]",
      "text/plain": [
       "<Figure size 432x288 with 1 Axes>"
      ]
     },
     "metadata": {
      "needs_background": "light"
     },
     "output_type": "display_data"
    }
   ],
   "source": [
    "plt.plot(history.history['accuracy'])\n",
    "plt.plot(history.history['val_accuracy'])"
   ]
  },
  {
   "cell_type": "code",
   "execution_count": 45,
   "id": "3b65d81f-3d75-43d1-9e2d-88cef69d110b",
   "metadata": {
    "colab": {
     "base_uri": "https://localhost:8080/",
     "height": 265
    },
    "id": "3b65d81f-3d75-43d1-9e2d-88cef69d110b",
    "outputId": "97e18fb9-4340-478c-e307-82c03282e9cc"
   },
   "outputs": [
    {
     "data": {
      "image/png": "[encoded data removed]",
      "text/plain": [
       "<Figure size 432x288 with 1 Axes>"
      ]
     },
     "metadata": {
      "needs_background": "light"
     },
     "output_type": "display_data"
    }
   ],
   "source": [
    "plt.plot(history.history['loss'])\n",
    "plt.plot(history.history['val_loss'])\n",
    "plt.yscale('log')"
   ]
  },
  {
   "cell_type": "code",
   "execution_count": 46,
   "id": "8a964a60-488a-431e-8bcc-586e90d8956b",
   "metadata": {
    "id": "8a964a60-488a-431e-8bcc-586e90d8956b"
   },
   "outputs": [
    {
     "name": "stdout",
     "output_type": "stream",
     "text": [
      "75/75 [==============================] - 0s 3ms/step\n"
     ]
    }
   ],
   "source": [
    "y_pred = CNN.predict(X_test)"
   ]
  },
  {
   "cell_type": "code",
   "execution_count": 47,
   "id": "d7C0QyTLHO8q",
   "metadata": {
    "colab": {
     "base_uri": "https://localhost:8080/"
    },
    "id": "d7C0QyTLHO8q",
    "outputId": "78587010-2aa8-4cc7-e82f-7c40e11ce705"
   },
   "outputs": [
    {
     "data": {
      "text/plain": [
       "array([[3.7897527e-03, 2.7534987e-03, 2.0656706e-16, ..., 3.0549690e-03,\n",
       "        1.5523030e-09, 7.8664612e-18],\n",
       "       [9.9675709e-01, 1.5411662e-03, 1.7016260e-03, ..., 2.4061250e-26,\n",
       "        1.4469541e-27, 3.5009861e-14],\n",
       "       [3.6424689e-03, 5.2333606e-04, 5.4205451e-10, ..., 3.7585233e-09,\n",
       "        1.8590078e-16, 7.1600108e-24],\n",
       "       ...,\n",
       "       [8.5038459e-03, 9.8304409e-01, 8.4520848e-03, ..., 3.0011454e-25,\n",
       "        1.2679508e-26, 1.2686779e-09],\n",
       "       [7.1147317e-03, 3.1672110e-04, 5.3969380e-22, ..., 9.8730808e-01,\n",
       "        4.6538226e-03, 1.0274742e-08],\n",
       "       [3.8308695e-05, 1.9584345e-02, 9.8018378e-01, ..., 2.0476726e-19,\n",
       "        1.5126431e-27, 1.2735691e-27]], dtype=float32)"
      ]
     },
     "execution_count": 47,
     "metadata": {},
     "output_type": "execute_result"
    }
   ],
   "source": [
    "y_pred"
   ]
  },
  {
   "cell_type": "code",
   "execution_count": 48,
   "id": "1ljWvGo9skgS",
   "metadata": {
    "id": "1ljWvGo9skgS"
   },
   "outputs": [],
   "source": [
    "y_pred= np.argmax(y_pred, axis=1)"
   ]
  },
  {
   "cell_type": "code",
   "execution_count": 49,
   "id": "BIninuG_Hixu",
   "metadata": {
    "colab": {
     "base_uri": "https://localhost:8080/"
    },
    "id": "BIninuG_Hixu",
    "outputId": "8d52a3ce-46d5-41c3-f339-ec8e2feee684"
   },
   "outputs": [
    {
     "data": {
      "text/plain": [
       "array([5, 0, 4, ..., 1, 6, 2])"
      ]
     },
     "execution_count": 49,
     "metadata": {},
     "output_type": "execute_result"
    }
   ],
   "source": [
    "y_pred"
   ]
  },
  {
   "cell_type": "code",
   "execution_count": 50,
   "id": "3NzoyhrD4tO9",
   "metadata": {
    "colab": {
     "base_uri": "https://localhost:8080/"
    },
    "id": "3NzoyhrD4tO9",
    "outputId": "da09ab77-c439-431e-82a8-93fc98f20b49"
   },
   "outputs": [
    {
     "data": {
      "text/plain": [
       "5"
      ]
     },
     "execution_count": 50,
     "metadata": {},
     "output_type": "execute_result"
    }
   ],
   "source": [
    "y_pred[0]"
   ]
  },
  {
   "cell_type": "code",
   "execution_count": 51,
   "id": "48c3e9c7-2bc3-479a-8af1-bf35d87f3e57",
   "metadata": {
    "id": "48c3e9c7-2bc3-479a-8af1-bf35d87f3e57"
   },
   "outputs": [],
   "source": [
    "df = pd.DataFrame({\n",
    "    'y_test': y_test.ravel().astype(int).tolist(),\n",
    "    'y_pred': y_pred.ravel().astype(int).tolist(),\n",
    "})"
   ]
  },
  {
   "cell_type": "code",
   "execution_count": 52,
   "id": "18cfafbe-dafb-4a9e-8873-7f96e71f80b8",
   "metadata": {
    "colab": {
     "base_uri": "https://localhost:8080/",
     "height": 175
    },
    "id": "18cfafbe-dafb-4a9e-8873-7f96e71f80b8",
    "outputId": "aa49cb9d-c88e-437b-9a31-2809577d1da1",
    "scrolled": true
   },
   "outputs": [
    {
     "data": {
      "text/html": [
       "<div>\n",
       "<style scoped>\n",
       "    .dataframe tbody tr th:only-of-type {\n",
       "        vertical-align: middle;\n",
       "    }\n",
       "\n",
       "    .dataframe tbody tr th {\n",
       "        vertical-align: top;\n",
       "    }\n",
       "\n",
       "    .dataframe thead th {\n",
       "        text-align: right;\n",
       "    }\n",
       "</style>\n",
       "<table border=\"1\" class=\"dataframe\">\n",
       "  <thead>\n",
       "    <tr style=\"text-align: right;\">\n",
       "      <th>y_pred</th>\n",
       "      <th>0</th>\n",
       "      <th>1</th>\n",
       "      <th>2</th>\n",
       "      <th>3</th>\n",
       "      <th>4</th>\n",
       "      <th>5</th>\n",
       "      <th>6</th>\n",
       "      <th>7</th>\n",
       "      <th>8</th>\n",
       "    </tr>\n",
       "    <tr>\n",
       "      <th>y_test</th>\n",
       "      <th></th>\n",
       "      <th></th>\n",
       "      <th></th>\n",
       "      <th></th>\n",
       "      <th></th>\n",
       "      <th></th>\n",
       "      <th></th>\n",
       "      <th></th>\n",
       "      <th></th>\n",
       "    </tr>\n",
       "  </thead>\n",
       "  <tbody>\n",
       "    <tr>\n",
       "      <th>0</th>\n",
       "      <td>324</td>\n",
       "      <td>9</td>\n",
       "      <td>5</td>\n",
       "      <td>2</td>\n",
       "      <td>8</td>\n",
       "      <td>0</td>\n",
       "      <td>4</td>\n",
       "      <td>0</td>\n",
       "      <td>5</td>\n",
       "    </tr>\n",
       "    <tr>\n",
       "      <th>1</th>\n",
       "      <td>16</td>\n",
       "      <td>321</td>\n",
       "      <td>20</td>\n",
       "      <td>0</td>\n",
       "      <td>0</td>\n",
       "      <td>0</td>\n",
       "      <td>0</td>\n",
       "      <td>0</td>\n",
       "      <td>0</td>\n",
       "    </tr>\n",
       "    <tr>\n",
       "      <th>2</th>\n",
       "      <td>4</td>\n",
       "      <td>0</td>\n",
       "      <td>233</td>\n",
       "      <td>0</td>\n",
       "      <td>0</td>\n",
       "      <td>0</td>\n",
       "      <td>0</td>\n",
       "      <td>0</td>\n",
       "      <td>0</td>\n",
       "    </tr>\n",
       "    <tr>\n",
       "      <th>3</th>\n",
       "      <td>19</td>\n",
       "      <td>0</td>\n",
       "      <td>0</td>\n",
       "      <td>192</td>\n",
       "      <td>26</td>\n",
       "      <td>0</td>\n",
       "      <td>0</td>\n",
       "      <td>0</td>\n",
       "      <td>0</td>\n",
       "    </tr>\n",
       "    <tr>\n",
       "      <th>4</th>\n",
       "      <td>0</td>\n",
       "      <td>0</td>\n",
       "      <td>0</td>\n",
       "      <td>0</td>\n",
       "      <td>237</td>\n",
       "      <td>0</td>\n",
       "      <td>0</td>\n",
       "      <td>0</td>\n",
       "      <td>0</td>\n",
       "    </tr>\n",
       "    <tr>\n",
       "      <th>5</th>\n",
       "      <td>2</td>\n",
       "      <td>0</td>\n",
       "      <td>0</td>\n",
       "      <td>0</td>\n",
       "      <td>0</td>\n",
       "      <td>235</td>\n",
       "      <td>0</td>\n",
       "      <td>0</td>\n",
       "      <td>0</td>\n",
       "    </tr>\n",
       "    <tr>\n",
       "      <th>6</th>\n",
       "      <td>2</td>\n",
       "      <td>0</td>\n",
       "      <td>0</td>\n",
       "      <td>0</td>\n",
       "      <td>0</td>\n",
       "      <td>2</td>\n",
       "      <td>233</td>\n",
       "      <td>0</td>\n",
       "      <td>0</td>\n",
       "    </tr>\n",
       "    <tr>\n",
       "      <th>7</th>\n",
       "      <td>5</td>\n",
       "      <td>0</td>\n",
       "      <td>0</td>\n",
       "      <td>0</td>\n",
       "      <td>0</td>\n",
       "      <td>0</td>\n",
       "      <td>0</td>\n",
       "      <td>232</td>\n",
       "      <td>0</td>\n",
       "    </tr>\n",
       "    <tr>\n",
       "      <th>8</th>\n",
       "      <td>10</td>\n",
       "      <td>2</td>\n",
       "      <td>0</td>\n",
       "      <td>0</td>\n",
       "      <td>0</td>\n",
       "      <td>0</td>\n",
       "      <td>0</td>\n",
       "      <td>0</td>\n",
       "      <td>225</td>\n",
       "    </tr>\n",
       "  </tbody>\n",
       "</table>\n",
       "</div>"
      ],
      "text/plain": [
       "y_pred    0    1    2    3    4    5    6    7    8\n",
       "y_test                                             \n",
       "0       324    9    5    2    8    0    4    0    5\n",
       "1        16  321   20    0    0    0    0    0    0\n",
       "2         4    0  233    0    0    0    0    0    0\n",
       "3        19    0    0  192   26    0    0    0    0\n",
       "4         0    0    0    0  237    0    0    0    0\n",
       "5         2    0    0    0    0  235    0    0    0\n",
       "6         2    0    0    0    0    2  233    0    0\n",
       "7         5    0    0    0    0    0    0  232    0\n",
       "8        10    2    0    0    0    0    0    0  225"
      ]
     },
     "execution_count": 52,
     "metadata": {},
     "output_type": "execute_result"
    }
   ],
   "source": [
    "pd.crosstab(df['y_test'], df['y_pred'])"
   ]
  },
  {
   "cell_type": "code",
   "execution_count": 53,
   "id": "e192957b-1b16-47c8-89eb-d6e2fb9bde9f",
   "metadata": {
    "id": "e192957b-1b16-47c8-89eb-d6e2fb9bde9f"
   },
   "outputs": [],
   "source": [
    "# model.save('model.h5')"
   ]
  },
  {
   "cell_type": "code",
   "execution_count": 54,
   "id": "vZD1w6TZwk0e",
   "metadata": {
    "id": "vZD1w6TZwk0e"
   },
   "outputs": [],
   "source": [
    "CNN.save('model_f_e_m_i_g_i_45.h5')"
   ]
  },
  {
   "cell_type": "code",
   "execution_count": null,
   "id": "f1d824e8",
   "metadata": {},
   "outputs": [],
   "source": []
  }
 ],
 "metadata": {
  "accelerator": "GPU",
  "colab": {
   "provenance": []
  },
  "gpuClass": "standard",
  "kernelspec": {
   "display_name": "Python 3 (ipykernel)",
   "language": "python",
   "name": "python3"
  },
  "language_info": {
   "codemirror_mode": {
    "name": "ipython",
    "version": 3
   },
   "file_extension": ".py",
   "mimetype": "text/x-python",
   "name": "python",
   "nbconvert_exporter": "python",
   "pygments_lexer": "ipython3",
   "version": "3.9.12"
  }
 },
 "nbformat": 4,
 "nbformat_minor": 5
}
