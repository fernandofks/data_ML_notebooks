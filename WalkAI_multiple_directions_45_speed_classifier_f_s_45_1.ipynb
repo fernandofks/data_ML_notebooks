{
 "cells": [
  {
   "cell_type": "code",
   "execution_count": 1,
   "id": "b41f0b0f-cc96-43a2-ab7f-f3264587e7d2",
   "metadata": {
    "id": "b41f0b0f-cc96-43a2-ab7f-f3264587e7d2"
   },
   "outputs": [
    {
     "name": "stderr",
     "output_type": "stream",
     "text": [
      "/Users/fernandokenjisakabe/opt/anaconda3/lib/python3.9/site-packages/scipy/__init__.py:146: UserWarning: A NumPy version >=1.16.5 and <1.23.0 is required for this version of SciPy (detected version 1.24.1\n",
      "  warnings.warn(f\"A NumPy version >={np_minversion} and <{np_maxversion}\"\n"
     ]
    }
   ],
   "source": [
    "from pathlib import Path\n",
    "import matplotlib.pyplot as plt\n",
    "import numpy as np\n",
    "import pandas as pd\n",
    "import tensorflow as tf\n",
    "import tensorflow.keras as keras\n",
    "from tensorflow.python.keras.layers import Dense\n",
    "from numpy.random import default_rng\n",
    "from sklearn.model_selection import train_test_split"
   ]
  },
  {
   "cell_type": "code",
   "execution_count": 2,
   "id": "c9e9560b-749a-49a8-aedf-44a1ac9b4bb1",
   "metadata": {
    "id": "c9e9560b-749a-49a8-aedf-44a1ac9b4bb1"
   },
   "outputs": [],
   "source": [
    "# Loading pipeline params.\n",
    "DATA_PATH = Path('data')\n",
    "FILENAME_STOP = 'stop_45_diff_quat.csv'\n",
    "FILENAME_0 = '0_45_diff_quat.csv'\n",
    "FILENAME_90 = '90_45_diff_quat.csv'\n",
    "FILENAME_180 = '180_45_diff_quat.csv'\n",
    "FILENAME_270 = '270_45_diff_quat.csv'\n",
    "FILENAME_45 = '45_45_diff_quat.csv'\n",
    "FILENAME_135 = '135_45_diff_quat.csv'\n",
    "FILENAME_225 = '225_45_diff_quat.csv'\n",
    "FILENAME_315 = '315_45_diff_quat.csv'\n",
    "\n",
    "NUM_TIMESTEPS = 6\n",
    "IGNORE_FRACTION = 0.1\n",
    "TEST_FRACTION = 0.25\n",
    "\n",
    "# Training params.\n",
    "LEARNING_RATE = 1e-5\n",
    "EPOCHS = 100\n",
    "BATCH_SIZE = 512"
   ]
  },
  {
   "cell_type": "code",
   "execution_count": 8,
   "id": "7f52716d-1339-4484-9fd3-d5206979ba8e",
   "metadata": {
    "id": "7f52716d-1339-4484-9fd3-d5206979ba8e"
   },
   "outputs": [],
   "source": [
    "def load_data(\n",
    "    path_stop,\n",
    "    path_0,\n",
    "    path_45,\n",
    "    path_90,\n",
    "    path_135,\n",
    "    path_180,\n",
    "    path_225,\n",
    "    path_270,\n",
    "    path_315,\n",
    "    num_timesteps,\n",
    "    ignore_fraction,\n",
    "    test_fraction,\n",
    "):\n",
    "\n",
    "    def read_and_prepare_data(\n",
    "        path,\n",
    "        class_,\n",
    "        num_timesteps,\n",
    "        ignore_fraction,\n",
    "        test_fraction,\n",
    "    ):\n",
    "\n",
    "        def split_temporally(X, test_fraction):\n",
    "            num_samples = X.shape[0]\n",
    "            num_train = int(num_samples * (1.0 - test_fraction))\n",
    "            X_train, X_test = X[:num_train], X[num_train:]\n",
    "            return X_train, X_test\n",
    "\n",
    "        def transform_into_sequences(X, num_timesteps):\n",
    "            num_samples = X.shape[0]\n",
    "            X_seq = []\n",
    "            for k in range(num_samples - num_timesteps + 1):\n",
    "                X_seq.append(X[k:(k + num_timesteps)])\n",
    "            X_seq = np.array(X_seq)\n",
    "            y_seq = class_ * np.ones((X_seq.shape[0], 1))\n",
    "            return X_seq, y_seq\n",
    "\n",
    "        X = pd.read_csv(path).values\n",
    "        X = X[:, [0,1,2,3,4,5,6,7,8,9,10,11,12,13]]\n",
    "\n",
    "        # Ignore beginning and end.\n",
    "        num_samples = X.shape[0]\n",
    "        num_ignore = int(ignore_fraction * num_samples)\n",
    "        X = X[num_ignore:-num_ignore]\n",
    "\n",
    "        # Split X temporally.\n",
    "        X_train, X_test = split_temporally(X, test_fraction)\n",
    "        \n",
    "        # Transform X into short sequences.\n",
    "        X_train, y_train = transform_into_sequences(X_train, num_timesteps)\n",
    "        X_test, y_test = transform_into_sequences(X_test, num_timesteps)\n",
    "        X_test, X_val, y_test, y_val = train_test_split(X_test, y_test, test_size=0.5, random_state=42)\n",
    "        return X_train, y_train, X_test, y_test, X_val, y_val\n",
    "\n",
    "    def shuffle_data(X, y):\n",
    "        idx = np.arange(len(X))\n",
    "        default_rng().shuffle(idx)\n",
    "        X_shuffled = X[idx, :]\n",
    "        y_shuffled = y[idx]\n",
    "        return X_shuffled, y_shuffled\n",
    "\n",
    "    X_train_stop, y_train_stop, X_test_stop, y_test_stop, X_val_stop, y_val_stop = \\\n",
    "        read_and_prepare_data(\n",
    "            path_stop,\n",
    "            0.0,\n",
    "            num_timesteps,\n",
    "            ignore_fraction,\n",
    "            test_fraction,\n",
    "        )\n",
    "    \n",
    "    X_train_0, y_train_0, X_test_0, y_test_0, X_val_0, y_val_0 = \\\n",
    "        read_and_prepare_data(\n",
    "            path_0,\n",
    "            1.0,\n",
    "            num_timesteps,\n",
    "            ignore_fraction,\n",
    "            test_fraction,\n",
    "        )\n",
    "    X_train_45, y_train_45, X_test_45, y_test_45, X_val_45, y_val_45 = \\\n",
    "        read_and_prepare_data(\n",
    "            path_45,\n",
    "            2.0,\n",
    "            num_timesteps,\n",
    "            ignore_fraction,\n",
    "            test_fraction,\n",
    "        )\n",
    "\n",
    "\n",
    "    X_train_90, y_train_90, X_test_90, y_test_90, X_val_90, y_val_90 = \\\n",
    "        read_and_prepare_data(\n",
    "            path_90,\n",
    "            3.0,\n",
    "            num_timesteps,\n",
    "            ignore_fraction,\n",
    "            test_fraction,\n",
    "        )\n",
    "    \n",
    "    X_train_135, y_train_135, X_test_135, y_test_135, X_val_135, y_val_135 = \\\n",
    "        read_and_prepare_data(\n",
    "            path_135,\n",
    "            4.0,\n",
    "            num_timesteps,\n",
    "            ignore_fraction,\n",
    "            test_fraction,\n",
    "        )\n",
    "\n",
    "    \n",
    "    X_train_180, y_train_180, X_test_180, y_test_180, X_val_180, y_val_180 = \\\n",
    "        read_and_prepare_data(\n",
    "            path_180,\n",
    "            5.0,\n",
    "            num_timesteps,\n",
    "            ignore_fraction,\n",
    "            test_fraction,\n",
    "        )\n",
    "    \n",
    "    X_train_225, y_train_225, X_test_225, y_test_225, X_val_225, y_val_225 = \\\n",
    "        read_and_prepare_data(\n",
    "            path_225,\n",
    "            6.0,\n",
    "            num_timesteps,\n",
    "            ignore_fraction,\n",
    "            test_fraction,\n",
    "        )\n",
    "\n",
    "    \n",
    "    X_train_270, y_train_270, X_test_270, y_test_270,X_val_270, y_val_270  = \\\n",
    "        read_and_prepare_data(\n",
    "            path_270,\n",
    "            7.0,\n",
    "            num_timesteps,\n",
    "            ignore_fraction,\n",
    "            test_fraction,\n",
    "        )\n",
    "    \n",
    "    X_train_315, y_train_315, X_test_315, y_test_315, X_val_315, y_val_315 = \\\n",
    "        read_and_prepare_data(\n",
    "            path_315,\n",
    "            8.0,\n",
    "            num_timesteps,\n",
    "            ignore_fraction,\n",
    "            test_fraction,\n",
    "        )\n",
    "\n",
    "\n",
    "    X_train = np.concatenate((X_train_stop, X_train_0,X_train_45, X_train_90,X_train_135, X_train_180,X_train_225, X_train_270, X_train_315), axis=0)\n",
    "    y_train = np.concatenate((y_train_stop, y_train_0,y_train_45, y_train_90,y_train_135, y_train_180,y_train_225, y_train_270, y_train_315), axis=0)\n",
    "    X_test = np.concatenate((X_test_stop, X_test_0,X_test_45, X_test_90,X_test_135, X_test_180,X_test_225, X_test_270, X_test_315), axis=0)\n",
    "    y_test = np.concatenate(( y_test_stop,  y_test_0, y_test_45,  y_test_90, y_test_135,  y_test_180, y_test_225,  y_test_270,  y_test_315), axis=0)\n",
    "    X_val = np.concatenate(( X_val_stop,  X_val_0, X_val_45,  X_val_90, X_val_135,  X_val_180, X_val_225,  X_val_270,  X_val_315), axis=0)\n",
    "    y_val = np.concatenate(( y_val_stop,  y_val_0, y_val_45,  y_val_90, y_val_135,  y_val_180, y_val_225,  y_val_270,  y_val_315), axis=0)\n",
    "\n",
    "    \n",
    "    \n",
    "    X_train, y_train = shuffle_data(X_train, y_train)\n",
    "    X_test, y_test = shuffle_data(X_test, y_test)\n",
    "    X_val, y_val = shuffle_data(X_val, y_val)\n",
    "    return X_train, X_test,X_val, y_train, y_test, y_val\n",
    "\n",
    "\n",
    "path_stop = Path(DATA_PATH, FILENAME_STOP)\n",
    "path_0 = Path(DATA_PATH, FILENAME_0)\n",
    "path_45 = Path(DATA_PATH, FILENAME_45)\n",
    "\n",
    "path_90 = Path(DATA_PATH, FILENAME_90)\n",
    "path_135 = Path(DATA_PATH, FILENAME_135)\n",
    "\n",
    "path_180 = Path(DATA_PATH, FILENAME_180)\n",
    "path_225 = Path(DATA_PATH, FILENAME_225)\n",
    "\n",
    "path_270 = Path(DATA_PATH, FILENAME_270)\n",
    "path_315 = Path(DATA_PATH, FILENAME_315)\n",
    "\n",
    "\n",
    "X_train, X_test, X_val, y_train, y_test , y_val= load_data(\n",
    "    path_stop,\n",
    "    path_0,\n",
    "    path_45,\n",
    "    path_90,\n",
    "    path_135,\n",
    "    path_180,\n",
    "    path_225,\n",
    "    path_270,\n",
    "    path_315,\n",
    "    NUM_TIMESTEPS,\n",
    "    IGNORE_FRACTION,\n",
    "    TEST_FRACTION,\n",
    ")"
   ]
  },
  {
   "cell_type": "code",
   "execution_count": 9,
   "id": "99c35712-1089-44f3-89ef-ed471b144c96",
   "metadata": {
    "colab": {
     "base_uri": "https://localhost:8080/"
    },
    "id": "99c35712-1089-44f3-89ef-ed471b144c96",
    "outputId": "9076061a-8661-4d2e-c1ed-887a92ec640b"
   },
   "outputs": [
    {
     "data": {
      "text/plain": [
       "((6435, 6, 14), (6435, 1), (1053, 6, 14), (1053, 1))"
      ]
     },
     "execution_count": 9,
     "metadata": {},
     "output_type": "execute_result"
    }
   ],
   "source": [
    "X_train.shape, y_train.shape, X_test.shape, y_test.shape"
   ]
  },
  {
   "cell_type": "code",
   "execution_count": 10,
   "id": "VqSuqgBCB_nA",
   "metadata": {
    "colab": {
     "base_uri": "https://localhost:8080/"
    },
    "id": "VqSuqgBCB_nA",
    "outputId": "26d50bbe-3fd3-4bed-e70e-7003d289c5d6"
   },
   "outputs": [
    {
     "data": {
      "text/plain": [
       "(6, 14)"
      ]
     },
     "execution_count": 10,
     "metadata": {},
     "output_type": "execute_result"
    }
   ],
   "source": [
    "X_test[60].shape\n"
   ]
  },
  {
   "cell_type": "code",
   "execution_count": null,
   "id": "dye8vjENBtXX",
   "metadata": {
    "id": "dye8vjENBtXX"
   },
   "outputs": [],
   "source": []
  },
  {
   "cell_type": "code",
   "execution_count": null,
   "id": "-3TttkaRCM4l",
   "metadata": {
    "id": "-3TttkaRCM4l"
   },
   "outputs": [],
   "source": []
  },
  {
   "cell_type": "code",
   "execution_count": 11,
   "id": "3a85634b-4e9c-45b8-b456-cb970457302f",
   "metadata": {
    "id": "3a85634b-4e9c-45b8-b456-cb970457302f"
   },
   "outputs": [
    {
     "name": "stdout",
     "output_type": "stream",
     "text": [
      "Model: \"Sequential_CNN\"\n",
      "_________________________________________________________________\n",
      " Layer (type)                Output Shape              Param #   \n",
      "=================================================================\n",
      " conv2d (Conv2D)             (None, 2, 4, 256)         1280      \n",
      "                                                                 \n",
      " max_pooling2d (MaxPooling2D  (None, 1, 3, 256)        0         \n",
      " )                                                               \n",
      "                                                                 \n",
      " flatten (Flatten)           (None, 768)               0         \n",
      "                                                                 \n",
      " flatten_1 (Flatten)         (None, 768)               0         \n",
      "                                                                 \n",
      " dense (Dense)               (None, 64)                49216     \n",
      "                                                                 \n",
      " dense_1 (Dense)             (None, 32)                2080      \n",
      "                                                                 \n",
      " dense_2 (Dense)             (None, 9)                 297       \n",
      "                                                                 \n",
      "=================================================================\n",
      "Total params: 52,873\n",
      "Trainable params: 52,873\n",
      "Non-trainable params: 0\n",
      "_________________________________________________________________\n"
     ]
    },
    {
     "name": "stderr",
     "output_type": "stream",
     "text": [
      "2023-02-06 19:18:24.260815: I tensorflow/core/platform/cpu_feature_guard.cc:193] This TensorFlow binary is optimized with oneAPI Deep Neural Network Library (oneDNN) to use the following CPU instructions in performance-critical operations:  AVX2 FMA\n",
      "To enable them in other operations, rebuild TensorFlow with the appropriate compiler flags.\n"
     ]
    }
   ],
   "source": [
    "from tensorflow.keras.models import Sequential\n",
    "from tensorflow.keras.layers import Conv2D, MaxPooling2D, Flatten, Dense, InputLayer\n",
    "\n",
    "CNN = Sequential(name=\"Sequential_CNN\")\n",
    "\n",
    "CNN.add(Conv2D(256, kernel_size=(2, 2),\n",
    "               strides=(4, 4), padding=\"same\",\n",
    "               activation=\"selu\", input_shape=[6, 14, 1]))\n",
    "\n",
    "CNN.add(MaxPooling2D(pool_size=(2, 2), strides=(1, 1),\n",
    "                     padding=\"valid\"))\n",
    "\n",
    "# Add another pair of Conv2D and MaxPooling2D for more model depth,\n",
    "# followed by the flatten and multiple dense layers\n",
    "\n",
    "# CNN.add(Conv2D(64, kernel_size=(3, 3),\n",
    "#                strides=(1, 1), padding=\"same\",\n",
    "#                activation=\"selu\"))\n",
    "\n",
    "# CNN.add(MaxPooling2D(pool_size=(2, 2), strides=(1, 1),\n",
    "#                      padding=\"valid\"))\n",
    "# CNN.add(InputLayer(input_shape=(6,14,1 )))\n",
    "CNN.add(Flatten(input_shape=(6,14,1 )))\n",
    "CNN.add(Flatten(input_shape=(6,14,1 )))\n",
    "\n",
    "CNN.add(Dense(64, activation='selu'))\n",
    "CNN.add(Dense(32, activation='selu'))\n",
    "CNN.add(Dense(9, activation='softmax'))\n",
    "\n",
    "CNN.summary()"
   ]
  },
  {
   "cell_type": "code",
   "execution_count": null,
   "id": "j0C2RSxICKzq",
   "metadata": {
    "colab": {
     "base_uri": "https://localhost:8080/"
    },
    "id": "j0C2RSxICKzq",
    "outputId": "af853522-fdf6-40e4-8d0e-cd2a6dcdab9b"
   },
   "outputs": [],
   "source": []
  },
  {
   "cell_type": "code",
   "execution_count": 12,
   "id": "911581af",
   "metadata": {},
   "outputs": [],
   "source": [
    "from numpy import *\n",
    "where_are_NaNsx = isnan(X_train)\n",
    "X_train[where_are_NaNsx] = 0\n",
    "\n",
    "where_are_NaNsy = isnan(y_train)\n",
    "y_train[where_are_NaNsy] = 0\n",
    "\n",
    "where_are_NaNsxt = isnan(X_test)\n",
    "X_test[where_are_NaNsxt] = 0\n",
    "\n",
    "where_are_NaNsyt = isnan(y_test)\n",
    "y_test[where_are_NaNsyt] = 0"
   ]
  },
  {
   "cell_type": "code",
   "execution_count": 14,
   "id": "7baf8970-5318-4461-b828-d34c232afa5f",
   "metadata": {
    "colab": {
     "base_uri": "https://localhost:8080/"
    },
    "id": "7baf8970-5318-4461-b828-d34c232afa5f",
    "outputId": "08a66cc8-aeee-42ba-f039-9dfa2ba6f99e"
   },
   "outputs": [
    {
     "name": "stdout",
     "output_type": "stream",
     "text": [
      "Epoch 1/100\n",
      "26/26 [==============================] - 1s 14ms/step - loss: 0.6180 - accuracy: 0.8547 - val_loss: 0.5902 - val_accuracy: 0.8701\n",
      "Epoch 2/100\n",
      "26/26 [==============================] - 0s 12ms/step - loss: 0.5973 - accuracy: 0.8550 - val_loss: 0.5683 - val_accuracy: 0.8691\n",
      "Epoch 3/100\n",
      "26/26 [==============================] - 0s 9ms/step - loss: 0.5787 - accuracy: 0.8552 - val_loss: 0.5551 - val_accuracy: 0.8691\n",
      "Epoch 4/100\n",
      "26/26 [==============================] - 0s 9ms/step - loss: 0.5636 - accuracy: 0.8558 - val_loss: 0.5328 - val_accuracy: 0.8710\n",
      "Epoch 5/100\n",
      "26/26 [==============================] - 0s 9ms/step - loss: 0.5475 - accuracy: 0.8575 - val_loss: 0.5233 - val_accuracy: 0.8701\n",
      "Epoch 6/100\n",
      "26/26 [==============================] - 0s 9ms/step - loss: 0.5339 - accuracy: 0.8575 - val_loss: 0.5121 - val_accuracy: 0.8729\n",
      "Epoch 7/100\n",
      "26/26 [==============================] - 0s 9ms/step - loss: 0.5214 - accuracy: 0.8587 - val_loss: 0.4978 - val_accuracy: 0.8776\n",
      "Epoch 8/100\n",
      "26/26 [==============================] - 0s 9ms/step - loss: 0.5098 - accuracy: 0.8646 - val_loss: 0.4931 - val_accuracy: 0.8748\n",
      "Epoch 9/100\n",
      "26/26 [==============================] - 0s 9ms/step - loss: 0.4986 - accuracy: 0.8634 - val_loss: 0.4809 - val_accuracy: 0.8814\n",
      "Epoch 10/100\n",
      "26/26 [==============================] - 0s 9ms/step - loss: 0.4890 - accuracy: 0.8656 - val_loss: 0.4731 - val_accuracy: 0.8823\n",
      "Epoch 11/100\n",
      "26/26 [==============================] - 0s 13ms/step - loss: 0.4802 - accuracy: 0.8665 - val_loss: 0.4583 - val_accuracy: 0.8823\n",
      "Epoch 12/100\n",
      "26/26 [==============================] - 0s 12ms/step - loss: 0.4710 - accuracy: 0.8707 - val_loss: 0.4622 - val_accuracy: 0.8804\n",
      "Epoch 13/100\n",
      "26/26 [==============================] - 0s 12ms/step - loss: 0.4634 - accuracy: 0.8681 - val_loss: 0.4492 - val_accuracy: 0.8823\n",
      "Epoch 14/100\n",
      "26/26 [==============================] - 0s 11ms/step - loss: 0.4554 - accuracy: 0.8695 - val_loss: 0.4415 - val_accuracy: 0.8842\n",
      "Epoch 15/100\n",
      "26/26 [==============================] - 0s 9ms/step - loss: 0.4473 - accuracy: 0.8726 - val_loss: 0.4383 - val_accuracy: 0.8814\n",
      "Epoch 16/100\n",
      "26/26 [==============================] - 0s 9ms/step - loss: 0.4408 - accuracy: 0.8737 - val_loss: 0.4297 - val_accuracy: 0.8814\n",
      "Epoch 17/100\n",
      "26/26 [==============================] - 0s 9ms/step - loss: 0.4339 - accuracy: 0.8726 - val_loss: 0.4214 - val_accuracy: 0.8832\n",
      "Epoch 18/100\n",
      "26/26 [==============================] - 0s 9ms/step - loss: 0.4267 - accuracy: 0.8743 - val_loss: 0.4226 - val_accuracy: 0.8804\n",
      "Epoch 19/100\n",
      "26/26 [==============================] - 0s 13ms/step - loss: 0.4198 - accuracy: 0.8763 - val_loss: 0.4107 - val_accuracy: 0.8795\n",
      "Epoch 20/100\n",
      "26/26 [==============================] - 0s 13ms/step - loss: 0.4138 - accuracy: 0.8746 - val_loss: 0.4086 - val_accuracy: 0.8804\n",
      "Epoch 21/100\n",
      "26/26 [==============================] - 0s 12ms/step - loss: 0.4094 - accuracy: 0.8747 - val_loss: 0.4058 - val_accuracy: 0.8804\n",
      "Epoch 22/100\n",
      "26/26 [==============================] - 0s 11ms/step - loss: 0.4022 - accuracy: 0.8763 - val_loss: 0.4048 - val_accuracy: 0.8795\n",
      "Epoch 23/100\n",
      "26/26 [==============================] - 0s 12ms/step - loss: 0.3974 - accuracy: 0.8760 - val_loss: 0.3981 - val_accuracy: 0.8785\n",
      "Epoch 24/100\n",
      "26/26 [==============================] - 0s 12ms/step - loss: 0.3918 - accuracy: 0.8780 - val_loss: 0.3957 - val_accuracy: 0.8795\n",
      "Epoch 25/100\n",
      "26/26 [==============================] - 0s 11ms/step - loss: 0.3860 - accuracy: 0.8772 - val_loss: 0.3884 - val_accuracy: 0.8795\n",
      "Epoch 26/100\n",
      "26/26 [==============================] - 0s 10ms/step - loss: 0.3819 - accuracy: 0.8765 - val_loss: 0.3958 - val_accuracy: 0.8785\n",
      "Epoch 27/100\n",
      "26/26 [==============================] - 0s 11ms/step - loss: 0.3766 - accuracy: 0.8782 - val_loss: 0.3845 - val_accuracy: 0.8785\n",
      "Epoch 28/100\n",
      "26/26 [==============================] - 0s 11ms/step - loss: 0.3735 - accuracy: 0.8788 - val_loss: 0.3846 - val_accuracy: 0.8785\n",
      "Epoch 29/100\n",
      "26/26 [==============================] - 0s 12ms/step - loss: 0.3682 - accuracy: 0.8825 - val_loss: 0.3808 - val_accuracy: 0.8785\n",
      "Epoch 30/100\n",
      "26/26 [==============================] - 0s 13ms/step - loss: 0.3640 - accuracy: 0.8831 - val_loss: 0.3815 - val_accuracy: 0.8785\n",
      "Epoch 31/100\n",
      "26/26 [==============================] - 0s 13ms/step - loss: 0.3593 - accuracy: 0.8839 - val_loss: 0.3827 - val_accuracy: 0.8776\n",
      "Epoch 32/100\n",
      "26/26 [==============================] - 0s 13ms/step - loss: 0.3553 - accuracy: 0.8878 - val_loss: 0.3723 - val_accuracy: 0.8776\n",
      "Epoch 33/100\n",
      "26/26 [==============================] - 0s 11ms/step - loss: 0.3530 - accuracy: 0.8872 - val_loss: 0.3751 - val_accuracy: 0.8776\n",
      "Epoch 34/100\n",
      "26/26 [==============================] - 0s 13ms/step - loss: 0.3477 - accuracy: 0.8889 - val_loss: 0.3742 - val_accuracy: 0.8795\n",
      "Epoch 35/100\n",
      "26/26 [==============================] - 0s 11ms/step - loss: 0.3455 - accuracy: 0.8903 - val_loss: 0.3645 - val_accuracy: 0.8804\n",
      "Epoch 36/100\n",
      "26/26 [==============================] - 0s 11ms/step - loss: 0.3406 - accuracy: 0.8915 - val_loss: 0.3677 - val_accuracy: 0.8785\n",
      "Epoch 37/100\n",
      "26/26 [==============================] - 0s 10ms/step - loss: 0.3379 - accuracy: 0.8937 - val_loss: 0.3611 - val_accuracy: 0.8776\n",
      "Epoch 38/100\n",
      "26/26 [==============================] - 0s 12ms/step - loss: 0.3338 - accuracy: 0.8936 - val_loss: 0.3661 - val_accuracy: 0.8776\n",
      "Epoch 39/100\n",
      "26/26 [==============================] - 0s 12ms/step - loss: 0.3300 - accuracy: 0.8928 - val_loss: 0.3651 - val_accuracy: 0.8776\n",
      "Epoch 40/100\n",
      "26/26 [==============================] - 0s 12ms/step - loss: 0.3269 - accuracy: 0.8956 - val_loss: 0.3697 - val_accuracy: 0.8776\n",
      "Epoch 41/100\n",
      "26/26 [==============================] - 0s 11ms/step - loss: 0.3232 - accuracy: 0.8949 - val_loss: 0.3688 - val_accuracy: 0.8823\n",
      "Epoch 42/100\n",
      "26/26 [==============================] - 0s 10ms/step - loss: 0.3201 - accuracy: 0.8939 - val_loss: 0.3694 - val_accuracy: 0.8776\n",
      "Epoch 43/100\n",
      "26/26 [==============================] - 0s 9ms/step - loss: 0.3179 - accuracy: 0.8991 - val_loss: 0.3685 - val_accuracy: 0.8785\n",
      "Epoch 44/100\n",
      "26/26 [==============================] - 0s 9ms/step - loss: 0.3125 - accuracy: 0.9004 - val_loss: 0.3602 - val_accuracy: 0.8785\n",
      "Epoch 45/100\n",
      "26/26 [==============================] - 0s 9ms/step - loss: 0.3102 - accuracy: 0.8977 - val_loss: 0.3573 - val_accuracy: 0.8814\n",
      "Epoch 46/100\n",
      "26/26 [==============================] - 0s 9ms/step - loss: 0.3071 - accuracy: 0.8987 - val_loss: 0.3581 - val_accuracy: 0.8804\n",
      "Epoch 47/100\n",
      "26/26 [==============================] - 0s 11ms/step - loss: 0.3039 - accuracy: 0.8990 - val_loss: 0.3522 - val_accuracy: 0.8814\n",
      "Epoch 48/100\n",
      "26/26 [==============================] - 0s 11ms/step - loss: 0.3011 - accuracy: 0.9023 - val_loss: 0.3564 - val_accuracy: 0.8823\n",
      "Epoch 49/100\n",
      "26/26 [==============================] - 0s 11ms/step - loss: 0.2972 - accuracy: 0.9010 - val_loss: 0.3572 - val_accuracy: 0.8795\n",
      "Epoch 50/100\n",
      "26/26 [==============================] - 0s 11ms/step - loss: 0.2947 - accuracy: 0.9009 - val_loss: 0.3460 - val_accuracy: 0.8814\n",
      "Epoch 51/100\n",
      "26/26 [==============================] - 0s 9ms/step - loss: 0.2916 - accuracy: 0.9013 - val_loss: 0.3549 - val_accuracy: 0.8804\n",
      "Epoch 52/100\n",
      "26/26 [==============================] - 0s 11ms/step - loss: 0.2888 - accuracy: 0.9019 - val_loss: 0.3501 - val_accuracy: 0.8851\n",
      "Epoch 53/100\n",
      "26/26 [==============================] - 0s 11ms/step - loss: 0.2867 - accuracy: 0.9004 - val_loss: 0.3569 - val_accuracy: 0.8804\n",
      "Epoch 54/100\n",
      "26/26 [==============================] - 0s 10ms/step - loss: 0.2825 - accuracy: 0.9037 - val_loss: 0.3459 - val_accuracy: 0.8823\n",
      "Epoch 55/100\n",
      "26/26 [==============================] - 0s 9ms/step - loss: 0.2805 - accuracy: 0.9035 - val_loss: 0.3544 - val_accuracy: 0.8785\n",
      "Epoch 56/100\n",
      "26/26 [==============================] - 0s 9ms/step - loss: 0.2768 - accuracy: 0.9029 - val_loss: 0.3503 - val_accuracy: 0.8832\n",
      "Epoch 57/100\n",
      "26/26 [==============================] - 0s 10ms/step - loss: 0.2751 - accuracy: 0.9044 - val_loss: 0.3443 - val_accuracy: 0.8823\n",
      "Epoch 58/100\n"
     ]
    },
    {
     "name": "stdout",
     "output_type": "stream",
     "text": [
      "26/26 [==============================] - 0s 9ms/step - loss: 0.2737 - accuracy: 0.9044 - val_loss: 0.3553 - val_accuracy: 0.8766\n",
      "Epoch 59/100\n",
      "26/26 [==============================] - 0s 9ms/step - loss: 0.2711 - accuracy: 0.9049 - val_loss: 0.3435 - val_accuracy: 0.8795\n",
      "Epoch 60/100\n",
      "26/26 [==============================] - 0s 8ms/step - loss: 0.2675 - accuracy: 0.9083 - val_loss: 0.3430 - val_accuracy: 0.8832\n",
      "Epoch 61/100\n",
      "26/26 [==============================] - 0s 9ms/step - loss: 0.2655 - accuracy: 0.9100 - val_loss: 0.3450 - val_accuracy: 0.8785\n",
      "Epoch 62/100\n",
      "26/26 [==============================] - 0s 8ms/step - loss: 0.2626 - accuracy: 0.9092 - val_loss: 0.3483 - val_accuracy: 0.8729\n",
      "Epoch 63/100\n",
      "26/26 [==============================] - 0s 8ms/step - loss: 0.2596 - accuracy: 0.9103 - val_loss: 0.3423 - val_accuracy: 0.8804\n",
      "Epoch 64/100\n",
      "26/26 [==============================] - 0s 10ms/step - loss: 0.2570 - accuracy: 0.9080 - val_loss: 0.3407 - val_accuracy: 0.8766\n",
      "Epoch 65/100\n",
      "26/26 [==============================] - 0s 10ms/step - loss: 0.2552 - accuracy: 0.9169 - val_loss: 0.3413 - val_accuracy: 0.8766\n",
      "Epoch 66/100\n",
      "26/26 [==============================] - 0s 11ms/step - loss: 0.2526 - accuracy: 0.9103 - val_loss: 0.3377 - val_accuracy: 0.8757\n",
      "Epoch 67/100\n",
      "26/26 [==============================] - 0s 9ms/step - loss: 0.2501 - accuracy: 0.9164 - val_loss: 0.3324 - val_accuracy: 0.8823\n",
      "Epoch 68/100\n",
      "26/26 [==============================] - 0s 10ms/step - loss: 0.2488 - accuracy: 0.9183 - val_loss: 0.3401 - val_accuracy: 0.8804\n",
      "Epoch 69/100\n",
      "26/26 [==============================] - 0s 9ms/step - loss: 0.2461 - accuracy: 0.9158 - val_loss: 0.3335 - val_accuracy: 0.9011\n",
      "Epoch 70/100\n",
      "26/26 [==============================] - 0s 12ms/step - loss: 0.2446 - accuracy: 0.9206 - val_loss: 0.3412 - val_accuracy: 0.8804\n",
      "Epoch 71/100\n",
      "26/26 [==============================] - 0s 10ms/step - loss: 0.2411 - accuracy: 0.9207 - val_loss: 0.3315 - val_accuracy: 0.8814\n",
      "Epoch 72/100\n",
      "26/26 [==============================] - 0s 9ms/step - loss: 0.2393 - accuracy: 0.9237 - val_loss: 0.3310 - val_accuracy: 0.8804\n",
      "Epoch 73/100\n",
      "26/26 [==============================] - 0s 9ms/step - loss: 0.2370 - accuracy: 0.9195 - val_loss: 0.3350 - val_accuracy: 0.8766\n",
      "Epoch 74/100\n",
      "26/26 [==============================] - 0s 9ms/step - loss: 0.2336 - accuracy: 0.9221 - val_loss: 0.3349 - val_accuracy: 0.8757\n",
      "Epoch 75/100\n",
      "26/26 [==============================] - 0s 9ms/step - loss: 0.2314 - accuracy: 0.9242 - val_loss: 0.3425 - val_accuracy: 0.8738\n",
      "Epoch 76/100\n",
      "26/26 [==============================] - 0s 9ms/step - loss: 0.2309 - accuracy: 0.9242 - val_loss: 0.3368 - val_accuracy: 0.8814\n",
      "Epoch 77/100\n",
      "26/26 [==============================] - 0s 9ms/step - loss: 0.2286 - accuracy: 0.9248 - val_loss: 0.3239 - val_accuracy: 0.9124\n",
      "Epoch 78/100\n",
      "26/26 [==============================] - 0s 8ms/step - loss: 0.2260 - accuracy: 0.9256 - val_loss: 0.3234 - val_accuracy: 0.9077\n",
      "Epoch 79/100\n",
      "26/26 [==============================] - 0s 9ms/step - loss: 0.2241 - accuracy: 0.9262 - val_loss: 0.3286 - val_accuracy: 0.8983\n",
      "Epoch 80/100\n",
      "26/26 [==============================] - 0s 9ms/step - loss: 0.2225 - accuracy: 0.9259 - val_loss: 0.3286 - val_accuracy: 0.8785\n",
      "Epoch 81/100\n",
      "26/26 [==============================] - 0s 9ms/step - loss: 0.2214 - accuracy: 0.9248 - val_loss: 0.3211 - val_accuracy: 0.8964\n",
      "Epoch 82/100\n",
      "26/26 [==============================] - 0s 9ms/step - loss: 0.2194 - accuracy: 0.9285 - val_loss: 0.3253 - val_accuracy: 0.8814\n",
      "Epoch 83/100\n",
      "26/26 [==============================] - 0s 9ms/step - loss: 0.2161 - accuracy: 0.9293 - val_loss: 0.3301 - val_accuracy: 0.9030\n",
      "Epoch 84/100\n",
      "26/26 [==============================] - 0s 9ms/step - loss: 0.2170 - accuracy: 0.9313 - val_loss: 0.3247 - val_accuracy: 0.8992\n",
      "Epoch 85/100\n",
      "26/26 [==============================] - 0s 9ms/step - loss: 0.2127 - accuracy: 0.9290 - val_loss: 0.3268 - val_accuracy: 0.9011\n",
      "Epoch 86/100\n",
      "26/26 [==============================] - 0s 9ms/step - loss: 0.2122 - accuracy: 0.9304 - val_loss: 0.3305 - val_accuracy: 0.8983\n",
      "Epoch 87/100\n",
      "26/26 [==============================] - 0s 9ms/step - loss: 0.2110 - accuracy: 0.9338 - val_loss: 0.3234 - val_accuracy: 0.8983\n",
      "Epoch 88/100\n",
      "26/26 [==============================] - 0s 9ms/step - loss: 0.2083 - accuracy: 0.9287 - val_loss: 0.3226 - val_accuracy: 0.8992\n",
      "Epoch 89/100\n",
      "26/26 [==============================] - 0s 9ms/step - loss: 0.2059 - accuracy: 0.9313 - val_loss: 0.3229 - val_accuracy: 0.9011\n",
      "Epoch 90/100\n",
      "26/26 [==============================] - 0s 10ms/step - loss: 0.2046 - accuracy: 0.9350 - val_loss: 0.3213 - val_accuracy: 0.8983\n",
      "Epoch 91/100\n",
      "26/26 [==============================] - 0s 10ms/step - loss: 0.2034 - accuracy: 0.9344 - val_loss: 0.3281 - val_accuracy: 0.8908\n",
      "Epoch 92/100\n",
      "26/26 [==============================] - 0s 10ms/step - loss: 0.2006 - accuracy: 0.9389 - val_loss: 0.3210 - val_accuracy: 0.9049\n",
      "Epoch 93/100\n",
      "26/26 [==============================] - 0s 10ms/step - loss: 0.1992 - accuracy: 0.9397 - val_loss: 0.3143 - val_accuracy: 0.9068\n",
      "Epoch 94/100\n",
      "26/26 [==============================] - 0s 9ms/step - loss: 0.1975 - accuracy: 0.9383 - val_loss: 0.3198 - val_accuracy: 0.9021\n",
      "Epoch 95/100\n",
      "26/26 [==============================] - 0s 9ms/step - loss: 0.1956 - accuracy: 0.9400 - val_loss: 0.3224 - val_accuracy: 0.9002\n",
      "Epoch 96/100\n",
      "26/26 [==============================] - 0s 9ms/step - loss: 0.1943 - accuracy: 0.9402 - val_loss: 0.3135 - val_accuracy: 0.9171\n",
      "Epoch 97/100\n",
      "26/26 [==============================] - 0s 9ms/step - loss: 0.1924 - accuracy: 0.9453 - val_loss: 0.3131 - val_accuracy: 0.9030\n",
      "Epoch 98/100\n",
      "26/26 [==============================] - 0s 11ms/step - loss: 0.1953 - accuracy: 0.9383 - val_loss: 0.3091 - val_accuracy: 0.9162\n",
      "Epoch 99/100\n",
      "26/26 [==============================] - 0s 10ms/step - loss: 0.1902 - accuracy: 0.9431 - val_loss: 0.3122 - val_accuracy: 0.9030\n",
      "Epoch 100/100\n",
      "26/26 [==============================] - 0s 9ms/step - loss: 0.1886 - accuracy: 0.9448 - val_loss: 0.3253 - val_accuracy: 0.8992\n"
     ]
    }
   ],
   "source": [
    "optimizer = keras.optimizers.Adam(learning_rate=1e-4)\n",
    "\n",
    "CNN.compile(\n",
    "    loss='sparse_categorical_crossentropy',\n",
    "    optimizer=optimizer,\n",
    "    metrics=['accuracy'],\n",
    ")\n",
    "history = CNN.fit(\n",
    "    X_train,\n",
    "    y_train,\n",
    "    epochs=EPOCHS,\n",
    "    batch_size=256,\n",
    "    validation_data=(X_val, y_val),\n",
    "    verbose=1,\n",
    ")"
   ]
  },
  {
   "cell_type": "code",
   "execution_count": 15,
   "id": "70de8d27-4ff5-4dce-b45f-675dcc74513e",
   "metadata": {
    "colab": {
     "base_uri": "https://localhost:8080/"
    },
    "id": "70de8d27-4ff5-4dce-b45f-675dcc74513e",
    "outputId": "7211ef5c-5b4a-4afb-ad4f-7341eeb8f0f8"
   },
   "outputs": [],
   "source": [
    "# from functools import partial\n",
    "\n",
    "\n",
    "\n",
    "# _, num_time, num_feat = X_train.shape\n",
    "\n",
    "# activation = 'selu'\n",
    "\n",
    "# DefaultConv1D = partial(\n",
    "#     keras.layers.Conv1D,\n",
    "#     kernel_size=1,\n",
    "#     activation=activation,\n",
    "#     padding=\"valid\",\n",
    "# )\n",
    "\n",
    "# model = keras.models.Sequential([\n",
    "#     DefaultConv1D(4 * num_feat, kernel_size=2, input_shape=[num_time, num_feat]),\n",
    "#     keras.layers.BatchNormalization(),\n",
    "#     DefaultConv1D(num_feat, kernel_size=2),\n",
    "#     keras.layers.Flatten(),\n",
    "#     keras.layers.BatchNormalization(),\n",
    "#     keras.layers.Dense(num_time * num_feat, activation=activation),\n",
    "#     keras.layers.BatchNormalization(),\n",
    "#     keras.layers.Dense(num_feat, activation=activation),\n",
    "#     keras.layers.BatchNormalization(),\n",
    "#     keras.layers.Dense(5, activation='softmax'),\n",
    "# ])\n",
    "\n",
    "# optimizer = keras.optimizers.Adam(learning_rate=1e-3)\n",
    "\n",
    "# model.compile(\n",
    "#     loss='sparse_categorical_crossentropy',\n",
    "#     optimizer=optimizer,\n",
    "#     metrics=['accuracy'],\n",
    "# )\n",
    "\n",
    "# history = model.fit(\n",
    "#     X_train,\n",
    "#     y_train,\n",
    "#     epochs=EPOCHS,\n",
    "#     batch_size=BATCH_SIZE,\n",
    "#     validation_data=(X_test, y_test),\n",
    "#     verbose=1,\n",
    "# )"
   ]
  },
  {
   "cell_type": "code",
   "execution_count": 19,
   "id": "bed79725-2bb3-47ce-b06c-333c662b30bf",
   "metadata": {
    "colab": {
     "base_uri": "https://localhost:8080/",
     "height": 282
    },
    "id": "bed79725-2bb3-47ce-b06c-333c662b30bf",
    "outputId": "4354cc75-e44d-4d2a-ac4b-c55a4b3a9305"
   },
   "outputs": [
    {
     "data": {
      "text/plain": [
       "[<matplotlib.lines.Line2D at 0x7fe5e5c2deb0>]"
      ]
     },
     "execution_count": 19,
     "metadata": {},
     "output_type": "execute_result"
    },
    {
     "data": {
      "image/png": "[encoded data removed]",
      "text/plain": [
       "<Figure size 432x288 with 1 Axes>"
      ]
     },
     "metadata": {
      "needs_background": "light"
     },
     "output_type": "display_data"
    }
   ],
   "source": [
    "plt.plot(history.history['accuracy'])\n",
    "plt.plot(history.history['val_accuracy'])"
   ]
  },
  {
   "cell_type": "code",
   "execution_count": 20,
   "id": "3b65d81f-3d75-43d1-9e2d-88cef69d110b",
   "metadata": {
    "colab": {
     "base_uri": "https://localhost:8080/",
     "height": 265
    },
    "id": "3b65d81f-3d75-43d1-9e2d-88cef69d110b",
    "outputId": "97e18fb9-4340-478c-e307-82c03282e9cc"
   },
   "outputs": [
    {
     "data": {
      "image/png": "[encoded data removed]",
      "text/plain": [
       "<Figure size 432x288 with 1 Axes>"
      ]
     },
     "metadata": {
      "needs_background": "light"
     },
     "output_type": "display_data"
    }
   ],
   "source": [
    "plt.plot(history.history['loss'])\n",
    "plt.plot(history.history['val_loss'])\n",
    "plt.yscale('log')"
   ]
  },
  {
   "cell_type": "code",
   "execution_count": 21,
   "id": "8a964a60-488a-431e-8bcc-586e90d8956b",
   "metadata": {
    "id": "8a964a60-488a-431e-8bcc-586e90d8956b"
   },
   "outputs": [
    {
     "name": "stdout",
     "output_type": "stream",
     "text": [
      "33/33 [==============================] - 0s 2ms/step\n"
     ]
    }
   ],
   "source": [
    "y_pred = CNN.predict(X_test)"
   ]
  },
  {
   "cell_type": "code",
   "execution_count": 22,
   "id": "d7C0QyTLHO8q",
   "metadata": {
    "colab": {
     "base_uri": "https://localhost:8080/"
    },
    "id": "d7C0QyTLHO8q",
    "outputId": "78587010-2aa8-4cc7-e82f-7c40e11ce705"
   },
   "outputs": [
    {
     "data": {
      "text/plain": [
       "array([[1.79374963e-02, 1.19535020e-02, 1.17289974e-05, ...,\n",
       "        1.65446224e-07, 1.54666426e-02, 9.54630435e-01],\n",
       "       [4.42914315e-04, 4.07961197e-03, 2.02541378e-05, ...,\n",
       "        1.35471911e-09, 1.94960099e-04, 9.95262265e-01],\n",
       "       [7.36678997e-03, 9.49287176e-01, 2.01688111e-02, ...,\n",
       "        3.79001541e-09, 9.81549761e-07, 2.31743436e-02],\n",
       "       ...,\n",
       "       [1.23832375e-01, 7.45176279e-04, 6.98788597e-07, ...,\n",
       "        1.71975454e-03, 8.71874690e-01, 1.82408432e-03],\n",
       "       [2.33912040e-02, 9.43415165e-01, 8.31230020e-04, ...,\n",
       "        3.49921336e-08, 6.92684398e-06, 3.23527157e-02],\n",
       "       [4.02361661e-01, 5.21595240e-01, 6.89415410e-02, ...,\n",
       "        1.32152863e-07, 9.16181648e-07, 7.09049869e-03]], dtype=float32)"
      ]
     },
     "execution_count": 22,
     "metadata": {},
     "output_type": "execute_result"
    }
   ],
   "source": [
    "y_pred"
   ]
  },
  {
   "cell_type": "code",
   "execution_count": 23,
   "id": "1ljWvGo9skgS",
   "metadata": {
    "id": "1ljWvGo9skgS"
   },
   "outputs": [],
   "source": [
    "y_pred= np.argmax(y_pred, axis=1)"
   ]
  },
  {
   "cell_type": "code",
   "execution_count": 24,
   "id": "BIninuG_Hixu",
   "metadata": {
    "colab": {
     "base_uri": "https://localhost:8080/"
    },
    "id": "BIninuG_Hixu",
    "outputId": "8d52a3ce-46d5-41c3-f339-ec8e2feee684"
   },
   "outputs": [
    {
     "data": {
      "text/plain": [
       "array([8, 8, 1, ..., 7, 1, 1])"
      ]
     },
     "execution_count": 24,
     "metadata": {},
     "output_type": "execute_result"
    }
   ],
   "source": [
    "y_pred"
   ]
  },
  {
   "cell_type": "code",
   "execution_count": 25,
   "id": "3NzoyhrD4tO9",
   "metadata": {
    "colab": {
     "base_uri": "https://localhost:8080/"
    },
    "id": "3NzoyhrD4tO9",
    "outputId": "da09ab77-c439-431e-82a8-93fc98f20b49"
   },
   "outputs": [
    {
     "data": {
      "text/plain": [
       "8"
      ]
     },
     "execution_count": 25,
     "metadata": {},
     "output_type": "execute_result"
    }
   ],
   "source": [
    "y_pred[0]"
   ]
  },
  {
   "cell_type": "code",
   "execution_count": 26,
   "id": "48c3e9c7-2bc3-479a-8af1-bf35d87f3e57",
   "metadata": {
    "id": "48c3e9c7-2bc3-479a-8af1-bf35d87f3e57"
   },
   "outputs": [],
   "source": [
    "df = pd.DataFrame({\n",
    "    'y_test': y_test.ravel().astype(int).tolist(),\n",
    "    'y_pred': y_pred.ravel().astype(int).tolist(),\n",
    "})"
   ]
  },
  {
   "cell_type": "code",
   "execution_count": 27,
   "id": "18cfafbe-dafb-4a9e-8873-7f96e71f80b8",
   "metadata": {
    "colab": {
     "base_uri": "https://localhost:8080/",
     "height": 175
    },
    "id": "18cfafbe-dafb-4a9e-8873-7f96e71f80b8",
    "outputId": "aa49cb9d-c88e-437b-9a31-2809577d1da1"
   },
   "outputs": [
    {
     "data": {
      "text/html": [
       "<div>\n",
       "<style scoped>\n",
       "    .dataframe tbody tr th:only-of-type {\n",
       "        vertical-align: middle;\n",
       "    }\n",
       "\n",
       "    .dataframe tbody tr th {\n",
       "        vertical-align: top;\n",
       "    }\n",
       "\n",
       "    .dataframe thead th {\n",
       "        text-align: right;\n",
       "    }\n",
       "</style>\n",
       "<table border=\"1\" class=\"dataframe\">\n",
       "  <thead>\n",
       "    <tr style=\"text-align: right;\">\n",
       "      <th>y_pred</th>\n",
       "      <th>0</th>\n",
       "      <th>1</th>\n",
       "      <th>2</th>\n",
       "      <th>3</th>\n",
       "      <th>4</th>\n",
       "      <th>5</th>\n",
       "      <th>6</th>\n",
       "      <th>7</th>\n",
       "      <th>8</th>\n",
       "    </tr>\n",
       "    <tr>\n",
       "      <th>y_test</th>\n",
       "      <th></th>\n",
       "      <th></th>\n",
       "      <th></th>\n",
       "      <th></th>\n",
       "      <th></th>\n",
       "      <th></th>\n",
       "      <th></th>\n",
       "      <th></th>\n",
       "      <th></th>\n",
       "    </tr>\n",
       "  </thead>\n",
       "  <tbody>\n",
       "    <tr>\n",
       "      <th>0</th>\n",
       "      <td>31</td>\n",
       "      <td>30</td>\n",
       "      <td>0</td>\n",
       "      <td>0</td>\n",
       "      <td>0</td>\n",
       "      <td>0</td>\n",
       "      <td>27</td>\n",
       "      <td>21</td>\n",
       "      <td>8</td>\n",
       "    </tr>\n",
       "    <tr>\n",
       "      <th>1</th>\n",
       "      <td>0</td>\n",
       "      <td>117</td>\n",
       "      <td>0</td>\n",
       "      <td>0</td>\n",
       "      <td>0</td>\n",
       "      <td>0</td>\n",
       "      <td>0</td>\n",
       "      <td>0</td>\n",
       "      <td>0</td>\n",
       "    </tr>\n",
       "    <tr>\n",
       "      <th>2</th>\n",
       "      <td>0</td>\n",
       "      <td>0</td>\n",
       "      <td>117</td>\n",
       "      <td>0</td>\n",
       "      <td>0</td>\n",
       "      <td>0</td>\n",
       "      <td>0</td>\n",
       "      <td>0</td>\n",
       "      <td>0</td>\n",
       "    </tr>\n",
       "    <tr>\n",
       "      <th>3</th>\n",
       "      <td>4</td>\n",
       "      <td>0</td>\n",
       "      <td>0</td>\n",
       "      <td>113</td>\n",
       "      <td>0</td>\n",
       "      <td>0</td>\n",
       "      <td>0</td>\n",
       "      <td>0</td>\n",
       "      <td>0</td>\n",
       "    </tr>\n",
       "    <tr>\n",
       "      <th>4</th>\n",
       "      <td>0</td>\n",
       "      <td>0</td>\n",
       "      <td>0</td>\n",
       "      <td>0</td>\n",
       "      <td>117</td>\n",
       "      <td>0</td>\n",
       "      <td>0</td>\n",
       "      <td>0</td>\n",
       "      <td>0</td>\n",
       "    </tr>\n",
       "    <tr>\n",
       "      <th>5</th>\n",
       "      <td>23</td>\n",
       "      <td>0</td>\n",
       "      <td>0</td>\n",
       "      <td>0</td>\n",
       "      <td>0</td>\n",
       "      <td>94</td>\n",
       "      <td>0</td>\n",
       "      <td>0</td>\n",
       "      <td>0</td>\n",
       "    </tr>\n",
       "    <tr>\n",
       "      <th>6</th>\n",
       "      <td>2</td>\n",
       "      <td>0</td>\n",
       "      <td>0</td>\n",
       "      <td>0</td>\n",
       "      <td>0</td>\n",
       "      <td>0</td>\n",
       "      <td>115</td>\n",
       "      <td>0</td>\n",
       "      <td>0</td>\n",
       "    </tr>\n",
       "    <tr>\n",
       "      <th>7</th>\n",
       "      <td>0</td>\n",
       "      <td>0</td>\n",
       "      <td>0</td>\n",
       "      <td>0</td>\n",
       "      <td>0</td>\n",
       "      <td>0</td>\n",
       "      <td>0</td>\n",
       "      <td>117</td>\n",
       "      <td>0</td>\n",
       "    </tr>\n",
       "    <tr>\n",
       "      <th>8</th>\n",
       "      <td>0</td>\n",
       "      <td>0</td>\n",
       "      <td>0</td>\n",
       "      <td>0</td>\n",
       "      <td>0</td>\n",
       "      <td>0</td>\n",
       "      <td>0</td>\n",
       "      <td>0</td>\n",
       "      <td>117</td>\n",
       "    </tr>\n",
       "  </tbody>\n",
       "</table>\n",
       "</div>"
      ],
      "text/plain": [
       "y_pred   0    1    2    3    4   5    6    7    8\n",
       "y_test                                           \n",
       "0       31   30    0    0    0   0   27   21    8\n",
       "1        0  117    0    0    0   0    0    0    0\n",
       "2        0    0  117    0    0   0    0    0    0\n",
       "3        4    0    0  113    0   0    0    0    0\n",
       "4        0    0    0    0  117   0    0    0    0\n",
       "5       23    0    0    0    0  94    0    0    0\n",
       "6        2    0    0    0    0   0  115    0    0\n",
       "7        0    0    0    0    0   0    0  117    0\n",
       "8        0    0    0    0    0   0    0    0  117"
      ]
     },
     "execution_count": 27,
     "metadata": {},
     "output_type": "execute_result"
    }
   ],
   "source": [
    "pd.crosstab(df['y_test'], df['y_pred'])"
   ]
  },
  {
   "cell_type": "code",
   "execution_count": null,
   "id": "e192957b-1b16-47c8-89eb-d6e2fb9bde9f",
   "metadata": {
    "id": "e192957b-1b16-47c8-89eb-d6e2fb9bde9f"
   },
   "outputs": [],
   "source": [
    "# model.save('model.h5')"
   ]
  },
  {
   "cell_type": "code",
   "execution_count": 28,
   "id": "vZD1w6TZwk0e",
   "metadata": {
    "id": "vZD1w6TZwk0e"
   },
   "outputs": [],
   "source": [
    "CNN.save('model_f_e_45.h5')"
   ]
  },
  {
   "cell_type": "code",
   "execution_count": null,
   "id": "f1d824e8",
   "metadata": {},
   "outputs": [],
   "source": []
  }
 ],
 "metadata": {
  "accelerator": "GPU",
  "colab": {
   "provenance": []
  },
  "gpuClass": "standard",
  "kernelspec": {
   "display_name": "Python 3 (ipykernel)",
   "language": "python",
   "name": "python3"
  },
  "language_info": {
   "codemirror_mode": {
    "name": "ipython",
    "version": 3
   },
   "file_extension": ".py",
   "mimetype": "text/x-python",
   "name": "python",
   "nbconvert_exporter": "python",
   "pygments_lexer": "ipython3",
   "version": "3.9.12"
  }
 },
 "nbformat": 4,
 "nbformat_minor": 5
}
