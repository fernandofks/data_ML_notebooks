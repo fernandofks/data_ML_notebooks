{
 "cells": [
  {
   "cell_type": "code",
   "execution_count": 1,
   "id": "b41f0b0f-cc96-43a2-ab7f-f3264587e7d2",
   "metadata": {
    "id": "b41f0b0f-cc96-43a2-ab7f-f3264587e7d2"
   },
   "outputs": [
    {
     "name": "stderr",
     "output_type": "stream",
     "text": [
      "/Users/fernandokenjisakabe/opt/anaconda3/lib/python3.9/site-packages/scipy/__init__.py:146: UserWarning: A NumPy version >=1.16.5 and <1.23.0 is required for this version of SciPy (detected version 1.24.1\n",
      "  warnings.warn(f\"A NumPy version >={np_minversion} and <{np_maxversion}\"\n"
     ]
    }
   ],
   "source": [
    "from pathlib import Path\n",
    "import matplotlib.pyplot as plt\n",
    "import numpy as np\n",
    "import pandas as pd\n",
    "import tensorflow as tf\n",
    "import tensorflow.keras as keras\n",
    "from tensorflow.python.keras.layers import Dense\n",
    "from numpy.random import default_rng\n",
    "from sklearn.model_selection import train_test_split"
   ]
  },
  {
   "cell_type": "code",
   "execution_count": null,
   "id": "df1cad23",
   "metadata": {},
   "outputs": [],
   "source": []
  },
  {
   "cell_type": "code",
   "execution_count": 2,
   "id": "NKCFZxY--SlA",
   "metadata": {
    "id": "NKCFZxY--SlA"
   },
   "outputs": [],
   "source": [
    "data_new = pd.read_csv('data/f_s_90_1/f_s_90_1.txt', sep=\",\", comment=\"#\",header=None, names=[\"e_t_x\",\"e_t_y\",\"e_t_z\",\"e_r_x\",\"e_r_y\",\"e_r_z\",\"e_r_w\",\"d_t_x\",\"d_t_y\",\"d_t_z\",\"d_r_x\",\"d_r_y\",\"d_r_z\",\"d_r_w\", \"c_t_x\",\"c_t_y\",\"c_t_z\",\"c_r_x\",\"c_r_y\",\"c_r_z\", \"c_r_w\"])\n"
   ]
  },
  {
   "cell_type": "code",
   "execution_count": 3,
   "id": "CEcxIBOK_lHV",
   "metadata": {
    "colab": {
     "base_uri": "https://localhost:8080/",
     "height": 424
    },
    "id": "CEcxIBOK_lHV",
    "outputId": "697794b7-0442-48b4-c792-7fe5166e7348"
   },
   "outputs": [
    {
     "data": {
      "text/html": [
       "<div>\n",
       "<style scoped>\n",
       "    .dataframe tbody tr th:only-of-type {\n",
       "        vertical-align: middle;\n",
       "    }\n",
       "\n",
       "    .dataframe tbody tr th {\n",
       "        vertical-align: top;\n",
       "    }\n",
       "\n",
       "    .dataframe thead th {\n",
       "        text-align: right;\n",
       "    }\n",
       "</style>\n",
       "<table border=\"1\" class=\"dataframe\">\n",
       "  <thead>\n",
       "    <tr style=\"text-align: right;\">\n",
       "      <th></th>\n",
       "      <th>e_t_x</th>\n",
       "      <th>e_t_y</th>\n",
       "      <th>e_t_z</th>\n",
       "      <th>e_r_x</th>\n",
       "      <th>e_r_y</th>\n",
       "      <th>e_r_z</th>\n",
       "      <th>e_r_w</th>\n",
       "      <th>d_t_x</th>\n",
       "      <th>d_t_y</th>\n",
       "      <th>d_t_z</th>\n",
       "      <th>...</th>\n",
       "      <th>d_r_y</th>\n",
       "      <th>d_r_z</th>\n",
       "      <th>d_r_w</th>\n",
       "      <th>c_t_x</th>\n",
       "      <th>c_t_y</th>\n",
       "      <th>c_t_z</th>\n",
       "      <th>c_r_x</th>\n",
       "      <th>c_r_y</th>\n",
       "      <th>c_r_z</th>\n",
       "      <th>c_r_w</th>\n",
       "    </tr>\n",
       "  </thead>\n",
       "  <tbody>\n",
       "    <tr>\n",
       "      <th>0</th>\n",
       "      <td>-0.199</td>\n",
       "      <td>0.634</td>\n",
       "      <td>0.189</td>\n",
       "      <td>-0.095</td>\n",
       "      <td>0.553</td>\n",
       "      <td>0.804</td>\n",
       "      <td>0.196</td>\n",
       "      <td>0.141</td>\n",
       "      <td>0.622</td>\n",
       "      <td>0.237</td>\n",
       "      <td>...</td>\n",
       "      <td>-0.556</td>\n",
       "      <td>-0.821</td>\n",
       "      <td>0.127</td>\n",
       "      <td>-0.027</td>\n",
       "      <td>2.241</td>\n",
       "      <td>0.199</td>\n",
       "      <td>0.037</td>\n",
       "      <td>-0.025</td>\n",
       "      <td>-0.004</td>\n",
       "      <td>0.999</td>\n",
       "    </tr>\n",
       "    <tr>\n",
       "      <th>1</th>\n",
       "      <td>-0.199</td>\n",
       "      <td>0.635</td>\n",
       "      <td>0.189</td>\n",
       "      <td>-0.095</td>\n",
       "      <td>0.552</td>\n",
       "      <td>0.804</td>\n",
       "      <td>0.196</td>\n",
       "      <td>0.141</td>\n",
       "      <td>0.622</td>\n",
       "      <td>0.237</td>\n",
       "      <td>...</td>\n",
       "      <td>-0.556</td>\n",
       "      <td>-0.821</td>\n",
       "      <td>0.128</td>\n",
       "      <td>-0.033</td>\n",
       "      <td>2.242</td>\n",
       "      <td>0.199</td>\n",
       "      <td>0.030</td>\n",
       "      <td>-0.027</td>\n",
       "      <td>0.001</td>\n",
       "      <td>0.999</td>\n",
       "    </tr>\n",
       "    <tr>\n",
       "      <th>2</th>\n",
       "      <td>-0.199</td>\n",
       "      <td>0.634</td>\n",
       "      <td>0.189</td>\n",
       "      <td>-0.095</td>\n",
       "      <td>0.552</td>\n",
       "      <td>0.805</td>\n",
       "      <td>0.196</td>\n",
       "      <td>0.141</td>\n",
       "      <td>0.622</td>\n",
       "      <td>0.237</td>\n",
       "      <td>...</td>\n",
       "      <td>-0.556</td>\n",
       "      <td>-0.821</td>\n",
       "      <td>0.128</td>\n",
       "      <td>-0.038</td>\n",
       "      <td>2.242</td>\n",
       "      <td>0.198</td>\n",
       "      <td>0.030</td>\n",
       "      <td>-0.033</td>\n",
       "      <td>0.003</td>\n",
       "      <td>0.999</td>\n",
       "    </tr>\n",
       "    <tr>\n",
       "      <th>3</th>\n",
       "      <td>-0.199</td>\n",
       "      <td>0.634</td>\n",
       "      <td>0.189</td>\n",
       "      <td>-0.095</td>\n",
       "      <td>0.552</td>\n",
       "      <td>0.805</td>\n",
       "      <td>0.196</td>\n",
       "      <td>0.141</td>\n",
       "      <td>0.622</td>\n",
       "      <td>0.237</td>\n",
       "      <td>...</td>\n",
       "      <td>-0.556</td>\n",
       "      <td>-0.821</td>\n",
       "      <td>0.128</td>\n",
       "      <td>-0.041</td>\n",
       "      <td>2.241</td>\n",
       "      <td>0.197</td>\n",
       "      <td>0.031</td>\n",
       "      <td>-0.035</td>\n",
       "      <td>0.006</td>\n",
       "      <td>0.999</td>\n",
       "    </tr>\n",
       "    <tr>\n",
       "      <th>4</th>\n",
       "      <td>-0.199</td>\n",
       "      <td>0.635</td>\n",
       "      <td>0.189</td>\n",
       "      <td>-0.095</td>\n",
       "      <td>0.552</td>\n",
       "      <td>0.804</td>\n",
       "      <td>0.196</td>\n",
       "      <td>0.141</td>\n",
       "      <td>0.622</td>\n",
       "      <td>0.237</td>\n",
       "      <td>...</td>\n",
       "      <td>-0.556</td>\n",
       "      <td>-0.821</td>\n",
       "      <td>0.128</td>\n",
       "      <td>-0.039</td>\n",
       "      <td>2.241</td>\n",
       "      <td>0.197</td>\n",
       "      <td>0.028</td>\n",
       "      <td>-0.037</td>\n",
       "      <td>0.002</td>\n",
       "      <td>0.999</td>\n",
       "    </tr>\n",
       "    <tr>\n",
       "      <th>...</th>\n",
       "      <td>...</td>\n",
       "      <td>...</td>\n",
       "      <td>...</td>\n",
       "      <td>...</td>\n",
       "      <td>...</td>\n",
       "      <td>...</td>\n",
       "      <td>...</td>\n",
       "      <td>...</td>\n",
       "      <td>...</td>\n",
       "      <td>...</td>\n",
       "      <td>...</td>\n",
       "      <td>...</td>\n",
       "      <td>...</td>\n",
       "      <td>...</td>\n",
       "      <td>...</td>\n",
       "      <td>...</td>\n",
       "      <td>...</td>\n",
       "      <td>...</td>\n",
       "      <td>...</td>\n",
       "      <td>...</td>\n",
       "      <td>...</td>\n",
       "    </tr>\n",
       "    <tr>\n",
       "      <th>12138</th>\n",
       "      <td>-0.007</td>\n",
       "      <td>0.419</td>\n",
       "      <td>1.121</td>\n",
       "      <td>-0.455</td>\n",
       "      <td>0.413</td>\n",
       "      <td>0.701</td>\n",
       "      <td>0.362</td>\n",
       "      <td>0.225</td>\n",
       "      <td>0.421</td>\n",
       "      <td>1.332</td>\n",
       "      <td>...</td>\n",
       "      <td>0.527</td>\n",
       "      <td>0.807</td>\n",
       "      <td>0.089</td>\n",
       "      <td>-0.032</td>\n",
       "      <td>1.161</td>\n",
       "      <td>0.987</td>\n",
       "      <td>-0.494</td>\n",
       "      <td>0.806</td>\n",
       "      <td>-0.261</td>\n",
       "      <td>0.197</td>\n",
       "    </tr>\n",
       "    <tr>\n",
       "      <th>12139</th>\n",
       "      <td>-0.007</td>\n",
       "      <td>0.419</td>\n",
       "      <td>1.121</td>\n",
       "      <td>-0.455</td>\n",
       "      <td>0.413</td>\n",
       "      <td>0.701</td>\n",
       "      <td>0.362</td>\n",
       "      <td>0.225</td>\n",
       "      <td>0.420</td>\n",
       "      <td>1.332</td>\n",
       "      <td>...</td>\n",
       "      <td>0.527</td>\n",
       "      <td>0.807</td>\n",
       "      <td>0.089</td>\n",
       "      <td>-0.036</td>\n",
       "      <td>1.163</td>\n",
       "      <td>0.992</td>\n",
       "      <td>-0.483</td>\n",
       "      <td>0.806</td>\n",
       "      <td>-0.277</td>\n",
       "      <td>0.202</td>\n",
       "    </tr>\n",
       "    <tr>\n",
       "      <th>12140</th>\n",
       "      <td>-0.007</td>\n",
       "      <td>0.418</td>\n",
       "      <td>1.121</td>\n",
       "      <td>-0.454</td>\n",
       "      <td>0.412</td>\n",
       "      <td>0.702</td>\n",
       "      <td>0.362</td>\n",
       "      <td>0.226</td>\n",
       "      <td>0.420</td>\n",
       "      <td>1.332</td>\n",
       "      <td>...</td>\n",
       "      <td>0.527</td>\n",
       "      <td>0.807</td>\n",
       "      <td>0.088</td>\n",
       "      <td>-0.037</td>\n",
       "      <td>1.164</td>\n",
       "      <td>0.997</td>\n",
       "      <td>-0.474</td>\n",
       "      <td>0.804</td>\n",
       "      <td>-0.293</td>\n",
       "      <td>0.209</td>\n",
       "    </tr>\n",
       "    <tr>\n",
       "      <th>12141</th>\n",
       "      <td>-0.007</td>\n",
       "      <td>0.419</td>\n",
       "      <td>1.121</td>\n",
       "      <td>-0.453</td>\n",
       "      <td>0.412</td>\n",
       "      <td>0.703</td>\n",
       "      <td>0.361</td>\n",
       "      <td>0.225</td>\n",
       "      <td>0.420</td>\n",
       "      <td>1.331</td>\n",
       "      <td>...</td>\n",
       "      <td>0.527</td>\n",
       "      <td>0.806</td>\n",
       "      <td>0.088</td>\n",
       "      <td>-0.034</td>\n",
       "      <td>1.163</td>\n",
       "      <td>0.999</td>\n",
       "      <td>-0.475</td>\n",
       "      <td>0.803</td>\n",
       "      <td>-0.292</td>\n",
       "      <td>0.212</td>\n",
       "    </tr>\n",
       "    <tr>\n",
       "      <th>12142</th>\n",
       "      <td>-0.013</td>\n",
       "      <td>0.423</td>\n",
       "      <td>1.116</td>\n",
       "      <td>-0.451</td>\n",
       "      <td>0.412</td>\n",
       "      <td>0.705</td>\n",
       "      <td>0.360</td>\n",
       "      <td>0.225</td>\n",
       "      <td>0.420</td>\n",
       "      <td>1.331</td>\n",
       "      <td>...</td>\n",
       "      <td>0.527</td>\n",
       "      <td>0.806</td>\n",
       "      <td>0.087</td>\n",
       "      <td>-0.031</td>\n",
       "      <td>1.161</td>\n",
       "      <td>1.002</td>\n",
       "      <td>-0.481</td>\n",
       "      <td>0.801</td>\n",
       "      <td>-0.288</td>\n",
       "      <td>0.210</td>\n",
       "    </tr>\n",
       "  </tbody>\n",
       "</table>\n",
       "<p>12143 rows × 21 columns</p>\n",
       "</div>"
      ],
      "text/plain": [
       "       e_t_x  e_t_y  e_t_z  e_r_x  e_r_y  e_r_z  e_r_w  d_t_x  d_t_y  d_t_z  \\\n",
       "0     -0.199  0.634  0.189 -0.095  0.553  0.804  0.196  0.141  0.622  0.237   \n",
       "1     -0.199  0.635  0.189 -0.095  0.552  0.804  0.196  0.141  0.622  0.237   \n",
       "2     -0.199  0.634  0.189 -0.095  0.552  0.805  0.196  0.141  0.622  0.237   \n",
       "3     -0.199  0.634  0.189 -0.095  0.552  0.805  0.196  0.141  0.622  0.237   \n",
       "4     -0.199  0.635  0.189 -0.095  0.552  0.804  0.196  0.141  0.622  0.237   \n",
       "...      ...    ...    ...    ...    ...    ...    ...    ...    ...    ...   \n",
       "12138 -0.007  0.419  1.121 -0.455  0.413  0.701  0.362  0.225  0.421  1.332   \n",
       "12139 -0.007  0.419  1.121 -0.455  0.413  0.701  0.362  0.225  0.420  1.332   \n",
       "12140 -0.007  0.418  1.121 -0.454  0.412  0.702  0.362  0.226  0.420  1.332   \n",
       "12141 -0.007  0.419  1.121 -0.453  0.412  0.703  0.361  0.225  0.420  1.331   \n",
       "12142 -0.013  0.423  1.116 -0.451  0.412  0.705  0.360  0.225  0.420  1.331   \n",
       "\n",
       "       ...  d_r_y  d_r_z  d_r_w  c_t_x  c_t_y  c_t_z  c_r_x  c_r_y  c_r_z  \\\n",
       "0      ... -0.556 -0.821  0.127 -0.027  2.241  0.199  0.037 -0.025 -0.004   \n",
       "1      ... -0.556 -0.821  0.128 -0.033  2.242  0.199  0.030 -0.027  0.001   \n",
       "2      ... -0.556 -0.821  0.128 -0.038  2.242  0.198  0.030 -0.033  0.003   \n",
       "3      ... -0.556 -0.821  0.128 -0.041  2.241  0.197  0.031 -0.035  0.006   \n",
       "4      ... -0.556 -0.821  0.128 -0.039  2.241  0.197  0.028 -0.037  0.002   \n",
       "...    ...    ...    ...    ...    ...    ...    ...    ...    ...    ...   \n",
       "12138  ...  0.527  0.807  0.089 -0.032  1.161  0.987 -0.494  0.806 -0.261   \n",
       "12139  ...  0.527  0.807  0.089 -0.036  1.163  0.992 -0.483  0.806 -0.277   \n",
       "12140  ...  0.527  0.807  0.088 -0.037  1.164  0.997 -0.474  0.804 -0.293   \n",
       "12141  ...  0.527  0.806  0.088 -0.034  1.163  0.999 -0.475  0.803 -0.292   \n",
       "12142  ...  0.527  0.806  0.087 -0.031  1.161  1.002 -0.481  0.801 -0.288   \n",
       "\n",
       "       c_r_w  \n",
       "0      0.999  \n",
       "1      0.999  \n",
       "2      0.999  \n",
       "3      0.999  \n",
       "4      0.999  \n",
       "...      ...  \n",
       "12138  0.197  \n",
       "12139  0.202  \n",
       "12140  0.209  \n",
       "12141  0.212  \n",
       "12142  0.210  \n",
       "\n",
       "[12143 rows x 21 columns]"
      ]
     },
     "execution_count": 3,
     "metadata": {},
     "output_type": "execute_result"
    }
   ],
   "source": [
    "data_new"
   ]
  },
  {
   "cell_type": "code",
   "execution_count": null,
   "id": "0773bb42",
   "metadata": {},
   "outputs": [],
   "source": []
  },
  {
   "cell_type": "code",
   "execution_count": 4,
   "id": "TiXnPjZND-oG",
   "metadata": {
    "colab": {
     "base_uri": "https://localhost:8080/",
     "height": 488
    },
    "id": "TiXnPjZND-oG",
    "outputId": "8606ddc6-d785-4e99-e7a3-4f17d596a599"
   },
   "outputs": [],
   "source": [
    "vel_stop=data_new[:2400]\n",
    "vel_frente=data_new[2400:4800]\n",
    "vel_esquerda=data_new[4800:7200]\n",
    "vel_tras=data_new[7200:9600]\n",
    "vel_direita=data_new[9600:12000]\n",
    "\n",
    "\n",
    "\n",
    "\n",
    "# f_vel_stop=data_fernando[:300]\n",
    "# f_vel_slow=data_fernando[300:600]\n",
    "# f_vel_fast=data_fernando[600:900]\n",
    "# f_vel_slow2=data_fernando[900:1200]\n",
    "# f_vel_stop2=data_fernando[1200:1500]\n",
    "# f_vel_fast2=data_fernando[1500:1800]\n",
    "# f_vel_stop3=data_fernando[1800:]"
   ]
  },
  {
   "cell_type": "code",
   "execution_count": 10,
   "id": "a265040a",
   "metadata": {},
   "outputs": [],
   "source": [
    "vel_stop.to_csv('stop_90_quat.csv', index=False, header=True)\n",
    "vel_frente.to_csv('0_90_quat.csv', index=False, header=True)\n",
    "vel_esquerda.to_csv('90_90_quat.csv', index=False, header=True)\n",
    "vel_tras.to_csv('180_90_quat.csv', index=False, header=True)\n",
    "vel_direita.to_csv('270_90_quat.csv', index=False, header=True)\n"
   ]
  },
  {
   "cell_type": "code",
   "execution_count": null,
   "id": "ePcZW2f2gVOb",
   "metadata": {
    "colab": {
     "base_uri": "https://localhost:8080/",
     "height": 488
    },
    "id": "ePcZW2f2gVOb",
    "outputId": "5f5b4962-ab85-4552-bbac-2c4d37415a46",
    "scrolled": true
   },
   "outputs": [],
   "source": [
    "\n"
   ]
  },
  {
   "cell_type": "code",
   "execution_count": 6,
   "id": "mlY3B_YnEEtI",
   "metadata": {
    "id": "mlY3B_YnEEtI"
   },
   "outputs": [],
   "source": [
    "# # frames = [vel_stop0, vel_stop1, vel_stop2, vel_slow0, vel_slow1, vel_fast0, vel_fast1]\n",
    "# # result = pd.concat(frames)[1:]\n",
    "# # result = result.round(decimals=3)\n",
    "# frames = vel_stop0.append(vel_stop1,ignore_index=True)\n",
    "# frames = frames.append(vel_stop2,ignore_index=True)\n",
    "# frames = frames.append(vel_slow0,ignore_index=True)\n",
    "# frames = frames.append(vel_slow1,ignore_index=True)\n",
    "# frames = frames.append(vel_fast0,ignore_index=True)\n",
    "# frames = frames.append(vel_fast1,ignore_index=True)\n",
    "# result=frames\n",
    "# result"
   ]
  },
  {
   "cell_type": "code",
   "execution_count": 7,
   "id": "aHWd7FbxYRJ_",
   "metadata": {
    "colab": {
     "base_uri": "https://localhost:8080/",
     "height": 488
    },
    "id": "aHWd7FbxYRJ_",
    "outputId": "e92e114f-4f60-4dc6-8032-7ce1ee5bdede"
   },
   "outputs": [],
   "source": [
    "# result.to_csv('data/full_data_100Hz.csv', index=False, header=False) *****IMPORTANTE*****"
   ]
  },
  {
   "cell_type": "code",
   "execution_count": 8,
   "id": "a2d80ff8",
   "metadata": {},
   "outputs": [],
   "source": [
    "# # old_full_data = pd.read_csv('data/full_data.txt', sep=\",\", header=None, names=[\"e_t_x\",\"e_t_y\",\"e_t_z\",\"e_r_x\",\"e_r_y\",\"e_r_z\",\"e_r_w\",\"d_t_x\",\"d_t_y\",\"d_t_z\",\"d_r_x\",\"d_r_y\",\"d_r_z\",\"d_r_w\", \"c_t_x\",\"c_t_y\",\"c_t_z\",\"c_r_x\",\"c_r_y\",\"c_r_z\", \"c_r_w\",  \"speed\"])\n",
    "# old_full_data = pd.read_csv('data/full_data_100HZ.csv', sep=\",\", header=None, names=[\"e_t_x\",\"e_t_y\",\"e_t_z\",\"e_r_x\",\"e_r_y\",\"e_r_z\",\"e_r_w\",\"d_t_x\",\"d_t_y\",\"d_t_z\",\"d_r_x\",\"d_r_y\",\"d_r_z\",\"d_r_w\", \"c_t_x\",\"c_t_y\",\"c_t_z\",\"c_r_x\",\"c_r_y\",\"c_r_z\", \"c_r_w\",  \"speed\"])\n",
    "# # old_full_data\n",
    "# old_full_data"
   ]
  },
  {
   "cell_type": "code",
   "execution_count": 9,
   "id": "yhDKRNUkgTp2",
   "metadata": {
    "id": "yhDKRNUkgTp2"
   },
   "outputs": [
    {
     "ename": "NameError",
     "evalue": "name 'old_full_data' is not defined",
     "output_type": "error",
     "traceback": [
      "\u001b[0;31m---------------------------------------------------------------------------\u001b[0m",
      "\u001b[0;31mNameError\u001b[0m                                 Traceback (most recent call last)",
      "Input \u001b[0;32mIn [9]\u001b[0m, in \u001b[0;36m<cell line: 1>\u001b[0;34m()\u001b[0m\n\u001b[0;32m----> 1\u001b[0m full_data \u001b[38;5;241m=\u001b[39m \u001b[43mold_full_data\u001b[49m\u001b[38;5;241m.\u001b[39mappend(result, ignore_index\u001b[38;5;241m=\u001b[39m\u001b[38;5;28;01mTrue\u001b[39;00m)\n",
      "\u001b[0;31mNameError\u001b[0m: name 'old_full_data' is not defined"
     ]
    }
   ],
   "source": [
    "full_data = old_full_data.append(result, ignore_index=True)"
   ]
  },
  {
   "cell_type": "code",
   "execution_count": null,
   "id": "3baa0e89",
   "metadata": {},
   "outputs": [],
   "source": [
    "# old_full_data[::6].to_csv('data/full_data_6.csv', index=False, header=True)"
   ]
  },
  {
   "cell_type": "code",
   "execution_count": null,
   "id": "wIFLXFdGLFUd",
   "metadata": {
    "id": "wIFLXFdGLFUd"
   },
   "outputs": [],
   "source": [
    "# full_data.to_csv('data/full_data2.txt', index=False)"
   ]
  },
  {
   "cell_type": "code",
   "execution_count": null,
   "id": "S__m0KwUlIY8",
   "metadata": {
    "id": "S__m0KwUlIY8"
   },
   "outputs": [],
   "source": [
    "# full_data.to_csv('data/full_data.txt', index=False, header=False)"
   ]
  },
  {
   "cell_type": "code",
   "execution_count": null,
   "id": "cHNA-l0IX7cg",
   "metadata": {
    "id": "cHNA-l0IX7cg"
   },
   "outputs": [],
   "source": [
    "# full_data.to_csv('data/full_data_100Hz.csv', index=False, header=False)"
   ]
  },
  {
   "cell_type": "code",
   "execution_count": null,
   "id": "5k56Rdniafyc",
   "metadata": {
    "id": "5k56Rdniafyc"
   },
   "outputs": [],
   "source": [
    "# result_df= full_data.loc[full_data['speed']==\"fast\"][1:].reset_index(drop=True)"
   ]
  },
  {
   "cell_type": "code",
   "execution_count": null,
   "id": "580f6a21",
   "metadata": {},
   "outputs": [],
   "source": [
    "# result_df"
   ]
  },
  {
   "cell_type": "code",
   "execution_count": null,
   "id": "79a6ae39",
   "metadata": {},
   "outputs": [],
   "source": [
    "full_data"
   ]
  },
  {
   "cell_type": "code",
   "execution_count": null,
   "id": "1ad9f9da",
   "metadata": {},
   "outputs": [],
   "source": [
    "full_data[::10].to_csv('data/full_data_10Hz_with_Header.csv', index=False, header=True)"
   ]
  },
  {
   "cell_type": "code",
   "execution_count": null,
   "id": "018ea2fa",
   "metadata": {},
   "outputs": [],
   "source": [
    "full_data[::10].to_csv('data/full_data_10Hz.csv', index=False, header=False)"
   ]
  },
  {
   "cell_type": "code",
   "execution_count": null,
   "id": "0cb91047",
   "metadata": {},
   "outputs": [],
   "source": []
  }
 ],
 "metadata": {
  "accelerator": "GPU",
  "colab": {
   "collapsed_sections": [],
   "provenance": []
  },
  "gpuClass": "standard",
  "kernelspec": {
   "display_name": "Python 3 (ipykernel)",
   "language": "python",
   "name": "python3"
  },
  "language_info": {
   "codemirror_mode": {
    "name": "ipython",
    "version": 3
   },
   "file_extension": ".py",
   "mimetype": "text/x-python",
   "name": "python",
   "nbconvert_exporter": "python",
   "pygments_lexer": "ipython3",
   "version": "3.9.12"
  }
 },
 "nbformat": 4,
 "nbformat_minor": 5
}
