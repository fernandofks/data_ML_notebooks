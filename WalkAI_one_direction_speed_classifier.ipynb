{
 "cells": [
  {
   "cell_type": "code",
   "execution_count": 5,
   "id": "b41f0b0f-cc96-43a2-ab7f-f3264587e7d2",
   "metadata": {
    "id": "b41f0b0f-cc96-43a2-ab7f-f3264587e7d2"
   },
   "outputs": [],
   "source": [
    "from pathlib import Path\n",
    "import matplotlib.pyplot as plt\n",
    "import numpy as np\n",
    "import pandas as pd\n",
    "import tensorflow as tf\n",
    "import tensorflow.keras as keras\n",
    "from tensorflow.python.keras.layers import Dense\n",
    "from numpy.random import default_rng\n",
    "from sklearn.model_selection import train_test_split"
   ]
  },
  {
   "cell_type": "code",
   "execution_count": 6,
   "id": "NKCFZxY--SlA",
   "metadata": {
    "id": "NKCFZxY--SlA"
   },
   "outputs": [],
   "source": [
    "# data = pd.read_csv('data/walk_data_14_Fernando.txt', sep=\",\", header=None, names=[\"e_t_x\",\"e_t_y\",\"e_t_z\",\"e_r_x\",\"e_r_y\",\"e_r_z\",\"e_r_w\",\"d_t_x\",\"d_t_y\",\"d_t_z\",\"d_r_x\",\"d_r_y\",\"d_r_z\",\"d_r_w\", \"c_t_x\",\"c_t_y\",\"c_t_z\",\"c_r_x\",\"c_r_y\",\"c_r_z\", \"c_r_w\"])\n",
    "# data_fernando = pd.read_csv('data/walk_data_1_Fernando.txt', sep=\",\", header=None, names=[\"e_t_x\",\"e_t_y\",\"e_t_z\",\"e_r_x\",\"e_r_y\",\"e_r_z\",\"d_t_x\",\"d_t_y\",\"d_t_z\",\"d_r_x\",\"d_r_y\",\"d_r_z\",\"c_t_x\",\"c_t_y\",\"c_t_z\",\"c_r_x\",\"c_r_y\",\"c_r_z\"])\n",
    "data = pd.read_csv('data/full_data.txt', sep=\",\", header=None, names=[\"e_t_x\",\"e_t_y\",\"e_t_z\",\"e_r_x\",\"e_r_y\",\"e_r_z\",\"e_r_w\",\"d_t_x\",\"d_t_y\",\"d_t_z\",\"d_r_x\",\"d_r_y\",\"d_r_z\",\"d_r_w\", \"c_t_x\",\"c_t_y\",\"c_t_z\",\"c_r_x\",\"c_r_y\",\"c_r_z\", \"c_r_w\", \"speed\"])"
   ]
  },
  {
   "cell_type": "code",
   "execution_count": 7,
   "id": "CEcxIBOK_lHV",
   "metadata": {
    "colab": {
     "base_uri": "https://localhost:8080/",
     "height": 488
    },
    "id": "CEcxIBOK_lHV",
    "outputId": "1e0ab457-f819-4840-c77e-779ac3ef75ea"
   },
   "outputs": [
    {
     "data": {
      "text/html": [
       "<div>\n",
       "<style scoped>\n",
       "    .dataframe tbody tr th:only-of-type {\n",
       "        vertical-align: middle;\n",
       "    }\n",
       "\n",
       "    .dataframe tbody tr th {\n",
       "        vertical-align: top;\n",
       "    }\n",
       "\n",
       "    .dataframe thead th {\n",
       "        text-align: right;\n",
       "    }\n",
       "</style>\n",
       "<table border=\"1\" class=\"dataframe\">\n",
       "  <thead>\n",
       "    <tr style=\"text-align: right;\">\n",
       "      <th></th>\n",
       "      <th>e_t_x</th>\n",
       "      <th>e_t_y</th>\n",
       "      <th>e_t_z</th>\n",
       "      <th>e_r_x</th>\n",
       "      <th>e_r_y</th>\n",
       "      <th>e_r_z</th>\n",
       "      <th>e_r_w</th>\n",
       "      <th>d_t_x</th>\n",
       "      <th>d_t_y</th>\n",
       "      <th>d_t_z</th>\n",
       "      <th>...</th>\n",
       "      <th>d_r_z</th>\n",
       "      <th>d_r_w</th>\n",
       "      <th>c_t_x</th>\n",
       "      <th>c_t_y</th>\n",
       "      <th>c_t_z</th>\n",
       "      <th>c_r_x</th>\n",
       "      <th>c_r_y</th>\n",
       "      <th>c_r_z</th>\n",
       "      <th>c_r_w</th>\n",
       "      <th>speed</th>\n",
       "    </tr>\n",
       "  </thead>\n",
       "  <tbody>\n",
       "    <tr>\n",
       "      <th>0</th>\n",
       "      <td>0.000</td>\n",
       "      <td>0.000</td>\n",
       "      <td>0.000</td>\n",
       "      <td>0.000</td>\n",
       "      <td>0.000</td>\n",
       "      <td>0.000</td>\n",
       "      <td>0.000</td>\n",
       "      <td>0.000</td>\n",
       "      <td>0.0</td>\n",
       "      <td>0.000</td>\n",
       "      <td>...</td>\n",
       "      <td>0.000</td>\n",
       "      <td>0.000</td>\n",
       "      <td>0.000</td>\n",
       "      <td>0.000</td>\n",
       "      <td>0.000</td>\n",
       "      <td>0.000</td>\n",
       "      <td>0.000</td>\n",
       "      <td>0.000</td>\n",
       "      <td>0.000</td>\n",
       "      <td>stopped</td>\n",
       "    </tr>\n",
       "    <tr>\n",
       "      <th>1</th>\n",
       "      <td>0.000</td>\n",
       "      <td>-0.001</td>\n",
       "      <td>0.000</td>\n",
       "      <td>0.000</td>\n",
       "      <td>0.001</td>\n",
       "      <td>0.000</td>\n",
       "      <td>0.000</td>\n",
       "      <td>0.001</td>\n",
       "      <td>0.0</td>\n",
       "      <td>0.000</td>\n",
       "      <td>...</td>\n",
       "      <td>0.000</td>\n",
       "      <td>0.000</td>\n",
       "      <td>0.000</td>\n",
       "      <td>-0.001</td>\n",
       "      <td>0.000</td>\n",
       "      <td>0.004</td>\n",
       "      <td>0.000</td>\n",
       "      <td>0.000</td>\n",
       "      <td>-0.001</td>\n",
       "      <td>stopped</td>\n",
       "    </tr>\n",
       "    <tr>\n",
       "      <th>2</th>\n",
       "      <td>0.000</td>\n",
       "      <td>0.000</td>\n",
       "      <td>0.000</td>\n",
       "      <td>0.000</td>\n",
       "      <td>0.000</td>\n",
       "      <td>0.000</td>\n",
       "      <td>0.000</td>\n",
       "      <td>0.000</td>\n",
       "      <td>0.0</td>\n",
       "      <td>0.000</td>\n",
       "      <td>...</td>\n",
       "      <td>0.000</td>\n",
       "      <td>0.000</td>\n",
       "      <td>0.000</td>\n",
       "      <td>0.000</td>\n",
       "      <td>0.000</td>\n",
       "      <td>0.000</td>\n",
       "      <td>0.000</td>\n",
       "      <td>0.000</td>\n",
       "      <td>0.000</td>\n",
       "      <td>stopped</td>\n",
       "    </tr>\n",
       "    <tr>\n",
       "      <th>3</th>\n",
       "      <td>0.000</td>\n",
       "      <td>0.001</td>\n",
       "      <td>0.000</td>\n",
       "      <td>0.000</td>\n",
       "      <td>0.000</td>\n",
       "      <td>0.000</td>\n",
       "      <td>0.001</td>\n",
       "      <td>0.000</td>\n",
       "      <td>0.0</td>\n",
       "      <td>0.000</td>\n",
       "      <td>...</td>\n",
       "      <td>0.000</td>\n",
       "      <td>0.000</td>\n",
       "      <td>0.000</td>\n",
       "      <td>-0.001</td>\n",
       "      <td>0.000</td>\n",
       "      <td>0.003</td>\n",
       "      <td>0.001</td>\n",
       "      <td>0.000</td>\n",
       "      <td>0.000</td>\n",
       "      <td>stopped</td>\n",
       "    </tr>\n",
       "    <tr>\n",
       "      <th>4</th>\n",
       "      <td>0.000</td>\n",
       "      <td>0.000</td>\n",
       "      <td>0.000</td>\n",
       "      <td>0.000</td>\n",
       "      <td>0.000</td>\n",
       "      <td>0.000</td>\n",
       "      <td>0.000</td>\n",
       "      <td>0.000</td>\n",
       "      <td>0.0</td>\n",
       "      <td>0.000</td>\n",
       "      <td>...</td>\n",
       "      <td>0.000</td>\n",
       "      <td>0.000</td>\n",
       "      <td>0.000</td>\n",
       "      <td>0.000</td>\n",
       "      <td>0.000</td>\n",
       "      <td>0.000</td>\n",
       "      <td>0.000</td>\n",
       "      <td>0.000</td>\n",
       "      <td>0.000</td>\n",
       "      <td>stopped</td>\n",
       "    </tr>\n",
       "    <tr>\n",
       "      <th>...</th>\n",
       "      <td>...</td>\n",
       "      <td>...</td>\n",
       "      <td>...</td>\n",
       "      <td>...</td>\n",
       "      <td>...</td>\n",
       "      <td>...</td>\n",
       "      <td>...</td>\n",
       "      <td>...</td>\n",
       "      <td>...</td>\n",
       "      <td>...</td>\n",
       "      <td>...</td>\n",
       "      <td>...</td>\n",
       "      <td>...</td>\n",
       "      <td>...</td>\n",
       "      <td>...</td>\n",
       "      <td>...</td>\n",
       "      <td>...</td>\n",
       "      <td>...</td>\n",
       "      <td>...</td>\n",
       "      <td>...</td>\n",
       "      <td>...</td>\n",
       "    </tr>\n",
       "    <tr>\n",
       "      <th>419960</th>\n",
       "      <td>0.000</td>\n",
       "      <td>-0.002</td>\n",
       "      <td>-0.013</td>\n",
       "      <td>0.001</td>\n",
       "      <td>0.002</td>\n",
       "      <td>-0.002</td>\n",
       "      <td>-0.001</td>\n",
       "      <td>0.000</td>\n",
       "      <td>0.0</td>\n",
       "      <td>0.000</td>\n",
       "      <td>...</td>\n",
       "      <td>0.000</td>\n",
       "      <td>0.000</td>\n",
       "      <td>-0.003</td>\n",
       "      <td>0.000</td>\n",
       "      <td>0.000</td>\n",
       "      <td>-0.001</td>\n",
       "      <td>-0.001</td>\n",
       "      <td>0.002</td>\n",
       "      <td>0.000</td>\n",
       "      <td>fast</td>\n",
       "    </tr>\n",
       "    <tr>\n",
       "      <th>419961</th>\n",
       "      <td>0.001</td>\n",
       "      <td>-0.001</td>\n",
       "      <td>-0.014</td>\n",
       "      <td>0.001</td>\n",
       "      <td>0.001</td>\n",
       "      <td>-0.001</td>\n",
       "      <td>-0.001</td>\n",
       "      <td>0.000</td>\n",
       "      <td>0.0</td>\n",
       "      <td>0.000</td>\n",
       "      <td>...</td>\n",
       "      <td>-0.001</td>\n",
       "      <td>0.000</td>\n",
       "      <td>-0.004</td>\n",
       "      <td>0.001</td>\n",
       "      <td>0.000</td>\n",
       "      <td>-0.001</td>\n",
       "      <td>-0.001</td>\n",
       "      <td>0.002</td>\n",
       "      <td>0.000</td>\n",
       "      <td>fast</td>\n",
       "    </tr>\n",
       "    <tr>\n",
       "      <th>419962</th>\n",
       "      <td>0.003</td>\n",
       "      <td>-0.001</td>\n",
       "      <td>-0.012</td>\n",
       "      <td>-0.013</td>\n",
       "      <td>0.006</td>\n",
       "      <td>-0.008</td>\n",
       "      <td>-0.013</td>\n",
       "      <td>0.000</td>\n",
       "      <td>0.0</td>\n",
       "      <td>0.001</td>\n",
       "      <td>...</td>\n",
       "      <td>0.000</td>\n",
       "      <td>0.000</td>\n",
       "      <td>-0.004</td>\n",
       "      <td>0.000</td>\n",
       "      <td>0.000</td>\n",
       "      <td>-0.001</td>\n",
       "      <td>0.000</td>\n",
       "      <td>0.003</td>\n",
       "      <td>0.000</td>\n",
       "      <td>fast</td>\n",
       "    </tr>\n",
       "    <tr>\n",
       "      <th>419963</th>\n",
       "      <td>0.002</td>\n",
       "      <td>-0.002</td>\n",
       "      <td>-0.012</td>\n",
       "      <td>-0.004</td>\n",
       "      <td>0.006</td>\n",
       "      <td>-0.005</td>\n",
       "      <td>-0.002</td>\n",
       "      <td>0.000</td>\n",
       "      <td>0.0</td>\n",
       "      <td>0.000</td>\n",
       "      <td>...</td>\n",
       "      <td>-0.001</td>\n",
       "      <td>0.001</td>\n",
       "      <td>-0.004</td>\n",
       "      <td>0.000</td>\n",
       "      <td>-0.001</td>\n",
       "      <td>-0.001</td>\n",
       "      <td>-0.001</td>\n",
       "      <td>0.002</td>\n",
       "      <td>0.000</td>\n",
       "      <td>fast</td>\n",
       "    </tr>\n",
       "    <tr>\n",
       "      <th>419964</th>\n",
       "      <td>0.002</td>\n",
       "      <td>-0.002</td>\n",
       "      <td>-0.014</td>\n",
       "      <td>0.004</td>\n",
       "      <td>-0.002</td>\n",
       "      <td>0.002</td>\n",
       "      <td>0.006</td>\n",
       "      <td>0.000</td>\n",
       "      <td>0.0</td>\n",
       "      <td>0.000</td>\n",
       "      <td>...</td>\n",
       "      <td>0.000</td>\n",
       "      <td>0.000</td>\n",
       "      <td>-0.004</td>\n",
       "      <td>0.001</td>\n",
       "      <td>0.000</td>\n",
       "      <td>-0.001</td>\n",
       "      <td>-0.001</td>\n",
       "      <td>0.002</td>\n",
       "      <td>0.000</td>\n",
       "      <td>fast</td>\n",
       "    </tr>\n",
       "  </tbody>\n",
       "</table>\n",
       "<p>419965 rows × 22 columns</p>\n",
       "</div>"
      ],
      "text/plain": [
       "        e_t_x  e_t_y  e_t_z  e_r_x  e_r_y  e_r_z  e_r_w  d_t_x  d_t_y  d_t_z  \\\n",
       "0       0.000  0.000  0.000  0.000  0.000  0.000  0.000  0.000    0.0  0.000   \n",
       "1       0.000 -0.001  0.000  0.000  0.001  0.000  0.000  0.001    0.0  0.000   \n",
       "2       0.000  0.000  0.000  0.000  0.000  0.000  0.000  0.000    0.0  0.000   \n",
       "3       0.000  0.001  0.000  0.000  0.000  0.000  0.001  0.000    0.0  0.000   \n",
       "4       0.000  0.000  0.000  0.000  0.000  0.000  0.000  0.000    0.0  0.000   \n",
       "...       ...    ...    ...    ...    ...    ...    ...    ...    ...    ...   \n",
       "419960  0.000 -0.002 -0.013  0.001  0.002 -0.002 -0.001  0.000    0.0  0.000   \n",
       "419961  0.001 -0.001 -0.014  0.001  0.001 -0.001 -0.001  0.000    0.0  0.000   \n",
       "419962  0.003 -0.001 -0.012 -0.013  0.006 -0.008 -0.013  0.000    0.0  0.001   \n",
       "419963  0.002 -0.002 -0.012 -0.004  0.006 -0.005 -0.002  0.000    0.0  0.000   \n",
       "419964  0.002 -0.002 -0.014  0.004 -0.002  0.002  0.006  0.000    0.0  0.000   \n",
       "\n",
       "        ...  d_r_z  d_r_w  c_t_x  c_t_y  c_t_z  c_r_x  c_r_y  c_r_z  c_r_w  \\\n",
       "0       ...  0.000  0.000  0.000  0.000  0.000  0.000  0.000  0.000  0.000   \n",
       "1       ...  0.000  0.000  0.000 -0.001  0.000  0.004  0.000  0.000 -0.001   \n",
       "2       ...  0.000  0.000  0.000  0.000  0.000  0.000  0.000  0.000  0.000   \n",
       "3       ...  0.000  0.000  0.000 -0.001  0.000  0.003  0.001  0.000  0.000   \n",
       "4       ...  0.000  0.000  0.000  0.000  0.000  0.000  0.000  0.000  0.000   \n",
       "...     ...    ...    ...    ...    ...    ...    ...    ...    ...    ...   \n",
       "419960  ...  0.000  0.000 -0.003  0.000  0.000 -0.001 -0.001  0.002  0.000   \n",
       "419961  ... -0.001  0.000 -0.004  0.001  0.000 -0.001 -0.001  0.002  0.000   \n",
       "419962  ...  0.000  0.000 -0.004  0.000  0.000 -0.001  0.000  0.003  0.000   \n",
       "419963  ... -0.001  0.001 -0.004  0.000 -0.001 -0.001 -0.001  0.002  0.000   \n",
       "419964  ...  0.000  0.000 -0.004  0.001  0.000 -0.001 -0.001  0.002  0.000   \n",
       "\n",
       "          speed  \n",
       "0       stopped  \n",
       "1       stopped  \n",
       "2       stopped  \n",
       "3       stopped  \n",
       "4       stopped  \n",
       "...         ...  \n",
       "419960     fast  \n",
       "419961     fast  \n",
       "419962     fast  \n",
       "419963     fast  \n",
       "419964     fast  \n",
       "\n",
       "[419965 rows x 22 columns]"
      ]
     },
     "execution_count": 7,
     "metadata": {},
     "output_type": "execute_result"
    }
   ],
   "source": [
    "data"
   ]
  },
  {
   "cell_type": "code",
   "execution_count": 8,
   "id": "mlY3B_YnEEtI",
   "metadata": {
    "id": "mlY3B_YnEEtI"
   },
   "outputs": [],
   "source": [
    "result_stop = data[data.speed==\"stopped\"][1:]\n",
    "\n",
    "result_stop.to_csv('data/vel_parada.txt', index=False)"
   ]
  },
  {
   "cell_type": "code",
   "execution_count": 9,
   "id": "NPMH8acmLE7H",
   "metadata": {
    "id": "NPMH8acmLE7H"
   },
   "outputs": [],
   "source": [
    "\n",
    "result_slow = data[data.speed==\"slow\"][1:]\n",
    "result_slow.to_csv('data/vel_media.txt', index=False)"
   ]
  },
  {
   "cell_type": "code",
   "execution_count": 10,
   "id": "wIFLXFdGLFUd",
   "metadata": {
    "colab": {
     "base_uri": "https://localhost:8080/",
     "height": 424
    },
    "id": "wIFLXFdGLFUd",
    "outputId": "9215b27b-4bbe-4ca5-de2e-f5ae1cca9773"
   },
   "outputs": [
    {
     "data": {
      "text/html": [
       "<div>\n",
       "<style scoped>\n",
       "    .dataframe tbody tr th:only-of-type {\n",
       "        vertical-align: middle;\n",
       "    }\n",
       "\n",
       "    .dataframe tbody tr th {\n",
       "        vertical-align: top;\n",
       "    }\n",
       "\n",
       "    .dataframe thead th {\n",
       "        text-align: right;\n",
       "    }\n",
       "</style>\n",
       "<table border=\"1\" class=\"dataframe\">\n",
       "  <thead>\n",
       "    <tr style=\"text-align: right;\">\n",
       "      <th></th>\n",
       "      <th>e_t_x</th>\n",
       "      <th>e_t_y</th>\n",
       "      <th>e_t_z</th>\n",
       "      <th>e_r_x</th>\n",
       "      <th>e_r_y</th>\n",
       "      <th>e_r_z</th>\n",
       "      <th>e_r_w</th>\n",
       "      <th>d_t_x</th>\n",
       "      <th>d_t_y</th>\n",
       "      <th>d_t_z</th>\n",
       "      <th>...</th>\n",
       "      <th>d_r_z</th>\n",
       "      <th>d_r_w</th>\n",
       "      <th>c_t_x</th>\n",
       "      <th>c_t_y</th>\n",
       "      <th>c_t_z</th>\n",
       "      <th>c_r_x</th>\n",
       "      <th>c_r_y</th>\n",
       "      <th>c_r_z</th>\n",
       "      <th>c_r_w</th>\n",
       "      <th>speed</th>\n",
       "    </tr>\n",
       "  </thead>\n",
       "  <tbody>\n",
       "    <tr>\n",
       "      <th>59996</th>\n",
       "      <td>0.000</td>\n",
       "      <td>0.000</td>\n",
       "      <td>0.000</td>\n",
       "      <td>0.000</td>\n",
       "      <td>0.000</td>\n",
       "      <td>0.000</td>\n",
       "      <td>0.000</td>\n",
       "      <td>0.000</td>\n",
       "      <td>0.000</td>\n",
       "      <td>0.000</td>\n",
       "      <td>...</td>\n",
       "      <td>0.000</td>\n",
       "      <td>0.000</td>\n",
       "      <td>0.000</td>\n",
       "      <td>0.000</td>\n",
       "      <td>0.000</td>\n",
       "      <td>0.000</td>\n",
       "      <td>0.000</td>\n",
       "      <td>0.000</td>\n",
       "      <td>0.000</td>\n",
       "      <td>fast</td>\n",
       "    </tr>\n",
       "    <tr>\n",
       "      <th>59997</th>\n",
       "      <td>0.000</td>\n",
       "      <td>0.000</td>\n",
       "      <td>0.000</td>\n",
       "      <td>-0.001</td>\n",
       "      <td>0.000</td>\n",
       "      <td>0.000</td>\n",
       "      <td>-0.001</td>\n",
       "      <td>-0.001</td>\n",
       "      <td>0.000</td>\n",
       "      <td>-0.013</td>\n",
       "      <td>...</td>\n",
       "      <td>-0.003</td>\n",
       "      <td>0.002</td>\n",
       "      <td>0.006</td>\n",
       "      <td>0.000</td>\n",
       "      <td>0.000</td>\n",
       "      <td>-0.001</td>\n",
       "      <td>0.002</td>\n",
       "      <td>-0.004</td>\n",
       "      <td>-0.001</td>\n",
       "      <td>fast</td>\n",
       "    </tr>\n",
       "    <tr>\n",
       "      <th>59998</th>\n",
       "      <td>0.000</td>\n",
       "      <td>0.000</td>\n",
       "      <td>0.000</td>\n",
       "      <td>0.000</td>\n",
       "      <td>0.000</td>\n",
       "      <td>0.000</td>\n",
       "      <td>0.000</td>\n",
       "      <td>0.000</td>\n",
       "      <td>0.000</td>\n",
       "      <td>0.000</td>\n",
       "      <td>...</td>\n",
       "      <td>0.000</td>\n",
       "      <td>0.000</td>\n",
       "      <td>0.000</td>\n",
       "      <td>0.000</td>\n",
       "      <td>0.000</td>\n",
       "      <td>0.000</td>\n",
       "      <td>0.000</td>\n",
       "      <td>0.000</td>\n",
       "      <td>0.000</td>\n",
       "      <td>fast</td>\n",
       "    </tr>\n",
       "    <tr>\n",
       "      <th>59999</th>\n",
       "      <td>0.000</td>\n",
       "      <td>0.000</td>\n",
       "      <td>0.000</td>\n",
       "      <td>0.000</td>\n",
       "      <td>0.000</td>\n",
       "      <td>0.000</td>\n",
       "      <td>0.000</td>\n",
       "      <td>-0.001</td>\n",
       "      <td>-0.001</td>\n",
       "      <td>-0.014</td>\n",
       "      <td>...</td>\n",
       "      <td>0.002</td>\n",
       "      <td>0.005</td>\n",
       "      <td>0.005</td>\n",
       "      <td>0.000</td>\n",
       "      <td>0.000</td>\n",
       "      <td>0.001</td>\n",
       "      <td>0.002</td>\n",
       "      <td>-0.004</td>\n",
       "      <td>0.000</td>\n",
       "      <td>fast</td>\n",
       "    </tr>\n",
       "    <tr>\n",
       "      <th>60000</th>\n",
       "      <td>0.000</td>\n",
       "      <td>0.000</td>\n",
       "      <td>0.000</td>\n",
       "      <td>0.000</td>\n",
       "      <td>0.000</td>\n",
       "      <td>0.000</td>\n",
       "      <td>0.000</td>\n",
       "      <td>0.000</td>\n",
       "      <td>0.000</td>\n",
       "      <td>0.000</td>\n",
       "      <td>...</td>\n",
       "      <td>0.000</td>\n",
       "      <td>0.000</td>\n",
       "      <td>0.000</td>\n",
       "      <td>0.000</td>\n",
       "      <td>0.000</td>\n",
       "      <td>0.000</td>\n",
       "      <td>0.000</td>\n",
       "      <td>0.000</td>\n",
       "      <td>0.000</td>\n",
       "      <td>fast</td>\n",
       "    </tr>\n",
       "    <tr>\n",
       "      <th>...</th>\n",
       "      <td>...</td>\n",
       "      <td>...</td>\n",
       "      <td>...</td>\n",
       "      <td>...</td>\n",
       "      <td>...</td>\n",
       "      <td>...</td>\n",
       "      <td>...</td>\n",
       "      <td>...</td>\n",
       "      <td>...</td>\n",
       "      <td>...</td>\n",
       "      <td>...</td>\n",
       "      <td>...</td>\n",
       "      <td>...</td>\n",
       "      <td>...</td>\n",
       "      <td>...</td>\n",
       "      <td>...</td>\n",
       "      <td>...</td>\n",
       "      <td>...</td>\n",
       "      <td>...</td>\n",
       "      <td>...</td>\n",
       "      <td>...</td>\n",
       "    </tr>\n",
       "    <tr>\n",
       "      <th>419960</th>\n",
       "      <td>0.000</td>\n",
       "      <td>-0.002</td>\n",
       "      <td>-0.013</td>\n",
       "      <td>0.001</td>\n",
       "      <td>0.002</td>\n",
       "      <td>-0.002</td>\n",
       "      <td>-0.001</td>\n",
       "      <td>0.000</td>\n",
       "      <td>0.000</td>\n",
       "      <td>0.000</td>\n",
       "      <td>...</td>\n",
       "      <td>0.000</td>\n",
       "      <td>0.000</td>\n",
       "      <td>-0.003</td>\n",
       "      <td>0.000</td>\n",
       "      <td>0.000</td>\n",
       "      <td>-0.001</td>\n",
       "      <td>-0.001</td>\n",
       "      <td>0.002</td>\n",
       "      <td>0.000</td>\n",
       "      <td>fast</td>\n",
       "    </tr>\n",
       "    <tr>\n",
       "      <th>419961</th>\n",
       "      <td>0.001</td>\n",
       "      <td>-0.001</td>\n",
       "      <td>-0.014</td>\n",
       "      <td>0.001</td>\n",
       "      <td>0.001</td>\n",
       "      <td>-0.001</td>\n",
       "      <td>-0.001</td>\n",
       "      <td>0.000</td>\n",
       "      <td>0.000</td>\n",
       "      <td>0.000</td>\n",
       "      <td>...</td>\n",
       "      <td>-0.001</td>\n",
       "      <td>0.000</td>\n",
       "      <td>-0.004</td>\n",
       "      <td>0.001</td>\n",
       "      <td>0.000</td>\n",
       "      <td>-0.001</td>\n",
       "      <td>-0.001</td>\n",
       "      <td>0.002</td>\n",
       "      <td>0.000</td>\n",
       "      <td>fast</td>\n",
       "    </tr>\n",
       "    <tr>\n",
       "      <th>419962</th>\n",
       "      <td>0.003</td>\n",
       "      <td>-0.001</td>\n",
       "      <td>-0.012</td>\n",
       "      <td>-0.013</td>\n",
       "      <td>0.006</td>\n",
       "      <td>-0.008</td>\n",
       "      <td>-0.013</td>\n",
       "      <td>0.000</td>\n",
       "      <td>0.000</td>\n",
       "      <td>0.001</td>\n",
       "      <td>...</td>\n",
       "      <td>0.000</td>\n",
       "      <td>0.000</td>\n",
       "      <td>-0.004</td>\n",
       "      <td>0.000</td>\n",
       "      <td>0.000</td>\n",
       "      <td>-0.001</td>\n",
       "      <td>0.000</td>\n",
       "      <td>0.003</td>\n",
       "      <td>0.000</td>\n",
       "      <td>fast</td>\n",
       "    </tr>\n",
       "    <tr>\n",
       "      <th>419963</th>\n",
       "      <td>0.002</td>\n",
       "      <td>-0.002</td>\n",
       "      <td>-0.012</td>\n",
       "      <td>-0.004</td>\n",
       "      <td>0.006</td>\n",
       "      <td>-0.005</td>\n",
       "      <td>-0.002</td>\n",
       "      <td>0.000</td>\n",
       "      <td>0.000</td>\n",
       "      <td>0.000</td>\n",
       "      <td>...</td>\n",
       "      <td>-0.001</td>\n",
       "      <td>0.001</td>\n",
       "      <td>-0.004</td>\n",
       "      <td>0.000</td>\n",
       "      <td>-0.001</td>\n",
       "      <td>-0.001</td>\n",
       "      <td>-0.001</td>\n",
       "      <td>0.002</td>\n",
       "      <td>0.000</td>\n",
       "      <td>fast</td>\n",
       "    </tr>\n",
       "    <tr>\n",
       "      <th>419964</th>\n",
       "      <td>0.002</td>\n",
       "      <td>-0.002</td>\n",
       "      <td>-0.014</td>\n",
       "      <td>0.004</td>\n",
       "      <td>-0.002</td>\n",
       "      <td>0.002</td>\n",
       "      <td>0.006</td>\n",
       "      <td>0.000</td>\n",
       "      <td>0.000</td>\n",
       "      <td>0.000</td>\n",
       "      <td>...</td>\n",
       "      <td>0.000</td>\n",
       "      <td>0.000</td>\n",
       "      <td>-0.004</td>\n",
       "      <td>0.001</td>\n",
       "      <td>0.000</td>\n",
       "      <td>-0.001</td>\n",
       "      <td>-0.001</td>\n",
       "      <td>0.002</td>\n",
       "      <td>0.000</td>\n",
       "      <td>fast</td>\n",
       "    </tr>\n",
       "  </tbody>\n",
       "</table>\n",
       "<p>119989 rows × 22 columns</p>\n",
       "</div>"
      ],
      "text/plain": [
       "        e_t_x  e_t_y  e_t_z  e_r_x  e_r_y  e_r_z  e_r_w  d_t_x  d_t_y  d_t_z  \\\n",
       "59996   0.000  0.000  0.000  0.000  0.000  0.000  0.000  0.000  0.000  0.000   \n",
       "59997   0.000  0.000  0.000 -0.001  0.000  0.000 -0.001 -0.001  0.000 -0.013   \n",
       "59998   0.000  0.000  0.000  0.000  0.000  0.000  0.000  0.000  0.000  0.000   \n",
       "59999   0.000  0.000  0.000  0.000  0.000  0.000  0.000 -0.001 -0.001 -0.014   \n",
       "60000   0.000  0.000  0.000  0.000  0.000  0.000  0.000  0.000  0.000  0.000   \n",
       "...       ...    ...    ...    ...    ...    ...    ...    ...    ...    ...   \n",
       "419960  0.000 -0.002 -0.013  0.001  0.002 -0.002 -0.001  0.000  0.000  0.000   \n",
       "419961  0.001 -0.001 -0.014  0.001  0.001 -0.001 -0.001  0.000  0.000  0.000   \n",
       "419962  0.003 -0.001 -0.012 -0.013  0.006 -0.008 -0.013  0.000  0.000  0.001   \n",
       "419963  0.002 -0.002 -0.012 -0.004  0.006 -0.005 -0.002  0.000  0.000  0.000   \n",
       "419964  0.002 -0.002 -0.014  0.004 -0.002  0.002  0.006  0.000  0.000  0.000   \n",
       "\n",
       "        ...  d_r_z  d_r_w  c_t_x  c_t_y  c_t_z  c_r_x  c_r_y  c_r_z  c_r_w  \\\n",
       "59996   ...  0.000  0.000  0.000  0.000  0.000  0.000  0.000  0.000  0.000   \n",
       "59997   ... -0.003  0.002  0.006  0.000  0.000 -0.001  0.002 -0.004 -0.001   \n",
       "59998   ...  0.000  0.000  0.000  0.000  0.000  0.000  0.000  0.000  0.000   \n",
       "59999   ...  0.002  0.005  0.005  0.000  0.000  0.001  0.002 -0.004  0.000   \n",
       "60000   ...  0.000  0.000  0.000  0.000  0.000  0.000  0.000  0.000  0.000   \n",
       "...     ...    ...    ...    ...    ...    ...    ...    ...    ...    ...   \n",
       "419960  ...  0.000  0.000 -0.003  0.000  0.000 -0.001 -0.001  0.002  0.000   \n",
       "419961  ... -0.001  0.000 -0.004  0.001  0.000 -0.001 -0.001  0.002  0.000   \n",
       "419962  ...  0.000  0.000 -0.004  0.000  0.000 -0.001  0.000  0.003  0.000   \n",
       "419963  ... -0.001  0.001 -0.004  0.000 -0.001 -0.001 -0.001  0.002  0.000   \n",
       "419964  ...  0.000  0.000 -0.004  0.001  0.000 -0.001 -0.001  0.002  0.000   \n",
       "\n",
       "        speed  \n",
       "59996    fast  \n",
       "59997    fast  \n",
       "59998    fast  \n",
       "59999    fast  \n",
       "60000    fast  \n",
       "...       ...  \n",
       "419960   fast  \n",
       "419961   fast  \n",
       "419962   fast  \n",
       "419963   fast  \n",
       "419964   fast  \n",
       "\n",
       "[119989 rows x 22 columns]"
      ]
     },
     "execution_count": 10,
     "metadata": {},
     "output_type": "execute_result"
    }
   ],
   "source": [
    "result_fast = data[data.speed==\"fast\"][1:]\n",
    "result_fast.to_csv('data/vel_rapida.txt', index=False)\n",
    "result_fast"
   ]
  },
  {
   "cell_type": "code",
   "execution_count": 11,
   "id": "c9e9560b-749a-49a8-aedf-44a1ac9b4bb1",
   "metadata": {
    "id": "c9e9560b-749a-49a8-aedf-44a1ac9b4bb1"
   },
   "outputs": [],
   "source": [
    "# Loading pipeline params.\n",
    "DATA_PATH = Path('data')\n",
    "FILENAME_FAST = 'vel_rapida.txt'\n",
    "FILENAME_SLOW = 'vel_media.txt'\n",
    "FILENAME_STOP = 'vel_parada.txt'\n",
    "NUM_TIMESTEPS = 33\n",
    "IGNORE_FRACTION = 0.1\n",
    "TEST_FRACTION = 0.25\n",
    "\n",
    "# Training params.\n",
    "LEARNING_RATE = 1e-4\n",
    "EPOCHS = 25\n",
    "BATCH_SIZE = 1024"
   ]
  },
  {
   "cell_type": "code",
   "execution_count": 12,
   "id": "7f52716d-1339-4484-9fd3-d5206979ba8e",
   "metadata": {
    "id": "7f52716d-1339-4484-9fd3-d5206979ba8e"
   },
   "outputs": [],
   "source": [
    "def load_data(\n",
    "    path_stop,\n",
    "    path_fast,\n",
    "    path_slow,\n",
    "    num_timesteps,\n",
    "    ignore_fraction,\n",
    "    test_fraction,\n",
    "):\n",
    "\n",
    "    def read_and_prepare_data(\n",
    "        path,\n",
    "        class_,\n",
    "        num_timesteps,\n",
    "        ignore_fraction,\n",
    "        test_fraction,\n",
    "    ):\n",
    "\n",
    "        def split_temporally(X, test_fraction):\n",
    "            num_samples = X.shape[0]\n",
    "            num_train = int(num_samples * (1.0 - test_fraction))\n",
    "            X_train, X_test = X[:num_train], X[num_train:]\n",
    "            return X_train, X_test\n",
    "\n",
    "        def transform_into_sequences(X, num_timesteps):\n",
    "            num_samples = X.shape[0]\n",
    "            X_seq = []\n",
    "            for k in range(num_samples - num_timesteps + 1):\n",
    "                X_seq.append(X[k:(k + num_timesteps)])\n",
    "            X_seq = np.array(X_seq)\n",
    "            y_seq = class_ * np.ones((X_seq.shape[0], 1))\n",
    "            return X_seq, y_seq\n",
    "\n",
    "        X = pd.read_csv(path).values\n",
    "        X = X[:, [0,1,2,7,8,9]]  # Use only feet translations.\n",
    "\n",
    "        # Ignore beginning and end.\n",
    "        num_samples = X.shape[0]\n",
    "        num_ignore = int(ignore_fraction * num_samples)\n",
    "        X = X[num_ignore:-num_ignore]\n",
    "\n",
    "        # Split X temporally.\n",
    "        X_train, X_test = split_temporally(X, test_fraction)\n",
    "\n",
    "        # Transform X into short sequences.\n",
    "        X_train, y_train = transform_into_sequences(X_train, num_timesteps)\n",
    "        X_test, y_test = transform_into_sequences(X_test, num_timesteps)\n",
    "\n",
    "        return X_train, y_train, X_test, y_test\n",
    "\n",
    "    def shuffle_data(X, y):\n",
    "        idx = np.arange(len(X))\n",
    "        default_rng().shuffle(idx)\n",
    "        X_shuffled = X[idx, :]\n",
    "        y_shuffled = y[idx]\n",
    "        return X_shuffled, y_shuffled\n",
    "\n",
    "    X_train_fast, y_train_fast, X_test_fast, y_test_fast = \\\n",
    "        read_and_prepare_data(\n",
    "            path_fast,\n",
    "            2.0,\n",
    "            num_timesteps,\n",
    "            ignore_fraction,\n",
    "            test_fraction,\n",
    "        )\n",
    "\n",
    "    X_train_stop, y_train_stop, X_test_stop, y_test_stop = \\\n",
    "        read_and_prepare_data(\n",
    "            path_stop,\n",
    "            0.0,\n",
    "            num_timesteps,\n",
    "            ignore_fraction,\n",
    "            test_fraction,\n",
    "        )\n",
    "    X_train_slow, y_train_slow, X_test_slow, y_test_slow = \\\n",
    "        read_and_prepare_data(\n",
    "            path_slow,\n",
    "            1.0,\n",
    "            num_timesteps,\n",
    "            ignore_fraction,\n",
    "            test_fraction,\n",
    "        )\n",
    "\n",
    "    X_train = np.concatenate((X_train_fast, X_train_slow, X_train_stop), axis=0)\n",
    "    y_train = np.concatenate((y_train_fast, y_train_slow, y_train_stop), axis=0)\n",
    "    X_test = np.concatenate((X_test_fast, X_test_slow, X_test_stop), axis=0)\n",
    "    y_test = np.concatenate((y_test_fast, y_test_slow, y_test_stop), axis=0)\n",
    "\n",
    "    X_train, y_train = shuffle_data(X_train, y_train)\n",
    "    X_test, y_test = shuffle_data(X_test, y_test)\n",
    "\n",
    "    return X_train, X_test, y_train, y_test\n",
    "\n",
    "\n",
    "path_fast = Path(DATA_PATH, FILENAME_FAST)\n",
    "path_slow = Path(DATA_PATH, FILENAME_SLOW)\n",
    "path_stop = Path(DATA_PATH, FILENAME_STOP)\n",
    "X_train, X_test, y_train, y_test = load_data(\n",
    "    path_stop,\n",
    "    path_fast,\n",
    "    path_slow,\n",
    "    NUM_TIMESTEPS,\n",
    "    IGNORE_FRACTION,\n",
    "    TEST_FRACTION,\n",
    ")"
   ]
  },
  {
   "cell_type": "code",
   "execution_count": 13,
   "id": "99c35712-1089-44f3-89ef-ed471b144c96",
   "metadata": {
    "colab": {
     "base_uri": "https://localhost:8080/"
    },
    "id": "99c35712-1089-44f3-89ef-ed471b144c96",
    "outputId": "9076061a-8661-4d2e-c1ed-887a92ec640b"
   },
   "outputs": [
    {
     "data": {
      "text/plain": [
       "((251883, 33, 6), (251883, 1), (83899, 33, 6), (83899, 1))"
      ]
     },
     "execution_count": 13,
     "metadata": {},
     "output_type": "execute_result"
    }
   ],
   "source": [
    "X_train.shape, y_train.shape, X_test.shape, y_test.shape"
   ]
  },
  {
   "cell_type": "code",
   "execution_count": 14,
   "id": "3a85634b-4e9c-45b8-b456-cb970457302f",
   "metadata": {
    "id": "3a85634b-4e9c-45b8-b456-cb970457302f"
   },
   "outputs": [
    {
     "name": "stderr",
     "output_type": "stream",
     "text": [
      "2022-11-08 09:46:25.910931: I tensorflow/core/platform/cpu_feature_guard.cc:193] This TensorFlow binary is optimized with oneAPI Deep Neural Network Library (oneDNN) to use the following CPU instructions in performance-critical operations:  AVX2 FMA\n",
      "To enable them in other operations, rebuild TensorFlow with the appropriate compiler flags.\n"
     ]
    }
   ],
   "source": [
    "from functools import partial\n",
    "\n",
    "_, num_time, num_feat = X_train.shape\n",
    "\n",
    "activation = 'selu'\n",
    "\n",
    "DefaultConv1D = partial(\n",
    "    keras.layers.Conv1D,\n",
    "    kernel_size=1,\n",
    "    activation=activation,\n",
    "    padding=\"valid\",\n",
    ")\n",
    "\n",
    "model = keras.models.Sequential([\n",
    "    DefaultConv1D(4 * num_feat, kernel_size=13, input_shape=[num_time, num_feat]),\n",
    "    keras.layers.BatchNormalization(),\n",
    "    DefaultConv1D(num_feat, kernel_size=5),\n",
    "    keras.layers.Flatten(),\n",
    "    keras.layers.BatchNormalization(),\n",
    "    keras.layers.Dense(num_time * num_feat, activation=activation),\n",
    "    keras.layers.BatchNormalization(),\n",
    "    keras.layers.Dense(num_feat, activation=activation),\n",
    "    keras.layers.BatchNormalization(),\n",
    "    keras.layers.Dense(3, activation='softmax'),\n",
    "])"
   ]
  },
  {
   "cell_type": "code",
   "execution_count": 15,
   "id": "j0C2RSxICKzq",
   "metadata": {
    "colab": {
     "base_uri": "https://localhost:8080/"
    },
    "id": "j0C2RSxICKzq",
    "outputId": "af853522-fdf6-40e4-8d0e-cd2a6dcdab9b"
   },
   "outputs": [
    {
     "name": "stderr",
     "output_type": "stream",
     "text": [
      "/var/folders/0t/r6pd3gzs67n8rkyyt6l75dy80000gn/T/ipykernel_757/1231226972.py:1: DeprecationWarning: `np.float` is a deprecated alias for the builtin `float`. To silence this warning, use `float` by itself. Doing this will not modify any behavior and is safe. If you specifically wanted the numpy scalar type, use `np.float64` here.\n",
      "Deprecated in NumPy 1.20; for more details and guidance: https://numpy.org/devdocs/release/1.20.0-notes.html#deprecations\n",
      "  X_train=np.array(X_train, dtype=np.float)\n",
      "/var/folders/0t/r6pd3gzs67n8rkyyt6l75dy80000gn/T/ipykernel_757/1231226972.py:2: DeprecationWarning: `np.float` is a deprecated alias for the builtin `float`. To silence this warning, use `float` by itself. Doing this will not modify any behavior and is safe. If you specifically wanted the numpy scalar type, use `np.float64` here.\n",
      "Deprecated in NumPy 1.20; for more details and guidance: https://numpy.org/devdocs/release/1.20.0-notes.html#deprecations\n",
      "  y_train=np.array(y_train, dtype=np.float)\n",
      "/var/folders/0t/r6pd3gzs67n8rkyyt6l75dy80000gn/T/ipykernel_757/1231226972.py:3: DeprecationWarning: `np.float` is a deprecated alias for the builtin `float`. To silence this warning, use `float` by itself. Doing this will not modify any behavior and is safe. If you specifically wanted the numpy scalar type, use `np.float64` here.\n",
      "Deprecated in NumPy 1.20; for more details and guidance: https://numpy.org/devdocs/release/1.20.0-notes.html#deprecations\n",
      "  X_test=np.array(X_test, dtype=np.float)\n",
      "/var/folders/0t/r6pd3gzs67n8rkyyt6l75dy80000gn/T/ipykernel_757/1231226972.py:4: DeprecationWarning: `np.float` is a deprecated alias for the builtin `float`. To silence this warning, use `float` by itself. Doing this will not modify any behavior and is safe. If you specifically wanted the numpy scalar type, use `np.float64` here.\n",
      "Deprecated in NumPy 1.20; for more details and guidance: https://numpy.org/devdocs/release/1.20.0-notes.html#deprecations\n",
      "  y_test=np.array(y_test, dtype=np.float)\n"
     ]
    }
   ],
   "source": [
    "X_train=np.array(X_train, dtype=np.float)\n",
    "y_train=np.array(y_train, dtype=np.float)\n",
    "X_test=np.array(X_test, dtype=np.float)\n",
    "y_test=np.array(y_test, dtype=np.float)"
   ]
  },
  {
   "cell_type": "code",
   "execution_count": 16,
   "id": "7baf8970-5318-4461-b828-d34c232afa5f",
   "metadata": {
    "colab": {
     "base_uri": "https://localhost:8080/"
    },
    "id": "7baf8970-5318-4461-b828-d34c232afa5f",
    "outputId": "08a66cc8-aeee-42ba-f039-9dfa2ba6f99e"
   },
   "outputs": [
    {
     "name": "stdout",
     "output_type": "stream",
     "text": [
      "Model: \"sequential\"\n",
      "_________________________________________________________________\n",
      " Layer (type)                Output Shape              Param #   \n",
      "=================================================================\n",
      " conv1d (Conv1D)             (None, 21, 24)            1896      \n",
      "                                                                 \n",
      " batch_normalization (BatchN  (None, 21, 24)           96        \n",
      " ormalization)                                                   \n",
      "                                                                 \n",
      " conv1d_1 (Conv1D)           (None, 17, 6)             726       \n",
      "                                                                 \n",
      " flatten (Flatten)           (None, 102)               0         \n",
      "                                                                 \n",
      " batch_normalization_1 (Batc  (None, 102)              408       \n",
      " hNormalization)                                                 \n",
      "                                                                 \n",
      " dense (Dense)               (None, 198)               20394     \n",
      "                                                                 \n",
      " batch_normalization_2 (Batc  (None, 198)              792       \n",
      " hNormalization)                                                 \n",
      "                                                                 \n",
      " dense_1 (Dense)             (None, 6)                 1194      \n",
      "                                                                 \n",
      " batch_normalization_3 (Batc  (None, 6)                24        \n",
      " hNormalization)                                                 \n",
      "                                                                 \n",
      " dense_2 (Dense)             (None, 3)                 21        \n",
      "                                                                 \n",
      "=================================================================\n",
      "Total params: 25,551\n",
      "Trainable params: 24,891\n",
      "Non-trainable params: 660\n",
      "_________________________________________________________________\n"
     ]
    }
   ],
   "source": [
    "model.summary()"
   ]
  },
  {
   "cell_type": "code",
   "execution_count": 29,
   "id": "70de8d27-4ff5-4dce-b45f-675dcc74513e",
   "metadata": {
    "colab": {
     "base_uri": "https://localhost:8080/"
    },
    "id": "70de8d27-4ff5-4dce-b45f-675dcc74513e",
    "outputId": "7211ef5c-5b4a-4afb-ad4f-7341eeb8f0f8"
   },
   "outputs": [
    {
     "name": "stdout",
     "output_type": "stream",
     "text": [
      "Epoch 1/25\n",
      "246/246 [==============================] - 13s 45ms/step - loss: 0.2569 - accuracy: 0.9027 - val_loss: 0.6872 - val_accuracy: 0.7316\n",
      "Epoch 2/25\n",
      "246/246 [==============================] - 10s 40ms/step - loss: 0.2545 - accuracy: 0.9039 - val_loss: 1.2754 - val_accuracy: 0.5864\n",
      "Epoch 3/25\n",
      "246/246 [==============================] - 9s 38ms/step - loss: 0.2531 - accuracy: 0.9043 - val_loss: 0.6841 - val_accuracy: 0.7129\n",
      "Epoch 4/25\n",
      "246/246 [==============================] - 10s 39ms/step - loss: 0.2499 - accuracy: 0.9057 - val_loss: 1.1569 - val_accuracy: 0.3598\n",
      "Epoch 5/25\n",
      "246/246 [==============================] - 12s 47ms/step - loss: 0.2487 - accuracy: 0.9063 - val_loss: 1.1895 - val_accuracy: 0.6196\n",
      "Epoch 6/25\n",
      "246/246 [==============================] - 16s 64ms/step - loss: 0.2467 - accuracy: 0.9071 - val_loss: 0.6201 - val_accuracy: 0.7441\n",
      "Epoch 7/25\n",
      "246/246 [==============================] - 49s 199ms/step - loss: 0.2449 - accuracy: 0.9079 - val_loss: 0.8569 - val_accuracy: 0.6517\n",
      "Epoch 8/25\n",
      "246/246 [==============================] - 37s 150ms/step - loss: 0.2443 - accuracy: 0.9082 - val_loss: 0.6506 - val_accuracy: 0.7451\n",
      "Epoch 9/25\n",
      "246/246 [==============================] - 29s 120ms/step - loss: 0.2423 - accuracy: 0.9088 - val_loss: 0.6964 - val_accuracy: 0.7329\n",
      "Epoch 10/25\n",
      "246/246 [==============================] - 26s 104ms/step - loss: 0.2413 - accuracy: 0.9087 - val_loss: 1.5884 - val_accuracy: 0.3553\n",
      "Epoch 11/25\n",
      "246/246 [==============================] - 16s 65ms/step - loss: 0.2390 - accuracy: 0.9102 - val_loss: 0.6577 - val_accuracy: 0.7253\n",
      "Epoch 12/25\n",
      "246/246 [==============================] - 16s 66ms/step - loss: 0.2374 - accuracy: 0.9104 - val_loss: 0.6902 - val_accuracy: 0.7127\n",
      "Epoch 13/25\n",
      "246/246 [==============================] - 15s 59ms/step - loss: 0.2365 - accuracy: 0.9111 - val_loss: 0.8001 - val_accuracy: 0.6797\n",
      "Epoch 14/25\n",
      "246/246 [==============================] - 12s 50ms/step - loss: 0.2347 - accuracy: 0.9122 - val_loss: 0.6467 - val_accuracy: 0.7296\n",
      "Epoch 15/25\n",
      "246/246 [==============================] - 13s 53ms/step - loss: 0.2352 - accuracy: 0.9115 - val_loss: 0.8442 - val_accuracy: 0.6858\n",
      "Epoch 16/25\n",
      "246/246 [==============================] - 14s 55ms/step - loss: 0.2327 - accuracy: 0.9124 - val_loss: 0.8676 - val_accuracy: 0.6714\n",
      "Epoch 17/25\n",
      "246/246 [==============================] - 13s 53ms/step - loss: 0.2320 - accuracy: 0.9132 - val_loss: 0.9386 - val_accuracy: 0.6594\n",
      "Epoch 18/25\n",
      "246/246 [==============================] - 14s 58ms/step - loss: 0.2307 - accuracy: 0.9135 - val_loss: 0.8265 - val_accuracy: 0.6904\n",
      "Epoch 19/25\n",
      "246/246 [==============================] - 15s 63ms/step - loss: 0.2286 - accuracy: 0.9145 - val_loss: 2.2647 - val_accuracy: 0.3373\n",
      "Epoch 20/25\n",
      "246/246 [==============================] - 12s 47ms/step - loss: 0.2267 - accuracy: 0.9155 - val_loss: 0.6438 - val_accuracy: 0.7431\n",
      "Epoch 21/25\n",
      "246/246 [==============================] - 13s 52ms/step - loss: 0.2270 - accuracy: 0.9153 - val_loss: 0.9004 - val_accuracy: 0.6659\n",
      "Epoch 22/25\n",
      "246/246 [==============================] - 14s 55ms/step - loss: 0.2256 - accuracy: 0.9154 - val_loss: 1.9100 - val_accuracy: 0.3426\n",
      "Epoch 23/25\n",
      "246/246 [==============================] - 13s 53ms/step - loss: 0.2248 - accuracy: 0.9161 - val_loss: 1.3503 - val_accuracy: 0.6069\n",
      "Epoch 24/25\n",
      "246/246 [==============================] - 13s 54ms/step - loss: 0.2243 - accuracy: 0.9162 - val_loss: 1.9225 - val_accuracy: 0.2958\n",
      "Epoch 25/25\n",
      "246/246 [==============================] - 14s 55ms/step - loss: 0.2227 - accuracy: 0.9169 - val_loss: 0.6464 - val_accuracy: 0.7442\n"
     ]
    }
   ],
   "source": [
    "optimizer = keras.optimizers.Adam(learning_rate=LEARNING_RATE)\n",
    "\n",
    "model.compile(\n",
    "    loss='sparse_categorical_crossentropy',\n",
    "    optimizer=optimizer,\n",
    "    metrics=['accuracy'],\n",
    ")\n",
    "\n",
    "history = model.fit(\n",
    "    X_train,\n",
    "    y_train,\n",
    "    epochs=EPOCHS,\n",
    "    batch_size=BATCH_SIZE,\n",
    "    validation_data=(X_test, y_test),\n",
    "    verbose=1,\n",
    ")"
   ]
  },
  {
   "cell_type": "code",
   "execution_count": 18,
   "id": "bed79725-2bb3-47ce-b06c-333c662b30bf",
   "metadata": {
    "colab": {
     "base_uri": "https://localhost:8080/",
     "height": 282
    },
    "id": "bed79725-2bb3-47ce-b06c-333c662b30bf",
    "outputId": "4354cc75-e44d-4d2a-ac4b-c55a4b3a9305"
   },
   "outputs": [
    {
     "data": {
      "text/plain": [
       "[<matplotlib.lines.Line2D at 0x149e4bdc0>]"
      ]
     },
     "execution_count": 18,
     "metadata": {},
     "output_type": "execute_result"
    },
    {
     "data": {
      "image/png": "[encoded data removed]",
      "text/plain": [
       "<Figure size 432x288 with 1 Axes>"
      ]
     },
     "metadata": {
      "needs_background": "light"
     },
     "output_type": "display_data"
    }
   ],
   "source": [
    "plt.plot(history.history['accuracy'])\n",
    "plt.plot(history.history['val_accuracy'])"
   ]
  },
  {
   "cell_type": "code",
   "execution_count": 19,
   "id": "3b65d81f-3d75-43d1-9e2d-88cef69d110b",
   "metadata": {
    "colab": {
     "base_uri": "https://localhost:8080/",
     "height": 265
    },
    "id": "3b65d81f-3d75-43d1-9e2d-88cef69d110b",
    "outputId": "97e18fb9-4340-478c-e307-82c03282e9cc"
   },
   "outputs": [
    {
     "data": {
      "image/png": "[encoded data removed]",
      "text/plain": [
       "<Figure size 432x288 with 1 Axes>"
      ]
     },
     "metadata": {
      "needs_background": "light"
     },
     "output_type": "display_data"
    }
   ],
   "source": [
    "plt.plot(history.history['loss'][10:])\n",
    "plt.plot(history.history['val_loss'][10:])\n",
    "plt.yscale('log')"
   ]
  },
  {
   "cell_type": "code",
   "execution_count": 20,
   "id": "8a964a60-488a-431e-8bcc-586e90d8956b",
   "metadata": {
    "id": "8a964a60-488a-431e-8bcc-586e90d8956b"
   },
   "outputs": [
    {
     "name": "stdout",
     "output_type": "stream",
     "text": [
      "2622/2622 [==============================] - 4s 2ms/step\n"
     ]
    }
   ],
   "source": [
    "y_pred = model.predict(X_test)"
   ]
  },
  {
   "cell_type": "code",
   "execution_count": 21,
   "id": "d7C0QyTLHO8q",
   "metadata": {
    "colab": {
     "base_uri": "https://localhost:8080/"
    },
    "id": "d7C0QyTLHO8q",
    "outputId": "78587010-2aa8-4cc7-e82f-7c40e11ce705"
   },
   "outputs": [
    {
     "data": {
      "text/plain": [
       "array([[8.9557695e-01, 9.0176113e-02, 1.4246963e-02],\n",
       "       [9.9909258e-01, 7.6994591e-04, 1.3749201e-04],\n",
       "       [2.5526693e-03, 6.5422785e-01, 3.4321949e-01],\n",
       "       ...,\n",
       "       [1.6447364e-01, 4.8590785e-01, 3.4961855e-01],\n",
       "       [3.2289229e-02, 6.4991230e-01, 3.1779850e-01],\n",
       "       [1.0202968e-02, 5.3703088e-01, 4.5276615e-01]], dtype=float32)"
      ]
     },
     "execution_count": 21,
     "metadata": {},
     "output_type": "execute_result"
    }
   ],
   "source": [
    "y_pred"
   ]
  },
  {
   "cell_type": "code",
   "execution_count": 22,
   "id": "1c8d3ecc-9cf4-4b1b-a1f8-7394eae20128",
   "metadata": {
    "id": "1c8d3ecc-9cf4-4b1b-a1f8-7394eae20128"
   },
   "outputs": [
    {
     "name": "stdout",
     "output_type": "stream",
     "text": [
      "2622/2622 [==============================] - 5s 2ms/step - loss: 0.7681 - accuracy: 0.6862\n"
     ]
    },
    {
     "data": {
      "text/plain": [
       "[0.7680842876434326, 0.6862418055534363]"
      ]
     },
     "execution_count": 22,
     "metadata": {},
     "output_type": "execute_result"
    }
   ],
   "source": [
    "model.evaluate(X_test, y_test)"
   ]
  },
  {
   "cell_type": "code",
   "execution_count": 23,
   "id": "1ljWvGo9skgS",
   "metadata": {
    "id": "1ljWvGo9skgS"
   },
   "outputs": [],
   "source": [
    "y_pred= np.argmax(y_pred, axis=1)"
   ]
  },
  {
   "cell_type": "code",
   "execution_count": 24,
   "id": "BIninuG_Hixu",
   "metadata": {
    "colab": {
     "base_uri": "https://localhost:8080/"
    },
    "id": "BIninuG_Hixu",
    "outputId": "8d52a3ce-46d5-41c3-f339-ec8e2feee684"
   },
   "outputs": [
    {
     "data": {
      "text/plain": [
       "array([0, 0, 1, ..., 1, 1, 1])"
      ]
     },
     "execution_count": 24,
     "metadata": {},
     "output_type": "execute_result"
    }
   ],
   "source": [
    "y_pred"
   ]
  },
  {
   "cell_type": "code",
   "execution_count": 25,
   "id": "3NzoyhrD4tO9",
   "metadata": {
    "colab": {
     "base_uri": "https://localhost:8080/"
    },
    "id": "3NzoyhrD4tO9",
    "outputId": "da09ab77-c439-431e-82a8-93fc98f20b49"
   },
   "outputs": [
    {
     "data": {
      "text/plain": [
       "0"
      ]
     },
     "execution_count": 25,
     "metadata": {},
     "output_type": "execute_result"
    }
   ],
   "source": [
    "y_pred[0]"
   ]
  },
  {
   "cell_type": "code",
   "execution_count": 26,
   "id": "48c3e9c7-2bc3-479a-8af1-bf35d87f3e57",
   "metadata": {
    "id": "48c3e9c7-2bc3-479a-8af1-bf35d87f3e57"
   },
   "outputs": [],
   "source": [
    "df = pd.DataFrame({\n",
    "    'y_test': y_test.ravel().astype(int).tolist(),\n",
    "    'y_pred': y_pred.ravel().astype(int).tolist(),\n",
    "})"
   ]
  },
  {
   "cell_type": "code",
   "execution_count": 27,
   "id": "18cfafbe-dafb-4a9e-8873-7f96e71f80b8",
   "metadata": {
    "colab": {
     "base_uri": "https://localhost:8080/",
     "height": 175
    },
    "id": "18cfafbe-dafb-4a9e-8873-7f96e71f80b8",
    "outputId": "aa49cb9d-c88e-437b-9a31-2809577d1da1"
   },
   "outputs": [
    {
     "data": {
      "text/html": [
       "<div>\n",
       "<style scoped>\n",
       "    .dataframe tbody tr th:only-of-type {\n",
       "        vertical-align: middle;\n",
       "    }\n",
       "\n",
       "    .dataframe tbody tr th {\n",
       "        vertical-align: top;\n",
       "    }\n",
       "\n",
       "    .dataframe thead th {\n",
       "        text-align: right;\n",
       "    }\n",
       "</style>\n",
       "<table border=\"1\" class=\"dataframe\">\n",
       "  <thead>\n",
       "    <tr style=\"text-align: right;\">\n",
       "      <th>y_pred</th>\n",
       "      <th>0</th>\n",
       "      <th>1</th>\n",
       "      <th>2</th>\n",
       "    </tr>\n",
       "    <tr>\n",
       "      <th>y_test</th>\n",
       "      <th></th>\n",
       "      <th></th>\n",
       "      <th></th>\n",
       "    </tr>\n",
       "  </thead>\n",
       "  <tbody>\n",
       "    <tr>\n",
       "      <th>0</th>\n",
       "      <td>35234</td>\n",
       "      <td>371</td>\n",
       "      <td>360</td>\n",
       "    </tr>\n",
       "    <tr>\n",
       "      <th>1</th>\n",
       "      <td>5234</td>\n",
       "      <td>15576</td>\n",
       "      <td>3157</td>\n",
       "    </tr>\n",
       "    <tr>\n",
       "      <th>2</th>\n",
       "      <td>1024</td>\n",
       "      <td>16178</td>\n",
       "      <td>6765</td>\n",
       "    </tr>\n",
       "  </tbody>\n",
       "</table>\n",
       "</div>"
      ],
      "text/plain": [
       "y_pred      0      1     2\n",
       "y_test                    \n",
       "0       35234    371   360\n",
       "1        5234  15576  3157\n",
       "2        1024  16178  6765"
      ]
     },
     "execution_count": 27,
     "metadata": {},
     "output_type": "execute_result"
    }
   ],
   "source": [
    "pd.crosstab(df['y_test'], df['y_pred'])"
   ]
  },
  {
   "cell_type": "code",
   "execution_count": 28,
   "id": "e192957b-1b16-47c8-89eb-d6e2fb9bde9f",
   "metadata": {
    "id": "e192957b-1b16-47c8-89eb-d6e2fb9bde9f"
   },
   "outputs": [],
   "source": [
    "model.save('model.h5')"
   ]
  },
  {
   "cell_type": "code",
   "execution_count": null,
   "id": "__GCNJUQzHny",
   "metadata": {
    "colab": {
     "base_uri": "https://localhost:8080/"
    },
    "id": "__GCNJUQzHny",
    "outputId": "0b819a16-2d58-4435-927f-343a75565ae6"
   },
   "outputs": [],
   "source": [
    "X_train[0]"
   ]
  },
  {
   "cell_type": "code",
   "execution_count": null,
   "id": "8c451d57-513f-476a-acbf-5b5a58a90437",
   "metadata": {
    "colab": {
     "base_uri": "https://localhost:8080/",
     "height": 606
    },
    "id": "8c451d57-513f-476a-acbf-5b5a58a90437",
    "outputId": "c8edd43e-3d45-432e-c46d-f23b5f9e9cdd"
   },
   "outputs": [],
   "source": [
    "np.argmax(model.predict(np.array([[[0.08,  0.08,  0.08,  0.08, -0.08, -0.08, -0.08,  0.08],\n",
    "       [0.08,  0.08,  0.08,  0.08, -0.08, -0.08, -0.08,  0.08],\n",
    "       [0.08,  0.08,  0.08,  0.08, -0.08, -0.08, -0.08,  0.08],\n",
    "       [0.08,  0.08,  0.08,  0.08, -0.08, -0.08, -0.08,  0.08],\n",
    "       [0.08,  0.08,  0.08,  0.08, -0.08, -0.08, -0.08,  0.08],\n",
    "       [0.08,  0.08,  0.08,  0.08, -0.08, -0.08, -0.08,  0.08],\n",
    "       [0.08,  0.08,  0.08,  0.08, -0.08, -0.08, -0.08,  0.08],\n",
    "       [0.08,  0.08,  0.08,  0.08, -0.08, -0.08, -0.08,  0.08],\n",
    "       [0.08,  0.08,  0.08,  0.08, -0.08, -0.08, -0.08,  0.08],\n",
    "       [0.08,  0.08,  0.08,  0.08, -0.08, -0.08, -0.08,  0.08]]])))"
   ]
  },
  {
   "cell_type": "code",
   "execution_count": null,
   "id": "e758a797-ce91-4c86-b48f-11b7906e3f1c",
   "metadata": {
    "id": "e758a797-ce91-4c86-b48f-11b7906e3f1c"
   },
   "outputs": [],
   "source": [
    "x_new = X_test[0,:,:]"
   ]
  },
  {
   "cell_type": "code",
   "execution_count": null,
   "id": "e028ea89-c194-4257-b879-9c5125aa092c",
   "metadata": {
    "id": "e028ea89-c194-4257-b879-9c5125aa092c"
   },
   "outputs": [],
   "source": [
    "argmax(model.predict(np.array([[[-0.04,  0.69,  0.72,  0.07, -0.19, -0.63, -0.71,  0.23],\n",
    "       [-0.13,  0.69,  0.7 ,  0.14, -0.19, -0.64, -0.71,  0.23],\n",
    "       [-0.22,  0.67,  0.67,  0.23, -0.19, -0.64, -0.71,  0.23],\n",
    "       [-0.25,  0.67,  0.65,  0.25, -0.19, -0.64, -0.71,  0.23],\n",
    "       [-0.31,  0.65,  0.63,  0.3 , -0.19, -0.64, -0.71,  0.23],\n",
    "       [-0.35,  0.63,  0.6 ,  0.34, -0.19, -0.64, -0.71,  0.23],\n",
    "       [-0.34,  0.64,  0.61,  0.33, -0.19, -0.64, -0.71,  0.23],\n",
    "       [-0.34,  0.64,  0.61,  0.33, -0.19, -0.64, -0.71,  0.23],\n",
    "       [-0.24,  0.67,  0.66,  0.25, -0.19, -0.64, -0.71,  0.23],\n",
    "       [-0.12,  0.69,  0.7 ,  0.14, -0.19, -0.64, -0.71,  0.23]]])))"
   ]
  },
  {
   "cell_type": "code",
   "execution_count": null,
   "id": "caeab939-e224-45cb-aeac-cba492ce706e",
   "metadata": {
    "id": "caeab939-e224-45cb-aeac-cba492ce706e"
   },
   "outputs": [],
   "source": [
    "x_new.shape"
   ]
  },
  {
   "cell_type": "code",
   "execution_count": null,
   "id": "1cd53482-ba40-4e2e-91e4-86a77c1bd571",
   "metadata": {
    "id": "1cd53482-ba40-4e2e-91e4-86a77c1bd571"
   },
   "outputs": [],
   "source": [
    "(1,) + x_new.shape"
   ]
  },
  {
   "cell_type": "code",
   "execution_count": null,
   "id": "ffe40741-ef5e-4586-8099-7ea3940df013",
   "metadata": {
    "id": "ffe40741-ef5e-4586-8099-7ea3940df013"
   },
   "outputs": [],
   "source": [
    "X_new = x_new.reshape((1,) + x_new.shape)\n",
    "fast_or_slow = saved_model(X_new)"
   ]
  },
  {
   "cell_type": "code",
   "execution_count": null,
   "id": "a4dc15ee-ec14-4cbf-a2d2-bf0d17176afa",
   "metadata": {
    "id": "a4dc15ee-ec14-4cbf-a2d2-bf0d17176afa"
   },
   "outputs": [],
   "source": [
    "float(fast_or_slow[0, 0])"
   ]
  },
  {
   "cell_type": "code",
   "execution_count": null,
   "id": "54844c3c-4be3-4599-8327-c2cfa0751e0e",
   "metadata": {
    "id": "54844c3c-4be3-4599-8327-c2cfa0751e0e"
   },
   "outputs": [],
   "source": [
    "print(X_new.tolist())\n"
   ]
  },
  {
   "cell_type": "code",
   "execution_count": null,
   "id": "7rw6-XGxwHZw",
   "metadata": {
    "id": "7rw6-XGxwHZw"
   },
   "outputs": [],
   "source": []
  },
  {
   "cell_type": "code",
   "execution_count": null,
   "id": "vZD1w6TZwk0e",
   "metadata": {
    "id": "vZD1w6TZwk0e"
   },
   "outputs": [],
   "source": [
    "model.save('model.h5')"
   ]
  },
  {
   "cell_type": "code",
   "execution_count": null,
   "id": "Dg1rDKBsw7S3",
   "metadata": {
    "id": "Dg1rDKBsw7S3"
   },
   "outputs": [],
   "source": [
    "np.fromstring(X_new.tobytes(), dtype=float).reshape(1,10,4)"
   ]
  },
  {
   "cell_type": "code",
   "execution_count": null,
   "id": "DlzAFGAuxUHF",
   "metadata": {
    "id": "DlzAFGAuxUHF"
   },
   "outputs": [],
   "source": [
    "comma_string = \"[[[-1.402271e-03 -2.203955e-08 7.028995e-07 9.999990e-01 -2.328306e-10 -6.455648e-09 7.037297e-07  1.000000e+00] [-1.402271e-03 -2.203955e-08  7.028995e-07  9.999990e-01 -2.328306e-10 -6.455648e-09  7.037297e-07  1.000000e+00] [-1.402271e-03 -2.203955e-08  7.028995e-07  9.999990e-01 -2.328306e-10 -6.455648e-09  7.037297e-07  1.000000e+00] [-1.402271e-03 -2.203955e-08  7.028995e-07  9.999990e-01 -2.328306e-10 -6.455648e-09  7.037297e-07  1.000000e+00] [-1.402271e-03 -2.203955e-08  7.028995e-07  9.999990e-01 -2.328306e-10 -6.455648e-09  7.037297e-07  1.000000e+00] [-1.402271e-03 -2.203955e-08  7.028995e-07  9.999990e-01 -2.328306e-10 -6.455648e-09  7.037297e-07  1.000000e+00] [-1.402271e-03 -2.203955e-08  7.028995e-07  9.999990e-01 -2.328306e-10 -6.455648e-09  7.037297e-07  1.000000e+00] [-1.402271e-03 -2.203955e-08  7.028995e-07  9.999990e-01 -2.328306e-10 -6.455648e-09  7.037297e-07  1.000000e+00] [-1.402271e-03 -2.203955e-08  7.028995e-07  9.999990e-01 -2.328306e-10 -6.455648e-09  7.037297e-07  1.000000e+00] [-1.402271e-03 -2.203955e-08  7.028995e-07  9.999990e-01 -2.328306e-10 -6.455648e-09  7.037297e-07  1.000000e+00]]])\""
   ]
  },
  {
   "cell_type": "code",
   "execution_count": null,
   "id": "xywYtiQuDssb",
   "metadata": {
    "id": "xywYtiQuDssb"
   },
   "outputs": [],
   "source": [
    "spaces_string = comma_string.replace(' ', ',')\n",
    "spaces_string"
   ]
  },
  {
   "cell_type": "code",
   "execution_count": null,
   "id": "XDNr41Vm7MsD",
   "metadata": {
    "id": "XDNr41Vm7MsD"
   },
   "outputs": [],
   "source": [
    "import ast\n",
    "input = np.array([[[0.08, 0.14, 0.09, 0.18],\n",
    "       [0.08, 0.14, 0.09, 0.22],\n",
    "       [0.08, 0.14, 0.08, 0.17],\n",
    "       [0.08, 0.14, 0.08, 0.1 ],\n",
    "       [0.08, 0.14, 0.07, 0.08],\n",
    "       [0.08, 0.14, 0.07, 0.08],\n",
    "       [0.09, 0.2 , 0.07, 0.08],\n",
    "       [0.1 , 0.32, 0.07, 0.07],\n",
    "       [0.1 , 0.29, 0.07, 0.07],\n",
    "       [0.09, 0.24, 0.07, 0.07]]])\n",
    "    \n",
    "lista_string=\"[0.08, 0.14, 0.09, 0.18]\"\n",
    "lista= ast.literal_eval(lista_string)\n",
    "input = np.insert(input[0], 0,lista).reshape(1,11,4)\n",
    "input = input[:,:-1,:]\n",
    "input"
   ]
  },
  {
   "cell_type": "code",
   "execution_count": null,
   "id": "Y9SXyZnkxVs1",
   "metadata": {
    "id": "Y9SXyZnkxVs1"
   },
   "outputs": [],
   "source": [
    "from tensorflow.keras.models import load_model\n"
   ]
  },
  {
   "cell_type": "code",
   "execution_count": null,
   "id": "dYZo4dM_E7y8",
   "metadata": {
    "id": "dYZo4dM_E7y8"
   },
   "outputs": [],
   "source": [
    "/content/my_model"
   ]
  },
  {
   "cell_type": "code",
   "execution_count": null,
   "id": "F2L9U_219JYL",
   "metadata": {
    "id": "F2L9U_219JYL"
   },
   "outputs": [],
   "source": []
  },
  {
   "cell_type": "code",
   "execution_count": null,
   "id": "I6lCTiBu9hIN",
   "metadata": {
    "id": "I6lCTiBu9hIN"
   },
   "outputs": [],
   "source": [
    "!zip -r model.zip model/ "
   ]
  },
  {
   "cell_type": "code",
   "execution_count": null,
   "id": "txtVW0lZk0i2",
   "metadata": {
    "id": "txtVW0lZk0i2"
   },
   "outputs": [],
   "source": []
  },
  {
   "cell_type": "code",
   "execution_count": null,
   "id": "jmP1iwCVrCWB",
   "metadata": {
    "id": "jmP1iwCVrCWB"
   },
   "outputs": [],
   "source": [
    "print(json_str)"
   ]
  },
  {
   "cell_type": "code",
   "execution_count": null,
   "id": "xnhM2JtlrKUG",
   "metadata": {
    "id": "xnhM2JtlrKUG"
   },
   "outputs": [],
   "source": [
    "input = np.array([[[ 2.66, -1.94,  0.66, -0.07],\n",
    "       [ 2.66, -1.94,  0.66, -0.07],\n",
    "       [ 2.65, -2.1 ,  0.66, -0.07],\n",
    "       [ 2.65, -2.2 ,  0.66, -0.07],\n",
    "       [ 2.65, -2.22,  0.66, -0.07],\n",
    "       [ 2.65, -2.22,  0.68,  0.01],\n",
    "       [ 2.64, -2.22,  0.68,  0.18],\n",
    "       [ 2.64, -2.22,  0.69,  0.26],\n",
    "       [ 2.64, -2.22,  0.67,  0.16],\n",
    "       [ 2.64, -2.22,  0.67,  0.03]]])"
   ]
  },
  {
   "cell_type": "code",
   "execution_count": null,
   "id": "-RaeJ9fealdj",
   "metadata": {
    "id": "-RaeJ9fealdj"
   },
   "outputs": [],
   "source": [
    "import ast\n",
    "lista_string=\"[ 2.66, -1.94,  0.66, -0.07]\"\n",
    "lista= ast.literal_eval(lista_string)\n",
    "input = np.append(input[0],[lista],axis=0).reshape(1,11,4)\n",
    "input = input[:,1:,:]"
   ]
  },
  {
   "cell_type": "code",
   "execution_count": null,
   "id": "dSPIJMHBapbY",
   "metadata": {
    "id": "dSPIJMHBapbY"
   },
   "outputs": [],
   "source": [
    "input"
   ]
  },
  {
   "cell_type": "code",
   "execution_count": null,
   "id": "8LVg3UYja8xp",
   "metadata": {
    "id": "8LVg3UYja8xp"
   },
   "outputs": [],
   "source": [
    "X_train[0]"
   ]
  },
  {
   "cell_type": "code",
   "execution_count": null,
   "id": "I3PN3mu1iAis",
   "metadata": {
    "id": "I3PN3mu1iAis"
   },
   "outputs": [],
   "source": [
    "import re\n",
    "\n",
    "s = \"[[[-1.402271e-03 -2.203955e-08  7.028995e-07  9.999990e-01 -2.328306e-10 -6.455648e-09  7.037297e-07  1.000000e+00] [-1.402271e-03 -2.203955e-08  7.028995e-07  9.999990e-01 -2.328306e-10 -6.455648e-09  7.037297e-07  1.000000e+00] [-1.402271e-03 -2.203955e-08  7.028995e-07  9.999990e-01 -2.328306e-10 -6.455648e-09  7.037297e-07  1.000000e+00] [-1.402271e-03 -2.203955e-08  7.028995e-07  9.999990e-01 -2.328306e-10 -6.455648e-09  7.037297e-07  1.000000e+00] [-1.402271e-03 -2.203955e-08  7.028995e-07  9.999990e-01 -2.328306e-10 -6.455648e-09  7.037297e-07  1.000000e+00] [-1.402271e-03 -2.203955e-08  7.028995e-07  9.999990e-01 -2.328306e-10 -6.455648e-09  7.037297e-07  1.000000e+00] [-1.402271e-03 -2.203955e-08  7.028995e-07  9.999990e-01 -2.328306e-10 -6.455648e-09  7.037297e-07  1.000000e+00] [-1.402271e-03 -2.203955e-08  7.028995e-07  9.999990e-01 -2.328306e-10 -6.455648e-09  7.037297e-07  1.000000e+00] [-1.402271e-03 -2.203955e-08  7.028995e-07  9.999990e-01 -2.328306e-10 -6.455648e-09  7.037297e-07  1.000000e+00] [-1.402271e-03 -2.203955e-08  7.028995e-07  9.999990e-01 -2.328306e-10 -6.455648e-09  7.037297e-07  1.000000e+00]]]\"\n",
    "\n",
    "def add_comma(match):\n",
    "    return match.group(0) + ','\n",
    "\n",
    "s = re.sub(r'\\[[0-9\\.\\s]+\\]', add_comma, s)\n",
    "s = re.sub(r'([0-9\\.]+)', add_comma, s)\n",
    "mylist = eval(s)"
   ]
  },
  {
   "cell_type": "code",
   "execution_count": null,
   "id": "sVQuC3TvzIGz",
   "metadata": {
    "id": "sVQuC3TvzIGz"
   },
   "outputs": [],
   "source": [
    "mylist"
   ]
  },
  {
   "cell_type": "code",
   "execution_count": null,
   "id": "WaxWOPL_zKMZ",
   "metadata": {
    "id": "WaxWOPL_zKMZ"
   },
   "outputs": [],
   "source": []
  }
 ],
 "metadata": {
  "accelerator": "GPU",
  "colab": {
   "collapsed_sections": [],
   "provenance": []
  },
  "gpuClass": "standard",
  "kernelspec": {
   "display_name": "Python 3 (ipykernel)",
   "language": "python",
   "name": "python3"
  },
  "language_info": {
   "codemirror_mode": {
    "name": "ipython",
    "version": 3
   },
   "file_extension": ".py",
   "mimetype": "text/x-python",
   "name": "python",
   "nbconvert_exporter": "python",
   "pygments_lexer": "ipython3",
   "version": "3.9.12"
  }
 },
 "nbformat": 4,
 "nbformat_minor": 5
}
