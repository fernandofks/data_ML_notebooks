{
 "cells": [
  {
   "cell_type": "code",
   "execution_count": 33,
   "id": "b41f0b0f-cc96-43a2-ab7f-f3264587e7d2",
   "metadata": {
    "id": "b41f0b0f-cc96-43a2-ab7f-f3264587e7d2"
   },
   "outputs": [],
   "source": [
    "from pathlib import Path\n",
    "import matplotlib.pyplot as plt\n",
    "import numpy as np\n",
    "import pandas as pd\n",
    "import tensorflow as tf\n",
    "import tensorflow.keras as keras\n",
    "from tensorflow.python.keras.layers import Dense\n",
    "from numpy.random import default_rng\n",
    "from sklearn.model_selection import train_test_split"
   ]
  },
  {
   "cell_type": "code",
   "execution_count": 103,
   "id": "NKCFZxY--SlA",
   "metadata": {
    "id": "NKCFZxY--SlA"
   },
   "outputs": [],
   "source": [
    "# data = pd.read_csv('data/walk_data_14_Fernando.txt', sep=\",\", header=None, names=[\"e_t_x\",\"e_t_y\",\"e_t_z\",\"e_r_x\",\"e_r_y\",\"e_r_z\",\"e_r_w\",\"d_t_x\",\"d_t_y\",\"d_t_z\",\"d_r_x\",\"d_r_y\",\"d_r_z\",\"d_r_w\", \"c_t_x\",\"c_t_y\",\"c_t_z\",\"c_r_x\",\"c_r_y\",\"c_r_z\", \"c_r_w\"])\n",
    "# data_fernando = pd.read_csv('data/walk_data_1_Fernando.txt', sep=\",\", header=None, names=[\"e_t_x\",\"e_t_y\",\"e_t_z\",\"e_r_x\",\"e_r_y\",\"e_r_z\",\"d_t_x\",\"d_t_y\",\"d_t_z\",\"d_r_x\",\"d_r_y\",\"d_r_z\",\"c_t_x\",\"c_t_y\",\"c_t_z\",\"c_r_x\",\"c_r_y\",\"c_r_z\"])\n",
    "data = pd.read_csv('data/full_data_5.csv', sep=\",\", header=None, names=[\"e_t_x\",\"e_t_y\",\"e_t_z\",\"e_r_x\",\"e_r_y\",\"e_r_z\",\"e_r_w\",\"d_t_x\",\"d_t_y\",\"d_t_z\",\"d_r_x\",\"d_r_y\",\"d_r_z\",\"d_r_w\", \"c_t_x\",\"c_t_y\",\"c_t_z\",\"c_r_x\",\"c_r_y\",\"c_r_z\", \"c_r_w\", \"speed\"])"
   ]
  },
  {
   "cell_type": "code",
   "execution_count": 104,
   "id": "CEcxIBOK_lHV",
   "metadata": {
    "colab": {
     "base_uri": "https://localhost:8080/",
     "height": 488
    },
    "id": "CEcxIBOK_lHV",
    "outputId": "1e0ab457-f819-4840-c77e-779ac3ef75ea"
   },
   "outputs": [
    {
     "data": {
      "text/html": [
       "<div>\n",
       "<style scoped>\n",
       "    .dataframe tbody tr th:only-of-type {\n",
       "        vertical-align: middle;\n",
       "    }\n",
       "\n",
       "    .dataframe tbody tr th {\n",
       "        vertical-align: top;\n",
       "    }\n",
       "\n",
       "    .dataframe thead th {\n",
       "        text-align: right;\n",
       "    }\n",
       "</style>\n",
       "<table border=\"1\" class=\"dataframe\">\n",
       "  <thead>\n",
       "    <tr style=\"text-align: right;\">\n",
       "      <th></th>\n",
       "      <th>e_t_x</th>\n",
       "      <th>e_t_y</th>\n",
       "      <th>e_t_z</th>\n",
       "      <th>e_r_x</th>\n",
       "      <th>e_r_y</th>\n",
       "      <th>e_r_z</th>\n",
       "      <th>e_r_w</th>\n",
       "      <th>d_t_x</th>\n",
       "      <th>d_t_y</th>\n",
       "      <th>d_t_z</th>\n",
       "      <th>...</th>\n",
       "      <th>d_r_z</th>\n",
       "      <th>d_r_w</th>\n",
       "      <th>c_t_x</th>\n",
       "      <th>c_t_y</th>\n",
       "      <th>c_t_z</th>\n",
       "      <th>c_r_x</th>\n",
       "      <th>c_r_y</th>\n",
       "      <th>c_r_z</th>\n",
       "      <th>c_r_w</th>\n",
       "      <th>speed</th>\n",
       "    </tr>\n",
       "  </thead>\n",
       "  <tbody>\n",
       "    <tr>\n",
       "      <th>0</th>\n",
       "      <td>0.000</td>\n",
       "      <td>0.000</td>\n",
       "      <td>0.000</td>\n",
       "      <td>0.000</td>\n",
       "      <td>0.000</td>\n",
       "      <td>0.000</td>\n",
       "      <td>0.000</td>\n",
       "      <td>0.000</td>\n",
       "      <td>0.000</td>\n",
       "      <td>0.0</td>\n",
       "      <td>...</td>\n",
       "      <td>0.000</td>\n",
       "      <td>0.000</td>\n",
       "      <td>0.000</td>\n",
       "      <td>0.0</td>\n",
       "      <td>0.000</td>\n",
       "      <td>0.000</td>\n",
       "      <td>0.000</td>\n",
       "      <td>0.000</td>\n",
       "      <td>0.0</td>\n",
       "      <td>stopped</td>\n",
       "    </tr>\n",
       "    <tr>\n",
       "      <th>1</th>\n",
       "      <td>0.000</td>\n",
       "      <td>0.000</td>\n",
       "      <td>0.000</td>\n",
       "      <td>0.000</td>\n",
       "      <td>-0.001</td>\n",
       "      <td>0.000</td>\n",
       "      <td>0.000</td>\n",
       "      <td>0.000</td>\n",
       "      <td>0.000</td>\n",
       "      <td>0.0</td>\n",
       "      <td>...</td>\n",
       "      <td>-0.001</td>\n",
       "      <td>0.000</td>\n",
       "      <td>0.000</td>\n",
       "      <td>0.0</td>\n",
       "      <td>0.000</td>\n",
       "      <td>0.001</td>\n",
       "      <td>0.000</td>\n",
       "      <td>0.001</td>\n",
       "      <td>0.0</td>\n",
       "      <td>stopped</td>\n",
       "    </tr>\n",
       "    <tr>\n",
       "      <th>2</th>\n",
       "      <td>-0.001</td>\n",
       "      <td>0.000</td>\n",
       "      <td>0.000</td>\n",
       "      <td>0.000</td>\n",
       "      <td>0.001</td>\n",
       "      <td>0.000</td>\n",
       "      <td>0.000</td>\n",
       "      <td>-0.001</td>\n",
       "      <td>0.000</td>\n",
       "      <td>0.0</td>\n",
       "      <td>...</td>\n",
       "      <td>0.000</td>\n",
       "      <td>0.000</td>\n",
       "      <td>0.000</td>\n",
       "      <td>0.0</td>\n",
       "      <td>0.000</td>\n",
       "      <td>0.001</td>\n",
       "      <td>0.000</td>\n",
       "      <td>0.000</td>\n",
       "      <td>0.0</td>\n",
       "      <td>stopped</td>\n",
       "    </tr>\n",
       "    <tr>\n",
       "      <th>3</th>\n",
       "      <td>0.000</td>\n",
       "      <td>0.000</td>\n",
       "      <td>0.000</td>\n",
       "      <td>0.000</td>\n",
       "      <td>0.000</td>\n",
       "      <td>0.000</td>\n",
       "      <td>0.000</td>\n",
       "      <td>0.000</td>\n",
       "      <td>0.000</td>\n",
       "      <td>0.0</td>\n",
       "      <td>...</td>\n",
       "      <td>0.000</td>\n",
       "      <td>0.000</td>\n",
       "      <td>0.000</td>\n",
       "      <td>0.0</td>\n",
       "      <td>0.000</td>\n",
       "      <td>0.000</td>\n",
       "      <td>0.000</td>\n",
       "      <td>0.000</td>\n",
       "      <td>0.0</td>\n",
       "      <td>stopped</td>\n",
       "    </tr>\n",
       "    <tr>\n",
       "      <th>4</th>\n",
       "      <td>0.000</td>\n",
       "      <td>0.000</td>\n",
       "      <td>0.000</td>\n",
       "      <td>0.000</td>\n",
       "      <td>0.000</td>\n",
       "      <td>0.000</td>\n",
       "      <td>0.000</td>\n",
       "      <td>0.000</td>\n",
       "      <td>0.000</td>\n",
       "      <td>0.0</td>\n",
       "      <td>...</td>\n",
       "      <td>0.000</td>\n",
       "      <td>0.000</td>\n",
       "      <td>0.000</td>\n",
       "      <td>0.0</td>\n",
       "      <td>0.000</td>\n",
       "      <td>0.000</td>\n",
       "      <td>0.000</td>\n",
       "      <td>0.000</td>\n",
       "      <td>0.0</td>\n",
       "      <td>stopped</td>\n",
       "    </tr>\n",
       "    <tr>\n",
       "      <th>...</th>\n",
       "      <td>...</td>\n",
       "      <td>...</td>\n",
       "      <td>...</td>\n",
       "      <td>...</td>\n",
       "      <td>...</td>\n",
       "      <td>...</td>\n",
       "      <td>...</td>\n",
       "      <td>...</td>\n",
       "      <td>...</td>\n",
       "      <td>...</td>\n",
       "      <td>...</td>\n",
       "      <td>...</td>\n",
       "      <td>...</td>\n",
       "      <td>...</td>\n",
       "      <td>...</td>\n",
       "      <td>...</td>\n",
       "      <td>...</td>\n",
       "      <td>...</td>\n",
       "      <td>...</td>\n",
       "      <td>...</td>\n",
       "      <td>...</td>\n",
       "    </tr>\n",
       "    <tr>\n",
       "      <th>83988</th>\n",
       "      <td>-0.001</td>\n",
       "      <td>-0.001</td>\n",
       "      <td>-0.007</td>\n",
       "      <td>-0.022</td>\n",
       "      <td>0.021</td>\n",
       "      <td>-0.027</td>\n",
       "      <td>-0.006</td>\n",
       "      <td>0.000</td>\n",
       "      <td>0.000</td>\n",
       "      <td>0.0</td>\n",
       "      <td>...</td>\n",
       "      <td>0.001</td>\n",
       "      <td>-0.005</td>\n",
       "      <td>-0.002</td>\n",
       "      <td>0.0</td>\n",
       "      <td>0.001</td>\n",
       "      <td>0.000</td>\n",
       "      <td>0.000</td>\n",
       "      <td>0.001</td>\n",
       "      <td>0.0</td>\n",
       "      <td>fast</td>\n",
       "    </tr>\n",
       "    <tr>\n",
       "      <th>83989</th>\n",
       "      <td>0.003</td>\n",
       "      <td>-0.001</td>\n",
       "      <td>-0.008</td>\n",
       "      <td>-0.010</td>\n",
       "      <td>-0.010</td>\n",
       "      <td>0.010</td>\n",
       "      <td>-0.004</td>\n",
       "      <td>-0.001</td>\n",
       "      <td>-0.001</td>\n",
       "      <td>0.0</td>\n",
       "      <td>...</td>\n",
       "      <td>0.000</td>\n",
       "      <td>-0.003</td>\n",
       "      <td>-0.003</td>\n",
       "      <td>0.0</td>\n",
       "      <td>0.001</td>\n",
       "      <td>0.001</td>\n",
       "      <td>0.000</td>\n",
       "      <td>0.001</td>\n",
       "      <td>0.0</td>\n",
       "      <td>fast</td>\n",
       "    </tr>\n",
       "    <tr>\n",
       "      <th>83990</th>\n",
       "      <td>0.002</td>\n",
       "      <td>-0.003</td>\n",
       "      <td>-0.009</td>\n",
       "      <td>-0.004</td>\n",
       "      <td>-0.004</td>\n",
       "      <td>0.005</td>\n",
       "      <td>0.008</td>\n",
       "      <td>0.000</td>\n",
       "      <td>0.000</td>\n",
       "      <td>0.0</td>\n",
       "      <td>...</td>\n",
       "      <td>0.001</td>\n",
       "      <td>0.000</td>\n",
       "      <td>-0.004</td>\n",
       "      <td>0.0</td>\n",
       "      <td>0.000</td>\n",
       "      <td>0.001</td>\n",
       "      <td>-0.001</td>\n",
       "      <td>0.002</td>\n",
       "      <td>0.0</td>\n",
       "      <td>fast</td>\n",
       "    </tr>\n",
       "    <tr>\n",
       "      <th>83991</th>\n",
       "      <td>0.002</td>\n",
       "      <td>-0.002</td>\n",
       "      <td>-0.012</td>\n",
       "      <td>0.002</td>\n",
       "      <td>0.003</td>\n",
       "      <td>-0.002</td>\n",
       "      <td>0.006</td>\n",
       "      <td>0.000</td>\n",
       "      <td>0.000</td>\n",
       "      <td>0.0</td>\n",
       "      <td>...</td>\n",
       "      <td>0.001</td>\n",
       "      <td>-0.001</td>\n",
       "      <td>-0.003</td>\n",
       "      <td>0.0</td>\n",
       "      <td>0.001</td>\n",
       "      <td>0.000</td>\n",
       "      <td>-0.002</td>\n",
       "      <td>0.002</td>\n",
       "      <td>0.0</td>\n",
       "      <td>fast</td>\n",
       "    </tr>\n",
       "    <tr>\n",
       "      <th>83992</th>\n",
       "      <td>0.000</td>\n",
       "      <td>-0.002</td>\n",
       "      <td>-0.013</td>\n",
       "      <td>0.001</td>\n",
       "      <td>0.002</td>\n",
       "      <td>-0.002</td>\n",
       "      <td>-0.001</td>\n",
       "      <td>0.000</td>\n",
       "      <td>0.000</td>\n",
       "      <td>0.0</td>\n",
       "      <td>...</td>\n",
       "      <td>0.000</td>\n",
       "      <td>0.000</td>\n",
       "      <td>-0.003</td>\n",
       "      <td>0.0</td>\n",
       "      <td>0.000</td>\n",
       "      <td>-0.001</td>\n",
       "      <td>-0.001</td>\n",
       "      <td>0.002</td>\n",
       "      <td>0.0</td>\n",
       "      <td>fast</td>\n",
       "    </tr>\n",
       "  </tbody>\n",
       "</table>\n",
       "<p>83993 rows × 22 columns</p>\n",
       "</div>"
      ],
      "text/plain": [
       "       e_t_x  e_t_y  e_t_z  e_r_x  e_r_y  e_r_z  e_r_w  d_t_x  d_t_y  d_t_z  \\\n",
       "0      0.000  0.000  0.000  0.000  0.000  0.000  0.000  0.000  0.000    0.0   \n",
       "1      0.000  0.000  0.000  0.000 -0.001  0.000  0.000  0.000  0.000    0.0   \n",
       "2     -0.001  0.000  0.000  0.000  0.001  0.000  0.000 -0.001  0.000    0.0   \n",
       "3      0.000  0.000  0.000  0.000  0.000  0.000  0.000  0.000  0.000    0.0   \n",
       "4      0.000  0.000  0.000  0.000  0.000  0.000  0.000  0.000  0.000    0.0   \n",
       "...      ...    ...    ...    ...    ...    ...    ...    ...    ...    ...   \n",
       "83988 -0.001 -0.001 -0.007 -0.022  0.021 -0.027 -0.006  0.000  0.000    0.0   \n",
       "83989  0.003 -0.001 -0.008 -0.010 -0.010  0.010 -0.004 -0.001 -0.001    0.0   \n",
       "83990  0.002 -0.003 -0.009 -0.004 -0.004  0.005  0.008  0.000  0.000    0.0   \n",
       "83991  0.002 -0.002 -0.012  0.002  0.003 -0.002  0.006  0.000  0.000    0.0   \n",
       "83992  0.000 -0.002 -0.013  0.001  0.002 -0.002 -0.001  0.000  0.000    0.0   \n",
       "\n",
       "       ...  d_r_z  d_r_w  c_t_x  c_t_y  c_t_z  c_r_x  c_r_y  c_r_z  c_r_w  \\\n",
       "0      ...  0.000  0.000  0.000    0.0  0.000  0.000  0.000  0.000    0.0   \n",
       "1      ... -0.001  0.000  0.000    0.0  0.000  0.001  0.000  0.001    0.0   \n",
       "2      ...  0.000  0.000  0.000    0.0  0.000  0.001  0.000  0.000    0.0   \n",
       "3      ...  0.000  0.000  0.000    0.0  0.000  0.000  0.000  0.000    0.0   \n",
       "4      ...  0.000  0.000  0.000    0.0  0.000  0.000  0.000  0.000    0.0   \n",
       "...    ...    ...    ...    ...    ...    ...    ...    ...    ...    ...   \n",
       "83988  ...  0.001 -0.005 -0.002    0.0  0.001  0.000  0.000  0.001    0.0   \n",
       "83989  ...  0.000 -0.003 -0.003    0.0  0.001  0.001  0.000  0.001    0.0   \n",
       "83990  ...  0.001  0.000 -0.004    0.0  0.000  0.001 -0.001  0.002    0.0   \n",
       "83991  ...  0.001 -0.001 -0.003    0.0  0.001  0.000 -0.002  0.002    0.0   \n",
       "83992  ...  0.000  0.000 -0.003    0.0  0.000 -0.001 -0.001  0.002    0.0   \n",
       "\n",
       "         speed  \n",
       "0      stopped  \n",
       "1      stopped  \n",
       "2      stopped  \n",
       "3      stopped  \n",
       "4      stopped  \n",
       "...        ...  \n",
       "83988     fast  \n",
       "83989     fast  \n",
       "83990     fast  \n",
       "83991     fast  \n",
       "83992     fast  \n",
       "\n",
       "[83993 rows x 22 columns]"
      ]
     },
     "execution_count": 104,
     "metadata": {},
     "output_type": "execute_result"
    }
   ],
   "source": [
    "data"
   ]
  },
  {
   "cell_type": "code",
   "execution_count": 105,
   "id": "mlY3B_YnEEtI",
   "metadata": {
    "id": "mlY3B_YnEEtI"
   },
   "outputs": [],
   "source": [
    "result_stop = data[data.speed==\"stopped\"][1:]\n",
    "\n",
    "result_stop.to_csv('data/vel_parada.txt', index=False)"
   ]
  },
  {
   "cell_type": "code",
   "execution_count": 106,
   "id": "NPMH8acmLE7H",
   "metadata": {
    "id": "NPMH8acmLE7H"
   },
   "outputs": [],
   "source": [
    "\n",
    "result_slow = data[data.speed==\"slow\"][1:]\n",
    "result_slow.to_csv('data/vel_media.txt', index=False)"
   ]
  },
  {
   "cell_type": "code",
   "execution_count": 107,
   "id": "wIFLXFdGLFUd",
   "metadata": {
    "colab": {
     "base_uri": "https://localhost:8080/",
     "height": 424
    },
    "id": "wIFLXFdGLFUd",
    "outputId": "9215b27b-4bbe-4ca5-de2e-f5ae1cca9773"
   },
   "outputs": [
    {
     "data": {
      "text/html": [
       "<div>\n",
       "<style scoped>\n",
       "    .dataframe tbody tr th:only-of-type {\n",
       "        vertical-align: middle;\n",
       "    }\n",
       "\n",
       "    .dataframe tbody tr th {\n",
       "        vertical-align: top;\n",
       "    }\n",
       "\n",
       "    .dataframe thead th {\n",
       "        text-align: right;\n",
       "    }\n",
       "</style>\n",
       "<table border=\"1\" class=\"dataframe\">\n",
       "  <thead>\n",
       "    <tr style=\"text-align: right;\">\n",
       "      <th></th>\n",
       "      <th>e_t_x</th>\n",
       "      <th>e_t_y</th>\n",
       "      <th>e_t_z</th>\n",
       "      <th>e_r_x</th>\n",
       "      <th>e_r_y</th>\n",
       "      <th>e_r_z</th>\n",
       "      <th>e_r_w</th>\n",
       "      <th>d_t_x</th>\n",
       "      <th>d_t_y</th>\n",
       "      <th>d_t_z</th>\n",
       "      <th>...</th>\n",
       "      <th>d_r_z</th>\n",
       "      <th>d_r_w</th>\n",
       "      <th>c_t_x</th>\n",
       "      <th>c_t_y</th>\n",
       "      <th>c_t_z</th>\n",
       "      <th>c_r_x</th>\n",
       "      <th>c_r_y</th>\n",
       "      <th>c_r_z</th>\n",
       "      <th>c_r_w</th>\n",
       "      <th>speed</th>\n",
       "    </tr>\n",
       "  </thead>\n",
       "  <tbody>\n",
       "    <tr>\n",
       "      <th>12000</th>\n",
       "      <td>0.000</td>\n",
       "      <td>0.000</td>\n",
       "      <td>0.000</td>\n",
       "      <td>0.000</td>\n",
       "      <td>0.000</td>\n",
       "      <td>0.000</td>\n",
       "      <td>0.000</td>\n",
       "      <td>0.000</td>\n",
       "      <td>0.000</td>\n",
       "      <td>0.000</td>\n",
       "      <td>...</td>\n",
       "      <td>0.000</td>\n",
       "      <td>0.000</td>\n",
       "      <td>0.000</td>\n",
       "      <td>0.000</td>\n",
       "      <td>0.000</td>\n",
       "      <td>0.000</td>\n",
       "      <td>0.000</td>\n",
       "      <td>0.000</td>\n",
       "      <td>0.000</td>\n",
       "      <td>fast</td>\n",
       "    </tr>\n",
       "    <tr>\n",
       "      <th>12001</th>\n",
       "      <td>0.000</td>\n",
       "      <td>0.000</td>\n",
       "      <td>0.000</td>\n",
       "      <td>0.000</td>\n",
       "      <td>0.000</td>\n",
       "      <td>0.000</td>\n",
       "      <td>0.000</td>\n",
       "      <td>0.000</td>\n",
       "      <td>0.000</td>\n",
       "      <td>0.000</td>\n",
       "      <td>...</td>\n",
       "      <td>0.000</td>\n",
       "      <td>0.000</td>\n",
       "      <td>0.000</td>\n",
       "      <td>0.000</td>\n",
       "      <td>0.000</td>\n",
       "      <td>0.000</td>\n",
       "      <td>0.000</td>\n",
       "      <td>0.000</td>\n",
       "      <td>0.000</td>\n",
       "      <td>fast</td>\n",
       "    </tr>\n",
       "    <tr>\n",
       "      <th>12002</th>\n",
       "      <td>0.000</td>\n",
       "      <td>0.000</td>\n",
       "      <td>0.000</td>\n",
       "      <td>0.000</td>\n",
       "      <td>-0.001</td>\n",
       "      <td>0.001</td>\n",
       "      <td>0.000</td>\n",
       "      <td>-0.006</td>\n",
       "      <td>-0.001</td>\n",
       "      <td>-0.016</td>\n",
       "      <td>...</td>\n",
       "      <td>-0.002</td>\n",
       "      <td>-0.002</td>\n",
       "      <td>0.004</td>\n",
       "      <td>-0.001</td>\n",
       "      <td>-0.001</td>\n",
       "      <td>0.003</td>\n",
       "      <td>0.002</td>\n",
       "      <td>-0.006</td>\n",
       "      <td>-0.001</td>\n",
       "      <td>fast</td>\n",
       "    </tr>\n",
       "    <tr>\n",
       "      <th>12003</th>\n",
       "      <td>0.000</td>\n",
       "      <td>0.000</td>\n",
       "      <td>0.000</td>\n",
       "      <td>0.000</td>\n",
       "      <td>0.000</td>\n",
       "      <td>0.000</td>\n",
       "      <td>0.000</td>\n",
       "      <td>0.000</td>\n",
       "      <td>0.000</td>\n",
       "      <td>0.000</td>\n",
       "      <td>...</td>\n",
       "      <td>0.000</td>\n",
       "      <td>0.000</td>\n",
       "      <td>0.000</td>\n",
       "      <td>0.000</td>\n",
       "      <td>0.000</td>\n",
       "      <td>0.000</td>\n",
       "      <td>0.000</td>\n",
       "      <td>0.000</td>\n",
       "      <td>0.000</td>\n",
       "      <td>fast</td>\n",
       "    </tr>\n",
       "    <tr>\n",
       "      <th>12004</th>\n",
       "      <td>0.000</td>\n",
       "      <td>0.000</td>\n",
       "      <td>0.000</td>\n",
       "      <td>0.000</td>\n",
       "      <td>0.000</td>\n",
       "      <td>0.000</td>\n",
       "      <td>0.000</td>\n",
       "      <td>0.000</td>\n",
       "      <td>0.000</td>\n",
       "      <td>0.000</td>\n",
       "      <td>...</td>\n",
       "      <td>0.000</td>\n",
       "      <td>0.000</td>\n",
       "      <td>0.000</td>\n",
       "      <td>0.000</td>\n",
       "      <td>0.000</td>\n",
       "      <td>0.000</td>\n",
       "      <td>0.000</td>\n",
       "      <td>0.000</td>\n",
       "      <td>0.000</td>\n",
       "      <td>fast</td>\n",
       "    </tr>\n",
       "    <tr>\n",
       "      <th>...</th>\n",
       "      <td>...</td>\n",
       "      <td>...</td>\n",
       "      <td>...</td>\n",
       "      <td>...</td>\n",
       "      <td>...</td>\n",
       "      <td>...</td>\n",
       "      <td>...</td>\n",
       "      <td>...</td>\n",
       "      <td>...</td>\n",
       "      <td>...</td>\n",
       "      <td>...</td>\n",
       "      <td>...</td>\n",
       "      <td>...</td>\n",
       "      <td>...</td>\n",
       "      <td>...</td>\n",
       "      <td>...</td>\n",
       "      <td>...</td>\n",
       "      <td>...</td>\n",
       "      <td>...</td>\n",
       "      <td>...</td>\n",
       "      <td>...</td>\n",
       "    </tr>\n",
       "    <tr>\n",
       "      <th>83988</th>\n",
       "      <td>-0.001</td>\n",
       "      <td>-0.001</td>\n",
       "      <td>-0.007</td>\n",
       "      <td>-0.022</td>\n",
       "      <td>0.021</td>\n",
       "      <td>-0.027</td>\n",
       "      <td>-0.006</td>\n",
       "      <td>0.000</td>\n",
       "      <td>0.000</td>\n",
       "      <td>0.000</td>\n",
       "      <td>...</td>\n",
       "      <td>0.001</td>\n",
       "      <td>-0.005</td>\n",
       "      <td>-0.002</td>\n",
       "      <td>0.000</td>\n",
       "      <td>0.001</td>\n",
       "      <td>0.000</td>\n",
       "      <td>0.000</td>\n",
       "      <td>0.001</td>\n",
       "      <td>0.000</td>\n",
       "      <td>fast</td>\n",
       "    </tr>\n",
       "    <tr>\n",
       "      <th>83989</th>\n",
       "      <td>0.003</td>\n",
       "      <td>-0.001</td>\n",
       "      <td>-0.008</td>\n",
       "      <td>-0.010</td>\n",
       "      <td>-0.010</td>\n",
       "      <td>0.010</td>\n",
       "      <td>-0.004</td>\n",
       "      <td>-0.001</td>\n",
       "      <td>-0.001</td>\n",
       "      <td>0.000</td>\n",
       "      <td>...</td>\n",
       "      <td>0.000</td>\n",
       "      <td>-0.003</td>\n",
       "      <td>-0.003</td>\n",
       "      <td>0.000</td>\n",
       "      <td>0.001</td>\n",
       "      <td>0.001</td>\n",
       "      <td>0.000</td>\n",
       "      <td>0.001</td>\n",
       "      <td>0.000</td>\n",
       "      <td>fast</td>\n",
       "    </tr>\n",
       "    <tr>\n",
       "      <th>83990</th>\n",
       "      <td>0.002</td>\n",
       "      <td>-0.003</td>\n",
       "      <td>-0.009</td>\n",
       "      <td>-0.004</td>\n",
       "      <td>-0.004</td>\n",
       "      <td>0.005</td>\n",
       "      <td>0.008</td>\n",
       "      <td>0.000</td>\n",
       "      <td>0.000</td>\n",
       "      <td>0.000</td>\n",
       "      <td>...</td>\n",
       "      <td>0.001</td>\n",
       "      <td>0.000</td>\n",
       "      <td>-0.004</td>\n",
       "      <td>0.000</td>\n",
       "      <td>0.000</td>\n",
       "      <td>0.001</td>\n",
       "      <td>-0.001</td>\n",
       "      <td>0.002</td>\n",
       "      <td>0.000</td>\n",
       "      <td>fast</td>\n",
       "    </tr>\n",
       "    <tr>\n",
       "      <th>83991</th>\n",
       "      <td>0.002</td>\n",
       "      <td>-0.002</td>\n",
       "      <td>-0.012</td>\n",
       "      <td>0.002</td>\n",
       "      <td>0.003</td>\n",
       "      <td>-0.002</td>\n",
       "      <td>0.006</td>\n",
       "      <td>0.000</td>\n",
       "      <td>0.000</td>\n",
       "      <td>0.000</td>\n",
       "      <td>...</td>\n",
       "      <td>0.001</td>\n",
       "      <td>-0.001</td>\n",
       "      <td>-0.003</td>\n",
       "      <td>0.000</td>\n",
       "      <td>0.001</td>\n",
       "      <td>0.000</td>\n",
       "      <td>-0.002</td>\n",
       "      <td>0.002</td>\n",
       "      <td>0.000</td>\n",
       "      <td>fast</td>\n",
       "    </tr>\n",
       "    <tr>\n",
       "      <th>83992</th>\n",
       "      <td>0.000</td>\n",
       "      <td>-0.002</td>\n",
       "      <td>-0.013</td>\n",
       "      <td>0.001</td>\n",
       "      <td>0.002</td>\n",
       "      <td>-0.002</td>\n",
       "      <td>-0.001</td>\n",
       "      <td>0.000</td>\n",
       "      <td>0.000</td>\n",
       "      <td>0.000</td>\n",
       "      <td>...</td>\n",
       "      <td>0.000</td>\n",
       "      <td>0.000</td>\n",
       "      <td>-0.003</td>\n",
       "      <td>0.000</td>\n",
       "      <td>0.000</td>\n",
       "      <td>-0.001</td>\n",
       "      <td>-0.001</td>\n",
       "      <td>0.002</td>\n",
       "      <td>0.000</td>\n",
       "      <td>fast</td>\n",
       "    </tr>\n",
       "  </tbody>\n",
       "</table>\n",
       "<p>23997 rows × 22 columns</p>\n",
       "</div>"
      ],
      "text/plain": [
       "       e_t_x  e_t_y  e_t_z  e_r_x  e_r_y  e_r_z  e_r_w  d_t_x  d_t_y  d_t_z  \\\n",
       "12000  0.000  0.000  0.000  0.000  0.000  0.000  0.000  0.000  0.000  0.000   \n",
       "12001  0.000  0.000  0.000  0.000  0.000  0.000  0.000  0.000  0.000  0.000   \n",
       "12002  0.000  0.000  0.000  0.000 -0.001  0.001  0.000 -0.006 -0.001 -0.016   \n",
       "12003  0.000  0.000  0.000  0.000  0.000  0.000  0.000  0.000  0.000  0.000   \n",
       "12004  0.000  0.000  0.000  0.000  0.000  0.000  0.000  0.000  0.000  0.000   \n",
       "...      ...    ...    ...    ...    ...    ...    ...    ...    ...    ...   \n",
       "83988 -0.001 -0.001 -0.007 -0.022  0.021 -0.027 -0.006  0.000  0.000  0.000   \n",
       "83989  0.003 -0.001 -0.008 -0.010 -0.010  0.010 -0.004 -0.001 -0.001  0.000   \n",
       "83990  0.002 -0.003 -0.009 -0.004 -0.004  0.005  0.008  0.000  0.000  0.000   \n",
       "83991  0.002 -0.002 -0.012  0.002  0.003 -0.002  0.006  0.000  0.000  0.000   \n",
       "83992  0.000 -0.002 -0.013  0.001  0.002 -0.002 -0.001  0.000  0.000  0.000   \n",
       "\n",
       "       ...  d_r_z  d_r_w  c_t_x  c_t_y  c_t_z  c_r_x  c_r_y  c_r_z  c_r_w  \\\n",
       "12000  ...  0.000  0.000  0.000  0.000  0.000  0.000  0.000  0.000  0.000   \n",
       "12001  ...  0.000  0.000  0.000  0.000  0.000  0.000  0.000  0.000  0.000   \n",
       "12002  ... -0.002 -0.002  0.004 -0.001 -0.001  0.003  0.002 -0.006 -0.001   \n",
       "12003  ...  0.000  0.000  0.000  0.000  0.000  0.000  0.000  0.000  0.000   \n",
       "12004  ...  0.000  0.000  0.000  0.000  0.000  0.000  0.000  0.000  0.000   \n",
       "...    ...    ...    ...    ...    ...    ...    ...    ...    ...    ...   \n",
       "83988  ...  0.001 -0.005 -0.002  0.000  0.001  0.000  0.000  0.001  0.000   \n",
       "83989  ...  0.000 -0.003 -0.003  0.000  0.001  0.001  0.000  0.001  0.000   \n",
       "83990  ...  0.001  0.000 -0.004  0.000  0.000  0.001 -0.001  0.002  0.000   \n",
       "83991  ...  0.001 -0.001 -0.003  0.000  0.001  0.000 -0.002  0.002  0.000   \n",
       "83992  ...  0.000  0.000 -0.003  0.000  0.000 -0.001 -0.001  0.002  0.000   \n",
       "\n",
       "       speed  \n",
       "12000   fast  \n",
       "12001   fast  \n",
       "12002   fast  \n",
       "12003   fast  \n",
       "12004   fast  \n",
       "...      ...  \n",
       "83988   fast  \n",
       "83989   fast  \n",
       "83990   fast  \n",
       "83991   fast  \n",
       "83992   fast  \n",
       "\n",
       "[23997 rows x 22 columns]"
      ]
     },
     "execution_count": 107,
     "metadata": {},
     "output_type": "execute_result"
    }
   ],
   "source": [
    "result_fast = data[data.speed==\"fast\"][1:]\n",
    "result_fast.to_csv('data/vel_rapida.txt', index=False)\n",
    "result_fast"
   ]
  },
  {
   "cell_type": "code",
   "execution_count": 132,
   "id": "c9e9560b-749a-49a8-aedf-44a1ac9b4bb1",
   "metadata": {
    "id": "c9e9560b-749a-49a8-aedf-44a1ac9b4bb1"
   },
   "outputs": [],
   "source": [
    "# Loading pipeline params.\n",
    "DATA_PATH = Path('data')\n",
    "FILENAME_FAST = 'vel_rapida.txt'\n",
    "FILENAME_SLOW = 'vel_media.txt'\n",
    "FILENAME_STOP = 'vel_parada.txt'\n",
    "NUM_TIMESTEPS = 8\n",
    "IGNORE_FRACTION = 0.1\n",
    "TEST_FRACTION = 0.25\n",
    "\n",
    "# Training params.\n",
    "LEARNING_RATE = 1e-4\n",
    "EPOCHS = 100\n",
    "BATCH_SIZE = 1024"
   ]
  },
  {
   "cell_type": "code",
   "execution_count": 133,
   "id": "7f52716d-1339-4484-9fd3-d5206979ba8e",
   "metadata": {
    "id": "7f52716d-1339-4484-9fd3-d5206979ba8e"
   },
   "outputs": [],
   "source": [
    "def load_data(\n",
    "    path_stop,\n",
    "    path_fast,\n",
    "    path_slow,\n",
    "    num_timesteps,\n",
    "    ignore_fraction,\n",
    "    test_fraction,\n",
    "):\n",
    "\n",
    "    def read_and_prepare_data(\n",
    "        path,\n",
    "        class_,\n",
    "        num_timesteps,\n",
    "        ignore_fraction,\n",
    "        test_fraction,\n",
    "    ):\n",
    "\n",
    "        def split_temporally(X, test_fraction):\n",
    "            num_samples = X.shape[0]\n",
    "            num_train = int(num_samples * (1.0 - test_fraction))\n",
    "            X_train, X_test = X[:num_train], X[num_train:]\n",
    "            return X_train, X_test\n",
    "\n",
    "        def transform_into_sequences(X, num_timesteps):\n",
    "            num_samples = X.shape[0]\n",
    "            X_seq = []\n",
    "            for k in range(num_samples - num_timesteps + 1):\n",
    "                X_seq.append(X[k:(k + num_timesteps)])\n",
    "            X_seq = np.array(X_seq)\n",
    "            y_seq = class_ * np.ones((X_seq.shape[0], 1))\n",
    "            return X_seq, y_seq\n",
    "\n",
    "        X = pd.read_csv(path).values\n",
    "        X = X[:, [0,1,2,7,8,9]]  # Use only feet translations.\n",
    "\n",
    "        # Ignore beginning and end.\n",
    "        num_samples = X.shape[0]\n",
    "        num_ignore = int(ignore_fraction * num_samples)\n",
    "        X = X[num_ignore:-num_ignore]\n",
    "\n",
    "        # Split X temporally.\n",
    "        X_train, X_test = split_temporally(X, test_fraction)\n",
    "\n",
    "        # Transform X into short sequences.\n",
    "        X_train, y_train = transform_into_sequences(X_train, num_timesteps)\n",
    "        X_test, y_test = transform_into_sequences(X_test, num_timesteps)\n",
    "\n",
    "        return X_train, y_train, X_test, y_test\n",
    "\n",
    "    def shuffle_data(X, y):\n",
    "        idx = np.arange(len(X))\n",
    "        default_rng().shuffle(idx)\n",
    "        X_shuffled = X[idx, :]\n",
    "        y_shuffled = y[idx]\n",
    "        return X_shuffled, y_shuffled\n",
    "\n",
    "    X_train_fast, y_train_fast, X_test_fast, y_test_fast = \\\n",
    "        read_and_prepare_data(\n",
    "            path_fast,\n",
    "            2.0,\n",
    "            num_timesteps,\n",
    "            ignore_fraction,\n",
    "            test_fraction,\n",
    "        )\n",
    "\n",
    "    X_train_stop, y_train_stop, X_test_stop, y_test_stop = \\\n",
    "        read_and_prepare_data(\n",
    "            path_stop,\n",
    "            0.0,\n",
    "            num_timesteps,\n",
    "            ignore_fraction,\n",
    "            test_fraction,\n",
    "        )\n",
    "    X_train_slow, y_train_slow, X_test_slow, y_test_slow = \\\n",
    "        read_and_prepare_data(\n",
    "            path_slow,\n",
    "            1.0,\n",
    "            num_timesteps,\n",
    "            ignore_fraction,\n",
    "            test_fraction,\n",
    "        )\n",
    "\n",
    "    X_train = np.concatenate((X_train_fast, X_train_slow, X_train_stop), axis=0)\n",
    "    y_train = np.concatenate((y_train_fast, y_train_slow, y_train_stop), axis=0)\n",
    "    X_test = np.concatenate((X_test_fast, X_test_slow, X_test_stop), axis=0)\n",
    "    y_test = np.concatenate((y_test_fast, y_test_slow, y_test_stop), axis=0)\n",
    "\n",
    "    X_train, y_train = shuffle_data(X_train, y_train)\n",
    "    X_test, y_test = shuffle_data(X_test, y_test)\n",
    "\n",
    "    return X_train, X_test, y_train, y_test\n",
    "\n",
    "\n",
    "path_fast = Path(DATA_PATH, FILENAME_FAST)\n",
    "path_slow = Path(DATA_PATH, FILENAME_SLOW)\n",
    "path_stop = Path(DATA_PATH, FILENAME_STOP)\n",
    "X_train, X_test, y_train, y_test = load_data(\n",
    "    path_stop,\n",
    "    path_fast,\n",
    "    path_slow,\n",
    "    NUM_TIMESTEPS,\n",
    "    IGNORE_FRACTION,\n",
    "    TEST_FRACTION,\n",
    ")"
   ]
  },
  {
   "cell_type": "code",
   "execution_count": 134,
   "id": "99c35712-1089-44f3-89ef-ed471b144c96",
   "metadata": {
    "colab": {
     "base_uri": "https://localhost:8080/"
    },
    "id": "99c35712-1089-44f3-89ef-ed471b144c96",
    "outputId": "9076061a-8661-4d2e-c1ed-887a92ec640b"
   },
   "outputs": [
    {
     "data": {
      "text/plain": [
       "((50375, 8, 6), (50375, 1), (16779, 8, 6), (16779, 1))"
      ]
     },
     "execution_count": 134,
     "metadata": {},
     "output_type": "execute_result"
    }
   ],
   "source": [
    "X_train.shape, y_train.shape, X_test.shape, y_test.shape"
   ]
  },
  {
   "cell_type": "code",
   "execution_count": 135,
   "id": "321daf53",
   "metadata": {},
   "outputs": [
    {
     "data": {
      "text/plain": [
       "array([[0.001, 0.0, -0.001, -0.001, 0.0, 0.001],\n",
       "       [0.0, 0.0, 0.0, 0.0, 0.0, 0.0],\n",
       "       [0.0, 0.0, 0.0, 0.0, 0.0, 0.0],\n",
       "       [0.0, 0.0, 0.0, 0.0, 0.0, 0.0],\n",
       "       [0.0, 0.0, 0.0, 0.0, 0.0, 0.0],\n",
       "       [0.0, 0.0, -0.001, 0.005, 0.003, 0.022],\n",
       "       [-0.002, 0.0, 0.0, -0.001, -0.019, 0.003],\n",
       "       [0.0, 0.0, 0.001, -0.002, -0.009, -0.008]], dtype=object)"
      ]
     },
     "execution_count": 135,
     "metadata": {},
     "output_type": "execute_result"
    }
   ],
   "source": [
    "X_train[0]"
   ]
  },
  {
   "cell_type": "code",
   "execution_count": 136,
   "id": "3a85634b-4e9c-45b8-b456-cb970457302f",
   "metadata": {
    "id": "3a85634b-4e9c-45b8-b456-cb970457302f"
   },
   "outputs": [],
   "source": [
    "from functools import partial\n",
    "\n",
    "_, num_time, num_feat = X_train.shape\n",
    "\n",
    "activation = 'selu'\n",
    "\n",
    "DefaultConv1D = partial(\n",
    "    keras.layers.Conv1D,\n",
    "    kernel_size=1,\n",
    "    activation=activation,\n",
    "    padding=\"valid\",\n",
    ")\n",
    "\n",
    "model = keras.models.Sequential([\n",
    "    DefaultConv1D(4 * num_feat, kernel_size=4, input_shape=[num_time, num_feat]),\n",
    "    keras.layers.BatchNormalization(),\n",
    "    DefaultConv1D(num_feat, kernel_size=2),\n",
    "    keras.layers.Flatten(),\n",
    "    keras.layers.BatchNormalization(),\n",
    "    keras.layers.Dense(num_time * num_feat, activation=activation),\n",
    "    keras.layers.BatchNormalization(),\n",
    "    keras.layers.Dense(num_feat, activation=activation),\n",
    "    keras.layers.BatchNormalization(),\n",
    "    keras.layers.Dense(3, activation='softmax'),\n",
    "])"
   ]
  },
  {
   "cell_type": "code",
   "execution_count": 137,
   "id": "j0C2RSxICKzq",
   "metadata": {
    "colab": {
     "base_uri": "https://localhost:8080/"
    },
    "id": "j0C2RSxICKzq",
    "outputId": "af853522-fdf6-40e4-8d0e-cd2a6dcdab9b"
   },
   "outputs": [
    {
     "name": "stderr",
     "output_type": "stream",
     "text": [
      "/var/folders/0t/r6pd3gzs67n8rkyyt6l75dy80000gn/T/ipykernel_757/1231226972.py:1: DeprecationWarning: `np.float` is a deprecated alias for the builtin `float`. To silence this warning, use `float` by itself. Doing this will not modify any behavior and is safe. If you specifically wanted the numpy scalar type, use `np.float64` here.\n",
      "Deprecated in NumPy 1.20; for more details and guidance: https://numpy.org/devdocs/release/1.20.0-notes.html#deprecations\n",
      "  X_train=np.array(X_train, dtype=np.float)\n",
      "/var/folders/0t/r6pd3gzs67n8rkyyt6l75dy80000gn/T/ipykernel_757/1231226972.py:2: DeprecationWarning: `np.float` is a deprecated alias for the builtin `float`. To silence this warning, use `float` by itself. Doing this will not modify any behavior and is safe. If you specifically wanted the numpy scalar type, use `np.float64` here.\n",
      "Deprecated in NumPy 1.20; for more details and guidance: https://numpy.org/devdocs/release/1.20.0-notes.html#deprecations\n",
      "  y_train=np.array(y_train, dtype=np.float)\n",
      "/var/folders/0t/r6pd3gzs67n8rkyyt6l75dy80000gn/T/ipykernel_757/1231226972.py:3: DeprecationWarning: `np.float` is a deprecated alias for the builtin `float`. To silence this warning, use `float` by itself. Doing this will not modify any behavior and is safe. If you specifically wanted the numpy scalar type, use `np.float64` here.\n",
      "Deprecated in NumPy 1.20; for more details and guidance: https://numpy.org/devdocs/release/1.20.0-notes.html#deprecations\n",
      "  X_test=np.array(X_test, dtype=np.float)\n",
      "/var/folders/0t/r6pd3gzs67n8rkyyt6l75dy80000gn/T/ipykernel_757/1231226972.py:4: DeprecationWarning: `np.float` is a deprecated alias for the builtin `float`. To silence this warning, use `float` by itself. Doing this will not modify any behavior and is safe. If you specifically wanted the numpy scalar type, use `np.float64` here.\n",
      "Deprecated in NumPy 1.20; for more details and guidance: https://numpy.org/devdocs/release/1.20.0-notes.html#deprecations\n",
      "  y_test=np.array(y_test, dtype=np.float)\n"
     ]
    }
   ],
   "source": [
    "X_train=np.array(X_train, dtype=np.float)\n",
    "y_train=np.array(y_train, dtype=np.float)\n",
    "X_test=np.array(X_test, dtype=np.float)\n",
    "y_test=np.array(y_test, dtype=np.float)"
   ]
  },
  {
   "cell_type": "code",
   "execution_count": 138,
   "id": "7baf8970-5318-4461-b828-d34c232afa5f",
   "metadata": {
    "colab": {
     "base_uri": "https://localhost:8080/"
    },
    "id": "7baf8970-5318-4461-b828-d34c232afa5f",
    "outputId": "08a66cc8-aeee-42ba-f039-9dfa2ba6f99e"
   },
   "outputs": [
    {
     "name": "stdout",
     "output_type": "stream",
     "text": [
      "Model: \"sequential_13\"\n",
      "_________________________________________________________________\n",
      " Layer (type)                Output Shape              Param #   \n",
      "=================================================================\n",
      " conv1d_26 (Conv1D)          (None, 5, 24)             600       \n",
      "                                                                 \n",
      " batch_normalization_52 (Bat  (None, 5, 24)            96        \n",
      " chNormalization)                                                \n",
      "                                                                 \n",
      " conv1d_27 (Conv1D)          (None, 4, 6)              294       \n",
      "                                                                 \n",
      " flatten_13 (Flatten)        (None, 24)                0         \n",
      "                                                                 \n",
      " batch_normalization_53 (Bat  (None, 24)               96        \n",
      " chNormalization)                                                \n",
      "                                                                 \n",
      " dense_39 (Dense)            (None, 48)                1200      \n",
      "                                                                 \n",
      " batch_normalization_54 (Bat  (None, 48)               192       \n",
      " chNormalization)                                                \n",
      "                                                                 \n",
      " dense_40 (Dense)            (None, 6)                 294       \n",
      "                                                                 \n",
      " batch_normalization_55 (Bat  (None, 6)                24        \n",
      " chNormalization)                                                \n",
      "                                                                 \n",
      " dense_41 (Dense)            (None, 3)                 21        \n",
      "                                                                 \n",
      "=================================================================\n",
      "Total params: 2,817\n",
      "Trainable params: 2,613\n",
      "Non-trainable params: 204\n",
      "_________________________________________________________________\n"
     ]
    }
   ],
   "source": [
    "model.summary()"
   ]
  },
  {
   "cell_type": "code",
   "execution_count": 142,
   "id": "70de8d27-4ff5-4dce-b45f-675dcc74513e",
   "metadata": {
    "colab": {
     "base_uri": "https://localhost:8080/"
    },
    "id": "70de8d27-4ff5-4dce-b45f-675dcc74513e",
    "outputId": "7211ef5c-5b4a-4afb-ad4f-7341eeb8f0f8"
   },
   "outputs": [
    {
     "name": "stdout",
     "output_type": "stream",
     "text": [
      "Epoch 1/100\n",
      "50/50 [==============================] - 5s 31ms/step - loss: 0.3712 - accuracy: 0.8459 - val_loss: 0.7713 - val_accuracy: 0.6421\n",
      "Epoch 2/100\n",
      "50/50 [==============================] - 1s 20ms/step - loss: 0.3699 - accuracy: 0.8460 - val_loss: 0.6001 - val_accuracy: 0.7142\n",
      "Epoch 3/100\n",
      "50/50 [==============================] - 1s 19ms/step - loss: 0.3700 - accuracy: 0.8454 - val_loss: 0.5802 - val_accuracy: 0.7260\n",
      "Epoch 4/100\n",
      "50/50 [==============================] - 1s 19ms/step - loss: 0.3691 - accuracy: 0.8460 - val_loss: 0.6570 - val_accuracy: 0.6921\n",
      "Epoch 5/100\n",
      "50/50 [==============================] - 1s 20ms/step - loss: 0.3707 - accuracy: 0.8449 - val_loss: 0.6084 - val_accuracy: 0.7245\n",
      "Epoch 6/100\n",
      "50/50 [==============================] - 1s 20ms/step - loss: 0.3697 - accuracy: 0.8452 - val_loss: 0.6005 - val_accuracy: 0.7307\n",
      "Epoch 7/100\n",
      "50/50 [==============================] - 1s 20ms/step - loss: 0.3702 - accuracy: 0.8456 - val_loss: 0.6564 - val_accuracy: 0.6884\n",
      "Epoch 8/100\n",
      "50/50 [==============================] - 1s 21ms/step - loss: 0.3704 - accuracy: 0.8465 - val_loss: 0.5882 - val_accuracy: 0.7149\n",
      "Epoch 9/100\n",
      "50/50 [==============================] - 1s 21ms/step - loss: 0.3687 - accuracy: 0.8460 - val_loss: 0.6411 - val_accuracy: 0.6952\n",
      "Epoch 10/100\n",
      "50/50 [==============================] - 1s 22ms/step - loss: 0.3695 - accuracy: 0.8460 - val_loss: 0.5812 - val_accuracy: 0.7286\n",
      "Epoch 11/100\n",
      "50/50 [==============================] - 1s 21ms/step - loss: 0.3689 - accuracy: 0.8463 - val_loss: 0.6525 - val_accuracy: 0.6910\n",
      "Epoch 12/100\n",
      "50/50 [==============================] - 1s 21ms/step - loss: 0.3694 - accuracy: 0.8454 - val_loss: 0.7856 - val_accuracy: 0.6480\n",
      "Epoch 13/100\n",
      "50/50 [==============================] - 1s 22ms/step - loss: 0.3688 - accuracy: 0.8467 - val_loss: 0.7443 - val_accuracy: 0.6620\n",
      "Epoch 14/100\n",
      "50/50 [==============================] - 1s 21ms/step - loss: 0.3682 - accuracy: 0.8471 - val_loss: 0.7407 - val_accuracy: 0.6588\n",
      "Epoch 15/100\n",
      "50/50 [==============================] - 1s 22ms/step - loss: 0.3675 - accuracy: 0.8469 - val_loss: 0.6083 - val_accuracy: 0.7030\n",
      "Epoch 16/100\n",
      "50/50 [==============================] - 1s 22ms/step - loss: 0.3682 - accuracy: 0.8469 - val_loss: 0.6511 - val_accuracy: 0.6938\n",
      "Epoch 17/100\n",
      "50/50 [==============================] - 1s 21ms/step - loss: 0.3686 - accuracy: 0.8469 - val_loss: 0.5723 - val_accuracy: 0.7210\n",
      "Epoch 18/100\n",
      "50/50 [==============================] - 1s 20ms/step - loss: 0.3673 - accuracy: 0.8474 - val_loss: 0.7537 - val_accuracy: 0.6614\n",
      "Epoch 19/100\n",
      "50/50 [==============================] - 1s 23ms/step - loss: 0.3669 - accuracy: 0.8476 - val_loss: 0.5967 - val_accuracy: 0.7092\n",
      "Epoch 20/100\n",
      "50/50 [==============================] - 1s 21ms/step - loss: 0.3687 - accuracy: 0.8470 - val_loss: 0.6180 - val_accuracy: 0.7043\n",
      "Epoch 21/100\n",
      "50/50 [==============================] - 1s 20ms/step - loss: 0.3682 - accuracy: 0.8464 - val_loss: 0.6216 - val_accuracy: 0.7048\n",
      "Epoch 22/100\n",
      "50/50 [==============================] - 1s 21ms/step - loss: 0.3687 - accuracy: 0.8462 - val_loss: 0.5844 - val_accuracy: 0.7258\n",
      "Epoch 23/100\n",
      "50/50 [==============================] - 1s 22ms/step - loss: 0.3676 - accuracy: 0.8467 - val_loss: 0.5803 - val_accuracy: 0.7239\n",
      "Epoch 24/100\n",
      "50/50 [==============================] - 1s 21ms/step - loss: 0.3680 - accuracy: 0.8470 - val_loss: 0.6042 - val_accuracy: 0.7151\n",
      "Epoch 25/100\n",
      "50/50 [==============================] - 1s 26ms/step - loss: 0.3682 - accuracy: 0.8478 - val_loss: 0.7866 - val_accuracy: 0.6375\n",
      "Epoch 26/100\n",
      "50/50 [==============================] - 1s 24ms/step - loss: 0.3675 - accuracy: 0.8476 - val_loss: 0.5770 - val_accuracy: 0.7217\n",
      "Epoch 27/100\n",
      "50/50 [==============================] - 1s 21ms/step - loss: 0.3671 - accuracy: 0.8456 - val_loss: 0.5850 - val_accuracy: 0.7134\n",
      "Epoch 28/100\n",
      "50/50 [==============================] - 1s 21ms/step - loss: 0.3675 - accuracy: 0.8475 - val_loss: 0.5985 - val_accuracy: 0.7112\n",
      "Epoch 29/100\n",
      "50/50 [==============================] - 1s 21ms/step - loss: 0.3674 - accuracy: 0.8476 - val_loss: 0.5912 - val_accuracy: 0.7197\n",
      "Epoch 30/100\n",
      "50/50 [==============================] - 1s 21ms/step - loss: 0.3673 - accuracy: 0.8472 - val_loss: 0.7586 - val_accuracy: 0.6590\n",
      "Epoch 31/100\n",
      "50/50 [==============================] - 1s 21ms/step - loss: 0.3669 - accuracy: 0.8484 - val_loss: 0.7443 - val_accuracy: 0.6636\n",
      "Epoch 32/100\n",
      "50/50 [==============================] - 1s 21ms/step - loss: 0.3667 - accuracy: 0.8464 - val_loss: 0.7047 - val_accuracy: 0.6972\n",
      "Epoch 33/100\n",
      "50/50 [==============================] - 1s 21ms/step - loss: 0.3666 - accuracy: 0.8467 - val_loss: 0.6777 - val_accuracy: 0.6868\n",
      "Epoch 34/100\n",
      "50/50 [==============================] - 1s 21ms/step - loss: 0.3660 - accuracy: 0.8478 - val_loss: 0.6391 - val_accuracy: 0.7260\n",
      "Epoch 35/100\n",
      "50/50 [==============================] - 1s 23ms/step - loss: 0.3655 - accuracy: 0.8484 - val_loss: 0.6591 - val_accuracy: 0.6900\n",
      "Epoch 36/100\n",
      "50/50 [==============================] - 1s 18ms/step - loss: 0.3679 - accuracy: 0.8463 - val_loss: 0.6516 - val_accuracy: 0.6904\n",
      "Epoch 37/100\n",
      "50/50 [==============================] - 1s 20ms/step - loss: 0.3668 - accuracy: 0.8478 - val_loss: 0.6656 - val_accuracy: 0.7206\n",
      "Epoch 38/100\n",
      "50/50 [==============================] - 1s 19ms/step - loss: 0.3659 - accuracy: 0.8476 - val_loss: 0.9539 - val_accuracy: 0.6139\n",
      "Epoch 39/100\n",
      "50/50 [==============================] - 1s 19ms/step - loss: 0.3665 - accuracy: 0.8474 - val_loss: 0.5771 - val_accuracy: 0.7188\n",
      "Epoch 40/100\n",
      "50/50 [==============================] - 1s 20ms/step - loss: 0.3657 - accuracy: 0.8485 - val_loss: 0.7149 - val_accuracy: 0.6741\n",
      "Epoch 41/100\n",
      "50/50 [==============================] - 1s 19ms/step - loss: 0.3655 - accuracy: 0.8480 - val_loss: 0.5705 - val_accuracy: 0.7254\n",
      "Epoch 42/100\n",
      "50/50 [==============================] - 1s 19ms/step - loss: 0.3644 - accuracy: 0.8485 - val_loss: 0.6693 - val_accuracy: 0.6784\n",
      "Epoch 43/100\n",
      "50/50 [==============================] - 1s 19ms/step - loss: 0.3659 - accuracy: 0.8481 - val_loss: 0.7203 - val_accuracy: 0.6680\n",
      "Epoch 44/100\n",
      "50/50 [==============================] - 1s 19ms/step - loss: 0.3647 - accuracy: 0.8472 - val_loss: 0.8159 - val_accuracy: 0.6468\n",
      "Epoch 45/100\n",
      "50/50 [==============================] - 1s 19ms/step - loss: 0.3653 - accuracy: 0.8468 - val_loss: 0.7360 - val_accuracy: 0.6586\n",
      "Epoch 46/100\n",
      "50/50 [==============================] - 1s 20ms/step - loss: 0.3667 - accuracy: 0.8469 - val_loss: 0.7560 - val_accuracy: 0.6642\n",
      "Epoch 47/100\n",
      "50/50 [==============================] - 1s 21ms/step - loss: 0.3644 - accuracy: 0.8484 - val_loss: 0.6917 - val_accuracy: 0.6826\n",
      "Epoch 48/100\n",
      "50/50 [==============================] - 1s 21ms/step - loss: 0.3639 - accuracy: 0.8492 - val_loss: 0.5810 - val_accuracy: 0.7221\n",
      "Epoch 49/100\n",
      "50/50 [==============================] - 1s 19ms/step - loss: 0.3650 - accuracy: 0.8487 - val_loss: 0.6764 - val_accuracy: 0.6848\n",
      "Epoch 50/100\n",
      "50/50 [==============================] - 1s 19ms/step - loss: 0.3652 - accuracy: 0.8488 - val_loss: 0.7566 - val_accuracy: 0.6616\n",
      "Epoch 51/100\n",
      "50/50 [==============================] - 1s 20ms/step - loss: 0.3638 - accuracy: 0.8483 - val_loss: 0.5923 - val_accuracy: 0.7302\n",
      "Epoch 52/100\n",
      "50/50 [==============================] - 1s 20ms/step - loss: 0.3642 - accuracy: 0.8487 - val_loss: 0.6125 - val_accuracy: 0.7051\n",
      "Epoch 53/100\n",
      "50/50 [==============================] - 1s 21ms/step - loss: 0.3640 - accuracy: 0.8491 - val_loss: 1.0279 - val_accuracy: 0.3726\n",
      "Epoch 54/100\n",
      "50/50 [==============================] - 1s 18ms/step - loss: 0.3640 - accuracy: 0.8492 - val_loss: 1.0589 - val_accuracy: 0.3610\n",
      "Epoch 55/100\n",
      "50/50 [==============================] - 1s 19ms/step - loss: 0.3644 - accuracy: 0.8491 - val_loss: 0.5929 - val_accuracy: 0.7119\n",
      "Epoch 56/100\n",
      "50/50 [==============================] - 1s 21ms/step - loss: 0.3643 - accuracy: 0.8490 - val_loss: 0.6296 - val_accuracy: 0.6993\n",
      "Epoch 57/100\n",
      "50/50 [==============================] - 1s 20ms/step - loss: 0.3640 - accuracy: 0.8481 - val_loss: 0.5996 - val_accuracy: 0.7176\n",
      "Epoch 58/100\n"
     ]
    },
    {
     "name": "stdout",
     "output_type": "stream",
     "text": [
      "50/50 [==============================] - 1s 19ms/step - loss: 0.3643 - accuracy: 0.8485 - val_loss: 0.6173 - val_accuracy: 0.7018\n",
      "Epoch 59/100\n",
      "50/50 [==============================] - 1s 18ms/step - loss: 0.3641 - accuracy: 0.8490 - val_loss: 0.7270 - val_accuracy: 0.6698\n",
      "Epoch 60/100\n",
      "50/50 [==============================] - 1s 21ms/step - loss: 0.3628 - accuracy: 0.8489 - val_loss: 0.6403 - val_accuracy: 0.6915\n",
      "Epoch 61/100\n",
      "50/50 [==============================] - 1s 18ms/step - loss: 0.3635 - accuracy: 0.8483 - val_loss: 0.8318 - val_accuracy: 0.6386\n",
      "Epoch 62/100\n",
      "50/50 [==============================] - 1s 19ms/step - loss: 0.3647 - accuracy: 0.8492 - val_loss: 1.4053 - val_accuracy: 0.3628\n",
      "Epoch 63/100\n",
      "50/50 [==============================] - 1s 20ms/step - loss: 0.3638 - accuracy: 0.8488 - val_loss: 0.8766 - val_accuracy: 0.5172\n",
      "Epoch 64/100\n",
      "50/50 [==============================] - 1s 19ms/step - loss: 0.3638 - accuracy: 0.8488 - val_loss: 1.0043 - val_accuracy: 0.3780\n",
      "Epoch 65/100\n",
      "50/50 [==============================] - 1s 19ms/step - loss: 0.3632 - accuracy: 0.8500 - val_loss: 0.6109 - val_accuracy: 0.7080\n",
      "Epoch 66/100\n",
      "50/50 [==============================] - 1s 19ms/step - loss: 0.3633 - accuracy: 0.8486 - val_loss: 0.6060 - val_accuracy: 0.7076\n",
      "Epoch 67/100\n",
      "50/50 [==============================] - 1s 18ms/step - loss: 0.3627 - accuracy: 0.8493 - val_loss: 0.7228 - val_accuracy: 0.6720\n",
      "Epoch 68/100\n",
      "50/50 [==============================] - 1s 20ms/step - loss: 0.3629 - accuracy: 0.8496 - val_loss: 0.7984 - val_accuracy: 0.6164\n",
      "Epoch 69/100\n",
      "50/50 [==============================] - 1s 21ms/step - loss: 0.3632 - accuracy: 0.8495 - val_loss: 0.6928 - val_accuracy: 0.6697\n",
      "Epoch 70/100\n",
      "50/50 [==============================] - 1s 18ms/step - loss: 0.3631 - accuracy: 0.8494 - val_loss: 0.6701 - val_accuracy: 0.6893\n",
      "Epoch 71/100\n",
      "50/50 [==============================] - 1s 19ms/step - loss: 0.3618 - accuracy: 0.8507 - val_loss: 0.5851 - val_accuracy: 0.7151\n",
      "Epoch 72/100\n",
      "50/50 [==============================] - 1s 23ms/step - loss: 0.3618 - accuracy: 0.8496 - val_loss: 0.7737 - val_accuracy: 0.6516\n",
      "Epoch 73/100\n",
      "50/50 [==============================] - 1s 25ms/step - loss: 0.3634 - accuracy: 0.8486 - val_loss: 0.6074 - val_accuracy: 0.7068\n",
      "Epoch 74/100\n",
      "50/50 [==============================] - 1s 25ms/step - loss: 0.3612 - accuracy: 0.8507 - val_loss: 0.6205 - val_accuracy: 0.7334\n",
      "Epoch 75/100\n",
      "50/50 [==============================] - 1s 21ms/step - loss: 0.3623 - accuracy: 0.8494 - val_loss: 0.5954 - val_accuracy: 0.7106\n",
      "Epoch 76/100\n",
      "50/50 [==============================] - 1s 21ms/step - loss: 0.3624 - accuracy: 0.8490 - val_loss: 1.2195 - val_accuracy: 0.5667\n",
      "Epoch 77/100\n",
      "50/50 [==============================] - 1s 20ms/step - loss: 0.3628 - accuracy: 0.8497 - val_loss: 0.5988 - val_accuracy: 0.7124\n",
      "Epoch 78/100\n",
      "50/50 [==============================] - 1s 20ms/step - loss: 0.3626 - accuracy: 0.8497 - val_loss: 0.5912 - val_accuracy: 0.7217\n",
      "Epoch 79/100\n",
      "50/50 [==============================] - 1s 21ms/step - loss: 0.3618 - accuracy: 0.8506 - val_loss: 0.5944 - val_accuracy: 0.7081\n",
      "Epoch 80/100\n",
      "50/50 [==============================] - 1s 22ms/step - loss: 0.3621 - accuracy: 0.8501 - val_loss: 0.5914 - val_accuracy: 0.7080\n",
      "Epoch 81/100\n",
      "50/50 [==============================] - 1s 18ms/step - loss: 0.3621 - accuracy: 0.8489 - val_loss: 0.7344 - val_accuracy: 0.6665\n",
      "Epoch 82/100\n",
      "50/50 [==============================] - 1s 20ms/step - loss: 0.3622 - accuracy: 0.8499 - val_loss: 0.7209 - val_accuracy: 0.6713\n",
      "Epoch 83/100\n",
      "50/50 [==============================] - 1s 20ms/step - loss: 0.3606 - accuracy: 0.8510 - val_loss: 0.8406 - val_accuracy: 0.6365\n",
      "Epoch 84/100\n",
      "50/50 [==============================] - 1s 20ms/step - loss: 0.3622 - accuracy: 0.8510 - val_loss: 0.6686 - val_accuracy: 0.6841\n",
      "Epoch 85/100\n",
      "50/50 [==============================] - 1s 20ms/step - loss: 0.3605 - accuracy: 0.8508 - val_loss: 0.7971 - val_accuracy: 0.6102\n",
      "Epoch 86/100\n",
      "50/50 [==============================] - 1s 20ms/step - loss: 0.3601 - accuracy: 0.8496 - val_loss: 0.6476 - val_accuracy: 0.7153\n",
      "Epoch 87/100\n",
      "50/50 [==============================] - 1s 20ms/step - loss: 0.3601 - accuracy: 0.8506 - val_loss: 0.6509 - val_accuracy: 0.6897\n",
      "Epoch 88/100\n",
      "50/50 [==============================] - 1s 21ms/step - loss: 0.3609 - accuracy: 0.8502 - val_loss: 0.6021 - val_accuracy: 0.7270\n",
      "Epoch 89/100\n",
      "50/50 [==============================] - 1s 20ms/step - loss: 0.3599 - accuracy: 0.8507 - val_loss: 0.6331 - val_accuracy: 0.6956\n",
      "Epoch 90/100\n",
      "50/50 [==============================] - 1s 20ms/step - loss: 0.3606 - accuracy: 0.8497 - val_loss: 0.5807 - val_accuracy: 0.7300\n",
      "Epoch 91/100\n",
      "50/50 [==============================] - 1s 19ms/step - loss: 0.3606 - accuracy: 0.8506 - val_loss: 0.6737 - val_accuracy: 0.6909\n",
      "Epoch 92/100\n",
      "50/50 [==============================] - 1s 19ms/step - loss: 0.3607 - accuracy: 0.8507 - val_loss: 0.6005 - val_accuracy: 0.7189\n",
      "Epoch 93/100\n",
      "50/50 [==============================] - 1s 20ms/step - loss: 0.3604 - accuracy: 0.8503 - val_loss: 0.6138 - val_accuracy: 0.7145\n",
      "Epoch 94/100\n",
      "50/50 [==============================] - 1s 21ms/step - loss: 0.3610 - accuracy: 0.8502 - val_loss: 0.7421 - val_accuracy: 0.6698\n",
      "Epoch 95/100\n",
      "50/50 [==============================] - 1s 20ms/step - loss: 0.3605 - accuracy: 0.8500 - val_loss: 1.2894 - val_accuracy: 0.5573\n",
      "Epoch 96/100\n",
      "50/50 [==============================] - 1s 20ms/step - loss: 0.3600 - accuracy: 0.8503 - val_loss: 0.5694 - val_accuracy: 0.7222\n",
      "Epoch 97/100\n",
      "50/50 [==============================] - 1s 22ms/step - loss: 0.3595 - accuracy: 0.8507 - val_loss: 0.5995 - val_accuracy: 0.7067\n",
      "Epoch 98/100\n",
      "50/50 [==============================] - 1s 21ms/step - loss: 0.3589 - accuracy: 0.8515 - val_loss: 0.6001 - val_accuracy: 0.7218\n",
      "Epoch 99/100\n",
      "50/50 [==============================] - 1s 20ms/step - loss: 0.3606 - accuracy: 0.8508 - val_loss: 0.5696 - val_accuracy: 0.7236\n",
      "Epoch 100/100\n",
      "50/50 [==============================] - 1s 19ms/step - loss: 0.3602 - accuracy: 0.8509 - val_loss: 0.5983 - val_accuracy: 0.7112\n"
     ]
    }
   ],
   "source": [
    "optimizer = keras.optimizers.Adam(learning_rate=LEARNING_RATE)\n",
    "\n",
    "model.compile(\n",
    "    loss='sparse_categorical_crossentropy',\n",
    "    optimizer=optimizer,\n",
    "    metrics=['accuracy'],\n",
    ")\n",
    "\n",
    "history = model.fit(\n",
    "    X_train,\n",
    "    y_train,\n",
    "    epochs=EPOCHS,\n",
    "    batch_size=BATCH_SIZE,\n",
    "    validation_data=(X_test, y_test),\n",
    "    verbose=1,\n",
    ")"
   ]
  },
  {
   "cell_type": "code",
   "execution_count": 143,
   "id": "bed79725-2bb3-47ce-b06c-333c662b30bf",
   "metadata": {
    "colab": {
     "base_uri": "https://localhost:8080/",
     "height": 282
    },
    "id": "bed79725-2bb3-47ce-b06c-333c662b30bf",
    "outputId": "4354cc75-e44d-4d2a-ac4b-c55a4b3a9305"
   },
   "outputs": [
    {
     "data": {
      "text/plain": [
       "[<matplotlib.lines.Line2D at 0x155e55dc0>]"
      ]
     },
     "execution_count": 143,
     "metadata": {},
     "output_type": "execute_result"
    },
    {
     "data": {
      "image/png": "[encoded data removed]",
      "text/plain": [
       "<Figure size 432x288 with 1 Axes>"
      ]
     },
     "metadata": {
      "needs_background": "light"
     },
     "output_type": "display_data"
    }
   ],
   "source": [
    "plt.plot(history.history['accuracy'])\n",
    "plt.plot(history.history['val_accuracy'])"
   ]
  },
  {
   "cell_type": "code",
   "execution_count": 144,
   "id": "3b65d81f-3d75-43d1-9e2d-88cef69d110b",
   "metadata": {
    "colab": {
     "base_uri": "https://localhost:8080/",
     "height": 265
    },
    "id": "3b65d81f-3d75-43d1-9e2d-88cef69d110b",
    "outputId": "97e18fb9-4340-478c-e307-82c03282e9cc"
   },
   "outputs": [
    {
     "data": {
      "image/png": "[encoded data removed]",
      "text/plain": [
       "<Figure size 432x288 with 1 Axes>"
      ]
     },
     "metadata": {
      "needs_background": "light"
     },
     "output_type": "display_data"
    }
   ],
   "source": [
    "plt.plot(history.history['loss'][10:])\n",
    "plt.plot(history.history['val_loss'][10:])\n",
    "plt.yscale('log')"
   ]
  },
  {
   "cell_type": "code",
   "execution_count": 145,
   "id": "8a964a60-488a-431e-8bcc-586e90d8956b",
   "metadata": {
    "id": "8a964a60-488a-431e-8bcc-586e90d8956b"
   },
   "outputs": [
    {
     "name": "stdout",
     "output_type": "stream",
     "text": [
      "525/525 [==============================] - 2s 4ms/step\n"
     ]
    }
   ],
   "source": [
    "y_pred = model.predict(X_test)"
   ]
  },
  {
   "cell_type": "code",
   "execution_count": 146,
   "id": "d7C0QyTLHO8q",
   "metadata": {
    "colab": {
     "base_uri": "https://localhost:8080/"
    },
    "id": "d7C0QyTLHO8q",
    "outputId": "78587010-2aa8-4cc7-e82f-7c40e11ce705"
   },
   "outputs": [
    {
     "data": {
      "text/plain": [
       "array([[0.00846947, 0.5992384 , 0.39229214],\n",
       "       [0.96276534, 0.03156279, 0.00567182],\n",
       "       [0.9744041 , 0.02262497, 0.00297093],\n",
       "       ...,\n",
       "       [0.99235064, 0.00612477, 0.0015246 ],\n",
       "       [0.16106243, 0.74868894, 0.09024868],\n",
       "       [0.9655272 , 0.02902641, 0.00544641]], dtype=float32)"
      ]
     },
     "execution_count": 146,
     "metadata": {},
     "output_type": "execute_result"
    }
   ],
   "source": [
    "y_pred"
   ]
  },
  {
   "cell_type": "code",
   "execution_count": 147,
   "id": "1c8d3ecc-9cf4-4b1b-a1f8-7394eae20128",
   "metadata": {
    "id": "1c8d3ecc-9cf4-4b1b-a1f8-7394eae20128"
   },
   "outputs": [
    {
     "name": "stdout",
     "output_type": "stream",
     "text": [
      "525/525 [==============================] - 2s 4ms/step - loss: 0.5983 - accuracy: 0.7112\n"
     ]
    },
    {
     "data": {
      "text/plain": [
       "[0.5983214378356934, 0.7111865878105164]"
      ]
     },
     "execution_count": 147,
     "metadata": {},
     "output_type": "execute_result"
    }
   ],
   "source": [
    "model.evaluate(X_test, y_test)"
   ]
  },
  {
   "cell_type": "code",
   "execution_count": 148,
   "id": "1ljWvGo9skgS",
   "metadata": {
    "id": "1ljWvGo9skgS"
   },
   "outputs": [],
   "source": [
    "y_pred= np.argmax(y_pred, axis=1)"
   ]
  },
  {
   "cell_type": "code",
   "execution_count": 149,
   "id": "BIninuG_Hixu",
   "metadata": {
    "colab": {
     "base_uri": "https://localhost:8080/"
    },
    "id": "BIninuG_Hixu",
    "outputId": "8d52a3ce-46d5-41c3-f339-ec8e2feee684"
   },
   "outputs": [
    {
     "data": {
      "text/plain": [
       "array([1, 0, 0, ..., 0, 1, 0])"
      ]
     },
     "execution_count": 149,
     "metadata": {},
     "output_type": "execute_result"
    }
   ],
   "source": [
    "y_pred"
   ]
  },
  {
   "cell_type": "code",
   "execution_count": 150,
   "id": "3NzoyhrD4tO9",
   "metadata": {
    "colab": {
     "base_uri": "https://localhost:8080/"
    },
    "id": "3NzoyhrD4tO9",
    "outputId": "da09ab77-c439-431e-82a8-93fc98f20b49"
   },
   "outputs": [
    {
     "data": {
      "text/plain": [
       "1"
      ]
     },
     "execution_count": 150,
     "metadata": {},
     "output_type": "execute_result"
    }
   ],
   "source": [
    "y_pred[0]"
   ]
  },
  {
   "cell_type": "code",
   "execution_count": 151,
   "id": "48c3e9c7-2bc3-479a-8af1-bf35d87f3e57",
   "metadata": {
    "id": "48c3e9c7-2bc3-479a-8af1-bf35d87f3e57"
   },
   "outputs": [],
   "source": [
    "df = pd.DataFrame({\n",
    "    'y_test': y_test.ravel().astype(int).tolist(),\n",
    "    'y_pred': y_pred.ravel().astype(int).tolist(),\n",
    "})"
   ]
  },
  {
   "cell_type": "code",
   "execution_count": 152,
   "id": "18cfafbe-dafb-4a9e-8873-7f96e71f80b8",
   "metadata": {
    "colab": {
     "base_uri": "https://localhost:8080/",
     "height": 175
    },
    "id": "18cfafbe-dafb-4a9e-8873-7f96e71f80b8",
    "outputId": "aa49cb9d-c88e-437b-9a31-2809577d1da1"
   },
   "outputs": [
    {
     "data": {
      "text/html": [
       "<div>\n",
       "<style scoped>\n",
       "    .dataframe tbody tr th:only-of-type {\n",
       "        vertical-align: middle;\n",
       "    }\n",
       "\n",
       "    .dataframe tbody tr th {\n",
       "        vertical-align: top;\n",
       "    }\n",
       "\n",
       "    .dataframe thead th {\n",
       "        text-align: right;\n",
       "    }\n",
       "</style>\n",
       "<table border=\"1\" class=\"dataframe\">\n",
       "  <thead>\n",
       "    <tr style=\"text-align: right;\">\n",
       "      <th>y_pred</th>\n",
       "      <th>0</th>\n",
       "      <th>1</th>\n",
       "      <th>2</th>\n",
       "    </tr>\n",
       "    <tr>\n",
       "      <th>y_test</th>\n",
       "      <th></th>\n",
       "      <th></th>\n",
       "      <th></th>\n",
       "    </tr>\n",
       "  </thead>\n",
       "  <tbody>\n",
       "    <tr>\n",
       "      <th>0</th>\n",
       "      <td>7016</td>\n",
       "      <td>150</td>\n",
       "      <td>27</td>\n",
       "    </tr>\n",
       "    <tr>\n",
       "      <th>1</th>\n",
       "      <td>459</td>\n",
       "      <td>4011</td>\n",
       "      <td>323</td>\n",
       "    </tr>\n",
       "    <tr>\n",
       "      <th>2</th>\n",
       "      <td>100</td>\n",
       "      <td>3787</td>\n",
       "      <td>906</td>\n",
       "    </tr>\n",
       "  </tbody>\n",
       "</table>\n",
       "</div>"
      ],
      "text/plain": [
       "y_pred     0     1    2\n",
       "y_test                 \n",
       "0       7016   150   27\n",
       "1        459  4011  323\n",
       "2        100  3787  906"
      ]
     },
     "execution_count": 152,
     "metadata": {},
     "output_type": "execute_result"
    }
   ],
   "source": [
    "pd.crosstab(df['y_test'], df['y_pred'])"
   ]
  },
  {
   "cell_type": "code",
   "execution_count": 153,
   "id": "e192957b-1b16-47c8-89eb-d6e2fb9bde9f",
   "metadata": {
    "id": "e192957b-1b16-47c8-89eb-d6e2fb9bde9f"
   },
   "outputs": [],
   "source": [
    "model.save('model.h5')"
   ]
  },
  {
   "cell_type": "code",
   "execution_count": 154,
   "id": "__GCNJUQzHny",
   "metadata": {
    "colab": {
     "base_uri": "https://localhost:8080/"
    },
    "id": "__GCNJUQzHny",
    "outputId": "0b819a16-2d58-4435-927f-343a75565ae6"
   },
   "outputs": [
    {
     "data": {
      "text/plain": [
       "array([[ 0.001,  0.   , -0.001, -0.001,  0.   ,  0.001],\n",
       "       [ 0.   ,  0.   ,  0.   ,  0.   ,  0.   ,  0.   ],\n",
       "       [ 0.   ,  0.   ,  0.   ,  0.   ,  0.   ,  0.   ],\n",
       "       [ 0.   ,  0.   ,  0.   ,  0.   ,  0.   ,  0.   ],\n",
       "       [ 0.   ,  0.   ,  0.   ,  0.   ,  0.   ,  0.   ],\n",
       "       [ 0.   ,  0.   , -0.001,  0.005,  0.003,  0.022],\n",
       "       [-0.002,  0.   ,  0.   , -0.001, -0.019,  0.003],\n",
       "       [ 0.   ,  0.   ,  0.001, -0.002, -0.009, -0.008]])"
      ]
     },
     "execution_count": 154,
     "metadata": {},
     "output_type": "execute_result"
    }
   ],
   "source": [
    "X_train[0]"
   ]
  },
  {
   "cell_type": "code",
   "execution_count": null,
   "id": "8c451d57-513f-476a-acbf-5b5a58a90437",
   "metadata": {
    "colab": {
     "base_uri": "https://localhost:8080/",
     "height": 606
    },
    "id": "8c451d57-513f-476a-acbf-5b5a58a90437",
    "outputId": "c8edd43e-3d45-432e-c46d-f23b5f9e9cdd"
   },
   "outputs": [],
   "source": [
    "np.argmax(model.predict(np.array([[[0.08,  0.08,  0.08,  0.08, -0.08, -0.08, -0.08,  0.08],\n",
    "       [0.08,  0.08,  0.08,  0.08, -0.08, -0.08, -0.08,  0.08],\n",
    "       [0.08,  0.08,  0.08,  0.08, -0.08, -0.08, -0.08,  0.08],\n",
    "       [0.08,  0.08,  0.08,  0.08, -0.08, -0.08, -0.08,  0.08],\n",
    "       [0.08,  0.08,  0.08,  0.08, -0.08, -0.08, -0.08,  0.08],\n",
    "       [0.08,  0.08,  0.08,  0.08, -0.08, -0.08, -0.08,  0.08],\n",
    "       [0.08,  0.08,  0.08,  0.08, -0.08, -0.08, -0.08,  0.08],\n",
    "       [0.08,  0.08,  0.08,  0.08, -0.08, -0.08, -0.08,  0.08],\n",
    "       [0.08,  0.08,  0.08,  0.08, -0.08, -0.08, -0.08,  0.08],\n",
    "       [0.08,  0.08,  0.08,  0.08, -0.08, -0.08, -0.08,  0.08]]])))"
   ]
  },
  {
   "cell_type": "code",
   "execution_count": null,
   "id": "e758a797-ce91-4c86-b48f-11b7906e3f1c",
   "metadata": {
    "id": "e758a797-ce91-4c86-b48f-11b7906e3f1c"
   },
   "outputs": [],
   "source": [
    "x_new = X_test[0,:,:]"
   ]
  },
  {
   "cell_type": "code",
   "execution_count": null,
   "id": "e028ea89-c194-4257-b879-9c5125aa092c",
   "metadata": {
    "id": "e028ea89-c194-4257-b879-9c5125aa092c"
   },
   "outputs": [],
   "source": [
    "argmax(model.predict(np.array([[[-0.04,  0.69,  0.72,  0.07, -0.19, -0.63, -0.71,  0.23],\n",
    "       [-0.13,  0.69,  0.7 ,  0.14, -0.19, -0.64, -0.71,  0.23],\n",
    "       [-0.22,  0.67,  0.67,  0.23, -0.19, -0.64, -0.71,  0.23],\n",
    "       [-0.25,  0.67,  0.65,  0.25, -0.19, -0.64, -0.71,  0.23],\n",
    "       [-0.31,  0.65,  0.63,  0.3 , -0.19, -0.64, -0.71,  0.23],\n",
    "       [-0.35,  0.63,  0.6 ,  0.34, -0.19, -0.64, -0.71,  0.23],\n",
    "       [-0.34,  0.64,  0.61,  0.33, -0.19, -0.64, -0.71,  0.23],\n",
    "       [-0.34,  0.64,  0.61,  0.33, -0.19, -0.64, -0.71,  0.23],\n",
    "       [-0.24,  0.67,  0.66,  0.25, -0.19, -0.64, -0.71,  0.23],\n",
    "       [-0.12,  0.69,  0.7 ,  0.14, -0.19, -0.64, -0.71,  0.23]]])))"
   ]
  },
  {
   "cell_type": "code",
   "execution_count": null,
   "id": "caeab939-e224-45cb-aeac-cba492ce706e",
   "metadata": {
    "id": "caeab939-e224-45cb-aeac-cba492ce706e"
   },
   "outputs": [],
   "source": [
    "x_new.shape"
   ]
  },
  {
   "cell_type": "code",
   "execution_count": null,
   "id": "1cd53482-ba40-4e2e-91e4-86a77c1bd571",
   "metadata": {
    "id": "1cd53482-ba40-4e2e-91e4-86a77c1bd571"
   },
   "outputs": [],
   "source": [
    "(1,) + x_new.shape"
   ]
  },
  {
   "cell_type": "code",
   "execution_count": null,
   "id": "ffe40741-ef5e-4586-8099-7ea3940df013",
   "metadata": {
    "id": "ffe40741-ef5e-4586-8099-7ea3940df013"
   },
   "outputs": [],
   "source": [
    "X_new = x_new.reshape((1,) + x_new.shape)\n",
    "fast_or_slow = saved_model(X_new)"
   ]
  },
  {
   "cell_type": "code",
   "execution_count": null,
   "id": "a4dc15ee-ec14-4cbf-a2d2-bf0d17176afa",
   "metadata": {
    "id": "a4dc15ee-ec14-4cbf-a2d2-bf0d17176afa"
   },
   "outputs": [],
   "source": [
    "float(fast_or_slow[0, 0])"
   ]
  },
  {
   "cell_type": "code",
   "execution_count": null,
   "id": "54844c3c-4be3-4599-8327-c2cfa0751e0e",
   "metadata": {
    "id": "54844c3c-4be3-4599-8327-c2cfa0751e0e"
   },
   "outputs": [],
   "source": [
    "print(X_new.tolist())\n"
   ]
  },
  {
   "cell_type": "code",
   "execution_count": null,
   "id": "7rw6-XGxwHZw",
   "metadata": {
    "id": "7rw6-XGxwHZw"
   },
   "outputs": [],
   "source": []
  },
  {
   "cell_type": "code",
   "execution_count": 155,
   "id": "vZD1w6TZwk0e",
   "metadata": {
    "id": "vZD1w6TZwk0e"
   },
   "outputs": [],
   "source": [
    "model.save('model.h5')"
   ]
  },
  {
   "cell_type": "code",
   "execution_count": null,
   "id": "Dg1rDKBsw7S3",
   "metadata": {
    "id": "Dg1rDKBsw7S3"
   },
   "outputs": [],
   "source": [
    "np.fromstring(X_new.tobytes(), dtype=float).reshape(1,10,4)"
   ]
  },
  {
   "cell_type": "code",
   "execution_count": null,
   "id": "DlzAFGAuxUHF",
   "metadata": {
    "id": "DlzAFGAuxUHF"
   },
   "outputs": [],
   "source": [
    "comma_string = \"[[[-1.402271e-03 -2.203955e-08 7.028995e-07 9.999990e-01 -2.328306e-10 -6.455648e-09 7.037297e-07  1.000000e+00] [-1.402271e-03 -2.203955e-08  7.028995e-07  9.999990e-01 -2.328306e-10 -6.455648e-09  7.037297e-07  1.000000e+00] [-1.402271e-03 -2.203955e-08  7.028995e-07  9.999990e-01 -2.328306e-10 -6.455648e-09  7.037297e-07  1.000000e+00] [-1.402271e-03 -2.203955e-08  7.028995e-07  9.999990e-01 -2.328306e-10 -6.455648e-09  7.037297e-07  1.000000e+00] [-1.402271e-03 -2.203955e-08  7.028995e-07  9.999990e-01 -2.328306e-10 -6.455648e-09  7.037297e-07  1.000000e+00] [-1.402271e-03 -2.203955e-08  7.028995e-07  9.999990e-01 -2.328306e-10 -6.455648e-09  7.037297e-07  1.000000e+00] [-1.402271e-03 -2.203955e-08  7.028995e-07  9.999990e-01 -2.328306e-10 -6.455648e-09  7.037297e-07  1.000000e+00] [-1.402271e-03 -2.203955e-08  7.028995e-07  9.999990e-01 -2.328306e-10 -6.455648e-09  7.037297e-07  1.000000e+00] [-1.402271e-03 -2.203955e-08  7.028995e-07  9.999990e-01 -2.328306e-10 -6.455648e-09  7.037297e-07  1.000000e+00] [-1.402271e-03 -2.203955e-08  7.028995e-07  9.999990e-01 -2.328306e-10 -6.455648e-09  7.037297e-07  1.000000e+00]]])\""
   ]
  },
  {
   "cell_type": "code",
   "execution_count": null,
   "id": "xywYtiQuDssb",
   "metadata": {
    "id": "xywYtiQuDssb"
   },
   "outputs": [],
   "source": [
    "spaces_string = comma_string.replace(' ', ',')\n",
    "spaces_string"
   ]
  },
  {
   "cell_type": "code",
   "execution_count": null,
   "id": "XDNr41Vm7MsD",
   "metadata": {
    "id": "XDNr41Vm7MsD"
   },
   "outputs": [],
   "source": [
    "import ast\n",
    "input = np.array([[[0.08, 0.14, 0.09, 0.18],\n",
    "       [0.08, 0.14, 0.09, 0.22],\n",
    "       [0.08, 0.14, 0.08, 0.17],\n",
    "       [0.08, 0.14, 0.08, 0.1 ],\n",
    "       [0.08, 0.14, 0.07, 0.08],\n",
    "       [0.08, 0.14, 0.07, 0.08],\n",
    "       [0.09, 0.2 , 0.07, 0.08],\n",
    "       [0.1 , 0.32, 0.07, 0.07],\n",
    "       [0.1 , 0.29, 0.07, 0.07],\n",
    "       [0.09, 0.24, 0.07, 0.07]]])\n",
    "    \n",
    "lista_string=\"[0.08, 0.14, 0.09, 0.18]\"\n",
    "lista= ast.literal_eval(lista_string)\n",
    "input = np.insert(input[0], 0,lista).reshape(1,11,4)\n",
    "input = input[:,:-1,:]\n",
    "input"
   ]
  },
  {
   "cell_type": "code",
   "execution_count": null,
   "id": "Y9SXyZnkxVs1",
   "metadata": {
    "id": "Y9SXyZnkxVs1"
   },
   "outputs": [],
   "source": [
    "from tensorflow.keras.models import load_model\n"
   ]
  },
  {
   "cell_type": "code",
   "execution_count": null,
   "id": "dYZo4dM_E7y8",
   "metadata": {
    "id": "dYZo4dM_E7y8"
   },
   "outputs": [],
   "source": [
    "/content/my_model"
   ]
  },
  {
   "cell_type": "code",
   "execution_count": null,
   "id": "F2L9U_219JYL",
   "metadata": {
    "id": "F2L9U_219JYL"
   },
   "outputs": [],
   "source": []
  },
  {
   "cell_type": "code",
   "execution_count": null,
   "id": "I6lCTiBu9hIN",
   "metadata": {
    "id": "I6lCTiBu9hIN"
   },
   "outputs": [],
   "source": [
    "!zip -r model.zip model/ "
   ]
  },
  {
   "cell_type": "code",
   "execution_count": null,
   "id": "txtVW0lZk0i2",
   "metadata": {
    "id": "txtVW0lZk0i2"
   },
   "outputs": [],
   "source": []
  },
  {
   "cell_type": "code",
   "execution_count": null,
   "id": "jmP1iwCVrCWB",
   "metadata": {
    "id": "jmP1iwCVrCWB"
   },
   "outputs": [],
   "source": [
    "print(json_str)"
   ]
  },
  {
   "cell_type": "code",
   "execution_count": null,
   "id": "xnhM2JtlrKUG",
   "metadata": {
    "id": "xnhM2JtlrKUG"
   },
   "outputs": [],
   "source": [
    "input = np.array([[[ 2.66, -1.94,  0.66, -0.07],\n",
    "       [ 2.66, -1.94,  0.66, -0.07],\n",
    "       [ 2.65, -2.1 ,  0.66, -0.07],\n",
    "       [ 2.65, -2.2 ,  0.66, -0.07],\n",
    "       [ 2.65, -2.22,  0.66, -0.07],\n",
    "       [ 2.65, -2.22,  0.68,  0.01],\n",
    "       [ 2.64, -2.22,  0.68,  0.18],\n",
    "       [ 2.64, -2.22,  0.69,  0.26],\n",
    "       [ 2.64, -2.22,  0.67,  0.16],\n",
    "       [ 2.64, -2.22,  0.67,  0.03]]])"
   ]
  },
  {
   "cell_type": "code",
   "execution_count": null,
   "id": "-RaeJ9fealdj",
   "metadata": {
    "id": "-RaeJ9fealdj"
   },
   "outputs": [],
   "source": [
    "import ast\n",
    "lista_string=\"[ 2.66, -1.94,  0.66, -0.07]\"\n",
    "lista= ast.literal_eval(lista_string)\n",
    "input = np.append(input[0],[lista],axis=0).reshape(1,11,4)\n",
    "input = input[:,1:,:]"
   ]
  },
  {
   "cell_type": "code",
   "execution_count": null,
   "id": "dSPIJMHBapbY",
   "metadata": {
    "id": "dSPIJMHBapbY"
   },
   "outputs": [],
   "source": [
    "input"
   ]
  },
  {
   "cell_type": "code",
   "execution_count": null,
   "id": "8LVg3UYja8xp",
   "metadata": {
    "id": "8LVg3UYja8xp"
   },
   "outputs": [],
   "source": [
    "X_train[0]"
   ]
  },
  {
   "cell_type": "code",
   "execution_count": null,
   "id": "I3PN3mu1iAis",
   "metadata": {
    "id": "I3PN3mu1iAis"
   },
   "outputs": [],
   "source": [
    "import re\n",
    "\n",
    "s = \"[[[-1.402271e-03 -2.203955e-08  7.028995e-07  9.999990e-01 -2.328306e-10 -6.455648e-09  7.037297e-07  1.000000e+00] [-1.402271e-03 -2.203955e-08  7.028995e-07  9.999990e-01 -2.328306e-10 -6.455648e-09  7.037297e-07  1.000000e+00] [-1.402271e-03 -2.203955e-08  7.028995e-07  9.999990e-01 -2.328306e-10 -6.455648e-09  7.037297e-07  1.000000e+00] [-1.402271e-03 -2.203955e-08  7.028995e-07  9.999990e-01 -2.328306e-10 -6.455648e-09  7.037297e-07  1.000000e+00] [-1.402271e-03 -2.203955e-08  7.028995e-07  9.999990e-01 -2.328306e-10 -6.455648e-09  7.037297e-07  1.000000e+00] [-1.402271e-03 -2.203955e-08  7.028995e-07  9.999990e-01 -2.328306e-10 -6.455648e-09  7.037297e-07  1.000000e+00] [-1.402271e-03 -2.203955e-08  7.028995e-07  9.999990e-01 -2.328306e-10 -6.455648e-09  7.037297e-07  1.000000e+00] [-1.402271e-03 -2.203955e-08  7.028995e-07  9.999990e-01 -2.328306e-10 -6.455648e-09  7.037297e-07  1.000000e+00] [-1.402271e-03 -2.203955e-08  7.028995e-07  9.999990e-01 -2.328306e-10 -6.455648e-09  7.037297e-07  1.000000e+00] [-1.402271e-03 -2.203955e-08  7.028995e-07  9.999990e-01 -2.328306e-10 -6.455648e-09  7.037297e-07  1.000000e+00]]]\"\n",
    "\n",
    "def add_comma(match):\n",
    "    return match.group(0) + ','\n",
    "\n",
    "s = re.sub(r'\\[[0-9\\.\\s]+\\]', add_comma, s)\n",
    "s = re.sub(r'([0-9\\.]+)', add_comma, s)\n",
    "mylist = eval(s)"
   ]
  },
  {
   "cell_type": "code",
   "execution_count": null,
   "id": "sVQuC3TvzIGz",
   "metadata": {
    "id": "sVQuC3TvzIGz"
   },
   "outputs": [],
   "source": [
    "mylist"
   ]
  },
  {
   "cell_type": "code",
   "execution_count": null,
   "id": "WaxWOPL_zKMZ",
   "metadata": {
    "id": "WaxWOPL_zKMZ"
   },
   "outputs": [],
   "source": []
  }
 ],
 "metadata": {
  "accelerator": "GPU",
  "colab": {
   "collapsed_sections": [],
   "provenance": []
  },
  "gpuClass": "standard",
  "kernelspec": {
   "display_name": "Python 3 (ipykernel)",
   "language": "python",
   "name": "python3"
  },
  "language_info": {
   "codemirror_mode": {
    "name": "ipython",
    "version": 3
   },
   "file_extension": ".py",
   "mimetype": "text/x-python",
   "name": "python",
   "nbconvert_exporter": "python",
   "pygments_lexer": "ipython3",
   "version": "3.9.12"
  }
 },
 "nbformat": 4,
 "nbformat_minor": 5
}
