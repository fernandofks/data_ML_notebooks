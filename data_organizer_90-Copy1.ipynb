{
 "cells": [
  {
   "cell_type": "code",
   "execution_count": null,
   "id": "b41f0b0f-cc96-43a2-ab7f-f3264587e7d2",
   "metadata": {
    "id": "b41f0b0f-cc96-43a2-ab7f-f3264587e7d2"
   },
   "outputs": [],
   "source": [
    "from pathlib import Path\n",
    "import matplotlib.pyplot as plt\n",
    "import numpy as np\n",
    "import pandas as pd\n",
    "import tensorflow as tf\n",
    "import tensorflow.keras as keras\n",
    "from tensorflow.python.keras.layers import Dense\n",
    "from numpy.random import default_rng\n",
    "from sklearn.model_selection import train_test_split\n",
    "import math"
   ]
  },
  {
   "cell_type": "code",
   "execution_count": null,
   "id": "a2d80ff8",
   "metadata": {},
   "outputs": [],
   "source": [
    "old_full_data = pd.read_csv('data/full_data_10HZ.csv', sep=\",\", header=None, names=[\"e_t_x\",\"e_t_y\",\"e_t_z\",\"e_r_x\",\"e_r_y\",\"e_r_z\",\"e_r_w\",\"d_t_x\",\"d_t_y\",\"d_t_z\",\"d_r_x\",\"d_r_y\",\"d_r_z\",\"d_r_w\", \"c_t_x\",\"c_t_y\",\"c_t_z\",\"c_r_x\",\"c_r_y\",\"c_r_z\", \"c_r_w\",  \"speed\"])\n",
    "old_full_data\n",
    "old_full_data.tail()\n"
   ]
  },
  {
   "cell_type": "code",
   "execution_count": null,
   "id": "b3e54253",
   "metadata": {},
   "outputs": [],
   "source": [
    "#define function to swap columns\n",
    "def swap_columns(df, col1, col2):\n",
    "    col_list = list(df.columns)\n",
    "    x, y = col_list.index(col1), col_list.index(col2)\n",
    "    col_list[y], col_list[x] = col_list[x], col_list[y]\n",
    "    df = df[col_list]\n",
    "    return df\n"
   ]
  },
  {
   "cell_type": "code",
   "execution_count": null,
   "id": "6502c1d9",
   "metadata": {},
   "outputs": [],
   "source": [
    "\n",
    " \n",
    "def euler_from_quaternion(x, y, z, w):\n",
    "        \"\"\"\n",
    "        Convert a quaternion into euler angles (roll, pitch, yaw)\n",
    "        roll is rotation around x in radians (counterclockwise)\n",
    "        pitch is rotation around y in radians (counterclockwise)\n",
    "        yaw is rotation around z in radians (counterclockwise)\n",
    "        \"\"\"\n",
    "        t0 = +2.0 * (w * x + y * z)\n",
    "        t1 = +1.0 - 2.0 * (x * x + y * y)\n",
    "        roll_x = math.atan2(t0, t1)\n",
    "     \n",
    "        t2 = +2.0 * (w * y - z * x)\n",
    "        t2 = +1.0 if t2 > +1.0 else t2\n",
    "        t2 = -1.0 if t2 < -1.0 else t2\n",
    "        pitch_y = math.asin(t2)\n",
    "     \n",
    "        t3 = +2.0 * (w * z + x * y)\n",
    "        t4 = +1.0 - 2.0 * (y * y + z * z)\n",
    "        yaw_z = math.atan2(t3, t4)\n",
    "     \n",
    "        return roll_x, pitch_y, yaw_z # in radians"
   ]
  },
  {
   "cell_type": "code",
   "execution_count": null,
   "id": "8ca7d8d8",
   "metadata": {},
   "outputs": [],
   "source": [
    "\n",
    "def get_quaternion_from_euler(roll, pitch, yaw):\n",
    "    qx = np.sin(roll/2) * np.cos(pitch/2) * np.cos(yaw/2) - np.cos(roll/2) * np.sin(pitch/2) * np.sin(yaw/2)\n",
    "    qy = np.cos(roll/2) * np.sin(pitch/2) * np.cos(yaw/2) + np.sin(roll/2) * np.cos(pitch/2) * np.sin(yaw/2)\n",
    "    qz = np.cos(roll/2) * np.cos(pitch/2) * np.sin(yaw/2) - np.sin(roll/2) * np.sin(pitch/2) * np.cos(yaw/2)\n",
    "    qw = np.cos(roll/2) * np.cos(pitch/2) * np.cos(yaw/2) + np.sin(roll/2) * np.sin(pitch/2) * np.sin(yaw/2)\n",
    " \n",
    "    return qx, qy, qz, qw"
   ]
  },
  {
   "cell_type": "code",
   "execution_count": null,
   "id": "87b9ec99",
   "metadata": {},
   "outputs": [],
   "source": [
    "data_stop_0 = old_full_data.loc[old_full_data['speed']==\"stopped\"][1:].reset_index(drop=True)\n",
    "data_stop_0"
   ]
  },
  {
   "cell_type": "code",
   "execution_count": null,
   "id": "2374a946",
   "metadata": {},
   "outputs": [],
   "source": [
    "data_stop_90_left_foot_without_negativation = swap_columns(data_stop_0, 'e_t_x', 'e_t_z')\n",
    "data_stop_90_left_foot_without_negativation[\"e_t_z\"] = data_stop_90_left_foot_without_negativation[\"e_t_z\"]*-1\n",
    "data_stop_90_left_foot=data_stop_90_left_foot_without_negativation\n",
    "data_stop_90_left_right_foot_without_negativation = swap_columns(data_stop_90_left_foot, 'd_t_x', 'd_t_z')\n",
    "data_stop_90_left_right_foot_without_negativation[\"d_t_z\"] = data_stop_90_left_right_foot_without_negativation[\"d_t_z\"]*-1\n",
    "data_stop_90=data_stop_90_left_right_foot_without_negativation\n",
    "\n",
    "data_stop_90.rename(columns={'e_t_z':'e_t_x2'}, inplace=True)\n",
    "data_stop_90.rename(columns={'e_t_x':'e_t_z'}, inplace=True)\n",
    "data_stop_90.rename(columns={'e_t_x2':'e_t_x'}, inplace=True)\n",
    "data_stop_90.rename(columns={'d_t_z':'d_t_x2'}, inplace=True)\n",
    "data_stop_90.rename(columns={'d_t_x':'d_t_z'}, inplace=True)\n",
    "data_stop_90.rename(columns={'d_t_x2':'d_t_x'}, inplace=True)\n",
    "data_stop_90"
   ]
  },
  {
   "cell_type": "code",
   "execution_count": null,
   "id": "eb31c720",
   "metadata": {},
   "outputs": [],
   "source": [
    "data_stop_180_left_foot_without_negativation = swap_columns(data_stop_90, 'e_t_x', 'e_t_z')\n",
    "data_stop_180_left_foot_without_negativation[\"e_t_z\"] = data_stop_180_left_foot_without_negativation[\"e_t_z\"]*-1\n",
    "data_stop_180_left_foot=data_stop_180_left_foot_without_negativation\n",
    "data_stop_180_left_right_foot_without_negativation = swap_columns(data_stop_180_left_foot, 'd_t_x', 'd_t_z')\n",
    "data_stop_180_left_right_foot_without_negativation[\"d_t_z\"] = data_stop_180_left_right_foot_without_negativation[\"d_t_z\"]*-1\n",
    "data_stop_180=data_stop_180_left_right_foot_without_negativation\n",
    "\n",
    "data_stop_180.rename(columns={'e_t_z':'e_t_x2'}, inplace=True)\n",
    "data_stop_180.rename(columns={'e_t_x':'e_t_z'}, inplace=True)\n",
    "data_stop_180.rename(columns={'e_t_x2':'e_t_x'}, inplace=True)\n",
    "data_stop_180.rename(columns={'d_t_z':'d_t_x2'}, inplace=True)\n",
    "data_stop_180.rename(columns={'d_t_x':'d_t_z'}, inplace=True)\n",
    "data_stop_180.rename(columns={'d_t_x2':'d_t_x'}, inplace=True)\n",
    "data_stop_180"
   ]
  },
  {
   "cell_type": "code",
   "execution_count": null,
   "id": "048c522b",
   "metadata": {},
   "outputs": [],
   "source": [
    "data_stop_270_left_foot_without_negativation = swap_columns(data_stop_180, 'e_t_x', 'e_t_z')\n",
    "data_stop_270_left_foot_without_negativation[\"e_t_z\"] = data_stop_270_left_foot_without_negativation[\"e_t_z\"]*-1\n",
    "data_stop_270_left_foot=data_stop_270_left_foot_without_negativation\n",
    "data_stop_270_left_right_foot_without_negativation = swap_columns(data_stop_270_left_foot, 'd_t_x', 'd_t_z')\n",
    "data_stop_270_left_right_foot_without_negativation[\"d_t_z\"] = data_stop_270_left_right_foot_without_negativation[\"d_t_z\"]*-1\n",
    "data_stop_270=data_stop_270_left_right_foot_without_negativation\n",
    "\n",
    "data_stop_270.rename(columns={'e_t_z':'e_t_x2'}, inplace=True)\n",
    "data_stop_270.rename(columns={'e_t_x':'e_t_z'}, inplace=True)\n",
    "data_stop_270.rename(columns={'e_t_x2':'e_t_x'}, inplace=True)\n",
    "data_stop_270.rename(columns={'d_t_z':'d_t_x2'}, inplace=True)\n",
    "data_stop_270.rename(columns={'d_t_x':'d_t_z'}, inplace=True)\n",
    "data_stop_270.rename(columns={'d_t_x2':'d_t_x'}, inplace=True)\n",
    "data_stop_270"
   ]
  },
  {
   "cell_type": "code",
   "execution_count": null,
   "id": "284207f7",
   "metadata": {},
   "outputs": [],
   "source": [
    "data_stop_90.loc[:,[\"d_r_x\",\"d_r_y\",\"d_r_z\",\"d_r_w\" ]]"
   ]
  },
  {
   "cell_type": "code",
   "execution_count": null,
   "id": "dfa8165a",
   "metadata": {},
   "outputs": [],
   "source": []
  },
  {
   "cell_type": "code",
   "execution_count": null,
   "id": "69cf1b78",
   "metadata": {},
   "outputs": [],
   "source": [
    "for i in data_stop_90:\n",
    "    print(i)"
   ]
  },
  {
   "cell_type": "code",
   "execution_count": null,
   "id": "14160176",
   "metadata": {},
   "outputs": [],
   "source": [
    "l_e_r_x_quat_data_stop_90=[]\n",
    "l_e_r_y_quat_data_stop_90=[]\n",
    "l_e_r_z_quat_data_stop_90=[]\n",
    "l_e_r_w_quat_data_stop_90=[]\n",
    "l_d_r_x_quat_data_stop_90=[]\n",
    "l_d_r_y_quat_data_stop_90=[]\n",
    "l_d_r_z_quat_data_stop_90=[]\n",
    "l_d_r_w_quat_data_stop_90=[]\n",
    "for index_90, row_90 in data_stop_90.iterrows():\n",
    "    e_r_x_euler_data_stop_90,e_r_y_euler_data_stop_90,e_r_z_euler_data_stop_90=euler_from_quaternion(row_90[3],row_90[4],row_90[5],row_90[6])\n",
    "    d_r_x_euler_data_stop_90,d_r_y_euler_data_stop_90,d_r_z_euler_data_stop_90=euler_from_quaternion(row_90[10],row_90[11],row_90[12],row_90[13])\n",
    "    \n",
    "    e_r_z_euler_data_stop_90=e_r_z_euler_data_stop_90+np.pi/2\n",
    "    d_r_z_euler_data_stop_90=d_r_z_euler_data_stop_90+np.pi/2\n",
    "    \n",
    "    e_r_x_data_stop_90, e_r_y_data_stop_90, e_r_z_data_stop_90,e_r_w_data_stop_90=get_quaternion_from_euler(e_r_x_euler_data_stop_90, e_r_y_euler_data_stop_90,e_r_z_euler_data_stop_90)\n",
    "    d_r_x_data_stop_90, d_r_y_data_stop_90, d_r_z_data_stop_90,d_r_w_data_stop_90=get_quaternion_from_euler(d_r_x_euler_data_stop_90, d_r_y_euler_data_stop_90,d_r_z_euler_data_stop_90)\n",
    "    \n",
    "    l_e_r_x_quat_data_stop_90.append(e_r_x_data_stop_90)\n",
    "    l_e_r_y_quat_data_stop_90.append(e_r_y_data_stop_90)\n",
    "    l_e_r_z_quat_data_stop_90.append(e_r_z_data_stop_90)\n",
    "    l_e_r_w_quat_data_stop_90.append(e_r_w_data_stop_90)\n",
    "    l_d_r_x_quat_data_stop_90.append(d_r_x_data_stop_90)\n",
    "    l_d_r_y_quat_data_stop_90.append(d_r_y_data_stop_90)\n",
    "    l_d_r_z_quat_data_stop_90.append(d_r_z_data_stop_90)\n",
    "    l_d_r_w_quat_data_stop_90.append(d_r_w_data_stop_90)\n",
    "    \n",
    "data_stop_90['e_r_x']=l_e_r_x_quat_data_stop_90\n",
    "data_stop_90['e_r_y']=l_e_r_y_quat_data_stop_90\n",
    "data_stop_90['e_r_z']=l_e_r_z_quat_data_stop_90\n",
    "data_stop_90['e_r_w']=l_e_r_w_quat_data_stop_90\n",
    "data_stop_90['d_r_x']=l_d_r_x_quat_data_stop_90\n",
    "data_stop_90['d_r_y']=l_d_r_y_quat_data_stop_90\n",
    "data_stop_90['d_r_z']=l_d_r_z_quat_data_stop_90\n",
    "data_stop_90['d_r_w']=l_d_r_w_quat_data_stop_90\n"
   ]
  },
  {
   "cell_type": "code",
   "execution_count": null,
   "id": "fba60455",
   "metadata": {},
   "outputs": [],
   "source": [
    "data_stop_90"
   ]
  },
  {
   "cell_type": "code",
   "execution_count": null,
   "id": "ddc3d312",
   "metadata": {},
   "outputs": [],
   "source": [
    "data_stop_90.loc[:,[\"d_r_x\",\"d_r_y\",\"d_r_z\",\"d_r_w\" ]]"
   ]
  },
  {
   "cell_type": "code",
   "execution_count": null,
   "id": "fbd2338a",
   "metadata": {},
   "outputs": [],
   "source": [
    "l_e_r_x_quat_data_stop_180=[]\n",
    "l_e_r_y_quat_data_stop_180=[]\n",
    "l_e_r_z_quat_data_stop_180=[]\n",
    "l_e_r_w_quat_data_stop_180=[]\n",
    "l_d_r_x_quat_data_stop_180=[]\n",
    "l_d_r_y_quat_data_stop_180=[]\n",
    "l_d_r_z_quat_data_stop_180=[]\n",
    "l_d_r_w_quat_data_stop_180=[]\n",
    "for index_180, row_180 in data_stop_180.iterrows():\n",
    "    e_r_x_euler_data_stop_180,e_r_y_euler_data_stop_180,e_r_z_euler_data_stop_180=euler_from_quaternion(row_180[3],row_180[4],row_180[5],row_180[6])\n",
    "    d_r_x_euler_data_stop_180,d_r_y_euler_data_stop_180,d_r_z_euler_data_stop_180=euler_from_quaternion(row_180[10],row_180[11],row_180[12],row_180[13])\n",
    "    \n",
    "    e_r_z_euler_data_stop_180=e_r_z_euler_data_stop_180+np.pi\n",
    "    d_r_z_euler_data_stop_180=d_r_z_euler_data_stop_180+np.pi\n",
    "    \n",
    "    e_r_x_data_stop_180, e_r_y_data_stop_180, e_r_z_data_stop_180,e_r_w_data_stop_180=get_quaternion_from_euler(e_r_x_euler_data_stop_180, e_r_y_euler_data_stop_180,e_r_z_euler_data_stop_180)\n",
    "    d_r_x_data_stop_180, d_r_y_data_stop_180, d_r_z_data_stop_180,d_r_w_data_stop_180=get_quaternion_from_euler(d_r_x_euler_data_stop_180, d_r_y_euler_data_stop_180,d_r_z_euler_data_stop_180)\n",
    "    \n",
    "    l_e_r_x_quat_data_stop_180.append(e_r_x_data_stop_180)\n",
    "    l_e_r_y_quat_data_stop_180.append(e_r_y_data_stop_180)\n",
    "    l_e_r_z_quat_data_stop_180.append(e_r_z_data_stop_180)\n",
    "    l_e_r_w_quat_data_stop_180.append(e_r_w_data_stop_180)\n",
    "    l_d_r_x_quat_data_stop_180.append(d_r_x_data_stop_180)\n",
    "    l_d_r_y_quat_data_stop_180.append(d_r_y_data_stop_180)\n",
    "    l_d_r_z_quat_data_stop_180.append(d_r_z_data_stop_180)\n",
    "    l_d_r_w_quat_data_stop_180.append(d_r_w_data_stop_180)\n",
    "    \n",
    "data_stop_180['e_r_x']=l_e_r_x_quat_data_stop_180\n",
    "data_stop_180['e_r_y']=l_e_r_y_quat_data_stop_180\n",
    "data_stop_180['e_r_z']=l_e_r_z_quat_data_stop_180\n",
    "data_stop_180['e_r_w']=l_e_r_w_quat_data_stop_180\n",
    "data_stop_180['d_r_x']=l_d_r_x_quat_data_stop_180\n",
    "data_stop_180['d_r_y']=l_d_r_y_quat_data_stop_180\n",
    "data_stop_180['d_r_z']=l_d_r_z_quat_data_stop_180\n",
    "data_stop_180['d_r_w']=l_d_r_w_quat_data_stop_180\n"
   ]
  },
  {
   "cell_type": "code",
   "execution_count": null,
   "id": "daa4646c",
   "metadata": {},
   "outputs": [],
   "source": [
    "data_stop_180"
   ]
  },
  {
   "cell_type": "code",
   "execution_count": null,
   "id": "e3bbf548",
   "metadata": {},
   "outputs": [],
   "source": [
    "l_e_r_x_quat_data_stop_270=[]\n",
    "l_e_r_y_quat_data_stop_270=[]\n",
    "l_e_r_z_quat_data_stop_270=[]\n",
    "l_e_r_w_quat_data_stop_270=[]\n",
    "l_d_r_x_quat_data_stop_270=[]\n",
    "l_d_r_y_quat_data_stop_270=[]\n",
    "l_d_r_z_quat_data_stop_270=[]\n",
    "l_d_r_w_quat_data_stop_270=[]\n",
    "for index_270, row_270 in data_stop_270.iterrows():\n",
    "    e_r_x_euler_data_stop_270,e_r_y_euler_data_stop_270,e_r_z_euler_data_stop_270=euler_from_quaternion(row_270[3],row_270[4],row_270[5],row_270[6])\n",
    "    d_r_x_euler_data_stop_270,d_r_y_euler_data_stop_270,d_r_z_euler_data_stop_270=euler_from_quaternion(row_270[10],row_270[11],row_270[12],row_270[13])\n",
    "    \n",
    "    e_r_z_euler_data_stop_270=e_r_z_euler_data_stop_270+np.pi*3/4\n",
    "    d_r_z_euler_data_stop_270=d_r_z_euler_data_stop_270+np.pi*3/4\n",
    "    \n",
    "    e_r_x_data_stop_270, e_r_y_data_stop_270, e_r_z_data_stop_270,e_r_w_data_stop_270=get_quaternion_from_euler(e_r_x_euler_data_stop_270, e_r_y_euler_data_stop_270,e_r_z_euler_data_stop_270)\n",
    "    d_r_x_data_stop_270, d_r_y_data_stop_270, d_r_z_data_stop_270,d_r_w_data_stop_270=get_quaternion_from_euler(d_r_x_euler_data_stop_270, d_r_y_euler_data_stop_270,d_r_z_euler_data_stop_270)\n",
    "    \n",
    "    l_e_r_x_quat_data_stop_270.append(e_r_x_data_stop_270)\n",
    "    l_e_r_y_quat_data_stop_270.append(e_r_y_data_stop_270)\n",
    "    l_e_r_z_quat_data_stop_270.append(e_r_z_data_stop_270)\n",
    "    l_e_r_w_quat_data_stop_270.append(e_r_w_data_stop_270)\n",
    "    l_d_r_x_quat_data_stop_270.append(d_r_x_data_stop_270)\n",
    "    l_d_r_y_quat_data_stop_270.append(d_r_y_data_stop_270)\n",
    "    l_d_r_z_quat_data_stop_270.append(d_r_z_data_stop_270)\n",
    "    l_d_r_w_quat_data_stop_270.append(d_r_w_data_stop_270)\n",
    "    \n",
    "data_stop_270['e_r_x']=l_e_r_x_quat_data_stop_270\n",
    "data_stop_270['e_r_y']=l_e_r_y_quat_data_stop_270\n",
    "data_stop_270['e_r_z']=l_e_r_z_quat_data_stop_270\n",
    "data_stop_270['e_r_w']=l_e_r_w_quat_data_stop_270\n",
    "data_stop_270['d_r_x']=l_d_r_x_quat_data_stop_270\n",
    "data_stop_270['d_r_y']=l_d_r_y_quat_data_stop_270\n",
    "data_stop_270['d_r_z']=l_d_r_z_quat_data_stop_270\n",
    "data_stop_270['d_r_w']=l_d_r_w_quat_data_stop_270\n",
    "\n"
   ]
  },
  {
   "cell_type": "code",
   "execution_count": null,
   "id": "2ca2dea9",
   "metadata": {},
   "outputs": [],
   "source": []
  },
  {
   "cell_type": "code",
   "execution_count": null,
   "id": "8d71bb24",
   "metadata": {},
   "outputs": [],
   "source": []
  },
  {
   "cell_type": "code",
   "execution_count": null,
   "id": "b8526ade",
   "metadata": {},
   "outputs": [],
   "source": []
  },
  {
   "cell_type": "code",
   "execution_count": null,
   "id": "a0960ed9",
   "metadata": {},
   "outputs": [],
   "source": [
    "data_stop_0_90 = data_stop_0.append(data_stop_90, ignore_index=True)\n",
    "data_stop_0_90_180 = data_stop_0_90.append(data_stop_180, ignore_index=True)\n",
    "data_stop = data_stop_0_90_180.append(data_stop_270, ignore_index=True)\n",
    "data_stop"
   ]
  },
  {
   "cell_type": "code",
   "execution_count": null,
   "id": "79a6ae39",
   "metadata": {},
   "outputs": [],
   "source": [
    "data_0_slow= old_full_data.loc[old_full_data['speed']==\"slow\"][1:].reset_index(drop=True)\n",
    "data_0_fast=old_full_data.loc[old_full_data['speed']==\"fast\"][1:].reset_index(drop=True)"
   ]
  },
  {
   "cell_type": "code",
   "execution_count": null,
   "id": "1ad9f9da",
   "metadata": {},
   "outputs": [],
   "source": [
    "data_0 = data_0_slow.append(data_0_fast, ignore_index=True)\n",
    "data_0"
   ]
  },
  {
   "cell_type": "code",
   "execution_count": null,
   "id": "9a2538b6",
   "metadata": {},
   "outputs": [],
   "source": [
    "data_90_left_foot_without_negativation = swap_columns(data_0, 'e_t_x', 'e_t_z')\n",
    "data_90_left_foot_without_negativation[\"e_t_z\"] = data_90_left_foot_without_negativation[\"e_t_z\"]*-1\n",
    "data_90_left_foot=data_90_left_foot_without_negativation\n",
    "data_90_left_right_foot_without_negativation = swap_columns(data_90_left_foot, 'd_t_x', 'd_t_z')\n",
    "data_90_left_right_foot_without_negativation[\"d_t_z\"] = data_90_left_right_foot_without_negativation[\"d_t_z\"]*-1\n",
    "data_90=data_90_left_right_foot_without_negativation\n",
    "\n",
    "data_90.rename(columns={'e_t_z':'e_t_x2'}, inplace=True)\n",
    "data_90.rename(columns={'e_t_x':'e_t_z'}, inplace=True)\n",
    "data_90.rename(columns={'e_t_x2':'e_t_x'}, inplace=True)\n",
    "data_90.rename(columns={'d_t_z':'d_t_x2'}, inplace=True)\n",
    "data_90.rename(columns={'d_t_x':'d_t_z'}, inplace=True)\n",
    "data_90.rename(columns={'d_t_x2':'d_t_x'}, inplace=True)\n",
    "data_90"
   ]
  },
  {
   "cell_type": "code",
   "execution_count": null,
   "id": "0c159d87",
   "metadata": {},
   "outputs": [],
   "source": [
    "data_180_left_foot_without_negativation = swap_columns(data_90, 'e_t_x', 'e_t_z')\n",
    "data_180_left_foot_without_negativation[\"e_t_z\"] = data_180_left_foot_without_negativation[\"e_t_z\"]*-1\n",
    "data_180_left_foot=data_180_left_foot_without_negativation\n",
    "data_180_left_right_foot_without_negativation = swap_columns(data_180_left_foot, 'd_t_x', 'd_t_z')\n",
    "data_180_left_right_foot_without_negativation[\"d_t_z\"] = data_180_left_right_foot_without_negativation[\"d_t_z\"]*-1\n",
    "data_180=data_180_left_right_foot_without_negativation\n",
    "\n",
    "data_180.rename(columns={'e_t_z':'e_t_x2'}, inplace=True)\n",
    "data_180.rename(columns={'e_t_x':'e_t_z'}, inplace=True)\n",
    "data_180.rename(columns={'e_t_x2':'e_t_x'}, inplace=True)\n",
    "data_180.rename(columns={'d_t_z':'d_t_x2'}, inplace=True)\n",
    "data_180.rename(columns={'d_t_x':'d_t_z'}, inplace=True)\n",
    "data_180.rename(columns={'d_t_x2':'d_t_x'}, inplace=True)\n",
    "data_180"
   ]
  },
  {
   "cell_type": "code",
   "execution_count": null,
   "id": "b0e4e58e",
   "metadata": {},
   "outputs": [],
   "source": [
    "data_270_left_foot_without_negativation = swap_columns(data_180, 'e_t_x', 'e_t_z')\n",
    "data_270_left_foot_without_negativation[\"e_t_z\"] = data_270_left_foot_without_negativation[\"e_t_z\"]*-1\n",
    "data_270_left_foot=data_270_left_foot_without_negativation\n",
    "data_270_left_right_foot_without_negativation = swap_columns(data_270_left_foot, 'd_t_x', 'd_t_z')\n",
    "data_270_left_right_foot_without_negativation[\"d_t_z\"] = data_270_left_right_foot_without_negativation[\"d_t_z\"]*-1\n",
    "data_270=data_270_left_right_foot_without_negativation\n",
    "\n",
    "data_270.rename(columns={'e_t_z':'e_t_x2'}, inplace=True)\n",
    "data_270.rename(columns={'e_t_x':'e_t_z'}, inplace=True)\n",
    "data_270.rename(columns={'e_t_x2':'e_t_x'}, inplace=True)\n",
    "data_270.rename(columns={'d_t_z':'d_t_x2'}, inplace=True)\n",
    "data_270.rename(columns={'d_t_x':'d_t_z'}, inplace=True)\n",
    "data_270.rename(columns={'d_t_x2':'d_t_x'}, inplace=True)\n",
    "data_270"
   ]
  },
  {
   "cell_type": "code",
   "execution_count": null,
   "id": "5672beaf",
   "metadata": {},
   "outputs": [],
   "source": []
  },
  {
   "cell_type": "code",
   "execution_count": null,
   "id": "72584243",
   "metadata": {},
   "outputs": [],
   "source": [
    "l_e_r_x_quat_data_90=[]\n",
    "l_e_r_y_quat_data_90=[]\n",
    "l_e_r_z_quat_data_90=[]\n",
    "l_e_r_w_quat_data_90=[]\n",
    "l_d_r_x_quat_data_90=[]\n",
    "l_d_r_y_quat_data_90=[]\n",
    "l_d_r_z_quat_data_90=[]\n",
    "l_d_r_w_quat_data_90=[]\n",
    "for index_m_90, row_m_90 in data_90.iterrows():\n",
    "    e_r_x_euler_data_90,e_r_y_euler_data_90,e_r_z_euler_data_90=euler_from_quaternion(row_m_90[3],row_m_90[4],row_m_90[5],row_m_90[6])\n",
    "    d_r_x_euler_data_90,d_r_y_euler_data_90,d_r_z_euler_data_90=euler_from_quaternion(row_m_90[10],row_m_90[11],row_m_90[12],row_m_90[13])\n",
    "    \n",
    "    e_r_z_euler_data_90=e_r_z_euler_data_90+np.pi/2\n",
    "    d_r_z_euler_data_90=d_r_z_euler_data_90+np.pi/2\n",
    "    \n",
    "    e_r_x_data_90, e_r_y_data_90, e_r_z_data_90,e_r_w_data_90=get_quaternion_from_euler(e_r_x_euler_data_90, e_r_y_euler_data_90,e_r_z_euler_data_90)\n",
    "    d_r_x_data_90, d_r_y_data_90, d_r_z_data_90,d_r_w_data_90=get_quaternion_from_euler(d_r_x_euler_data_90, d_r_y_euler_data_90,d_r_z_euler_data_90)\n",
    "    \n",
    "    l_e_r_x_quat_data_90.append(e_r_x_data_90)\n",
    "    l_e_r_y_quat_data_90.append(e_r_y_data_90)\n",
    "    l_e_r_z_quat_data_90.append(e_r_z_data_90)\n",
    "    l_e_r_w_quat_data_90.append(e_r_w_data_90)\n",
    "    l_d_r_x_quat_data_90.append(d_r_x_data_90)\n",
    "    l_d_r_y_quat_data_90.append(d_r_y_data_90)\n",
    "    l_d_r_z_quat_data_90.append(d_r_z_data_90)\n",
    "    l_d_r_w_quat_data_90.append(d_r_w_data_90)\n",
    "    \n",
    "data_90['e_r_x']=l_e_r_x_quat_data_90\n",
    "data_90['e_r_y']=l_e_r_y_quat_data_90\n",
    "data_90['e_r_z']=l_e_r_z_quat_data_90\n",
    "data_90['e_r_w']=l_e_r_w_quat_data_90\n",
    "data_90['d_r_x']=l_d_r_x_quat_data_90\n",
    "data_90['d_r_y']=l_d_r_y_quat_data_90\n",
    "data_90['d_r_z']=l_d_r_z_quat_data_90\n",
    "data_90['d_r_w']=l_d_r_w_quat_data_90\n",
    "\n"
   ]
  },
  {
   "cell_type": "code",
   "execution_count": null,
   "id": "cd03cc8c",
   "metadata": {},
   "outputs": [],
   "source": [
    "l_e_r_x_quat_data_180=[]\n",
    "l_e_r_y_quat_data_180=[]\n",
    "l_e_r_z_quat_data_180=[]\n",
    "l_e_r_w_quat_data_180=[]\n",
    "l_d_r_x_quat_data_180=[]\n",
    "l_d_r_y_quat_data_180=[]\n",
    "l_d_r_z_quat_data_180=[]\n",
    "l_d_r_w_quat_data_180=[]\n",
    "for index_m_180, row_m_180 in data_180.iterrows():\n",
    "    e_r_x_euler_data_180,e_r_y_euler_data_180,e_r_z_euler_data_180=euler_from_quaternion(row_m_180[3],row_m_180[4],row_m_180[5],row_m_180[6])\n",
    "    d_r_x_euler_data_180,d_r_y_euler_data_180,d_r_z_euler_data_180=euler_from_quaternion(row_m_180[10],row_m_180[11],row_m_180[12],row_m_180[13])\n",
    "    \n",
    "    e_r_z_euler_data_180=e_r_z_euler_data_180+np.pi/2\n",
    "    d_r_z_euler_data_180=d_r_z_euler_data_180+np.pi/2\n",
    "    \n",
    "    e_r_x_data_180, e_r_y_data_180, e_r_z_data_180,e_r_w_data_180=get_quaternion_from_euler(e_r_x_euler_data_180, e_r_y_euler_data_180,e_r_z_euler_data_180)\n",
    "    d_r_x_data_180, d_r_y_data_180, d_r_z_data_180,d_r_w_data_180=get_quaternion_from_euler(d_r_x_euler_data_180, d_r_y_euler_data_180,d_r_z_euler_data_180)\n",
    "    \n",
    "    l_e_r_x_quat_data_180.append(e_r_x_data_180)\n",
    "    l_e_r_y_quat_data_180.append(e_r_y_data_180)\n",
    "    l_e_r_z_quat_data_180.append(e_r_z_data_180)\n",
    "    l_e_r_w_quat_data_180.append(e_r_w_data_180)\n",
    "    l_d_r_x_quat_data_180.append(d_r_x_data_180)\n",
    "    l_d_r_y_quat_data_180.append(d_r_y_data_180)\n",
    "    l_d_r_z_quat_data_180.append(d_r_z_data_180)\n",
    "    l_d_r_w_quat_data_180.append(d_r_w_data_180)\n",
    "    \n",
    "data_180['e_r_x']=l_e_r_x_quat_data_180\n",
    "data_180['e_r_y']=l_e_r_y_quat_data_180\n",
    "data_180['e_r_z']=l_e_r_z_quat_data_180\n",
    "data_180['e_r_w']=l_e_r_w_quat_data_180\n",
    "data_180['d_r_x']=l_d_r_x_quat_data_180\n",
    "data_180['d_r_y']=l_d_r_y_quat_data_180\n",
    "data_180['d_r_z']=l_d_r_z_quat_data_180\n",
    "data_180['d_r_w']=l_d_r_w_quat_data_180\n",
    "\n"
   ]
  },
  {
   "cell_type": "code",
   "execution_count": null,
   "id": "b977f9c1",
   "metadata": {},
   "outputs": [],
   "source": [
    "l_e_r_x_quat_data_270=[]\n",
    "l_e_r_y_quat_data_270=[]\n",
    "l_e_r_z_quat_data_270=[]\n",
    "l_e_r_w_quat_data_270=[]\n",
    "l_d_r_x_quat_data_270=[]\n",
    "l_d_r_y_quat_data_270=[]\n",
    "l_d_r_z_quat_data_270=[]\n",
    "l_d_r_w_quat_data_270=[]\n",
    "for index_m_270, row_m_270 in data_270.iterrows():\n",
    "    e_r_x_euler_data_270,e_r_y_euler_data_270,e_r_z_euler_data_270=euler_from_quaternion(row_m_270[3],row_m_270[4],row_m_270[5],row_m_270[6])\n",
    "    d_r_x_euler_data_270,d_r_y_euler_data_270,d_r_z_euler_data_270=euler_from_quaternion(row_m_270[10],row_m_270[11],row_m_270[12],row_m_270[13])\n",
    "    \n",
    "    e_r_z_euler_data_270=e_r_z_euler_data_270+np.pi/2\n",
    "    d_r_z_euler_data_270=d_r_z_euler_data_270+np.pi/2\n",
    "    \n",
    "    e_r_x_data_270, e_r_y_data_270, e_r_z_data_270,e_r_w_data_270=get_quaternion_from_euler(e_r_x_euler_data_270, e_r_y_euler_data_270,e_r_z_euler_data_270)\n",
    "    d_r_x_data_270, d_r_y_data_270, d_r_z_data_270,d_r_w_data_270=get_quaternion_from_euler(d_r_x_euler_data_270, d_r_y_euler_data_270,d_r_z_euler_data_270)\n",
    "    \n",
    "    l_e_r_x_quat_data_270.append(e_r_x_data_270)\n",
    "    l_e_r_y_quat_data_270.append(e_r_y_data_270)\n",
    "    l_e_r_z_quat_data_270.append(e_r_z_data_270)\n",
    "    l_e_r_w_quat_data_270.append(e_r_w_data_270)\n",
    "    l_d_r_x_quat_data_270.append(d_r_x_data_270)\n",
    "    l_d_r_y_quat_data_270.append(d_r_y_data_270)\n",
    "    l_d_r_z_quat_data_270.append(d_r_z_data_270)\n",
    "    l_d_r_w_quat_data_270.append(d_r_w_data_270)\n",
    "    \n",
    "data_270['e_r_x']=l_e_r_x_quat_data_270\n",
    "data_270['e_r_y']=l_e_r_y_quat_data_270\n",
    "data_270['e_r_z']=l_e_r_z_quat_data_270\n",
    "data_270['e_r_w']=l_e_r_w_quat_data_270\n",
    "data_270['d_r_x']=l_d_r_x_quat_data_270\n",
    "data_270['d_r_y']=l_d_r_y_quat_data_270\n",
    "data_270['d_r_z']=l_d_r_z_quat_data_270\n",
    "data_270['d_r_w']=l_d_r_w_quat_data_270\n",
    "\n"
   ]
  },
  {
   "cell_type": "code",
   "execution_count": null,
   "id": "018ea2fa",
   "metadata": {},
   "outputs": [],
   "source": [
    "# data_stop.to_csv('stop_90_quat.csv', index=False, header=True)\n",
    "# data_0.to_csv('0_90_quat.csv', index=False, header=True)\n",
    "# data_90.to_csv('90_90_quat.csv', index=False, header=True)\n",
    "# data_180.to_csv('180_90_quat.csv', index=False, header=True)\n",
    "# data_270.to_csv('270_90_quat.csv', index=False, header=True)"
   ]
  },
  {
   "cell_type": "code",
   "execution_count": null,
   "id": "cdcdc899",
   "metadata": {},
   "outputs": [],
   "source": []
  },
  {
   "cell_type": "code",
   "execution_count": null,
   "id": "f1a96645",
   "metadata": {},
   "outputs": [],
   "source": [
    "data_90"
   ]
  },
  {
   "cell_type": "code",
   "execution_count": null,
   "id": "ccce2a61",
   "metadata": {},
   "outputs": [],
   "source": []
  },
  {
   "cell_type": "code",
   "execution_count": null,
   "id": "5e58cde3",
   "metadata": {},
   "outputs": [],
   "source": []
  },
  {
   "cell_type": "code",
   "execution_count": null,
   "id": "e540cada",
   "metadata": {},
   "outputs": [],
   "source": []
  },
  {
   "cell_type": "code",
   "execution_count": null,
   "id": "44f990b1",
   "metadata": {},
   "outputs": [],
   "source": []
  },
  {
   "cell_type": "code",
   "execution_count": null,
   "id": "e8955385",
   "metadata": {},
   "outputs": [],
   "source": []
  },
  {
   "cell_type": "code",
   "execution_count": null,
   "id": "d642c6db",
   "metadata": {},
   "outputs": [],
   "source": []
  },
  {
   "cell_type": "code",
   "execution_count": null,
   "id": "4683fa2b",
   "metadata": {},
   "outputs": [],
   "source": []
  },
  {
   "cell_type": "code",
   "execution_count": null,
   "id": "bc933ec2",
   "metadata": {},
   "outputs": [],
   "source": []
  },
  {
   "cell_type": "code",
   "execution_count": null,
   "id": "c4fada69",
   "metadata": {},
   "outputs": [],
   "source": []
  },
  {
   "cell_type": "code",
   "execution_count": null,
   "id": "4952e6da",
   "metadata": {},
   "outputs": [],
   "source": []
  },
  {
   "cell_type": "code",
   "execution_count": null,
   "id": "d7cc8e3e",
   "metadata": {},
   "outputs": [],
   "source": []
  }
 ],
 "metadata": {
  "accelerator": "GPU",
  "colab": {
   "collapsed_sections": [],
   "provenance": []
  },
  "gpuClass": "standard",
  "kernelspec": {
   "display_name": "Python 3 (ipykernel)",
   "language": "python",
   "name": "python3"
  },
  "language_info": {
   "codemirror_mode": {
    "name": "ipython",
    "version": 3
   },
   "file_extension": ".py",
   "mimetype": "text/x-python",
   "name": "python",
   "nbconvert_exporter": "python",
   "pygments_lexer": "ipython3",
   "version": "3.9.12"
  }
 },
 "nbformat": 4,
 "nbformat_minor": 5
}
