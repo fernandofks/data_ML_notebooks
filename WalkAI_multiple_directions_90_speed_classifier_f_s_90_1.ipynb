{
 "cells": [
  {
   "cell_type": "code",
   "execution_count": 30,
   "id": "b41f0b0f-cc96-43a2-ab7f-f3264587e7d2",
   "metadata": {
    "id": "b41f0b0f-cc96-43a2-ab7f-f3264587e7d2"
   },
   "outputs": [],
   "source": [
    "from pathlib import Path\n",
    "import matplotlib.pyplot as plt\n",
    "import numpy as np\n",
    "import pandas as pd\n",
    "import tensorflow as tf\n",
    "import tensorflow.keras as keras\n",
    "from tensorflow.python.keras.layers import Dense\n",
    "from numpy.random import default_rng\n",
    "from sklearn.model_selection import train_test_split"
   ]
  },
  {
   "cell_type": "code",
   "execution_count": 31,
   "id": "c9e9560b-749a-49a8-aedf-44a1ac9b4bb1",
   "metadata": {
    "id": "c9e9560b-749a-49a8-aedf-44a1ac9b4bb1"
   },
   "outputs": [],
   "source": [
    "# Loading pipeline params.\n",
    "DATA_PATH = Path('data')\n",
    "FILENAME_STOP = 'stop_90_diff_quat.csv'\n",
    "FILENAME_0 = '0_90_diff_quat.csv'\n",
    "FILENAME_90 = '90_90_diff_quat.csv'\n",
    "FILENAME_180 = '180_90_diff_quat.csv'\n",
    "FILENAME_270 = '270_90_diff_quat.csv'\n",
    "\n",
    "NUM_TIMESTEPS = 6\n",
    "IGNORE_FRACTION = 0.1\n",
    "TEST_FRACTION = 0.25\n",
    "\n",
    "# Training params.\n",
    "LEARNING_RATE = 1e-5\n",
    "EPOCHS = 100\n",
    "BATCH_SIZE = 512"
   ]
  },
  {
   "cell_type": "code",
   "execution_count": 32,
   "id": "7f52716d-1339-4484-9fd3-d5206979ba8e",
   "metadata": {
    "id": "7f52716d-1339-4484-9fd3-d5206979ba8e"
   },
   "outputs": [],
   "source": [
    "def load_data(\n",
    "    path_stop,\n",
    "    path_0,\n",
    "    path_90,\n",
    "    path_180,\n",
    "    path_270,\n",
    "    num_timesteps,\n",
    "    ignore_fraction,\n",
    "    test_fraction,\n",
    "):\n",
    "\n",
    "    def read_and_prepare_data(\n",
    "        path,\n",
    "        class_,\n",
    "        num_timesteps,\n",
    "        ignore_fraction,\n",
    "        test_fraction,\n",
    "    ):\n",
    "\n",
    "        def split_temporally(X, test_fraction):\n",
    "            num_samples = X.shape[0]\n",
    "            num_train = int(num_samples * (1.0 - test_fraction))\n",
    "            X_train, X_test = X[:num_train], X[num_train:]\n",
    "            return X_train, X_test\n",
    "\n",
    "        def transform_into_sequences(X, num_timesteps):\n",
    "            num_samples = X.shape[0]\n",
    "            X_seq = []\n",
    "            for k in range(num_samples - num_timesteps + 1):\n",
    "                X_seq.append(X[k:(k + num_timesteps)])\n",
    "            X_seq = np.array(X_seq)\n",
    "            y_seq = class_ * np.ones((X_seq.shape[0], 1))\n",
    "            return X_seq, y_seq\n",
    "\n",
    "        X = pd.read_csv(path).values\n",
    "        X = X[:, [0,1,2,3,4,5,6,7,8,9,10,11,12,13]]\n",
    "\n",
    "        # Ignore beginning and end.\n",
    "        num_samples = X.shape[0]\n",
    "        num_ignore = int(ignore_fraction * num_samples)\n",
    "        X = X[num_ignore:-num_ignore]\n",
    "\n",
    "        # Split X temporally.\n",
    "        X_train, X_test = split_temporally(X, test_fraction)\n",
    "        \n",
    "        # Transform X into short sequences.\n",
    "        X_train, y_train = transform_into_sequences(X_train, num_timesteps)\n",
    "        X_test, y_test = transform_into_sequences(X_test, num_timesteps)\n",
    "        X_test, X_val, y_test, y_val = train_test_split(X_test, y_test, test_size=0.5, random_state=42)\n",
    "        return X_train, y_train, X_test, y_test, X_val, y_val\n",
    "\n",
    "    def shuffle_data(X, y):\n",
    "        idx = np.arange(len(X))\n",
    "        default_rng().shuffle(idx)\n",
    "        X_shuffled = X[idx, :]\n",
    "        y_shuffled = y[idx]\n",
    "        return X_shuffled, y_shuffled\n",
    "\n",
    "    X_train_stop, y_train_stop, X_test_stop, y_test_stop, X_val_stop, y_val_stop = \\\n",
    "        read_and_prepare_data(\n",
    "            path_stop,\n",
    "            0.0,\n",
    "            num_timesteps,\n",
    "            ignore_fraction,\n",
    "            test_fraction,\n",
    "        )\n",
    "    \n",
    "    X_train_0, y_train_0, X_test_0, y_test_0, X_val_0, y_val_0 = \\\n",
    "        read_and_prepare_data(\n",
    "            path_0,\n",
    "            1.0,\n",
    "            num_timesteps,\n",
    "            ignore_fraction,\n",
    "            test_fraction,\n",
    "        )\n",
    "\n",
    "    X_train_90, y_train_90, X_test_90, y_test_90, X_val_90, y_val_90 = \\\n",
    "        read_and_prepare_data(\n",
    "            path_90,\n",
    "            2.0,\n",
    "            num_timesteps,\n",
    "            ignore_fraction,\n",
    "            test_fraction,\n",
    "        )\n",
    "    \n",
    "    X_train_180, y_train_180, X_test_180, y_test_180, X_val_180, y_val_180 = \\\n",
    "        read_and_prepare_data(\n",
    "            path_180,\n",
    "            3.0,\n",
    "            num_timesteps,\n",
    "            ignore_fraction,\n",
    "            test_fraction,\n",
    "        )\n",
    "    \n",
    "    X_train_270, y_train_270, X_test_270, y_test_270,X_val_270, y_val_270  = \\\n",
    "        read_and_prepare_data(\n",
    "            path_270,\n",
    "            4.0,\n",
    "            num_timesteps,\n",
    "            ignore_fraction,\n",
    "            test_fraction,\n",
    "        )\n",
    "\n",
    "    X_train = np.concatenate((X_train_stop, X_train_0, X_train_90, X_train_180, X_train_270), axis=0)\n",
    "    y_train = np.concatenate((y_train_stop, y_train_0, y_train_90, y_train_180, y_train_270), axis=0)\n",
    "    X_test = np.concatenate((X_test_stop, X_test_0, X_test_90, X_test_180, X_test_270), axis=0)\n",
    "    y_test = np.concatenate((y_test_stop, y_test_0, y_test_90, y_test_180, y_test_270), axis=0)\n",
    "    X_val = np.concatenate((X_val_stop, X_val_0, X_val_90, X_val_180, X_val_270), axis=0)\n",
    "    y_val = np.concatenate((y_val_stop, y_val_0, y_val_90, y_val_180, y_val_270), axis=0)\n",
    "\n",
    "    \n",
    "    \n",
    "    X_train, y_train = shuffle_data(X_train, y_train)\n",
    "    X_test, y_test = shuffle_data(X_test, y_test)\n",
    "    X_val, y_val = shuffle_data(X_val, y_val)\n",
    "    return X_train, X_test,X_val, y_train, y_test, y_val\n",
    "\n",
    "\n",
    "path_stop = Path(DATA_PATH, FILENAME_STOP)\n",
    "path_0 = Path(DATA_PATH, FILENAME_0)\n",
    "path_90 = Path(DATA_PATH, FILENAME_90)\n",
    "path_180 = Path(DATA_PATH, FILENAME_180)\n",
    "path_270 = Path(DATA_PATH, FILENAME_270)\n",
    "\n",
    "X_train, X_test, X_val, y_train, y_test , y_val= load_data(\n",
    "    path_stop,\n",
    "    path_0,\n",
    "    path_90,\n",
    "    path_180,\n",
    "    path_270,\n",
    "    NUM_TIMESTEPS,\n",
    "    IGNORE_FRACTION,\n",
    "    TEST_FRACTION,\n",
    ")"
   ]
  },
  {
   "cell_type": "code",
   "execution_count": 33,
   "id": "99c35712-1089-44f3-89ef-ed471b144c96",
   "metadata": {
    "colab": {
     "base_uri": "https://localhost:8080/"
    },
    "id": "99c35712-1089-44f3-89ef-ed471b144c96",
    "outputId": "9076061a-8661-4d2e-c1ed-887a92ec640b"
   },
   "outputs": [
    {
     "data": {
      "text/plain": [
       "((14375, 6, 14), (14375, 1), (2385, 6, 14), (2385, 1))"
      ]
     },
     "execution_count": 33,
     "metadata": {},
     "output_type": "execute_result"
    }
   ],
   "source": [
    "X_train.shape, y_train.shape, X_test.shape, y_test.shape"
   ]
  },
  {
   "cell_type": "code",
   "execution_count": 34,
   "id": "VqSuqgBCB_nA",
   "metadata": {
    "colab": {
     "base_uri": "https://localhost:8080/"
    },
    "id": "VqSuqgBCB_nA",
    "outputId": "26d50bbe-3fd3-4bed-e70e-7003d289c5d6"
   },
   "outputs": [
    {
     "data": {
      "text/plain": [
       "(6, 14)"
      ]
     },
     "execution_count": 34,
     "metadata": {},
     "output_type": "execute_result"
    }
   ],
   "source": [
    "X_test[60].shape\n"
   ]
  },
  {
   "cell_type": "code",
   "execution_count": null,
   "id": "dye8vjENBtXX",
   "metadata": {
    "id": "dye8vjENBtXX"
   },
   "outputs": [],
   "source": []
  },
  {
   "cell_type": "code",
   "execution_count": null,
   "id": "-3TttkaRCM4l",
   "metadata": {
    "id": "-3TttkaRCM4l"
   },
   "outputs": [],
   "source": []
  },
  {
   "cell_type": "code",
   "execution_count": 138,
   "id": "3a85634b-4e9c-45b8-b456-cb970457302f",
   "metadata": {
    "id": "3a85634b-4e9c-45b8-b456-cb970457302f"
   },
   "outputs": [
    {
     "name": "stdout",
     "output_type": "stream",
     "text": [
      "Model: \"Sequential_CNN\"\n",
      "_________________________________________________________________\n",
      " Layer (type)                Output Shape              Param #   \n",
      "=================================================================\n",
      " conv2d_9 (Conv2D)           (None, 2, 4, 256)         1280      \n",
      "                                                                 \n",
      " max_pooling2d_5 (MaxPooling  (None, 1, 3, 256)        0         \n",
      " 2D)                                                             \n",
      "                                                                 \n",
      " flatten_19 (Flatten)        (None, 768)               0         \n",
      "                                                                 \n",
      " dense_29 (Dense)            (None, 5)                 3845      \n",
      "                                                                 \n",
      "=================================================================\n",
      "Total params: 5,125\n",
      "Trainable params: 5,125\n",
      "Non-trainable params: 0\n",
      "_________________________________________________________________\n"
     ]
    }
   ],
   "source": [
    "from tensorflow.keras.models import Sequential\n",
    "from tensorflow.keras.layers import Conv2D, MaxPooling2D, Flatten, Dense, InputLayer\n",
    "\n",
    "CNN = Sequential(name=\"Sequential_CNN\")\n",
    "\n",
    "CNN.add(Conv2D(256, kernel_size=(2, 2),\n",
    "               strides=(4, 4), padding=\"same\",\n",
    "               activation=\"selu\", input_shape=[6, 14, 1]))\n",
    "\n",
    "CNN.add(MaxPooling2D(pool_size=(2, 2), strides=(1, 1),\n",
    "                     padding=\"valid\"))\n",
    "\n",
    "# Add another pair of Conv2D and MaxPooling2D for more model depth,\n",
    "# followed by the flatten and multiple dense layers\n",
    "\n",
    "# CNN.add(Conv2D(64, kernel_size=(3, 3),\n",
    "#                strides=(1, 1), padding=\"same\",\n",
    "#                activation=\"selu\"))\n",
    "\n",
    "# CNN.add(MaxPooling2D(pool_size=(2, 2), strides=(1, 1),\n",
    "#                      padding=\"valid\"))\n",
    "# CNN.add(InputLayer(input_shape=(6,14,1 )))\n",
    "CNN.add(Flatten(input_shape=(6,14,1 )))\n",
    "CNN.add(Flatten(input_shape=(6,14,1 )))\n",
    "\n",
    "CNN.add(Dense(64, activation='selu'))\n",
    "CNN.add(Dense(32, activation='selu'))\n",
    "CNN.add(Dense(5, activation='softmax'))\n",
    "\n",
    "CNN.summary()"
   ]
  },
  {
   "cell_type": "code",
   "execution_count": null,
   "id": "j0C2RSxICKzq",
   "metadata": {
    "colab": {
     "base_uri": "https://localhost:8080/"
    },
    "id": "j0C2RSxICKzq",
    "outputId": "af853522-fdf6-40e4-8d0e-cd2a6dcdab9b"
   },
   "outputs": [],
   "source": []
  },
  {
   "cell_type": "code",
   "execution_count": 139,
   "id": "911581af",
   "metadata": {},
   "outputs": [],
   "source": [
    "from numpy import *\n",
    "where_are_NaNsx = isnan(X_train)\n",
    "X_train[where_are_NaNsx] = 0\n",
    "\n",
    "where_are_NaNsy = isnan(y_train)\n",
    "y_train[where_are_NaNsy] = 0\n",
    "\n",
    "where_are_NaNsxt = isnan(X_test)\n",
    "X_test[where_are_NaNsxt] = 0\n",
    "\n",
    "where_are_NaNsyt = isnan(y_test)\n",
    "y_test[where_are_NaNsyt] = 0"
   ]
  },
  {
   "cell_type": "code",
   "execution_count": 140,
   "id": "7baf8970-5318-4461-b828-d34c232afa5f",
   "metadata": {
    "colab": {
     "base_uri": "https://localhost:8080/"
    },
    "id": "7baf8970-5318-4461-b828-d34c232afa5f",
    "outputId": "08a66cc8-aeee-42ba-f039-9dfa2ba6f99e"
   },
   "outputs": [
    {
     "name": "stdout",
     "output_type": "stream",
     "text": [
      "Epoch 1/100\n",
      "57/57 [==============================] - 1s 9ms/step - loss: 1.5756 - categorical_accuracy: 0.1734 - val_loss: 1.5338 - val_categorical_accuracy: 0.0029\n",
      "Epoch 2/100\n",
      "57/57 [==============================] - 1s 10ms/step - loss: 1.4834 - categorical_accuracy: 6.9565e-04 - val_loss: 1.4485 - val_categorical_accuracy: 0.0000e+00\n",
      "Epoch 3/100\n",
      "57/57 [==============================] - 0s 8ms/step - loss: 1.3810 - categorical_accuracy: 0.0000e+00 - val_loss: 1.3521 - val_categorical_accuracy: 0.0000e+00\n",
      "Epoch 4/100\n",
      "57/57 [==============================] - 0s 8ms/step - loss: 1.2687 - categorical_accuracy: 0.0000e+00 - val_loss: 1.2497 - val_categorical_accuracy: 0.0000e+00\n",
      "Epoch 5/100\n",
      "57/57 [==============================] - 0s 8ms/step - loss: 1.1558 - categorical_accuracy: 0.0000e+00 - val_loss: 1.1523 - val_categorical_accuracy: 0.0000e+00\n",
      "Epoch 6/100\n",
      "57/57 [==============================] - 0s 8ms/step - loss: 1.0523 - categorical_accuracy: 0.0000e+00 - val_loss: 1.0663 - val_categorical_accuracy: 0.0000e+00\n",
      "Epoch 7/100\n",
      "57/57 [==============================] - 1s 9ms/step - loss: 0.9644 - categorical_accuracy: 0.0000e+00 - val_loss: 0.9886 - val_categorical_accuracy: 0.0000e+00\n",
      "Epoch 8/100\n",
      "57/57 [==============================] - 1s 12ms/step - loss: 0.8926 - categorical_accuracy: 6.9565e-05 - val_loss: 0.9238 - val_categorical_accuracy: 0.0000e+00\n",
      "Epoch 9/100\n",
      "57/57 [==============================] - 1s 9ms/step - loss: 0.8347 - categorical_accuracy: 2.0870e-04 - val_loss: 0.8638 - val_categorical_accuracy: 0.0000e+00\n",
      "Epoch 10/100\n",
      "57/57 [==============================] - 0s 9ms/step - loss: 0.7878 - categorical_accuracy: 2.7826e-04 - val_loss: 0.8135 - val_categorical_accuracy: 0.0000e+00\n",
      "Epoch 11/100\n",
      "57/57 [==============================] - 0s 8ms/step - loss: 0.7497 - categorical_accuracy: 4.8696e-04 - val_loss: 0.7706 - val_categorical_accuracy: 0.0000e+00\n",
      "Epoch 12/100\n",
      "57/57 [==============================] - 1s 9ms/step - loss: 0.7184 - categorical_accuracy: 5.5652e-04 - val_loss: 0.7347 - val_categorical_accuracy: 0.0054\n",
      "Epoch 13/100\n",
      "57/57 [==============================] - 0s 8ms/step - loss: 0.6930 - categorical_accuracy: 9.0435e-04 - val_loss: 0.7059 - val_categorical_accuracy: 0.0088\n",
      "Epoch 14/100\n",
      "57/57 [==============================] - 0s 8ms/step - loss: 0.6711 - categorical_accuracy: 0.0011 - val_loss: 0.6802 - val_categorical_accuracy: 0.0105\n",
      "Epoch 15/100\n",
      "57/57 [==============================] - 1s 10ms/step - loss: 0.6527 - categorical_accuracy: 0.0010 - val_loss: 0.6567 - val_categorical_accuracy: 0.0109\n",
      "Epoch 16/100\n",
      "57/57 [==============================] - 0s 8ms/step - loss: 0.6369 - categorical_accuracy: 0.0013 - val_loss: 0.6376 - val_categorical_accuracy: 0.0109\n",
      "Epoch 17/100\n",
      "57/57 [==============================] - 0s 8ms/step - loss: 0.6233 - categorical_accuracy: 0.0020 - val_loss: 0.6223 - val_categorical_accuracy: 0.0113\n",
      "Epoch 18/100\n",
      "57/57 [==============================] - 1s 14ms/step - loss: 0.6113 - categorical_accuracy: 0.0022 - val_loss: 0.6059 - val_categorical_accuracy: 0.0113\n",
      "Epoch 19/100\n",
      "57/57 [==============================] - 1s 10ms/step - loss: 0.6008 - categorical_accuracy: 0.0026 - val_loss: 0.5905 - val_categorical_accuracy: 0.0121\n",
      "Epoch 20/100\n",
      "57/57 [==============================] - 1s 10ms/step - loss: 0.5916 - categorical_accuracy: 0.0034 - val_loss: 0.5830 - val_categorical_accuracy: 0.0126\n",
      "Epoch 21/100\n",
      "57/57 [==============================] - 1s 9ms/step - loss: 0.5832 - categorical_accuracy: 0.0041 - val_loss: 0.5686 - val_categorical_accuracy: 0.0176\n",
      "Epoch 22/100\n",
      "57/57 [==============================] - 0s 8ms/step - loss: 0.5758 - categorical_accuracy: 0.0045 - val_loss: 0.5590 - val_categorical_accuracy: 0.0197\n",
      "Epoch 23/100\n",
      "57/57 [==============================] - 0s 8ms/step - loss: 0.5687 - categorical_accuracy: 0.0049 - val_loss: 0.5522 - val_categorical_accuracy: 0.0197\n",
      "Epoch 24/100\n",
      "57/57 [==============================] - 0s 8ms/step - loss: 0.5627 - categorical_accuracy: 0.0054 - val_loss: 0.5433 - val_categorical_accuracy: 0.0230\n",
      "Epoch 25/100\n",
      "57/57 [==============================] - 1s 9ms/step - loss: 0.5567 - categorical_accuracy: 0.0104 - val_loss: 0.5339 - val_categorical_accuracy: 0.0243\n",
      "Epoch 26/100\n",
      "57/57 [==============================] - 0s 9ms/step - loss: 0.5513 - categorical_accuracy: 0.0095 - val_loss: 0.5266 - val_categorical_accuracy: 0.0247\n",
      "Epoch 27/100\n",
      "57/57 [==============================] - 1s 9ms/step - loss: 0.5463 - categorical_accuracy: 0.0157 - val_loss: 0.5236 - val_categorical_accuracy: 0.0247\n",
      "Epoch 28/100\n",
      "57/57 [==============================] - 0s 8ms/step - loss: 0.5417 - categorical_accuracy: 0.0154 - val_loss: 0.5154 - val_categorical_accuracy: 0.0255\n",
      "Epoch 29/100\n",
      "57/57 [==============================] - 1s 9ms/step - loss: 0.5374 - categorical_accuracy: 0.0192 - val_loss: 0.5088 - val_categorical_accuracy: 0.0259\n",
      "Epoch 30/100\n",
      "57/57 [==============================] - 1s 10ms/step - loss: 0.5330 - categorical_accuracy: 0.0244 - val_loss: 0.5080 - val_categorical_accuracy: 0.0251\n",
      "Epoch 31/100\n",
      "57/57 [==============================] - 0s 8ms/step - loss: 0.5291 - categorical_accuracy: 0.0224 - val_loss: 0.4972 - val_categorical_accuracy: 0.0305\n",
      "Epoch 32/100\n",
      "57/57 [==============================] - 0s 8ms/step - loss: 0.5254 - categorical_accuracy: 0.0262 - val_loss: 0.4921 - val_categorical_accuracy: 0.0289\n",
      "Epoch 33/100\n",
      "57/57 [==============================] - 1s 11ms/step - loss: 0.5217 - categorical_accuracy: 0.0239 - val_loss: 0.4961 - val_categorical_accuracy: 0.0293\n",
      "Epoch 34/100\n",
      "57/57 [==============================] - 1s 9ms/step - loss: 0.5184 - categorical_accuracy: 0.0276 - val_loss: 0.4885 - val_categorical_accuracy: 0.0293\n",
      "Epoch 35/100\n",
      "57/57 [==============================] - 0s 9ms/step - loss: 0.5150 - categorical_accuracy: 0.0283 - val_loss: 0.4843 - val_categorical_accuracy: 0.0297\n",
      "Epoch 36/100\n",
      "57/57 [==============================] - 0s 8ms/step - loss: 0.5118 - categorical_accuracy: 0.0280 - val_loss: 0.4815 - val_categorical_accuracy: 0.0314\n",
      "Epoch 37/100\n",
      "57/57 [==============================] - 0s 8ms/step - loss: 0.5086 - categorical_accuracy: 0.0313 - val_loss: 0.4754 - val_categorical_accuracy: 0.0314\n",
      "Epoch 38/100\n",
      "57/57 [==============================] - 0s 8ms/step - loss: 0.5057 - categorical_accuracy: 0.0319 - val_loss: 0.4719 - val_categorical_accuracy: 0.0469\n",
      "Epoch 39/100\n",
      "57/57 [==============================] - 0s 8ms/step - loss: 0.5027 - categorical_accuracy: 0.0362 - val_loss: 0.4663 - val_categorical_accuracy: 0.0427\n",
      "Epoch 40/100\n",
      "57/57 [==============================] - 0s 8ms/step - loss: 0.4996 - categorical_accuracy: 0.0346 - val_loss: 0.4679 - val_categorical_accuracy: 0.0506\n",
      "Epoch 41/100\n",
      "57/57 [==============================] - 0s 8ms/step - loss: 0.4970 - categorical_accuracy: 0.0425 - val_loss: 0.4615 - val_categorical_accuracy: 0.0523\n",
      "Epoch 42/100\n",
      "57/57 [==============================] - 0s 8ms/step - loss: 0.4942 - categorical_accuracy: 0.0449 - val_loss: 0.4584 - val_categorical_accuracy: 0.0515\n",
      "Epoch 43/100\n",
      "57/57 [==============================] - 0s 8ms/step - loss: 0.4917 - categorical_accuracy: 0.0407 - val_loss: 0.4579 - val_categorical_accuracy: 0.0565\n",
      "Epoch 44/100\n",
      "57/57 [==============================] - 0s 8ms/step - loss: 0.4891 - categorical_accuracy: 0.0469 - val_loss: 0.4548 - val_categorical_accuracy: 0.0586\n",
      "Epoch 45/100\n",
      "57/57 [==============================] - 1s 10ms/step - loss: 0.4866 - categorical_accuracy: 0.0490 - val_loss: 0.4495 - val_categorical_accuracy: 0.0582\n",
      "Epoch 46/100\n",
      "57/57 [==============================] - 1s 9ms/step - loss: 0.4842 - categorical_accuracy: 0.0475 - val_loss: 0.4458 - val_categorical_accuracy: 0.0561\n",
      "Epoch 47/100\n",
      "57/57 [==============================] - 1s 10ms/step - loss: 0.4817 - categorical_accuracy: 0.0493 - val_loss: 0.4442 - val_categorical_accuracy: 0.0577\n",
      "Epoch 48/100\n",
      "57/57 [==============================] - 1s 9ms/step - loss: 0.4792 - categorical_accuracy: 0.0500 - val_loss: 0.4444 - val_categorical_accuracy: 0.0598\n",
      "Epoch 49/100\n",
      "57/57 [==============================] - 0s 8ms/step - loss: 0.4768 - categorical_accuracy: 0.0512 - val_loss: 0.4376 - val_categorical_accuracy: 0.0812\n"
     ]
    },
    {
     "name": "stdout",
     "output_type": "stream",
     "text": [
      "Epoch 50/100\n",
      "57/57 [==============================] - 0s 7ms/step - loss: 0.4748 - categorical_accuracy: 0.0518 - val_loss: 0.4380 - val_categorical_accuracy: 0.0816\n",
      "Epoch 51/100\n",
      "57/57 [==============================] - 0s 8ms/step - loss: 0.4723 - categorical_accuracy: 0.0563 - val_loss: 0.4309 - val_categorical_accuracy: 0.0795\n",
      "Epoch 52/100\n",
      "57/57 [==============================] - 0s 7ms/step - loss: 0.4701 - categorical_accuracy: 0.0559 - val_loss: 0.4319 - val_categorical_accuracy: 0.0782\n",
      "Epoch 53/100\n",
      "57/57 [==============================] - 0s 8ms/step - loss: 0.4681 - categorical_accuracy: 0.0552 - val_loss: 0.4292 - val_categorical_accuracy: 0.0837\n",
      "Epoch 54/100\n",
      "57/57 [==============================] - 0s 8ms/step - loss: 0.4657 - categorical_accuracy: 0.0589 - val_loss: 0.4312 - val_categorical_accuracy: 0.0816\n",
      "Epoch 55/100\n",
      "57/57 [==============================] - 0s 8ms/step - loss: 0.4637 - categorical_accuracy: 0.0583 - val_loss: 0.4297 - val_categorical_accuracy: 0.0845\n",
      "Epoch 56/100\n",
      "57/57 [==============================] - 0s 7ms/step - loss: 0.4617 - categorical_accuracy: 0.0586 - val_loss: 0.4225 - val_categorical_accuracy: 0.0845\n",
      "Epoch 57/100\n",
      "57/57 [==============================] - 0s 7ms/step - loss: 0.4598 - categorical_accuracy: 0.0588 - val_loss: 0.4172 - val_categorical_accuracy: 0.0812\n",
      "Epoch 58/100\n",
      "57/57 [==============================] - 0s 7ms/step - loss: 0.4575 - categorical_accuracy: 0.0600 - val_loss: 0.4173 - val_categorical_accuracy: 0.0828\n",
      "Epoch 59/100\n",
      "57/57 [==============================] - 0s 7ms/step - loss: 0.4554 - categorical_accuracy: 0.0599 - val_loss: 0.4147 - val_categorical_accuracy: 0.0975\n",
      "Epoch 60/100\n",
      "57/57 [==============================] - 0s 7ms/step - loss: 0.4538 - categorical_accuracy: 0.0611 - val_loss: 0.4155 - val_categorical_accuracy: 0.0874\n",
      "Epoch 61/100\n",
      "57/57 [==============================] - 0s 7ms/step - loss: 0.4517 - categorical_accuracy: 0.0610 - val_loss: 0.4145 - val_categorical_accuracy: 0.1092\n",
      "Epoch 62/100\n",
      "57/57 [==============================] - 0s 7ms/step - loss: 0.4499 - categorical_accuracy: 0.0610 - val_loss: 0.4101 - val_categorical_accuracy: 0.0987\n",
      "Epoch 63/100\n",
      "57/57 [==============================] - 0s 7ms/step - loss: 0.4482 - categorical_accuracy: 0.0635 - val_loss: 0.4058 - val_categorical_accuracy: 0.0979\n",
      "Epoch 64/100\n",
      "57/57 [==============================] - 0s 7ms/step - loss: 0.4461 - categorical_accuracy: 0.0630 - val_loss: 0.4133 - val_categorical_accuracy: 0.0958\n",
      "Epoch 65/100\n",
      "57/57 [==============================] - 0s 7ms/step - loss: 0.4446 - categorical_accuracy: 0.0630 - val_loss: 0.4026 - val_categorical_accuracy: 0.1079\n",
      "Epoch 66/100\n",
      "57/57 [==============================] - 0s 7ms/step - loss: 0.4427 - categorical_accuracy: 0.0636 - val_loss: 0.4067 - val_categorical_accuracy: 0.1117\n",
      "Epoch 67/100\n",
      "57/57 [==============================] - 0s 7ms/step - loss: 0.4407 - categorical_accuracy: 0.0642 - val_loss: 0.4006 - val_categorical_accuracy: 0.1159\n",
      "Epoch 68/100\n",
      "57/57 [==============================] - 0s 7ms/step - loss: 0.4391 - categorical_accuracy: 0.0646 - val_loss: 0.4013 - val_categorical_accuracy: 0.1079\n",
      "Epoch 69/100\n",
      "57/57 [==============================] - 0s 7ms/step - loss: 0.4374 - categorical_accuracy: 0.0657 - val_loss: 0.3983 - val_categorical_accuracy: 0.1059\n",
      "Epoch 70/100\n",
      "57/57 [==============================] - 0s 7ms/step - loss: 0.4359 - categorical_accuracy: 0.0664 - val_loss: 0.3999 - val_categorical_accuracy: 0.1092\n",
      "Epoch 71/100\n",
      "57/57 [==============================] - 0s 7ms/step - loss: 0.4340 - categorical_accuracy: 0.0662 - val_loss: 0.3948 - val_categorical_accuracy: 0.1092\n",
      "Epoch 72/100\n",
      "57/57 [==============================] - 0s 7ms/step - loss: 0.4322 - categorical_accuracy: 0.0665 - val_loss: 0.3948 - val_categorical_accuracy: 0.1054\n",
      "Epoch 73/100\n",
      "57/57 [==============================] - 0s 7ms/step - loss: 0.4309 - categorical_accuracy: 0.0667 - val_loss: 0.3886 - val_categorical_accuracy: 0.1067\n",
      "Epoch 74/100\n",
      "57/57 [==============================] - 0s 7ms/step - loss: 0.4290 - categorical_accuracy: 0.0677 - val_loss: 0.3922 - val_categorical_accuracy: 0.1134\n",
      "Epoch 75/100\n",
      "57/57 [==============================] - 0s 8ms/step - loss: 0.4275 - categorical_accuracy: 0.0684 - val_loss: 0.3900 - val_categorical_accuracy: 0.1059\n",
      "Epoch 76/100\n",
      "57/57 [==============================] - 0s 7ms/step - loss: 0.4261 - categorical_accuracy: 0.0671 - val_loss: 0.3891 - val_categorical_accuracy: 0.1126\n",
      "Epoch 77/100\n",
      "57/57 [==============================] - 0s 7ms/step - loss: 0.4245 - categorical_accuracy: 0.0687 - val_loss: 0.3879 - val_categorical_accuracy: 0.1142\n",
      "Epoch 78/100\n",
      "57/57 [==============================] - 0s 7ms/step - loss: 0.4230 - categorical_accuracy: 0.0716 - val_loss: 0.3856 - val_categorical_accuracy: 0.1109\n",
      "Epoch 79/100\n",
      "57/57 [==============================] - 0s 7ms/step - loss: 0.4213 - categorical_accuracy: 0.0685 - val_loss: 0.3817 - val_categorical_accuracy: 0.1121\n",
      "Epoch 80/100\n",
      "57/57 [==============================] - 0s 7ms/step - loss: 0.4199 - categorical_accuracy: 0.0712 - val_loss: 0.3830 - val_categorical_accuracy: 0.1050\n",
      "Epoch 81/100\n",
      "57/57 [==============================] - 0s 7ms/step - loss: 0.4187 - categorical_accuracy: 0.0711 - val_loss: 0.3842 - val_categorical_accuracy: 0.1088\n",
      "Epoch 82/100\n",
      "57/57 [==============================] - 0s 7ms/step - loss: 0.4169 - categorical_accuracy: 0.0689 - val_loss: 0.3788 - val_categorical_accuracy: 0.1130\n",
      "Epoch 83/100\n",
      "57/57 [==============================] - 0s 7ms/step - loss: 0.4157 - categorical_accuracy: 0.0729 - val_loss: 0.3806 - val_categorical_accuracy: 0.1100\n",
      "Epoch 84/100\n",
      "57/57 [==============================] - 0s 7ms/step - loss: 0.4145 - categorical_accuracy: 0.0772 - val_loss: 0.3803 - val_categorical_accuracy: 0.1088\n",
      "Epoch 85/100\n",
      "57/57 [==============================] - 0s 7ms/step - loss: 0.4129 - categorical_accuracy: 0.0724 - val_loss: 0.3772 - val_categorical_accuracy: 0.1109\n",
      "Epoch 86/100\n",
      "57/57 [==============================] - 0s 8ms/step - loss: 0.4114 - categorical_accuracy: 0.0751 - val_loss: 0.3738 - val_categorical_accuracy: 0.1117\n",
      "Epoch 87/100\n",
      "57/57 [==============================] - 0s 7ms/step - loss: 0.4103 - categorical_accuracy: 0.0748 - val_loss: 0.3740 - val_categorical_accuracy: 0.1100\n",
      "Epoch 88/100\n",
      "57/57 [==============================] - 0s 7ms/step - loss: 0.4087 - categorical_accuracy: 0.0775 - val_loss: 0.3721 - val_categorical_accuracy: 0.1088\n",
      "Epoch 89/100\n",
      "57/57 [==============================] - 0s 7ms/step - loss: 0.4074 - categorical_accuracy: 0.0769 - val_loss: 0.3727 - val_categorical_accuracy: 0.1134\n",
      "Epoch 90/100\n",
      "57/57 [==============================] - 0s 7ms/step - loss: 0.4063 - categorical_accuracy: 0.0796 - val_loss: 0.3707 - val_categorical_accuracy: 0.1121\n",
      "Epoch 91/100\n",
      "57/57 [==============================] - 0s 7ms/step - loss: 0.4050 - categorical_accuracy: 0.0772 - val_loss: 0.3710 - val_categorical_accuracy: 0.1096\n",
      "Epoch 92/100\n",
      "57/57 [==============================] - 0s 7ms/step - loss: 0.4038 - categorical_accuracy: 0.0799 - val_loss: 0.3697 - val_categorical_accuracy: 0.1121\n",
      "Epoch 93/100\n",
      "57/57 [==============================] - 0s 8ms/step - loss: 0.4022 - categorical_accuracy: 0.0799 - val_loss: 0.3684 - val_categorical_accuracy: 0.1109\n",
      "Epoch 94/100\n",
      "57/57 [==============================] - 0s 7ms/step - loss: 0.4011 - categorical_accuracy: 0.0794 - val_loss: 0.3682 - val_categorical_accuracy: 0.1126\n",
      "Epoch 95/100\n",
      "57/57 [==============================] - 0s 7ms/step - loss: 0.3998 - categorical_accuracy: 0.0804 - val_loss: 0.3648 - val_categorical_accuracy: 0.1113\n",
      "Epoch 96/100\n",
      "57/57 [==============================] - 0s 7ms/step - loss: 0.3986 - categorical_accuracy: 0.0799 - val_loss: 0.3702 - val_categorical_accuracy: 0.1138\n",
      "Epoch 97/100\n",
      "57/57 [==============================] - 0s 7ms/step - loss: 0.3976 - categorical_accuracy: 0.0799 - val_loss: 0.3646 - val_categorical_accuracy: 0.1130\n",
      "Epoch 98/100\n",
      "57/57 [==============================] - 0s 8ms/step - loss: 0.3963 - categorical_accuracy: 0.0813 - val_loss: 0.3627 - val_categorical_accuracy: 0.1126\n",
      "Epoch 99/100\n"
     ]
    },
    {
     "name": "stdout",
     "output_type": "stream",
     "text": [
      "57/57 [==============================] - 0s 8ms/step - loss: 0.3952 - categorical_accuracy: 0.0817 - val_loss: 0.3638 - val_categorical_accuracy: 0.1130\n",
      "Epoch 100/100\n",
      "57/57 [==============================] - 0s 7ms/step - loss: 0.3939 - categorical_accuracy: 0.0827 - val_loss: 0.3603 - val_categorical_accuracy: 0.1130\n"
     ]
    }
   ],
   "source": [
    "optimizer = keras.optimizers.Adam(learning_rate=1e-4)\n",
    "\n",
    "CNN.compile(\n",
    "    loss='sparse_categorical_crossentropy',\n",
    "    optimizer=optimizer,\n",
    "    metrics=['categorical_accuracy'],\n",
    ")\n",
    "history = CNN.fit(\n",
    "    X_train,\n",
    "    y_train,\n",
    "    epochs=EPOCHS,\n",
    "    batch_size=256,\n",
    "    validation_data=(X_val, y_val),\n",
    "    verbose=1,\n",
    ")"
   ]
  },
  {
   "cell_type": "code",
   "execution_count": 145,
   "id": "70de8d27-4ff5-4dce-b45f-675dcc74513e",
   "metadata": {
    "colab": {
     "base_uri": "https://localhost:8080/"
    },
    "id": "70de8d27-4ff5-4dce-b45f-675dcc74513e",
    "outputId": "7211ef5c-5b4a-4afb-ad4f-7341eeb8f0f8"
   },
   "outputs": [],
   "source": [
    "# from functools import partial\n",
    "\n",
    "\n",
    "\n",
    "# _, num_time, num_feat = X_train.shape\n",
    "\n",
    "# activation = 'selu'\n",
    "\n",
    "# DefaultConv1D = partial(\n",
    "#     keras.layers.Conv1D,\n",
    "#     kernel_size=1,\n",
    "#     activation=activation,\n",
    "#     padding=\"valid\",\n",
    "# )\n",
    "\n",
    "# model = keras.models.Sequential([\n",
    "#     DefaultConv1D(4 * num_feat, kernel_size=2, input_shape=[num_time, num_feat]),\n",
    "#     keras.layers.BatchNormalization(),\n",
    "#     DefaultConv1D(num_feat, kernel_size=2),\n",
    "#     keras.layers.Flatten(),\n",
    "#     keras.layers.BatchNormalization(),\n",
    "#     keras.layers.Dense(num_time * num_feat, activation=activation),\n",
    "#     keras.layers.BatchNormalization(),\n",
    "#     keras.layers.Dense(num_feat, activation=activation),\n",
    "#     keras.layers.BatchNormalization(),\n",
    "#     keras.layers.Dense(5, activation='softmax'),\n",
    "# ])\n",
    "\n",
    "# optimizer = keras.optimizers.Adam(learning_rate=1e-3)\n",
    "\n",
    "# model.compile(\n",
    "#     loss='sparse_categorical_crossentropy',\n",
    "#     optimizer=optimizer,\n",
    "#     metrics=['accuracy'],\n",
    "# )\n",
    "\n",
    "# history = model.fit(\n",
    "#     X_train,\n",
    "#     y_train,\n",
    "#     epochs=EPOCHS,\n",
    "#     batch_size=BATCH_SIZE,\n",
    "#     validation_data=(X_test, y_test),\n",
    "#     verbose=1,\n",
    "# )"
   ]
  },
  {
   "cell_type": "code",
   "execution_count": 146,
   "id": "bed79725-2bb3-47ce-b06c-333c662b30bf",
   "metadata": {
    "colab": {
     "base_uri": "https://localhost:8080/",
     "height": 282
    },
    "id": "bed79725-2bb3-47ce-b06c-333c662b30bf",
    "outputId": "4354cc75-e44d-4d2a-ac4b-c55a4b3a9305"
   },
   "outputs": [
    {
     "data": {
      "text/plain": [
       "[<matplotlib.lines.Line2D at 0x7fd8adafb700>]"
      ]
     },
     "execution_count": 146,
     "metadata": {},
     "output_type": "execute_result"
    },
    {
     "data": {
      "image/png": "[encoded data removed]",
      "text/plain": [
       "<Figure size 432x288 with 1 Axes>"
      ]
     },
     "metadata": {
      "needs_background": "light"
     },
     "output_type": "display_data"
    }
   ],
   "source": [
    "plt.plot(history.history['categorical_accuracy'])\n",
    "plt.plot(history.history['val_categorical_accuracy'])"
   ]
  },
  {
   "cell_type": "code",
   "execution_count": 147,
   "id": "3b65d81f-3d75-43d1-9e2d-88cef69d110b",
   "metadata": {
    "colab": {
     "base_uri": "https://localhost:8080/",
     "height": 265
    },
    "id": "3b65d81f-3d75-43d1-9e2d-88cef69d110b",
    "outputId": "97e18fb9-4340-478c-e307-82c03282e9cc"
   },
   "outputs": [
    {
     "data": {
      "image/png": "[encoded data removed]",
      "text/plain": [
       "<Figure size 432x288 with 1 Axes>"
      ]
     },
     "metadata": {
      "needs_background": "light"
     },
     "output_type": "display_data"
    }
   ],
   "source": [
    "plt.plot(history.history['loss'])\n",
    "plt.plot(history.history['val_loss'])\n",
    "plt.yscale('log')"
   ]
  },
  {
   "cell_type": "code",
   "execution_count": 148,
   "id": "8a964a60-488a-431e-8bcc-586e90d8956b",
   "metadata": {
    "id": "8a964a60-488a-431e-8bcc-586e90d8956b"
   },
   "outputs": [
    {
     "name": "stdout",
     "output_type": "stream",
     "text": [
      "75/75 [==============================] - 0s 2ms/step\n"
     ]
    }
   ],
   "source": [
    "y_pred = CNN.predict(X_test)"
   ]
  },
  {
   "cell_type": "code",
   "execution_count": 149,
   "id": "d7C0QyTLHO8q",
   "metadata": {
    "colab": {
     "base_uri": "https://localhost:8080/"
    },
    "id": "d7C0QyTLHO8q",
    "outputId": "78587010-2aa8-4cc7-e82f-7c40e11ce705"
   },
   "outputs": [
    {
     "data": {
      "text/plain": [
       "array([[2.5674477e-01, 5.2586882e-03, 4.4068470e-04, 1.1462230e-03,\n",
       "        7.3640966e-01],\n",
       "       [2.1022229e-01, 1.1684810e-03, 7.8367984e-01, 4.8975949e-03,\n",
       "        3.1735657e-05],\n",
       "       [2.1615362e-02, 9.6219981e-01, 1.6178858e-02, 5.5766498e-07,\n",
       "        5.3607491e-06],\n",
       "       ...,\n",
       "       [1.4737156e-01, 7.8004890e-04, 8.4863210e-01, 3.1904138e-03,\n",
       "        2.5917134e-05],\n",
       "       [4.8147932e-01, 1.1610509e-02, 6.8113292e-03, 2.1363513e-01,\n",
       "        2.8646365e-01],\n",
       "       [2.2719409e-01, 8.9131622e-04, 7.6493692e-01, 6.9279871e-03,\n",
       "        4.9726943e-05]], dtype=float32)"
      ]
     },
     "execution_count": 149,
     "metadata": {},
     "output_type": "execute_result"
    }
   ],
   "source": [
    "y_pred"
   ]
  },
  {
   "cell_type": "code",
   "execution_count": 150,
   "id": "1ljWvGo9skgS",
   "metadata": {
    "id": "1ljWvGo9skgS"
   },
   "outputs": [],
   "source": [
    "y_pred= np.argmax(y_pred, axis=1)"
   ]
  },
  {
   "cell_type": "code",
   "execution_count": 151,
   "id": "BIninuG_Hixu",
   "metadata": {
    "colab": {
     "base_uri": "https://localhost:8080/"
    },
    "id": "BIninuG_Hixu",
    "outputId": "8d52a3ce-46d5-41c3-f339-ec8e2feee684"
   },
   "outputs": [
    {
     "data": {
      "text/plain": [
       "array([4, 2, 1, ..., 2, 0, 2])"
      ]
     },
     "execution_count": 151,
     "metadata": {},
     "output_type": "execute_result"
    }
   ],
   "source": [
    "y_pred"
   ]
  },
  {
   "cell_type": "code",
   "execution_count": 152,
   "id": "3NzoyhrD4tO9",
   "metadata": {
    "colab": {
     "base_uri": "https://localhost:8080/"
    },
    "id": "3NzoyhrD4tO9",
    "outputId": "da09ab77-c439-431e-82a8-93fc98f20b49"
   },
   "outputs": [
    {
     "data": {
      "text/plain": [
       "4"
      ]
     },
     "execution_count": 152,
     "metadata": {},
     "output_type": "execute_result"
    }
   ],
   "source": [
    "y_pred[0]"
   ]
  },
  {
   "cell_type": "code",
   "execution_count": 153,
   "id": "48c3e9c7-2bc3-479a-8af1-bf35d87f3e57",
   "metadata": {
    "id": "48c3e9c7-2bc3-479a-8af1-bf35d87f3e57"
   },
   "outputs": [],
   "source": [
    "df = pd.DataFrame({\n",
    "    'y_test': y_test.ravel().astype(int).tolist(),\n",
    "    'y_pred': y_pred.ravel().astype(int).tolist(),\n",
    "})"
   ]
  },
  {
   "cell_type": "code",
   "execution_count": 154,
   "id": "18cfafbe-dafb-4a9e-8873-7f96e71f80b8",
   "metadata": {
    "colab": {
     "base_uri": "https://localhost:8080/",
     "height": 175
    },
    "id": "18cfafbe-dafb-4a9e-8873-7f96e71f80b8",
    "outputId": "aa49cb9d-c88e-437b-9a31-2809577d1da1"
   },
   "outputs": [
    {
     "data": {
      "text/html": [
       "<div>\n",
       "<style scoped>\n",
       "    .dataframe tbody tr th:only-of-type {\n",
       "        vertical-align: middle;\n",
       "    }\n",
       "\n",
       "    .dataframe tbody tr th {\n",
       "        vertical-align: top;\n",
       "    }\n",
       "\n",
       "    .dataframe thead th {\n",
       "        text-align: right;\n",
       "    }\n",
       "</style>\n",
       "<table border=\"1\" class=\"dataframe\">\n",
       "  <thead>\n",
       "    <tr style=\"text-align: right;\">\n",
       "      <th>y_pred</th>\n",
       "      <th>0</th>\n",
       "      <th>1</th>\n",
       "      <th>2</th>\n",
       "      <th>3</th>\n",
       "      <th>4</th>\n",
       "    </tr>\n",
       "    <tr>\n",
       "      <th>y_test</th>\n",
       "      <th></th>\n",
       "      <th></th>\n",
       "      <th></th>\n",
       "      <th></th>\n",
       "      <th></th>\n",
       "    </tr>\n",
       "  </thead>\n",
       "  <tbody>\n",
       "    <tr>\n",
       "      <th>0</th>\n",
       "      <td>272</td>\n",
       "      <td>24</td>\n",
       "      <td>8</td>\n",
       "      <td>66</td>\n",
       "      <td>107</td>\n",
       "    </tr>\n",
       "    <tr>\n",
       "      <th>1</th>\n",
       "      <td>18</td>\n",
       "      <td>441</td>\n",
       "      <td>18</td>\n",
       "      <td>0</td>\n",
       "      <td>0</td>\n",
       "    </tr>\n",
       "    <tr>\n",
       "      <th>2</th>\n",
       "      <td>0</td>\n",
       "      <td>0</td>\n",
       "      <td>477</td>\n",
       "      <td>0</td>\n",
       "      <td>0</td>\n",
       "    </tr>\n",
       "    <tr>\n",
       "      <th>3</th>\n",
       "      <td>0</td>\n",
       "      <td>0</td>\n",
       "      <td>0</td>\n",
       "      <td>477</td>\n",
       "      <td>0</td>\n",
       "    </tr>\n",
       "    <tr>\n",
       "      <th>4</th>\n",
       "      <td>0</td>\n",
       "      <td>0</td>\n",
       "      <td>0</td>\n",
       "      <td>0</td>\n",
       "      <td>477</td>\n",
       "    </tr>\n",
       "  </tbody>\n",
       "</table>\n",
       "</div>"
      ],
      "text/plain": [
       "y_pred    0    1    2    3    4\n",
       "y_test                         \n",
       "0       272   24    8   66  107\n",
       "1        18  441   18    0    0\n",
       "2         0    0  477    0    0\n",
       "3         0    0    0  477    0\n",
       "4         0    0    0    0  477"
      ]
     },
     "execution_count": 154,
     "metadata": {},
     "output_type": "execute_result"
    }
   ],
   "source": [
    "pd.crosstab(df['y_test'], df['y_pred'])"
   ]
  },
  {
   "cell_type": "code",
   "execution_count": 49,
   "id": "e192957b-1b16-47c8-89eb-d6e2fb9bde9f",
   "metadata": {
    "id": "e192957b-1b16-47c8-89eb-d6e2fb9bde9f"
   },
   "outputs": [],
   "source": [
    "# model.save('model.h5')"
   ]
  },
  {
   "cell_type": "code",
   "execution_count": 52,
   "id": "vZD1w6TZwk0e",
   "metadata": {
    "id": "vZD1w6TZwk0e"
   },
   "outputs": [],
   "source": [
    "CNN.save('model_f_s_d_o_90_funcional.h5')"
   ]
  },
  {
   "cell_type": "code",
   "execution_count": null,
   "id": "f1d824e8",
   "metadata": {},
   "outputs": [],
   "source": []
  }
 ],
 "metadata": {
  "accelerator": "GPU",
  "colab": {
   "provenance": []
  },
  "gpuClass": "standard",
  "kernelspec": {
   "display_name": "Python 3 (ipykernel)",
   "language": "python",
   "name": "python3"
  },
  "language_info": {
   "codemirror_mode": {
    "name": "ipython",
    "version": 3
   },
   "file_extension": ".py",
   "mimetype": "text/x-python",
   "name": "python",
   "nbconvert_exporter": "python",
   "pygments_lexer": "ipython3",
   "version": "3.9.12"
  }
 },
 "nbformat": 4,
 "nbformat_minor": 5
}
