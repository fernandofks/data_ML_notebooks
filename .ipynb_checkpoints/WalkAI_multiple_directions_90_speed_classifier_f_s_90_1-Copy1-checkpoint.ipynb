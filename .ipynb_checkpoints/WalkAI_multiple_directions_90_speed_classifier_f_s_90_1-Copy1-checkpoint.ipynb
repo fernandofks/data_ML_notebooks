{
 "cells": [
  {
   "cell_type": "code",
   "execution_count": 1,
   "id": "b41f0b0f-cc96-43a2-ab7f-f3264587e7d2",
   "metadata": {
    "id": "b41f0b0f-cc96-43a2-ab7f-f3264587e7d2"
   },
   "outputs": [
    {
     "name": "stderr",
     "output_type": "stream",
     "text": [
      "/Users/fernandokenjisakabe/opt/anaconda3/lib/python3.9/site-packages/scipy/__init__.py:146: UserWarning: A NumPy version >=1.16.5 and <1.23.0 is required for this version of SciPy (detected version 1.24.1\n",
      "  warnings.warn(f\"A NumPy version >={np_minversion} and <{np_maxversion}\"\n"
     ]
    }
   ],
   "source": [
    "from pathlib import Path\n",
    "import matplotlib.pyplot as plt\n",
    "import numpy as np\n",
    "import pandas as pd\n",
    "import tensorflow as tf\n",
    "import tensorflow.keras as keras\n",
    "from tensorflow.python.keras.layers import Dense\n",
    "from numpy.random import default_rng\n",
    "from sklearn.model_selection import train_test_split"
   ]
  },
  {
   "cell_type": "code",
   "execution_count": 2,
   "id": "c9e9560b-749a-49a8-aedf-44a1ac9b4bb1",
   "metadata": {
    "id": "c9e9560b-749a-49a8-aedf-44a1ac9b4bb1"
   },
   "outputs": [],
   "source": [
    "# Loading pipeline params.\n",
    "DATA_PATH = Path('data')\n",
    "FILENAME_STOP = 'stop_90_diff_quat.csv'\n",
    "FILENAME_0 = '0_90_diff_quat.csv'\n",
    "FILENAME_90 = '90_90_diff_quat.csv'\n",
    "FILENAME_180 = '180_90_diff_quat.csv'\n",
    "FILENAME_270 = '270_90_diff_quat.csv'\n",
    "\n",
    "NUM_TIMESTEPS = 6\n",
    "IGNORE_FRACTION = 0.1\n",
    "TEST_FRACTION = 0.25\n",
    "\n",
    "# Training params.\n",
    "LEARNING_RATE = 1e-5\n",
    "EPOCHS = 100\n",
    "BATCH_SIZE = 512"
   ]
  },
  {
   "cell_type": "code",
   "execution_count": 3,
   "id": "7f52716d-1339-4484-9fd3-d5206979ba8e",
   "metadata": {
    "id": "7f52716d-1339-4484-9fd3-d5206979ba8e"
   },
   "outputs": [],
   "source": [
    "def load_data(\n",
    "    path_stop,\n",
    "    path_0,\n",
    "    path_90,\n",
    "    path_180,\n",
    "    path_270,\n",
    "    num_timesteps,\n",
    "    ignore_fraction,\n",
    "    test_fraction,\n",
    "):\n",
    "\n",
    "    def read_and_prepare_data(\n",
    "        path,\n",
    "        class_,\n",
    "        num_timesteps,\n",
    "        ignore_fraction,\n",
    "        test_fraction,\n",
    "    ):\n",
    "\n",
    "        def split_temporally(X, test_fraction):\n",
    "            num_samples = X.shape[0]\n",
    "            num_train = int(num_samples * (1.0 - test_fraction))\n",
    "            X_train, X_test = X[:num_train], X[num_train:]\n",
    "            return X_train, X_test\n",
    "\n",
    "        def transform_into_sequences(X, num_timesteps):\n",
    "            num_samples = X.shape[0]\n",
    "            X_seq = []\n",
    "            for k in range(num_samples - num_timesteps + 1):\n",
    "                X_seq.append(X[k:(k + num_timesteps)])\n",
    "            X_seq = np.array(X_seq)\n",
    "            y_seq = class_ * np.ones((X_seq.shape[0], 1))\n",
    "            return X_seq, y_seq\n",
    "\n",
    "        X = pd.read_csv(path).values\n",
    "        X = X[:, [0,1,2,3,4,5,6,7,8,9,10,11,12,13]]  # Use only feet translations.\n",
    "\n",
    "        # Ignore beginning and end.\n",
    "        num_samples = X.shape[0]\n",
    "        num_ignore = int(ignore_fraction * num_samples)\n",
    "        X = X[num_ignore:-num_ignore]\n",
    "\n",
    "        # Split X temporally.\n",
    "        X_train, X_test = split_temporally(X, test_fraction)\n",
    "\n",
    "        # Transform X into short sequences.\n",
    "        X_train, y_train = transform_into_sequences(X_train, num_timesteps)\n",
    "        X_test, y_test = transform_into_sequences(X_test, num_timesteps)\n",
    "\n",
    "        return X_train, y_train, X_test, y_test\n",
    "\n",
    "    def shuffle_data(X, y):\n",
    "        idx = np.arange(len(X))\n",
    "        default_rng().shuffle(idx)\n",
    "        X_shuffled = X[idx, :]\n",
    "        y_shuffled = y[idx]\n",
    "        return X_shuffled, y_shuffled\n",
    "\n",
    "    X_train_stop, y_train_stop, X_test_stop, y_test_stop = \\\n",
    "        read_and_prepare_data(\n",
    "            path_stop,\n",
    "            0.0,\n",
    "            num_timesteps,\n",
    "            ignore_fraction,\n",
    "            test_fraction,\n",
    "        )\n",
    "    \n",
    "    X_train_0, y_train_0, X_test_0, y_test_0 = \\\n",
    "        read_and_prepare_data(\n",
    "            path_0,\n",
    "            1.0,\n",
    "            num_timesteps,\n",
    "            ignore_fraction,\n",
    "            test_fraction,\n",
    "        )\n",
    "\n",
    "    X_train_90, y_train_90, X_test_90, y_test_90 = \\\n",
    "        read_and_prepare_data(\n",
    "            path_90,\n",
    "            2.0,\n",
    "            num_timesteps,\n",
    "            ignore_fraction,\n",
    "            test_fraction,\n",
    "        )\n",
    "    \n",
    "    X_train_180, y_train_180, X_test_180, y_test_180 = \\\n",
    "        read_and_prepare_data(\n",
    "            path_180,\n",
    "            3.0,\n",
    "            num_timesteps,\n",
    "            ignore_fraction,\n",
    "            test_fraction,\n",
    "        )\n",
    "    \n",
    "    X_train_270, y_train_270, X_test_270, y_test_270 = \\\n",
    "        read_and_prepare_data(\n",
    "            path_270,\n",
    "            4.0,\n",
    "            num_timesteps,\n",
    "            ignore_fraction,\n",
    "            test_fraction,\n",
    "        )\n",
    "\n",
    "    X_train = np.concatenate((X_train_stop, X_train_0, X_train_90, X_train_180, X_train_270), axis=0)\n",
    "    y_train = np.concatenate((y_train_stop, y_train_0, y_train_90, y_train_180, y_train_270), axis=0)\n",
    "    X_test = np.concatenate((X_test_stop, X_test_0, X_test_90, X_test_180, X_test_270), axis=0)\n",
    "    y_test = np.concatenate((y_test_stop, y_test_0, y_test_90, y_test_180, y_test_270), axis=0)\n",
    "\n",
    "    X_train, y_train = shuffle_data(X_train, y_train)\n",
    "    X_test, y_test = shuffle_data(X_test, y_test)\n",
    "\n",
    "    return X_train, X_test, y_train, y_test\n",
    "\n",
    "\n",
    "path_stop = Path(DATA_PATH, FILENAME_STOP)\n",
    "path_0 = Path(DATA_PATH, FILENAME_0)\n",
    "path_90 = Path(DATA_PATH, FILENAME_90)\n",
    "path_180 = Path(DATA_PATH, FILENAME_180)\n",
    "path_270 = Path(DATA_PATH, FILENAME_270)\n",
    "\n",
    "X_train, X_test, y_train, y_test = load_data(\n",
    "    path_stop,\n",
    "    path_0,\n",
    "    path_90,\n",
    "    path_180,\n",
    "    path_270,\n",
    "    NUM_TIMESTEPS,\n",
    "    IGNORE_FRACTION,\n",
    "    TEST_FRACTION,\n",
    ")"
   ]
  },
  {
   "cell_type": "code",
   "execution_count": 4,
   "id": "99c35712-1089-44f3-89ef-ed471b144c96",
   "metadata": {
    "colab": {
     "base_uri": "https://localhost:8080/"
    },
    "id": "99c35712-1089-44f3-89ef-ed471b144c96",
    "outputId": "9076061a-8661-4d2e-c1ed-887a92ec640b"
   },
   "outputs": [
    {
     "data": {
      "text/plain": [
       "((7175, 6, 14), (7175, 1), (2375, 6, 14), (2375, 1))"
      ]
     },
     "execution_count": 4,
     "metadata": {},
     "output_type": "execute_result"
    }
   ],
   "source": [
    "X_train.shape, y_train.shape, X_test.shape, y_test.shape"
   ]
  },
  {
   "cell_type": "code",
   "execution_count": 5,
   "id": "VqSuqgBCB_nA",
   "metadata": {
    "colab": {
     "base_uri": "https://localhost:8080/"
    },
    "id": "VqSuqgBCB_nA",
    "outputId": "26d50bbe-3fd3-4bed-e70e-7003d289c5d6"
   },
   "outputs": [
    {
     "data": {
      "text/plain": [
       "(6, 14)"
      ]
     },
     "execution_count": 5,
     "metadata": {},
     "output_type": "execute_result"
    }
   ],
   "source": [
    "X_test[60].shape\n"
   ]
  },
  {
   "cell_type": "code",
   "execution_count": null,
   "id": "dye8vjENBtXX",
   "metadata": {
    "id": "dye8vjENBtXX"
   },
   "outputs": [],
   "source": []
  },
  {
   "cell_type": "code",
   "execution_count": null,
   "id": "-3TttkaRCM4l",
   "metadata": {
    "id": "-3TttkaRCM4l"
   },
   "outputs": [],
   "source": []
  },
  {
   "cell_type": "code",
   "execution_count": 6,
   "id": "3a85634b-4e9c-45b8-b456-cb970457302f",
   "metadata": {
    "id": "3a85634b-4e9c-45b8-b456-cb970457302f"
   },
   "outputs": [
    {
     "name": "stdout",
     "output_type": "stream",
     "text": [
      "Model: \"Sequential_CNN\"\n",
      "_________________________________________________________________\n",
      " Layer (type)                Output Shape              Param #   \n",
      "=================================================================\n",
      " conv2d (Conv2D)             (None, 2, 4, 256)         1280      \n",
      "                                                                 \n",
      " max_pooling2d (MaxPooling2D  (None, 1, 3, 256)        0         \n",
      " )                                                               \n",
      "                                                                 \n",
      " flatten (Flatten)           (None, 768)               0         \n",
      "                                                                 \n",
      " dense (Dense)               (None, 64)                49216     \n",
      "                                                                 \n",
      " dense_1 (Dense)             (None, 32)                2080      \n",
      "                                                                 \n"
     ]
    },
    {
     "name": "stderr",
     "output_type": "stream",
     "text": [
      "2023-01-30 14:25:28.715020: I tensorflow/core/platform/cpu_feature_guard.cc:193] This TensorFlow binary is optimized with oneAPI Deep Neural Network Library (oneDNN) to use the following CPU instructions in performance-critical operations:  AVX2 FMA\n",
      "To enable them in other operations, rebuild TensorFlow with the appropriate compiler flags.\n"
     ]
    },
    {
     "name": "stdout",
     "output_type": "stream",
     "text": [
      " dense_2 (Dense)             (None, 5)                 165       \n",
      "                                                                 \n",
      "=================================================================\n",
      "Total params: 52,741\n",
      "Trainable params: 52,741\n",
      "Non-trainable params: 0\n",
      "_________________________________________________________________\n"
     ]
    }
   ],
   "source": [
    "from tensorflow.keras.models import Sequential\n",
    "from tensorflow.keras.layers import Conv2D, MaxPooling2D, Flatten, Dense\n",
    "\n",
    "CNN = Sequential(name=\"Sequential_CNN\")\n",
    "\n",
    "CNN.add(Conv2D(256, kernel_size=(2, 2),\n",
    "               strides=(4, 4), padding=\"same\",\n",
    "               activation=\"selu\", input_shape=[6, 14, 1]))\n",
    "\n",
    "CNN.add(MaxPooling2D(pool_size=(2, 2), strides=(1, 1),\n",
    "                     padding=\"valid\"))\n",
    "\n",
    "# Add another pair of Conv2D and MaxPooling2D for more model depth,\n",
    "# followed by the flatten and multiple dense layers\n",
    "\n",
    "# CNN.add(Conv2D(64, kernel_size=(3, 3),\n",
    "#                strides=(1, 1), padding=\"same\",\n",
    "#                activation=\"selu\"))\n",
    "\n",
    "# CNN.add(MaxPooling2D(pool_size=(2, 2), strides=(1, 1),\n",
    "#                      padding=\"valid\"))\n",
    "\n",
    "CNN.add(Flatten())\n",
    "\n",
    "CNN.add(Dense(64, activation='selu'))\n",
    "CNN.add(Dense(32, activation='selu'))\n",
    "CNN.add(Dense(5, activation='softmax'))\n",
    "\n",
    "CNN.summary()"
   ]
  },
  {
   "cell_type": "code",
   "execution_count": null,
   "id": "j0C2RSxICKzq",
   "metadata": {
    "colab": {
     "base_uri": "https://localhost:8080/"
    },
    "id": "j0C2RSxICKzq",
    "outputId": "af853522-fdf6-40e4-8d0e-cd2a6dcdab9b"
   },
   "outputs": [],
   "source": []
  },
  {
   "cell_type": "code",
   "execution_count": 7,
   "id": "911581af",
   "metadata": {},
   "outputs": [],
   "source": [
    "from numpy import *\n",
    "where_are_NaNsx = isnan(X_train)\n",
    "X_train[where_are_NaNsx] = 0\n",
    "\n",
    "where_are_NaNsy = isnan(y_train)\n",
    "y_train[where_are_NaNsy] = 0\n",
    "\n",
    "where_are_NaNsxt = isnan(X_test)\n",
    "X_test[where_are_NaNsxt] = 0\n",
    "\n",
    "where_are_NaNsyt = isnan(y_test)\n",
    "y_test[where_are_NaNsyt] = 0"
   ]
  },
  {
   "cell_type": "code",
   "execution_count": 8,
   "id": "7baf8970-5318-4461-b828-d34c232afa5f",
   "metadata": {
    "colab": {
     "base_uri": "https://localhost:8080/"
    },
    "id": "7baf8970-5318-4461-b828-d34c232afa5f",
    "outputId": "08a66cc8-aeee-42ba-f039-9dfa2ba6f99e"
   },
   "outputs": [
    {
     "name": "stdout",
     "output_type": "stream",
     "text": [
      "Epoch 1/100\n",
      "29/29 [==============================] - 1s 16ms/step - loss: 0.8322 - accuracy: 0.7286 - val_loss: 0.7379 - val_accuracy: 0.7503\n",
      "Epoch 2/100\n",
      "29/29 [==============================] - 0s 12ms/step - loss: 0.4962 - accuracy: 0.8216 - val_loss: 0.7369 - val_accuracy: 0.8135\n",
      "Epoch 3/100\n",
      "29/29 [==============================] - 0s 16ms/step - loss: 0.4553 - accuracy: 0.8431 - val_loss: 0.7032 - val_accuracy: 0.8160\n",
      "Epoch 4/100\n",
      "29/29 [==============================] - 0s 12ms/step - loss: 0.4293 - accuracy: 0.8471 - val_loss: 0.6793 - val_accuracy: 0.8173\n",
      "Epoch 5/100\n",
      "29/29 [==============================] - 0s 12ms/step - loss: 0.4161 - accuracy: 0.8418 - val_loss: 0.6549 - val_accuracy: 0.8202\n",
      "Epoch 6/100\n",
      "29/29 [==============================] - 0s 11ms/step - loss: 0.3855 - accuracy: 0.8527 - val_loss: 0.6454 - val_accuracy: 0.8122\n",
      "Epoch 7/100\n",
      "29/29 [==============================] - 0s 12ms/step - loss: 0.3689 - accuracy: 0.8605 - val_loss: 0.6073 - val_accuracy: 0.8185\n",
      "Epoch 8/100\n",
      "29/29 [==============================] - 0s 10ms/step - loss: 0.3446 - accuracy: 0.8620 - val_loss: 0.6930 - val_accuracy: 0.7520\n",
      "Epoch 9/100\n",
      "29/29 [==============================] - 0s 9ms/step - loss: 0.3570 - accuracy: 0.8537 - val_loss: 0.5769 - val_accuracy: 0.8240\n",
      "Epoch 10/100\n",
      "29/29 [==============================] - 0s 10ms/step - loss: 0.3313 - accuracy: 0.8723 - val_loss: 0.5608 - val_accuracy: 0.8223\n",
      "Epoch 11/100\n",
      "29/29 [==============================] - 0s 10ms/step - loss: 0.3246 - accuracy: 0.8659 - val_loss: 0.5562 - val_accuracy: 0.8236\n",
      "Epoch 12/100\n",
      "29/29 [==============================] - 0s 12ms/step - loss: 0.2772 - accuracy: 0.8924 - val_loss: 0.5486 - val_accuracy: 0.8918\n",
      "Epoch 13/100\n",
      "29/29 [==============================] - 0s 13ms/step - loss: 0.2668 - accuracy: 0.8985 - val_loss: 0.5499 - val_accuracy: 0.8893\n",
      "Epoch 14/100\n",
      "29/29 [==============================] - 0s 12ms/step - loss: 0.2539 - accuracy: 0.9034 - val_loss: 0.6072 - val_accuracy: 0.8539\n",
      "Epoch 15/100\n",
      "29/29 [==============================] - 0s 12ms/step - loss: 0.2630 - accuracy: 0.8962 - val_loss: 0.5418 - val_accuracy: 0.8573\n",
      "Epoch 16/100\n",
      "29/29 [==============================] - 0s 12ms/step - loss: 0.2490 - accuracy: 0.9040 - val_loss: 0.5361 - val_accuracy: 0.8648\n",
      "Epoch 17/100\n",
      "29/29 [==============================] - 0s 12ms/step - loss: 0.2218 - accuracy: 0.9203 - val_loss: 0.5166 - val_accuracy: 0.9259\n",
      "Epoch 18/100\n",
      "29/29 [==============================] - 0s 12ms/step - loss: 0.2080 - accuracy: 0.9270 - val_loss: 0.5714 - val_accuracy: 0.9015\n",
      "Epoch 19/100\n",
      "29/29 [==============================] - 0s 11ms/step - loss: 0.2025 - accuracy: 0.9300 - val_loss: 0.5882 - val_accuracy: 0.8501\n",
      "Epoch 20/100\n",
      "29/29 [==============================] - 0s 13ms/step - loss: 0.2376 - accuracy: 0.9105 - val_loss: 0.5412 - val_accuracy: 0.8745\n",
      "Epoch 21/100\n",
      "29/29 [==============================] - 0s 13ms/step - loss: 0.1976 - accuracy: 0.9309 - val_loss: 0.5408 - val_accuracy: 0.9276\n",
      "Epoch 22/100\n",
      "29/29 [==============================] - 0s 12ms/step - loss: 0.1867 - accuracy: 0.9367 - val_loss: 0.5389 - val_accuracy: 0.9331\n",
      "Epoch 23/100\n",
      "29/29 [==============================] - 0s 13ms/step - loss: 0.1811 - accuracy: 0.9392 - val_loss: 0.5411 - val_accuracy: 0.9347\n",
      "Epoch 24/100\n",
      "29/29 [==============================] - 0s 13ms/step - loss: 0.1786 - accuracy: 0.9387 - val_loss: 0.5500 - val_accuracy: 0.9267\n",
      "Epoch 25/100\n",
      "29/29 [==============================] - 0s 12ms/step - loss: 0.1696 - accuracy: 0.9472 - val_loss: 0.5565 - val_accuracy: 0.9335\n",
      "Epoch 26/100\n",
      "29/29 [==============================] - 0s 10ms/step - loss: 0.1675 - accuracy: 0.9424 - val_loss: 0.5477 - val_accuracy: 0.9427\n",
      "Epoch 27/100\n",
      "29/29 [==============================] - 0s 13ms/step - loss: 0.1761 - accuracy: 0.9371 - val_loss: 0.5599 - val_accuracy: 0.9339\n",
      "Epoch 28/100\n",
      "29/29 [==============================] - 0s 13ms/step - loss: 0.1843 - accuracy: 0.9348 - val_loss: 0.5865 - val_accuracy: 0.8888\n",
      "Epoch 29/100\n",
      "29/29 [==============================] - 0s 13ms/step - loss: 0.1590 - accuracy: 0.9452 - val_loss: 0.5871 - val_accuracy: 0.9364\n",
      "Epoch 30/100\n",
      "29/29 [==============================] - 0s 13ms/step - loss: 0.1701 - accuracy: 0.9364 - val_loss: 0.5769 - val_accuracy: 0.9398\n",
      "Epoch 31/100\n",
      "29/29 [==============================] - 0s 12ms/step - loss: 0.1540 - accuracy: 0.9473 - val_loss: 0.5872 - val_accuracy: 0.9377\n",
      "Epoch 32/100\n",
      "29/29 [==============================] - 0s 10ms/step - loss: 0.1401 - accuracy: 0.9541 - val_loss: 0.5929 - val_accuracy: 0.9411\n",
      "Epoch 33/100\n",
      "29/29 [==============================] - 0s 12ms/step - loss: 0.1433 - accuracy: 0.9512 - val_loss: 0.5894 - val_accuracy: 0.8909\n",
      "Epoch 34/100\n",
      "29/29 [==============================] - 0s 10ms/step - loss: 0.1577 - accuracy: 0.9454 - val_loss: 0.6098 - val_accuracy: 0.9373\n",
      "Epoch 35/100\n",
      "29/29 [==============================] - 0s 13ms/step - loss: 0.1407 - accuracy: 0.9525 - val_loss: 0.5869 - val_accuracy: 0.9419\n",
      "Epoch 36/100\n",
      "29/29 [==============================] - 0s 10ms/step - loss: 0.1412 - accuracy: 0.9501 - val_loss: 0.6028 - val_accuracy: 0.9314\n",
      "Epoch 37/100\n",
      "29/29 [==============================] - 0s 9ms/step - loss: 0.1413 - accuracy: 0.9539 - val_loss: 0.6235 - val_accuracy: 0.8846\n",
      "Epoch 38/100\n",
      "29/29 [==============================] - 0s 11ms/step - loss: 0.1396 - accuracy: 0.9522 - val_loss: 0.7229 - val_accuracy: 0.8792\n",
      "Epoch 39/100\n",
      "29/29 [==============================] - 0s 12ms/step - loss: 0.2540 - accuracy: 0.9143 - val_loss: 0.5698 - val_accuracy: 0.9326\n",
      "Epoch 40/100\n",
      "29/29 [==============================] - 0s 12ms/step - loss: 0.1522 - accuracy: 0.9454 - val_loss: 0.6062 - val_accuracy: 0.9331\n",
      "Epoch 41/100\n",
      "29/29 [==============================] - 0s 12ms/step - loss: 0.1296 - accuracy: 0.9575 - val_loss: 0.5861 - val_accuracy: 0.9377\n",
      "Epoch 42/100\n",
      "29/29 [==============================] - 0s 13ms/step - loss: 0.1368 - accuracy: 0.9526 - val_loss: 0.5788 - val_accuracy: 0.9440\n",
      "Epoch 43/100\n",
      "29/29 [==============================] - 0s 12ms/step - loss: 0.1237 - accuracy: 0.9585 - val_loss: 0.6982 - val_accuracy: 0.8888\n",
      "Epoch 44/100\n",
      "29/29 [==============================] - 0s 11ms/step - loss: 0.1391 - accuracy: 0.9490 - val_loss: 0.5985 - val_accuracy: 0.9377\n",
      "Epoch 45/100\n",
      "29/29 [==============================] - 0s 10ms/step - loss: 0.1200 - accuracy: 0.9610 - val_loss: 0.5719 - val_accuracy: 0.9444\n",
      "Epoch 46/100\n",
      "29/29 [==============================] - 0s 10ms/step - loss: 0.1204 - accuracy: 0.9608 - val_loss: 0.6036 - val_accuracy: 0.9402\n",
      "Epoch 47/100\n",
      "29/29 [==============================] - 0s 10ms/step - loss: 0.1440 - accuracy: 0.9487 - val_loss: 0.6036 - val_accuracy: 0.9394\n",
      "Epoch 48/100\n",
      "29/29 [==============================] - 0s 10ms/step - loss: 0.1220 - accuracy: 0.9611 - val_loss: 0.6167 - val_accuracy: 0.9335\n",
      "Epoch 49/100\n",
      "29/29 [==============================] - 0s 11ms/step - loss: 0.1288 - accuracy: 0.9557 - val_loss: 0.5909 - val_accuracy: 0.9444\n",
      "Epoch 50/100\n",
      "29/29 [==============================] - 0s 9ms/step - loss: 0.1159 - accuracy: 0.9621 - val_loss: 0.6249 - val_accuracy: 0.9314\n",
      "Epoch 51/100\n",
      "29/29 [==============================] - 0s 10ms/step - loss: 0.1198 - accuracy: 0.9597 - val_loss: 0.6148 - val_accuracy: 0.9389\n",
      "Epoch 52/100\n",
      "29/29 [==============================] - 0s 11ms/step - loss: 0.1107 - accuracy: 0.9656 - val_loss: 0.6357 - val_accuracy: 0.9368\n",
      "Epoch 53/100\n",
      "29/29 [==============================] - 0s 10ms/step - loss: 0.1163 - accuracy: 0.9629 - val_loss: 0.6686 - val_accuracy: 0.9238\n",
      "Epoch 54/100\n",
      "29/29 [==============================] - 0s 10ms/step - loss: 0.1119 - accuracy: 0.9642 - val_loss: 0.6255 - val_accuracy: 0.9415\n",
      "Epoch 55/100\n",
      "29/29 [==============================] - 0s 10ms/step - loss: 0.1200 - accuracy: 0.9621 - val_loss: 0.6372 - val_accuracy: 0.8901\n",
      "Epoch 56/100\n",
      "29/29 [==============================] - 0s 9ms/step - loss: 0.1429 - accuracy: 0.9508 - val_loss: 0.5845 - val_accuracy: 0.9423\n",
      "Epoch 57/100\n",
      "29/29 [==============================] - 0s 9ms/step - loss: 0.1086 - accuracy: 0.9632 - val_loss: 0.6213 - val_accuracy: 0.9402\n",
      "Epoch 58/100\n"
     ]
    },
    {
     "name": "stdout",
     "output_type": "stream",
     "text": [
      "29/29 [==============================] - 0s 9ms/step - loss: 0.1119 - accuracy: 0.9632 - val_loss: 0.6235 - val_accuracy: 0.8893\n",
      "Epoch 59/100\n",
      "29/29 [==============================] - 0s 9ms/step - loss: 0.1342 - accuracy: 0.9521 - val_loss: 0.6387 - val_accuracy: 0.9377\n",
      "Epoch 60/100\n",
      "29/29 [==============================] - 0s 9ms/step - loss: 0.1063 - accuracy: 0.9659 - val_loss: 0.7223 - val_accuracy: 0.8909\n",
      "Epoch 61/100\n",
      "29/29 [==============================] - 0s 8ms/step - loss: 0.1153 - accuracy: 0.9621 - val_loss: 0.6631 - val_accuracy: 0.9242\n",
      "Epoch 62/100\n",
      "29/29 [==============================] - 0s 8ms/step - loss: 0.1094 - accuracy: 0.9633 - val_loss: 0.6137 - val_accuracy: 0.9448\n",
      "Epoch 63/100\n",
      "29/29 [==============================] - 0s 9ms/step - loss: 0.1015 - accuracy: 0.9664 - val_loss: 0.6056 - val_accuracy: 0.9440\n",
      "Epoch 64/100\n",
      "29/29 [==============================] - 0s 8ms/step - loss: 0.0983 - accuracy: 0.9702 - val_loss: 0.7425 - val_accuracy: 0.8926\n",
      "Epoch 65/100\n",
      "29/29 [==============================] - 0s 8ms/step - loss: 0.0990 - accuracy: 0.9693 - val_loss: 0.6613 - val_accuracy: 0.9314\n",
      "Epoch 66/100\n",
      "29/29 [==============================] - 0s 9ms/step - loss: 0.0943 - accuracy: 0.9724 - val_loss: 0.6657 - val_accuracy: 0.9318\n",
      "Epoch 67/100\n",
      "29/29 [==============================] - 0s 9ms/step - loss: 0.0935 - accuracy: 0.9717 - val_loss: 0.7377 - val_accuracy: 0.9053\n",
      "Epoch 68/100\n",
      "29/29 [==============================] - 0s 8ms/step - loss: 0.1193 - accuracy: 0.9583 - val_loss: 0.6704 - val_accuracy: 0.9352\n",
      "Epoch 69/100\n",
      "29/29 [==============================] - 0s 9ms/step - loss: 0.0989 - accuracy: 0.9670 - val_loss: 0.6554 - val_accuracy: 0.9331\n",
      "Epoch 70/100\n",
      "29/29 [==============================] - 0s 8ms/step - loss: 0.0963 - accuracy: 0.9696 - val_loss: 0.8500 - val_accuracy: 0.8602\n",
      "Epoch 71/100\n",
      "29/29 [==============================] - 0s 8ms/step - loss: 0.1496 - accuracy: 0.9434 - val_loss: 0.6427 - val_accuracy: 0.9389\n",
      "Epoch 72/100\n",
      "29/29 [==============================] - 0s 8ms/step - loss: 0.1104 - accuracy: 0.9608 - val_loss: 0.6349 - val_accuracy: 0.9389\n",
      "Epoch 73/100\n",
      "29/29 [==============================] - 0s 8ms/step - loss: 0.1377 - accuracy: 0.9518 - val_loss: 0.6191 - val_accuracy: 0.9360\n",
      "Epoch 74/100\n",
      "29/29 [==============================] - 0s 8ms/step - loss: 0.0928 - accuracy: 0.9717 - val_loss: 0.6740 - val_accuracy: 0.9288\n",
      "Epoch 75/100\n",
      "29/29 [==============================] - 0s 8ms/step - loss: 0.0971 - accuracy: 0.9664 - val_loss: 0.6944 - val_accuracy: 0.9225\n",
      "Epoch 76/100\n",
      "29/29 [==============================] - 0s 8ms/step - loss: 0.1064 - accuracy: 0.9635 - val_loss: 0.7166 - val_accuracy: 0.9183\n",
      "Epoch 77/100\n",
      "29/29 [==============================] - 0s 8ms/step - loss: 0.0867 - accuracy: 0.9731 - val_loss: 0.6914 - val_accuracy: 0.9356\n",
      "Epoch 78/100\n",
      "29/29 [==============================] - 0s 8ms/step - loss: 0.0890 - accuracy: 0.9725 - val_loss: 0.7500 - val_accuracy: 0.9128\n",
      "Epoch 79/100\n",
      "29/29 [==============================] - 0s 8ms/step - loss: 0.0979 - accuracy: 0.9659 - val_loss: 0.7274 - val_accuracy: 0.8909\n",
      "Epoch 80/100\n",
      "29/29 [==============================] - 0s 9ms/step - loss: 0.0959 - accuracy: 0.9678 - val_loss: 0.6885 - val_accuracy: 0.9385\n",
      "Epoch 81/100\n",
      "29/29 [==============================] - 0s 9ms/step - loss: 0.0873 - accuracy: 0.9728 - val_loss: 0.7426 - val_accuracy: 0.9116\n",
      "Epoch 82/100\n",
      "29/29 [==============================] - 0s 9ms/step - loss: 0.1118 - accuracy: 0.9604 - val_loss: 0.7539 - val_accuracy: 0.9280\n",
      "Epoch 83/100\n",
      "29/29 [==============================] - 0s 10ms/step - loss: 0.0922 - accuracy: 0.9692 - val_loss: 0.6928 - val_accuracy: 0.9381\n",
      "Epoch 84/100\n",
      "29/29 [==============================] - 0s 9ms/step - loss: 0.0957 - accuracy: 0.9695 - val_loss: 0.6916 - val_accuracy: 0.9389\n",
      "Epoch 85/100\n",
      "29/29 [==============================] - 0s 9ms/step - loss: 0.0957 - accuracy: 0.9670 - val_loss: 0.7196 - val_accuracy: 0.9276\n",
      "Epoch 86/100\n",
      "29/29 [==============================] - 0s 9ms/step - loss: 0.0890 - accuracy: 0.9702 - val_loss: 0.6891 - val_accuracy: 0.9377\n",
      "Epoch 87/100\n",
      "29/29 [==============================] - 0s 9ms/step - loss: 0.0857 - accuracy: 0.9713 - val_loss: 0.7649 - val_accuracy: 0.8893\n",
      "Epoch 88/100\n",
      "29/29 [==============================] - 0s 9ms/step - loss: 0.1050 - accuracy: 0.9624 - val_loss: 0.7290 - val_accuracy: 0.9377\n",
      "Epoch 89/100\n",
      "29/29 [==============================] - 0s 9ms/step - loss: 0.0885 - accuracy: 0.9713 - val_loss: 0.7080 - val_accuracy: 0.9305\n",
      "Epoch 90/100\n",
      "29/29 [==============================] - 0s 8ms/step - loss: 0.0804 - accuracy: 0.9737 - val_loss: 0.7030 - val_accuracy: 0.9074\n",
      "Epoch 91/100\n",
      "29/29 [==============================] - 0s 8ms/step - loss: 0.0973 - accuracy: 0.9646 - val_loss: 0.6832 - val_accuracy: 0.9339\n",
      "Epoch 92/100\n",
      "29/29 [==============================] - 0s 9ms/step - loss: 0.0841 - accuracy: 0.9710 - val_loss: 0.9761 - val_accuracy: 0.8291\n",
      "Epoch 93/100\n",
      "29/29 [==============================] - 0s 8ms/step - loss: 0.1412 - accuracy: 0.9458 - val_loss: 0.5941 - val_accuracy: 0.9444\n",
      "Epoch 94/100\n",
      "29/29 [==============================] - 0s 9ms/step - loss: 0.0831 - accuracy: 0.9741 - val_loss: 0.6531 - val_accuracy: 0.9423\n",
      "Epoch 95/100\n",
      "29/29 [==============================] - 0s 9ms/step - loss: 0.0777 - accuracy: 0.9752 - val_loss: 0.6787 - val_accuracy: 0.9402\n",
      "Epoch 96/100\n",
      "29/29 [==============================] - 0s 9ms/step - loss: 0.0769 - accuracy: 0.9762 - val_loss: 0.6860 - val_accuracy: 0.9402\n",
      "Epoch 97/100\n",
      "29/29 [==============================] - 0s 9ms/step - loss: 0.0756 - accuracy: 0.9770 - val_loss: 0.7170 - val_accuracy: 0.9377\n",
      "Epoch 98/100\n",
      "29/29 [==============================] - 0s 9ms/step - loss: 0.0798 - accuracy: 0.9732 - val_loss: 0.7293 - val_accuracy: 0.9398\n",
      "Epoch 99/100\n",
      "29/29 [==============================] - 0s 9ms/step - loss: 0.0866 - accuracy: 0.9707 - val_loss: 0.7317 - val_accuracy: 0.8998\n",
      "Epoch 100/100\n",
      "29/29 [==============================] - 0s 9ms/step - loss: 0.0904 - accuracy: 0.9691 - val_loss: 0.7207 - val_accuracy: 0.9284\n"
     ]
    }
   ],
   "source": [
    "optimizer = keras.optimizers.Adam(learning_rate=1e-3)\n",
    "\n",
    "CNN.compile(\n",
    "    loss='sparse_categorical_crossentropy',\n",
    "    optimizer=optimizer,\n",
    "    metrics=['accuracy'],\n",
    ")\n",
    "history = CNN.fit(\n",
    "    X_train,\n",
    "    y_train,\n",
    "    epochs=EPOCHS,\n",
    "    batch_size=256,\n",
    "    validation_data=(X_test, y_test),\n",
    "    verbose=1,\n",
    ")"
   ]
  },
  {
   "cell_type": "code",
   "execution_count": 9,
   "id": "70de8d27-4ff5-4dce-b45f-675dcc74513e",
   "metadata": {
    "colab": {
     "base_uri": "https://localhost:8080/"
    },
    "id": "70de8d27-4ff5-4dce-b45f-675dcc74513e",
    "outputId": "7211ef5c-5b4a-4afb-ad4f-7341eeb8f0f8"
   },
   "outputs": [],
   "source": [
    "# from functools import partial\n",
    "\n",
    "\n",
    "\n",
    "# _, num_time, num_feat = X_train.shape\n",
    "\n",
    "# activation = 'selu'\n",
    "\n",
    "# DefaultConv1D = partial(\n",
    "#     keras.layers.Conv1D,\n",
    "#     kernel_size=1,\n",
    "#     activation=activation,\n",
    "#     padding=\"valid\",\n",
    "# )\n",
    "\n",
    "# model = keras.models.Sequential([\n",
    "#     DefaultConv1D(4 * num_feat, kernel_size=2, input_shape=[num_time, num_feat]),\n",
    "#     keras.layers.BatchNormalization(),\n",
    "#     DefaultConv1D(num_feat, kernel_size=2),\n",
    "#     keras.layers.Flatten(),\n",
    "#     keras.layers.BatchNormalization(),\n",
    "#     keras.layers.Dense(num_time * num_feat, activation=activation),\n",
    "#     keras.layers.BatchNormalization(),\n",
    "#     keras.layers.Dense(num_feat, activation=activation),\n",
    "#     keras.layers.BatchNormalization(),\n",
    "#     keras.layers.Dense(5, activation='softmax'),\n",
    "# ])\n",
    "\n",
    "# optimizer = keras.optimizers.Adam(learning_rate=1e-3)\n",
    "\n",
    "# model.compile(\n",
    "#     loss='sparse_categorical_crossentropy',\n",
    "#     optimizer=optimizer,\n",
    "#     metrics=['accuracy'],\n",
    "# )\n",
    "\n",
    "# history = model.fit(\n",
    "#     X_train,\n",
    "#     y_train,\n",
    "#     epochs=EPOCHS,\n",
    "#     batch_size=BATCH_SIZE,\n",
    "#     validation_data=(X_test, y_test),\n",
    "#     verbose=1,\n",
    "# )"
   ]
  },
  {
   "cell_type": "code",
   "execution_count": 10,
   "id": "bed79725-2bb3-47ce-b06c-333c662b30bf",
   "metadata": {
    "colab": {
     "base_uri": "https://localhost:8080/",
     "height": 282
    },
    "id": "bed79725-2bb3-47ce-b06c-333c662b30bf",
    "outputId": "4354cc75-e44d-4d2a-ac4b-c55a4b3a9305"
   },
   "outputs": [
    {
     "data": {
      "text/plain": [
       "[<matplotlib.lines.Line2D at 0x7fc34a2f5580>]"
      ]
     },
     "execution_count": 10,
     "metadata": {},
     "output_type": "execute_result"
    },
    {
     "data": {
      "image/png": "[encoded data removed]",
      "text/plain": [
       "<Figure size 432x288 with 1 Axes>"
      ]
     },
     "metadata": {
      "needs_background": "light"
     },
     "output_type": "display_data"
    }
   ],
   "source": [
    "plt.plot(history.history['accuracy'])\n",
    "plt.plot(history.history['val_accuracy'])"
   ]
  },
  {
   "cell_type": "code",
   "execution_count": 11,
   "id": "3b65d81f-3d75-43d1-9e2d-88cef69d110b",
   "metadata": {
    "colab": {
     "base_uri": "https://localhost:8080/",
     "height": 265
    },
    "id": "3b65d81f-3d75-43d1-9e2d-88cef69d110b",
    "outputId": "97e18fb9-4340-478c-e307-82c03282e9cc"
   },
   "outputs": [
    {
     "data": {
      "image/png": "[encoded data removed]",
      "text/plain": [
       "<Figure size 432x288 with 1 Axes>"
      ]
     },
     "metadata": {
      "needs_background": "light"
     },
     "output_type": "display_data"
    }
   ],
   "source": [
    "plt.plot(history.history['loss'][10:])\n",
    "plt.plot(history.history['val_loss'][10:])\n",
    "plt.yscale('log')"
   ]
  },
  {
   "cell_type": "code",
   "execution_count": 12,
   "id": "8a964a60-488a-431e-8bcc-586e90d8956b",
   "metadata": {
    "id": "8a964a60-488a-431e-8bcc-586e90d8956b"
   },
   "outputs": [
    {
     "name": "stdout",
     "output_type": "stream",
     "text": [
      "75/75 [==============================] - 0s 2ms/step\n"
     ]
    }
   ],
   "source": [
    "y_pred = CNN.predict(X_test)"
   ]
  },
  {
   "cell_type": "code",
   "execution_count": 13,
   "id": "d7C0QyTLHO8q",
   "metadata": {
    "colab": {
     "base_uri": "https://localhost:8080/"
    },
    "id": "d7C0QyTLHO8q",
    "outputId": "78587010-2aa8-4cc7-e82f-7c40e11ce705"
   },
   "outputs": [
    {
     "data": {
      "text/plain": [
       "array([[5.4719465e-05, 1.5181655e-06, 3.9686079e-06, 5.1852232e-05,\n",
       "        9.9988794e-01],\n",
       "       [8.1959523e-05, 5.4683701e-06, 3.2260093e-08, 9.9937123e-01,\n",
       "        5.4130779e-04],\n",
       "       [5.9080456e-04, 2.6670849e-02, 2.1931801e-02, 9.6403099e-09,\n",
       "        9.5080656e-01],\n",
       "       ...,\n",
       "       [7.0635008e-04, 4.8148580e-10, 9.9929368e-01, 3.7081507e-10,\n",
       "        9.6172261e-09],\n",
       "       [1.0560076e-05, 9.9998868e-01, 4.1571466e-09, 5.6907815e-08,\n",
       "        6.8946815e-07],\n",
       "       [2.0620998e-04, 3.9928760e-05, 2.6292069e-09, 9.9836534e-01,\n",
       "        1.3885789e-03]], dtype=float32)"
      ]
     },
     "execution_count": 13,
     "metadata": {},
     "output_type": "execute_result"
    }
   ],
   "source": [
    "y_pred"
   ]
  },
  {
   "cell_type": "code",
   "execution_count": 14,
   "id": "1ljWvGo9skgS",
   "metadata": {
    "id": "1ljWvGo9skgS"
   },
   "outputs": [],
   "source": [
    "y_pred= np.argmax(y_pred, axis=1)"
   ]
  },
  {
   "cell_type": "code",
   "execution_count": 15,
   "id": "BIninuG_Hixu",
   "metadata": {
    "colab": {
     "base_uri": "https://localhost:8080/"
    },
    "id": "BIninuG_Hixu",
    "outputId": "8d52a3ce-46d5-41c3-f339-ec8e2feee684"
   },
   "outputs": [
    {
     "data": {
      "text/plain": [
       "array([4, 3, 4, ..., 2, 1, 3])"
      ]
     },
     "execution_count": 15,
     "metadata": {},
     "output_type": "execute_result"
    }
   ],
   "source": [
    "y_pred"
   ]
  },
  {
   "cell_type": "code",
   "execution_count": 16,
   "id": "3NzoyhrD4tO9",
   "metadata": {
    "colab": {
     "base_uri": "https://localhost:8080/"
    },
    "id": "3NzoyhrD4tO9",
    "outputId": "da09ab77-c439-431e-82a8-93fc98f20b49"
   },
   "outputs": [
    {
     "data": {
      "text/plain": [
       "4"
      ]
     },
     "execution_count": 16,
     "metadata": {},
     "output_type": "execute_result"
    }
   ],
   "source": [
    "y_pred[0]"
   ]
  },
  {
   "cell_type": "code",
   "execution_count": 17,
   "id": "48c3e9c7-2bc3-479a-8af1-bf35d87f3e57",
   "metadata": {
    "id": "48c3e9c7-2bc3-479a-8af1-bf35d87f3e57"
   },
   "outputs": [],
   "source": [
    "df = pd.DataFrame({\n",
    "    'y_test': y_test.ravel().astype(int).tolist(),\n",
    "    'y_pred': y_pred.ravel().astype(int).tolist(),\n",
    "})"
   ]
  },
  {
   "cell_type": "code",
   "execution_count": 18,
   "id": "18cfafbe-dafb-4a9e-8873-7f96e71f80b8",
   "metadata": {
    "colab": {
     "base_uri": "https://localhost:8080/",
     "height": 175
    },
    "id": "18cfafbe-dafb-4a9e-8873-7f96e71f80b8",
    "outputId": "aa49cb9d-c88e-437b-9a31-2809577d1da1"
   },
   "outputs": [
    {
     "data": {
      "text/html": [
       "<div>\n",
       "<style scoped>\n",
       "    .dataframe tbody tr th:only-of-type {\n",
       "        vertical-align: middle;\n",
       "    }\n",
       "\n",
       "    .dataframe tbody tr th {\n",
       "        vertical-align: top;\n",
       "    }\n",
       "\n",
       "    .dataframe thead th {\n",
       "        text-align: right;\n",
       "    }\n",
       "</style>\n",
       "<table border=\"1\" class=\"dataframe\">\n",
       "  <thead>\n",
       "    <tr style=\"text-align: right;\">\n",
       "      <th>y_pred</th>\n",
       "      <th>0</th>\n",
       "      <th>1</th>\n",
       "      <th>2</th>\n",
       "      <th>3</th>\n",
       "      <th>4</th>\n",
       "    </tr>\n",
       "    <tr>\n",
       "      <th>y_test</th>\n",
       "      <th></th>\n",
       "      <th></th>\n",
       "      <th></th>\n",
       "      <th></th>\n",
       "      <th></th>\n",
       "    </tr>\n",
       "  </thead>\n",
       "  <tbody>\n",
       "    <tr>\n",
       "      <th>0</th>\n",
       "      <td>452</td>\n",
       "      <td>1</td>\n",
       "      <td>11</td>\n",
       "      <td>11</td>\n",
       "      <td>0</td>\n",
       "    </tr>\n",
       "    <tr>\n",
       "      <th>1</th>\n",
       "      <td>29</td>\n",
       "      <td>367</td>\n",
       "      <td>3</td>\n",
       "      <td>2</td>\n",
       "      <td>74</td>\n",
       "    </tr>\n",
       "    <tr>\n",
       "      <th>2</th>\n",
       "      <td>1</td>\n",
       "      <td>0</td>\n",
       "      <td>474</td>\n",
       "      <td>0</td>\n",
       "      <td>0</td>\n",
       "    </tr>\n",
       "    <tr>\n",
       "      <th>3</th>\n",
       "      <td>7</td>\n",
       "      <td>0</td>\n",
       "      <td>0</td>\n",
       "      <td>468</td>\n",
       "      <td>0</td>\n",
       "    </tr>\n",
       "    <tr>\n",
       "      <th>4</th>\n",
       "      <td>31</td>\n",
       "      <td>0</td>\n",
       "      <td>0</td>\n",
       "      <td>0</td>\n",
       "      <td>444</td>\n",
       "    </tr>\n",
       "  </tbody>\n",
       "</table>\n",
       "</div>"
      ],
      "text/plain": [
       "y_pred    0    1    2    3    4\n",
       "y_test                         \n",
       "0       452    1   11   11    0\n",
       "1        29  367    3    2   74\n",
       "2         1    0  474    0    0\n",
       "3         7    0    0  468    0\n",
       "4        31    0    0    0  444"
      ]
     },
     "execution_count": 18,
     "metadata": {},
     "output_type": "execute_result"
    }
   ],
   "source": [
    "pd.crosstab(df['y_test'], df['y_pred'])"
   ]
  },
  {
   "cell_type": "code",
   "execution_count": null,
   "id": "e192957b-1b16-47c8-89eb-d6e2fb9bde9f",
   "metadata": {
    "id": "e192957b-1b16-47c8-89eb-d6e2fb9bde9f"
   },
   "outputs": [],
   "source": [
    "# model.save('model.h5')"
   ]
  },
  {
   "cell_type": "code",
   "execution_count": 19,
   "id": "vZD1w6TZwk0e",
   "metadata": {
    "id": "vZD1w6TZwk0e"
   },
   "outputs": [],
   "source": [
    "CNN.save('model_f_s_90_1.h5')"
   ]
  },
  {
   "cell_type": "code",
   "execution_count": null,
   "id": "f1d824e8",
   "metadata": {},
   "outputs": [],
   "source": []
  }
 ],
 "metadata": {
  "accelerator": "GPU",
  "colab": {
   "provenance": []
  },
  "gpuClass": "standard",
  "kernelspec": {
   "display_name": "Python 3 (ipykernel)",
   "language": "python",
   "name": "python3"
  },
  "language_info": {
   "codemirror_mode": {
    "name": "ipython",
    "version": 3
   },
   "file_extension": ".py",
   "mimetype": "text/x-python",
   "name": "python",
   "nbconvert_exporter": "python",
   "pygments_lexer": "ipython3",
   "version": "3.9.12"
  }
 },
 "nbformat": 4,
 "nbformat_minor": 5
}
