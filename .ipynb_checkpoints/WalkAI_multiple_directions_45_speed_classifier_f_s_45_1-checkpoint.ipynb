{
 "cells": [
  {
   "cell_type": "code",
   "execution_count": 1,
   "id": "b41f0b0f-cc96-43a2-ab7f-f3264587e7d2",
   "metadata": {
    "id": "b41f0b0f-cc96-43a2-ab7f-f3264587e7d2"
   },
   "outputs": [
    {
     "name": "stderr",
     "output_type": "stream",
     "text": [
      "/Users/fernandokenjisakabe/opt/anaconda3/lib/python3.9/site-packages/scipy/__init__.py:146: UserWarning: A NumPy version >=1.16.5 and <1.23.0 is required for this version of SciPy (detected version 1.24.1\n",
      "  warnings.warn(f\"A NumPy version >={np_minversion} and <{np_maxversion}\"\n"
     ]
    }
   ],
   "source": [
    "from pathlib import Path\n",
    "import matplotlib.pyplot as plt\n",
    "import numpy as np\n",
    "import pandas as pd\n",
    "import tensorflow as tf\n",
    "import tensorflow.keras as keras\n",
    "from tensorflow.python.keras.layers import Dense\n",
    "from numpy.random import default_rng\n",
    "from sklearn.model_selection import train_test_split"
   ]
  },
  {
   "cell_type": "code",
   "execution_count": 27,
   "id": "c9e9560b-749a-49a8-aedf-44a1ac9b4bb1",
   "metadata": {
    "id": "c9e9560b-749a-49a8-aedf-44a1ac9b4bb1"
   },
   "outputs": [],
   "source": [
    "# Loading pipeline params.\n",
    "DATA_PATH = Path('data')\n",
    "FILENAME_STOP = 'stop_45_diff_quat.csv'\n",
    "FILENAME_0 = '0_45_diff_quat.csv'\n",
    "FILENAME_90 = '90_45_diff_quat.csv'\n",
    "FILENAME_180 = '180_45_diff_quat.csv'\n",
    "FILENAME_270 = '270_45_diff_quat.csv'\n",
    "FILENAME_45 = '45_45_diff_quat.csv'\n",
    "FILENAME_135 = '135_45_diff_quat.csv'\n",
    "FILENAME_225 = '225_45_diff_quat.csv'\n",
    "FILENAME_315 = '315_45_diff_quat.csv'\n",
    "\n",
    "NUM_TIMESTEPS = 6\n",
    "IGNORE_FRACTION = 0.1\n",
    "TEST_FRACTION = 0.25\n",
    "\n",
    "# Training params.\n",
    "LEARNING_RATE = 1e-5\n",
    "EPOCHS = 100\n",
    "BATCH_SIZE = 512"
   ]
  },
  {
   "cell_type": "code",
   "execution_count": 28,
   "id": "7f52716d-1339-4484-9fd3-d5206979ba8e",
   "metadata": {
    "id": "7f52716d-1339-4484-9fd3-d5206979ba8e"
   },
   "outputs": [],
   "source": [
    "def load_data(\n",
    "    path_stop,\n",
    "    path_0,\n",
    "    path_45,\n",
    "    path_90,\n",
    "    path_135,\n",
    "    path_180,\n",
    "    path_225,\n",
    "    path_270,\n",
    "    path_315,\n",
    "    num_timesteps,\n",
    "    ignore_fraction,\n",
    "    test_fraction,\n",
    "):\n",
    "\n",
    "    def read_and_prepare_data(\n",
    "        path,\n",
    "        class_,\n",
    "        num_timesteps,\n",
    "        ignore_fraction,\n",
    "        test_fraction,\n",
    "    ):\n",
    "\n",
    "        def split_temporally(X, test_fraction):\n",
    "            num_samples = X.shape[0]\n",
    "            num_train = int(num_samples * (1.0 - test_fraction))\n",
    "            X_train, X_test = X[:num_train], X[num_train:]\n",
    "            return X_train, X_test\n",
    "\n",
    "        def transform_into_sequences(X, num_timesteps):\n",
    "            num_samples = X.shape[0]\n",
    "            X_seq = []\n",
    "            for k in range(num_samples - num_timesteps + 1):\n",
    "                X_seq.append(X[k:(k + num_timesteps)])\n",
    "            X_seq = np.array(X_seq)\n",
    "            y_seq = class_ * np.ones((X_seq.shape[0], 1))\n",
    "            return X_seq, y_seq\n",
    "\n",
    "        X = pd.read_csv(path).values\n",
    "        X = X[:, [0,1,2,3,4,5,6,7,8,9,10,11,12,13]]\n",
    "\n",
    "        # Ignore beginning and end.\n",
    "        num_samples = X.shape[0]\n",
    "        num_ignore = int(ignore_fraction * num_samples)\n",
    "        X = X[num_ignore:-num_ignore]\n",
    "\n",
    "        # Split X temporally.\n",
    "        X_train, X_test = split_temporally(X, test_fraction)\n",
    "        \n",
    "        # Transform X into short sequences.\n",
    "        X_train, y_train = transform_into_sequences(X_train, num_timesteps)\n",
    "        X_test, y_test = transform_into_sequences(X_test, num_timesteps)\n",
    "        X_test, X_val, y_test, y_val = train_test_split(X_test, y_test, test_size=0.5, random_state=42)\n",
    "        return X_train, y_train, X_test, y_test, X_val, y_val\n",
    "\n",
    "    def shuffle_data(X, y):\n",
    "        idx = np.arange(len(X))\n",
    "        default_rng().shuffle(idx)\n",
    "        X_shuffled = X[idx, :]\n",
    "        y_shuffled = y[idx]\n",
    "        return X_shuffled, y_shuffled\n",
    "\n",
    "    X_train_stop, y_train_stop, X_test_stop, y_test_stop, X_val_stop, y_val_stop = \\\n",
    "        read_and_prepare_data(\n",
    "            path_stop,\n",
    "            0.0,\n",
    "            num_timesteps,\n",
    "            ignore_fraction,\n",
    "            test_fraction,\n",
    "        )\n",
    "    \n",
    "    X_train_0, y_train_0, X_test_0, y_test_0, X_val_0, y_val_0 = \\\n",
    "        read_and_prepare_data(\n",
    "            path_0,\n",
    "            1.0,\n",
    "            num_timesteps,\n",
    "            ignore_fraction,\n",
    "            test_fraction,\n",
    "        )\n",
    "    X_train_45, y_train_45, X_test_45, y_test_45, X_val_45, y_val_45 = \\\n",
    "        read_and_prepare_data(\n",
    "            path_45,\n",
    "            2.0,\n",
    "            num_timesteps,\n",
    "            ignore_fraction,\n",
    "            test_fraction,\n",
    "        )\n",
    "\n",
    "\n",
    "    X_train_90, y_train_90, X_test_90, y_test_90, X_val_90, y_val_90 = \\\n",
    "        read_and_prepare_data(\n",
    "            path_90,\n",
    "            3.0,\n",
    "            num_timesteps,\n",
    "            ignore_fraction,\n",
    "            test_fraction,\n",
    "        )\n",
    "    \n",
    "    X_train_135, y_train_135, X_test_135, y_test_135, X_val_135, y_val_135 = \\\n",
    "        read_and_prepare_data(\n",
    "            path_135,\n",
    "            4.0,\n",
    "            num_timesteps,\n",
    "            ignore_fraction,\n",
    "            test_fraction,\n",
    "        )\n",
    "\n",
    "    \n",
    "    X_train_180, y_train_180, X_test_180, y_test_180, X_val_180, y_val_180 = \\\n",
    "        read_and_prepare_data(\n",
    "            path_180,\n",
    "            5.0,\n",
    "            num_timesteps,\n",
    "            ignore_fraction,\n",
    "            test_fraction,\n",
    "        )\n",
    "    \n",
    "    X_train_225, y_train_225, X_test_225, y_test_225, X_val_225, y_val_225 = \\\n",
    "        read_and_prepare_data(\n",
    "            path_225,\n",
    "            6.0,\n",
    "            num_timesteps,\n",
    "            ignore_fraction,\n",
    "            test_fraction,\n",
    "        )\n",
    "\n",
    "    \n",
    "    X_train_270, y_train_270, X_test_270, y_test_270,X_val_270, y_val_270  = \\\n",
    "        read_and_prepare_data(\n",
    "            path_270,\n",
    "            7.0,\n",
    "            num_timesteps,\n",
    "            ignore_fraction,\n",
    "            test_fraction,\n",
    "        )\n",
    "    \n",
    "    X_train_315, y_train_315, X_test_315, y_test_315, X_val_315, y_val_315 = \\\n",
    "        read_and_prepare_data(\n",
    "            path_315,\n",
    "            8.0,\n",
    "            num_timesteps,\n",
    "            ignore_fraction,\n",
    "            test_fraction,\n",
    "        )\n",
    "\n",
    "\n",
    "    X_train = np.concatenate((X_train_stop, X_train_0,X_train_45, X_train_90,X_train_135, X_train_180,X_train_225, X_train_270, X_train_315), axis=0)\n",
    "    y_train = np.concatenate((y_train_stop, y_train_0,y_train_45, y_train_90,y_train_135, y_train_180,y_train_225, y_train_270, y_train_315), axis=0)\n",
    "    X_test = np.concatenate((X_test_stop, X_test_0,X_test_45, X_test_90,X_test_135, X_test_180,X_test_225, X_test_270, X_test_315), axis=0)\n",
    "    y_test = np.concatenate(( y_test_stop,  y_test_0, y_test_45,  y_test_90, y_test_135,  y_test_180, y_test_225,  y_test_270,  y_test_315), axis=0)\n",
    "    X_val = np.concatenate(( X_val_stop,  X_val_0, X_val_45,  X_val_90, X_val_135,  X_val_180, X_val_225,  X_val_270,  X_val_315), axis=0)\n",
    "    y_val = np.concatenate(( y_val_stop,  y_val_0, y_val_45,  y_val_90, y_val_135,  y_val_180, y_val_225,  y_val_270,  y_val_315), axis=0)\n",
    "\n",
    "    \n",
    "    \n",
    "    X_train, y_train = shuffle_data(X_train, y_train)\n",
    "    X_test, y_test = shuffle_data(X_test, y_test)\n",
    "    X_val, y_val = shuffle_data(X_val, y_val)\n",
    "    return X_train, X_test,X_val, y_train, y_test, y_val\n",
    "\n",
    "\n",
    "path_stop = Path(DATA_PATH, FILENAME_STOP)\n",
    "path_0 = Path(DATA_PATH, FILENAME_0)\n",
    "path_45 = Path(DATA_PATH, FILENAME_45)\n",
    "\n",
    "path_90 = Path(DATA_PATH, FILENAME_90)\n",
    "path_135 = Path(DATA_PATH, FILENAME_135)\n",
    "\n",
    "path_180 = Path(DATA_PATH, FILENAME_180)\n",
    "path_225 = Path(DATA_PATH, FILENAME_225)\n",
    "\n",
    "path_270 = Path(DATA_PATH, FILENAME_270)\n",
    "path_315 = Path(DATA_PATH, FILENAME_315)\n",
    "\n",
    "\n",
    "X_train, X_test, X_val, y_train, y_test , y_val= load_data(\n",
    "    path_stop,\n",
    "    path_0,\n",
    "    path_45,\n",
    "    path_90,\n",
    "    path_135,\n",
    "    path_180,\n",
    "    path_225,\n",
    "    path_270,\n",
    "    path_315,\n",
    "    NUM_TIMESTEPS,\n",
    "    IGNORE_FRACTION,\n",
    "    TEST_FRACTION,\n",
    ")"
   ]
  },
  {
   "cell_type": "code",
   "execution_count": 29,
   "id": "99c35712-1089-44f3-89ef-ed471b144c96",
   "metadata": {
    "colab": {
     "base_uri": "https://localhost:8080/"
    },
    "id": "99c35712-1089-44f3-89ef-ed471b144c96",
    "outputId": "9076061a-8661-4d2e-c1ed-887a92ec640b"
   },
   "outputs": [
    {
     "data": {
      "text/plain": [
       "((12525, 6, 14), (12525, 1), (2068, 6, 14), (2068, 1))"
      ]
     },
     "execution_count": 29,
     "metadata": {},
     "output_type": "execute_result"
    }
   ],
   "source": [
    "X_train.shape, y_train.shape, X_test.shape, y_test.shape"
   ]
  },
  {
   "cell_type": "code",
   "execution_count": 30,
   "id": "VqSuqgBCB_nA",
   "metadata": {
    "colab": {
     "base_uri": "https://localhost:8080/"
    },
    "id": "VqSuqgBCB_nA",
    "outputId": "26d50bbe-3fd3-4bed-e70e-7003d289c5d6"
   },
   "outputs": [
    {
     "data": {
      "text/plain": [
       "(6, 14)"
      ]
     },
     "execution_count": 30,
     "metadata": {},
     "output_type": "execute_result"
    }
   ],
   "source": [
    "X_test[60].shape\n"
   ]
  },
  {
   "cell_type": "code",
   "execution_count": null,
   "id": "dye8vjENBtXX",
   "metadata": {
    "id": "dye8vjENBtXX"
   },
   "outputs": [],
   "source": []
  },
  {
   "cell_type": "code",
   "execution_count": null,
   "id": "-3TttkaRCM4l",
   "metadata": {
    "id": "-3TttkaRCM4l"
   },
   "outputs": [],
   "source": []
  },
  {
   "cell_type": "code",
   "execution_count": 45,
   "id": "3a85634b-4e9c-45b8-b456-cb970457302f",
   "metadata": {
    "id": "3a85634b-4e9c-45b8-b456-cb970457302f"
   },
   "outputs": [
    {
     "name": "stdout",
     "output_type": "stream",
     "text": [
      "Model: \"Sequential_CNN\"\n",
      "_________________________________________________________________\n",
      " Layer (type)                Output Shape              Param #   \n",
      "=================================================================\n",
      " conv2d_3 (Conv2D)           (None, 6, 14, 256)        1280      \n",
      "                                                                 \n",
      " max_pooling2d_3 (MaxPooling  (None, 3, 7, 256)        0         \n",
      " 2D)                                                             \n",
      "                                                                 \n",
      " flatten_3 (Flatten)         (None, 5376)              0         \n",
      "                                                                 \n",
      " dense_8 (Dense)             (None, 9)                 48393     \n",
      "                                                                 \n",
      "=================================================================\n",
      "Total params: 49,673\n",
      "Trainable params: 49,673\n",
      "Non-trainable params: 0\n",
      "_________________________________________________________________\n"
     ]
    }
   ],
   "source": [
    "from tensorflow.keras.models import Sequential\n",
    "from tensorflow.keras.layers import Conv2D, MaxPooling2D, Flatten, Dense, InputLayer\n",
    "\n",
    "CNN = Sequential(name=\"Sequential_CNN\")\n",
    "\n",
    "CNN.add(Conv2D(256, kernel_size=(2, 2),\n",
    "               strides=(1, 1), padding=\"same\",\n",
    "               activation=\"selu\", input_shape=[6, 14, 1]))\n",
    "\n",
    "CNN.add(MaxPooling2D(pool_size=(2, 2), strides=(2, 2),\n",
    "                     padding=\"valid\"))\n",
    "\n",
    "# Add another pair of Conv2D and MaxPooling2D for more model depth,\n",
    "# followed by the flatten and multiple dense layers\n",
    "\n",
    "# CNN.add(Conv2D(64, kernel_size=(3, 3),\n",
    "#                strides=(1, 1), padding=\"same\",\n",
    "#                activation=\"selu\"))\n",
    "\n",
    "# CNN.add(MaxPooling2D(pool_size=(2, 2), strides=(1, 1),\n",
    "#                      padding=\"valid\"))\n",
    "# CNN.add(InputLayer(input_shape=(6,14,1 )))\n",
    "CNN.add(Flatten())\n",
    "\n",
    "# CNN.add(Dense(64, activation='selu'))\n",
    "# CNN.add(Dense(32, activation='selu'))\n",
    "CNN.add(Dense(9, activation='softmax'))\n",
    "\n",
    "CNN.summary()"
   ]
  },
  {
   "cell_type": "code",
   "execution_count": null,
   "id": "j0C2RSxICKzq",
   "metadata": {
    "colab": {
     "base_uri": "https://localhost:8080/"
    },
    "id": "j0C2RSxICKzq",
    "outputId": "af853522-fdf6-40e4-8d0e-cd2a6dcdab9b"
   },
   "outputs": [],
   "source": []
  },
  {
   "cell_type": "code",
   "execution_count": 46,
   "id": "911581af",
   "metadata": {},
   "outputs": [],
   "source": [
    "from numpy import *\n",
    "where_are_NaNsx = isnan(X_train)\n",
    "X_train[where_are_NaNsx] = 0\n",
    "\n",
    "where_are_NaNsy = isnan(y_train)\n",
    "y_train[where_are_NaNsy] = 0\n",
    "\n",
    "where_are_NaNsxt = isnan(X_test)\n",
    "X_test[where_are_NaNsxt] = 0\n",
    "\n",
    "where_are_NaNsyt = isnan(y_test)\n",
    "y_test[where_are_NaNsyt] = 0"
   ]
  },
  {
   "cell_type": "code",
   "execution_count": 47,
   "id": "7baf8970-5318-4461-b828-d34c232afa5f",
   "metadata": {
    "colab": {
     "base_uri": "https://localhost:8080/"
    },
    "id": "7baf8970-5318-4461-b828-d34c232afa5f",
    "outputId": "08a66cc8-aeee-42ba-f039-9dfa2ba6f99e"
   },
   "outputs": [
    {
     "name": "stdout",
     "output_type": "stream",
     "text": [
      "Epoch 1/50\n",
      "49/49 [==============================] - 10s 182ms/step - loss: 1.2300 - accuracy: 0.7055 - val_loss: 0.6895 - val_accuracy: 0.8840\n",
      "Epoch 2/50\n",
      "49/49 [==============================] - 8s 164ms/step - loss: 0.6412 - accuracy: 0.8555 - val_loss: 0.4858 - val_accuracy: 0.8710\n",
      "Epoch 3/50\n",
      "49/49 [==============================] - 8s 160ms/step - loss: 0.5078 - accuracy: 0.8654 - val_loss: 0.4218 - val_accuracy: 0.8358\n",
      "Epoch 4/50\n",
      "49/49 [==============================] - 8s 162ms/step - loss: 0.4482 - accuracy: 0.8704 - val_loss: 0.4187 - val_accuracy: 0.8479\n",
      "Epoch 5/50\n",
      "49/49 [==============================] - 8s 163ms/step - loss: 0.4165 - accuracy: 0.8759 - val_loss: 0.3861 - val_accuracy: 0.8421\n",
      "Epoch 6/50\n",
      "49/49 [==============================] - 8s 165ms/step - loss: 0.3859 - accuracy: 0.8802 - val_loss: 0.3818 - val_accuracy: 0.8512\n",
      "Epoch 7/50\n",
      "49/49 [==============================] - 8s 159ms/step - loss: 0.3664 - accuracy: 0.8832 - val_loss: 0.3840 - val_accuracy: 0.8560\n",
      "Epoch 8/50\n",
      "49/49 [==============================] - 8s 167ms/step - loss: 0.3454 - accuracy: 0.8844 - val_loss: 0.4127 - val_accuracy: 0.8628\n",
      "Epoch 9/50\n",
      "49/49 [==============================] - 8s 158ms/step - loss: 0.3304 - accuracy: 0.8930 - val_loss: 0.4603 - val_accuracy: 0.8705\n",
      "Epoch 10/50\n",
      "49/49 [==============================] - 8s 158ms/step - loss: 0.3164 - accuracy: 0.8961 - val_loss: 0.4400 - val_accuracy: 0.8498\n",
      "Epoch 11/50\n",
      "49/49 [==============================] - 8s 172ms/step - loss: 0.3009 - accuracy: 0.9028 - val_loss: 0.4489 - val_accuracy: 0.8469\n",
      "Epoch 12/50\n",
      "49/49 [==============================] - 9s 187ms/step - loss: 0.2913 - accuracy: 0.9070 - val_loss: 0.4396 - val_accuracy: 0.8435\n",
      "Epoch 13/50\n",
      "49/49 [==============================] - 9s 176ms/step - loss: 0.2798 - accuracy: 0.9085 - val_loss: 0.3708 - val_accuracy: 0.8758\n",
      "Epoch 14/50\n",
      "49/49 [==============================] - 8s 161ms/step - loss: 0.2687 - accuracy: 0.9174 - val_loss: 0.4041 - val_accuracy: 0.8421\n",
      "Epoch 15/50\n",
      "49/49 [==============================] - 8s 161ms/step - loss: 0.2690 - accuracy: 0.9171 - val_loss: 0.3588 - val_accuracy: 0.8695\n",
      "Epoch 16/50\n",
      "49/49 [==============================] - 8s 168ms/step - loss: 0.2571 - accuracy: 0.9204 - val_loss: 0.3484 - val_accuracy: 0.8777\n",
      "Epoch 17/50\n",
      "49/49 [==============================] - 8s 169ms/step - loss: 0.2512 - accuracy: 0.9246 - val_loss: 0.2716 - val_accuracy: 0.9244\n",
      "Epoch 18/50\n",
      "49/49 [==============================] - 8s 162ms/step - loss: 0.2366 - accuracy: 0.9306 - val_loss: 0.3584 - val_accuracy: 0.8931\n",
      "Epoch 19/50\n",
      "49/49 [==============================] - 10s 210ms/step - loss: 0.2369 - accuracy: 0.9281 - val_loss: 0.3862 - val_accuracy: 0.8893\n",
      "Epoch 20/50\n",
      "49/49 [==============================] - 8s 163ms/step - loss: 0.2281 - accuracy: 0.9332 - val_loss: 0.3526 - val_accuracy: 0.8869\n",
      "Epoch 21/50\n",
      "49/49 [==============================] - 8s 163ms/step - loss: 0.2226 - accuracy: 0.9352 - val_loss: 0.3591 - val_accuracy: 0.8888\n",
      "Epoch 22/50\n",
      "49/49 [==============================] - 9s 174ms/step - loss: 0.2169 - accuracy: 0.9375 - val_loss: 0.3070 - val_accuracy: 0.9008\n",
      "Epoch 23/50\n",
      "49/49 [==============================] - 8s 161ms/step - loss: 0.2140 - accuracy: 0.9378 - val_loss: 0.3393 - val_accuracy: 0.8830\n",
      "Epoch 24/50\n",
      "49/49 [==============================] - 8s 156ms/step - loss: 0.2126 - accuracy: 0.9352 - val_loss: 0.2964 - val_accuracy: 0.8912\n",
      "Epoch 25/50\n",
      "49/49 [==============================] - 8s 160ms/step - loss: 0.2063 - accuracy: 0.9396 - val_loss: 0.2755 - val_accuracy: 0.9095\n",
      "Epoch 26/50\n",
      "49/49 [==============================] - 8s 167ms/step - loss: 0.2057 - accuracy: 0.9367 - val_loss: 0.3467 - val_accuracy: 0.8724\n",
      "Epoch 27/50\n",
      "49/49 [==============================] - 8s 165ms/step - loss: 0.2018 - accuracy: 0.9405 - val_loss: 0.2736 - val_accuracy: 0.9037\n",
      "Epoch 28/50\n",
      "49/49 [==============================] - 8s 170ms/step - loss: 0.1956 - accuracy: 0.9431 - val_loss: 0.2803 - val_accuracy: 0.9090\n",
      "Epoch 29/50\n",
      "49/49 [==============================] - 10s 195ms/step - loss: 0.1931 - accuracy: 0.9447 - val_loss: 0.3870 - val_accuracy: 0.8753\n",
      "Epoch 30/50\n",
      "49/49 [==============================] - 8s 166ms/step - loss: 0.1976 - accuracy: 0.9423 - val_loss: 0.3003 - val_accuracy: 0.8970\n",
      "Epoch 31/50\n",
      "49/49 [==============================] - 8s 163ms/step - loss: 0.1875 - accuracy: 0.9457 - val_loss: 0.3363 - val_accuracy: 0.8864\n",
      "Epoch 32/50\n",
      "49/49 [==============================] - 8s 163ms/step - loss: 0.1849 - accuracy: 0.9458 - val_loss: 0.2943 - val_accuracy: 0.8989\n",
      "Epoch 33/50\n",
      "49/49 [==============================] - 8s 163ms/step - loss: 0.1884 - accuracy: 0.9455 - val_loss: 0.3567 - val_accuracy: 0.8565\n",
      "Epoch 34/50\n",
      "49/49 [==============================] - 8s 172ms/step - loss: 0.1857 - accuracy: 0.9454 - val_loss: 0.2626 - val_accuracy: 0.9076\n",
      "Epoch 35/50\n",
      "49/49 [==============================] - 8s 161ms/step - loss: 0.1808 - accuracy: 0.9472 - val_loss: 0.2216 - val_accuracy: 0.9239\n",
      "Epoch 36/50\n",
      "49/49 [==============================] - 8s 158ms/step - loss: 0.1784 - accuracy: 0.9479 - val_loss: 0.2605 - val_accuracy: 0.9148\n",
      "Epoch 37/50\n",
      "49/49 [==============================] - 8s 160ms/step - loss: 0.1764 - accuracy: 0.9480 - val_loss: 0.3173 - val_accuracy: 0.8922\n",
      "Epoch 38/50\n",
      "49/49 [==============================] - 9s 183ms/step - loss: 0.1755 - accuracy: 0.9500 - val_loss: 0.3077 - val_accuracy: 0.8926\n",
      "Epoch 39/50\n",
      "49/49 [==============================] - 8s 165ms/step - loss: 0.1695 - accuracy: 0.9496 - val_loss: 0.2942 - val_accuracy: 0.8767\n",
      "Epoch 40/50\n",
      "49/49 [==============================] - 8s 162ms/step - loss: 0.1678 - accuracy: 0.9514 - val_loss: 0.3593 - val_accuracy: 0.8854\n",
      "Epoch 41/50\n",
      "49/49 [==============================] - 8s 162ms/step - loss: 0.1687 - accuracy: 0.9494 - val_loss: 0.2455 - val_accuracy: 0.9201\n",
      "Epoch 42/50\n",
      "49/49 [==============================] - 8s 164ms/step - loss: 0.1710 - accuracy: 0.9497 - val_loss: 0.2798 - val_accuracy: 0.9013\n",
      "Epoch 43/50\n",
      "49/49 [==============================] - 9s 184ms/step - loss: 0.1675 - accuracy: 0.9488 - val_loss: 0.2934 - val_accuracy: 0.9013\n",
      "Epoch 44/50\n",
      "49/49 [==============================] - 12s 235ms/step - loss: 0.1647 - accuracy: 0.9506 - val_loss: 0.3040 - val_accuracy: 0.9023\n",
      "Epoch 45/50\n",
      "49/49 [==============================] - 21s 422ms/step - loss: 0.1659 - accuracy: 0.9496 - val_loss: 0.3270 - val_accuracy: 0.8970\n",
      "Epoch 46/50\n",
      "49/49 [==============================] - 32s 659ms/step - loss: 0.1617 - accuracy: 0.9510 - val_loss: 0.2954 - val_accuracy: 0.8965\n",
      "Epoch 47/50\n",
      "49/49 [==============================] - 30s 600ms/step - loss: 0.1631 - accuracy: 0.9508 - val_loss: 0.2556 - val_accuracy: 0.9119\n",
      "Epoch 48/50\n",
      "49/49 [==============================] - 29s 593ms/step - loss: 0.1609 - accuracy: 0.9518 - val_loss: 0.3314 - val_accuracy: 0.8893\n",
      "Epoch 49/50\n",
      "49/49 [==============================] - 26s 536ms/step - loss: 0.1593 - accuracy: 0.9522 - val_loss: 0.2385 - val_accuracy: 0.9172\n",
      "Epoch 50/50\n",
      "49/49 [==============================] - 35s 710ms/step - loss: 0.1558 - accuracy: 0.9538 - val_loss: 0.3338 - val_accuracy: 0.8883\n"
     ]
    }
   ],
   "source": [
    "optimizer = keras.optimizers.Adam(learning_rate=1e-3)\n",
    "\n",
    "CNN.compile(\n",
    "    loss='sparse_categorical_crossentropy',\n",
    "    optimizer=optimizer,\n",
    "    metrics=['accuracy'],\n",
    ")\n",
    "history = CNN.fit(\n",
    "    X_train,\n",
    "    y_train,\n",
    "    epochs=50,\n",
    "    batch_size=256,\n",
    "    validation_data=(X_val, y_val),\n",
    "    verbose=1,\n",
    ")"
   ]
  },
  {
   "cell_type": "code",
   "execution_count": 49,
   "id": "70de8d27-4ff5-4dce-b45f-675dcc74513e",
   "metadata": {
    "colab": {
     "base_uri": "https://localhost:8080/"
    },
    "id": "70de8d27-4ff5-4dce-b45f-675dcc74513e",
    "outputId": "7211ef5c-5b4a-4afb-ad4f-7341eeb8f0f8"
   },
   "outputs": [],
   "source": [
    "# from functools import partial\n",
    "\n",
    "\n",
    "\n",
    "# _, num_time, num_feat = X_train.shape\n",
    "\n",
    "# activation = 'selu'\n",
    "\n",
    "# DefaultConv1D = partial(\n",
    "#     keras.layers.Conv1D,\n",
    "#     kernel_size=1,\n",
    "#     activation=activation,\n",
    "#     padding=\"valid\",\n",
    "# )\n",
    "\n",
    "# model = keras.models.Sequential([\n",
    "#     DefaultConv1D(4 * num_feat, kernel_size=2, input_shape=[num_time, num_feat]),\n",
    "#     keras.layers.BatchNormalization(),\n",
    "#     DefaultConv1D(num_feat, kernel_size=2),\n",
    "#     keras.layers.Flatten(),\n",
    "#     keras.layers.BatchNormalization(),\n",
    "#     keras.layers.Dense(num_time * num_feat, activation=activation),\n",
    "#     keras.layers.BatchNormalization(),\n",
    "#     keras.layers.Dense(num_feat, activation=activation),\n",
    "#     keras.layers.BatchNormalization(),\n",
    "#     keras.layers.Dense(5, activation='softmax'),\n",
    "# ])\n",
    "\n",
    "# optimizer = keras.optimizers.Adam(learning_rate=1e-3)\n",
    "\n",
    "# model.compile(\n",
    "#     loss='sparse_categorical_crossentropy',\n",
    "#     optimizer=optimizer,\n",
    "#     metrics=['accuracy'],\n",
    "# )\n",
    "\n",
    "# history = model.fit(\n",
    "#     X_train,\n",
    "#     y_train,\n",
    "#     epochs=EPOCHS,\n",
    "#     batch_size=BATCH_SIZE,\n",
    "#     validation_data=(X_test, y_test),\n",
    "#     verbose=1,\n",
    "# )"
   ]
  },
  {
   "cell_type": "code",
   "execution_count": 50,
   "id": "bed79725-2bb3-47ce-b06c-333c662b30bf",
   "metadata": {
    "colab": {
     "base_uri": "https://localhost:8080/",
     "height": 282
    },
    "id": "bed79725-2bb3-47ce-b06c-333c662b30bf",
    "outputId": "4354cc75-e44d-4d2a-ac4b-c55a4b3a9305"
   },
   "outputs": [
    {
     "data": {
      "text/plain": [
       "[<matplotlib.lines.Line2D at 0x7f78498b3280>]"
      ]
     },
     "execution_count": 50,
     "metadata": {},
     "output_type": "execute_result"
    },
    {
     "data": {
      "image/png": "[encoded data removed]",
      "text/plain": [
       "<Figure size 432x288 with 1 Axes>"
      ]
     },
     "metadata": {
      "needs_background": "light"
     },
     "output_type": "display_data"
    }
   ],
   "source": [
    "plt.plot(history.history['accuracy'])\n",
    "plt.plot(history.history['val_accuracy'])"
   ]
  },
  {
   "cell_type": "code",
   "execution_count": 51,
   "id": "3b65d81f-3d75-43d1-9e2d-88cef69d110b",
   "metadata": {
    "colab": {
     "base_uri": "https://localhost:8080/",
     "height": 265
    },
    "id": "3b65d81f-3d75-43d1-9e2d-88cef69d110b",
    "outputId": "97e18fb9-4340-478c-e307-82c03282e9cc"
   },
   "outputs": [
    {
     "data": {
      "image/png": "[encoded data removed]",
      "text/plain": [
       "<Figure size 432x288 with 1 Axes>"
      ]
     },
     "metadata": {
      "needs_background": "light"
     },
     "output_type": "display_data"
    }
   ],
   "source": [
    "plt.plot(history.history['loss'])\n",
    "plt.plot(history.history['val_loss'])\n",
    "plt.yscale('log')"
   ]
  },
  {
   "cell_type": "code",
   "execution_count": 52,
   "id": "8a964a60-488a-431e-8bcc-586e90d8956b",
   "metadata": {
    "id": "8a964a60-488a-431e-8bcc-586e90d8956b"
   },
   "outputs": [
    {
     "name": "stdout",
     "output_type": "stream",
     "text": [
      "65/65 [==============================] - 6s 61ms/step\n"
     ]
    }
   ],
   "source": [
    "y_pred = CNN.predict(X_test)"
   ]
  },
  {
   "cell_type": "code",
   "execution_count": 53,
   "id": "d7C0QyTLHO8q",
   "metadata": {
    "colab": {
     "base_uri": "https://localhost:8080/"
    },
    "id": "d7C0QyTLHO8q",
    "outputId": "78587010-2aa8-4cc7-e82f-7c40e11ce705"
   },
   "outputs": [
    {
     "data": {
      "text/plain": [
       "array([[8.9246621e-03, 8.2817369e-19, 4.4295134e-19, ..., 2.8866488e-03,\n",
       "        1.1574179e-02, 6.0265638e-13],\n",
       "       [9.0455590e-04, 8.3654113e-20, 2.8072522e-19, ..., 8.3788607e-04,\n",
       "        1.5557853e-03, 2.6548499e-14],\n",
       "       [1.7465983e-02, 2.3314859e-22, 7.4306158e-08, ..., 1.7984376e-17,\n",
       "        5.8376664e-08, 3.8565978e-24],\n",
       "       ...,\n",
       "       [3.5088453e-02, 4.3723934e-20, 1.6037570e-15, ..., 7.6738443e-06,\n",
       "        1.6809098e-01, 1.5565559e-16],\n",
       "       [9.7995365e-01, 2.3090465e-03, 1.7668627e-02, ..., 2.2836332e-19,\n",
       "        1.1637219e-18, 6.8699781e-05],\n",
       "       [1.6822180e-03, 2.4307374e-06, 9.1669708e-01, ..., 8.4684085e-21,\n",
       "        7.1545242e-20, 6.0322224e-16]], dtype=float32)"
      ]
     },
     "execution_count": 53,
     "metadata": {},
     "output_type": "execute_result"
    }
   ],
   "source": [
    "y_pred"
   ]
  },
  {
   "cell_type": "code",
   "execution_count": 54,
   "id": "1ljWvGo9skgS",
   "metadata": {
    "id": "1ljWvGo9skgS"
   },
   "outputs": [],
   "source": [
    "y_pred= np.argmax(y_pred, axis=1)"
   ]
  },
  {
   "cell_type": "code",
   "execution_count": 55,
   "id": "BIninuG_Hixu",
   "metadata": {
    "colab": {
     "base_uri": "https://localhost:8080/"
    },
    "id": "BIninuG_Hixu",
    "outputId": "8d52a3ce-46d5-41c3-f339-ec8e2feee684"
   },
   "outputs": [
    {
     "data": {
      "text/plain": [
       "array([5, 5, 3, ..., 4, 0, 2])"
      ]
     },
     "execution_count": 55,
     "metadata": {},
     "output_type": "execute_result"
    }
   ],
   "source": [
    "y_pred"
   ]
  },
  {
   "cell_type": "code",
   "execution_count": 56,
   "id": "3NzoyhrD4tO9",
   "metadata": {
    "colab": {
     "base_uri": "https://localhost:8080/"
    },
    "id": "3NzoyhrD4tO9",
    "outputId": "da09ab77-c439-431e-82a8-93fc98f20b49"
   },
   "outputs": [
    {
     "data": {
      "text/plain": [
       "5"
      ]
     },
     "execution_count": 56,
     "metadata": {},
     "output_type": "execute_result"
    }
   ],
   "source": [
    "y_pred[0]"
   ]
  },
  {
   "cell_type": "code",
   "execution_count": 57,
   "id": "48c3e9c7-2bc3-479a-8af1-bf35d87f3e57",
   "metadata": {
    "id": "48c3e9c7-2bc3-479a-8af1-bf35d87f3e57"
   },
   "outputs": [],
   "source": [
    "df = pd.DataFrame({\n",
    "    'y_test': y_test.ravel().astype(int).tolist(),\n",
    "    'y_pred': y_pred.ravel().astype(int).tolist(),\n",
    "})"
   ]
  },
  {
   "cell_type": "code",
   "execution_count": 58,
   "id": "18cfafbe-dafb-4a9e-8873-7f96e71f80b8",
   "metadata": {
    "colab": {
     "base_uri": "https://localhost:8080/",
     "height": 175
    },
    "id": "18cfafbe-dafb-4a9e-8873-7f96e71f80b8",
    "outputId": "aa49cb9d-c88e-437b-9a31-2809577d1da1",
    "scrolled": true
   },
   "outputs": [
    {
     "data": {
      "text/html": [
       "<div>\n",
       "<style scoped>\n",
       "    .dataframe tbody tr th:only-of-type {\n",
       "        vertical-align: middle;\n",
       "    }\n",
       "\n",
       "    .dataframe tbody tr th {\n",
       "        vertical-align: top;\n",
       "    }\n",
       "\n",
       "    .dataframe thead th {\n",
       "        text-align: right;\n",
       "    }\n",
       "</style>\n",
       "<table border=\"1\" class=\"dataframe\">\n",
       "  <thead>\n",
       "    <tr style=\"text-align: right;\">\n",
       "      <th>y_pred</th>\n",
       "      <th>0</th>\n",
       "      <th>1</th>\n",
       "      <th>2</th>\n",
       "      <th>3</th>\n",
       "      <th>4</th>\n",
       "      <th>5</th>\n",
       "      <th>6</th>\n",
       "      <th>7</th>\n",
       "      <th>8</th>\n",
       "    </tr>\n",
       "    <tr>\n",
       "      <th>y_test</th>\n",
       "      <th></th>\n",
       "      <th></th>\n",
       "      <th></th>\n",
       "      <th></th>\n",
       "      <th></th>\n",
       "      <th></th>\n",
       "      <th></th>\n",
       "      <th></th>\n",
       "      <th></th>\n",
       "    </tr>\n",
       "  </thead>\n",
       "  <tbody>\n",
       "    <tr>\n",
       "      <th>0</th>\n",
       "      <td>163</td>\n",
       "      <td>0</td>\n",
       "      <td>10</td>\n",
       "      <td>1</td>\n",
       "      <td>17</td>\n",
       "      <td>18</td>\n",
       "      <td>1</td>\n",
       "      <td>26</td>\n",
       "      <td>1</td>\n",
       "    </tr>\n",
       "    <tr>\n",
       "      <th>1</th>\n",
       "      <td>134</td>\n",
       "      <td>22</td>\n",
       "      <td>16</td>\n",
       "      <td>0</td>\n",
       "      <td>0</td>\n",
       "      <td>0</td>\n",
       "      <td>0</td>\n",
       "      <td>0</td>\n",
       "      <td>0</td>\n",
       "    </tr>\n",
       "    <tr>\n",
       "      <th>2</th>\n",
       "      <td>5</td>\n",
       "      <td>0</td>\n",
       "      <td>231</td>\n",
       "      <td>0</td>\n",
       "      <td>1</td>\n",
       "      <td>0</td>\n",
       "      <td>0</td>\n",
       "      <td>0</td>\n",
       "      <td>0</td>\n",
       "    </tr>\n",
       "    <tr>\n",
       "      <th>3</th>\n",
       "      <td>0</td>\n",
       "      <td>0</td>\n",
       "      <td>0</td>\n",
       "      <td>237</td>\n",
       "      <td>0</td>\n",
       "      <td>0</td>\n",
       "      <td>0</td>\n",
       "      <td>0</td>\n",
       "      <td>0</td>\n",
       "    </tr>\n",
       "    <tr>\n",
       "      <th>4</th>\n",
       "      <td>0</td>\n",
       "      <td>0</td>\n",
       "      <td>0</td>\n",
       "      <td>0</td>\n",
       "      <td>237</td>\n",
       "      <td>0</td>\n",
       "      <td>0</td>\n",
       "      <td>0</td>\n",
       "      <td>0</td>\n",
       "    </tr>\n",
       "    <tr>\n",
       "      <th>5</th>\n",
       "      <td>0</td>\n",
       "      <td>0</td>\n",
       "      <td>0</td>\n",
       "      <td>0</td>\n",
       "      <td>0</td>\n",
       "      <td>237</td>\n",
       "      <td>0</td>\n",
       "      <td>0</td>\n",
       "      <td>0</td>\n",
       "    </tr>\n",
       "    <tr>\n",
       "      <th>6</th>\n",
       "      <td>0</td>\n",
       "      <td>0</td>\n",
       "      <td>0</td>\n",
       "      <td>0</td>\n",
       "      <td>0</td>\n",
       "      <td>2</td>\n",
       "      <td>235</td>\n",
       "      <td>0</td>\n",
       "      <td>0</td>\n",
       "    </tr>\n",
       "    <tr>\n",
       "      <th>7</th>\n",
       "      <td>0</td>\n",
       "      <td>0</td>\n",
       "      <td>0</td>\n",
       "      <td>0</td>\n",
       "      <td>0</td>\n",
       "      <td>0</td>\n",
       "      <td>0</td>\n",
       "      <td>237</td>\n",
       "      <td>0</td>\n",
       "    </tr>\n",
       "    <tr>\n",
       "      <th>8</th>\n",
       "      <td>0</td>\n",
       "      <td>0</td>\n",
       "      <td>0</td>\n",
       "      <td>0</td>\n",
       "      <td>0</td>\n",
       "      <td>0</td>\n",
       "      <td>0</td>\n",
       "      <td>0</td>\n",
       "      <td>237</td>\n",
       "    </tr>\n",
       "  </tbody>\n",
       "</table>\n",
       "</div>"
      ],
      "text/plain": [
       "y_pred    0   1    2    3    4    5    6    7    8\n",
       "y_test                                            \n",
       "0       163   0   10    1   17   18    1   26    1\n",
       "1       134  22   16    0    0    0    0    0    0\n",
       "2         5   0  231    0    1    0    0    0    0\n",
       "3         0   0    0  237    0    0    0    0    0\n",
       "4         0   0    0    0  237    0    0    0    0\n",
       "5         0   0    0    0    0  237    0    0    0\n",
       "6         0   0    0    0    0    2  235    0    0\n",
       "7         0   0    0    0    0    0    0  237    0\n",
       "8         0   0    0    0    0    0    0    0  237"
      ]
     },
     "execution_count": 58,
     "metadata": {},
     "output_type": "execute_result"
    }
   ],
   "source": [
    "pd.crosstab(df['y_test'], df['y_pred'])"
   ]
  },
  {
   "cell_type": "code",
   "execution_count": null,
   "id": "e192957b-1b16-47c8-89eb-d6e2fb9bde9f",
   "metadata": {
    "id": "e192957b-1b16-47c8-89eb-d6e2fb9bde9f"
   },
   "outputs": [],
   "source": [
    "# model.save('model.h5')"
   ]
  },
  {
   "cell_type": "code",
   "execution_count": null,
   "id": "vZD1w6TZwk0e",
   "metadata": {
    "id": "vZD1w6TZwk0e"
   },
   "outputs": [],
   "source": [
    "CNN.save('model_f_e_m_i_45.h5')"
   ]
  },
  {
   "cell_type": "code",
   "execution_count": null,
   "id": "f1d824e8",
   "metadata": {},
   "outputs": [],
   "source": []
  }
 ],
 "metadata": {
  "accelerator": "GPU",
  "colab": {
   "provenance": []
  },
  "gpuClass": "standard",
  "kernelspec": {
   "display_name": "Python 3 (ipykernel)",
   "language": "python",
   "name": "python3"
  },
  "language_info": {
   "codemirror_mode": {
    "name": "ipython",
    "version": 3
   },
   "file_extension": ".py",
   "mimetype": "text/x-python",
   "name": "python",
   "nbconvert_exporter": "python",
   "pygments_lexer": "ipython3",
   "version": "3.9.12"
  }
 },
 "nbformat": 4,
 "nbformat_minor": 5
}
