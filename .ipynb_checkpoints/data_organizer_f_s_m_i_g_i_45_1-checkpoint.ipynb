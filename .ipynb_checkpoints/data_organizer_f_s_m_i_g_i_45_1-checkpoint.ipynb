{
 "cells": [
  {
   "cell_type": "code",
   "execution_count": 21,
   "id": "b41f0b0f-cc96-43a2-ab7f-f3264587e7d2",
   "metadata": {
    "id": "b41f0b0f-cc96-43a2-ab7f-f3264587e7d2"
   },
   "outputs": [],
   "source": [
    "from pathlib import Path\n",
    "import matplotlib.pyplot as plt\n",
    "import numpy as np\n",
    "import pandas as pd\n",
    "import tensorflow as tf\n",
    "import tensorflow.keras as keras\n",
    "from tensorflow.python.keras.layers import Dense\n",
    "from numpy.random import default_rng\n",
    "from sklearn.model_selection import train_test_split"
   ]
  },
  {
   "cell_type": "code",
   "execution_count": null,
   "id": "df1cad23",
   "metadata": {},
   "outputs": [],
   "source": []
  },
  {
   "cell_type": "code",
   "execution_count": 22,
   "id": "NKCFZxY--SlA",
   "metadata": {
    "id": "NKCFZxY--SlA"
   },
   "outputs": [],
   "source": [
    "# data_new = pd.read_csv('d_o_90_1/d_o_90_1.txt', sep=\",\", comment=\"#\",header=None, names=[\"e_t_x\",\"e_t_y\",\"e_t_z\",\"e_r_x\",\"e_r_y\",\"e_r_z\",\"e_r_w\",\"d_t_x\",\"d_t_y\",\"d_t_z\",\"d_r_x\",\"d_r_y\",\"d_r_z\",\"d_r_w\", \"c_t_x\",\"c_t_y\",\"c_t_z\",\"c_r_x\",\"c_r_y\",\"c_r_z\", \"c_r_w\"])\n"
   ]
  },
  {
   "cell_type": "code",
   "execution_count": 23,
   "id": "CEcxIBOK_lHV",
   "metadata": {
    "colab": {
     "base_uri": "https://localhost:8080/",
     "height": 424
    },
    "id": "CEcxIBOK_lHV",
    "outputId": "697794b7-0442-48b4-c792-7fe5166e7348"
   },
   "outputs": [],
   "source": [
    "data_new = pd.read_csv('f_s_90_1/f_s_90_1.txt', sep=\",\", comment=\"#\",header=None, names=[\"e_t_x\",\"e_t_y\",\"e_t_z\",\"e_r_x\",\"e_r_y\",\"e_r_z\",\"e_r_w\",\"d_t_x\",\"d_t_y\",\"d_t_z\",\"d_r_x\",\"d_r_y\",\"d_r_z\",\"d_r_w\", \"c_t_x\",\"c_t_y\",\"c_t_z\",\"c_r_x\",\"c_r_y\",\"c_r_z\", \"c_r_w\"])\n"
   ]
  },
  {
   "cell_type": "code",
   "execution_count": null,
   "id": "0773bb42",
   "metadata": {},
   "outputs": [],
   "source": []
  },
  {
   "cell_type": "code",
   "execution_count": 24,
   "id": "TiXnPjZND-oG",
   "metadata": {
    "colab": {
     "base_uri": "https://localhost:8080/",
     "height": 488
    },
    "id": "TiXnPjZND-oG",
    "outputId": "8606ddc6-d785-4e99-e7a3-4f17d596a599"
   },
   "outputs": [],
   "source": [
    "vel_stop=data_new[:2400]\n",
    "vel_frente=data_new[2400:4800]\n",
    "vel_esquerda=data_new[4800:7200]\n",
    "vel_tras=data_new[7200:9600]\n",
    "vel_direita=data_new[9600:12000]\n",
    "\n",
    "\n",
    "\n",
    "\n",
    "# f_vel_stop=data_fernando[:300]\n",
    "# f_vel_slow=data_fernando[300:600]\n",
    "# f_vel_fast=data_fernando[600:900]\n",
    "# f_vel_slow2=data_fernando[900:1200]\n",
    "# f_vel_stop2=data_fernando[1200:1500]\n",
    "# f_vel_fast2=data_fernando[1500:1800]\n",
    "# f_vel_stop3=data_fernando[1800:]"
   ]
  },
  {
   "cell_type": "code",
   "execution_count": 25,
   "id": "a265040a",
   "metadata": {},
   "outputs": [],
   "source": [
    "# vel_stop.to_csv('d_o_90_1/stop_90_quat.csv', index=False, header=True)\n",
    "# vel_frente.to_csv('d_o_90_1/0_90_quat.csv', index=False, header=True)\n",
    "# vel_esquerda.to_csv('d_o_90_1/90_90_quat.csv', index=False, header=True)\n",
    "# vel_tras.to_csv('d_o_90_1/180_90_quat.csv', index=False, header=True)\n",
    "# vel_direita.to_csv('d_o_90_1/270_90_quat.csv', index=False, header=True)\n"
   ]
  },
  {
   "cell_type": "code",
   "execution_count": 26,
   "id": "ePcZW2f2gVOb",
   "metadata": {
    "colab": {
     "base_uri": "https://localhost:8080/",
     "height": 488
    },
    "id": "ePcZW2f2gVOb",
    "outputId": "5f5b4962-ab85-4552-bbac-2c4d37415a46",
    "scrolled": true
   },
   "outputs": [],
   "source": [
    "# vel_stop.to_csv('f_s_90_1/stop_90_quat.csv', index=False, header=True)\n",
    "# vel_frente.to_csv('f_s_90_1/0_90_quat.csv', index=False, header=True)\n",
    "# vel_esquerda.to_csv('f_s_90_1/90_90_quat.csv', index=False, header=True)\n",
    "# vel_tras.to_csv('f_S_90_1/180_90_quat.csv', index=False, header=True)\n",
    "# vel_direita.to_csv('f_s_90_1/270_90_quat.csv', index=False, header=True)\n",
    "\n"
   ]
  },
  {
   "cell_type": "code",
   "execution_count": 28,
   "id": "mlY3B_YnEEtI",
   "metadata": {
    "id": "mlY3B_YnEEtI"
   },
   "outputs": [],
   "source": [
    "vel_stop_antigo = pd.read_csv('d_o_90_1/stop_90_quat.csv', sep=\",\")\n",
    "vel_frente_antigo = pd.read_csv('d_o_90_1/0_90_quat.csv', sep=\",\")\n",
    "vel_esquerda_antigo = pd.read_csv('d_o_90_1/90_90_quat.csv', sep=\",\")\n",
    "vel_tras_antigo = pd.read_csv('d_o_90_1/180_90_quat.csv', sep=\",\")\n",
    "vel_direita_antigo = pd.read_csv('d_o_90_1/270_90_quat.csv', sep=\",\")\n"
   ]
  },
  {
   "cell_type": "code",
   "execution_count": 29,
   "id": "ba2f8f33",
   "metadata": {},
   "outputs": [
    {
     "name": "stderr",
     "output_type": "stream",
     "text": [
      "/var/folders/0t/r6pd3gzs67n8rkyyt6l75dy80000gn/T/ipykernel_2855/1519960658.py:1: FutureWarning: The frame.append method is deprecated and will be removed from pandas in a future version. Use pandas.concat instead.\n",
      "  stop = vel_stop.append(vel_stop_antigo, ignore_index=True)\n",
      "/var/folders/0t/r6pd3gzs67n8rkyyt6l75dy80000gn/T/ipykernel_2855/1519960658.py:2: FutureWarning: The frame.append method is deprecated and will be removed from pandas in a future version. Use pandas.concat instead.\n",
      "  forward = vel_frente.append(vel_frente_antigo, ignore_index=True)\n",
      "/var/folders/0t/r6pd3gzs67n8rkyyt6l75dy80000gn/T/ipykernel_2855/1519960658.py:3: FutureWarning: The frame.append method is deprecated and will be removed from pandas in a future version. Use pandas.concat instead.\n",
      "  left = vel_esquerda.append(vel_esquerda_antigo, ignore_index=True)\n",
      "/var/folders/0t/r6pd3gzs67n8rkyyt6l75dy80000gn/T/ipykernel_2855/1519960658.py:4: FutureWarning: The frame.append method is deprecated and will be removed from pandas in a future version. Use pandas.concat instead.\n",
      "  backward = vel_tras.append(vel_tras_antigo, ignore_index=True)\n",
      "/var/folders/0t/r6pd3gzs67n8rkyyt6l75dy80000gn/T/ipykernel_2855/1519960658.py:5: FutureWarning: The frame.append method is deprecated and will be removed from pandas in a future version. Use pandas.concat instead.\n",
      "  right = vel_direita.append(vel_direita_antigo, ignore_index=True)\n"
     ]
    }
   ],
   "source": [
    "stop = vel_stop.append(vel_stop_antigo, ignore_index=True)\n",
    "forward = vel_frente.append(vel_frente_antigo, ignore_index=True)\n",
    "left = vel_esquerda.append(vel_esquerda_antigo, ignore_index=True)\n",
    "backward = vel_tras.append(vel_tras_antigo, ignore_index=True)\n",
    "right = vel_direita.append(vel_direita_antigo, ignore_index=True)"
   ]
  },
  {
   "cell_type": "code",
   "execution_count": 30,
   "id": "404e7a17",
   "metadata": {},
   "outputs": [],
   "source": [
    "stop.to_csv('data/stop_90_quat.csv', index=False, header=True)\n",
    "forward.to_csv('data/0_90_quat.csv', index=False, header=True)\n",
    "left.to_csv('data/90_90_quat.csv', index=False, header=True)\n",
    "backward.to_csv('data/180_90_quat.csv', index=False, header=True)\n",
    "right.to_csv('data/270_90_quat.csv', index=False, header=True)"
   ]
  },
  {
   "cell_type": "code",
   "execution_count": null,
   "id": "14b58b91",
   "metadata": {},
   "outputs": [],
   "source": []
  },
  {
   "cell_type": "code",
   "execution_count": null,
   "id": "1f71026b",
   "metadata": {},
   "outputs": [],
   "source": []
  }
 ],
 "metadata": {
  "accelerator": "GPU",
  "colab": {
   "collapsed_sections": [],
   "provenance": []
  },
  "gpuClass": "standard",
  "kernelspec": {
   "display_name": "Python 3 (ipykernel)",
   "language": "python",
   "name": "python3"
  },
  "language_info": {
   "codemirror_mode": {
    "name": "ipython",
    "version": 3
   },
   "file_extension": ".py",
   "mimetype": "text/x-python",
   "name": "python",
   "nbconvert_exporter": "python",
   "pygments_lexer": "ipython3",
   "version": "3.9.12"
  }
 },
 "nbformat": 4,
 "nbformat_minor": 5
}
