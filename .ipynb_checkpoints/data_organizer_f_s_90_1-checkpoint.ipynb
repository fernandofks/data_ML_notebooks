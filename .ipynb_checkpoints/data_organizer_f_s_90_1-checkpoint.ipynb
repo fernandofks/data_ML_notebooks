{
 "cells": [
  {
   "cell_type": "code",
   "execution_count": 1,
   "id": "b41f0b0f-cc96-43a2-ab7f-f3264587e7d2",
   "metadata": {
    "id": "b41f0b0f-cc96-43a2-ab7f-f3264587e7d2"
   },
   "outputs": [
    {
     "name": "stderr",
     "output_type": "stream",
     "text": [
      "/Users/fernandokenjisakabe/opt/anaconda3/lib/python3.9/site-packages/scipy/__init__.py:146: UserWarning: A NumPy version >=1.16.5 and <1.23.0 is required for this version of SciPy (detected version 1.24.1\n",
      "  warnings.warn(f\"A NumPy version >={np_minversion} and <{np_maxversion}\"\n"
     ]
    }
   ],
   "source": [
    "from pathlib import Path\n",
    "import matplotlib.pyplot as plt\n",
    "import numpy as np\n",
    "import pandas as pd\n",
    "import tensorflow as tf\n",
    "import tensorflow.keras as keras\n",
    "from tensorflow.python.keras.layers import Dense\n",
    "from numpy.random import default_rng\n",
    "from sklearn.model_selection import train_test_split"
   ]
  },
  {
   "cell_type": "code",
   "execution_count": null,
   "id": "df1cad23",
   "metadata": {},
   "outputs": [],
   "source": []
  },
  {
   "cell_type": "code",
   "execution_count": 3,
   "id": "NKCFZxY--SlA",
   "metadata": {
    "id": "NKCFZxY--SlA"
   },
   "outputs": [],
   "source": [
    "data_new = pd.read_csv('d_o_90_1/d_o_90_1.txt', sep=\",\", comment=\"#\",header=None, names=[\"e_t_x\",\"e_t_y\",\"e_t_z\",\"e_r_x\",\"e_r_y\",\"e_r_z\",\"e_r_w\",\"d_t_x\",\"d_t_y\",\"d_t_z\",\"d_r_x\",\"d_r_y\",\"d_r_z\",\"d_r_w\", \"c_t_x\",\"c_t_y\",\"c_t_z\",\"c_r_x\",\"c_r_y\",\"c_r_z\", \"c_r_w\"])\n"
   ]
  },
  {
   "cell_type": "code",
   "execution_count": 4,
   "id": "CEcxIBOK_lHV",
   "metadata": {
    "colab": {
     "base_uri": "https://localhost:8080/",
     "height": 424
    },
    "id": "CEcxIBOK_lHV",
    "outputId": "697794b7-0442-48b4-c792-7fe5166e7348"
   },
   "outputs": [
    {
     "data": {
      "text/html": [
       "<div>\n",
       "<style scoped>\n",
       "    .dataframe tbody tr th:only-of-type {\n",
       "        vertical-align: middle;\n",
       "    }\n",
       "\n",
       "    .dataframe tbody tr th {\n",
       "        vertical-align: top;\n",
       "    }\n",
       "\n",
       "    .dataframe thead th {\n",
       "        text-align: right;\n",
       "    }\n",
       "</style>\n",
       "<table border=\"1\" class=\"dataframe\">\n",
       "  <thead>\n",
       "    <tr style=\"text-align: right;\">\n",
       "      <th></th>\n",
       "      <th>e_t_x</th>\n",
       "      <th>e_t_y</th>\n",
       "      <th>e_t_z</th>\n",
       "      <th>e_r_x</th>\n",
       "      <th>e_r_y</th>\n",
       "      <th>e_r_z</th>\n",
       "      <th>e_r_w</th>\n",
       "      <th>d_t_x</th>\n",
       "      <th>d_t_y</th>\n",
       "      <th>d_t_z</th>\n",
       "      <th>...</th>\n",
       "      <th>d_r_y</th>\n",
       "      <th>d_r_z</th>\n",
       "      <th>d_r_w</th>\n",
       "      <th>c_t_x</th>\n",
       "      <th>c_t_y</th>\n",
       "      <th>c_t_z</th>\n",
       "      <th>c_r_x</th>\n",
       "      <th>c_r_y</th>\n",
       "      <th>c_r_z</th>\n",
       "      <th>c_r_w</th>\n",
       "    </tr>\n",
       "  </thead>\n",
       "  <tbody>\n",
       "    <tr>\n",
       "      <th>0</th>\n",
       "      <td>-0.117</td>\n",
       "      <td>0.619</td>\n",
       "      <td>0.199</td>\n",
       "      <td>-0.029</td>\n",
       "      <td>-0.700</td>\n",
       "      <td>-0.704</td>\n",
       "      <td>0.117</td>\n",
       "      <td>0.119</td>\n",
       "      <td>0.622</td>\n",
       "      <td>0.164</td>\n",
       "      <td>...</td>\n",
       "      <td>-0.702</td>\n",
       "      <td>-0.673</td>\n",
       "      <td>0.120</td>\n",
       "      <td>-0.048</td>\n",
       "      <td>2.149</td>\n",
       "      <td>0.035</td>\n",
       "      <td>-0.092</td>\n",
       "      <td>-0.687</td>\n",
       "      <td>0.129</td>\n",
       "      <td>0.709</td>\n",
       "    </tr>\n",
       "    <tr>\n",
       "      <th>1</th>\n",
       "      <td>-0.117</td>\n",
       "      <td>0.619</td>\n",
       "      <td>0.198</td>\n",
       "      <td>-0.029</td>\n",
       "      <td>-0.700</td>\n",
       "      <td>-0.704</td>\n",
       "      <td>0.117</td>\n",
       "      <td>0.118</td>\n",
       "      <td>0.622</td>\n",
       "      <td>0.164</td>\n",
       "      <td>...</td>\n",
       "      <td>-0.703</td>\n",
       "      <td>-0.672</td>\n",
       "      <td>0.120</td>\n",
       "      <td>-0.042</td>\n",
       "      <td>2.151</td>\n",
       "      <td>0.037</td>\n",
       "      <td>-0.096</td>\n",
       "      <td>-0.679</td>\n",
       "      <td>0.124</td>\n",
       "      <td>0.718</td>\n",
       "    </tr>\n",
       "    <tr>\n",
       "      <th>2</th>\n",
       "      <td>-0.117</td>\n",
       "      <td>0.619</td>\n",
       "      <td>0.198</td>\n",
       "      <td>-0.030</td>\n",
       "      <td>-0.700</td>\n",
       "      <td>-0.704</td>\n",
       "      <td>0.116</td>\n",
       "      <td>0.119</td>\n",
       "      <td>0.622</td>\n",
       "      <td>0.164</td>\n",
       "      <td>...</td>\n",
       "      <td>-0.703</td>\n",
       "      <td>-0.672</td>\n",
       "      <td>0.119</td>\n",
       "      <td>-0.039</td>\n",
       "      <td>2.153</td>\n",
       "      <td>0.038</td>\n",
       "      <td>-0.099</td>\n",
       "      <td>-0.670</td>\n",
       "      <td>0.119</td>\n",
       "      <td>0.726</td>\n",
       "    </tr>\n",
       "    <tr>\n",
       "      <th>3</th>\n",
       "      <td>-0.117</td>\n",
       "      <td>0.619</td>\n",
       "      <td>0.198</td>\n",
       "      <td>-0.030</td>\n",
       "      <td>-0.700</td>\n",
       "      <td>-0.704</td>\n",
       "      <td>0.116</td>\n",
       "      <td>0.119</td>\n",
       "      <td>0.622</td>\n",
       "      <td>0.164</td>\n",
       "      <td>...</td>\n",
       "      <td>-0.703</td>\n",
       "      <td>-0.672</td>\n",
       "      <td>0.119</td>\n",
       "      <td>-0.037</td>\n",
       "      <td>2.153</td>\n",
       "      <td>0.039</td>\n",
       "      <td>-0.099</td>\n",
       "      <td>-0.661</td>\n",
       "      <td>0.119</td>\n",
       "      <td>0.734</td>\n",
       "    </tr>\n",
       "    <tr>\n",
       "      <th>4</th>\n",
       "      <td>-0.117</td>\n",
       "      <td>0.619</td>\n",
       "      <td>0.198</td>\n",
       "      <td>-0.030</td>\n",
       "      <td>-0.700</td>\n",
       "      <td>-0.704</td>\n",
       "      <td>0.116</td>\n",
       "      <td>0.118</td>\n",
       "      <td>0.622</td>\n",
       "      <td>0.164</td>\n",
       "      <td>...</td>\n",
       "      <td>-0.703</td>\n",
       "      <td>-0.672</td>\n",
       "      <td>0.119</td>\n",
       "      <td>-0.035</td>\n",
       "      <td>2.153</td>\n",
       "      <td>0.039</td>\n",
       "      <td>-0.100</td>\n",
       "      <td>-0.655</td>\n",
       "      <td>0.118</td>\n",
       "      <td>0.740</td>\n",
       "    </tr>\n",
       "    <tr>\n",
       "      <th>...</th>\n",
       "      <td>...</td>\n",
       "      <td>...</td>\n",
       "      <td>...</td>\n",
       "      <td>...</td>\n",
       "      <td>...</td>\n",
       "      <td>...</td>\n",
       "      <td>...</td>\n",
       "      <td>...</td>\n",
       "      <td>...</td>\n",
       "      <td>...</td>\n",
       "      <td>...</td>\n",
       "      <td>...</td>\n",
       "      <td>...</td>\n",
       "      <td>...</td>\n",
       "      <td>...</td>\n",
       "      <td>...</td>\n",
       "      <td>...</td>\n",
       "      <td>...</td>\n",
       "      <td>...</td>\n",
       "      <td>...</td>\n",
       "      <td>...</td>\n",
       "    </tr>\n",
       "    <tr>\n",
       "      <th>12017</th>\n",
       "      <td>0.095</td>\n",
       "      <td>0.621</td>\n",
       "      <td>0.167</td>\n",
       "      <td>-0.539</td>\n",
       "      <td>-0.419</td>\n",
       "      <td>-0.479</td>\n",
       "      <td>0.551</td>\n",
       "      <td>0.047</td>\n",
       "      <td>0.602</td>\n",
       "      <td>-0.056</td>\n",
       "      <td>...</td>\n",
       "      <td>-0.412</td>\n",
       "      <td>-0.361</td>\n",
       "      <td>0.558</td>\n",
       "      <td>0.173</td>\n",
       "      <td>2.138</td>\n",
       "      <td>0.173</td>\n",
       "      <td>0.106</td>\n",
       "      <td>0.669</td>\n",
       "      <td>0.024</td>\n",
       "      <td>0.736</td>\n",
       "    </tr>\n",
       "    <tr>\n",
       "      <th>12018</th>\n",
       "      <td>0.095</td>\n",
       "      <td>0.622</td>\n",
       "      <td>0.168</td>\n",
       "      <td>-0.539</td>\n",
       "      <td>-0.419</td>\n",
       "      <td>-0.479</td>\n",
       "      <td>0.551</td>\n",
       "      <td>0.046</td>\n",
       "      <td>0.602</td>\n",
       "      <td>-0.057</td>\n",
       "      <td>...</td>\n",
       "      <td>-0.412</td>\n",
       "      <td>-0.360</td>\n",
       "      <td>0.559</td>\n",
       "      <td>0.165</td>\n",
       "      <td>2.138</td>\n",
       "      <td>0.165</td>\n",
       "      <td>0.106</td>\n",
       "      <td>0.654</td>\n",
       "      <td>0.014</td>\n",
       "      <td>0.749</td>\n",
       "    </tr>\n",
       "    <tr>\n",
       "      <th>12019</th>\n",
       "      <td>0.097</td>\n",
       "      <td>0.623</td>\n",
       "      <td>0.168</td>\n",
       "      <td>-0.539</td>\n",
       "      <td>-0.420</td>\n",
       "      <td>-0.479</td>\n",
       "      <td>0.551</td>\n",
       "      <td>0.047</td>\n",
       "      <td>0.603</td>\n",
       "      <td>-0.057</td>\n",
       "      <td>...</td>\n",
       "      <td>-0.411</td>\n",
       "      <td>-0.360</td>\n",
       "      <td>0.559</td>\n",
       "      <td>0.155</td>\n",
       "      <td>2.139</td>\n",
       "      <td>0.154</td>\n",
       "      <td>0.108</td>\n",
       "      <td>0.651</td>\n",
       "      <td>0.016</td>\n",
       "      <td>0.752</td>\n",
       "    </tr>\n",
       "    <tr>\n",
       "      <th>12020</th>\n",
       "      <td>0.097</td>\n",
       "      <td>0.623</td>\n",
       "      <td>0.168</td>\n",
       "      <td>-0.539</td>\n",
       "      <td>-0.420</td>\n",
       "      <td>-0.479</td>\n",
       "      <td>0.551</td>\n",
       "      <td>0.046</td>\n",
       "      <td>0.602</td>\n",
       "      <td>-0.057</td>\n",
       "      <td>...</td>\n",
       "      <td>-0.410</td>\n",
       "      <td>-0.359</td>\n",
       "      <td>0.560</td>\n",
       "      <td>0.145</td>\n",
       "      <td>2.141</td>\n",
       "      <td>0.145</td>\n",
       "      <td>0.102</td>\n",
       "      <td>0.650</td>\n",
       "      <td>0.021</td>\n",
       "      <td>0.752</td>\n",
       "    </tr>\n",
       "    <tr>\n",
       "      <th>12021</th>\n",
       "      <td>0.098</td>\n",
       "      <td>0.623</td>\n",
       "      <td>0.169</td>\n",
       "      <td>-0.539</td>\n",
       "      <td>-0.419</td>\n",
       "      <td>-0.479</td>\n",
       "      <td>0.552</td>\n",
       "      <td>0.046</td>\n",
       "      <td>0.602</td>\n",
       "      <td>-0.057</td>\n",
       "      <td>...</td>\n",
       "      <td>-0.409</td>\n",
       "      <td>-0.359</td>\n",
       "      <td>0.560</td>\n",
       "      <td>0.134</td>\n",
       "      <td>2.145</td>\n",
       "      <td>0.135</td>\n",
       "      <td>0.091</td>\n",
       "      <td>0.648</td>\n",
       "      <td>0.031</td>\n",
       "      <td>0.756</td>\n",
       "    </tr>\n",
       "  </tbody>\n",
       "</table>\n",
       "<p>12022 rows × 21 columns</p>\n",
       "</div>"
      ],
      "text/plain": [
       "       e_t_x  e_t_y  e_t_z  e_r_x  e_r_y  e_r_z  e_r_w  d_t_x  d_t_y  d_t_z  \\\n",
       "0     -0.117  0.619  0.199 -0.029 -0.700 -0.704  0.117  0.119  0.622  0.164   \n",
       "1     -0.117  0.619  0.198 -0.029 -0.700 -0.704  0.117  0.118  0.622  0.164   \n",
       "2     -0.117  0.619  0.198 -0.030 -0.700 -0.704  0.116  0.119  0.622  0.164   \n",
       "3     -0.117  0.619  0.198 -0.030 -0.700 -0.704  0.116  0.119  0.622  0.164   \n",
       "4     -0.117  0.619  0.198 -0.030 -0.700 -0.704  0.116  0.118  0.622  0.164   \n",
       "...      ...    ...    ...    ...    ...    ...    ...    ...    ...    ...   \n",
       "12017  0.095  0.621  0.167 -0.539 -0.419 -0.479  0.551  0.047  0.602 -0.056   \n",
       "12018  0.095  0.622  0.168 -0.539 -0.419 -0.479  0.551  0.046  0.602 -0.057   \n",
       "12019  0.097  0.623  0.168 -0.539 -0.420 -0.479  0.551  0.047  0.603 -0.057   \n",
       "12020  0.097  0.623  0.168 -0.539 -0.420 -0.479  0.551  0.046  0.602 -0.057   \n",
       "12021  0.098  0.623  0.169 -0.539 -0.419 -0.479  0.552  0.046  0.602 -0.057   \n",
       "\n",
       "       ...  d_r_y  d_r_z  d_r_w  c_t_x  c_t_y  c_t_z  c_r_x  c_r_y  c_r_z  \\\n",
       "0      ... -0.702 -0.673  0.120 -0.048  2.149  0.035 -0.092 -0.687  0.129   \n",
       "1      ... -0.703 -0.672  0.120 -0.042  2.151  0.037 -0.096 -0.679  0.124   \n",
       "2      ... -0.703 -0.672  0.119 -0.039  2.153  0.038 -0.099 -0.670  0.119   \n",
       "3      ... -0.703 -0.672  0.119 -0.037  2.153  0.039 -0.099 -0.661  0.119   \n",
       "4      ... -0.703 -0.672  0.119 -0.035  2.153  0.039 -0.100 -0.655  0.118   \n",
       "...    ...    ...    ...    ...    ...    ...    ...    ...    ...    ...   \n",
       "12017  ... -0.412 -0.361  0.558  0.173  2.138  0.173  0.106  0.669  0.024   \n",
       "12018  ... -0.412 -0.360  0.559  0.165  2.138  0.165  0.106  0.654  0.014   \n",
       "12019  ... -0.411 -0.360  0.559  0.155  2.139  0.154  0.108  0.651  0.016   \n",
       "12020  ... -0.410 -0.359  0.560  0.145  2.141  0.145  0.102  0.650  0.021   \n",
       "12021  ... -0.409 -0.359  0.560  0.134  2.145  0.135  0.091  0.648  0.031   \n",
       "\n",
       "       c_r_w  \n",
       "0      0.709  \n",
       "1      0.718  \n",
       "2      0.726  \n",
       "3      0.734  \n",
       "4      0.740  \n",
       "...      ...  \n",
       "12017  0.736  \n",
       "12018  0.749  \n",
       "12019  0.752  \n",
       "12020  0.752  \n",
       "12021  0.756  \n",
       "\n",
       "[12022 rows x 21 columns]"
      ]
     },
     "execution_count": 4,
     "metadata": {},
     "output_type": "execute_result"
    }
   ],
   "source": [
    "data_new"
   ]
  },
  {
   "cell_type": "code",
   "execution_count": null,
   "id": "0773bb42",
   "metadata": {},
   "outputs": [],
   "source": []
  },
  {
   "cell_type": "code",
   "execution_count": 5,
   "id": "TiXnPjZND-oG",
   "metadata": {
    "colab": {
     "base_uri": "https://localhost:8080/",
     "height": 488
    },
    "id": "TiXnPjZND-oG",
    "outputId": "8606ddc6-d785-4e99-e7a3-4f17d596a599"
   },
   "outputs": [],
   "source": [
    "vel_stop=data_new[:2400]\n",
    "vel_frente=data_new[2400:4800]\n",
    "vel_esquerda=data_new[4800:7200]\n",
    "vel_tras=data_new[7200:9600]\n",
    "vel_direita=data_new[9600:12000]\n",
    "\n",
    "\n",
    "\n",
    "\n",
    "# f_vel_stop=data_fernando[:300]\n",
    "# f_vel_slow=data_fernando[300:600]\n",
    "# f_vel_fast=data_fernando[600:900]\n",
    "# f_vel_slow2=data_fernando[900:1200]\n",
    "# f_vel_stop2=data_fernando[1200:1500]\n",
    "# f_vel_fast2=data_fernando[1500:1800]\n",
    "# f_vel_stop3=data_fernando[1800:]"
   ]
  },
  {
   "cell_type": "code",
   "execution_count": 6,
   "id": "a265040a",
   "metadata": {},
   "outputs": [],
   "source": [
    "vel_stop.to_csv('stop_90_quat.csv', index=False, header=True)\n",
    "vel_frente.to_csv('0_90_quat.csv', index=False, header=True)\n",
    "vel_esquerda.to_csv('90_90_quat.csv', index=False, header=True)\n",
    "vel_tras.to_csv('180_90_quat.csv', index=False, header=True)\n",
    "vel_direita.to_csv('270_90_quat.csv', index=False, header=True)\n"
   ]
  },
  {
   "cell_type": "code",
   "execution_count": null,
   "id": "ePcZW2f2gVOb",
   "metadata": {
    "colab": {
     "base_uri": "https://localhost:8080/",
     "height": 488
    },
    "id": "ePcZW2f2gVOb",
    "outputId": "5f5b4962-ab85-4552-bbac-2c4d37415a46",
    "scrolled": true
   },
   "outputs": [],
   "source": [
    "\n"
   ]
  },
  {
   "cell_type": "code",
   "execution_count": 7,
   "id": "mlY3B_YnEEtI",
   "metadata": {
    "id": "mlY3B_YnEEtI"
   },
   "outputs": [],
   "source": [
    "# # frames = [vel_stop0, vel_stop1, vel_stop2, vel_slow0, vel_slow1, vel_fast0, vel_fast1]\n",
    "# # result = pd.concat(frames)[1:]\n",
    "# # result = result.round(decimals=3)\n",
    "# frames = vel_stop0.append(vel_stop1,ignore_index=True)\n",
    "# frames = frames.append(vel_stop2,ignore_index=True)\n",
    "# frames = frames.append(vel_slow0,ignore_index=True)\n",
    "# frames = frames.append(vel_slow1,ignore_index=True)\n",
    "# frames = frames.append(vel_fast0,ignore_index=True)\n",
    "# frames = frames.append(vel_fast1,ignore_index=True)\n",
    "# result=frames\n",
    "# result"
   ]
  },
  {
   "cell_type": "code",
   "execution_count": 8,
   "id": "aHWd7FbxYRJ_",
   "metadata": {
    "colab": {
     "base_uri": "https://localhost:8080/",
     "height": 488
    },
    "id": "aHWd7FbxYRJ_",
    "outputId": "e92e114f-4f60-4dc6-8032-7ce1ee5bdede"
   },
   "outputs": [],
   "source": [
    "# result.to_csv('data/full_data_100Hz.csv', index=False, header=False) *****IMPORTANTE*****"
   ]
  },
  {
   "cell_type": "code",
   "execution_count": 9,
   "id": "a2d80ff8",
   "metadata": {},
   "outputs": [],
   "source": [
    "# # old_full_data = pd.read_csv('data/full_data.txt', sep=\",\", header=None, names=[\"e_t_x\",\"e_t_y\",\"e_t_z\",\"e_r_x\",\"e_r_y\",\"e_r_z\",\"e_r_w\",\"d_t_x\",\"d_t_y\",\"d_t_z\",\"d_r_x\",\"d_r_y\",\"d_r_z\",\"d_r_w\", \"c_t_x\",\"c_t_y\",\"c_t_z\",\"c_r_x\",\"c_r_y\",\"c_r_z\", \"c_r_w\",  \"speed\"])\n",
    "# old_full_data = pd.read_csv('data/full_data_100HZ.csv', sep=\",\", header=None, names=[\"e_t_x\",\"e_t_y\",\"e_t_z\",\"e_r_x\",\"e_r_y\",\"e_r_z\",\"e_r_w\",\"d_t_x\",\"d_t_y\",\"d_t_z\",\"d_r_x\",\"d_r_y\",\"d_r_z\",\"d_r_w\", \"c_t_x\",\"c_t_y\",\"c_t_z\",\"c_r_x\",\"c_r_y\",\"c_r_z\", \"c_r_w\",  \"speed\"])\n",
    "# # old_full_data\n",
    "# old_full_data"
   ]
  },
  {
   "cell_type": "code",
   "execution_count": 10,
   "id": "yhDKRNUkgTp2",
   "metadata": {
    "id": "yhDKRNUkgTp2"
   },
   "outputs": [
    {
     "ename": "NameError",
     "evalue": "name 'old_full_data' is not defined",
     "output_type": "error",
     "traceback": [
      "\u001b[0;31m---------------------------------------------------------------------------\u001b[0m",
      "\u001b[0;31mNameError\u001b[0m                                 Traceback (most recent call last)",
      "Input \u001b[0;32mIn [10]\u001b[0m, in \u001b[0;36m<cell line: 1>\u001b[0;34m()\u001b[0m\n\u001b[0;32m----> 1\u001b[0m full_data \u001b[38;5;241m=\u001b[39m \u001b[43mold_full_data\u001b[49m\u001b[38;5;241m.\u001b[39mappend(result, ignore_index\u001b[38;5;241m=\u001b[39m\u001b[38;5;28;01mTrue\u001b[39;00m)\n",
      "\u001b[0;31mNameError\u001b[0m: name 'old_full_data' is not defined"
     ]
    }
   ],
   "source": [
    "full_data = old_full_data.append(result, ignore_index=True)"
   ]
  },
  {
   "cell_type": "code",
   "execution_count": null,
   "id": "3baa0e89",
   "metadata": {},
   "outputs": [],
   "source": [
    "# old_full_data[::6].to_csv('data/full_data_6.csv', index=False, header=True)"
   ]
  },
  {
   "cell_type": "code",
   "execution_count": null,
   "id": "wIFLXFdGLFUd",
   "metadata": {
    "id": "wIFLXFdGLFUd"
   },
   "outputs": [],
   "source": [
    "# full_data.to_csv('data/full_data2.txt', index=False)"
   ]
  },
  {
   "cell_type": "code",
   "execution_count": null,
   "id": "S__m0KwUlIY8",
   "metadata": {
    "id": "S__m0KwUlIY8"
   },
   "outputs": [],
   "source": [
    "# full_data.to_csv('data/full_data.txt', index=False, header=False)"
   ]
  },
  {
   "cell_type": "code",
   "execution_count": null,
   "id": "cHNA-l0IX7cg",
   "metadata": {
    "id": "cHNA-l0IX7cg"
   },
   "outputs": [],
   "source": [
    "# full_data.to_csv('data/full_data_100Hz.csv', index=False, header=False)"
   ]
  },
  {
   "cell_type": "code",
   "execution_count": null,
   "id": "5k56Rdniafyc",
   "metadata": {
    "id": "5k56Rdniafyc"
   },
   "outputs": [],
   "source": [
    "# result_df= full_data.loc[full_data['speed']==\"fast\"][1:].reset_index(drop=True)"
   ]
  },
  {
   "cell_type": "code",
   "execution_count": null,
   "id": "580f6a21",
   "metadata": {},
   "outputs": [],
   "source": [
    "# result_df"
   ]
  },
  {
   "cell_type": "code",
   "execution_count": null,
   "id": "79a6ae39",
   "metadata": {},
   "outputs": [],
   "source": [
    "full_data"
   ]
  },
  {
   "cell_type": "code",
   "execution_count": null,
   "id": "1ad9f9da",
   "metadata": {},
   "outputs": [],
   "source": [
    "full_data[::10].to_csv('data/full_data_10Hz_with_Header.csv', index=False, header=True)"
   ]
  },
  {
   "cell_type": "code",
   "execution_count": null,
   "id": "018ea2fa",
   "metadata": {},
   "outputs": [],
   "source": [
    "full_data[::10].to_csv('data/full_data_10Hz.csv', index=False, header=False)"
   ]
  },
  {
   "cell_type": "code",
   "execution_count": null,
   "id": "0cb91047",
   "metadata": {},
   "outputs": [],
   "source": []
  }
 ],
 "metadata": {
  "accelerator": "GPU",
  "colab": {
   "collapsed_sections": [],
   "provenance": []
  },
  "gpuClass": "standard",
  "kernelspec": {
   "display_name": "Python 3 (ipykernel)",
   "language": "python",
   "name": "python3"
  },
  "language_info": {
   "codemirror_mode": {
    "name": "ipython",
    "version": 3
   },
   "file_extension": ".py",
   "mimetype": "text/x-python",
   "name": "python",
   "nbconvert_exporter": "python",
   "pygments_lexer": "ipython3",
   "version": "3.9.12"
  }
 },
 "nbformat": 4,
 "nbformat_minor": 5
}
