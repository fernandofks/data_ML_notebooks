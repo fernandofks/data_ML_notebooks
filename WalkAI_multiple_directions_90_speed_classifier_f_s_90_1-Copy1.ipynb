{
 "cells": [
  {
   "cell_type": "code",
   "execution_count": 31,
   "id": "b41f0b0f-cc96-43a2-ab7f-f3264587e7d2",
   "metadata": {
    "id": "b41f0b0f-cc96-43a2-ab7f-f3264587e7d2"
   },
   "outputs": [],
   "source": [
    "from pathlib import Path\n",
    "import matplotlib.pyplot as plt\n",
    "import numpy as np\n",
    "import pandas as pd\n",
    "import tensorflow as tf\n",
    "import tensorflow.keras as keras\n",
    "from tensorflow.python.keras.layers import Dense\n",
    "from numpy.random import default_rng\n",
    "from sklearn.model_selection import train_test_split"
   ]
  },
  {
   "cell_type": "code",
   "execution_count": 32,
   "id": "c9e9560b-749a-49a8-aedf-44a1ac9b4bb1",
   "metadata": {
    "id": "c9e9560b-749a-49a8-aedf-44a1ac9b4bb1"
   },
   "outputs": [],
   "source": [
    "# Loading pipeline params.\n",
    "DATA_PATH = Path('data')\n",
    "FILENAME_STOP = 'stop_90_diff_quat.csv'\n",
    "FILENAME_0 = '0_90_diff_quat.csv'\n",
    "FILENAME_90 = '90_90_diff_quat.csv'\n",
    "FILENAME_180 = '180_90_diff_quat.csv'\n",
    "FILENAME_270 = '270_90_diff_quat.csv'\n",
    "\n",
    "NUM_TIMESTEPS = 6\n",
    "IGNORE_FRACTION = 0.1\n",
    "TEST_FRACTION = 0.25\n",
    "\n",
    "# Training params.\n",
    "LEARNING_RATE = 1e-5\n",
    "EPOCHS = 100\n",
    "BATCH_SIZE = 512"
   ]
  },
  {
   "cell_type": "code",
   "execution_count": 33,
   "id": "7f52716d-1339-4484-9fd3-d5206979ba8e",
   "metadata": {
    "id": "7f52716d-1339-4484-9fd3-d5206979ba8e"
   },
   "outputs": [],
   "source": [
    "def load_data(\n",
    "    path_stop,\n",
    "    path_0,\n",
    "    path_90,\n",
    "    path_180,\n",
    "    path_270,\n",
    "    num_timesteps,\n",
    "    ignore_fraction,\n",
    "    test_fraction,\n",
    "):\n",
    "\n",
    "    def read_and_prepare_data(\n",
    "        path,\n",
    "        class_,\n",
    "        num_timesteps,\n",
    "        ignore_fraction,\n",
    "        test_fraction,\n",
    "    ):\n",
    "\n",
    "        def split_temporally(X, test_fraction):\n",
    "            num_samples = X.shape[0]\n",
    "            num_train = int(num_samples * (1.0 - test_fraction))\n",
    "            X_train, X_test = X[:num_train], X[num_train:]\n",
    "            return X_train, X_test\n",
    "\n",
    "        def transform_into_sequences(X, num_timesteps):\n",
    "            num_samples = X.shape[0]\n",
    "            X_seq = []\n",
    "            for k in range(num_samples - num_timesteps + 1):\n",
    "                X_seq.append(X[k:(k + num_timesteps)])\n",
    "            X_seq = np.array(X_seq)\n",
    "            y_seq = class_ * np.ones((X_seq.shape[0], 1))\n",
    "            return X_seq, y_seq\n",
    "\n",
    "        X = pd.read_csv(path).values\n",
    "        X = X[:, [0,1,2,3,4,5,6,7,8,9,10,11,12,13]]\n",
    "\n",
    "        # Ignore beginning and end.\n",
    "        num_samples = X.shape[0]\n",
    "        num_ignore = int(ignore_fraction * num_samples)\n",
    "        X = X[num_ignore:-num_ignore]\n",
    "\n",
    "        # Split X temporally.\n",
    "        X_train, X_test = split_temporally(X, test_fraction)\n",
    "        \n",
    "        # Transform X into short sequences.\n",
    "        X_train, y_train = transform_into_sequences(X_train, num_timesteps)\n",
    "        X_test, y_test = transform_into_sequences(X_test, num_timesteps)\n",
    "        X_test, X_val, y_test, y_val = train_test_split(X_test, y_test, test_size=0.5, random_state=42)\n",
    "        return X_train, y_train, X_test, y_test, X_val, y_val\n",
    "\n",
    "    def shuffle_data(X, y):\n",
    "        idx = np.arange(len(X))\n",
    "        default_rng().shuffle(idx)\n",
    "        X_shuffled = X[idx, :]\n",
    "        y_shuffled = y[idx]\n",
    "        return X_shuffled, y_shuffled\n",
    "\n",
    "    X_train_stop, y_train_stop, X_test_stop, y_test_stop, X_val_stop, y_val_stop = \\\n",
    "        read_and_prepare_data(\n",
    "            path_stop,\n",
    "            0.0,\n",
    "            num_timesteps,\n",
    "            ignore_fraction,\n",
    "            test_fraction,\n",
    "        )\n",
    "    \n",
    "    X_train_0, y_train_0, X_test_0, y_test_0, X_val_0, y_val_0 = \\\n",
    "        read_and_prepare_data(\n",
    "            path_0,\n",
    "            1.0,\n",
    "            num_timesteps,\n",
    "            ignore_fraction,\n",
    "            test_fraction,\n",
    "        )\n",
    "\n",
    "    X_train_90, y_train_90, X_test_90, y_test_90, X_val_90, y_val_90 = \\\n",
    "        read_and_prepare_data(\n",
    "            path_90,\n",
    "            2.0,\n",
    "            num_timesteps,\n",
    "            ignore_fraction,\n",
    "            test_fraction,\n",
    "        )\n",
    "    \n",
    "    X_train_180, y_train_180, X_test_180, y_test_180, X_val_180, y_val_180 = \\\n",
    "        read_and_prepare_data(\n",
    "            path_180,\n",
    "            3.0,\n",
    "            num_timesteps,\n",
    "            ignore_fraction,\n",
    "            test_fraction,\n",
    "        )\n",
    "    \n",
    "    X_train_270, y_train_270, X_test_270, y_test_270,X_val_270, y_val_270  = \\\n",
    "        read_and_prepare_data(\n",
    "            path_270,\n",
    "            4.0,\n",
    "            num_timesteps,\n",
    "            ignore_fraction,\n",
    "            test_fraction,\n",
    "        )\n",
    "\n",
    "    X_train = np.concatenate((X_train_stop, X_train_0, X_train_90, X_train_180, X_train_270), axis=0)\n",
    "    y_train = np.concatenate((y_train_stop, y_train_0, y_train_90, y_train_180, y_train_270), axis=0)\n",
    "    X_test = np.concatenate((X_test_stop, X_test_0, X_test_90, X_test_180, X_test_270), axis=0)\n",
    "    y_test = np.concatenate((y_test_stop, y_test_0, y_test_90, y_test_180, y_test_270), axis=0)\n",
    "    X_val = np.concatenate((X_val_stop, X_val_0, X_val_90, X_val_180, X_val_270), axis=0)\n",
    "    y_val = np.concatenate((y_val_stop, y_val_0, y_val_90, y_val_180, y_val_270), axis=0)\n",
    "\n",
    "    \n",
    "    \n",
    "    X_train, y_train = shuffle_data(X_train, y_train)\n",
    "    X_test, y_test = shuffle_data(X_test, y_test)\n",
    "    X_val, y_val = shuffle_data(X_val, y_val)\n",
    "    return X_train, X_test,X_val, y_train, y_test, y_val\n",
    "\n",
    "\n",
    "path_stop = Path(DATA_PATH, FILENAME_STOP)\n",
    "path_0 = Path(DATA_PATH, FILENAME_0)\n",
    "path_90 = Path(DATA_PATH, FILENAME_90)\n",
    "path_180 = Path(DATA_PATH, FILENAME_180)\n",
    "path_270 = Path(DATA_PATH, FILENAME_270)\n",
    "\n",
    "X_train, X_test, X_val, y_train, y_test , y_val= load_data(\n",
    "    path_stop,\n",
    "    path_0,\n",
    "    path_90,\n",
    "    path_180,\n",
    "    path_270,\n",
    "    NUM_TIMESTEPS,\n",
    "    IGNORE_FRACTION,\n",
    "    TEST_FRACTION,\n",
    ")"
   ]
  },
  {
   "cell_type": "code",
   "execution_count": 34,
   "id": "99c35712-1089-44f3-89ef-ed471b144c96",
   "metadata": {
    "colab": {
     "base_uri": "https://localhost:8080/"
    },
    "id": "99c35712-1089-44f3-89ef-ed471b144c96",
    "outputId": "9076061a-8661-4d2e-c1ed-887a92ec640b"
   },
   "outputs": [
    {
     "data": {
      "text/plain": [
       "((14375, 6, 14), (14375, 1), (2385, 6, 14), (2385, 1))"
      ]
     },
     "execution_count": 34,
     "metadata": {},
     "output_type": "execute_result"
    }
   ],
   "source": [
    "X_train.shape, y_train.shape, X_test.shape, y_test.shape"
   ]
  },
  {
   "cell_type": "code",
   "execution_count": 35,
   "id": "VqSuqgBCB_nA",
   "metadata": {
    "colab": {
     "base_uri": "https://localhost:8080/"
    },
    "id": "VqSuqgBCB_nA",
    "outputId": "26d50bbe-3fd3-4bed-e70e-7003d289c5d6"
   },
   "outputs": [
    {
     "data": {
      "text/plain": [
       "(6, 14)"
      ]
     },
     "execution_count": 35,
     "metadata": {},
     "output_type": "execute_result"
    }
   ],
   "source": [
    "X_test[60].shape\n"
   ]
  },
  {
   "cell_type": "code",
   "execution_count": null,
   "id": "dye8vjENBtXX",
   "metadata": {
    "id": "dye8vjENBtXX"
   },
   "outputs": [],
   "source": []
  },
  {
   "cell_type": "code",
   "execution_count": null,
   "id": "-3TttkaRCM4l",
   "metadata": {
    "id": "-3TttkaRCM4l"
   },
   "outputs": [],
   "source": []
  },
  {
   "cell_type": "code",
   "execution_count": 36,
   "id": "3a85634b-4e9c-45b8-b456-cb970457302f",
   "metadata": {
    "id": "3a85634b-4e9c-45b8-b456-cb970457302f"
   },
   "outputs": [
    {
     "name": "stdout",
     "output_type": "stream",
     "text": [
      "Model: \"Sequential_CNN\"\n",
      "_________________________________________________________________\n",
      " Layer (type)                Output Shape              Param #   \n",
      "=================================================================\n",
      " conv2d_4 (Conv2D)           (None, 2, 4, 256)         1280      \n",
      "                                                                 \n",
      " max_pooling2d_4 (MaxPooling  (None, 1, 3, 256)        0         \n",
      " 2D)                                                             \n",
      "                                                                 \n",
      " flatten_4 (Flatten)         (None, 768)               0         \n",
      "                                                                 \n",
      " dense_12 (Dense)            (None, 64)                49216     \n",
      "                                                                 \n",
      " dense_13 (Dense)            (None, 32)                2080      \n",
      "                                                                 \n",
      " dense_14 (Dense)            (None, 5)                 165       \n",
      "                                                                 \n",
      "=================================================================\n",
      "Total params: 52,741\n",
      "Trainable params: 52,741\n",
      "Non-trainable params: 0\n",
      "_________________________________________________________________\n"
     ]
    }
   ],
   "source": [
    "from tensorflow.keras.models import Sequential\n",
    "from tensorflow.keras.layers import Conv2D, MaxPooling2D, Flatten, Dense\n",
    "\n",
    "CNN = Sequential(name=\"Sequential_CNN\")\n",
    "\n",
    "CNN.add(Conv2D(256, kernel_size=(2, 2),\n",
    "               strides=(4, 4), padding=\"same\",\n",
    "               activation=\"selu\", input_shape=[6, 14, 1]))\n",
    "\n",
    "CNN.add(MaxPooling2D(pool_size=(2, 2), strides=(1, 1),\n",
    "                     padding=\"valid\"))\n",
    "\n",
    "# Add another pair of Conv2D and MaxPooling2D for more model depth,\n",
    "# followed by the flatten and multiple dense layers\n",
    "\n",
    "# CNN.add(Conv2D(64, kernel_size=(3, 3),\n",
    "#                strides=(1, 1), padding=\"same\",\n",
    "#                activation=\"selu\"))\n",
    "\n",
    "# CNN.add(MaxPooling2D(pool_size=(2, 2), strides=(1, 1),\n",
    "#                      padding=\"valid\"))\n",
    "\n",
    "CNN.add(Flatten())\n",
    "\n",
    "CNN.add(Dense(64, activation='selu'))\n",
    "CNN.add(Dense(32, activation='selu'))\n",
    "CNN.add(Dense(5, activation='softmax'))\n",
    "\n",
    "CNN.summary()"
   ]
  },
  {
   "cell_type": "code",
   "execution_count": null,
   "id": "j0C2RSxICKzq",
   "metadata": {
    "colab": {
     "base_uri": "https://localhost:8080/"
    },
    "id": "j0C2RSxICKzq",
    "outputId": "af853522-fdf6-40e4-8d0e-cd2a6dcdab9b"
   },
   "outputs": [],
   "source": []
  },
  {
   "cell_type": "code",
   "execution_count": 37,
   "id": "911581af",
   "metadata": {},
   "outputs": [],
   "source": [
    "from numpy import *\n",
    "where_are_NaNsx = isnan(X_train)\n",
    "X_train[where_are_NaNsx] = 0\n",
    "\n",
    "where_are_NaNsy = isnan(y_train)\n",
    "y_train[where_are_NaNsy] = 0\n",
    "\n",
    "where_are_NaNsxt = isnan(X_test)\n",
    "X_test[where_are_NaNsxt] = 0\n",
    "\n",
    "where_are_NaNsyt = isnan(y_test)\n",
    "y_test[where_are_NaNsyt] = 0"
   ]
  },
  {
   "cell_type": "code",
   "execution_count": 38,
   "id": "7baf8970-5318-4461-b828-d34c232afa5f",
   "metadata": {
    "colab": {
     "base_uri": "https://localhost:8080/"
    },
    "id": "7baf8970-5318-4461-b828-d34c232afa5f",
    "outputId": "08a66cc8-aeee-42ba-f039-9dfa2ba6f99e"
   },
   "outputs": [
    {
     "name": "stdout",
     "output_type": "stream",
     "text": [
      "Epoch 1/100\n",
      "57/57 [==============================] - 1s 11ms/step - loss: 0.7675 - accuracy: 0.7505 - val_loss: 0.5037 - val_accuracy: 0.8234\n",
      "Epoch 2/100\n",
      "57/57 [==============================] - 1s 10ms/step - loss: 0.4878 - accuracy: 0.8265 - val_loss: 0.4013 - val_accuracy: 0.8569\n",
      "Epoch 3/100\n",
      "57/57 [==============================] - 1s 9ms/step - loss: 0.4217 - accuracy: 0.8495 - val_loss: 0.3622 - val_accuracy: 0.8690\n",
      "Epoch 4/100\n",
      "57/57 [==============================] - 1s 9ms/step - loss: 0.3650 - accuracy: 0.8753 - val_loss: 0.2897 - val_accuracy: 0.9310\n",
      "Epoch 5/100\n",
      "57/57 [==============================] - 1s 9ms/step - loss: 0.3256 - accuracy: 0.8913 - val_loss: 0.2740 - val_accuracy: 0.9259\n",
      "Epoch 6/100\n",
      "57/57 [==============================] - 0s 9ms/step - loss: 0.3014 - accuracy: 0.9016 - val_loss: 0.2762 - val_accuracy: 0.9444\n",
      "Epoch 7/100\n",
      "57/57 [==============================] - 1s 9ms/step - loss: 0.2861 - accuracy: 0.9074 - val_loss: 0.3292 - val_accuracy: 0.9142\n",
      "Epoch 8/100\n",
      "57/57 [==============================] - 1s 9ms/step - loss: 0.2741 - accuracy: 0.9080 - val_loss: 0.3657 - val_accuracy: 0.8167\n",
      "Epoch 9/100\n",
      "57/57 [==============================] - 1s 9ms/step - loss: 0.2556 - accuracy: 0.9158 - val_loss: 0.2765 - val_accuracy: 0.9377\n",
      "Epoch 10/100\n",
      "57/57 [==============================] - 1s 9ms/step - loss: 0.2332 - accuracy: 0.9280 - val_loss: 0.2835 - val_accuracy: 0.9448\n",
      "Epoch 11/100\n",
      "57/57 [==============================] - 1s 9ms/step - loss: 0.2249 - accuracy: 0.9263 - val_loss: 0.2354 - val_accuracy: 0.9385\n",
      "Epoch 12/100\n",
      "57/57 [==============================] - 1s 9ms/step - loss: 0.2164 - accuracy: 0.9313 - val_loss: 0.3841 - val_accuracy: 0.8280\n",
      "Epoch 13/100\n",
      "57/57 [==============================] - 1s 9ms/step - loss: 0.2264 - accuracy: 0.9223 - val_loss: 0.2567 - val_accuracy: 0.9444\n",
      "Epoch 14/100\n",
      "57/57 [==============================] - 1s 9ms/step - loss: 0.2099 - accuracy: 0.9320 - val_loss: 0.3013 - val_accuracy: 0.9176\n",
      "Epoch 15/100\n",
      "57/57 [==============================] - 1s 10ms/step - loss: 0.2101 - accuracy: 0.9299 - val_loss: 0.2414 - val_accuracy: 0.9331\n",
      "Epoch 16/100\n",
      "57/57 [==============================] - 1s 9ms/step - loss: 0.1926 - accuracy: 0.9366 - val_loss: 0.2399 - val_accuracy: 0.9444\n",
      "Epoch 17/100\n",
      "57/57 [==============================] - 1s 9ms/step - loss: 0.1852 - accuracy: 0.9414 - val_loss: 0.2418 - val_accuracy: 0.9452\n",
      "Epoch 18/100\n",
      "57/57 [==============================] - 1s 9ms/step - loss: 0.1813 - accuracy: 0.9401 - val_loss: 0.2345 - val_accuracy: 0.9452\n",
      "Epoch 19/100\n",
      "57/57 [==============================] - 1s 9ms/step - loss: 0.1891 - accuracy: 0.9369 - val_loss: 0.2888 - val_accuracy: 0.9243\n",
      "Epoch 20/100\n",
      "57/57 [==============================] - 1s 9ms/step - loss: 0.1758 - accuracy: 0.9428 - val_loss: 0.2607 - val_accuracy: 0.9318\n",
      "Epoch 21/100\n",
      "57/57 [==============================] - 1s 9ms/step - loss: 0.1770 - accuracy: 0.9423 - val_loss: 0.2609 - val_accuracy: 0.9377\n",
      "Epoch 22/100\n",
      "57/57 [==============================] - 1s 9ms/step - loss: 0.1821 - accuracy: 0.9393 - val_loss: 0.3197 - val_accuracy: 0.9259\n",
      "Epoch 23/100\n",
      "57/57 [==============================] - 1s 9ms/step - loss: 0.1676 - accuracy: 0.9456 - val_loss: 0.2917 - val_accuracy: 0.9226\n",
      "Epoch 24/100\n",
      "57/57 [==============================] - 1s 9ms/step - loss: 0.1789 - accuracy: 0.9405 - val_loss: 0.2486 - val_accuracy: 0.9548\n",
      "Epoch 25/100\n",
      "57/57 [==============================] - 1s 9ms/step - loss: 0.1794 - accuracy: 0.9402 - val_loss: 0.3026 - val_accuracy: 0.9397\n",
      "Epoch 26/100\n",
      "57/57 [==============================] - 1s 9ms/step - loss: 0.1607 - accuracy: 0.9483 - val_loss: 0.2686 - val_accuracy: 0.9481\n",
      "Epoch 27/100\n",
      "57/57 [==============================] - 1s 9ms/step - loss: 0.1534 - accuracy: 0.9519 - val_loss: 0.2840 - val_accuracy: 0.9406\n",
      "Epoch 28/100\n",
      "57/57 [==============================] - 1s 9ms/step - loss: 0.1522 - accuracy: 0.9517 - val_loss: 0.2966 - val_accuracy: 0.9268\n",
      "Epoch 29/100\n",
      "57/57 [==============================] - 1s 9ms/step - loss: 0.1477 - accuracy: 0.9527 - val_loss: 0.2756 - val_accuracy: 0.9464\n",
      "Epoch 30/100\n",
      "57/57 [==============================] - 1s 9ms/step - loss: 0.1426 - accuracy: 0.9551 - val_loss: 0.2937 - val_accuracy: 0.9439\n",
      "Epoch 31/100\n",
      "57/57 [==============================] - 1s 9ms/step - loss: 0.1471 - accuracy: 0.9515 - val_loss: 0.2798 - val_accuracy: 0.9372\n",
      "Epoch 32/100\n",
      "57/57 [==============================] - 1s 9ms/step - loss: 0.1456 - accuracy: 0.9544 - val_loss: 0.3030 - val_accuracy: 0.9297\n",
      "Epoch 33/100\n",
      "57/57 [==============================] - 1s 9ms/step - loss: 0.1502 - accuracy: 0.9504 - val_loss: 0.3128 - val_accuracy: 0.9297\n",
      "Epoch 34/100\n",
      "57/57 [==============================] - 1s 10ms/step - loss: 0.1427 - accuracy: 0.9540 - val_loss: 0.2655 - val_accuracy: 0.9410\n",
      "Epoch 35/100\n",
      "57/57 [==============================] - 1s 9ms/step - loss: 0.1398 - accuracy: 0.9564 - val_loss: 0.2625 - val_accuracy: 0.9347\n",
      "Epoch 36/100\n",
      "57/57 [==============================] - 1s 9ms/step - loss: 0.1481 - accuracy: 0.9498 - val_loss: 0.3880 - val_accuracy: 0.8548\n",
      "Epoch 37/100\n",
      "57/57 [==============================] - 0s 9ms/step - loss: 0.1422 - accuracy: 0.9547 - val_loss: 0.2542 - val_accuracy: 0.9464\n",
      "Epoch 38/100\n",
      "57/57 [==============================] - 1s 9ms/step - loss: 0.1522 - accuracy: 0.9475 - val_loss: 0.3095 - val_accuracy: 0.9276\n",
      "Epoch 39/100\n",
      "57/57 [==============================] - 1s 9ms/step - loss: 0.1342 - accuracy: 0.9581 - val_loss: 0.3162 - val_accuracy: 0.9218\n",
      "Epoch 40/100\n",
      "57/57 [==============================] - 0s 9ms/step - loss: 0.1456 - accuracy: 0.9521 - val_loss: 0.2858 - val_accuracy: 0.9393\n",
      "Epoch 41/100\n",
      "57/57 [==============================] - 1s 9ms/step - loss: 0.1341 - accuracy: 0.9571 - val_loss: 0.2833 - val_accuracy: 0.9364\n",
      "Epoch 42/100\n",
      "57/57 [==============================] - 1s 9ms/step - loss: 0.1308 - accuracy: 0.9581 - val_loss: 0.2702 - val_accuracy: 0.9385\n",
      "Epoch 43/100\n",
      "57/57 [==============================] - 1s 9ms/step - loss: 0.1352 - accuracy: 0.9574 - val_loss: 0.2803 - val_accuracy: 0.9301\n",
      "Epoch 44/100\n",
      "57/57 [==============================] - 1s 9ms/step - loss: 0.1251 - accuracy: 0.9612 - val_loss: 0.2837 - val_accuracy: 0.9259\n",
      "Epoch 45/100\n",
      "57/57 [==============================] - 1s 9ms/step - loss: 0.1257 - accuracy: 0.9603 - val_loss: 0.2854 - val_accuracy: 0.9385\n",
      "Epoch 46/100\n",
      "57/57 [==============================] - 1s 9ms/step - loss: 0.1208 - accuracy: 0.9638 - val_loss: 0.2931 - val_accuracy: 0.9356\n",
      "Epoch 47/100\n",
      "57/57 [==============================] - 1s 10ms/step - loss: 0.1223 - accuracy: 0.9622 - val_loss: 0.3156 - val_accuracy: 0.9130\n",
      "Epoch 48/100\n",
      "57/57 [==============================] - 1s 9ms/step - loss: 0.1437 - accuracy: 0.9541 - val_loss: 0.3077 - val_accuracy: 0.9297\n",
      "Epoch 49/100\n",
      "57/57 [==============================] - 1s 9ms/step - loss: 0.1201 - accuracy: 0.9624 - val_loss: 0.2427 - val_accuracy: 0.9402\n",
      "Epoch 50/100\n",
      "57/57 [==============================] - 1s 9ms/step - loss: 0.1245 - accuracy: 0.9600 - val_loss: 0.2342 - val_accuracy: 0.9410\n",
      "Epoch 51/100\n",
      "57/57 [==============================] - 0s 9ms/step - loss: 0.1246 - accuracy: 0.9611 - val_loss: 0.2236 - val_accuracy: 0.9460\n",
      "Epoch 52/100\n",
      "57/57 [==============================] - 1s 9ms/step - loss: 0.1304 - accuracy: 0.9571 - val_loss: 0.2937 - val_accuracy: 0.9351\n",
      "Epoch 53/100\n",
      "57/57 [==============================] - 1s 9ms/step - loss: 0.1253 - accuracy: 0.9596 - val_loss: 0.2599 - val_accuracy: 0.9414\n",
      "Epoch 54/100\n",
      "57/57 [==============================] - 0s 8ms/step - loss: 0.1162 - accuracy: 0.9639 - val_loss: 0.2874 - val_accuracy: 0.9272\n",
      "Epoch 55/100\n",
      "57/57 [==============================] - 1s 9ms/step - loss: 0.1194 - accuracy: 0.9607 - val_loss: 0.2433 - val_accuracy: 0.9381\n",
      "Epoch 56/100\n",
      "57/57 [==============================] - 0s 9ms/step - loss: 0.1187 - accuracy: 0.9627 - val_loss: 0.2867 - val_accuracy: 0.9389\n",
      "Epoch 57/100\n",
      "57/57 [==============================] - 1s 9ms/step - loss: 0.1167 - accuracy: 0.9626 - val_loss: 0.3273 - val_accuracy: 0.9121\n",
      "Epoch 58/100\n",
      "57/57 [==============================] - 1s 9ms/step - loss: 0.1083 - accuracy: 0.9682 - val_loss: 0.2701 - val_accuracy: 0.9318\n"
     ]
    },
    {
     "name": "stdout",
     "output_type": "stream",
     "text": [
      "Epoch 59/100\n",
      "57/57 [==============================] - 0s 8ms/step - loss: 0.1083 - accuracy: 0.9668 - val_loss: 0.3014 - val_accuracy: 0.9293\n",
      "Epoch 60/100\n",
      "57/57 [==============================] - 0s 8ms/step - loss: 0.1089 - accuracy: 0.9654 - val_loss: 0.3871 - val_accuracy: 0.8703\n",
      "Epoch 61/100\n",
      "57/57 [==============================] - 0s 8ms/step - loss: 0.1264 - accuracy: 0.9585 - val_loss: 0.2824 - val_accuracy: 0.9368\n",
      "Epoch 62/100\n",
      "57/57 [==============================] - 1s 9ms/step - loss: 0.1031 - accuracy: 0.9686 - val_loss: 0.2894 - val_accuracy: 0.9285\n",
      "Epoch 63/100\n",
      "57/57 [==============================] - 0s 8ms/step - loss: 0.1023 - accuracy: 0.9688 - val_loss: 0.2400 - val_accuracy: 0.9456\n",
      "Epoch 64/100\n",
      "57/57 [==============================] - 0s 8ms/step - loss: 0.1051 - accuracy: 0.9670 - val_loss: 0.2392 - val_accuracy: 0.9159\n",
      "Epoch 65/100\n",
      "57/57 [==============================] - 0s 8ms/step - loss: 0.1066 - accuracy: 0.9656 - val_loss: 0.2531 - val_accuracy: 0.9297\n",
      "Epoch 66/100\n",
      "57/57 [==============================] - 0s 8ms/step - loss: 0.1071 - accuracy: 0.9638 - val_loss: 0.3064 - val_accuracy: 0.9092\n",
      "Epoch 67/100\n",
      "57/57 [==============================] - 0s 8ms/step - loss: 0.1072 - accuracy: 0.9650 - val_loss: 0.2901 - val_accuracy: 0.9234\n",
      "Epoch 68/100\n",
      "57/57 [==============================] - 0s 8ms/step - loss: 0.1122 - accuracy: 0.9656 - val_loss: 0.3722 - val_accuracy: 0.9134\n",
      "Epoch 69/100\n",
      "57/57 [==============================] - 0s 8ms/step - loss: 0.1056 - accuracy: 0.9659 - val_loss: 0.2700 - val_accuracy: 0.9251\n",
      "Epoch 70/100\n",
      "57/57 [==============================] - 0s 8ms/step - loss: 0.0981 - accuracy: 0.9697 - val_loss: 0.2602 - val_accuracy: 0.9377\n",
      "Epoch 71/100\n",
      "57/57 [==============================] - 0s 8ms/step - loss: 0.0961 - accuracy: 0.9714 - val_loss: 0.2238 - val_accuracy: 0.9494\n",
      "Epoch 72/100\n",
      "57/57 [==============================] - 0s 8ms/step - loss: 0.1007 - accuracy: 0.9677 - val_loss: 0.2788 - val_accuracy: 0.9310\n",
      "Epoch 73/100\n",
      "57/57 [==============================] - 0s 8ms/step - loss: 0.1015 - accuracy: 0.9673 - val_loss: 0.2810 - val_accuracy: 0.9222\n",
      "Epoch 74/100\n",
      "57/57 [==============================] - 0s 8ms/step - loss: 0.0968 - accuracy: 0.9699 - val_loss: 0.2607 - val_accuracy: 0.9305\n",
      "Epoch 75/100\n",
      "57/57 [==============================] - 0s 8ms/step - loss: 0.1032 - accuracy: 0.9673 - val_loss: 0.2543 - val_accuracy: 0.9243\n",
      "Epoch 76/100\n",
      "57/57 [==============================] - 0s 8ms/step - loss: 0.0982 - accuracy: 0.9702 - val_loss: 0.2690 - val_accuracy: 0.9176\n",
      "Epoch 77/100\n",
      "57/57 [==============================] - 0s 8ms/step - loss: 0.0998 - accuracy: 0.9691 - val_loss: 0.2473 - val_accuracy: 0.9251\n",
      "Epoch 78/100\n",
      "57/57 [==============================] - 0s 8ms/step - loss: 0.1075 - accuracy: 0.9655 - val_loss: 0.2378 - val_accuracy: 0.9402\n",
      "Epoch 79/100\n",
      "57/57 [==============================] - 0s 8ms/step - loss: 0.0940 - accuracy: 0.9706 - val_loss: 0.2402 - val_accuracy: 0.9439\n",
      "Epoch 80/100\n",
      "57/57 [==============================] - 0s 8ms/step - loss: 0.1083 - accuracy: 0.9642 - val_loss: 0.2589 - val_accuracy: 0.9276\n",
      "Epoch 81/100\n",
      "57/57 [==============================] - 0s 8ms/step - loss: 0.1038 - accuracy: 0.9641 - val_loss: 0.2344 - val_accuracy: 0.9360\n",
      "Epoch 82/100\n",
      "57/57 [==============================] - 0s 8ms/step - loss: 0.0963 - accuracy: 0.9691 - val_loss: 0.2524 - val_accuracy: 0.9339\n",
      "Epoch 83/100\n",
      "57/57 [==============================] - 1s 9ms/step - loss: 0.0987 - accuracy: 0.9690 - val_loss: 0.2908 - val_accuracy: 0.9197\n",
      "Epoch 84/100\n",
      "57/57 [==============================] - 0s 8ms/step - loss: 0.1028 - accuracy: 0.9662 - val_loss: 0.2548 - val_accuracy: 0.9234\n",
      "Epoch 85/100\n",
      "57/57 [==============================] - 0s 9ms/step - loss: 0.0993 - accuracy: 0.9697 - val_loss: 0.2110 - val_accuracy: 0.9460\n",
      "Epoch 86/100\n",
      "57/57 [==============================] - 0s 8ms/step - loss: 0.0938 - accuracy: 0.9706 - val_loss: 0.4900 - val_accuracy: 0.8657\n",
      "Epoch 87/100\n",
      "57/57 [==============================] - 1s 9ms/step - loss: 0.1005 - accuracy: 0.9676 - val_loss: 0.2785 - val_accuracy: 0.9192\n",
      "Epoch 88/100\n",
      "57/57 [==============================] - 0s 9ms/step - loss: 0.0972 - accuracy: 0.9690 - val_loss: 0.3340 - val_accuracy: 0.9008\n",
      "Epoch 89/100\n",
      "57/57 [==============================] - 0s 8ms/step - loss: 0.0954 - accuracy: 0.9688 - val_loss: 0.2641 - val_accuracy: 0.9268\n",
      "Epoch 90/100\n",
      "57/57 [==============================] - 0s 8ms/step - loss: 0.0902 - accuracy: 0.9709 - val_loss: 0.2758 - val_accuracy: 0.9172\n",
      "Epoch 91/100\n",
      "57/57 [==============================] - 0s 8ms/step - loss: 0.0887 - accuracy: 0.9725 - val_loss: 0.2385 - val_accuracy: 0.9322\n",
      "Epoch 92/100\n",
      "57/57 [==============================] - 0s 8ms/step - loss: 0.0916 - accuracy: 0.9692 - val_loss: 0.2898 - val_accuracy: 0.9201\n",
      "Epoch 93/100\n",
      "57/57 [==============================] - 0s 8ms/step - loss: 0.0861 - accuracy: 0.9721 - val_loss: 0.2686 - val_accuracy: 0.9251\n",
      "Epoch 94/100\n",
      "57/57 [==============================] - 0s 8ms/step - loss: 0.0918 - accuracy: 0.9715 - val_loss: 0.2876 - val_accuracy: 0.9172\n",
      "Epoch 95/100\n",
      "57/57 [==============================] - 0s 8ms/step - loss: 0.0830 - accuracy: 0.9742 - val_loss: 0.2578 - val_accuracy: 0.9276\n",
      "Epoch 96/100\n",
      "57/57 [==============================] - 0s 8ms/step - loss: 0.0847 - accuracy: 0.9732 - val_loss: 0.2488 - val_accuracy: 0.9264\n",
      "Epoch 97/100\n",
      "57/57 [==============================] - 0s 8ms/step - loss: 0.0873 - accuracy: 0.9732 - val_loss: 0.2464 - val_accuracy: 0.9335\n",
      "Epoch 98/100\n",
      "57/57 [==============================] - 0s 8ms/step - loss: 0.0872 - accuracy: 0.9728 - val_loss: 0.3017 - val_accuracy: 0.9071\n",
      "Epoch 99/100\n",
      "57/57 [==============================] - 0s 8ms/step - loss: 0.0839 - accuracy: 0.9731 - val_loss: 0.2543 - val_accuracy: 0.9264\n",
      "Epoch 100/100\n",
      "57/57 [==============================] - 0s 9ms/step - loss: 0.0825 - accuracy: 0.9747 - val_loss: 0.2868 - val_accuracy: 0.9029\n"
     ]
    }
   ],
   "source": [
    "optimizer = keras.optimizers.Adam(learning_rate=1e-3)\n",
    "\n",
    "CNN.compile(\n",
    "    loss='sparse_categorical_crossentropy',\n",
    "    optimizer=optimizer,\n",
    "    metrics=['accuracy'],\n",
    ")\n",
    "history = CNN.fit(\n",
    "    X_train,\n",
    "    y_train,\n",
    "    epochs=EPOCHS,\n",
    "    batch_size=256,\n",
    "    validation_data=(X_val, y_val),\n",
    "    verbose=1,\n",
    ")"
   ]
  },
  {
   "cell_type": "code",
   "execution_count": 39,
   "id": "70de8d27-4ff5-4dce-b45f-675dcc74513e",
   "metadata": {
    "colab": {
     "base_uri": "https://localhost:8080/"
    },
    "id": "70de8d27-4ff5-4dce-b45f-675dcc74513e",
    "outputId": "7211ef5c-5b4a-4afb-ad4f-7341eeb8f0f8"
   },
   "outputs": [],
   "source": [
    "# from functools import partial\n",
    "\n",
    "\n",
    "\n",
    "# _, num_time, num_feat = X_train.shape\n",
    "\n",
    "# activation = 'selu'\n",
    "\n",
    "# DefaultConv1D = partial(\n",
    "#     keras.layers.Conv1D,\n",
    "#     kernel_size=1,\n",
    "#     activation=activation,\n",
    "#     padding=\"valid\",\n",
    "# )\n",
    "\n",
    "# model = keras.models.Sequential([\n",
    "#     DefaultConv1D(4 * num_feat, kernel_size=2, input_shape=[num_time, num_feat]),\n",
    "#     keras.layers.BatchNormalization(),\n",
    "#     DefaultConv1D(num_feat, kernel_size=2),\n",
    "#     keras.layers.Flatten(),\n",
    "#     keras.layers.BatchNormalization(),\n",
    "#     keras.layers.Dense(num_time * num_feat, activation=activation),\n",
    "#     keras.layers.BatchNormalization(),\n",
    "#     keras.layers.Dense(num_feat, activation=activation),\n",
    "#     keras.layers.BatchNormalization(),\n",
    "#     keras.layers.Dense(5, activation='softmax'),\n",
    "# ])\n",
    "\n",
    "# optimizer = keras.optimizers.Adam(learning_rate=1e-3)\n",
    "\n",
    "# model.compile(\n",
    "#     loss='sparse_categorical_crossentropy',\n",
    "#     optimizer=optimizer,\n",
    "#     metrics=['accuracy'],\n",
    "# )\n",
    "\n",
    "# history = model.fit(\n",
    "#     X_train,\n",
    "#     y_train,\n",
    "#     epochs=EPOCHS,\n",
    "#     batch_size=BATCH_SIZE,\n",
    "#     validation_data=(X_test, y_test),\n",
    "#     verbose=1,\n",
    "# )"
   ]
  },
  {
   "cell_type": "code",
   "execution_count": 40,
   "id": "bed79725-2bb3-47ce-b06c-333c662b30bf",
   "metadata": {
    "colab": {
     "base_uri": "https://localhost:8080/",
     "height": 282
    },
    "id": "bed79725-2bb3-47ce-b06c-333c662b30bf",
    "outputId": "4354cc75-e44d-4d2a-ac4b-c55a4b3a9305"
   },
   "outputs": [
    {
     "data": {
      "text/plain": [
       "[<matplotlib.lines.Line2D at 0x7fa64eb45fa0>]"
      ]
     },
     "execution_count": 40,
     "metadata": {},
     "output_type": "execute_result"
    },
    {
     "data": {
      "image/png": "[encoded data removed]",
      "text/plain": [
       "<Figure size 432x288 with 1 Axes>"
      ]
     },
     "metadata": {
      "needs_background": "light"
     },
     "output_type": "display_data"
    }
   ],
   "source": [
    "plt.plot(history.history['accuracy'])\n",
    "plt.plot(history.history['val_accuracy'])"
   ]
  },
  {
   "cell_type": "code",
   "execution_count": 41,
   "id": "3b65d81f-3d75-43d1-9e2d-88cef69d110b",
   "metadata": {
    "colab": {
     "base_uri": "https://localhost:8080/",
     "height": 265
    },
    "id": "3b65d81f-3d75-43d1-9e2d-88cef69d110b",
    "outputId": "97e18fb9-4340-478c-e307-82c03282e9cc"
   },
   "outputs": [
    {
     "data": {
      "image/png": "[encoded data removed]",
      "text/plain": [
       "<Figure size 432x288 with 1 Axes>"
      ]
     },
     "metadata": {
      "needs_background": "light"
     },
     "output_type": "display_data"
    }
   ],
   "source": [
    "plt.plot(history.history['loss'][10:])\n",
    "plt.plot(history.history['val_loss'][10:])\n",
    "plt.yscale('log')"
   ]
  },
  {
   "cell_type": "code",
   "execution_count": 42,
   "id": "8a964a60-488a-431e-8bcc-586e90d8956b",
   "metadata": {
    "id": "8a964a60-488a-431e-8bcc-586e90d8956b"
   },
   "outputs": [
    {
     "name": "stdout",
     "output_type": "stream",
     "text": [
      "75/75 [==============================] - 0s 2ms/step\n"
     ]
    }
   ],
   "source": [
    "y_pred = CNN.predict(X_test)"
   ]
  },
  {
   "cell_type": "code",
   "execution_count": 43,
   "id": "d7C0QyTLHO8q",
   "metadata": {
    "colab": {
     "base_uri": "https://localhost:8080/"
    },
    "id": "d7C0QyTLHO8q",
    "outputId": "78587010-2aa8-4cc7-e82f-7c40e11ce705"
   },
   "outputs": [
    {
     "data": {
      "text/plain": [
       "array([[1.62034994e-05, 2.70756689e-04, 9.86508369e-01, 1.32046295e-02,\n",
       "        2.26755614e-09],\n",
       "       [4.89199907e-03, 9.26652908e-01, 6.84408322e-02, 1.04378897e-08,\n",
       "        1.42468843e-05],\n",
       "       [2.64905998e-03, 2.86104704e-08, 1.95435461e-18, 1.09287157e-07,\n",
       "        9.97350812e-01],\n",
       "       ...,\n",
       "       [9.97730672e-01, 2.20130687e-03, 1.72852888e-09, 9.48632950e-10,\n",
       "        6.80040903e-05],\n",
       "       [6.52207388e-03, 9.90144571e-08, 5.72596464e-18, 2.42230726e-07,\n",
       "        9.93477583e-01],\n",
       "       [4.16578026e-03, 8.06478085e-04, 9.78733003e-01, 1.62947644e-02,\n",
       "        2.53033328e-09]], dtype=float32)"
      ]
     },
     "execution_count": 43,
     "metadata": {},
     "output_type": "execute_result"
    }
   ],
   "source": [
    "y_pred"
   ]
  },
  {
   "cell_type": "code",
   "execution_count": 44,
   "id": "1ljWvGo9skgS",
   "metadata": {
    "id": "1ljWvGo9skgS"
   },
   "outputs": [],
   "source": [
    "y_pred= np.argmax(y_pred, axis=1)"
   ]
  },
  {
   "cell_type": "code",
   "execution_count": 45,
   "id": "BIninuG_Hixu",
   "metadata": {
    "colab": {
     "base_uri": "https://localhost:8080/"
    },
    "id": "BIninuG_Hixu",
    "outputId": "8d52a3ce-46d5-41c3-f339-ec8e2feee684"
   },
   "outputs": [
    {
     "data": {
      "text/plain": [
       "array([2, 1, 4, ..., 0, 4, 2])"
      ]
     },
     "execution_count": 45,
     "metadata": {},
     "output_type": "execute_result"
    }
   ],
   "source": [
    "y_pred"
   ]
  },
  {
   "cell_type": "code",
   "execution_count": 46,
   "id": "3NzoyhrD4tO9",
   "metadata": {
    "colab": {
     "base_uri": "https://localhost:8080/"
    },
    "id": "3NzoyhrD4tO9",
    "outputId": "da09ab77-c439-431e-82a8-93fc98f20b49"
   },
   "outputs": [
    {
     "data": {
      "text/plain": [
       "2"
      ]
     },
     "execution_count": 46,
     "metadata": {},
     "output_type": "execute_result"
    }
   ],
   "source": [
    "y_pred[0]"
   ]
  },
  {
   "cell_type": "code",
   "execution_count": 47,
   "id": "48c3e9c7-2bc3-479a-8af1-bf35d87f3e57",
   "metadata": {
    "id": "48c3e9c7-2bc3-479a-8af1-bf35d87f3e57"
   },
   "outputs": [],
   "source": [
    "df = pd.DataFrame({\n",
    "    'y_test': y_test.ravel().astype(int).tolist(),\n",
    "    'y_pred': y_pred.ravel().astype(int).tolist(),\n",
    "})"
   ]
  },
  {
   "cell_type": "code",
   "execution_count": 48,
   "id": "18cfafbe-dafb-4a9e-8873-7f96e71f80b8",
   "metadata": {
    "colab": {
     "base_uri": "https://localhost:8080/",
     "height": 175
    },
    "id": "18cfafbe-dafb-4a9e-8873-7f96e71f80b8",
    "outputId": "aa49cb9d-c88e-437b-9a31-2809577d1da1"
   },
   "outputs": [
    {
     "data": {
      "text/html": [
       "<div>\n",
       "<style scoped>\n",
       "    .dataframe tbody tr th:only-of-type {\n",
       "        vertical-align: middle;\n",
       "    }\n",
       "\n",
       "    .dataframe tbody tr th {\n",
       "        vertical-align: top;\n",
       "    }\n",
       "\n",
       "    .dataframe thead th {\n",
       "        text-align: right;\n",
       "    }\n",
       "</style>\n",
       "<table border=\"1\" class=\"dataframe\">\n",
       "  <thead>\n",
       "    <tr style=\"text-align: right;\">\n",
       "      <th>y_pred</th>\n",
       "      <th>0</th>\n",
       "      <th>1</th>\n",
       "      <th>2</th>\n",
       "      <th>3</th>\n",
       "      <th>4</th>\n",
       "    </tr>\n",
       "    <tr>\n",
       "      <th>y_test</th>\n",
       "      <th></th>\n",
       "      <th></th>\n",
       "      <th></th>\n",
       "      <th></th>\n",
       "      <th></th>\n",
       "    </tr>\n",
       "  </thead>\n",
       "  <tbody>\n",
       "    <tr>\n",
       "      <th>0</th>\n",
       "      <td>380</td>\n",
       "      <td>5</td>\n",
       "      <td>0</td>\n",
       "      <td>57</td>\n",
       "      <td>35</td>\n",
       "    </tr>\n",
       "    <tr>\n",
       "      <th>1</th>\n",
       "      <td>47</td>\n",
       "      <td>327</td>\n",
       "      <td>103</td>\n",
       "      <td>0</td>\n",
       "      <td>0</td>\n",
       "    </tr>\n",
       "    <tr>\n",
       "      <th>2</th>\n",
       "      <td>0</td>\n",
       "      <td>0</td>\n",
       "      <td>470</td>\n",
       "      <td>7</td>\n",
       "      <td>0</td>\n",
       "    </tr>\n",
       "    <tr>\n",
       "      <th>3</th>\n",
       "      <td>0</td>\n",
       "      <td>0</td>\n",
       "      <td>0</td>\n",
       "      <td>477</td>\n",
       "      <td>0</td>\n",
       "    </tr>\n",
       "    <tr>\n",
       "      <th>4</th>\n",
       "      <td>0</td>\n",
       "      <td>0</td>\n",
       "      <td>0</td>\n",
       "      <td>0</td>\n",
       "      <td>477</td>\n",
       "    </tr>\n",
       "  </tbody>\n",
       "</table>\n",
       "</div>"
      ],
      "text/plain": [
       "y_pred    0    1    2    3    4\n",
       "y_test                         \n",
       "0       380    5    0   57   35\n",
       "1        47  327  103    0    0\n",
       "2         0    0  470    7    0\n",
       "3         0    0    0  477    0\n",
       "4         0    0    0    0  477"
      ]
     },
     "execution_count": 48,
     "metadata": {},
     "output_type": "execute_result"
    }
   ],
   "source": [
    "pd.crosstab(df['y_test'], df['y_pred'])"
   ]
  },
  {
   "cell_type": "code",
   "execution_count": 49,
   "id": "e192957b-1b16-47c8-89eb-d6e2fb9bde9f",
   "metadata": {
    "id": "e192957b-1b16-47c8-89eb-d6e2fb9bde9f"
   },
   "outputs": [],
   "source": [
    "# model.save('model.h5')"
   ]
  },
  {
   "cell_type": "code",
   "execution_count": 50,
   "id": "vZD1w6TZwk0e",
   "metadata": {
    "id": "vZD1w6TZwk0e"
   },
   "outputs": [],
   "source": [
    "CNN.save('model_f_s_d_o_90_2.h5')"
   ]
  },
  {
   "cell_type": "code",
   "execution_count": null,
   "id": "f1d824e8",
   "metadata": {},
   "outputs": [],
   "source": []
  }
 ],
 "metadata": {
  "accelerator": "GPU",
  "colab": {
   "provenance": []
  },
  "gpuClass": "standard",
  "kernelspec": {
   "display_name": "Python 3 (ipykernel)",
   "language": "python",
   "name": "python3"
  },
  "language_info": {
   "codemirror_mode": {
    "name": "ipython",
    "version": 3
   },
   "file_extension": ".py",
   "mimetype": "text/x-python",
   "name": "python",
   "nbconvert_exporter": "python",
   "pygments_lexer": "ipython3",
   "version": "3.9.12"
  }
 },
 "nbformat": 4,
 "nbformat_minor": 5
}
